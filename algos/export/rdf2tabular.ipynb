{
 "cells": [
  {
   "cell_type": "code",
   "execution_count": 38,
   "metadata": {},
   "outputs": [],
   "source": [
    "import owlready2 as owl\n",
    "import sys"
   ]
  },
  {
   "cell_type": "code",
   "execution_count": 47,
   "metadata": {},
   "outputs": [
    {
     "name": "stderr",
     "output_type": "stream",
     "text": [
      "no prefLabel, ignoring http://ontology.inrae.fr/ppdo/ontology/principal\n",
      "no prefLabel, ignoring http://ontology.inrae.fr/ppdo/ontology/secondary\n",
      "no prefLabel, ignoring http://ontology.inrae.fr/ppdo/ontology/intermediary\n"
     ]
    }
   ],
   "source": [
    "ppdo = owl.get_ontology(\"/Users/belka/Documents/work/inrae/scripts/alvisBSV/resources/referentiels/ppdo_20210726.rdf\").load()\n",
    "\n",
    "with open('/Users/belka/Documents/work/inrae/scripts/alvisBSV/resources/alvisnlp/tomap/ppdo_20210726.txt', 'w') as f:\n",
    "    for c in ppdo.classes():\n",
    "        for i in c.instances():      \n",
    "            prefs = i.prefLabel\n",
    "            if len(prefs) == 0:\n",
    "                sys.stderr.write('no prefLabel, ignoring %s\\n' % i.iri)\n",
    "                continue\n",
    "            pref = prefs[-1]\n",
    "            print('%s\\t%s\\t%s' % (pref, i.iri, pref), file = f )\n",
    "            for alt in i.altLabel:\n",
    "                if alt.lang == \"fr\":\n",
    "                    print('%s\\t%s\\t%s' % (alt, i.iri, pref), file = f)"
   ]
  },
  {
   "cell_type": "code",
   "execution_count": 48,
   "metadata": {},
   "outputs": [
    {
     "name": "stderr",
     "output_type": "stream",
     "text": [
      "no prefLabel, ignoring http://ontology.inrae.fr/frenchcropusage\n"
     ]
    }
   ],
   "source": [
    "fcu = owl.get_ontology(\"/Users/belka/Documents/work/inrae/scripts/alvisBSV/resources/referentiels/frenchCropUsage_20210525.rdf\").load()\n",
    "\n",
    "with open('/Users/belka/Documents/work/inrae/scripts/alvisBSV/resources/alvisnlp/tomap/frenchCropUsage_20210525.txt', 'w') as f:\n",
    "    for i in fcu.individuals():\n",
    "        prefs = i.prefLabel\n",
    "        if len(prefs) == 0:\n",
    "            sys.stderr.write('no prefLabel, ignoring %s\\n' % i.iri)\n",
    "            continue\n",
    "        pref = prefs[0]\n",
    "        print('%s\\t%s\\t%s' % (pref, i.iri, pref), file = f)\n",
    "        for alt in i.altLabel:\n",
    "            print('%s\\t%s\\t%s' % (alt, i.iri, pref), file = f)"
   ]
  },
  {
   "cell_type": "code",
   "execution_count": null,
   "metadata": {},
   "outputs": [],
   "source": []
  }
 ],
 "metadata": {
  "kernelspec": {
   "display_name": "Python 3",
   "language": "python",
   "name": "python3"
  },
  "language_info": {
   "codemirror_mode": {
    "name": "ipython",
    "version": 3
   },
   "file_extension": ".py",
   "mimetype": "text/x-python",
   "name": "python",
   "nbconvert_exporter": "python",
   "pygments_lexer": "ipython3",
   "version": "3.8.5"
  }
 },
 "nbformat": 4,
 "nbformat_minor": 4
}
