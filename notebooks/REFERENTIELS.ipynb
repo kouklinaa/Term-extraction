{
 "cells": [
  {
   "cell_type": "code",
   "execution_count": 19,
   "metadata": {},
   "outputs": [],
   "source": [
    "import owlready2 as owl\n",
    "import pandas as pd\n",
    "import plotly.express as px"
   ]
  },
  {
   "cell_type": "markdown",
   "metadata": {},
   "source": [
    "# FCU"
   ]
  },
  {
   "cell_type": "code",
   "execution_count": 226,
   "metadata": {},
   "outputs": [
    {
     "name": "stdout",
     "output_type": "stream",
     "text": [
      "Arboriculture_fruitiere_tropicale Cultures_tropicales usages des plantes cultivées\n",
      "Bananiers Cultures_tropicales usages des plantes cultivées\n",
      "Ananas Cultures_tropicales usages des plantes cultivées\n",
      "Cannes_sucres Cultures_tropicales usages des plantes cultivées\n",
      "Christophines Cultures_tropicales usages des plantes cultivées\n",
      "Cultures_vivrieres Cultures_tropicales usages des plantes cultivées\n",
      "Legumes_exotiques Cultures_tropicales usages des plantes cultivées\n",
      "Gombos Cultures_tropicales usages des plantes cultivées\n",
      "Vanilliers Cultures_tropicales usages des plantes cultivées\n",
      "Curcumas Cultures_tropicales usages des plantes cultivées\n",
      "Gingembres Cultures_tropicales usages des plantes cultivées\n",
      "Vetivers Cultures_tropicales usages des plantes cultivées\n",
      "Cardamomes Cultures_tropicales usages des plantes cultivées\n",
      "Arboriculture_fruitiere Cultures_fruitieres usages des plantes cultivées\n",
      "Bananiers Cultures_fruitieres usages des plantes cultivées\n",
      "Petits_fruits Cultures_fruitieres usages des plantes cultivées\n",
      "Ananas Cultures_fruitieres usages des plantes cultivées\n",
      "Arboriculture_fruitiere Arboriculture usages des plantes cultivées\n",
      "Arboriculture_ornementale Arboriculture usages des plantes cultivées\n",
      "Sylviculture Arboriculture usages des plantes cultivées\n",
      "Badianiers_de_Chine Arboriculture usages des plantes cultivées\n",
      "Genets_des_teinturiers Arboriculture usages des plantes cultivées\n",
      "Hamamelis Arboriculture usages des plantes cultivées\n",
      "Sureaux Arboriculture usages des plantes cultivées\n",
      "Arboriculture_ornementale Horticulture_ornementale usages des plantes cultivées\n",
      "Cultures_florales Horticulture_ornementale usages des plantes cultivées\n",
      "Ray_grass_gazon Horticulture_ornementale usages des plantes cultivées\n",
      "Cereales Grandes_cultures usages des plantes cultivées\n",
      "Proteagineux Grandes_cultures usages des plantes cultivées\n",
      "Cultures_industrielles Grandes_cultures usages des plantes cultivées\n",
      "Oleagineux Grandes_cultures usages des plantes cultivées\n",
      "Chanvres Grandes_cultures usages des plantes cultivées\n",
      "Colzas Grandes_cultures usages des plantes cultivées\n",
      "Lins Grandes_cultures usages des plantes cultivées\n",
      "Moutardes Grandes_cultures usages des plantes cultivées\n",
      "Navettes Grandes_cultures usages des plantes cultivées\n",
      "Tournesols Grandes_cultures usages des plantes cultivées\n",
      "Plantes_aromatiques Cultures_aromatiques_medicinales_parfum usages des plantes cultivées\n",
      "Plantes_parfum Cultures_aromatiques_medicinales_parfum usages des plantes cultivées\n",
      "Plantes_medicinales Cultures_aromatiques_medicinales_parfum usages des plantes cultivées\n",
      "Fourrages_annuels Cultures_fourrageres usages des plantes cultivées\n",
      "Racines_turbercules_fourragers Cultures_fourrageres usages des plantes cultivées\n",
      "Prairies Cultures_fourrageres usages des plantes cultivées\n",
      "Radis_fourragers Cultures_fourrageres usages des plantes cultivées\n",
      "Trefles Cultures_fourrageres usages des plantes cultivées\n",
      "Graminees_fourrageres Cultures_fourrageres usages des plantes cultivées\n",
      "Legumineuses_fourrageres Cultures_fourrageres usages des plantes cultivées\n",
      "Jardins Zones_non_agricoles usages des plantes cultivées\n",
      "Cultures_legumieres Cultures_legumieres_champignons usages des plantes cultivées\n",
      "Champignons Cultures_legumieres_champignons usages des plantes cultivées\n",
      "Gels Plantes_non_recoltees usages des plantes cultivées\n",
      "Plantes_de_service Plantes_non_recoltees usages des plantes cultivées\n"
     ]
    },
    {
     "data": {
      "text/plain": [
       "(52, 52, 52)"
      ]
     },
     "execution_count": 226,
     "metadata": {},
     "output_type": "execute_result"
    }
   ],
   "source": [
    "onto = owl.get_ontology('../resources/frenchCropUsage_20210525.rdf').load()\n",
    "top_culture = []\n",
    "parents = []\n",
    "leaves = []\n",
    "counts = []\n",
    "for i in onto.individuals():\n",
    "    if len(i.prefLabel) == 0:\n",
    "        continue\n",
    "    if len(i.narrower)== 0:\n",
    "        continue\n",
    "    #print(i.hasTopConcept)\n",
    "    for culture in i.narrower:\n",
    "        for pref in i.prefLabel:\n",
    "            #print(pref)\n",
    "            if pref == \"usages des plantes cultivées\":\n",
    "                for concept in culture.narrower:\n",
    "                    print(concept.name, culture.name, pref)\n",
    "                    top_culture.append(pref)\n",
    "                    parents.append(culture.name)\n",
    "                    leaves.append(concept.name)\n",
    "                    counts.append(1)\n",
    "\n",
    "#parents = [val for sublist in ancestors for val in sublist]            \n",
    "len(top_culture), len(parents), len(leaves)"
   ]
  },
  {
   "cell_type": "code",
   "execution_count": 229,
   "metadata": {},
   "outputs": [
    {
     "data": {
      "application/vnd.plotly.v1+json": {
       "config": {
        "plotlyServerURL": "https://plotly.com"
       },
       "data": [
        {
         "branchvalues": "total",
         "domain": {
          "x": [
           0,
           1
          ],
          "y": [
           0,
           1
          ]
         },
         "hovertemplate": "labels=%{label}<br>value=%{value}<br>parent=%{parent}<br>id=%{id}<extra></extra>",
         "ids": [
          "usages des plantes cultivées/Cultures_fruitieres/Ananas",
          "usages des plantes cultivées/Cultures_tropicales/Ananas",
          "usages des plantes cultivées/Arboriculture/Arboriculture_fruitiere",
          "usages des plantes cultivées/Cultures_fruitieres/Arboriculture_fruitiere",
          "usages des plantes cultivées/Cultures_tropicales/Arboriculture_fruitiere_tropicale",
          "usages des plantes cultivées/Arboriculture/Arboriculture_ornementale",
          "usages des plantes cultivées/Horticulture_ornementale/Arboriculture_ornementale",
          "usages des plantes cultivées/Arboriculture/Badianiers_de_Chine",
          "usages des plantes cultivées/Cultures_fruitieres/Bananiers",
          "usages des plantes cultivées/Cultures_tropicales/Bananiers",
          "usages des plantes cultivées/Cultures_tropicales/Cannes_sucres",
          "usages des plantes cultivées/Cultures_tropicales/Cardamomes",
          "usages des plantes cultivées/Grandes_cultures/Cereales",
          "usages des plantes cultivées/Cultures_legumieres_champignons/Champignons",
          "usages des plantes cultivées/Grandes_cultures/Chanvres",
          "usages des plantes cultivées/Cultures_tropicales/Christophines",
          "usages des plantes cultivées/Grandes_cultures/Colzas",
          "usages des plantes cultivées/Horticulture_ornementale/Cultures_florales",
          "usages des plantes cultivées/Grandes_cultures/Cultures_industrielles",
          "usages des plantes cultivées/Cultures_legumieres_champignons/Cultures_legumieres",
          "usages des plantes cultivées/Cultures_tropicales/Cultures_vivrieres",
          "usages des plantes cultivées/Cultures_tropicales/Curcumas",
          "usages des plantes cultivées/Cultures_fourrageres/Fourrages_annuels",
          "usages des plantes cultivées/Plantes_non_recoltees/Gels",
          "usages des plantes cultivées/Arboriculture/Genets_des_teinturiers",
          "usages des plantes cultivées/Cultures_tropicales/Gingembres",
          "usages des plantes cultivées/Cultures_tropicales/Gombos",
          "usages des plantes cultivées/Cultures_fourrageres/Graminees_fourrageres",
          "usages des plantes cultivées/Arboriculture/Hamamelis",
          "usages des plantes cultivées/Zones_non_agricoles/Jardins",
          "usages des plantes cultivées/Cultures_tropicales/Legumes_exotiques",
          "usages des plantes cultivées/Cultures_fourrageres/Legumineuses_fourrageres",
          "usages des plantes cultivées/Grandes_cultures/Lins",
          "usages des plantes cultivées/Grandes_cultures/Moutardes",
          "usages des plantes cultivées/Grandes_cultures/Navettes",
          "usages des plantes cultivées/Grandes_cultures/Oleagineux",
          "usages des plantes cultivées/Cultures_fruitieres/Petits_fruits",
          "usages des plantes cultivées/Cultures_aromatiques_medicinales_parfum/Plantes_aromatiques",
          "usages des plantes cultivées/Plantes_non_recoltees/Plantes_de_service",
          "usages des plantes cultivées/Cultures_aromatiques_medicinales_parfum/Plantes_medicinales",
          "usages des plantes cultivées/Cultures_aromatiques_medicinales_parfum/Plantes_parfum",
          "usages des plantes cultivées/Cultures_fourrageres/Prairies",
          "usages des plantes cultivées/Grandes_cultures/Proteagineux",
          "usages des plantes cultivées/Cultures_fourrageres/Racines_turbercules_fourragers",
          "usages des plantes cultivées/Cultures_fourrageres/Radis_fourragers",
          "usages des plantes cultivées/Horticulture_ornementale/Ray_grass_gazon",
          "usages des plantes cultivées/Arboriculture/Sureaux",
          "usages des plantes cultivées/Arboriculture/Sylviculture",
          "usages des plantes cultivées/Grandes_cultures/Tournesols",
          "usages des plantes cultivées/Cultures_fourrageres/Trefles",
          "usages des plantes cultivées/Cultures_tropicales/Vanilliers",
          "usages des plantes cultivées/Cultures_tropicales/Vetivers",
          "usages des plantes cultivées/Arboriculture",
          "usages des plantes cultivées/Cultures_aromatiques_medicinales_parfum",
          "usages des plantes cultivées/Cultures_fourrageres",
          "usages des plantes cultivées/Cultures_fruitieres",
          "usages des plantes cultivées/Cultures_legumieres_champignons",
          "usages des plantes cultivées/Cultures_tropicales",
          "usages des plantes cultivées/Grandes_cultures",
          "usages des plantes cultivées/Horticulture_ornementale",
          "usages des plantes cultivées/Plantes_non_recoltees",
          "usages des plantes cultivées/Zones_non_agricoles",
          "usages des plantes cultivées"
         ],
         "labels": [
          "Ananas",
          "Ananas",
          "Arboriculture_fruitiere",
          "Arboriculture_fruitiere",
          "Arboriculture_fruitiere_tropicale",
          "Arboriculture_ornementale",
          "Arboriculture_ornementale",
          "Badianiers_de_Chine",
          "Bananiers",
          "Bananiers",
          "Cannes_sucres",
          "Cardamomes",
          "Cereales",
          "Champignons",
          "Chanvres",
          "Christophines",
          "Colzas",
          "Cultures_florales",
          "Cultures_industrielles",
          "Cultures_legumieres",
          "Cultures_vivrieres",
          "Curcumas",
          "Fourrages_annuels",
          "Gels",
          "Genets_des_teinturiers",
          "Gingembres",
          "Gombos",
          "Graminees_fourrageres",
          "Hamamelis",
          "Jardins",
          "Legumes_exotiques",
          "Legumineuses_fourrageres",
          "Lins",
          "Moutardes",
          "Navettes",
          "Oleagineux",
          "Petits_fruits",
          "Plantes_aromatiques",
          "Plantes_de_service",
          "Plantes_medicinales",
          "Plantes_parfum",
          "Prairies",
          "Proteagineux",
          "Racines_turbercules_fourragers",
          "Radis_fourragers",
          "Ray_grass_gazon",
          "Sureaux",
          "Sylviculture",
          "Tournesols",
          "Trefles",
          "Vanilliers",
          "Vetivers",
          "Arboriculture",
          "Cultures_aromatiques_medicinales_parfum",
          "Cultures_fourrageres",
          "Cultures_fruitieres",
          "Cultures_legumieres_champignons",
          "Cultures_tropicales",
          "Grandes_cultures",
          "Horticulture_ornementale",
          "Plantes_non_recoltees",
          "Zones_non_agricoles",
          "usages des plantes cultivées"
         ],
         "name": "",
         "parents": [
          "usages des plantes cultivées/Cultures_fruitieres",
          "usages des plantes cultivées/Cultures_tropicales",
          "usages des plantes cultivées/Arboriculture",
          "usages des plantes cultivées/Cultures_fruitieres",
          "usages des plantes cultivées/Cultures_tropicales",
          "usages des plantes cultivées/Arboriculture",
          "usages des plantes cultivées/Horticulture_ornementale",
          "usages des plantes cultivées/Arboriculture",
          "usages des plantes cultivées/Cultures_fruitieres",
          "usages des plantes cultivées/Cultures_tropicales",
          "usages des plantes cultivées/Cultures_tropicales",
          "usages des plantes cultivées/Cultures_tropicales",
          "usages des plantes cultivées/Grandes_cultures",
          "usages des plantes cultivées/Cultures_legumieres_champignons",
          "usages des plantes cultivées/Grandes_cultures",
          "usages des plantes cultivées/Cultures_tropicales",
          "usages des plantes cultivées/Grandes_cultures",
          "usages des plantes cultivées/Horticulture_ornementale",
          "usages des plantes cultivées/Grandes_cultures",
          "usages des plantes cultivées/Cultures_legumieres_champignons",
          "usages des plantes cultivées/Cultures_tropicales",
          "usages des plantes cultivées/Cultures_tropicales",
          "usages des plantes cultivées/Cultures_fourrageres",
          "usages des plantes cultivées/Plantes_non_recoltees",
          "usages des plantes cultivées/Arboriculture",
          "usages des plantes cultivées/Cultures_tropicales",
          "usages des plantes cultivées/Cultures_tropicales",
          "usages des plantes cultivées/Cultures_fourrageres",
          "usages des plantes cultivées/Arboriculture",
          "usages des plantes cultivées/Zones_non_agricoles",
          "usages des plantes cultivées/Cultures_tropicales",
          "usages des plantes cultivées/Cultures_fourrageres",
          "usages des plantes cultivées/Grandes_cultures",
          "usages des plantes cultivées/Grandes_cultures",
          "usages des plantes cultivées/Grandes_cultures",
          "usages des plantes cultivées/Grandes_cultures",
          "usages des plantes cultivées/Cultures_fruitieres",
          "usages des plantes cultivées/Cultures_aromatiques_medicinales_parfum",
          "usages des plantes cultivées/Plantes_non_recoltees",
          "usages des plantes cultivées/Cultures_aromatiques_medicinales_parfum",
          "usages des plantes cultivées/Cultures_aromatiques_medicinales_parfum",
          "usages des plantes cultivées/Cultures_fourrageres",
          "usages des plantes cultivées/Grandes_cultures",
          "usages des plantes cultivées/Cultures_fourrageres",
          "usages des plantes cultivées/Cultures_fourrageres",
          "usages des plantes cultivées/Horticulture_ornementale",
          "usages des plantes cultivées/Arboriculture",
          "usages des plantes cultivées/Arboriculture",
          "usages des plantes cultivées/Grandes_cultures",
          "usages des plantes cultivées/Cultures_fourrageres",
          "usages des plantes cultivées/Cultures_tropicales",
          "usages des plantes cultivées/Cultures_tropicales",
          "usages des plantes cultivées",
          "usages des plantes cultivées",
          "usages des plantes cultivées",
          "usages des plantes cultivées",
          "usages des plantes cultivées",
          "usages des plantes cultivées",
          "usages des plantes cultivées",
          "usages des plantes cultivées",
          "usages des plantes cultivées",
          "usages des plantes cultivées",
          ""
         ],
         "type": "treemap",
         "values": [
          1,
          1,
          1,
          1,
          1,
          1,
          1,
          1,
          1,
          1,
          1,
          1,
          1,
          1,
          1,
          1,
          1,
          1,
          1,
          1,
          1,
          1,
          1,
          1,
          1,
          1,
          1,
          1,
          1,
          1,
          1,
          1,
          1,
          1,
          1,
          1,
          1,
          1,
          1,
          1,
          1,
          1,
          1,
          1,
          1,
          1,
          1,
          1,
          1,
          1,
          1,
          1,
          7,
          3,
          7,
          4,
          2,
          13,
          10,
          3,
          2,
          1,
          52
         ]
        }
       ],
       "layout": {
        "autosize": true,
        "font": {
         "size": 35
        },
        "height": 2500,
        "legend": {
         "tracegroupgap": 0
        },
        "margin": {
         "t": 60
        },
        "showlegend": false,
        "template": {
         "data": {
          "bar": [
           {
            "error_x": {
             "color": "#2a3f5f"
            },
            "error_y": {
             "color": "#2a3f5f"
            },
            "marker": {
             "line": {
              "color": "#E5ECF6",
              "width": 0.5
             }
            },
            "type": "bar"
           }
          ],
          "barpolar": [
           {
            "marker": {
             "line": {
              "color": "#E5ECF6",
              "width": 0.5
             }
            },
            "type": "barpolar"
           }
          ],
          "carpet": [
           {
            "aaxis": {
             "endlinecolor": "#2a3f5f",
             "gridcolor": "white",
             "linecolor": "white",
             "minorgridcolor": "white",
             "startlinecolor": "#2a3f5f"
            },
            "baxis": {
             "endlinecolor": "#2a3f5f",
             "gridcolor": "white",
             "linecolor": "white",
             "minorgridcolor": "white",
             "startlinecolor": "#2a3f5f"
            },
            "type": "carpet"
           }
          ],
          "choropleth": [
           {
            "colorbar": {
             "outlinewidth": 0,
             "ticks": ""
            },
            "type": "choropleth"
           }
          ],
          "contour": [
           {
            "colorbar": {
             "outlinewidth": 0,
             "ticks": ""
            },
            "colorscale": [
             [
              0,
              "#0d0887"
             ],
             [
              0.1111111111111111,
              "#46039f"
             ],
             [
              0.2222222222222222,
              "#7201a8"
             ],
             [
              0.3333333333333333,
              "#9c179e"
             ],
             [
              0.4444444444444444,
              "#bd3786"
             ],
             [
              0.5555555555555556,
              "#d8576b"
             ],
             [
              0.6666666666666666,
              "#ed7953"
             ],
             [
              0.7777777777777778,
              "#fb9f3a"
             ],
             [
              0.8888888888888888,
              "#fdca26"
             ],
             [
              1,
              "#f0f921"
             ]
            ],
            "type": "contour"
           }
          ],
          "contourcarpet": [
           {
            "colorbar": {
             "outlinewidth": 0,
             "ticks": ""
            },
            "type": "contourcarpet"
           }
          ],
          "heatmap": [
           {
            "colorbar": {
             "outlinewidth": 0,
             "ticks": ""
            },
            "colorscale": [
             [
              0,
              "#0d0887"
             ],
             [
              0.1111111111111111,
              "#46039f"
             ],
             [
              0.2222222222222222,
              "#7201a8"
             ],
             [
              0.3333333333333333,
              "#9c179e"
             ],
             [
              0.4444444444444444,
              "#bd3786"
             ],
             [
              0.5555555555555556,
              "#d8576b"
             ],
             [
              0.6666666666666666,
              "#ed7953"
             ],
             [
              0.7777777777777778,
              "#fb9f3a"
             ],
             [
              0.8888888888888888,
              "#fdca26"
             ],
             [
              1,
              "#f0f921"
             ]
            ],
            "type": "heatmap"
           }
          ],
          "heatmapgl": [
           {
            "colorbar": {
             "outlinewidth": 0,
             "ticks": ""
            },
            "colorscale": [
             [
              0,
              "#0d0887"
             ],
             [
              0.1111111111111111,
              "#46039f"
             ],
             [
              0.2222222222222222,
              "#7201a8"
             ],
             [
              0.3333333333333333,
              "#9c179e"
             ],
             [
              0.4444444444444444,
              "#bd3786"
             ],
             [
              0.5555555555555556,
              "#d8576b"
             ],
             [
              0.6666666666666666,
              "#ed7953"
             ],
             [
              0.7777777777777778,
              "#fb9f3a"
             ],
             [
              0.8888888888888888,
              "#fdca26"
             ],
             [
              1,
              "#f0f921"
             ]
            ],
            "type": "heatmapgl"
           }
          ],
          "histogram": [
           {
            "marker": {
             "colorbar": {
              "outlinewidth": 0,
              "ticks": ""
             }
            },
            "type": "histogram"
           }
          ],
          "histogram2d": [
           {
            "colorbar": {
             "outlinewidth": 0,
             "ticks": ""
            },
            "colorscale": [
             [
              0,
              "#0d0887"
             ],
             [
              0.1111111111111111,
              "#46039f"
             ],
             [
              0.2222222222222222,
              "#7201a8"
             ],
             [
              0.3333333333333333,
              "#9c179e"
             ],
             [
              0.4444444444444444,
              "#bd3786"
             ],
             [
              0.5555555555555556,
              "#d8576b"
             ],
             [
              0.6666666666666666,
              "#ed7953"
             ],
             [
              0.7777777777777778,
              "#fb9f3a"
             ],
             [
              0.8888888888888888,
              "#fdca26"
             ],
             [
              1,
              "#f0f921"
             ]
            ],
            "type": "histogram2d"
           }
          ],
          "histogram2dcontour": [
           {
            "colorbar": {
             "outlinewidth": 0,
             "ticks": ""
            },
            "colorscale": [
             [
              0,
              "#0d0887"
             ],
             [
              0.1111111111111111,
              "#46039f"
             ],
             [
              0.2222222222222222,
              "#7201a8"
             ],
             [
              0.3333333333333333,
              "#9c179e"
             ],
             [
              0.4444444444444444,
              "#bd3786"
             ],
             [
              0.5555555555555556,
              "#d8576b"
             ],
             [
              0.6666666666666666,
              "#ed7953"
             ],
             [
              0.7777777777777778,
              "#fb9f3a"
             ],
             [
              0.8888888888888888,
              "#fdca26"
             ],
             [
              1,
              "#f0f921"
             ]
            ],
            "type": "histogram2dcontour"
           }
          ],
          "mesh3d": [
           {
            "colorbar": {
             "outlinewidth": 0,
             "ticks": ""
            },
            "type": "mesh3d"
           }
          ],
          "parcoords": [
           {
            "line": {
             "colorbar": {
              "outlinewidth": 0,
              "ticks": ""
             }
            },
            "type": "parcoords"
           }
          ],
          "pie": [
           {
            "automargin": true,
            "type": "pie"
           }
          ],
          "scatter": [
           {
            "marker": {
             "colorbar": {
              "outlinewidth": 0,
              "ticks": ""
             }
            },
            "type": "scatter"
           }
          ],
          "scatter3d": [
           {
            "line": {
             "colorbar": {
              "outlinewidth": 0,
              "ticks": ""
             }
            },
            "marker": {
             "colorbar": {
              "outlinewidth": 0,
              "ticks": ""
             }
            },
            "type": "scatter3d"
           }
          ],
          "scattercarpet": [
           {
            "marker": {
             "colorbar": {
              "outlinewidth": 0,
              "ticks": ""
             }
            },
            "type": "scattercarpet"
           }
          ],
          "scattergeo": [
           {
            "marker": {
             "colorbar": {
              "outlinewidth": 0,
              "ticks": ""
             }
            },
            "type": "scattergeo"
           }
          ],
          "scattergl": [
           {
            "marker": {
             "colorbar": {
              "outlinewidth": 0,
              "ticks": ""
             }
            },
            "type": "scattergl"
           }
          ],
          "scattermapbox": [
           {
            "marker": {
             "colorbar": {
              "outlinewidth": 0,
              "ticks": ""
             }
            },
            "type": "scattermapbox"
           }
          ],
          "scatterpolar": [
           {
            "marker": {
             "colorbar": {
              "outlinewidth": 0,
              "ticks": ""
             }
            },
            "type": "scatterpolar"
           }
          ],
          "scatterpolargl": [
           {
            "marker": {
             "colorbar": {
              "outlinewidth": 0,
              "ticks": ""
             }
            },
            "type": "scatterpolargl"
           }
          ],
          "scatterternary": [
           {
            "marker": {
             "colorbar": {
              "outlinewidth": 0,
              "ticks": ""
             }
            },
            "type": "scatterternary"
           }
          ],
          "surface": [
           {
            "colorbar": {
             "outlinewidth": 0,
             "ticks": ""
            },
            "colorscale": [
             [
              0,
              "#0d0887"
             ],
             [
              0.1111111111111111,
              "#46039f"
             ],
             [
              0.2222222222222222,
              "#7201a8"
             ],
             [
              0.3333333333333333,
              "#9c179e"
             ],
             [
              0.4444444444444444,
              "#bd3786"
             ],
             [
              0.5555555555555556,
              "#d8576b"
             ],
             [
              0.6666666666666666,
              "#ed7953"
             ],
             [
              0.7777777777777778,
              "#fb9f3a"
             ],
             [
              0.8888888888888888,
              "#fdca26"
             ],
             [
              1,
              "#f0f921"
             ]
            ],
            "type": "surface"
           }
          ],
          "table": [
           {
            "cells": {
             "fill": {
              "color": "#EBF0F8"
             },
             "line": {
              "color": "white"
             }
            },
            "header": {
             "fill": {
              "color": "#C8D4E3"
             },
             "line": {
              "color": "white"
             }
            },
            "type": "table"
           }
          ]
         },
         "layout": {
          "annotationdefaults": {
           "arrowcolor": "#2a3f5f",
           "arrowhead": 0,
           "arrowwidth": 1
          },
          "autotypenumbers": "strict",
          "coloraxis": {
           "colorbar": {
            "outlinewidth": 0,
            "ticks": ""
           }
          },
          "colorscale": {
           "diverging": [
            [
             0,
             "#8e0152"
            ],
            [
             0.1,
             "#c51b7d"
            ],
            [
             0.2,
             "#de77ae"
            ],
            [
             0.3,
             "#f1b6da"
            ],
            [
             0.4,
             "#fde0ef"
            ],
            [
             0.5,
             "#f7f7f7"
            ],
            [
             0.6,
             "#e6f5d0"
            ],
            [
             0.7,
             "#b8e186"
            ],
            [
             0.8,
             "#7fbc41"
            ],
            [
             0.9,
             "#4d9221"
            ],
            [
             1,
             "#276419"
            ]
           ],
           "sequential": [
            [
             0,
             "#0d0887"
            ],
            [
             0.1111111111111111,
             "#46039f"
            ],
            [
             0.2222222222222222,
             "#7201a8"
            ],
            [
             0.3333333333333333,
             "#9c179e"
            ],
            [
             0.4444444444444444,
             "#bd3786"
            ],
            [
             0.5555555555555556,
             "#d8576b"
            ],
            [
             0.6666666666666666,
             "#ed7953"
            ],
            [
             0.7777777777777778,
             "#fb9f3a"
            ],
            [
             0.8888888888888888,
             "#fdca26"
            ],
            [
             1,
             "#f0f921"
            ]
           ],
           "sequentialminus": [
            [
             0,
             "#0d0887"
            ],
            [
             0.1111111111111111,
             "#46039f"
            ],
            [
             0.2222222222222222,
             "#7201a8"
            ],
            [
             0.3333333333333333,
             "#9c179e"
            ],
            [
             0.4444444444444444,
             "#bd3786"
            ],
            [
             0.5555555555555556,
             "#d8576b"
            ],
            [
             0.6666666666666666,
             "#ed7953"
            ],
            [
             0.7777777777777778,
             "#fb9f3a"
            ],
            [
             0.8888888888888888,
             "#fdca26"
            ],
            [
             1,
             "#f0f921"
            ]
           ]
          },
          "colorway": [
           "#636efa",
           "#EF553B",
           "#00cc96",
           "#ab63fa",
           "#FFA15A",
           "#19d3f3",
           "#FF6692",
           "#B6E880",
           "#FF97FF",
           "#FECB52"
          ],
          "font": {
           "color": "#2a3f5f"
          },
          "geo": {
           "bgcolor": "white",
           "lakecolor": "white",
           "landcolor": "#E5ECF6",
           "showlakes": true,
           "showland": true,
           "subunitcolor": "white"
          },
          "hoverlabel": {
           "align": "left"
          },
          "hovermode": "closest",
          "mapbox": {
           "style": "light"
          },
          "paper_bgcolor": "white",
          "plot_bgcolor": "#E5ECF6",
          "polar": {
           "angularaxis": {
            "gridcolor": "white",
            "linecolor": "white",
            "ticks": ""
           },
           "bgcolor": "#E5ECF6",
           "radialaxis": {
            "gridcolor": "white",
            "linecolor": "white",
            "ticks": ""
           }
          },
          "scene": {
           "xaxis": {
            "backgroundcolor": "#E5ECF6",
            "gridcolor": "white",
            "gridwidth": 2,
            "linecolor": "white",
            "showbackground": true,
            "ticks": "",
            "zerolinecolor": "white"
           },
           "yaxis": {
            "backgroundcolor": "#E5ECF6",
            "gridcolor": "white",
            "gridwidth": 2,
            "linecolor": "white",
            "showbackground": true,
            "ticks": "",
            "zerolinecolor": "white"
           },
           "zaxis": {
            "backgroundcolor": "#E5ECF6",
            "gridcolor": "white",
            "gridwidth": 2,
            "linecolor": "white",
            "showbackground": true,
            "ticks": "",
            "zerolinecolor": "white"
           }
          },
          "shapedefaults": {
           "line": {
            "color": "#2a3f5f"
           }
          },
          "ternary": {
           "aaxis": {
            "gridcolor": "white",
            "linecolor": "white",
            "ticks": ""
           },
           "baxis": {
            "gridcolor": "white",
            "linecolor": "white",
            "ticks": ""
           },
           "bgcolor": "#E5ECF6",
           "caxis": {
            "gridcolor": "white",
            "linecolor": "white",
            "ticks": ""
           }
          },
          "title": {
           "x": 0.05
          },
          "xaxis": {
           "automargin": true,
           "gridcolor": "white",
           "linecolor": "white",
           "ticks": "",
           "title": {
            "standoff": 15
           },
           "zerolinecolor": "white",
           "zerolinewidth": 2
          },
          "yaxis": {
           "automargin": true,
           "gridcolor": "white",
           "linecolor": "white",
           "ticks": "",
           "title": {
            "standoff": 15
           },
           "zerolinecolor": "white",
           "zerolinewidth": 2
          }
         }
        },
        "title": {
         "font": {
          "size": 54
         }
        },
        "width": 2500
       }
      },
      "text/html": [
       "<div>                            <div id=\"15b8b8ed-1edc-418c-9674-b9d15477278f\" class=\"plotly-graph-div\" style=\"height:2500px; width:2500px;\"></div>            <script type=\"text/javascript\">                require([\"plotly\"], function(Plotly) {                    window.PLOTLYENV=window.PLOTLYENV || {};                                    if (document.getElementById(\"15b8b8ed-1edc-418c-9674-b9d15477278f\")) {                    Plotly.newPlot(                        \"15b8b8ed-1edc-418c-9674-b9d15477278f\",                        [{\"branchvalues\": \"total\", \"domain\": {\"x\": [0.0, 1.0], \"y\": [0.0, 1.0]}, \"hovertemplate\": \"labels=%{label}<br>value=%{value}<br>parent=%{parent}<br>id=%{id}<extra></extra>\", \"ids\": [\"usages des plantes cultiv\\u00e9es/Cultures_fruitieres/Ananas\", \"usages des plantes cultiv\\u00e9es/Cultures_tropicales/Ananas\", \"usages des plantes cultiv\\u00e9es/Arboriculture/Arboriculture_fruitiere\", \"usages des plantes cultiv\\u00e9es/Cultures_fruitieres/Arboriculture_fruitiere\", \"usages des plantes cultiv\\u00e9es/Cultures_tropicales/Arboriculture_fruitiere_tropicale\", \"usages des plantes cultiv\\u00e9es/Arboriculture/Arboriculture_ornementale\", \"usages des plantes cultiv\\u00e9es/Horticulture_ornementale/Arboriculture_ornementale\", \"usages des plantes cultiv\\u00e9es/Arboriculture/Badianiers_de_Chine\", \"usages des plantes cultiv\\u00e9es/Cultures_fruitieres/Bananiers\", \"usages des plantes cultiv\\u00e9es/Cultures_tropicales/Bananiers\", \"usages des plantes cultiv\\u00e9es/Cultures_tropicales/Cannes_sucres\", \"usages des plantes cultiv\\u00e9es/Cultures_tropicales/Cardamomes\", \"usages des plantes cultiv\\u00e9es/Grandes_cultures/Cereales\", \"usages des plantes cultiv\\u00e9es/Cultures_legumieres_champignons/Champignons\", \"usages des plantes cultiv\\u00e9es/Grandes_cultures/Chanvres\", \"usages des plantes cultiv\\u00e9es/Cultures_tropicales/Christophines\", \"usages des plantes cultiv\\u00e9es/Grandes_cultures/Colzas\", \"usages des plantes cultiv\\u00e9es/Horticulture_ornementale/Cultures_florales\", \"usages des plantes cultiv\\u00e9es/Grandes_cultures/Cultures_industrielles\", \"usages des plantes cultiv\\u00e9es/Cultures_legumieres_champignons/Cultures_legumieres\", \"usages des plantes cultiv\\u00e9es/Cultures_tropicales/Cultures_vivrieres\", \"usages des plantes cultiv\\u00e9es/Cultures_tropicales/Curcumas\", \"usages des plantes cultiv\\u00e9es/Cultures_fourrageres/Fourrages_annuels\", \"usages des plantes cultiv\\u00e9es/Plantes_non_recoltees/Gels\", \"usages des plantes cultiv\\u00e9es/Arboriculture/Genets_des_teinturiers\", \"usages des plantes cultiv\\u00e9es/Cultures_tropicales/Gingembres\", \"usages des plantes cultiv\\u00e9es/Cultures_tropicales/Gombos\", \"usages des plantes cultiv\\u00e9es/Cultures_fourrageres/Graminees_fourrageres\", \"usages des plantes cultiv\\u00e9es/Arboriculture/Hamamelis\", \"usages des plantes cultiv\\u00e9es/Zones_non_agricoles/Jardins\", \"usages des plantes cultiv\\u00e9es/Cultures_tropicales/Legumes_exotiques\", \"usages des plantes cultiv\\u00e9es/Cultures_fourrageres/Legumineuses_fourrageres\", \"usages des plantes cultiv\\u00e9es/Grandes_cultures/Lins\", \"usages des plantes cultiv\\u00e9es/Grandes_cultures/Moutardes\", \"usages des plantes cultiv\\u00e9es/Grandes_cultures/Navettes\", \"usages des plantes cultiv\\u00e9es/Grandes_cultures/Oleagineux\", \"usages des plantes cultiv\\u00e9es/Cultures_fruitieres/Petits_fruits\", \"usages des plantes cultiv\\u00e9es/Cultures_aromatiques_medicinales_parfum/Plantes_aromatiques\", \"usages des plantes cultiv\\u00e9es/Plantes_non_recoltees/Plantes_de_service\", \"usages des plantes cultiv\\u00e9es/Cultures_aromatiques_medicinales_parfum/Plantes_medicinales\", \"usages des plantes cultiv\\u00e9es/Cultures_aromatiques_medicinales_parfum/Plantes_parfum\", \"usages des plantes cultiv\\u00e9es/Cultures_fourrageres/Prairies\", \"usages des plantes cultiv\\u00e9es/Grandes_cultures/Proteagineux\", \"usages des plantes cultiv\\u00e9es/Cultures_fourrageres/Racines_turbercules_fourragers\", \"usages des plantes cultiv\\u00e9es/Cultures_fourrageres/Radis_fourragers\", \"usages des plantes cultiv\\u00e9es/Horticulture_ornementale/Ray_grass_gazon\", \"usages des plantes cultiv\\u00e9es/Arboriculture/Sureaux\", \"usages des plantes cultiv\\u00e9es/Arboriculture/Sylviculture\", \"usages des plantes cultiv\\u00e9es/Grandes_cultures/Tournesols\", \"usages des plantes cultiv\\u00e9es/Cultures_fourrageres/Trefles\", \"usages des plantes cultiv\\u00e9es/Cultures_tropicales/Vanilliers\", \"usages des plantes cultiv\\u00e9es/Cultures_tropicales/Vetivers\", \"usages des plantes cultiv\\u00e9es/Arboriculture\", \"usages des plantes cultiv\\u00e9es/Cultures_aromatiques_medicinales_parfum\", \"usages des plantes cultiv\\u00e9es/Cultures_fourrageres\", \"usages des plantes cultiv\\u00e9es/Cultures_fruitieres\", \"usages des plantes cultiv\\u00e9es/Cultures_legumieres_champignons\", \"usages des plantes cultiv\\u00e9es/Cultures_tropicales\", \"usages des plantes cultiv\\u00e9es/Grandes_cultures\", \"usages des plantes cultiv\\u00e9es/Horticulture_ornementale\", \"usages des plantes cultiv\\u00e9es/Plantes_non_recoltees\", \"usages des plantes cultiv\\u00e9es/Zones_non_agricoles\", \"usages des plantes cultiv\\u00e9es\"], \"labels\": [\"Ananas\", \"Ananas\", \"Arboriculture_fruitiere\", \"Arboriculture_fruitiere\", \"Arboriculture_fruitiere_tropicale\", \"Arboriculture_ornementale\", \"Arboriculture_ornementale\", \"Badianiers_de_Chine\", \"Bananiers\", \"Bananiers\", \"Cannes_sucres\", \"Cardamomes\", \"Cereales\", \"Champignons\", \"Chanvres\", \"Christophines\", \"Colzas\", \"Cultures_florales\", \"Cultures_industrielles\", \"Cultures_legumieres\", \"Cultures_vivrieres\", \"Curcumas\", \"Fourrages_annuels\", \"Gels\", \"Genets_des_teinturiers\", \"Gingembres\", \"Gombos\", \"Graminees_fourrageres\", \"Hamamelis\", \"Jardins\", \"Legumes_exotiques\", \"Legumineuses_fourrageres\", \"Lins\", \"Moutardes\", \"Navettes\", \"Oleagineux\", \"Petits_fruits\", \"Plantes_aromatiques\", \"Plantes_de_service\", \"Plantes_medicinales\", \"Plantes_parfum\", \"Prairies\", \"Proteagineux\", \"Racines_turbercules_fourragers\", \"Radis_fourragers\", \"Ray_grass_gazon\", \"Sureaux\", \"Sylviculture\", \"Tournesols\", \"Trefles\", \"Vanilliers\", \"Vetivers\", \"Arboriculture\", \"Cultures_aromatiques_medicinales_parfum\", \"Cultures_fourrageres\", \"Cultures_fruitieres\", \"Cultures_legumieres_champignons\", \"Cultures_tropicales\", \"Grandes_cultures\", \"Horticulture_ornementale\", \"Plantes_non_recoltees\", \"Zones_non_agricoles\", \"usages des plantes cultiv\\u00e9es\"], \"name\": \"\", \"parents\": [\"usages des plantes cultiv\\u00e9es/Cultures_fruitieres\", \"usages des plantes cultiv\\u00e9es/Cultures_tropicales\", \"usages des plantes cultiv\\u00e9es/Arboriculture\", \"usages des plantes cultiv\\u00e9es/Cultures_fruitieres\", \"usages des plantes cultiv\\u00e9es/Cultures_tropicales\", \"usages des plantes cultiv\\u00e9es/Arboriculture\", \"usages des plantes cultiv\\u00e9es/Horticulture_ornementale\", \"usages des plantes cultiv\\u00e9es/Arboriculture\", \"usages des plantes cultiv\\u00e9es/Cultures_fruitieres\", \"usages des plantes cultiv\\u00e9es/Cultures_tropicales\", \"usages des plantes cultiv\\u00e9es/Cultures_tropicales\", \"usages des plantes cultiv\\u00e9es/Cultures_tropicales\", \"usages des plantes cultiv\\u00e9es/Grandes_cultures\", \"usages des plantes cultiv\\u00e9es/Cultures_legumieres_champignons\", \"usages des plantes cultiv\\u00e9es/Grandes_cultures\", \"usages des plantes cultiv\\u00e9es/Cultures_tropicales\", \"usages des plantes cultiv\\u00e9es/Grandes_cultures\", \"usages des plantes cultiv\\u00e9es/Horticulture_ornementale\", \"usages des plantes cultiv\\u00e9es/Grandes_cultures\", \"usages des plantes cultiv\\u00e9es/Cultures_legumieres_champignons\", \"usages des plantes cultiv\\u00e9es/Cultures_tropicales\", \"usages des plantes cultiv\\u00e9es/Cultures_tropicales\", \"usages des plantes cultiv\\u00e9es/Cultures_fourrageres\", \"usages des plantes cultiv\\u00e9es/Plantes_non_recoltees\", \"usages des plantes cultiv\\u00e9es/Arboriculture\", \"usages des plantes cultiv\\u00e9es/Cultures_tropicales\", \"usages des plantes cultiv\\u00e9es/Cultures_tropicales\", \"usages des plantes cultiv\\u00e9es/Cultures_fourrageres\", \"usages des plantes cultiv\\u00e9es/Arboriculture\", \"usages des plantes cultiv\\u00e9es/Zones_non_agricoles\", \"usages des plantes cultiv\\u00e9es/Cultures_tropicales\", \"usages des plantes cultiv\\u00e9es/Cultures_fourrageres\", \"usages des plantes cultiv\\u00e9es/Grandes_cultures\", \"usages des plantes cultiv\\u00e9es/Grandes_cultures\", \"usages des plantes cultiv\\u00e9es/Grandes_cultures\", \"usages des plantes cultiv\\u00e9es/Grandes_cultures\", \"usages des plantes cultiv\\u00e9es/Cultures_fruitieres\", \"usages des plantes cultiv\\u00e9es/Cultures_aromatiques_medicinales_parfum\", \"usages des plantes cultiv\\u00e9es/Plantes_non_recoltees\", \"usages des plantes cultiv\\u00e9es/Cultures_aromatiques_medicinales_parfum\", \"usages des plantes cultiv\\u00e9es/Cultures_aromatiques_medicinales_parfum\", \"usages des plantes cultiv\\u00e9es/Cultures_fourrageres\", \"usages des plantes cultiv\\u00e9es/Grandes_cultures\", \"usages des plantes cultiv\\u00e9es/Cultures_fourrageres\", \"usages des plantes cultiv\\u00e9es/Cultures_fourrageres\", \"usages des plantes cultiv\\u00e9es/Horticulture_ornementale\", \"usages des plantes cultiv\\u00e9es/Arboriculture\", \"usages des plantes cultiv\\u00e9es/Arboriculture\", \"usages des plantes cultiv\\u00e9es/Grandes_cultures\", \"usages des plantes cultiv\\u00e9es/Cultures_fourrageres\", \"usages des plantes cultiv\\u00e9es/Cultures_tropicales\", \"usages des plantes cultiv\\u00e9es/Cultures_tropicales\", \"usages des plantes cultiv\\u00e9es\", \"usages des plantes cultiv\\u00e9es\", \"usages des plantes cultiv\\u00e9es\", \"usages des plantes cultiv\\u00e9es\", \"usages des plantes cultiv\\u00e9es\", \"usages des plantes cultiv\\u00e9es\", \"usages des plantes cultiv\\u00e9es\", \"usages des plantes cultiv\\u00e9es\", \"usages des plantes cultiv\\u00e9es\", \"usages des plantes cultiv\\u00e9es\", \"\"], \"type\": \"treemap\", \"values\": [1, 1, 1, 1, 1, 1, 1, 1, 1, 1, 1, 1, 1, 1, 1, 1, 1, 1, 1, 1, 1, 1, 1, 1, 1, 1, 1, 1, 1, 1, 1, 1, 1, 1, 1, 1, 1, 1, 1, 1, 1, 1, 1, 1, 1, 1, 1, 1, 1, 1, 1, 1, 7, 3, 7, 4, 2, 13, 10, 3, 2, 1, 52]}],                        {\"autosize\": true, \"font\": {\"size\": 35}, \"height\": 2500, \"legend\": {\"tracegroupgap\": 0}, \"margin\": {\"t\": 60}, \"showlegend\": false, \"template\": {\"data\": {\"bar\": [{\"error_x\": {\"color\": \"#2a3f5f\"}, \"error_y\": {\"color\": \"#2a3f5f\"}, \"marker\": {\"line\": {\"color\": \"#E5ECF6\", \"width\": 0.5}}, \"type\": \"bar\"}], \"barpolar\": [{\"marker\": {\"line\": {\"color\": \"#E5ECF6\", \"width\": 0.5}}, \"type\": \"barpolar\"}], \"carpet\": [{\"aaxis\": {\"endlinecolor\": \"#2a3f5f\", \"gridcolor\": \"white\", \"linecolor\": \"white\", \"minorgridcolor\": \"white\", \"startlinecolor\": \"#2a3f5f\"}, \"baxis\": {\"endlinecolor\": \"#2a3f5f\", \"gridcolor\": \"white\", \"linecolor\": \"white\", \"minorgridcolor\": \"white\", \"startlinecolor\": \"#2a3f5f\"}, \"type\": \"carpet\"}], \"choropleth\": [{\"colorbar\": {\"outlinewidth\": 0, \"ticks\": \"\"}, \"type\": \"choropleth\"}], \"contour\": [{\"colorbar\": {\"outlinewidth\": 0, \"ticks\": \"\"}, \"colorscale\": [[0.0, \"#0d0887\"], [0.1111111111111111, \"#46039f\"], [0.2222222222222222, \"#7201a8\"], [0.3333333333333333, \"#9c179e\"], [0.4444444444444444, \"#bd3786\"], [0.5555555555555556, \"#d8576b\"], [0.6666666666666666, \"#ed7953\"], [0.7777777777777778, \"#fb9f3a\"], [0.8888888888888888, \"#fdca26\"], [1.0, \"#f0f921\"]], \"type\": \"contour\"}], \"contourcarpet\": [{\"colorbar\": {\"outlinewidth\": 0, \"ticks\": \"\"}, \"type\": \"contourcarpet\"}], \"heatmap\": [{\"colorbar\": {\"outlinewidth\": 0, \"ticks\": \"\"}, \"colorscale\": [[0.0, \"#0d0887\"], [0.1111111111111111, \"#46039f\"], [0.2222222222222222, \"#7201a8\"], [0.3333333333333333, \"#9c179e\"], [0.4444444444444444, \"#bd3786\"], [0.5555555555555556, \"#d8576b\"], [0.6666666666666666, \"#ed7953\"], [0.7777777777777778, \"#fb9f3a\"], [0.8888888888888888, \"#fdca26\"], [1.0, \"#f0f921\"]], \"type\": \"heatmap\"}], \"heatmapgl\": [{\"colorbar\": {\"outlinewidth\": 0, \"ticks\": \"\"}, \"colorscale\": [[0.0, \"#0d0887\"], [0.1111111111111111, \"#46039f\"], [0.2222222222222222, \"#7201a8\"], [0.3333333333333333, \"#9c179e\"], [0.4444444444444444, \"#bd3786\"], [0.5555555555555556, \"#d8576b\"], [0.6666666666666666, \"#ed7953\"], [0.7777777777777778, \"#fb9f3a\"], [0.8888888888888888, \"#fdca26\"], [1.0, \"#f0f921\"]], \"type\": \"heatmapgl\"}], \"histogram\": [{\"marker\": {\"colorbar\": {\"outlinewidth\": 0, \"ticks\": \"\"}}, \"type\": \"histogram\"}], \"histogram2d\": [{\"colorbar\": {\"outlinewidth\": 0, \"ticks\": \"\"}, \"colorscale\": [[0.0, \"#0d0887\"], [0.1111111111111111, \"#46039f\"], [0.2222222222222222, \"#7201a8\"], [0.3333333333333333, \"#9c179e\"], [0.4444444444444444, \"#bd3786\"], [0.5555555555555556, \"#d8576b\"], [0.6666666666666666, \"#ed7953\"], [0.7777777777777778, \"#fb9f3a\"], [0.8888888888888888, \"#fdca26\"], [1.0, \"#f0f921\"]], \"type\": \"histogram2d\"}], \"histogram2dcontour\": [{\"colorbar\": {\"outlinewidth\": 0, \"ticks\": \"\"}, \"colorscale\": [[0.0, \"#0d0887\"], [0.1111111111111111, \"#46039f\"], [0.2222222222222222, \"#7201a8\"], [0.3333333333333333, \"#9c179e\"], [0.4444444444444444, \"#bd3786\"], [0.5555555555555556, \"#d8576b\"], [0.6666666666666666, \"#ed7953\"], [0.7777777777777778, \"#fb9f3a\"], [0.8888888888888888, \"#fdca26\"], [1.0, \"#f0f921\"]], \"type\": \"histogram2dcontour\"}], \"mesh3d\": [{\"colorbar\": {\"outlinewidth\": 0, \"ticks\": \"\"}, \"type\": \"mesh3d\"}], \"parcoords\": [{\"line\": {\"colorbar\": {\"outlinewidth\": 0, \"ticks\": \"\"}}, \"type\": \"parcoords\"}], \"pie\": [{\"automargin\": true, \"type\": \"pie\"}], \"scatter\": [{\"marker\": {\"colorbar\": {\"outlinewidth\": 0, \"ticks\": \"\"}}, \"type\": \"scatter\"}], \"scatter3d\": [{\"line\": {\"colorbar\": {\"outlinewidth\": 0, \"ticks\": \"\"}}, \"marker\": {\"colorbar\": {\"outlinewidth\": 0, \"ticks\": \"\"}}, \"type\": \"scatter3d\"}], \"scattercarpet\": [{\"marker\": {\"colorbar\": {\"outlinewidth\": 0, \"ticks\": \"\"}}, \"type\": \"scattercarpet\"}], \"scattergeo\": [{\"marker\": {\"colorbar\": {\"outlinewidth\": 0, \"ticks\": \"\"}}, \"type\": \"scattergeo\"}], \"scattergl\": [{\"marker\": {\"colorbar\": {\"outlinewidth\": 0, \"ticks\": \"\"}}, \"type\": \"scattergl\"}], \"scattermapbox\": [{\"marker\": {\"colorbar\": {\"outlinewidth\": 0, \"ticks\": \"\"}}, \"type\": \"scattermapbox\"}], \"scatterpolar\": [{\"marker\": {\"colorbar\": {\"outlinewidth\": 0, \"ticks\": \"\"}}, \"type\": \"scatterpolar\"}], \"scatterpolargl\": [{\"marker\": {\"colorbar\": {\"outlinewidth\": 0, \"ticks\": \"\"}}, \"type\": \"scatterpolargl\"}], \"scatterternary\": [{\"marker\": {\"colorbar\": {\"outlinewidth\": 0, \"ticks\": \"\"}}, \"type\": \"scatterternary\"}], \"surface\": [{\"colorbar\": {\"outlinewidth\": 0, \"ticks\": \"\"}, \"colorscale\": [[0.0, \"#0d0887\"], [0.1111111111111111, \"#46039f\"], [0.2222222222222222, \"#7201a8\"], [0.3333333333333333, \"#9c179e\"], [0.4444444444444444, \"#bd3786\"], [0.5555555555555556, \"#d8576b\"], [0.6666666666666666, \"#ed7953\"], [0.7777777777777778, \"#fb9f3a\"], [0.8888888888888888, \"#fdca26\"], [1.0, \"#f0f921\"]], \"type\": \"surface\"}], \"table\": [{\"cells\": {\"fill\": {\"color\": \"#EBF0F8\"}, \"line\": {\"color\": \"white\"}}, \"header\": {\"fill\": {\"color\": \"#C8D4E3\"}, \"line\": {\"color\": \"white\"}}, \"type\": \"table\"}]}, \"layout\": {\"annotationdefaults\": {\"arrowcolor\": \"#2a3f5f\", \"arrowhead\": 0, \"arrowwidth\": 1}, \"autotypenumbers\": \"strict\", \"coloraxis\": {\"colorbar\": {\"outlinewidth\": 0, \"ticks\": \"\"}}, \"colorscale\": {\"diverging\": [[0, \"#8e0152\"], [0.1, \"#c51b7d\"], [0.2, \"#de77ae\"], [0.3, \"#f1b6da\"], [0.4, \"#fde0ef\"], [0.5, \"#f7f7f7\"], [0.6, \"#e6f5d0\"], [0.7, \"#b8e186\"], [0.8, \"#7fbc41\"], [0.9, \"#4d9221\"], [1, \"#276419\"]], \"sequential\": [[0.0, \"#0d0887\"], [0.1111111111111111, \"#46039f\"], [0.2222222222222222, \"#7201a8\"], [0.3333333333333333, \"#9c179e\"], [0.4444444444444444, \"#bd3786\"], [0.5555555555555556, \"#d8576b\"], [0.6666666666666666, \"#ed7953\"], [0.7777777777777778, \"#fb9f3a\"], [0.8888888888888888, \"#fdca26\"], [1.0, \"#f0f921\"]], \"sequentialminus\": [[0.0, \"#0d0887\"], [0.1111111111111111, \"#46039f\"], [0.2222222222222222, \"#7201a8\"], [0.3333333333333333, \"#9c179e\"], [0.4444444444444444, \"#bd3786\"], [0.5555555555555556, \"#d8576b\"], [0.6666666666666666, \"#ed7953\"], [0.7777777777777778, \"#fb9f3a\"], [0.8888888888888888, \"#fdca26\"], [1.0, \"#f0f921\"]]}, \"colorway\": [\"#636efa\", \"#EF553B\", \"#00cc96\", \"#ab63fa\", \"#FFA15A\", \"#19d3f3\", \"#FF6692\", \"#B6E880\", \"#FF97FF\", \"#FECB52\"], \"font\": {\"color\": \"#2a3f5f\"}, \"geo\": {\"bgcolor\": \"white\", \"lakecolor\": \"white\", \"landcolor\": \"#E5ECF6\", \"showlakes\": true, \"showland\": true, \"subunitcolor\": \"white\"}, \"hoverlabel\": {\"align\": \"left\"}, \"hovermode\": \"closest\", \"mapbox\": {\"style\": \"light\"}, \"paper_bgcolor\": \"white\", \"plot_bgcolor\": \"#E5ECF6\", \"polar\": {\"angularaxis\": {\"gridcolor\": \"white\", \"linecolor\": \"white\", \"ticks\": \"\"}, \"bgcolor\": \"#E5ECF6\", \"radialaxis\": {\"gridcolor\": \"white\", \"linecolor\": \"white\", \"ticks\": \"\"}}, \"scene\": {\"xaxis\": {\"backgroundcolor\": \"#E5ECF6\", \"gridcolor\": \"white\", \"gridwidth\": 2, \"linecolor\": \"white\", \"showbackground\": true, \"ticks\": \"\", \"zerolinecolor\": \"white\"}, \"yaxis\": {\"backgroundcolor\": \"#E5ECF6\", \"gridcolor\": \"white\", \"gridwidth\": 2, \"linecolor\": \"white\", \"showbackground\": true, \"ticks\": \"\", \"zerolinecolor\": \"white\"}, \"zaxis\": {\"backgroundcolor\": \"#E5ECF6\", \"gridcolor\": \"white\", \"gridwidth\": 2, \"linecolor\": \"white\", \"showbackground\": true, \"ticks\": \"\", \"zerolinecolor\": \"white\"}}, \"shapedefaults\": {\"line\": {\"color\": \"#2a3f5f\"}}, \"ternary\": {\"aaxis\": {\"gridcolor\": \"white\", \"linecolor\": \"white\", \"ticks\": \"\"}, \"baxis\": {\"gridcolor\": \"white\", \"linecolor\": \"white\", \"ticks\": \"\"}, \"bgcolor\": \"#E5ECF6\", \"caxis\": {\"gridcolor\": \"white\", \"linecolor\": \"white\", \"ticks\": \"\"}}, \"title\": {\"x\": 0.05}, \"xaxis\": {\"automargin\": true, \"gridcolor\": \"white\", \"linecolor\": \"white\", \"ticks\": \"\", \"title\": {\"standoff\": 15}, \"zerolinecolor\": \"white\", \"zerolinewidth\": 2}, \"yaxis\": {\"automargin\": true, \"gridcolor\": \"white\", \"linecolor\": \"white\", \"ticks\": \"\", \"title\": {\"standoff\": 15}, \"zerolinecolor\": \"white\", \"zerolinewidth\": 2}}}, \"title\": {\"font\": {\"size\": 54}}, \"width\": 2500},                        {\"responsive\": true}                    ).then(function(){\n",
       "                            \n",
       "var gd = document.getElementById('15b8b8ed-1edc-418c-9674-b9d15477278f');\n",
       "var x = new MutationObserver(function (mutations, observer) {{\n",
       "        var display = window.getComputedStyle(gd).display;\n",
       "        if (!display || display === 'none') {{\n",
       "            console.log([gd, 'removed!']);\n",
       "            Plotly.purge(gd);\n",
       "            observer.disconnect();\n",
       "        }}\n",
       "}});\n",
       "\n",
       "// Listen for the removal of the full notebook cells\n",
       "var notebookContainer = gd.closest('#notebook-container');\n",
       "if (notebookContainer) {{\n",
       "    x.observe(notebookContainer, {childList: true});\n",
       "}}\n",
       "\n",
       "// Listen for the clearing of the current output cell\n",
       "var outputEl = gd.closest('.output');\n",
       "if (outputEl) {{\n",
       "    x.observe(outputEl, {childList: true});\n",
       "}}\n",
       "\n",
       "                        })                };                });            </script>        </div>"
      ]
     },
     "metadata": {},
     "output_type": "display_data"
    }
   ],
   "source": [
    "data = pd.DataFrame(dict(\n",
    "    concept=leaves,\n",
    "    parent=parents,\n",
    "    top = top_culture,\n",
    "    value=counts))\n",
    "\n",
    "fig = px.treemap(data, path=['top','parent', 'concept'], values='value')\n",
    "fig.update_layout(\n",
    "    title_font_size=54,\n",
    "    showlegend=False,\n",
    "    font_size=35,\n",
    "    width=2500, height=2500,\n",
    "    autosize=True)\n",
    "fig.show()"
   ]
  },
  {
   "cell_type": "code",
   "execution_count": 230,
   "metadata": {},
   "outputs": [
    {
     "data": {
      "application/vnd.plotly.v1+json": {
       "config": {
        "plotlyServerURL": "https://plotly.com"
       },
       "data": [
        {
         "branchvalues": "total",
         "domain": {
          "x": [
           0,
           1
          ],
          "y": [
           0,
           1
          ]
         },
         "hovertemplate": "labels=%{label}<br>value=%{value}<br>parent=%{parent}<br>id=%{id}<extra></extra>",
         "ids": [
          "usages des plantes cultivées/Cultures_fruitieres/Ananas",
          "usages des plantes cultivées/Cultures_tropicales/Ananas",
          "usages des plantes cultivées/Arboriculture/Arboriculture_fruitiere",
          "usages des plantes cultivées/Cultures_fruitieres/Arboriculture_fruitiere",
          "usages des plantes cultivées/Cultures_tropicales/Arboriculture_fruitiere_tropicale",
          "usages des plantes cultivées/Arboriculture/Arboriculture_ornementale",
          "usages des plantes cultivées/Horticulture_ornementale/Arboriculture_ornementale",
          "usages des plantes cultivées/Arboriculture/Badianiers_de_Chine",
          "usages des plantes cultivées/Cultures_fruitieres/Bananiers",
          "usages des plantes cultivées/Cultures_tropicales/Bananiers",
          "usages des plantes cultivées/Cultures_tropicales/Cannes_sucres",
          "usages des plantes cultivées/Cultures_tropicales/Cardamomes",
          "usages des plantes cultivées/Grandes_cultures/Cereales",
          "usages des plantes cultivées/Cultures_legumieres_champignons/Champignons",
          "usages des plantes cultivées/Grandes_cultures/Chanvres",
          "usages des plantes cultivées/Cultures_tropicales/Christophines",
          "usages des plantes cultivées/Grandes_cultures/Colzas",
          "usages des plantes cultivées/Horticulture_ornementale/Cultures_florales",
          "usages des plantes cultivées/Grandes_cultures/Cultures_industrielles",
          "usages des plantes cultivées/Cultures_legumieres_champignons/Cultures_legumieres",
          "usages des plantes cultivées/Cultures_tropicales/Cultures_vivrieres",
          "usages des plantes cultivées/Cultures_tropicales/Curcumas",
          "usages des plantes cultivées/Cultures_fourrageres/Fourrages_annuels",
          "usages des plantes cultivées/Plantes_non_recoltees/Gels",
          "usages des plantes cultivées/Arboriculture/Genets_des_teinturiers",
          "usages des plantes cultivées/Cultures_tropicales/Gingembres",
          "usages des plantes cultivées/Cultures_tropicales/Gombos",
          "usages des plantes cultivées/Cultures_fourrageres/Graminees_fourrageres",
          "usages des plantes cultivées/Arboriculture/Hamamelis",
          "usages des plantes cultivées/Zones_non_agricoles/Jardins",
          "usages des plantes cultivées/Cultures_tropicales/Legumes_exotiques",
          "usages des plantes cultivées/Cultures_fourrageres/Legumineuses_fourrageres",
          "usages des plantes cultivées/Grandes_cultures/Lins",
          "usages des plantes cultivées/Grandes_cultures/Moutardes",
          "usages des plantes cultivées/Grandes_cultures/Navettes",
          "usages des plantes cultivées/Grandes_cultures/Oleagineux",
          "usages des plantes cultivées/Cultures_fruitieres/Petits_fruits",
          "usages des plantes cultivées/Cultures_aromatiques_medicinales_parfum/Plantes_aromatiques",
          "usages des plantes cultivées/Plantes_non_recoltees/Plantes_de_service",
          "usages des plantes cultivées/Cultures_aromatiques_medicinales_parfum/Plantes_medicinales",
          "usages des plantes cultivées/Cultures_aromatiques_medicinales_parfum/Plantes_parfum",
          "usages des plantes cultivées/Cultures_fourrageres/Prairies",
          "usages des plantes cultivées/Grandes_cultures/Proteagineux",
          "usages des plantes cultivées/Cultures_fourrageres/Racines_turbercules_fourragers",
          "usages des plantes cultivées/Cultures_fourrageres/Radis_fourragers",
          "usages des plantes cultivées/Horticulture_ornementale/Ray_grass_gazon",
          "usages des plantes cultivées/Arboriculture/Sureaux",
          "usages des plantes cultivées/Arboriculture/Sylviculture",
          "usages des plantes cultivées/Grandes_cultures/Tournesols",
          "usages des plantes cultivées/Cultures_fourrageres/Trefles",
          "usages des plantes cultivées/Cultures_tropicales/Vanilliers",
          "usages des plantes cultivées/Cultures_tropicales/Vetivers",
          "usages des plantes cultivées/Arboriculture",
          "usages des plantes cultivées/Cultures_aromatiques_medicinales_parfum",
          "usages des plantes cultivées/Cultures_fourrageres",
          "usages des plantes cultivées/Cultures_fruitieres",
          "usages des plantes cultivées/Cultures_legumieres_champignons",
          "usages des plantes cultivées/Cultures_tropicales",
          "usages des plantes cultivées/Grandes_cultures",
          "usages des plantes cultivées/Horticulture_ornementale",
          "usages des plantes cultivées/Plantes_non_recoltees",
          "usages des plantes cultivées/Zones_non_agricoles",
          "usages des plantes cultivées"
         ],
         "labels": [
          "Ananas",
          "Ananas",
          "Arboriculture_fruitiere",
          "Arboriculture_fruitiere",
          "Arboriculture_fruitiere_tropicale",
          "Arboriculture_ornementale",
          "Arboriculture_ornementale",
          "Badianiers_de_Chine",
          "Bananiers",
          "Bananiers",
          "Cannes_sucres",
          "Cardamomes",
          "Cereales",
          "Champignons",
          "Chanvres",
          "Christophines",
          "Colzas",
          "Cultures_florales",
          "Cultures_industrielles",
          "Cultures_legumieres",
          "Cultures_vivrieres",
          "Curcumas",
          "Fourrages_annuels",
          "Gels",
          "Genets_des_teinturiers",
          "Gingembres",
          "Gombos",
          "Graminees_fourrageres",
          "Hamamelis",
          "Jardins",
          "Legumes_exotiques",
          "Legumineuses_fourrageres",
          "Lins",
          "Moutardes",
          "Navettes",
          "Oleagineux",
          "Petits_fruits",
          "Plantes_aromatiques",
          "Plantes_de_service",
          "Plantes_medicinales",
          "Plantes_parfum",
          "Prairies",
          "Proteagineux",
          "Racines_turbercules_fourragers",
          "Radis_fourragers",
          "Ray_grass_gazon",
          "Sureaux",
          "Sylviculture",
          "Tournesols",
          "Trefles",
          "Vanilliers",
          "Vetivers",
          "Arboriculture",
          "Cultures_aromatiques_medicinales_parfum",
          "Cultures_fourrageres",
          "Cultures_fruitieres",
          "Cultures_legumieres_champignons",
          "Cultures_tropicales",
          "Grandes_cultures",
          "Horticulture_ornementale",
          "Plantes_non_recoltees",
          "Zones_non_agricoles",
          "usages des plantes cultivées"
         ],
         "name": "",
         "parents": [
          "usages des plantes cultivées/Cultures_fruitieres",
          "usages des plantes cultivées/Cultures_tropicales",
          "usages des plantes cultivées/Arboriculture",
          "usages des plantes cultivées/Cultures_fruitieres",
          "usages des plantes cultivées/Cultures_tropicales",
          "usages des plantes cultivées/Arboriculture",
          "usages des plantes cultivées/Horticulture_ornementale",
          "usages des plantes cultivées/Arboriculture",
          "usages des plantes cultivées/Cultures_fruitieres",
          "usages des plantes cultivées/Cultures_tropicales",
          "usages des plantes cultivées/Cultures_tropicales",
          "usages des plantes cultivées/Cultures_tropicales",
          "usages des plantes cultivées/Grandes_cultures",
          "usages des plantes cultivées/Cultures_legumieres_champignons",
          "usages des plantes cultivées/Grandes_cultures",
          "usages des plantes cultivées/Cultures_tropicales",
          "usages des plantes cultivées/Grandes_cultures",
          "usages des plantes cultivées/Horticulture_ornementale",
          "usages des plantes cultivées/Grandes_cultures",
          "usages des plantes cultivées/Cultures_legumieres_champignons",
          "usages des plantes cultivées/Cultures_tropicales",
          "usages des plantes cultivées/Cultures_tropicales",
          "usages des plantes cultivées/Cultures_fourrageres",
          "usages des plantes cultivées/Plantes_non_recoltees",
          "usages des plantes cultivées/Arboriculture",
          "usages des plantes cultivées/Cultures_tropicales",
          "usages des plantes cultivées/Cultures_tropicales",
          "usages des plantes cultivées/Cultures_fourrageres",
          "usages des plantes cultivées/Arboriculture",
          "usages des plantes cultivées/Zones_non_agricoles",
          "usages des plantes cultivées/Cultures_tropicales",
          "usages des plantes cultivées/Cultures_fourrageres",
          "usages des plantes cultivées/Grandes_cultures",
          "usages des plantes cultivées/Grandes_cultures",
          "usages des plantes cultivées/Grandes_cultures",
          "usages des plantes cultivées/Grandes_cultures",
          "usages des plantes cultivées/Cultures_fruitieres",
          "usages des plantes cultivées/Cultures_aromatiques_medicinales_parfum",
          "usages des plantes cultivées/Plantes_non_recoltees",
          "usages des plantes cultivées/Cultures_aromatiques_medicinales_parfum",
          "usages des plantes cultivées/Cultures_aromatiques_medicinales_parfum",
          "usages des plantes cultivées/Cultures_fourrageres",
          "usages des plantes cultivées/Grandes_cultures",
          "usages des plantes cultivées/Cultures_fourrageres",
          "usages des plantes cultivées/Cultures_fourrageres",
          "usages des plantes cultivées/Horticulture_ornementale",
          "usages des plantes cultivées/Arboriculture",
          "usages des plantes cultivées/Arboriculture",
          "usages des plantes cultivées/Grandes_cultures",
          "usages des plantes cultivées/Cultures_fourrageres",
          "usages des plantes cultivées/Cultures_tropicales",
          "usages des plantes cultivées/Cultures_tropicales",
          "usages des plantes cultivées",
          "usages des plantes cultivées",
          "usages des plantes cultivées",
          "usages des plantes cultivées",
          "usages des plantes cultivées",
          "usages des plantes cultivées",
          "usages des plantes cultivées",
          "usages des plantes cultivées",
          "usages des plantes cultivées",
          "usages des plantes cultivées",
          ""
         ],
         "type": "sunburst",
         "values": [
          1,
          1,
          1,
          1,
          1,
          1,
          1,
          1,
          1,
          1,
          1,
          1,
          1,
          1,
          1,
          1,
          1,
          1,
          1,
          1,
          1,
          1,
          1,
          1,
          1,
          1,
          1,
          1,
          1,
          1,
          1,
          1,
          1,
          1,
          1,
          1,
          1,
          1,
          1,
          1,
          1,
          1,
          1,
          1,
          1,
          1,
          1,
          1,
          1,
          1,
          1,
          1,
          7,
          3,
          7,
          4,
          2,
          13,
          10,
          3,
          2,
          1,
          52
         ]
        }
       ],
       "layout": {
        "autosize": true,
        "font": {
         "size": 15
        },
        "height": 1500,
        "legend": {
         "tracegroupgap": 0
        },
        "margin": {
         "t": 60
        },
        "showlegend": false,
        "template": {
         "data": {
          "bar": [
           {
            "error_x": {
             "color": "#2a3f5f"
            },
            "error_y": {
             "color": "#2a3f5f"
            },
            "marker": {
             "line": {
              "color": "#E5ECF6",
              "width": 0.5
             }
            },
            "type": "bar"
           }
          ],
          "barpolar": [
           {
            "marker": {
             "line": {
              "color": "#E5ECF6",
              "width": 0.5
             }
            },
            "type": "barpolar"
           }
          ],
          "carpet": [
           {
            "aaxis": {
             "endlinecolor": "#2a3f5f",
             "gridcolor": "white",
             "linecolor": "white",
             "minorgridcolor": "white",
             "startlinecolor": "#2a3f5f"
            },
            "baxis": {
             "endlinecolor": "#2a3f5f",
             "gridcolor": "white",
             "linecolor": "white",
             "minorgridcolor": "white",
             "startlinecolor": "#2a3f5f"
            },
            "type": "carpet"
           }
          ],
          "choropleth": [
           {
            "colorbar": {
             "outlinewidth": 0,
             "ticks": ""
            },
            "type": "choropleth"
           }
          ],
          "contour": [
           {
            "colorbar": {
             "outlinewidth": 0,
             "ticks": ""
            },
            "colorscale": [
             [
              0,
              "#0d0887"
             ],
             [
              0.1111111111111111,
              "#46039f"
             ],
             [
              0.2222222222222222,
              "#7201a8"
             ],
             [
              0.3333333333333333,
              "#9c179e"
             ],
             [
              0.4444444444444444,
              "#bd3786"
             ],
             [
              0.5555555555555556,
              "#d8576b"
             ],
             [
              0.6666666666666666,
              "#ed7953"
             ],
             [
              0.7777777777777778,
              "#fb9f3a"
             ],
             [
              0.8888888888888888,
              "#fdca26"
             ],
             [
              1,
              "#f0f921"
             ]
            ],
            "type": "contour"
           }
          ],
          "contourcarpet": [
           {
            "colorbar": {
             "outlinewidth": 0,
             "ticks": ""
            },
            "type": "contourcarpet"
           }
          ],
          "heatmap": [
           {
            "colorbar": {
             "outlinewidth": 0,
             "ticks": ""
            },
            "colorscale": [
             [
              0,
              "#0d0887"
             ],
             [
              0.1111111111111111,
              "#46039f"
             ],
             [
              0.2222222222222222,
              "#7201a8"
             ],
             [
              0.3333333333333333,
              "#9c179e"
             ],
             [
              0.4444444444444444,
              "#bd3786"
             ],
             [
              0.5555555555555556,
              "#d8576b"
             ],
             [
              0.6666666666666666,
              "#ed7953"
             ],
             [
              0.7777777777777778,
              "#fb9f3a"
             ],
             [
              0.8888888888888888,
              "#fdca26"
             ],
             [
              1,
              "#f0f921"
             ]
            ],
            "type": "heatmap"
           }
          ],
          "heatmapgl": [
           {
            "colorbar": {
             "outlinewidth": 0,
             "ticks": ""
            },
            "colorscale": [
             [
              0,
              "#0d0887"
             ],
             [
              0.1111111111111111,
              "#46039f"
             ],
             [
              0.2222222222222222,
              "#7201a8"
             ],
             [
              0.3333333333333333,
              "#9c179e"
             ],
             [
              0.4444444444444444,
              "#bd3786"
             ],
             [
              0.5555555555555556,
              "#d8576b"
             ],
             [
              0.6666666666666666,
              "#ed7953"
             ],
             [
              0.7777777777777778,
              "#fb9f3a"
             ],
             [
              0.8888888888888888,
              "#fdca26"
             ],
             [
              1,
              "#f0f921"
             ]
            ],
            "type": "heatmapgl"
           }
          ],
          "histogram": [
           {
            "marker": {
             "colorbar": {
              "outlinewidth": 0,
              "ticks": ""
             }
            },
            "type": "histogram"
           }
          ],
          "histogram2d": [
           {
            "colorbar": {
             "outlinewidth": 0,
             "ticks": ""
            },
            "colorscale": [
             [
              0,
              "#0d0887"
             ],
             [
              0.1111111111111111,
              "#46039f"
             ],
             [
              0.2222222222222222,
              "#7201a8"
             ],
             [
              0.3333333333333333,
              "#9c179e"
             ],
             [
              0.4444444444444444,
              "#bd3786"
             ],
             [
              0.5555555555555556,
              "#d8576b"
             ],
             [
              0.6666666666666666,
              "#ed7953"
             ],
             [
              0.7777777777777778,
              "#fb9f3a"
             ],
             [
              0.8888888888888888,
              "#fdca26"
             ],
             [
              1,
              "#f0f921"
             ]
            ],
            "type": "histogram2d"
           }
          ],
          "histogram2dcontour": [
           {
            "colorbar": {
             "outlinewidth": 0,
             "ticks": ""
            },
            "colorscale": [
             [
              0,
              "#0d0887"
             ],
             [
              0.1111111111111111,
              "#46039f"
             ],
             [
              0.2222222222222222,
              "#7201a8"
             ],
             [
              0.3333333333333333,
              "#9c179e"
             ],
             [
              0.4444444444444444,
              "#bd3786"
             ],
             [
              0.5555555555555556,
              "#d8576b"
             ],
             [
              0.6666666666666666,
              "#ed7953"
             ],
             [
              0.7777777777777778,
              "#fb9f3a"
             ],
             [
              0.8888888888888888,
              "#fdca26"
             ],
             [
              1,
              "#f0f921"
             ]
            ],
            "type": "histogram2dcontour"
           }
          ],
          "mesh3d": [
           {
            "colorbar": {
             "outlinewidth": 0,
             "ticks": ""
            },
            "type": "mesh3d"
           }
          ],
          "parcoords": [
           {
            "line": {
             "colorbar": {
              "outlinewidth": 0,
              "ticks": ""
             }
            },
            "type": "parcoords"
           }
          ],
          "pie": [
           {
            "automargin": true,
            "type": "pie"
           }
          ],
          "scatter": [
           {
            "marker": {
             "colorbar": {
              "outlinewidth": 0,
              "ticks": ""
             }
            },
            "type": "scatter"
           }
          ],
          "scatter3d": [
           {
            "line": {
             "colorbar": {
              "outlinewidth": 0,
              "ticks": ""
             }
            },
            "marker": {
             "colorbar": {
              "outlinewidth": 0,
              "ticks": ""
             }
            },
            "type": "scatter3d"
           }
          ],
          "scattercarpet": [
           {
            "marker": {
             "colorbar": {
              "outlinewidth": 0,
              "ticks": ""
             }
            },
            "type": "scattercarpet"
           }
          ],
          "scattergeo": [
           {
            "marker": {
             "colorbar": {
              "outlinewidth": 0,
              "ticks": ""
             }
            },
            "type": "scattergeo"
           }
          ],
          "scattergl": [
           {
            "marker": {
             "colorbar": {
              "outlinewidth": 0,
              "ticks": ""
             }
            },
            "type": "scattergl"
           }
          ],
          "scattermapbox": [
           {
            "marker": {
             "colorbar": {
              "outlinewidth": 0,
              "ticks": ""
             }
            },
            "type": "scattermapbox"
           }
          ],
          "scatterpolar": [
           {
            "marker": {
             "colorbar": {
              "outlinewidth": 0,
              "ticks": ""
             }
            },
            "type": "scatterpolar"
           }
          ],
          "scatterpolargl": [
           {
            "marker": {
             "colorbar": {
              "outlinewidth": 0,
              "ticks": ""
             }
            },
            "type": "scatterpolargl"
           }
          ],
          "scatterternary": [
           {
            "marker": {
             "colorbar": {
              "outlinewidth": 0,
              "ticks": ""
             }
            },
            "type": "scatterternary"
           }
          ],
          "surface": [
           {
            "colorbar": {
             "outlinewidth": 0,
             "ticks": ""
            },
            "colorscale": [
             [
              0,
              "#0d0887"
             ],
             [
              0.1111111111111111,
              "#46039f"
             ],
             [
              0.2222222222222222,
              "#7201a8"
             ],
             [
              0.3333333333333333,
              "#9c179e"
             ],
             [
              0.4444444444444444,
              "#bd3786"
             ],
             [
              0.5555555555555556,
              "#d8576b"
             ],
             [
              0.6666666666666666,
              "#ed7953"
             ],
             [
              0.7777777777777778,
              "#fb9f3a"
             ],
             [
              0.8888888888888888,
              "#fdca26"
             ],
             [
              1,
              "#f0f921"
             ]
            ],
            "type": "surface"
           }
          ],
          "table": [
           {
            "cells": {
             "fill": {
              "color": "#EBF0F8"
             },
             "line": {
              "color": "white"
             }
            },
            "header": {
             "fill": {
              "color": "#C8D4E3"
             },
             "line": {
              "color": "white"
             }
            },
            "type": "table"
           }
          ]
         },
         "layout": {
          "annotationdefaults": {
           "arrowcolor": "#2a3f5f",
           "arrowhead": 0,
           "arrowwidth": 1
          },
          "autotypenumbers": "strict",
          "coloraxis": {
           "colorbar": {
            "outlinewidth": 0,
            "ticks": ""
           }
          },
          "colorscale": {
           "diverging": [
            [
             0,
             "#8e0152"
            ],
            [
             0.1,
             "#c51b7d"
            ],
            [
             0.2,
             "#de77ae"
            ],
            [
             0.3,
             "#f1b6da"
            ],
            [
             0.4,
             "#fde0ef"
            ],
            [
             0.5,
             "#f7f7f7"
            ],
            [
             0.6,
             "#e6f5d0"
            ],
            [
             0.7,
             "#b8e186"
            ],
            [
             0.8,
             "#7fbc41"
            ],
            [
             0.9,
             "#4d9221"
            ],
            [
             1,
             "#276419"
            ]
           ],
           "sequential": [
            [
             0,
             "#0d0887"
            ],
            [
             0.1111111111111111,
             "#46039f"
            ],
            [
             0.2222222222222222,
             "#7201a8"
            ],
            [
             0.3333333333333333,
             "#9c179e"
            ],
            [
             0.4444444444444444,
             "#bd3786"
            ],
            [
             0.5555555555555556,
             "#d8576b"
            ],
            [
             0.6666666666666666,
             "#ed7953"
            ],
            [
             0.7777777777777778,
             "#fb9f3a"
            ],
            [
             0.8888888888888888,
             "#fdca26"
            ],
            [
             1,
             "#f0f921"
            ]
           ],
           "sequentialminus": [
            [
             0,
             "#0d0887"
            ],
            [
             0.1111111111111111,
             "#46039f"
            ],
            [
             0.2222222222222222,
             "#7201a8"
            ],
            [
             0.3333333333333333,
             "#9c179e"
            ],
            [
             0.4444444444444444,
             "#bd3786"
            ],
            [
             0.5555555555555556,
             "#d8576b"
            ],
            [
             0.6666666666666666,
             "#ed7953"
            ],
            [
             0.7777777777777778,
             "#fb9f3a"
            ],
            [
             0.8888888888888888,
             "#fdca26"
            ],
            [
             1,
             "#f0f921"
            ]
           ]
          },
          "colorway": [
           "#636efa",
           "#EF553B",
           "#00cc96",
           "#ab63fa",
           "#FFA15A",
           "#19d3f3",
           "#FF6692",
           "#B6E880",
           "#FF97FF",
           "#FECB52"
          ],
          "font": {
           "color": "#2a3f5f"
          },
          "geo": {
           "bgcolor": "white",
           "lakecolor": "white",
           "landcolor": "#E5ECF6",
           "showlakes": true,
           "showland": true,
           "subunitcolor": "white"
          },
          "hoverlabel": {
           "align": "left"
          },
          "hovermode": "closest",
          "mapbox": {
           "style": "light"
          },
          "paper_bgcolor": "white",
          "plot_bgcolor": "#E5ECF6",
          "polar": {
           "angularaxis": {
            "gridcolor": "white",
            "linecolor": "white",
            "ticks": ""
           },
           "bgcolor": "#E5ECF6",
           "radialaxis": {
            "gridcolor": "white",
            "linecolor": "white",
            "ticks": ""
           }
          },
          "scene": {
           "xaxis": {
            "backgroundcolor": "#E5ECF6",
            "gridcolor": "white",
            "gridwidth": 2,
            "linecolor": "white",
            "showbackground": true,
            "ticks": "",
            "zerolinecolor": "white"
           },
           "yaxis": {
            "backgroundcolor": "#E5ECF6",
            "gridcolor": "white",
            "gridwidth": 2,
            "linecolor": "white",
            "showbackground": true,
            "ticks": "",
            "zerolinecolor": "white"
           },
           "zaxis": {
            "backgroundcolor": "#E5ECF6",
            "gridcolor": "white",
            "gridwidth": 2,
            "linecolor": "white",
            "showbackground": true,
            "ticks": "",
            "zerolinecolor": "white"
           }
          },
          "shapedefaults": {
           "line": {
            "color": "#2a3f5f"
           }
          },
          "ternary": {
           "aaxis": {
            "gridcolor": "white",
            "linecolor": "white",
            "ticks": ""
           },
           "baxis": {
            "gridcolor": "white",
            "linecolor": "white",
            "ticks": ""
           },
           "bgcolor": "#E5ECF6",
           "caxis": {
            "gridcolor": "white",
            "linecolor": "white",
            "ticks": ""
           }
          },
          "title": {
           "x": 0.05
          },
          "xaxis": {
           "automargin": true,
           "gridcolor": "white",
           "linecolor": "white",
           "ticks": "",
           "title": {
            "standoff": 15
           },
           "zerolinecolor": "white",
           "zerolinewidth": 2
          },
          "yaxis": {
           "automargin": true,
           "gridcolor": "white",
           "linecolor": "white",
           "ticks": "",
           "title": {
            "standoff": 15
           },
           "zerolinecolor": "white",
           "zerolinewidth": 2
          }
         }
        },
        "title": {
         "font": {
          "size": 54
         }
        },
        "width": 2500
       }
      },
      "text/html": [
       "<div>                            <div id=\"b7b4dea0-b2e8-4b1b-be31-25b8f83e01d6\" class=\"plotly-graph-div\" style=\"height:1500px; width:2500px;\"></div>            <script type=\"text/javascript\">                require([\"plotly\"], function(Plotly) {                    window.PLOTLYENV=window.PLOTLYENV || {};                                    if (document.getElementById(\"b7b4dea0-b2e8-4b1b-be31-25b8f83e01d6\")) {                    Plotly.newPlot(                        \"b7b4dea0-b2e8-4b1b-be31-25b8f83e01d6\",                        [{\"branchvalues\": \"total\", \"domain\": {\"x\": [0.0, 1.0], \"y\": [0.0, 1.0]}, \"hovertemplate\": \"labels=%{label}<br>value=%{value}<br>parent=%{parent}<br>id=%{id}<extra></extra>\", \"ids\": [\"usages des plantes cultiv\\u00e9es/Cultures_fruitieres/Ananas\", \"usages des plantes cultiv\\u00e9es/Cultures_tropicales/Ananas\", \"usages des plantes cultiv\\u00e9es/Arboriculture/Arboriculture_fruitiere\", \"usages des plantes cultiv\\u00e9es/Cultures_fruitieres/Arboriculture_fruitiere\", \"usages des plantes cultiv\\u00e9es/Cultures_tropicales/Arboriculture_fruitiere_tropicale\", \"usages des plantes cultiv\\u00e9es/Arboriculture/Arboriculture_ornementale\", \"usages des plantes cultiv\\u00e9es/Horticulture_ornementale/Arboriculture_ornementale\", \"usages des plantes cultiv\\u00e9es/Arboriculture/Badianiers_de_Chine\", \"usages des plantes cultiv\\u00e9es/Cultures_fruitieres/Bananiers\", \"usages des plantes cultiv\\u00e9es/Cultures_tropicales/Bananiers\", \"usages des plantes cultiv\\u00e9es/Cultures_tropicales/Cannes_sucres\", \"usages des plantes cultiv\\u00e9es/Cultures_tropicales/Cardamomes\", \"usages des plantes cultiv\\u00e9es/Grandes_cultures/Cereales\", \"usages des plantes cultiv\\u00e9es/Cultures_legumieres_champignons/Champignons\", \"usages des plantes cultiv\\u00e9es/Grandes_cultures/Chanvres\", \"usages des plantes cultiv\\u00e9es/Cultures_tropicales/Christophines\", \"usages des plantes cultiv\\u00e9es/Grandes_cultures/Colzas\", \"usages des plantes cultiv\\u00e9es/Horticulture_ornementale/Cultures_florales\", \"usages des plantes cultiv\\u00e9es/Grandes_cultures/Cultures_industrielles\", \"usages des plantes cultiv\\u00e9es/Cultures_legumieres_champignons/Cultures_legumieres\", \"usages des plantes cultiv\\u00e9es/Cultures_tropicales/Cultures_vivrieres\", \"usages des plantes cultiv\\u00e9es/Cultures_tropicales/Curcumas\", \"usages des plantes cultiv\\u00e9es/Cultures_fourrageres/Fourrages_annuels\", \"usages des plantes cultiv\\u00e9es/Plantes_non_recoltees/Gels\", \"usages des plantes cultiv\\u00e9es/Arboriculture/Genets_des_teinturiers\", \"usages des plantes cultiv\\u00e9es/Cultures_tropicales/Gingembres\", \"usages des plantes cultiv\\u00e9es/Cultures_tropicales/Gombos\", \"usages des plantes cultiv\\u00e9es/Cultures_fourrageres/Graminees_fourrageres\", \"usages des plantes cultiv\\u00e9es/Arboriculture/Hamamelis\", \"usages des plantes cultiv\\u00e9es/Zones_non_agricoles/Jardins\", \"usages des plantes cultiv\\u00e9es/Cultures_tropicales/Legumes_exotiques\", \"usages des plantes cultiv\\u00e9es/Cultures_fourrageres/Legumineuses_fourrageres\", \"usages des plantes cultiv\\u00e9es/Grandes_cultures/Lins\", \"usages des plantes cultiv\\u00e9es/Grandes_cultures/Moutardes\", \"usages des plantes cultiv\\u00e9es/Grandes_cultures/Navettes\", \"usages des plantes cultiv\\u00e9es/Grandes_cultures/Oleagineux\", \"usages des plantes cultiv\\u00e9es/Cultures_fruitieres/Petits_fruits\", \"usages des plantes cultiv\\u00e9es/Cultures_aromatiques_medicinales_parfum/Plantes_aromatiques\", \"usages des plantes cultiv\\u00e9es/Plantes_non_recoltees/Plantes_de_service\", \"usages des plantes cultiv\\u00e9es/Cultures_aromatiques_medicinales_parfum/Plantes_medicinales\", \"usages des plantes cultiv\\u00e9es/Cultures_aromatiques_medicinales_parfum/Plantes_parfum\", \"usages des plantes cultiv\\u00e9es/Cultures_fourrageres/Prairies\", \"usages des plantes cultiv\\u00e9es/Grandes_cultures/Proteagineux\", \"usages des plantes cultiv\\u00e9es/Cultures_fourrageres/Racines_turbercules_fourragers\", \"usages des plantes cultiv\\u00e9es/Cultures_fourrageres/Radis_fourragers\", \"usages des plantes cultiv\\u00e9es/Horticulture_ornementale/Ray_grass_gazon\", \"usages des plantes cultiv\\u00e9es/Arboriculture/Sureaux\", \"usages des plantes cultiv\\u00e9es/Arboriculture/Sylviculture\", \"usages des plantes cultiv\\u00e9es/Grandes_cultures/Tournesols\", \"usages des plantes cultiv\\u00e9es/Cultures_fourrageres/Trefles\", \"usages des plantes cultiv\\u00e9es/Cultures_tropicales/Vanilliers\", \"usages des plantes cultiv\\u00e9es/Cultures_tropicales/Vetivers\", \"usages des plantes cultiv\\u00e9es/Arboriculture\", \"usages des plantes cultiv\\u00e9es/Cultures_aromatiques_medicinales_parfum\", \"usages des plantes cultiv\\u00e9es/Cultures_fourrageres\", \"usages des plantes cultiv\\u00e9es/Cultures_fruitieres\", \"usages des plantes cultiv\\u00e9es/Cultures_legumieres_champignons\", \"usages des plantes cultiv\\u00e9es/Cultures_tropicales\", \"usages des plantes cultiv\\u00e9es/Grandes_cultures\", \"usages des plantes cultiv\\u00e9es/Horticulture_ornementale\", \"usages des plantes cultiv\\u00e9es/Plantes_non_recoltees\", \"usages des plantes cultiv\\u00e9es/Zones_non_agricoles\", \"usages des plantes cultiv\\u00e9es\"], \"labels\": [\"Ananas\", \"Ananas\", \"Arboriculture_fruitiere\", \"Arboriculture_fruitiere\", \"Arboriculture_fruitiere_tropicale\", \"Arboriculture_ornementale\", \"Arboriculture_ornementale\", \"Badianiers_de_Chine\", \"Bananiers\", \"Bananiers\", \"Cannes_sucres\", \"Cardamomes\", \"Cereales\", \"Champignons\", \"Chanvres\", \"Christophines\", \"Colzas\", \"Cultures_florales\", \"Cultures_industrielles\", \"Cultures_legumieres\", \"Cultures_vivrieres\", \"Curcumas\", \"Fourrages_annuels\", \"Gels\", \"Genets_des_teinturiers\", \"Gingembres\", \"Gombos\", \"Graminees_fourrageres\", \"Hamamelis\", \"Jardins\", \"Legumes_exotiques\", \"Legumineuses_fourrageres\", \"Lins\", \"Moutardes\", \"Navettes\", \"Oleagineux\", \"Petits_fruits\", \"Plantes_aromatiques\", \"Plantes_de_service\", \"Plantes_medicinales\", \"Plantes_parfum\", \"Prairies\", \"Proteagineux\", \"Racines_turbercules_fourragers\", \"Radis_fourragers\", \"Ray_grass_gazon\", \"Sureaux\", \"Sylviculture\", \"Tournesols\", \"Trefles\", \"Vanilliers\", \"Vetivers\", \"Arboriculture\", \"Cultures_aromatiques_medicinales_parfum\", \"Cultures_fourrageres\", \"Cultures_fruitieres\", \"Cultures_legumieres_champignons\", \"Cultures_tropicales\", \"Grandes_cultures\", \"Horticulture_ornementale\", \"Plantes_non_recoltees\", \"Zones_non_agricoles\", \"usages des plantes cultiv\\u00e9es\"], \"name\": \"\", \"parents\": [\"usages des plantes cultiv\\u00e9es/Cultures_fruitieres\", \"usages des plantes cultiv\\u00e9es/Cultures_tropicales\", \"usages des plantes cultiv\\u00e9es/Arboriculture\", \"usages des plantes cultiv\\u00e9es/Cultures_fruitieres\", \"usages des plantes cultiv\\u00e9es/Cultures_tropicales\", \"usages des plantes cultiv\\u00e9es/Arboriculture\", \"usages des plantes cultiv\\u00e9es/Horticulture_ornementale\", \"usages des plantes cultiv\\u00e9es/Arboriculture\", \"usages des plantes cultiv\\u00e9es/Cultures_fruitieres\", \"usages des plantes cultiv\\u00e9es/Cultures_tropicales\", \"usages des plantes cultiv\\u00e9es/Cultures_tropicales\", \"usages des plantes cultiv\\u00e9es/Cultures_tropicales\", \"usages des plantes cultiv\\u00e9es/Grandes_cultures\", \"usages des plantes cultiv\\u00e9es/Cultures_legumieres_champignons\", \"usages des plantes cultiv\\u00e9es/Grandes_cultures\", \"usages des plantes cultiv\\u00e9es/Cultures_tropicales\", \"usages des plantes cultiv\\u00e9es/Grandes_cultures\", \"usages des plantes cultiv\\u00e9es/Horticulture_ornementale\", \"usages des plantes cultiv\\u00e9es/Grandes_cultures\", \"usages des plantes cultiv\\u00e9es/Cultures_legumieres_champignons\", \"usages des plantes cultiv\\u00e9es/Cultures_tropicales\", \"usages des plantes cultiv\\u00e9es/Cultures_tropicales\", \"usages des plantes cultiv\\u00e9es/Cultures_fourrageres\", \"usages des plantes cultiv\\u00e9es/Plantes_non_recoltees\", \"usages des plantes cultiv\\u00e9es/Arboriculture\", \"usages des plantes cultiv\\u00e9es/Cultures_tropicales\", \"usages des plantes cultiv\\u00e9es/Cultures_tropicales\", \"usages des plantes cultiv\\u00e9es/Cultures_fourrageres\", \"usages des plantes cultiv\\u00e9es/Arboriculture\", \"usages des plantes cultiv\\u00e9es/Zones_non_agricoles\", \"usages des plantes cultiv\\u00e9es/Cultures_tropicales\", \"usages des plantes cultiv\\u00e9es/Cultures_fourrageres\", \"usages des plantes cultiv\\u00e9es/Grandes_cultures\", \"usages des plantes cultiv\\u00e9es/Grandes_cultures\", \"usages des plantes cultiv\\u00e9es/Grandes_cultures\", \"usages des plantes cultiv\\u00e9es/Grandes_cultures\", \"usages des plantes cultiv\\u00e9es/Cultures_fruitieres\", \"usages des plantes cultiv\\u00e9es/Cultures_aromatiques_medicinales_parfum\", \"usages des plantes cultiv\\u00e9es/Plantes_non_recoltees\", \"usages des plantes cultiv\\u00e9es/Cultures_aromatiques_medicinales_parfum\", \"usages des plantes cultiv\\u00e9es/Cultures_aromatiques_medicinales_parfum\", \"usages des plantes cultiv\\u00e9es/Cultures_fourrageres\", \"usages des plantes cultiv\\u00e9es/Grandes_cultures\", \"usages des plantes cultiv\\u00e9es/Cultures_fourrageres\", \"usages des plantes cultiv\\u00e9es/Cultures_fourrageres\", \"usages des plantes cultiv\\u00e9es/Horticulture_ornementale\", \"usages des plantes cultiv\\u00e9es/Arboriculture\", \"usages des plantes cultiv\\u00e9es/Arboriculture\", \"usages des plantes cultiv\\u00e9es/Grandes_cultures\", \"usages des plantes cultiv\\u00e9es/Cultures_fourrageres\", \"usages des plantes cultiv\\u00e9es/Cultures_tropicales\", \"usages des plantes cultiv\\u00e9es/Cultures_tropicales\", \"usages des plantes cultiv\\u00e9es\", \"usages des plantes cultiv\\u00e9es\", \"usages des plantes cultiv\\u00e9es\", \"usages des plantes cultiv\\u00e9es\", \"usages des plantes cultiv\\u00e9es\", \"usages des plantes cultiv\\u00e9es\", \"usages des plantes cultiv\\u00e9es\", \"usages des plantes cultiv\\u00e9es\", \"usages des plantes cultiv\\u00e9es\", \"usages des plantes cultiv\\u00e9es\", \"\"], \"type\": \"sunburst\", \"values\": [1, 1, 1, 1, 1, 1, 1, 1, 1, 1, 1, 1, 1, 1, 1, 1, 1, 1, 1, 1, 1, 1, 1, 1, 1, 1, 1, 1, 1, 1, 1, 1, 1, 1, 1, 1, 1, 1, 1, 1, 1, 1, 1, 1, 1, 1, 1, 1, 1, 1, 1, 1, 7, 3, 7, 4, 2, 13, 10, 3, 2, 1, 52]}],                        {\"autosize\": true, \"font\": {\"size\": 15}, \"height\": 1500, \"legend\": {\"tracegroupgap\": 0}, \"margin\": {\"t\": 60}, \"showlegend\": false, \"template\": {\"data\": {\"bar\": [{\"error_x\": {\"color\": \"#2a3f5f\"}, \"error_y\": {\"color\": \"#2a3f5f\"}, \"marker\": {\"line\": {\"color\": \"#E5ECF6\", \"width\": 0.5}}, \"type\": \"bar\"}], \"barpolar\": [{\"marker\": {\"line\": {\"color\": \"#E5ECF6\", \"width\": 0.5}}, \"type\": \"barpolar\"}], \"carpet\": [{\"aaxis\": {\"endlinecolor\": \"#2a3f5f\", \"gridcolor\": \"white\", \"linecolor\": \"white\", \"minorgridcolor\": \"white\", \"startlinecolor\": \"#2a3f5f\"}, \"baxis\": {\"endlinecolor\": \"#2a3f5f\", \"gridcolor\": \"white\", \"linecolor\": \"white\", \"minorgridcolor\": \"white\", \"startlinecolor\": \"#2a3f5f\"}, \"type\": \"carpet\"}], \"choropleth\": [{\"colorbar\": {\"outlinewidth\": 0, \"ticks\": \"\"}, \"type\": \"choropleth\"}], \"contour\": [{\"colorbar\": {\"outlinewidth\": 0, \"ticks\": \"\"}, \"colorscale\": [[0.0, \"#0d0887\"], [0.1111111111111111, \"#46039f\"], [0.2222222222222222, \"#7201a8\"], [0.3333333333333333, \"#9c179e\"], [0.4444444444444444, \"#bd3786\"], [0.5555555555555556, \"#d8576b\"], [0.6666666666666666, \"#ed7953\"], [0.7777777777777778, \"#fb9f3a\"], [0.8888888888888888, \"#fdca26\"], [1.0, \"#f0f921\"]], \"type\": \"contour\"}], \"contourcarpet\": [{\"colorbar\": {\"outlinewidth\": 0, \"ticks\": \"\"}, \"type\": \"contourcarpet\"}], \"heatmap\": [{\"colorbar\": {\"outlinewidth\": 0, \"ticks\": \"\"}, \"colorscale\": [[0.0, \"#0d0887\"], [0.1111111111111111, \"#46039f\"], [0.2222222222222222, \"#7201a8\"], [0.3333333333333333, \"#9c179e\"], [0.4444444444444444, \"#bd3786\"], [0.5555555555555556, \"#d8576b\"], [0.6666666666666666, \"#ed7953\"], [0.7777777777777778, \"#fb9f3a\"], [0.8888888888888888, \"#fdca26\"], [1.0, \"#f0f921\"]], \"type\": \"heatmap\"}], \"heatmapgl\": [{\"colorbar\": {\"outlinewidth\": 0, \"ticks\": \"\"}, \"colorscale\": [[0.0, \"#0d0887\"], [0.1111111111111111, \"#46039f\"], [0.2222222222222222, \"#7201a8\"], [0.3333333333333333, \"#9c179e\"], [0.4444444444444444, \"#bd3786\"], [0.5555555555555556, \"#d8576b\"], [0.6666666666666666, \"#ed7953\"], [0.7777777777777778, \"#fb9f3a\"], [0.8888888888888888, \"#fdca26\"], [1.0, \"#f0f921\"]], \"type\": \"heatmapgl\"}], \"histogram\": [{\"marker\": {\"colorbar\": {\"outlinewidth\": 0, \"ticks\": \"\"}}, \"type\": \"histogram\"}], \"histogram2d\": [{\"colorbar\": {\"outlinewidth\": 0, \"ticks\": \"\"}, \"colorscale\": [[0.0, \"#0d0887\"], [0.1111111111111111, \"#46039f\"], [0.2222222222222222, \"#7201a8\"], [0.3333333333333333, \"#9c179e\"], [0.4444444444444444, \"#bd3786\"], [0.5555555555555556, \"#d8576b\"], [0.6666666666666666, \"#ed7953\"], [0.7777777777777778, \"#fb9f3a\"], [0.8888888888888888, \"#fdca26\"], [1.0, \"#f0f921\"]], \"type\": \"histogram2d\"}], \"histogram2dcontour\": [{\"colorbar\": {\"outlinewidth\": 0, \"ticks\": \"\"}, \"colorscale\": [[0.0, \"#0d0887\"], [0.1111111111111111, \"#46039f\"], [0.2222222222222222, \"#7201a8\"], [0.3333333333333333, \"#9c179e\"], [0.4444444444444444, \"#bd3786\"], [0.5555555555555556, \"#d8576b\"], [0.6666666666666666, \"#ed7953\"], [0.7777777777777778, \"#fb9f3a\"], [0.8888888888888888, \"#fdca26\"], [1.0, \"#f0f921\"]], \"type\": \"histogram2dcontour\"}], \"mesh3d\": [{\"colorbar\": {\"outlinewidth\": 0, \"ticks\": \"\"}, \"type\": \"mesh3d\"}], \"parcoords\": [{\"line\": {\"colorbar\": {\"outlinewidth\": 0, \"ticks\": \"\"}}, \"type\": \"parcoords\"}], \"pie\": [{\"automargin\": true, \"type\": \"pie\"}], \"scatter\": [{\"marker\": {\"colorbar\": {\"outlinewidth\": 0, \"ticks\": \"\"}}, \"type\": \"scatter\"}], \"scatter3d\": [{\"line\": {\"colorbar\": {\"outlinewidth\": 0, \"ticks\": \"\"}}, \"marker\": {\"colorbar\": {\"outlinewidth\": 0, \"ticks\": \"\"}}, \"type\": \"scatter3d\"}], \"scattercarpet\": [{\"marker\": {\"colorbar\": {\"outlinewidth\": 0, \"ticks\": \"\"}}, \"type\": \"scattercarpet\"}], \"scattergeo\": [{\"marker\": {\"colorbar\": {\"outlinewidth\": 0, \"ticks\": \"\"}}, \"type\": \"scattergeo\"}], \"scattergl\": [{\"marker\": {\"colorbar\": {\"outlinewidth\": 0, \"ticks\": \"\"}}, \"type\": \"scattergl\"}], \"scattermapbox\": [{\"marker\": {\"colorbar\": {\"outlinewidth\": 0, \"ticks\": \"\"}}, \"type\": \"scattermapbox\"}], \"scatterpolar\": [{\"marker\": {\"colorbar\": {\"outlinewidth\": 0, \"ticks\": \"\"}}, \"type\": \"scatterpolar\"}], \"scatterpolargl\": [{\"marker\": {\"colorbar\": {\"outlinewidth\": 0, \"ticks\": \"\"}}, \"type\": \"scatterpolargl\"}], \"scatterternary\": [{\"marker\": {\"colorbar\": {\"outlinewidth\": 0, \"ticks\": \"\"}}, \"type\": \"scatterternary\"}], \"surface\": [{\"colorbar\": {\"outlinewidth\": 0, \"ticks\": \"\"}, \"colorscale\": [[0.0, \"#0d0887\"], [0.1111111111111111, \"#46039f\"], [0.2222222222222222, \"#7201a8\"], [0.3333333333333333, \"#9c179e\"], [0.4444444444444444, \"#bd3786\"], [0.5555555555555556, \"#d8576b\"], [0.6666666666666666, \"#ed7953\"], [0.7777777777777778, \"#fb9f3a\"], [0.8888888888888888, \"#fdca26\"], [1.0, \"#f0f921\"]], \"type\": \"surface\"}], \"table\": [{\"cells\": {\"fill\": {\"color\": \"#EBF0F8\"}, \"line\": {\"color\": \"white\"}}, \"header\": {\"fill\": {\"color\": \"#C8D4E3\"}, \"line\": {\"color\": \"white\"}}, \"type\": \"table\"}]}, \"layout\": {\"annotationdefaults\": {\"arrowcolor\": \"#2a3f5f\", \"arrowhead\": 0, \"arrowwidth\": 1}, \"autotypenumbers\": \"strict\", \"coloraxis\": {\"colorbar\": {\"outlinewidth\": 0, \"ticks\": \"\"}}, \"colorscale\": {\"diverging\": [[0, \"#8e0152\"], [0.1, \"#c51b7d\"], [0.2, \"#de77ae\"], [0.3, \"#f1b6da\"], [0.4, \"#fde0ef\"], [0.5, \"#f7f7f7\"], [0.6, \"#e6f5d0\"], [0.7, \"#b8e186\"], [0.8, \"#7fbc41\"], [0.9, \"#4d9221\"], [1, \"#276419\"]], \"sequential\": [[0.0, \"#0d0887\"], [0.1111111111111111, \"#46039f\"], [0.2222222222222222, \"#7201a8\"], [0.3333333333333333, \"#9c179e\"], [0.4444444444444444, \"#bd3786\"], [0.5555555555555556, \"#d8576b\"], [0.6666666666666666, \"#ed7953\"], [0.7777777777777778, \"#fb9f3a\"], [0.8888888888888888, \"#fdca26\"], [1.0, \"#f0f921\"]], \"sequentialminus\": [[0.0, \"#0d0887\"], [0.1111111111111111, \"#46039f\"], [0.2222222222222222, \"#7201a8\"], [0.3333333333333333, \"#9c179e\"], [0.4444444444444444, \"#bd3786\"], [0.5555555555555556, \"#d8576b\"], [0.6666666666666666, \"#ed7953\"], [0.7777777777777778, \"#fb9f3a\"], [0.8888888888888888, \"#fdca26\"], [1.0, \"#f0f921\"]]}, \"colorway\": [\"#636efa\", \"#EF553B\", \"#00cc96\", \"#ab63fa\", \"#FFA15A\", \"#19d3f3\", \"#FF6692\", \"#B6E880\", \"#FF97FF\", \"#FECB52\"], \"font\": {\"color\": \"#2a3f5f\"}, \"geo\": {\"bgcolor\": \"white\", \"lakecolor\": \"white\", \"landcolor\": \"#E5ECF6\", \"showlakes\": true, \"showland\": true, \"subunitcolor\": \"white\"}, \"hoverlabel\": {\"align\": \"left\"}, \"hovermode\": \"closest\", \"mapbox\": {\"style\": \"light\"}, \"paper_bgcolor\": \"white\", \"plot_bgcolor\": \"#E5ECF6\", \"polar\": {\"angularaxis\": {\"gridcolor\": \"white\", \"linecolor\": \"white\", \"ticks\": \"\"}, \"bgcolor\": \"#E5ECF6\", \"radialaxis\": {\"gridcolor\": \"white\", \"linecolor\": \"white\", \"ticks\": \"\"}}, \"scene\": {\"xaxis\": {\"backgroundcolor\": \"#E5ECF6\", \"gridcolor\": \"white\", \"gridwidth\": 2, \"linecolor\": \"white\", \"showbackground\": true, \"ticks\": \"\", \"zerolinecolor\": \"white\"}, \"yaxis\": {\"backgroundcolor\": \"#E5ECF6\", \"gridcolor\": \"white\", \"gridwidth\": 2, \"linecolor\": \"white\", \"showbackground\": true, \"ticks\": \"\", \"zerolinecolor\": \"white\"}, \"zaxis\": {\"backgroundcolor\": \"#E5ECF6\", \"gridcolor\": \"white\", \"gridwidth\": 2, \"linecolor\": \"white\", \"showbackground\": true, \"ticks\": \"\", \"zerolinecolor\": \"white\"}}, \"shapedefaults\": {\"line\": {\"color\": \"#2a3f5f\"}}, \"ternary\": {\"aaxis\": {\"gridcolor\": \"white\", \"linecolor\": \"white\", \"ticks\": \"\"}, \"baxis\": {\"gridcolor\": \"white\", \"linecolor\": \"white\", \"ticks\": \"\"}, \"bgcolor\": \"#E5ECF6\", \"caxis\": {\"gridcolor\": \"white\", \"linecolor\": \"white\", \"ticks\": \"\"}}, \"title\": {\"x\": 0.05}, \"xaxis\": {\"automargin\": true, \"gridcolor\": \"white\", \"linecolor\": \"white\", \"ticks\": \"\", \"title\": {\"standoff\": 15}, \"zerolinecolor\": \"white\", \"zerolinewidth\": 2}, \"yaxis\": {\"automargin\": true, \"gridcolor\": \"white\", \"linecolor\": \"white\", \"ticks\": \"\", \"title\": {\"standoff\": 15}, \"zerolinecolor\": \"white\", \"zerolinewidth\": 2}}}, \"title\": {\"font\": {\"size\": 54}}, \"width\": 2500},                        {\"responsive\": true}                    ).then(function(){\n",
       "                            \n",
       "var gd = document.getElementById('b7b4dea0-b2e8-4b1b-be31-25b8f83e01d6');\n",
       "var x = new MutationObserver(function (mutations, observer) {{\n",
       "        var display = window.getComputedStyle(gd).display;\n",
       "        if (!display || display === 'none') {{\n",
       "            console.log([gd, 'removed!']);\n",
       "            Plotly.purge(gd);\n",
       "            observer.disconnect();\n",
       "        }}\n",
       "}});\n",
       "\n",
       "// Listen for the removal of the full notebook cells\n",
       "var notebookContainer = gd.closest('#notebook-container');\n",
       "if (notebookContainer) {{\n",
       "    x.observe(notebookContainer, {childList: true});\n",
       "}}\n",
       "\n",
       "// Listen for the clearing of the current output cell\n",
       "var outputEl = gd.closest('.output');\n",
       "if (outputEl) {{\n",
       "    x.observe(outputEl, {childList: true});\n",
       "}}\n",
       "\n",
       "                        })                };                });            </script>        </div>"
      ]
     },
     "metadata": {},
     "output_type": "display_data"
    }
   ],
   "source": [
    "fig = px.sunburst(data, path=['top','parent', 'concept'], values='value' )\n",
    "fig.update_layout(\n",
    "    title_font_size=54,\n",
    "    showlegend=False,\n",
    "    font_size=15,\n",
    "    width=2500, height=1500,\n",
    "    autosize=True)\n",
    "fig.show()"
   ]
  },
  {
   "cell_type": "markdown",
   "metadata": {},
   "source": [
    "# Stades phénologiques"
   ]
  },
  {
   "cell_type": "code",
   "execution_count": 246,
   "metadata": {},
   "outputs": [],
   "source": [
    "onto2 = owl.get_ontology('../resources/ppdo.rdf').load()"
   ]
  },
  {
   "cell_type": "code",
   "execution_count": 241,
   "metadata": {},
   "outputs": [
    {
     "name": "stdout",
     "output_type": "stream",
     "text": [
      "ontology.GrowthStage\n",
      "ontology.PrincipalGrowthStage\n",
      "ontology.PrincipalStage0\n",
      "ontology.PrincipalStage1\n",
      "ontology.PrincipalStage2\n",
      "ontology.PrincipalStage3\n",
      "ontology.PrincipalStage4\n",
      "ontology.PrincipalStage5\n",
      "ontology.PrincipalStage6\n",
      "ontology.PrincipalStage7\n",
      "ontology.PrincipalStage8\n",
      "ontology.PrincipalStage9\n",
      "ontology.SecondaryGrowthStage\n",
      "ontology.SecondaryStage00\n",
      "ontology.TwoDigitsSecondaryGrowthStage\n",
      "ontology.SecondaryStage01\n",
      "ontology.SecondaryStage03\n",
      "ontology.SecondaryStage05\n",
      "ontology.SecondaryStage06\n",
      "ontology.SecondaryStage07\n",
      "ontology.SecondaryStage08\n",
      "ontology.SecondaryStage09\n",
      "ontology.SecondaryStage10\n",
      "ontology.SecondaryStage11\n",
      "ontology.SecondaryStage12\n",
      "ontology.SecondaryStage13\n",
      "ontology.SecondaryStage14\n",
      "ontology.SecondaryStage15\n",
      "ontology.SecondaryStage16\n",
      "ontology.SecondaryStage17\n",
      "ontology.SecondaryStage18\n",
      "ontology.SecondaryStage19\n",
      "ontology.SecondaryStage21\n",
      "ontology.SecondaryStage22\n",
      "ontology.SecondaryStage23\n",
      "ontology.SecondaryStage24\n",
      "ontology.SecondaryStage25\n",
      "ontology.SecondaryStage26\n",
      "ontology.SecondaryStage27\n",
      "ontology.SecondaryStage28\n",
      "ontology.SecondaryStage29\n",
      "ontology.SecondaryStage31\n",
      "ontology.SecondaryStage32\n",
      "ontology.SecondaryStage33\n",
      "ontology.SecondaryStage34\n",
      "ontology.SecondaryStage35\n",
      "ontology.SecondaryStage36\n",
      "ontology.SecondaryStage37\n",
      "ontology.SecondaryStage38\n",
      "ontology.SecondaryStage39\n",
      "ontology.SecondaryStage40\n",
      "ontology.SecondaryStage41\n",
      "ontology.SecondaryStage43\n",
      "ontology.SecondaryStage45\n",
      "ontology.SecondaryStage47\n",
      "ontology.SecondaryStage49\n",
      "ontology.SecondaryStage51\n",
      "ontology.SecondaryStage53\n",
      "ontology.SecondaryStage55\n",
      "ontology.SecondaryStage57\n",
      "ontology.SecondaryStage59\n",
      "ontology.SecondaryStage60\n",
      "ontology.SecondaryStage61\n",
      "ontology.SecondaryStage62\n",
      "ontology.SecondaryStage63\n",
      "ontology.SecondaryStage64\n",
      "ontology.SecondaryStage65\n",
      "ontology.SecondaryStage66\n",
      "ontology.SecondaryStage67\n",
      "ontology.SecondaryStage68\n",
      "ontology.SecondaryStage69\n",
      "ontology.SecondaryStage71\n",
      "ontology.SecondaryStage72\n",
      "ontology.SecondaryStage73\n",
      "ontology.SecondaryStage74\n",
      "ontology.SecondaryStage75\n",
      "ontology.SecondaryStage76\n",
      "ontology.SecondaryStage77\n",
      "ontology.SecondaryStage78\n",
      "ontology.SecondaryStage79\n",
      "ontology.SecondaryStage81\n",
      "ontology.SecondaryStage83\n",
      "ontology.SecondaryStage85\n",
      "ontology.SecondaryStage87\n",
      "ontology.SecondaryStage89\n",
      "ontology.SecondaryStage91\n",
      "ontology.SecondaryStage92\n",
      "ontology.SecondaryStage93\n",
      "ontology.SecondaryStage95\n",
      "ontology.SecondaryStage97\n",
      "ontology.SecondaryStage99\n",
      "ontology.StageDivision\n",
      "ontology.ThreeDigitsSecondaryGrowthStage\n"
     ]
    }
   ],
   "source": [
    "for i in onto2.classes():\n",
    "    print(i)\n"
   ]
  }
 ],
 "metadata": {
  "kernelspec": {
   "display_name": "Python 3",
   "language": "python",
   "name": "python3"
  },
  "language_info": {
   "codemirror_mode": {
    "name": "ipython",
    "version": 3
   },
   "file_extension": ".py",
   "mimetype": "text/x-python",
   "name": "python",
   "nbconvert_exporter": "python",
   "pygments_lexer": "ipython3",
   "version": "3.8.5"
  }
 },
 "nbformat": 4,
 "nbformat_minor": 4
}
