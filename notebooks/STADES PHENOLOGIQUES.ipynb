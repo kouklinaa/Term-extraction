{
 "cells": [
  {
   "cell_type": "code",
   "execution_count": 1,
   "metadata": {},
   "outputs": [],
   "source": [
    "import pandas as pd\n",
    "import os\n",
    "import plotly.graph_objects as go\n",
    "import plotly.express as px\n",
    "from utils import *"
   ]
  },
  {
   "cell_type": "code",
   "execution_count": 2,
   "metadata": {},
   "outputs": [
    {
     "data": {
      "text/html": [
       "<div>\n",
       "<style scoped>\n",
       "    .dataframe tbody tr th:only-of-type {\n",
       "        vertical-align: middle;\n",
       "    }\n",
       "\n",
       "    .dataframe tbody tr th {\n",
       "        vertical-align: top;\n",
       "    }\n",
       "\n",
       "    .dataframe thead th {\n",
       "        text-align: right;\n",
       "    }\n",
       "</style>\n",
       "<table border=\"1\" class=\"dataframe\">\n",
       "  <thead>\n",
       "    <tr style=\"text-align: right;\">\n",
       "      <th></th>\n",
       "      <th>bsv</th>\n",
       "      <th>number of words</th>\n",
       "      <th>html tag</th>\n",
       "      <th>context before</th>\n",
       "      <th>form</th>\n",
       "      <th>lemma</th>\n",
       "      <th>prefLabel</th>\n",
       "      <th>context after</th>\n",
       "      <th>location</th>\n",
       "      <th>features</th>\n",
       "    </tr>\n",
       "  </thead>\n",
       "  <tbody>\n",
       "    <tr>\n",
       "      <th>0</th>\n",
       "      <td>/Users/belka/Documents/GitHub/termExtraction/r...</td>\n",
       "      <td>2433</td>\n",
       "      <td>html</td>\n",
       "      <td>uvette jaune dès la</td>\n",
       "      <td>levée</td>\n",
       "      <td>levée</td>\n",
       "      <td>stade secondaire BBCH 009</td>\n",
       "      <td>pour suivre les pet</td>\n",
       "      <td>97-102</td>\n",
       "      <td>type=RDFProjector, uri=http://ontology.inrae.f...</td>\n",
       "    </tr>\n",
       "    <tr>\n",
       "      <th>1</th>\n",
       "      <td>/Users/belka/Documents/GitHub/termExtraction/r...</td>\n",
       "      <td>2433</td>\n",
       "      <td>html</td>\n",
       "      <td>% 8% 8% 8% 0% Semis</td>\n",
       "      <td>Germination</td>\n",
       "      <td>germination</td>\n",
       "      <td>stade principal BBCH 0</td>\n",
       "      <td>levée cotylédons ét</td>\n",
       "      <td>942-953</td>\n",
       "      <td>type=RDFProjector, uri=http://ontology.inrae.f...</td>\n",
       "    </tr>\n",
       "    <tr>\n",
       "      <th>2</th>\n",
       "      <td>/Users/belka/Documents/GitHub/termExtraction/r...</td>\n",
       "      <td>2433</td>\n",
       "      <td>html</td>\n",
       "      <td>r le semis pour une</td>\n",
       "      <td>levée</td>\n",
       "      <td>levée</td>\n",
       "      <td>stade secondaire BBCH 009</td>\n",
       "      <td>rapide et un bon dé</td>\n",
       "      <td>3024-3029</td>\n",
       "      <td>type=RDFProjector, uri=http://ontology.inrae.f...</td>\n",
       "    </tr>\n",
       "    <tr>\n",
       "      <th>3</th>\n",
       "      <td>/Users/belka/Documents/GitHub/termExtraction/r...</td>\n",
       "      <td>2433</td>\n",
       "      <td>html</td>\n",
       "      <td>ode de risque De la</td>\n",
       "      <td>germination</td>\n",
       "      <td>germination</td>\n",
       "      <td>stade principal BBCH 0</td>\n",
       "      <td>au stade 3 feuilles</td>\n",
       "      <td>3178-3189</td>\n",
       "      <td>type=RDFProjector, uri=http://ontology.inrae.f...</td>\n",
       "    </tr>\n",
       "    <tr>\n",
       "      <th>4</th>\n",
       "      <td>/Users/belka/Documents/GitHub/termExtraction/r...</td>\n",
       "      <td>2433</td>\n",
       "      <td>html</td>\n",
       "      <td>ns climatiques à la</td>\n",
       "      <td>levée</td>\n",
       "      <td>levée</td>\n",
       "      <td>stade secondaire BBCH 009</td>\n",
       "      <td>, des dégâts observé</td>\n",
       "      <td>3459-3464</td>\n",
       "      <td>type=RDFProjector, uri=http://ontology.inrae.f...</td>\n",
       "    </tr>\n",
       "  </tbody>\n",
       "</table>\n",
       "</div>"
      ],
      "text/plain": [
       "                                                 bsv  number of words  \\\n",
       "0  /Users/belka/Documents/GitHub/termExtraction/r...             2433   \n",
       "1  /Users/belka/Documents/GitHub/termExtraction/r...             2433   \n",
       "2  /Users/belka/Documents/GitHub/termExtraction/r...             2433   \n",
       "3  /Users/belka/Documents/GitHub/termExtraction/r...             2433   \n",
       "4  /Users/belka/Documents/GitHub/termExtraction/r...             2433   \n",
       "\n",
       "  html tag       context before         form        lemma  \\\n",
       "0     html  uvette jaune dès la        levée        levée   \n",
       "1     html  % 8% 8% 8% 0% Semis  Germination  germination   \n",
       "2     html  r le semis pour une        levée        levée   \n",
       "3     html  ode de risque De la  germination  germination   \n",
       "4     html  ns climatiques à la        levée        levée   \n",
       "\n",
       "                    prefLabel         context after   location  \\\n",
       "0  stade secondaire BBCH 009    pour suivre les pet     97-102   \n",
       "1      stade principal BBCH 0   levée cotylédons ét    942-953   \n",
       "2  stade secondaire BBCH 009    rapide et un bon dé  3024-3029   \n",
       "3      stade principal BBCH 0   au stade 3 feuilles  3178-3189   \n",
       "4  stade secondaire BBCH 009   , des dégâts observé  3459-3464   \n",
       "\n",
       "                                            features  \n",
       "0  type=RDFProjector, uri=http://ontology.inrae.f...  \n",
       "1  type=RDFProjector, uri=http://ontology.inrae.f...  \n",
       "2  type=RDFProjector, uri=http://ontology.inrae.f...  \n",
       "3  type=RDFProjector, uri=http://ontology.inrae.f...  \n",
       "4  type=RDFProjector, uri=http://ontology.inrae.f...  "
      ]
     },
     "execution_count": 2,
     "metadata": {},
     "output_type": "execute_result"
    }
   ],
   "source": [
    "stages = pd.read_csv(\"../output/frenchCropUsage_20210525/d2kab/stages.csv\", delimiter=\"\\t\", encoding='utf-8')\n",
    "stages[:5]"
   ]
  },
  {
   "cell_type": "code",
   "execution_count": null,
   "metadata": {},
   "outputs": [],
   "source": []
  },
  {
   "cell_type": "code",
   "execution_count": 3,
   "metadata": {},
   "outputs": [
    {
     "name": "stdout",
     "output_type": "stream",
     "text": [
      "========> Counting bsv..\n",
      "\n",
      "Total : 0 bsv dans le corpus\n",
      "\n",
      "========> Creating a dataframe..\n",
      "\n",
      "========> Making short descriptions..\n",
      "\n",
      "PrefLabel :\n",
      "\n",
      "count                            491\n",
      "unique                            42\n",
      "top       stade secondaire BBCH 009 \n",
      "freq                             287\n",
      "Name: prefLabel, dtype: object\n",
      "\n",
      "\n",
      "BSV :\n",
      "\n",
      "count                                                   491\n",
      "unique                                                  119\n",
      "top       /Users/belka/Documents/GitHub/termExtraction/r...\n",
      "freq                                                     23\n",
      "Name: bsv, dtype: object\n",
      "\n",
      "Top 10 labels :\n",
      "                    prefLabel  count\n",
      "0  stade secondaire BBCH 009     287\n",
      "1      stade principal BBCH 0     72\n",
      "2    stade secondaire BBCH 89     16\n",
      "3    stade secondaire BBCH 30     10\n",
      "4    stade secondaire BBCH 14      8\n",
      "5    stade secondaire BBCH 00      6\n",
      "6    stade secondaire BBCH 57      6\n",
      "7    stade secondaire BBCH 16      5\n",
      "8    stade secondaire BBCH 61      5\n",
      "9    stade secondaire BBCH 75      5\n"
     ]
    }
   ],
   "source": [
    "d2kab_baseline, d2kab_baseline_freq = read_fcu(\"../output/frenchCropUsage_20210525/d2kab/stages.csv\", \"../resources/Corpus-v-12-04-21/train/\")"
   ]
  },
  {
   "cell_type": "code",
   "execution_count": 8,
   "metadata": {},
   "outputs": [
    {
     "data": {
      "application/vnd.plotly.v1+json": {
       "config": {
        "plotlyServerURL": "https://plotly.com"
       },
       "data": [
        {
         "alignmentgroup": "True",
         "hovertemplate": "count=%{text}<br>prefLabel=%{y}<extra></extra>",
         "legendgroup": "",
         "marker": {
          "color": "#636efa"
         },
         "name": "",
         "offsetgroup": "",
         "orientation": "h",
         "showlegend": false,
         "text": [
          5,
          5,
          5,
          6,
          6,
          8,
          10,
          16,
          72,
          287
         ],
         "textposition": "auto",
         "type": "bar",
         "x": [
          5,
          5,
          5,
          6,
          6,
          8,
          10,
          16,
          72,
          287
         ],
         "xaxis": "x",
         "y": [
          "stade secondaire BBCH 16",
          "stade secondaire BBCH 61",
          "stade secondaire BBCH 75",
          "stade secondaire BBCH 00",
          "stade secondaire BBCH 57",
          "stade secondaire BBCH 14",
          "stade secondaire BBCH 30",
          "stade secondaire BBCH 89",
          "stade principal BBCH 0",
          "stade secondaire BBCH 009 "
         ],
         "yaxis": "y"
        }
       ],
       "layout": {
        "autosize": false,
        "barmode": "relative",
        "font": {
         "size": 10
        },
        "height": 600,
        "legend": {
         "tracegroupgap": 0
        },
        "margin": {
         "b": 200,
         "l": 200,
         "r": 200,
         "t": 200
        },
        "showlegend": false,
        "template": {
         "data": {
          "bar": [
           {
            "error_x": {
             "color": "#2a3f5f"
            },
            "error_y": {
             "color": "#2a3f5f"
            },
            "marker": {
             "line": {
              "color": "#E5ECF6",
              "width": 0.5
             }
            },
            "type": "bar"
           }
          ],
          "barpolar": [
           {
            "marker": {
             "line": {
              "color": "#E5ECF6",
              "width": 0.5
             }
            },
            "type": "barpolar"
           }
          ],
          "carpet": [
           {
            "aaxis": {
             "endlinecolor": "#2a3f5f",
             "gridcolor": "white",
             "linecolor": "white",
             "minorgridcolor": "white",
             "startlinecolor": "#2a3f5f"
            },
            "baxis": {
             "endlinecolor": "#2a3f5f",
             "gridcolor": "white",
             "linecolor": "white",
             "minorgridcolor": "white",
             "startlinecolor": "#2a3f5f"
            },
            "type": "carpet"
           }
          ],
          "choropleth": [
           {
            "colorbar": {
             "outlinewidth": 0,
             "ticks": ""
            },
            "type": "choropleth"
           }
          ],
          "contour": [
           {
            "colorbar": {
             "outlinewidth": 0,
             "ticks": ""
            },
            "colorscale": [
             [
              0,
              "#0d0887"
             ],
             [
              0.1111111111111111,
              "#46039f"
             ],
             [
              0.2222222222222222,
              "#7201a8"
             ],
             [
              0.3333333333333333,
              "#9c179e"
             ],
             [
              0.4444444444444444,
              "#bd3786"
             ],
             [
              0.5555555555555556,
              "#d8576b"
             ],
             [
              0.6666666666666666,
              "#ed7953"
             ],
             [
              0.7777777777777778,
              "#fb9f3a"
             ],
             [
              0.8888888888888888,
              "#fdca26"
             ],
             [
              1,
              "#f0f921"
             ]
            ],
            "type": "contour"
           }
          ],
          "contourcarpet": [
           {
            "colorbar": {
             "outlinewidth": 0,
             "ticks": ""
            },
            "type": "contourcarpet"
           }
          ],
          "heatmap": [
           {
            "colorbar": {
             "outlinewidth": 0,
             "ticks": ""
            },
            "colorscale": [
             [
              0,
              "#0d0887"
             ],
             [
              0.1111111111111111,
              "#46039f"
             ],
             [
              0.2222222222222222,
              "#7201a8"
             ],
             [
              0.3333333333333333,
              "#9c179e"
             ],
             [
              0.4444444444444444,
              "#bd3786"
             ],
             [
              0.5555555555555556,
              "#d8576b"
             ],
             [
              0.6666666666666666,
              "#ed7953"
             ],
             [
              0.7777777777777778,
              "#fb9f3a"
             ],
             [
              0.8888888888888888,
              "#fdca26"
             ],
             [
              1,
              "#f0f921"
             ]
            ],
            "type": "heatmap"
           }
          ],
          "heatmapgl": [
           {
            "colorbar": {
             "outlinewidth": 0,
             "ticks": ""
            },
            "colorscale": [
             [
              0,
              "#0d0887"
             ],
             [
              0.1111111111111111,
              "#46039f"
             ],
             [
              0.2222222222222222,
              "#7201a8"
             ],
             [
              0.3333333333333333,
              "#9c179e"
             ],
             [
              0.4444444444444444,
              "#bd3786"
             ],
             [
              0.5555555555555556,
              "#d8576b"
             ],
             [
              0.6666666666666666,
              "#ed7953"
             ],
             [
              0.7777777777777778,
              "#fb9f3a"
             ],
             [
              0.8888888888888888,
              "#fdca26"
             ],
             [
              1,
              "#f0f921"
             ]
            ],
            "type": "heatmapgl"
           }
          ],
          "histogram": [
           {
            "marker": {
             "colorbar": {
              "outlinewidth": 0,
              "ticks": ""
             }
            },
            "type": "histogram"
           }
          ],
          "histogram2d": [
           {
            "colorbar": {
             "outlinewidth": 0,
             "ticks": ""
            },
            "colorscale": [
             [
              0,
              "#0d0887"
             ],
             [
              0.1111111111111111,
              "#46039f"
             ],
             [
              0.2222222222222222,
              "#7201a8"
             ],
             [
              0.3333333333333333,
              "#9c179e"
             ],
             [
              0.4444444444444444,
              "#bd3786"
             ],
             [
              0.5555555555555556,
              "#d8576b"
             ],
             [
              0.6666666666666666,
              "#ed7953"
             ],
             [
              0.7777777777777778,
              "#fb9f3a"
             ],
             [
              0.8888888888888888,
              "#fdca26"
             ],
             [
              1,
              "#f0f921"
             ]
            ],
            "type": "histogram2d"
           }
          ],
          "histogram2dcontour": [
           {
            "colorbar": {
             "outlinewidth": 0,
             "ticks": ""
            },
            "colorscale": [
             [
              0,
              "#0d0887"
             ],
             [
              0.1111111111111111,
              "#46039f"
             ],
             [
              0.2222222222222222,
              "#7201a8"
             ],
             [
              0.3333333333333333,
              "#9c179e"
             ],
             [
              0.4444444444444444,
              "#bd3786"
             ],
             [
              0.5555555555555556,
              "#d8576b"
             ],
             [
              0.6666666666666666,
              "#ed7953"
             ],
             [
              0.7777777777777778,
              "#fb9f3a"
             ],
             [
              0.8888888888888888,
              "#fdca26"
             ],
             [
              1,
              "#f0f921"
             ]
            ],
            "type": "histogram2dcontour"
           }
          ],
          "mesh3d": [
           {
            "colorbar": {
             "outlinewidth": 0,
             "ticks": ""
            },
            "type": "mesh3d"
           }
          ],
          "parcoords": [
           {
            "line": {
             "colorbar": {
              "outlinewidth": 0,
              "ticks": ""
             }
            },
            "type": "parcoords"
           }
          ],
          "pie": [
           {
            "automargin": true,
            "type": "pie"
           }
          ],
          "scatter": [
           {
            "marker": {
             "colorbar": {
              "outlinewidth": 0,
              "ticks": ""
             }
            },
            "type": "scatter"
           }
          ],
          "scatter3d": [
           {
            "line": {
             "colorbar": {
              "outlinewidth": 0,
              "ticks": ""
             }
            },
            "marker": {
             "colorbar": {
              "outlinewidth": 0,
              "ticks": ""
             }
            },
            "type": "scatter3d"
           }
          ],
          "scattercarpet": [
           {
            "marker": {
             "colorbar": {
              "outlinewidth": 0,
              "ticks": ""
             }
            },
            "type": "scattercarpet"
           }
          ],
          "scattergeo": [
           {
            "marker": {
             "colorbar": {
              "outlinewidth": 0,
              "ticks": ""
             }
            },
            "type": "scattergeo"
           }
          ],
          "scattergl": [
           {
            "marker": {
             "colorbar": {
              "outlinewidth": 0,
              "ticks": ""
             }
            },
            "type": "scattergl"
           }
          ],
          "scattermapbox": [
           {
            "marker": {
             "colorbar": {
              "outlinewidth": 0,
              "ticks": ""
             }
            },
            "type": "scattermapbox"
           }
          ],
          "scatterpolar": [
           {
            "marker": {
             "colorbar": {
              "outlinewidth": 0,
              "ticks": ""
             }
            },
            "type": "scatterpolar"
           }
          ],
          "scatterpolargl": [
           {
            "marker": {
             "colorbar": {
              "outlinewidth": 0,
              "ticks": ""
             }
            },
            "type": "scatterpolargl"
           }
          ],
          "scatterternary": [
           {
            "marker": {
             "colorbar": {
              "outlinewidth": 0,
              "ticks": ""
             }
            },
            "type": "scatterternary"
           }
          ],
          "surface": [
           {
            "colorbar": {
             "outlinewidth": 0,
             "ticks": ""
            },
            "colorscale": [
             [
              0,
              "#0d0887"
             ],
             [
              0.1111111111111111,
              "#46039f"
             ],
             [
              0.2222222222222222,
              "#7201a8"
             ],
             [
              0.3333333333333333,
              "#9c179e"
             ],
             [
              0.4444444444444444,
              "#bd3786"
             ],
             [
              0.5555555555555556,
              "#d8576b"
             ],
             [
              0.6666666666666666,
              "#ed7953"
             ],
             [
              0.7777777777777778,
              "#fb9f3a"
             ],
             [
              0.8888888888888888,
              "#fdca26"
             ],
             [
              1,
              "#f0f921"
             ]
            ],
            "type": "surface"
           }
          ],
          "table": [
           {
            "cells": {
             "fill": {
              "color": "#EBF0F8"
             },
             "line": {
              "color": "white"
             }
            },
            "header": {
             "fill": {
              "color": "#C8D4E3"
             },
             "line": {
              "color": "white"
             }
            },
            "type": "table"
           }
          ]
         },
         "layout": {
          "annotationdefaults": {
           "arrowcolor": "#2a3f5f",
           "arrowhead": 0,
           "arrowwidth": 1
          },
          "autotypenumbers": "strict",
          "coloraxis": {
           "colorbar": {
            "outlinewidth": 0,
            "ticks": ""
           }
          },
          "colorscale": {
           "diverging": [
            [
             0,
             "#8e0152"
            ],
            [
             0.1,
             "#c51b7d"
            ],
            [
             0.2,
             "#de77ae"
            ],
            [
             0.3,
             "#f1b6da"
            ],
            [
             0.4,
             "#fde0ef"
            ],
            [
             0.5,
             "#f7f7f7"
            ],
            [
             0.6,
             "#e6f5d0"
            ],
            [
             0.7,
             "#b8e186"
            ],
            [
             0.8,
             "#7fbc41"
            ],
            [
             0.9,
             "#4d9221"
            ],
            [
             1,
             "#276419"
            ]
           ],
           "sequential": [
            [
             0,
             "#0d0887"
            ],
            [
             0.1111111111111111,
             "#46039f"
            ],
            [
             0.2222222222222222,
             "#7201a8"
            ],
            [
             0.3333333333333333,
             "#9c179e"
            ],
            [
             0.4444444444444444,
             "#bd3786"
            ],
            [
             0.5555555555555556,
             "#d8576b"
            ],
            [
             0.6666666666666666,
             "#ed7953"
            ],
            [
             0.7777777777777778,
             "#fb9f3a"
            ],
            [
             0.8888888888888888,
             "#fdca26"
            ],
            [
             1,
             "#f0f921"
            ]
           ],
           "sequentialminus": [
            [
             0,
             "#0d0887"
            ],
            [
             0.1111111111111111,
             "#46039f"
            ],
            [
             0.2222222222222222,
             "#7201a8"
            ],
            [
             0.3333333333333333,
             "#9c179e"
            ],
            [
             0.4444444444444444,
             "#bd3786"
            ],
            [
             0.5555555555555556,
             "#d8576b"
            ],
            [
             0.6666666666666666,
             "#ed7953"
            ],
            [
             0.7777777777777778,
             "#fb9f3a"
            ],
            [
             0.8888888888888888,
             "#fdca26"
            ],
            [
             1,
             "#f0f921"
            ]
           ]
          },
          "colorway": [
           "#636efa",
           "#EF553B",
           "#00cc96",
           "#ab63fa",
           "#FFA15A",
           "#19d3f3",
           "#FF6692",
           "#B6E880",
           "#FF97FF",
           "#FECB52"
          ],
          "font": {
           "color": "#2a3f5f"
          },
          "geo": {
           "bgcolor": "white",
           "lakecolor": "white",
           "landcolor": "#E5ECF6",
           "showlakes": true,
           "showland": true,
           "subunitcolor": "white"
          },
          "hoverlabel": {
           "align": "left"
          },
          "hovermode": "closest",
          "mapbox": {
           "style": "light"
          },
          "paper_bgcolor": "white",
          "plot_bgcolor": "#E5ECF6",
          "polar": {
           "angularaxis": {
            "gridcolor": "white",
            "linecolor": "white",
            "ticks": ""
           },
           "bgcolor": "#E5ECF6",
           "radialaxis": {
            "gridcolor": "white",
            "linecolor": "white",
            "ticks": ""
           }
          },
          "scene": {
           "xaxis": {
            "backgroundcolor": "#E5ECF6",
            "gridcolor": "white",
            "gridwidth": 2,
            "linecolor": "white",
            "showbackground": true,
            "ticks": "",
            "zerolinecolor": "white"
           },
           "yaxis": {
            "backgroundcolor": "#E5ECF6",
            "gridcolor": "white",
            "gridwidth": 2,
            "linecolor": "white",
            "showbackground": true,
            "ticks": "",
            "zerolinecolor": "white"
           },
           "zaxis": {
            "backgroundcolor": "#E5ECF6",
            "gridcolor": "white",
            "gridwidth": 2,
            "linecolor": "white",
            "showbackground": true,
            "ticks": "",
            "zerolinecolor": "white"
           }
          },
          "shapedefaults": {
           "line": {
            "color": "#2a3f5f"
           }
          },
          "ternary": {
           "aaxis": {
            "gridcolor": "white",
            "linecolor": "white",
            "ticks": ""
           },
           "baxis": {
            "gridcolor": "white",
            "linecolor": "white",
            "ticks": ""
           },
           "bgcolor": "#E5ECF6",
           "caxis": {
            "gridcolor": "white",
            "linecolor": "white",
            "ticks": ""
           }
          },
          "title": {
           "x": 0.05
          },
          "xaxis": {
           "automargin": true,
           "gridcolor": "white",
           "linecolor": "white",
           "ticks": "",
           "title": {
            "standoff": 15
           },
           "zerolinecolor": "white",
           "zerolinewidth": 2
          },
          "yaxis": {
           "automargin": true,
           "gridcolor": "white",
           "linecolor": "white",
           "ticks": "",
           "title": {
            "standoff": 15
           },
           "zerolinecolor": "white",
           "zerolinewidth": 2
          }
         }
        },
        "title": {
         "text": "Top 10 mots"
        },
        "width": 600,
        "xaxis": {
         "anchor": "y",
         "domain": [
          0,
          1
         ],
         "title": {
          "text": "count"
         }
        },
        "yaxis": {
         "anchor": "x",
         "domain": [
          0,
          1
         ],
         "title": {
          "text": "prefLabel"
         }
        }
       }
      },
      "text/html": [
       "<div>                            <div id=\"68fbc527-0a5a-4aec-9d18-7f39f100a8c0\" class=\"plotly-graph-div\" style=\"height:600px; width:600px;\"></div>            <script type=\"text/javascript\">                require([\"plotly\"], function(Plotly) {                    window.PLOTLYENV=window.PLOTLYENV || {};                                    if (document.getElementById(\"68fbc527-0a5a-4aec-9d18-7f39f100a8c0\")) {                    Plotly.newPlot(                        \"68fbc527-0a5a-4aec-9d18-7f39f100a8c0\",                        [{\"alignmentgroup\": \"True\", \"hovertemplate\": \"count=%{text}<br>prefLabel=%{y}<extra></extra>\", \"legendgroup\": \"\", \"marker\": {\"color\": \"#636efa\"}, \"name\": \"\", \"offsetgroup\": \"\", \"orientation\": \"h\", \"showlegend\": false, \"text\": [5.0, 5.0, 5.0, 6.0, 6.0, 8.0, 10.0, 16.0, 72.0, 287.0], \"textposition\": \"auto\", \"type\": \"bar\", \"x\": [5, 5, 5, 6, 6, 8, 10, 16, 72, 287], \"xaxis\": \"x\", \"y\": [\"stade secondaire BBCH 16\", \"stade secondaire BBCH 61\", \"stade secondaire BBCH 75\", \"stade secondaire BBCH 00\", \"stade secondaire BBCH 57\", \"stade secondaire BBCH 14\", \"stade secondaire BBCH 30\", \"stade secondaire BBCH 89\", \"stade principal BBCH 0\", \"stade secondaire BBCH 009 \"], \"yaxis\": \"y\"}],                        {\"autosize\": false, \"barmode\": \"relative\", \"font\": {\"size\": 10}, \"height\": 600, \"legend\": {\"tracegroupgap\": 0}, \"margin\": {\"b\": 200, \"l\": 200, \"r\": 200, \"t\": 200}, \"showlegend\": false, \"template\": {\"data\": {\"bar\": [{\"error_x\": {\"color\": \"#2a3f5f\"}, \"error_y\": {\"color\": \"#2a3f5f\"}, \"marker\": {\"line\": {\"color\": \"#E5ECF6\", \"width\": 0.5}}, \"type\": \"bar\"}], \"barpolar\": [{\"marker\": {\"line\": {\"color\": \"#E5ECF6\", \"width\": 0.5}}, \"type\": \"barpolar\"}], \"carpet\": [{\"aaxis\": {\"endlinecolor\": \"#2a3f5f\", \"gridcolor\": \"white\", \"linecolor\": \"white\", \"minorgridcolor\": \"white\", \"startlinecolor\": \"#2a3f5f\"}, \"baxis\": {\"endlinecolor\": \"#2a3f5f\", \"gridcolor\": \"white\", \"linecolor\": \"white\", \"minorgridcolor\": \"white\", \"startlinecolor\": \"#2a3f5f\"}, \"type\": \"carpet\"}], \"choropleth\": [{\"colorbar\": {\"outlinewidth\": 0, \"ticks\": \"\"}, \"type\": \"choropleth\"}], \"contour\": [{\"colorbar\": {\"outlinewidth\": 0, \"ticks\": \"\"}, \"colorscale\": [[0.0, \"#0d0887\"], [0.1111111111111111, \"#46039f\"], [0.2222222222222222, \"#7201a8\"], [0.3333333333333333, \"#9c179e\"], [0.4444444444444444, \"#bd3786\"], [0.5555555555555556, \"#d8576b\"], [0.6666666666666666, \"#ed7953\"], [0.7777777777777778, \"#fb9f3a\"], [0.8888888888888888, \"#fdca26\"], [1.0, \"#f0f921\"]], \"type\": \"contour\"}], \"contourcarpet\": [{\"colorbar\": {\"outlinewidth\": 0, \"ticks\": \"\"}, \"type\": \"contourcarpet\"}], \"heatmap\": [{\"colorbar\": {\"outlinewidth\": 0, \"ticks\": \"\"}, \"colorscale\": [[0.0, \"#0d0887\"], [0.1111111111111111, \"#46039f\"], [0.2222222222222222, \"#7201a8\"], [0.3333333333333333, \"#9c179e\"], [0.4444444444444444, \"#bd3786\"], [0.5555555555555556, \"#d8576b\"], [0.6666666666666666, \"#ed7953\"], [0.7777777777777778, \"#fb9f3a\"], [0.8888888888888888, \"#fdca26\"], [1.0, \"#f0f921\"]], \"type\": \"heatmap\"}], \"heatmapgl\": [{\"colorbar\": {\"outlinewidth\": 0, \"ticks\": \"\"}, \"colorscale\": [[0.0, \"#0d0887\"], [0.1111111111111111, \"#46039f\"], [0.2222222222222222, \"#7201a8\"], [0.3333333333333333, \"#9c179e\"], [0.4444444444444444, \"#bd3786\"], [0.5555555555555556, \"#d8576b\"], [0.6666666666666666, \"#ed7953\"], [0.7777777777777778, \"#fb9f3a\"], [0.8888888888888888, \"#fdca26\"], [1.0, \"#f0f921\"]], \"type\": \"heatmapgl\"}], \"histogram\": [{\"marker\": {\"colorbar\": {\"outlinewidth\": 0, \"ticks\": \"\"}}, \"type\": \"histogram\"}], \"histogram2d\": [{\"colorbar\": {\"outlinewidth\": 0, \"ticks\": \"\"}, \"colorscale\": [[0.0, \"#0d0887\"], [0.1111111111111111, \"#46039f\"], [0.2222222222222222, \"#7201a8\"], [0.3333333333333333, \"#9c179e\"], [0.4444444444444444, \"#bd3786\"], [0.5555555555555556, \"#d8576b\"], [0.6666666666666666, \"#ed7953\"], [0.7777777777777778, \"#fb9f3a\"], [0.8888888888888888, \"#fdca26\"], [1.0, \"#f0f921\"]], \"type\": \"histogram2d\"}], \"histogram2dcontour\": [{\"colorbar\": {\"outlinewidth\": 0, \"ticks\": \"\"}, \"colorscale\": [[0.0, \"#0d0887\"], [0.1111111111111111, \"#46039f\"], [0.2222222222222222, \"#7201a8\"], [0.3333333333333333, \"#9c179e\"], [0.4444444444444444, \"#bd3786\"], [0.5555555555555556, \"#d8576b\"], [0.6666666666666666, \"#ed7953\"], [0.7777777777777778, \"#fb9f3a\"], [0.8888888888888888, \"#fdca26\"], [1.0, \"#f0f921\"]], \"type\": \"histogram2dcontour\"}], \"mesh3d\": [{\"colorbar\": {\"outlinewidth\": 0, \"ticks\": \"\"}, \"type\": \"mesh3d\"}], \"parcoords\": [{\"line\": {\"colorbar\": {\"outlinewidth\": 0, \"ticks\": \"\"}}, \"type\": \"parcoords\"}], \"pie\": [{\"automargin\": true, \"type\": \"pie\"}], \"scatter\": [{\"marker\": {\"colorbar\": {\"outlinewidth\": 0, \"ticks\": \"\"}}, \"type\": \"scatter\"}], \"scatter3d\": [{\"line\": {\"colorbar\": {\"outlinewidth\": 0, \"ticks\": \"\"}}, \"marker\": {\"colorbar\": {\"outlinewidth\": 0, \"ticks\": \"\"}}, \"type\": \"scatter3d\"}], \"scattercarpet\": [{\"marker\": {\"colorbar\": {\"outlinewidth\": 0, \"ticks\": \"\"}}, \"type\": \"scattercarpet\"}], \"scattergeo\": [{\"marker\": {\"colorbar\": {\"outlinewidth\": 0, \"ticks\": \"\"}}, \"type\": \"scattergeo\"}], \"scattergl\": [{\"marker\": {\"colorbar\": {\"outlinewidth\": 0, \"ticks\": \"\"}}, \"type\": \"scattergl\"}], \"scattermapbox\": [{\"marker\": {\"colorbar\": {\"outlinewidth\": 0, \"ticks\": \"\"}}, \"type\": \"scattermapbox\"}], \"scatterpolar\": [{\"marker\": {\"colorbar\": {\"outlinewidth\": 0, \"ticks\": \"\"}}, \"type\": \"scatterpolar\"}], \"scatterpolargl\": [{\"marker\": {\"colorbar\": {\"outlinewidth\": 0, \"ticks\": \"\"}}, \"type\": \"scatterpolargl\"}], \"scatterternary\": [{\"marker\": {\"colorbar\": {\"outlinewidth\": 0, \"ticks\": \"\"}}, \"type\": \"scatterternary\"}], \"surface\": [{\"colorbar\": {\"outlinewidth\": 0, \"ticks\": \"\"}, \"colorscale\": [[0.0, \"#0d0887\"], [0.1111111111111111, \"#46039f\"], [0.2222222222222222, \"#7201a8\"], [0.3333333333333333, \"#9c179e\"], [0.4444444444444444, \"#bd3786\"], [0.5555555555555556, \"#d8576b\"], [0.6666666666666666, \"#ed7953\"], [0.7777777777777778, \"#fb9f3a\"], [0.8888888888888888, \"#fdca26\"], [1.0, \"#f0f921\"]], \"type\": \"surface\"}], \"table\": [{\"cells\": {\"fill\": {\"color\": \"#EBF0F8\"}, \"line\": {\"color\": \"white\"}}, \"header\": {\"fill\": {\"color\": \"#C8D4E3\"}, \"line\": {\"color\": \"white\"}}, \"type\": \"table\"}]}, \"layout\": {\"annotationdefaults\": {\"arrowcolor\": \"#2a3f5f\", \"arrowhead\": 0, \"arrowwidth\": 1}, \"autotypenumbers\": \"strict\", \"coloraxis\": {\"colorbar\": {\"outlinewidth\": 0, \"ticks\": \"\"}}, \"colorscale\": {\"diverging\": [[0, \"#8e0152\"], [0.1, \"#c51b7d\"], [0.2, \"#de77ae\"], [0.3, \"#f1b6da\"], [0.4, \"#fde0ef\"], [0.5, \"#f7f7f7\"], [0.6, \"#e6f5d0\"], [0.7, \"#b8e186\"], [0.8, \"#7fbc41\"], [0.9, \"#4d9221\"], [1, \"#276419\"]], \"sequential\": [[0.0, \"#0d0887\"], [0.1111111111111111, \"#46039f\"], [0.2222222222222222, \"#7201a8\"], [0.3333333333333333, \"#9c179e\"], [0.4444444444444444, \"#bd3786\"], [0.5555555555555556, \"#d8576b\"], [0.6666666666666666, \"#ed7953\"], [0.7777777777777778, \"#fb9f3a\"], [0.8888888888888888, \"#fdca26\"], [1.0, \"#f0f921\"]], \"sequentialminus\": [[0.0, \"#0d0887\"], [0.1111111111111111, \"#46039f\"], [0.2222222222222222, \"#7201a8\"], [0.3333333333333333, \"#9c179e\"], [0.4444444444444444, \"#bd3786\"], [0.5555555555555556, \"#d8576b\"], [0.6666666666666666, \"#ed7953\"], [0.7777777777777778, \"#fb9f3a\"], [0.8888888888888888, \"#fdca26\"], [1.0, \"#f0f921\"]]}, \"colorway\": [\"#636efa\", \"#EF553B\", \"#00cc96\", \"#ab63fa\", \"#FFA15A\", \"#19d3f3\", \"#FF6692\", \"#B6E880\", \"#FF97FF\", \"#FECB52\"], \"font\": {\"color\": \"#2a3f5f\"}, \"geo\": {\"bgcolor\": \"white\", \"lakecolor\": \"white\", \"landcolor\": \"#E5ECF6\", \"showlakes\": true, \"showland\": true, \"subunitcolor\": \"white\"}, \"hoverlabel\": {\"align\": \"left\"}, \"hovermode\": \"closest\", \"mapbox\": {\"style\": \"light\"}, \"paper_bgcolor\": \"white\", \"plot_bgcolor\": \"#E5ECF6\", \"polar\": {\"angularaxis\": {\"gridcolor\": \"white\", \"linecolor\": \"white\", \"ticks\": \"\"}, \"bgcolor\": \"#E5ECF6\", \"radialaxis\": {\"gridcolor\": \"white\", \"linecolor\": \"white\", \"ticks\": \"\"}}, \"scene\": {\"xaxis\": {\"backgroundcolor\": \"#E5ECF6\", \"gridcolor\": \"white\", \"gridwidth\": 2, \"linecolor\": \"white\", \"showbackground\": true, \"ticks\": \"\", \"zerolinecolor\": \"white\"}, \"yaxis\": {\"backgroundcolor\": \"#E5ECF6\", \"gridcolor\": \"white\", \"gridwidth\": 2, \"linecolor\": \"white\", \"showbackground\": true, \"ticks\": \"\", \"zerolinecolor\": \"white\"}, \"zaxis\": {\"backgroundcolor\": \"#E5ECF6\", \"gridcolor\": \"white\", \"gridwidth\": 2, \"linecolor\": \"white\", \"showbackground\": true, \"ticks\": \"\", \"zerolinecolor\": \"white\"}}, \"shapedefaults\": {\"line\": {\"color\": \"#2a3f5f\"}}, \"ternary\": {\"aaxis\": {\"gridcolor\": \"white\", \"linecolor\": \"white\", \"ticks\": \"\"}, \"baxis\": {\"gridcolor\": \"white\", \"linecolor\": \"white\", \"ticks\": \"\"}, \"bgcolor\": \"#E5ECF6\", \"caxis\": {\"gridcolor\": \"white\", \"linecolor\": \"white\", \"ticks\": \"\"}}, \"title\": {\"x\": 0.05}, \"xaxis\": {\"automargin\": true, \"gridcolor\": \"white\", \"linecolor\": \"white\", \"ticks\": \"\", \"title\": {\"standoff\": 15}, \"zerolinecolor\": \"white\", \"zerolinewidth\": 2}, \"yaxis\": {\"automargin\": true, \"gridcolor\": \"white\", \"linecolor\": \"white\", \"ticks\": \"\", \"title\": {\"standoff\": 15}, \"zerolinecolor\": \"white\", \"zerolinewidth\": 2}}}, \"title\": {\"text\": \"Top 10 mots\"}, \"width\": 600, \"xaxis\": {\"anchor\": \"y\", \"domain\": [0.0, 1.0], \"title\": {\"text\": \"count\"}}, \"yaxis\": {\"anchor\": \"x\", \"domain\": [0.0, 1.0], \"title\": {\"text\": \"prefLabel\"}}},                        {\"responsive\": true}                    ).then(function(){\n",
       "                            \n",
       "var gd = document.getElementById('68fbc527-0a5a-4aec-9d18-7f39f100a8c0');\n",
       "var x = new MutationObserver(function (mutations, observer) {{\n",
       "        var display = window.getComputedStyle(gd).display;\n",
       "        if (!display || display === 'none') {{\n",
       "            console.log([gd, 'removed!']);\n",
       "            Plotly.purge(gd);\n",
       "            observer.disconnect();\n",
       "        }}\n",
       "}});\n",
       "\n",
       "// Listen for the removal of the full notebook cells\n",
       "var notebookContainer = gd.closest('#notebook-container');\n",
       "if (notebookContainer) {{\n",
       "    x.observe(notebookContainer, {childList: true});\n",
       "}}\n",
       "\n",
       "// Listen for the clearing of the current output cell\n",
       "var outputEl = gd.closest('.output');\n",
       "if (outputEl) {{\n",
       "    x.observe(outputEl, {childList: true});\n",
       "}}\n",
       "\n",
       "                        })                };                });            </script>        </div>"
      ]
     },
     "metadata": {},
     "output_type": "display_data"
    }
   ],
   "source": [
    "df_sort = d2kab_baseline_freq[:10].sort_values(by='count')\n",
    "fig = px.bar(df_sort, x='count', y='prefLabel',  orientation='h', text='count',\n",
    "             height=600,\n",
    "             title='Top 10 mots')\n",
    "\n",
    "fig.update_layout(\n",
    "    margin=dict(t=200, r=200, b=200, l=200),\n",
    "    showlegend=False,\n",
    "    font_size=10,\n",
    "    width=600, height=600,\n",
    "    autosize=False)\n",
    "\n",
    "\n",
    "fig.show()"
   ]
  },
  {
   "cell_type": "code",
   "execution_count": 9,
   "metadata": {},
   "outputs": [
    {
     "data": {
      "text/html": [
       "<div>\n",
       "<style scoped>\n",
       "    .dataframe tbody tr th:only-of-type {\n",
       "        vertical-align: middle;\n",
       "    }\n",
       "\n",
       "    .dataframe tbody tr th {\n",
       "        vertical-align: top;\n",
       "    }\n",
       "\n",
       "    .dataframe thead th {\n",
       "        text-align: right;\n",
       "    }\n",
       "</style>\n",
       "<table border=\"1\" class=\"dataframe\">\n",
       "  <thead>\n",
       "    <tr style=\"text-align: right;\">\n",
       "      <th></th>\n",
       "      <th>bsv</th>\n",
       "      <th>number of words</th>\n",
       "      <th>html tag</th>\n",
       "      <th>context before</th>\n",
       "      <th>form</th>\n",
       "      <th>lemma</th>\n",
       "      <th>prefLabel</th>\n",
       "      <th>context after</th>\n",
       "      <th>location</th>\n",
       "      <th>features</th>\n",
       "      <th>corpus</th>\n",
       "    </tr>\n",
       "  </thead>\n",
       "  <tbody>\n",
       "    <tr>\n",
       "      <th>0</th>\n",
       "      <td>/Users/belka/Documents/GitHub/termExtraction/r...</td>\n",
       "      <td>2433</td>\n",
       "      <td>html</td>\n",
       "      <td>uvette jaune dès la</td>\n",
       "      <td>levée</td>\n",
       "      <td>levée</td>\n",
       "      <td>stade secondaire BBCH 009</td>\n",
       "      <td>pour suivre les pet</td>\n",
       "      <td>97-102</td>\n",
       "      <td>type=RDFProjector, uri=http://ontology.inrae.f...</td>\n",
       "      <td>D2KAB (test)</td>\n",
       "    </tr>\n",
       "    <tr>\n",
       "      <th>1</th>\n",
       "      <td>/Users/belka/Documents/GitHub/termExtraction/r...</td>\n",
       "      <td>2433</td>\n",
       "      <td>html</td>\n",
       "      <td>% 8% 8% 8% 0% Semis</td>\n",
       "      <td>Germination</td>\n",
       "      <td>germination</td>\n",
       "      <td>stade principal BBCH 0</td>\n",
       "      <td>levée cotylédons ét</td>\n",
       "      <td>942-953</td>\n",
       "      <td>type=RDFProjector, uri=http://ontology.inrae.f...</td>\n",
       "      <td>D2KAB (test)</td>\n",
       "    </tr>\n",
       "    <tr>\n",
       "      <th>2</th>\n",
       "      <td>/Users/belka/Documents/GitHub/termExtraction/r...</td>\n",
       "      <td>2433</td>\n",
       "      <td>html</td>\n",
       "      <td>r le semis pour une</td>\n",
       "      <td>levée</td>\n",
       "      <td>levée</td>\n",
       "      <td>stade secondaire BBCH 009</td>\n",
       "      <td>rapide et un bon dé</td>\n",
       "      <td>3024-3029</td>\n",
       "      <td>type=RDFProjector, uri=http://ontology.inrae.f...</td>\n",
       "      <td>D2KAB (test)</td>\n",
       "    </tr>\n",
       "    <tr>\n",
       "      <th>3</th>\n",
       "      <td>/Users/belka/Documents/GitHub/termExtraction/r...</td>\n",
       "      <td>2433</td>\n",
       "      <td>html</td>\n",
       "      <td>ode de risque De la</td>\n",
       "      <td>germination</td>\n",
       "      <td>germination</td>\n",
       "      <td>stade principal BBCH 0</td>\n",
       "      <td>au stade 3 feuilles</td>\n",
       "      <td>3178-3189</td>\n",
       "      <td>type=RDFProjector, uri=http://ontology.inrae.f...</td>\n",
       "      <td>D2KAB (test)</td>\n",
       "    </tr>\n",
       "    <tr>\n",
       "      <th>4</th>\n",
       "      <td>/Users/belka/Documents/GitHub/termExtraction/r...</td>\n",
       "      <td>2433</td>\n",
       "      <td>html</td>\n",
       "      <td>ns climatiques à la</td>\n",
       "      <td>levée</td>\n",
       "      <td>levée</td>\n",
       "      <td>stade secondaire BBCH 009</td>\n",
       "      <td>, des dégâts observé</td>\n",
       "      <td>3459-3464</td>\n",
       "      <td>type=RDFProjector, uri=http://ontology.inrae.f...</td>\n",
       "      <td>D2KAB (test)</td>\n",
       "    </tr>\n",
       "    <tr>\n",
       "      <th>...</th>\n",
       "      <td>...</td>\n",
       "      <td>...</td>\n",
       "      <td>...</td>\n",
       "      <td>...</td>\n",
       "      <td>...</td>\n",
       "      <td>...</td>\n",
       "      <td>...</td>\n",
       "      <td>...</td>\n",
       "      <td>...</td>\n",
       "      <td>...</td>\n",
       "      <td>...</td>\n",
       "    </tr>\n",
       "    <tr>\n",
       "      <th>486</th>\n",
       "      <td>/Users/belka/Documents/GitHub/termExtraction/r...</td>\n",
       "      <td>4682</td>\n",
       "      <td>html</td>\n",
       "      <td>e gros problèmes de</td>\n",
       "      <td>levée</td>\n",
       "      <td>levée</td>\n",
       "      <td>stade secondaire BBCH 009</td>\n",
       "      <td>. Identification de</td>\n",
       "      <td>18566-18571</td>\n",
       "      <td>type=RDFProjector, uri=http://ontology.inrae.f...</td>\n",
       "      <td>D2KAB (test)</td>\n",
       "    </tr>\n",
       "    <tr>\n",
       "      <th>487</th>\n",
       "      <td>/Users/belka/Documents/GitHub/termExtraction/r...</td>\n",
       "      <td>3272</td>\n",
       "      <td>html</td>\n",
       "      <td>ent favorables à la</td>\n",
       "      <td>germination</td>\n",
       "      <td>germination</td>\n",
       "      <td>stade principal BBCH 0</td>\n",
       "      <td>de ces pycnides(pré</td>\n",
       "      <td>5344-5355</td>\n",
       "      <td>type=RDFProjector, uri=http://ontology.inrae.f...</td>\n",
       "      <td>D2KAB (test)</td>\n",
       "    </tr>\n",
       "    <tr>\n",
       "      <th>488</th>\n",
       "      <td>/Users/belka/Documents/GitHub/termExtraction/r...</td>\n",
       "      <td>3272</td>\n",
       "      <td>html</td>\n",
       "      <td>acquise dès que la</td>\n",
       "      <td>germination</td>\n",
       "      <td>germination</td>\n",
       "      <td>stade principal BBCH 0</td>\n",
       "      <td>des spores contenue</td>\n",
       "      <td>9528-9539</td>\n",
       "      <td>type=RDFProjector, uri=http://ontology.inrae.f...</td>\n",
       "      <td>D2KAB (test)</td>\n",
       "    </tr>\n",
       "    <tr>\n",
       "      <th>489</th>\n",
       "      <td>/Users/belka/Documents/GitHub/termExtraction/r...</td>\n",
       "      <td>3272</td>\n",
       "      <td>html</td>\n",
       "      <td>début avril. Aucune</td>\n",
       "      <td>germination</td>\n",
       "      <td>germination</td>\n",
       "      <td>stade principal BBCH 0</td>\n",
       "      <td>n'a eu lieu en 24h</td>\n",
       "      <td>9781-9792</td>\n",
       "      <td>type=RDFProjector, uri=http://ontology.inrae.f...</td>\n",
       "      <td>D2KAB (test)</td>\n",
       "    </tr>\n",
       "    <tr>\n",
       "      <th>490</th>\n",
       "      <td>/Users/belka/Documents/GitHub/termExtraction/r...</td>\n",
       "      <td>4316</td>\n",
       "      <td>html</td>\n",
       "      <td>e gros problèmes de</td>\n",
       "      <td>levée</td>\n",
       "      <td>levée</td>\n",
       "      <td>stade secondaire BBCH 009</td>\n",
       "      <td>. Identification de</td>\n",
       "      <td>16132-16137</td>\n",
       "      <td>type=RDFProjector, uri=http://ontology.inrae.f...</td>\n",
       "      <td>D2KAB (test)</td>\n",
       "    </tr>\n",
       "  </tbody>\n",
       "</table>\n",
       "<p>491 rows × 11 columns</p>\n",
       "</div>"
      ],
      "text/plain": [
       "                                                   bsv  number of words  \\\n",
       "0    /Users/belka/Documents/GitHub/termExtraction/r...             2433   \n",
       "1    /Users/belka/Documents/GitHub/termExtraction/r...             2433   \n",
       "2    /Users/belka/Documents/GitHub/termExtraction/r...             2433   \n",
       "3    /Users/belka/Documents/GitHub/termExtraction/r...             2433   \n",
       "4    /Users/belka/Documents/GitHub/termExtraction/r...             2433   \n",
       "..                                                 ...              ...   \n",
       "486  /Users/belka/Documents/GitHub/termExtraction/r...             4682   \n",
       "487  /Users/belka/Documents/GitHub/termExtraction/r...             3272   \n",
       "488  /Users/belka/Documents/GitHub/termExtraction/r...             3272   \n",
       "489  /Users/belka/Documents/GitHub/termExtraction/r...             3272   \n",
       "490  /Users/belka/Documents/GitHub/termExtraction/r...             4316   \n",
       "\n",
       "    html tag       context before         form        lemma  \\\n",
       "0       html  uvette jaune dès la        levée        levée   \n",
       "1       html  % 8% 8% 8% 0% Semis  Germination  germination   \n",
       "2       html  r le semis pour une        levée        levée   \n",
       "3       html  ode de risque De la  germination  germination   \n",
       "4       html  ns climatiques à la        levée        levée   \n",
       "..       ...                  ...          ...          ...   \n",
       "486     html  e gros problèmes de        levée        levée   \n",
       "487     html  ent favorables à la  germination  germination   \n",
       "488     html   acquise dès que la  germination  germination   \n",
       "489     html  début avril. Aucune  germination  germination   \n",
       "490     html  e gros problèmes de        levée        levée   \n",
       "\n",
       "                      prefLabel         context after     location  \\\n",
       "0    stade secondaire BBCH 009    pour suivre les pet       97-102   \n",
       "1        stade principal BBCH 0   levée cotylédons ét      942-953   \n",
       "2    stade secondaire BBCH 009    rapide et un bon dé    3024-3029   \n",
       "3        stade principal BBCH 0   au stade 3 feuilles    3178-3189   \n",
       "4    stade secondaire BBCH 009   , des dégâts observé    3459-3464   \n",
       "..                          ...                   ...          ...   \n",
       "486  stade secondaire BBCH 009    . Identification de  18566-18571   \n",
       "487      stade principal BBCH 0   de ces pycnides(pré    5344-5355   \n",
       "488      stade principal BBCH 0   des spores contenue    9528-9539   \n",
       "489      stade principal BBCH 0    n'a eu lieu en 24h    9781-9792   \n",
       "490  stade secondaire BBCH 009    . Identification de  16132-16137   \n",
       "\n",
       "                                              features        corpus  \n",
       "0    type=RDFProjector, uri=http://ontology.inrae.f...  D2KAB (test)  \n",
       "1    type=RDFProjector, uri=http://ontology.inrae.f...  D2KAB (test)  \n",
       "2    type=RDFProjector, uri=http://ontology.inrae.f...  D2KAB (test)  \n",
       "3    type=RDFProjector, uri=http://ontology.inrae.f...  D2KAB (test)  \n",
       "4    type=RDFProjector, uri=http://ontology.inrae.f...  D2KAB (test)  \n",
       "..                                                 ...           ...  \n",
       "486  type=RDFProjector, uri=http://ontology.inrae.f...  D2KAB (test)  \n",
       "487  type=RDFProjector, uri=http://ontology.inrae.f...  D2KAB (test)  \n",
       "488  type=RDFProjector, uri=http://ontology.inrae.f...  D2KAB (test)  \n",
       "489  type=RDFProjector, uri=http://ontology.inrae.f...  D2KAB (test)  \n",
       "490  type=RDFProjector, uri=http://ontology.inrae.f...  D2KAB (test)  \n",
       "\n",
       "[491 rows x 11 columns]"
      ]
     },
     "execution_count": 9,
     "metadata": {},
     "output_type": "execute_result"
    }
   ],
   "source": [
    "d2kab_baseline = d2kab_baseline.assign(corpus='D2KAB (test)')\n",
    "d2kab_baseline"
   ]
  },
  {
   "cell_type": "code",
   "execution_count": 10,
   "metadata": {},
   "outputs": [
    {
     "data": {
      "text/html": [
       "<div>\n",
       "<style scoped>\n",
       "    .dataframe tbody tr th:only-of-type {\n",
       "        vertical-align: middle;\n",
       "    }\n",
       "\n",
       "    .dataframe tbody tr th {\n",
       "        vertical-align: top;\n",
       "    }\n",
       "\n",
       "    .dataframe thead th {\n",
       "        text-align: right;\n",
       "    }\n",
       "</style>\n",
       "<table border=\"1\" class=\"dataframe\">\n",
       "  <thead>\n",
       "    <tr style=\"text-align: right;\">\n",
       "      <th></th>\n",
       "      <th>corpus</th>\n",
       "      <th>bsv</th>\n",
       "      <th>prefLabel</th>\n",
       "      <th>count</th>\n",
       "    </tr>\n",
       "  </thead>\n",
       "  <tbody>\n",
       "    <tr>\n",
       "      <th>0</th>\n",
       "      <td>D2KAB (test)</td>\n",
       "      <td>20180911_bsv_grandes_cultures-26_cle0f15a8.html</td>\n",
       "      <td>stade principal BBCH 0</td>\n",
       "      <td>2</td>\n",
       "    </tr>\n",
       "    <tr>\n",
       "      <th>154</th>\n",
       "      <td>D2KAB (test)</td>\n",
       "      <td>BSV_Legumes_n_08_du_17_07_19_cle838d16.html</td>\n",
       "      <td>stade principal BBCH 0</td>\n",
       "      <td>1</td>\n",
       "    </tr>\n",
       "    <tr>\n",
       "      <th>149</th>\n",
       "      <td>D2KAB (test)</td>\n",
       "      <td>2019_BSV_Normandie_leg_22_sem35_cle43a9ca.html</td>\n",
       "      <td>stade principal BBCH 0</td>\n",
       "      <td>1</td>\n",
       "    </tr>\n",
       "    <tr>\n",
       "      <th>148</th>\n",
       "      <td>D2KAB (test)</td>\n",
       "      <td>20190828_BSV_legumes_cle0ede1d.html</td>\n",
       "      <td>stade principal BBCH 0</td>\n",
       "      <td>2</td>\n",
       "    </tr>\n",
       "    <tr>\n",
       "      <th>146</th>\n",
       "      <td>D2KAB (test)</td>\n",
       "      <td>20190731_BSV_legumes_cle01d6c6.html</td>\n",
       "      <td>stade principal BBCH 0</td>\n",
       "      <td>2</td>\n",
       "    </tr>\n",
       "  </tbody>\n",
       "</table>\n",
       "</div>"
      ],
      "text/plain": [
       "           corpus                                              bsv  \\\n",
       "0    D2KAB (test)  20180911_bsv_grandes_cultures-26_cle0f15a8.html   \n",
       "154  D2KAB (test)      BSV_Legumes_n_08_du_17_07_19_cle838d16.html   \n",
       "149  D2KAB (test)   2019_BSV_Normandie_leg_22_sem35_cle43a9ca.html   \n",
       "148  D2KAB (test)              20190828_BSV_legumes_cle0ede1d.html   \n",
       "146  D2KAB (test)              20190731_BSV_legumes_cle01d6c6.html   \n",
       "\n",
       "                  prefLabel  count  \n",
       "0    stade principal BBCH 0      2  \n",
       "154  stade principal BBCH 0      1  \n",
       "149  stade principal BBCH 0      1  \n",
       "148  stade principal BBCH 0      2  \n",
       "146  stade principal BBCH 0      2  "
      ]
     },
     "execution_count": 10,
     "metadata": {},
     "output_type": "execute_result"
    }
   ],
   "source": [
    "#d2kab_baseline = d2kab_baseline_freq.assign(corpus='D2KAB (test)')\n",
    "group_stages = d2kab_baseline[['corpus','bsv','prefLabel']].groupby(['corpus', 'bsv', 'prefLabel'])['prefLabel'] \\\n",
    "                             .count() \\\n",
    "                             .reset_index(name='count') \\\n",
    "                             .sort_values(['prefLabel'], ascending=True) \\\n",
    "                             \n",
    "group_stages['bsv'] = group_stages['bsv'].str.split(r'/').str.get(-1)\n",
    "group_stages[:5]"
   ]
  },
  {
   "cell_type": "code",
   "execution_count": 12,
   "metadata": {},
   "outputs": [
    {
     "data": {
      "text/html": [
       "<div>\n",
       "<style scoped>\n",
       "    .dataframe tbody tr th:only-of-type {\n",
       "        vertical-align: middle;\n",
       "    }\n",
       "\n",
       "    .dataframe tbody tr th {\n",
       "        vertical-align: top;\n",
       "    }\n",
       "\n",
       "    .dataframe thead th {\n",
       "        text-align: right;\n",
       "    }\n",
       "</style>\n",
       "<table border=\"1\" class=\"dataframe\">\n",
       "  <thead>\n",
       "    <tr style=\"text-align: right;\">\n",
       "      <th></th>\n",
       "      <th>index</th>\n",
       "      <th>corpus</th>\n",
       "      <th>prefLabel</th>\n",
       "      <th>count</th>\n",
       "      <th>Culture</th>\n",
       "    </tr>\n",
       "  </thead>\n",
       "  <tbody>\n",
       "    <tr>\n",
       "      <th>0</th>\n",
       "      <td>20180911_bsv_grandes_cultures-26_cle0f15a8.html</td>\n",
       "      <td>D2KAB (test)</td>\n",
       "      <td>stade principal BBCH 0</td>\n",
       "      <td>2</td>\n",
       "      <td>GC</td>\n",
       "    </tr>\n",
       "    <tr>\n",
       "      <th>1</th>\n",
       "      <td>20180911_bsv_grandes_cultures-26_cle0f15a8.html</td>\n",
       "      <td>D2KAB (test)</td>\n",
       "      <td>stade secondaire BBCH 009</td>\n",
       "      <td>9</td>\n",
       "      <td>GC</td>\n",
       "    </tr>\n",
       "    <tr>\n",
       "      <th>2</th>\n",
       "      <td>20181002_bsv_grandes_cultures_29_cle0423a6.html</td>\n",
       "      <td>D2KAB (test)</td>\n",
       "      <td>stade principal BBCH 0</td>\n",
       "      <td>2</td>\n",
       "      <td>GC</td>\n",
       "    </tr>\n",
       "    <tr>\n",
       "      <th>3</th>\n",
       "      <td>20181002_bsv_grandes_cultures_29_cle0423a6.html</td>\n",
       "      <td>D2KAB (test)</td>\n",
       "      <td>stade secondaire BBCH 009</td>\n",
       "      <td>8</td>\n",
       "      <td>GC</td>\n",
       "    </tr>\n",
       "    <tr>\n",
       "      <th>4</th>\n",
       "      <td>20181106_bsv_grandes_cultures_34_cle08159b.html</td>\n",
       "      <td>D2KAB (test)</td>\n",
       "      <td>stade principal BBCH 0</td>\n",
       "      <td>2</td>\n",
       "      <td>GC</td>\n",
       "    </tr>\n",
       "    <tr>\n",
       "      <th>...</th>\n",
       "      <td>...</td>\n",
       "      <td>...</td>\n",
       "      <td>...</td>\n",
       "      <td>...</td>\n",
       "      <td>...</td>\n",
       "    </tr>\n",
       "    <tr>\n",
       "      <th>213</th>\n",
       "      <td>bsv_viti_mp_gaillac_n18_30072019_cle0fe8aa.html</td>\n",
       "      <td>D2KAB (test)</td>\n",
       "      <td>stade secondaire BBCH 009</td>\n",
       "      <td>1</td>\n",
       "      <td>Viticulture</td>\n",
       "    </tr>\n",
       "    <tr>\n",
       "      <th>214</th>\n",
       "      <td>char_gdes_Cultures_no11_du_30-04-19_cle096f9c....</td>\n",
       "      <td>D2KAB (test)</td>\n",
       "      <td>stade principal BBCH 0</td>\n",
       "      <td>1</td>\n",
       "      <td>GC</td>\n",
       "    </tr>\n",
       "    <tr>\n",
       "      <th>215</th>\n",
       "      <td>char_gdes_Cultures_no11_du_30-04-19_cle096f9c....</td>\n",
       "      <td>D2KAB (test)</td>\n",
       "      <td>stade secondaire BBCH 009</td>\n",
       "      <td>4</td>\n",
       "      <td>GC</td>\n",
       "    </tr>\n",
       "    <tr>\n",
       "      <th>216</th>\n",
       "      <td>char_gdes_Cultures_no14_du_22-05-19_cle0b1586....</td>\n",
       "      <td>D2KAB (test)</td>\n",
       "      <td>stade secondaire BBCH 009</td>\n",
       "      <td>6</td>\n",
       "      <td>GC</td>\n",
       "    </tr>\n",
       "    <tr>\n",
       "      <th>217</th>\n",
       "      <td>char_gdes_Cultures_no26_du_14-08-19_cle0fb929....</td>\n",
       "      <td>D2KAB (test)</td>\n",
       "      <td>stade secondaire BBCH 009</td>\n",
       "      <td>7</td>\n",
       "      <td>GC</td>\n",
       "    </tr>\n",
       "  </tbody>\n",
       "</table>\n",
       "<p>218 rows × 5 columns</p>\n",
       "</div>"
      ],
      "text/plain": [
       "                                                 index        corpus  \\\n",
       "0      20180911_bsv_grandes_cultures-26_cle0f15a8.html  D2KAB (test)   \n",
       "1      20180911_bsv_grandes_cultures-26_cle0f15a8.html  D2KAB (test)   \n",
       "2      20181002_bsv_grandes_cultures_29_cle0423a6.html  D2KAB (test)   \n",
       "3      20181002_bsv_grandes_cultures_29_cle0423a6.html  D2KAB (test)   \n",
       "4      20181106_bsv_grandes_cultures_34_cle08159b.html  D2KAB (test)   \n",
       "..                                                 ...           ...   \n",
       "213    bsv_viti_mp_gaillac_n18_30072019_cle0fe8aa.html  D2KAB (test)   \n",
       "214  char_gdes_Cultures_no11_du_30-04-19_cle096f9c....  D2KAB (test)   \n",
       "215  char_gdes_Cultures_no11_du_30-04-19_cle096f9c....  D2KAB (test)   \n",
       "216  char_gdes_Cultures_no14_du_22-05-19_cle0b1586....  D2KAB (test)   \n",
       "217  char_gdes_Cultures_no26_du_14-08-19_cle0fb929....  D2KAB (test)   \n",
       "\n",
       "                      prefLabel  count      Culture  \n",
       "0        stade principal BBCH 0      2           GC  \n",
       "1    stade secondaire BBCH 009       9           GC  \n",
       "2        stade principal BBCH 0      2           GC  \n",
       "3    stade secondaire BBCH 009       8           GC  \n",
       "4        stade principal BBCH 0      2           GC  \n",
       "..                          ...    ...          ...  \n",
       "213  stade secondaire BBCH 009       1  Viticulture  \n",
       "214      stade principal BBCH 0      1           GC  \n",
       "215  stade secondaire BBCH 009       4           GC  \n",
       "216  stade secondaire BBCH 009       6           GC  \n",
       "217  stade secondaire BBCH 009       7           GC  \n",
       "\n",
       "[218 rows x 5 columns]"
      ]
     },
     "execution_count": 12,
     "metadata": {},
     "output_type": "execute_result"
    }
   ],
   "source": [
    "# assign types of cultures\n",
    "gc = os.listdir(\"../resources/corpus/Corpus-v-12-04-21/train/CorpusTestD2kabGC.html\")\n",
    "df_gc = pd.DataFrame(gc, columns =['BSV'])\n",
    "#df_gc['BSV'] = \"/Users/belka/Documents/GitHub/termExtraction//resources/Corpus-v-12-04-21/train/CorpusTestD2kabGC.html\" + df_gc['BSV'].astype(str)\n",
    "df_gc = df_gc.assign(Culture='GC')\n",
    "\n",
    "viticulture = os.listdir(\"../resources/corpus/Corpus-v-12-04-21/train/CorpusTestD2kabViti.html\")\n",
    "df_viti = pd.DataFrame(viticulture, columns =['BSV'])\n",
    "#df_viti['BSV'] = \"/Users/belka/Documents/GitHub/termExtraction//resources/Corpus-v-12-04-21/train/CorpusTestD2kabViti.html\" + df_viti['BSV'].astype(str)\n",
    "df_viti = df_viti.assign(Culture='Viticulture')\n",
    "\n",
    "maraichage = os.listdir(\"../resources/corpus/Corpus-v-12-04-21/train/CorpusTestD2kabMaraichage.html\")\n",
    "df_mar = pd.DataFrame(maraichage, columns =['BSV'])\n",
    "#df_mar['BSV'] = \"/Users/belka/Documents/GitHub/termExtraction//resources/Corpus-v-12-04-21/train/CorpusTestD2kabMaraichage.html\" + df_mar['BSV'].astype(str)\n",
    "df_mar = df_mar.assign(Culture='Maraichage')\n",
    "\n",
    "df_culture = pd.concat([df_gc, df_viti, df_mar], sort=False)\n",
    "d2kab_culture =  group_stages.set_index('bsv').join(df_culture.set_index('BSV'))\n",
    "d2kab_culture.reset_index(level=0, inplace=True)\n",
    "d2kab_culture"
   ]
  },
  {
   "cell_type": "code",
   "execution_count": 13,
   "metadata": {},
   "outputs": [
    {
     "data": {
      "text/html": [
       "<div>\n",
       "<style scoped>\n",
       "    .dataframe tbody tr th:only-of-type {\n",
       "        vertical-align: middle;\n",
       "    }\n",
       "\n",
       "    .dataframe tbody tr th {\n",
       "        vertical-align: top;\n",
       "    }\n",
       "\n",
       "    .dataframe thead tr th {\n",
       "        text-align: left;\n",
       "    }\n",
       "\n",
       "    .dataframe thead tr:last-of-type th {\n",
       "        text-align: right;\n",
       "    }\n",
       "</style>\n",
       "<table border=\"1\" class=\"dataframe\">\n",
       "  <thead>\n",
       "    <tr>\n",
       "      <th></th>\n",
       "      <th colspan=\"4\" halign=\"left\">prefLabel</th>\n",
       "    </tr>\n",
       "    <tr>\n",
       "      <th></th>\n",
       "      <th>count</th>\n",
       "      <th>unique</th>\n",
       "      <th>top</th>\n",
       "      <th>freq</th>\n",
       "    </tr>\n",
       "    <tr>\n",
       "      <th>Culture</th>\n",
       "      <th></th>\n",
       "      <th></th>\n",
       "      <th></th>\n",
       "      <th></th>\n",
       "    </tr>\n",
       "  </thead>\n",
       "  <tbody>\n",
       "    <tr>\n",
       "      <th>GC</th>\n",
       "      <td>144</td>\n",
       "      <td>34</td>\n",
       "      <td>stade secondaire BBCH 009</td>\n",
       "      <td>59</td>\n",
       "    </tr>\n",
       "    <tr>\n",
       "      <th>Maraichage</th>\n",
       "      <td>37</td>\n",
       "      <td>11</td>\n",
       "      <td>stade secondaire BBCH 009</td>\n",
       "      <td>12</td>\n",
       "    </tr>\n",
       "    <tr>\n",
       "      <th>Viticulture</th>\n",
       "      <td>37</td>\n",
       "      <td>16</td>\n",
       "      <td>stade principal BBCH 0</td>\n",
       "      <td>10</td>\n",
       "    </tr>\n",
       "  </tbody>\n",
       "</table>\n",
       "</div>"
      ],
      "text/plain": [
       "            prefLabel                                        \n",
       "                count unique                         top freq\n",
       "Culture                                                      \n",
       "GC                144     34  stade secondaire BBCH 009    59\n",
       "Maraichage         37     11  stade secondaire BBCH 009    12\n",
       "Viticulture        37     16      stade principal BBCH 0   10"
      ]
     },
     "execution_count": 13,
     "metadata": {},
     "output_type": "execute_result"
    }
   ],
   "source": [
    "d2kab_culture[[\"prefLabel\", \"Culture\"]].groupby(\"Culture\").describe()"
   ]
  },
  {
   "cell_type": "code",
   "execution_count": 14,
   "metadata": {},
   "outputs": [
    {
     "data": {
      "application/vnd.plotly.v1+json": {
       "config": {
        "plotlyServerURL": "https://plotly.com"
       },
       "data": [
        {
         "branchvalues": "total",
         "domain": {
          "x": [
           0,
           1
          ],
          "y": [
           0,
           1
          ]
         },
         "hovertemplate": "labels=%{label}<br>count=%{value}<br>parent=%{parent}<br>id=%{id}<extra></extra>",
         "ids": [
          "D2KAB (test)/GC/stade principal BBCH 0",
          "D2KAB (test)/Maraichage/stade principal BBCH 0",
          "D2KAB (test)/Viticulture/stade principal BBCH 0",
          "D2KAB (test)/GC/stade secondaire BBCH 00",
          "D2KAB (test)/Maraichage/stade secondaire BBCH 00",
          "D2KAB (test)/GC/stade secondaire BBCH 009 ",
          "D2KAB (test)/Maraichage/stade secondaire BBCH 009 ",
          "D2KAB (test)/Viticulture/stade secondaire BBCH 009 ",
          "D2KAB (test)/GC/stade secondaire BBCH 01",
          "D2KAB (test)/GC/stade secondaire BBCH 05",
          "D2KAB (test)/Viticulture/stade secondaire BBCH 05",
          "D2KAB (test)/GC/stade secondaire BBCH 09",
          "D2KAB (test)/Viticulture/stade secondaire BBCH 09",
          "D2KAB (test)/GC/stade secondaire BBCH 10",
          "D2KAB (test)/Viticulture/stade secondaire BBCH 10",
          "D2KAB (test)/GC/stade secondaire BBCH 11",
          "D2KAB (test)/Viticulture/stade secondaire BBCH 11",
          "D2KAB (test)/GC/stade secondaire BBCH 12",
          "D2KAB (test)/Maraichage/stade secondaire BBCH 12",
          "D2KAB (test)/GC/stade secondaire BBCH 13",
          "D2KAB (test)/GC/stade secondaire BBCH 14",
          "D2KAB (test)/Viticulture/stade secondaire BBCH 14",
          "D2KAB (test)/GC/stade secondaire BBCH 15",
          "D2KAB (test)/GC/stade secondaire BBCH 16",
          "D2KAB (test)/GC/stade secondaire BBCH 17",
          "D2KAB (test)/GC/stade secondaire BBCH 18",
          "D2KAB (test)/Maraichage/stade secondaire BBCH 18",
          "D2KAB (test)/GC/stade secondaire BBCH 19",
          "D2KAB (test)/GC/stade secondaire BBCH 21",
          "D2KAB (test)/GC/stade secondaire BBCH 29",
          "D2KAB (test)/GC/stade secondaire BBCH 30",
          "D2KAB (test)/GC/stade secondaire BBCH 31",
          "D2KAB (test)/GC/stade secondaire BBCH 32",
          "D2KAB (test)/GC/stade secondaire BBCH 39",
          "D2KAB (test)/GC/stade secondaire BBCH 45",
          "D2KAB (test)/GC/stade secondaire BBCH 51",
          "D2KAB (test)/GC/stade secondaire BBCH 53",
          "D2KAB (test)/Viticulture/stade secondaire BBCH 53",
          "D2KAB (test)/GC/stade secondaire BBCH 55",
          "D2KAB (test)/Viticulture/stade secondaire BBCH 55",
          "D2KAB (test)/GC/stade secondaire BBCH 57",
          "D2KAB (test)/Viticulture/stade secondaire BBCH 57",
          "D2KAB (test)/GC/stade secondaire BBCH 59",
          "D2KAB (test)/GC/stade secondaire BBCH 60",
          "D2KAB (test)/GC/stade secondaire BBCH 61",
          "D2KAB (test)/Maraichage/stade secondaire BBCH 61",
          "D2KAB (test)/Maraichage/stade secondaire BBCH 62",
          "D2KAB (test)/GC/stade secondaire BBCH 65",
          "D2KAB (test)/Maraichage/stade secondaire BBCH 68",
          "D2KAB (test)/GC/stade secondaire BBCH 69",
          "D2KAB (test)/Maraichage/stade secondaire BBCH 69",
          "D2KAB (test)/Viticulture/stade secondaire BBCH 69",
          "D2KAB (test)/GC/stade secondaire BBCH 70",
          "D2KAB (test)/Maraichage/stade secondaire BBCH 71",
          "D2KAB (test)/GC/stade secondaire BBCH 73",
          "D2KAB (test)/Viticulture/stade secondaire BBCH 75",
          "D2KAB (test)/Viticulture/stade secondaire BBCH 77",
          "D2KAB (test)/Viticulture/stade secondaire BBCH 79",
          "D2KAB (test)/Viticulture/stade secondaire BBCH 81",
          "D2KAB (test)/Maraichage/stade secondaire BBCH 89",
          "D2KAB (test)/Viticulture/stade secondaire BBCH 89",
          "D2KAB (test)/GC",
          "D2KAB (test)/Maraichage",
          "D2KAB (test)/Viticulture",
          "D2KAB (test)"
         ],
         "labels": [
          "stade principal BBCH 0",
          "stade principal BBCH 0",
          "stade principal BBCH 0",
          "stade secondaire BBCH 00",
          "stade secondaire BBCH 00",
          "stade secondaire BBCH 009 ",
          "stade secondaire BBCH 009 ",
          "stade secondaire BBCH 009 ",
          "stade secondaire BBCH 01",
          "stade secondaire BBCH 05",
          "stade secondaire BBCH 05",
          "stade secondaire BBCH 09",
          "stade secondaire BBCH 09",
          "stade secondaire BBCH 10",
          "stade secondaire BBCH 10",
          "stade secondaire BBCH 11",
          "stade secondaire BBCH 11",
          "stade secondaire BBCH 12",
          "stade secondaire BBCH 12",
          "stade secondaire BBCH 13",
          "stade secondaire BBCH 14",
          "stade secondaire BBCH 14",
          "stade secondaire BBCH 15",
          "stade secondaire BBCH 16",
          "stade secondaire BBCH 17",
          "stade secondaire BBCH 18",
          "stade secondaire BBCH 18",
          "stade secondaire BBCH 19",
          "stade secondaire BBCH 21",
          "stade secondaire BBCH 29",
          "stade secondaire BBCH 30",
          "stade secondaire BBCH 31",
          "stade secondaire BBCH 32",
          "stade secondaire BBCH 39",
          "stade secondaire BBCH 45",
          "stade secondaire BBCH 51",
          "stade secondaire BBCH 53",
          "stade secondaire BBCH 53",
          "stade secondaire BBCH 55",
          "stade secondaire BBCH 55",
          "stade secondaire BBCH 57",
          "stade secondaire BBCH 57",
          "stade secondaire BBCH 59",
          "stade secondaire BBCH 60",
          "stade secondaire BBCH 61",
          "stade secondaire BBCH 61",
          "stade secondaire BBCH 62",
          "stade secondaire BBCH 65",
          "stade secondaire BBCH 68",
          "stade secondaire BBCH 69",
          "stade secondaire BBCH 69",
          "stade secondaire BBCH 69",
          "stade secondaire BBCH 70",
          "stade secondaire BBCH 71",
          "stade secondaire BBCH 73",
          "stade secondaire BBCH 75",
          "stade secondaire BBCH 77",
          "stade secondaire BBCH 79",
          "stade secondaire BBCH 81",
          "stade secondaire BBCH 89",
          "stade secondaire BBCH 89",
          "GC",
          "Maraichage",
          "Viticulture",
          "D2KAB (test)"
         ],
         "name": "",
         "parents": [
          "D2KAB (test)/GC",
          "D2KAB (test)/Maraichage",
          "D2KAB (test)/Viticulture",
          "D2KAB (test)/GC",
          "D2KAB (test)/Maraichage",
          "D2KAB (test)/GC",
          "D2KAB (test)/Maraichage",
          "D2KAB (test)/Viticulture",
          "D2KAB (test)/GC",
          "D2KAB (test)/GC",
          "D2KAB (test)/Viticulture",
          "D2KAB (test)/GC",
          "D2KAB (test)/Viticulture",
          "D2KAB (test)/GC",
          "D2KAB (test)/Viticulture",
          "D2KAB (test)/GC",
          "D2KAB (test)/Viticulture",
          "D2KAB (test)/GC",
          "D2KAB (test)/Maraichage",
          "D2KAB (test)/GC",
          "D2KAB (test)/GC",
          "D2KAB (test)/Viticulture",
          "D2KAB (test)/GC",
          "D2KAB (test)/GC",
          "D2KAB (test)/GC",
          "D2KAB (test)/GC",
          "D2KAB (test)/Maraichage",
          "D2KAB (test)/GC",
          "D2KAB (test)/GC",
          "D2KAB (test)/GC",
          "D2KAB (test)/GC",
          "D2KAB (test)/GC",
          "D2KAB (test)/GC",
          "D2KAB (test)/GC",
          "D2KAB (test)/GC",
          "D2KAB (test)/GC",
          "D2KAB (test)/GC",
          "D2KAB (test)/Viticulture",
          "D2KAB (test)/GC",
          "D2KAB (test)/Viticulture",
          "D2KAB (test)/GC",
          "D2KAB (test)/Viticulture",
          "D2KAB (test)/GC",
          "D2KAB (test)/GC",
          "D2KAB (test)/GC",
          "D2KAB (test)/Maraichage",
          "D2KAB (test)/Maraichage",
          "D2KAB (test)/GC",
          "D2KAB (test)/Maraichage",
          "D2KAB (test)/GC",
          "D2KAB (test)/Maraichage",
          "D2KAB (test)/Viticulture",
          "D2KAB (test)/GC",
          "D2KAB (test)/Maraichage",
          "D2KAB (test)/GC",
          "D2KAB (test)/Viticulture",
          "D2KAB (test)/Viticulture",
          "D2KAB (test)/Viticulture",
          "D2KAB (test)/Viticulture",
          "D2KAB (test)/Maraichage",
          "D2KAB (test)/Viticulture",
          "D2KAB (test)",
          "D2KAB (test)",
          "D2KAB (test)",
          ""
         ],
         "type": "sunburst",
         "values": [
          33,
          14,
          25,
          3,
          3,
          259,
          24,
          4,
          1,
          1,
          1,
          2,
          1,
          3,
          1,
          2,
          1,
          2,
          1,
          3,
          7,
          1,
          1,
          5,
          3,
          3,
          1,
          4,
          1,
          2,
          10,
          1,
          1,
          1,
          1,
          4,
          3,
          1,
          1,
          2,
          4,
          2,
          1,
          2,
          1,
          4,
          1,
          1,
          1,
          1,
          1,
          2,
          1,
          1,
          2,
          5,
          2,
          4,
          2,
          15,
          1,
          370,
          66,
          55,
          491
         ]
        }
       ],
       "layout": {
        "autosize": false,
        "font": {
         "size": 35
        },
        "height": 1000,
        "legend": {
         "tracegroupgap": 0
        },
        "margin": {
         "t": 60
        },
        "showlegend": false,
        "template": {
         "data": {
          "bar": [
           {
            "error_x": {
             "color": "#2a3f5f"
            },
            "error_y": {
             "color": "#2a3f5f"
            },
            "marker": {
             "line": {
              "color": "#E5ECF6",
              "width": 0.5
             }
            },
            "type": "bar"
           }
          ],
          "barpolar": [
           {
            "marker": {
             "line": {
              "color": "#E5ECF6",
              "width": 0.5
             }
            },
            "type": "barpolar"
           }
          ],
          "carpet": [
           {
            "aaxis": {
             "endlinecolor": "#2a3f5f",
             "gridcolor": "white",
             "linecolor": "white",
             "minorgridcolor": "white",
             "startlinecolor": "#2a3f5f"
            },
            "baxis": {
             "endlinecolor": "#2a3f5f",
             "gridcolor": "white",
             "linecolor": "white",
             "minorgridcolor": "white",
             "startlinecolor": "#2a3f5f"
            },
            "type": "carpet"
           }
          ],
          "choropleth": [
           {
            "colorbar": {
             "outlinewidth": 0,
             "ticks": ""
            },
            "type": "choropleth"
           }
          ],
          "contour": [
           {
            "colorbar": {
             "outlinewidth": 0,
             "ticks": ""
            },
            "colorscale": [
             [
              0,
              "#0d0887"
             ],
             [
              0.1111111111111111,
              "#46039f"
             ],
             [
              0.2222222222222222,
              "#7201a8"
             ],
             [
              0.3333333333333333,
              "#9c179e"
             ],
             [
              0.4444444444444444,
              "#bd3786"
             ],
             [
              0.5555555555555556,
              "#d8576b"
             ],
             [
              0.6666666666666666,
              "#ed7953"
             ],
             [
              0.7777777777777778,
              "#fb9f3a"
             ],
             [
              0.8888888888888888,
              "#fdca26"
             ],
             [
              1,
              "#f0f921"
             ]
            ],
            "type": "contour"
           }
          ],
          "contourcarpet": [
           {
            "colorbar": {
             "outlinewidth": 0,
             "ticks": ""
            },
            "type": "contourcarpet"
           }
          ],
          "heatmap": [
           {
            "colorbar": {
             "outlinewidth": 0,
             "ticks": ""
            },
            "colorscale": [
             [
              0,
              "#0d0887"
             ],
             [
              0.1111111111111111,
              "#46039f"
             ],
             [
              0.2222222222222222,
              "#7201a8"
             ],
             [
              0.3333333333333333,
              "#9c179e"
             ],
             [
              0.4444444444444444,
              "#bd3786"
             ],
             [
              0.5555555555555556,
              "#d8576b"
             ],
             [
              0.6666666666666666,
              "#ed7953"
             ],
             [
              0.7777777777777778,
              "#fb9f3a"
             ],
             [
              0.8888888888888888,
              "#fdca26"
             ],
             [
              1,
              "#f0f921"
             ]
            ],
            "type": "heatmap"
           }
          ],
          "heatmapgl": [
           {
            "colorbar": {
             "outlinewidth": 0,
             "ticks": ""
            },
            "colorscale": [
             [
              0,
              "#0d0887"
             ],
             [
              0.1111111111111111,
              "#46039f"
             ],
             [
              0.2222222222222222,
              "#7201a8"
             ],
             [
              0.3333333333333333,
              "#9c179e"
             ],
             [
              0.4444444444444444,
              "#bd3786"
             ],
             [
              0.5555555555555556,
              "#d8576b"
             ],
             [
              0.6666666666666666,
              "#ed7953"
             ],
             [
              0.7777777777777778,
              "#fb9f3a"
             ],
             [
              0.8888888888888888,
              "#fdca26"
             ],
             [
              1,
              "#f0f921"
             ]
            ],
            "type": "heatmapgl"
           }
          ],
          "histogram": [
           {
            "marker": {
             "colorbar": {
              "outlinewidth": 0,
              "ticks": ""
             }
            },
            "type": "histogram"
           }
          ],
          "histogram2d": [
           {
            "colorbar": {
             "outlinewidth": 0,
             "ticks": ""
            },
            "colorscale": [
             [
              0,
              "#0d0887"
             ],
             [
              0.1111111111111111,
              "#46039f"
             ],
             [
              0.2222222222222222,
              "#7201a8"
             ],
             [
              0.3333333333333333,
              "#9c179e"
             ],
             [
              0.4444444444444444,
              "#bd3786"
             ],
             [
              0.5555555555555556,
              "#d8576b"
             ],
             [
              0.6666666666666666,
              "#ed7953"
             ],
             [
              0.7777777777777778,
              "#fb9f3a"
             ],
             [
              0.8888888888888888,
              "#fdca26"
             ],
             [
              1,
              "#f0f921"
             ]
            ],
            "type": "histogram2d"
           }
          ],
          "histogram2dcontour": [
           {
            "colorbar": {
             "outlinewidth": 0,
             "ticks": ""
            },
            "colorscale": [
             [
              0,
              "#0d0887"
             ],
             [
              0.1111111111111111,
              "#46039f"
             ],
             [
              0.2222222222222222,
              "#7201a8"
             ],
             [
              0.3333333333333333,
              "#9c179e"
             ],
             [
              0.4444444444444444,
              "#bd3786"
             ],
             [
              0.5555555555555556,
              "#d8576b"
             ],
             [
              0.6666666666666666,
              "#ed7953"
             ],
             [
              0.7777777777777778,
              "#fb9f3a"
             ],
             [
              0.8888888888888888,
              "#fdca26"
             ],
             [
              1,
              "#f0f921"
             ]
            ],
            "type": "histogram2dcontour"
           }
          ],
          "mesh3d": [
           {
            "colorbar": {
             "outlinewidth": 0,
             "ticks": ""
            },
            "type": "mesh3d"
           }
          ],
          "parcoords": [
           {
            "line": {
             "colorbar": {
              "outlinewidth": 0,
              "ticks": ""
             }
            },
            "type": "parcoords"
           }
          ],
          "pie": [
           {
            "automargin": true,
            "type": "pie"
           }
          ],
          "scatter": [
           {
            "marker": {
             "colorbar": {
              "outlinewidth": 0,
              "ticks": ""
             }
            },
            "type": "scatter"
           }
          ],
          "scatter3d": [
           {
            "line": {
             "colorbar": {
              "outlinewidth": 0,
              "ticks": ""
             }
            },
            "marker": {
             "colorbar": {
              "outlinewidth": 0,
              "ticks": ""
             }
            },
            "type": "scatter3d"
           }
          ],
          "scattercarpet": [
           {
            "marker": {
             "colorbar": {
              "outlinewidth": 0,
              "ticks": ""
             }
            },
            "type": "scattercarpet"
           }
          ],
          "scattergeo": [
           {
            "marker": {
             "colorbar": {
              "outlinewidth": 0,
              "ticks": ""
             }
            },
            "type": "scattergeo"
           }
          ],
          "scattergl": [
           {
            "marker": {
             "colorbar": {
              "outlinewidth": 0,
              "ticks": ""
             }
            },
            "type": "scattergl"
           }
          ],
          "scattermapbox": [
           {
            "marker": {
             "colorbar": {
              "outlinewidth": 0,
              "ticks": ""
             }
            },
            "type": "scattermapbox"
           }
          ],
          "scatterpolar": [
           {
            "marker": {
             "colorbar": {
              "outlinewidth": 0,
              "ticks": ""
             }
            },
            "type": "scatterpolar"
           }
          ],
          "scatterpolargl": [
           {
            "marker": {
             "colorbar": {
              "outlinewidth": 0,
              "ticks": ""
             }
            },
            "type": "scatterpolargl"
           }
          ],
          "scatterternary": [
           {
            "marker": {
             "colorbar": {
              "outlinewidth": 0,
              "ticks": ""
             }
            },
            "type": "scatterternary"
           }
          ],
          "surface": [
           {
            "colorbar": {
             "outlinewidth": 0,
             "ticks": ""
            },
            "colorscale": [
             [
              0,
              "#0d0887"
             ],
             [
              0.1111111111111111,
              "#46039f"
             ],
             [
              0.2222222222222222,
              "#7201a8"
             ],
             [
              0.3333333333333333,
              "#9c179e"
             ],
             [
              0.4444444444444444,
              "#bd3786"
             ],
             [
              0.5555555555555556,
              "#d8576b"
             ],
             [
              0.6666666666666666,
              "#ed7953"
             ],
             [
              0.7777777777777778,
              "#fb9f3a"
             ],
             [
              0.8888888888888888,
              "#fdca26"
             ],
             [
              1,
              "#f0f921"
             ]
            ],
            "type": "surface"
           }
          ],
          "table": [
           {
            "cells": {
             "fill": {
              "color": "#EBF0F8"
             },
             "line": {
              "color": "white"
             }
            },
            "header": {
             "fill": {
              "color": "#C8D4E3"
             },
             "line": {
              "color": "white"
             }
            },
            "type": "table"
           }
          ]
         },
         "layout": {
          "annotationdefaults": {
           "arrowcolor": "#2a3f5f",
           "arrowhead": 0,
           "arrowwidth": 1
          },
          "autotypenumbers": "strict",
          "coloraxis": {
           "colorbar": {
            "outlinewidth": 0,
            "ticks": ""
           }
          },
          "colorscale": {
           "diverging": [
            [
             0,
             "#8e0152"
            ],
            [
             0.1,
             "#c51b7d"
            ],
            [
             0.2,
             "#de77ae"
            ],
            [
             0.3,
             "#f1b6da"
            ],
            [
             0.4,
             "#fde0ef"
            ],
            [
             0.5,
             "#f7f7f7"
            ],
            [
             0.6,
             "#e6f5d0"
            ],
            [
             0.7,
             "#b8e186"
            ],
            [
             0.8,
             "#7fbc41"
            ],
            [
             0.9,
             "#4d9221"
            ],
            [
             1,
             "#276419"
            ]
           ],
           "sequential": [
            [
             0,
             "#0d0887"
            ],
            [
             0.1111111111111111,
             "#46039f"
            ],
            [
             0.2222222222222222,
             "#7201a8"
            ],
            [
             0.3333333333333333,
             "#9c179e"
            ],
            [
             0.4444444444444444,
             "#bd3786"
            ],
            [
             0.5555555555555556,
             "#d8576b"
            ],
            [
             0.6666666666666666,
             "#ed7953"
            ],
            [
             0.7777777777777778,
             "#fb9f3a"
            ],
            [
             0.8888888888888888,
             "#fdca26"
            ],
            [
             1,
             "#f0f921"
            ]
           ],
           "sequentialminus": [
            [
             0,
             "#0d0887"
            ],
            [
             0.1111111111111111,
             "#46039f"
            ],
            [
             0.2222222222222222,
             "#7201a8"
            ],
            [
             0.3333333333333333,
             "#9c179e"
            ],
            [
             0.4444444444444444,
             "#bd3786"
            ],
            [
             0.5555555555555556,
             "#d8576b"
            ],
            [
             0.6666666666666666,
             "#ed7953"
            ],
            [
             0.7777777777777778,
             "#fb9f3a"
            ],
            [
             0.8888888888888888,
             "#fdca26"
            ],
            [
             1,
             "#f0f921"
            ]
           ]
          },
          "colorway": [
           "#636efa",
           "#EF553B",
           "#00cc96",
           "#ab63fa",
           "#FFA15A",
           "#19d3f3",
           "#FF6692",
           "#B6E880",
           "#FF97FF",
           "#FECB52"
          ],
          "font": {
           "color": "#2a3f5f"
          },
          "geo": {
           "bgcolor": "white",
           "lakecolor": "white",
           "landcolor": "#E5ECF6",
           "showlakes": true,
           "showland": true,
           "subunitcolor": "white"
          },
          "hoverlabel": {
           "align": "left"
          },
          "hovermode": "closest",
          "mapbox": {
           "style": "light"
          },
          "paper_bgcolor": "white",
          "plot_bgcolor": "#E5ECF6",
          "polar": {
           "angularaxis": {
            "gridcolor": "white",
            "linecolor": "white",
            "ticks": ""
           },
           "bgcolor": "#E5ECF6",
           "radialaxis": {
            "gridcolor": "white",
            "linecolor": "white",
            "ticks": ""
           }
          },
          "scene": {
           "xaxis": {
            "backgroundcolor": "#E5ECF6",
            "gridcolor": "white",
            "gridwidth": 2,
            "linecolor": "white",
            "showbackground": true,
            "ticks": "",
            "zerolinecolor": "white"
           },
           "yaxis": {
            "backgroundcolor": "#E5ECF6",
            "gridcolor": "white",
            "gridwidth": 2,
            "linecolor": "white",
            "showbackground": true,
            "ticks": "",
            "zerolinecolor": "white"
           },
           "zaxis": {
            "backgroundcolor": "#E5ECF6",
            "gridcolor": "white",
            "gridwidth": 2,
            "linecolor": "white",
            "showbackground": true,
            "ticks": "",
            "zerolinecolor": "white"
           }
          },
          "shapedefaults": {
           "line": {
            "color": "#2a3f5f"
           }
          },
          "ternary": {
           "aaxis": {
            "gridcolor": "white",
            "linecolor": "white",
            "ticks": ""
           },
           "baxis": {
            "gridcolor": "white",
            "linecolor": "white",
            "ticks": ""
           },
           "bgcolor": "#E5ECF6",
           "caxis": {
            "gridcolor": "white",
            "linecolor": "white",
            "ticks": ""
           }
          },
          "title": {
           "x": 0.05
          },
          "xaxis": {
           "automargin": true,
           "gridcolor": "white",
           "linecolor": "white",
           "ticks": "",
           "title": {
            "standoff": 15
           },
           "zerolinecolor": "white",
           "zerolinewidth": 2
          },
          "yaxis": {
           "automargin": true,
           "gridcolor": "white",
           "linecolor": "white",
           "ticks": "",
           "title": {
            "standoff": 15
           },
           "zerolinecolor": "white",
           "zerolinewidth": 2
          }
         }
        },
        "width": 1000
       }
      },
      "text/html": [
       "<div>                            <div id=\"9d40843f-0990-42c5-9353-272faf0767eb\" class=\"plotly-graph-div\" style=\"height:1000px; width:1000px;\"></div>            <script type=\"text/javascript\">                require([\"plotly\"], function(Plotly) {                    window.PLOTLYENV=window.PLOTLYENV || {};                                    if (document.getElementById(\"9d40843f-0990-42c5-9353-272faf0767eb\")) {                    Plotly.newPlot(                        \"9d40843f-0990-42c5-9353-272faf0767eb\",                        [{\"branchvalues\": \"total\", \"domain\": {\"x\": [0.0, 1.0], \"y\": [0.0, 1.0]}, \"hovertemplate\": \"labels=%{label}<br>count=%{value}<br>parent=%{parent}<br>id=%{id}<extra></extra>\", \"ids\": [\"D2KAB (test)/GC/stade principal BBCH 0\", \"D2KAB (test)/Maraichage/stade principal BBCH 0\", \"D2KAB (test)/Viticulture/stade principal BBCH 0\", \"D2KAB (test)/GC/stade secondaire BBCH 00\", \"D2KAB (test)/Maraichage/stade secondaire BBCH 00\", \"D2KAB (test)/GC/stade secondaire BBCH 009 \", \"D2KAB (test)/Maraichage/stade secondaire BBCH 009 \", \"D2KAB (test)/Viticulture/stade secondaire BBCH 009 \", \"D2KAB (test)/GC/stade secondaire BBCH 01\", \"D2KAB (test)/GC/stade secondaire BBCH 05\", \"D2KAB (test)/Viticulture/stade secondaire BBCH 05\", \"D2KAB (test)/GC/stade secondaire BBCH 09\", \"D2KAB (test)/Viticulture/stade secondaire BBCH 09\", \"D2KAB (test)/GC/stade secondaire BBCH 10\", \"D2KAB (test)/Viticulture/stade secondaire BBCH 10\", \"D2KAB (test)/GC/stade secondaire BBCH 11\", \"D2KAB (test)/Viticulture/stade secondaire BBCH 11\", \"D2KAB (test)/GC/stade secondaire BBCH 12\", \"D2KAB (test)/Maraichage/stade secondaire BBCH 12\", \"D2KAB (test)/GC/stade secondaire BBCH 13\", \"D2KAB (test)/GC/stade secondaire BBCH 14\", \"D2KAB (test)/Viticulture/stade secondaire BBCH 14\", \"D2KAB (test)/GC/stade secondaire BBCH 15\", \"D2KAB (test)/GC/stade secondaire BBCH 16\", \"D2KAB (test)/GC/stade secondaire BBCH 17\", \"D2KAB (test)/GC/stade secondaire BBCH 18\", \"D2KAB (test)/Maraichage/stade secondaire BBCH 18\", \"D2KAB (test)/GC/stade secondaire BBCH 19\", \"D2KAB (test)/GC/stade secondaire BBCH 21\", \"D2KAB (test)/GC/stade secondaire BBCH 29\", \"D2KAB (test)/GC/stade secondaire BBCH 30\", \"D2KAB (test)/GC/stade secondaire BBCH 31\", \"D2KAB (test)/GC/stade secondaire BBCH 32\", \"D2KAB (test)/GC/stade secondaire BBCH 39\", \"D2KAB (test)/GC/stade secondaire BBCH 45\", \"D2KAB (test)/GC/stade secondaire BBCH 51\", \"D2KAB (test)/GC/stade secondaire BBCH 53\", \"D2KAB (test)/Viticulture/stade secondaire BBCH 53\", \"D2KAB (test)/GC/stade secondaire BBCH 55\", \"D2KAB (test)/Viticulture/stade secondaire BBCH 55\", \"D2KAB (test)/GC/stade secondaire BBCH 57\", \"D2KAB (test)/Viticulture/stade secondaire BBCH 57\", \"D2KAB (test)/GC/stade secondaire BBCH 59\", \"D2KAB (test)/GC/stade secondaire BBCH 60\", \"D2KAB (test)/GC/stade secondaire BBCH 61\", \"D2KAB (test)/Maraichage/stade secondaire BBCH 61\", \"D2KAB (test)/Maraichage/stade secondaire BBCH 62\", \"D2KAB (test)/GC/stade secondaire BBCH 65\", \"D2KAB (test)/Maraichage/stade secondaire BBCH 68\", \"D2KAB (test)/GC/stade secondaire BBCH 69\", \"D2KAB (test)/Maraichage/stade secondaire BBCH 69\", \"D2KAB (test)/Viticulture/stade secondaire BBCH 69\", \"D2KAB (test)/GC/stade secondaire BBCH 70\", \"D2KAB (test)/Maraichage/stade secondaire BBCH 71\", \"D2KAB (test)/GC/stade secondaire BBCH 73\", \"D2KAB (test)/Viticulture/stade secondaire BBCH 75\", \"D2KAB (test)/Viticulture/stade secondaire BBCH 77\", \"D2KAB (test)/Viticulture/stade secondaire BBCH 79\", \"D2KAB (test)/Viticulture/stade secondaire BBCH 81\", \"D2KAB (test)/Maraichage/stade secondaire BBCH 89\", \"D2KAB (test)/Viticulture/stade secondaire BBCH 89\", \"D2KAB (test)/GC\", \"D2KAB (test)/Maraichage\", \"D2KAB (test)/Viticulture\", \"D2KAB (test)\"], \"labels\": [\"stade principal BBCH 0\", \"stade principal BBCH 0\", \"stade principal BBCH 0\", \"stade secondaire BBCH 00\", \"stade secondaire BBCH 00\", \"stade secondaire BBCH 009 \", \"stade secondaire BBCH 009 \", \"stade secondaire BBCH 009 \", \"stade secondaire BBCH 01\", \"stade secondaire BBCH 05\", \"stade secondaire BBCH 05\", \"stade secondaire BBCH 09\", \"stade secondaire BBCH 09\", \"stade secondaire BBCH 10\", \"stade secondaire BBCH 10\", \"stade secondaire BBCH 11\", \"stade secondaire BBCH 11\", \"stade secondaire BBCH 12\", \"stade secondaire BBCH 12\", \"stade secondaire BBCH 13\", \"stade secondaire BBCH 14\", \"stade secondaire BBCH 14\", \"stade secondaire BBCH 15\", \"stade secondaire BBCH 16\", \"stade secondaire BBCH 17\", \"stade secondaire BBCH 18\", \"stade secondaire BBCH 18\", \"stade secondaire BBCH 19\", \"stade secondaire BBCH 21\", \"stade secondaire BBCH 29\", \"stade secondaire BBCH 30\", \"stade secondaire BBCH 31\", \"stade secondaire BBCH 32\", \"stade secondaire BBCH 39\", \"stade secondaire BBCH 45\", \"stade secondaire BBCH 51\", \"stade secondaire BBCH 53\", \"stade secondaire BBCH 53\", \"stade secondaire BBCH 55\", \"stade secondaire BBCH 55\", \"stade secondaire BBCH 57\", \"stade secondaire BBCH 57\", \"stade secondaire BBCH 59\", \"stade secondaire BBCH 60\", \"stade secondaire BBCH 61\", \"stade secondaire BBCH 61\", \"stade secondaire BBCH 62\", \"stade secondaire BBCH 65\", \"stade secondaire BBCH 68\", \"stade secondaire BBCH 69\", \"stade secondaire BBCH 69\", \"stade secondaire BBCH 69\", \"stade secondaire BBCH 70\", \"stade secondaire BBCH 71\", \"stade secondaire BBCH 73\", \"stade secondaire BBCH 75\", \"stade secondaire BBCH 77\", \"stade secondaire BBCH 79\", \"stade secondaire BBCH 81\", \"stade secondaire BBCH 89\", \"stade secondaire BBCH 89\", \"GC\", \"Maraichage\", \"Viticulture\", \"D2KAB (test)\"], \"name\": \"\", \"parents\": [\"D2KAB (test)/GC\", \"D2KAB (test)/Maraichage\", \"D2KAB (test)/Viticulture\", \"D2KAB (test)/GC\", \"D2KAB (test)/Maraichage\", \"D2KAB (test)/GC\", \"D2KAB (test)/Maraichage\", \"D2KAB (test)/Viticulture\", \"D2KAB (test)/GC\", \"D2KAB (test)/GC\", \"D2KAB (test)/Viticulture\", \"D2KAB (test)/GC\", \"D2KAB (test)/Viticulture\", \"D2KAB (test)/GC\", \"D2KAB (test)/Viticulture\", \"D2KAB (test)/GC\", \"D2KAB (test)/Viticulture\", \"D2KAB (test)/GC\", \"D2KAB (test)/Maraichage\", \"D2KAB (test)/GC\", \"D2KAB (test)/GC\", \"D2KAB (test)/Viticulture\", \"D2KAB (test)/GC\", \"D2KAB (test)/GC\", \"D2KAB (test)/GC\", \"D2KAB (test)/GC\", \"D2KAB (test)/Maraichage\", \"D2KAB (test)/GC\", \"D2KAB (test)/GC\", \"D2KAB (test)/GC\", \"D2KAB (test)/GC\", \"D2KAB (test)/GC\", \"D2KAB (test)/GC\", \"D2KAB (test)/GC\", \"D2KAB (test)/GC\", \"D2KAB (test)/GC\", \"D2KAB (test)/GC\", \"D2KAB (test)/Viticulture\", \"D2KAB (test)/GC\", \"D2KAB (test)/Viticulture\", \"D2KAB (test)/GC\", \"D2KAB (test)/Viticulture\", \"D2KAB (test)/GC\", \"D2KAB (test)/GC\", \"D2KAB (test)/GC\", \"D2KAB (test)/Maraichage\", \"D2KAB (test)/Maraichage\", \"D2KAB (test)/GC\", \"D2KAB (test)/Maraichage\", \"D2KAB (test)/GC\", \"D2KAB (test)/Maraichage\", \"D2KAB (test)/Viticulture\", \"D2KAB (test)/GC\", \"D2KAB (test)/Maraichage\", \"D2KAB (test)/GC\", \"D2KAB (test)/Viticulture\", \"D2KAB (test)/Viticulture\", \"D2KAB (test)/Viticulture\", \"D2KAB (test)/Viticulture\", \"D2KAB (test)/Maraichage\", \"D2KAB (test)/Viticulture\", \"D2KAB (test)\", \"D2KAB (test)\", \"D2KAB (test)\", \"\"], \"type\": \"sunburst\", \"values\": [33, 14, 25, 3, 3, 259, 24, 4, 1, 1, 1, 2, 1, 3, 1, 2, 1, 2, 1, 3, 7, 1, 1, 5, 3, 3, 1, 4, 1, 2, 10, 1, 1, 1, 1, 4, 3, 1, 1, 2, 4, 2, 1, 2, 1, 4, 1, 1, 1, 1, 1, 2, 1, 1, 2, 5, 2, 4, 2, 15, 1, 370, 66, 55, 491]}],                        {\"autosize\": false, \"font\": {\"size\": 35}, \"height\": 1000, \"legend\": {\"tracegroupgap\": 0}, \"margin\": {\"t\": 60}, \"showlegend\": false, \"template\": {\"data\": {\"bar\": [{\"error_x\": {\"color\": \"#2a3f5f\"}, \"error_y\": {\"color\": \"#2a3f5f\"}, \"marker\": {\"line\": {\"color\": \"#E5ECF6\", \"width\": 0.5}}, \"type\": \"bar\"}], \"barpolar\": [{\"marker\": {\"line\": {\"color\": \"#E5ECF6\", \"width\": 0.5}}, \"type\": \"barpolar\"}], \"carpet\": [{\"aaxis\": {\"endlinecolor\": \"#2a3f5f\", \"gridcolor\": \"white\", \"linecolor\": \"white\", \"minorgridcolor\": \"white\", \"startlinecolor\": \"#2a3f5f\"}, \"baxis\": {\"endlinecolor\": \"#2a3f5f\", \"gridcolor\": \"white\", \"linecolor\": \"white\", \"minorgridcolor\": \"white\", \"startlinecolor\": \"#2a3f5f\"}, \"type\": \"carpet\"}], \"choropleth\": [{\"colorbar\": {\"outlinewidth\": 0, \"ticks\": \"\"}, \"type\": \"choropleth\"}], \"contour\": [{\"colorbar\": {\"outlinewidth\": 0, \"ticks\": \"\"}, \"colorscale\": [[0.0, \"#0d0887\"], [0.1111111111111111, \"#46039f\"], [0.2222222222222222, \"#7201a8\"], [0.3333333333333333, \"#9c179e\"], [0.4444444444444444, \"#bd3786\"], [0.5555555555555556, \"#d8576b\"], [0.6666666666666666, \"#ed7953\"], [0.7777777777777778, \"#fb9f3a\"], [0.8888888888888888, \"#fdca26\"], [1.0, \"#f0f921\"]], \"type\": \"contour\"}], \"contourcarpet\": [{\"colorbar\": {\"outlinewidth\": 0, \"ticks\": \"\"}, \"type\": \"contourcarpet\"}], \"heatmap\": [{\"colorbar\": {\"outlinewidth\": 0, \"ticks\": \"\"}, \"colorscale\": [[0.0, \"#0d0887\"], [0.1111111111111111, \"#46039f\"], [0.2222222222222222, \"#7201a8\"], [0.3333333333333333, \"#9c179e\"], [0.4444444444444444, \"#bd3786\"], [0.5555555555555556, \"#d8576b\"], [0.6666666666666666, \"#ed7953\"], [0.7777777777777778, \"#fb9f3a\"], [0.8888888888888888, \"#fdca26\"], [1.0, \"#f0f921\"]], \"type\": \"heatmap\"}], \"heatmapgl\": [{\"colorbar\": {\"outlinewidth\": 0, \"ticks\": \"\"}, \"colorscale\": [[0.0, \"#0d0887\"], [0.1111111111111111, \"#46039f\"], [0.2222222222222222, \"#7201a8\"], [0.3333333333333333, \"#9c179e\"], [0.4444444444444444, \"#bd3786\"], [0.5555555555555556, \"#d8576b\"], [0.6666666666666666, \"#ed7953\"], [0.7777777777777778, \"#fb9f3a\"], [0.8888888888888888, \"#fdca26\"], [1.0, \"#f0f921\"]], \"type\": \"heatmapgl\"}], \"histogram\": [{\"marker\": {\"colorbar\": {\"outlinewidth\": 0, \"ticks\": \"\"}}, \"type\": \"histogram\"}], \"histogram2d\": [{\"colorbar\": {\"outlinewidth\": 0, \"ticks\": \"\"}, \"colorscale\": [[0.0, \"#0d0887\"], [0.1111111111111111, \"#46039f\"], [0.2222222222222222, \"#7201a8\"], [0.3333333333333333, \"#9c179e\"], [0.4444444444444444, \"#bd3786\"], [0.5555555555555556, \"#d8576b\"], [0.6666666666666666, \"#ed7953\"], [0.7777777777777778, \"#fb9f3a\"], [0.8888888888888888, \"#fdca26\"], [1.0, \"#f0f921\"]], \"type\": \"histogram2d\"}], \"histogram2dcontour\": [{\"colorbar\": {\"outlinewidth\": 0, \"ticks\": \"\"}, \"colorscale\": [[0.0, \"#0d0887\"], [0.1111111111111111, \"#46039f\"], [0.2222222222222222, \"#7201a8\"], [0.3333333333333333, \"#9c179e\"], [0.4444444444444444, \"#bd3786\"], [0.5555555555555556, \"#d8576b\"], [0.6666666666666666, \"#ed7953\"], [0.7777777777777778, \"#fb9f3a\"], [0.8888888888888888, \"#fdca26\"], [1.0, \"#f0f921\"]], \"type\": \"histogram2dcontour\"}], \"mesh3d\": [{\"colorbar\": {\"outlinewidth\": 0, \"ticks\": \"\"}, \"type\": \"mesh3d\"}], \"parcoords\": [{\"line\": {\"colorbar\": {\"outlinewidth\": 0, \"ticks\": \"\"}}, \"type\": \"parcoords\"}], \"pie\": [{\"automargin\": true, \"type\": \"pie\"}], \"scatter\": [{\"marker\": {\"colorbar\": {\"outlinewidth\": 0, \"ticks\": \"\"}}, \"type\": \"scatter\"}], \"scatter3d\": [{\"line\": {\"colorbar\": {\"outlinewidth\": 0, \"ticks\": \"\"}}, \"marker\": {\"colorbar\": {\"outlinewidth\": 0, \"ticks\": \"\"}}, \"type\": \"scatter3d\"}], \"scattercarpet\": [{\"marker\": {\"colorbar\": {\"outlinewidth\": 0, \"ticks\": \"\"}}, \"type\": \"scattercarpet\"}], \"scattergeo\": [{\"marker\": {\"colorbar\": {\"outlinewidth\": 0, \"ticks\": \"\"}}, \"type\": \"scattergeo\"}], \"scattergl\": [{\"marker\": {\"colorbar\": {\"outlinewidth\": 0, \"ticks\": \"\"}}, \"type\": \"scattergl\"}], \"scattermapbox\": [{\"marker\": {\"colorbar\": {\"outlinewidth\": 0, \"ticks\": \"\"}}, \"type\": \"scattermapbox\"}], \"scatterpolar\": [{\"marker\": {\"colorbar\": {\"outlinewidth\": 0, \"ticks\": \"\"}}, \"type\": \"scatterpolar\"}], \"scatterpolargl\": [{\"marker\": {\"colorbar\": {\"outlinewidth\": 0, \"ticks\": \"\"}}, \"type\": \"scatterpolargl\"}], \"scatterternary\": [{\"marker\": {\"colorbar\": {\"outlinewidth\": 0, \"ticks\": \"\"}}, \"type\": \"scatterternary\"}], \"surface\": [{\"colorbar\": {\"outlinewidth\": 0, \"ticks\": \"\"}, \"colorscale\": [[0.0, \"#0d0887\"], [0.1111111111111111, \"#46039f\"], [0.2222222222222222, \"#7201a8\"], [0.3333333333333333, \"#9c179e\"], [0.4444444444444444, \"#bd3786\"], [0.5555555555555556, \"#d8576b\"], [0.6666666666666666, \"#ed7953\"], [0.7777777777777778, \"#fb9f3a\"], [0.8888888888888888, \"#fdca26\"], [1.0, \"#f0f921\"]], \"type\": \"surface\"}], \"table\": [{\"cells\": {\"fill\": {\"color\": \"#EBF0F8\"}, \"line\": {\"color\": \"white\"}}, \"header\": {\"fill\": {\"color\": \"#C8D4E3\"}, \"line\": {\"color\": \"white\"}}, \"type\": \"table\"}]}, \"layout\": {\"annotationdefaults\": {\"arrowcolor\": \"#2a3f5f\", \"arrowhead\": 0, \"arrowwidth\": 1}, \"autotypenumbers\": \"strict\", \"coloraxis\": {\"colorbar\": {\"outlinewidth\": 0, \"ticks\": \"\"}}, \"colorscale\": {\"diverging\": [[0, \"#8e0152\"], [0.1, \"#c51b7d\"], [0.2, \"#de77ae\"], [0.3, \"#f1b6da\"], [0.4, \"#fde0ef\"], [0.5, \"#f7f7f7\"], [0.6, \"#e6f5d0\"], [0.7, \"#b8e186\"], [0.8, \"#7fbc41\"], [0.9, \"#4d9221\"], [1, \"#276419\"]], \"sequential\": [[0.0, \"#0d0887\"], [0.1111111111111111, \"#46039f\"], [0.2222222222222222, \"#7201a8\"], [0.3333333333333333, \"#9c179e\"], [0.4444444444444444, \"#bd3786\"], [0.5555555555555556, \"#d8576b\"], [0.6666666666666666, \"#ed7953\"], [0.7777777777777778, \"#fb9f3a\"], [0.8888888888888888, \"#fdca26\"], [1.0, \"#f0f921\"]], \"sequentialminus\": [[0.0, \"#0d0887\"], [0.1111111111111111, \"#46039f\"], [0.2222222222222222, \"#7201a8\"], [0.3333333333333333, \"#9c179e\"], [0.4444444444444444, \"#bd3786\"], [0.5555555555555556, \"#d8576b\"], [0.6666666666666666, \"#ed7953\"], [0.7777777777777778, \"#fb9f3a\"], [0.8888888888888888, \"#fdca26\"], [1.0, \"#f0f921\"]]}, \"colorway\": [\"#636efa\", \"#EF553B\", \"#00cc96\", \"#ab63fa\", \"#FFA15A\", \"#19d3f3\", \"#FF6692\", \"#B6E880\", \"#FF97FF\", \"#FECB52\"], \"font\": {\"color\": \"#2a3f5f\"}, \"geo\": {\"bgcolor\": \"white\", \"lakecolor\": \"white\", \"landcolor\": \"#E5ECF6\", \"showlakes\": true, \"showland\": true, \"subunitcolor\": \"white\"}, \"hoverlabel\": {\"align\": \"left\"}, \"hovermode\": \"closest\", \"mapbox\": {\"style\": \"light\"}, \"paper_bgcolor\": \"white\", \"plot_bgcolor\": \"#E5ECF6\", \"polar\": {\"angularaxis\": {\"gridcolor\": \"white\", \"linecolor\": \"white\", \"ticks\": \"\"}, \"bgcolor\": \"#E5ECF6\", \"radialaxis\": {\"gridcolor\": \"white\", \"linecolor\": \"white\", \"ticks\": \"\"}}, \"scene\": {\"xaxis\": {\"backgroundcolor\": \"#E5ECF6\", \"gridcolor\": \"white\", \"gridwidth\": 2, \"linecolor\": \"white\", \"showbackground\": true, \"ticks\": \"\", \"zerolinecolor\": \"white\"}, \"yaxis\": {\"backgroundcolor\": \"#E5ECF6\", \"gridcolor\": \"white\", \"gridwidth\": 2, \"linecolor\": \"white\", \"showbackground\": true, \"ticks\": \"\", \"zerolinecolor\": \"white\"}, \"zaxis\": {\"backgroundcolor\": \"#E5ECF6\", \"gridcolor\": \"white\", \"gridwidth\": 2, \"linecolor\": \"white\", \"showbackground\": true, \"ticks\": \"\", \"zerolinecolor\": \"white\"}}, \"shapedefaults\": {\"line\": {\"color\": \"#2a3f5f\"}}, \"ternary\": {\"aaxis\": {\"gridcolor\": \"white\", \"linecolor\": \"white\", \"ticks\": \"\"}, \"baxis\": {\"gridcolor\": \"white\", \"linecolor\": \"white\", \"ticks\": \"\"}, \"bgcolor\": \"#E5ECF6\", \"caxis\": {\"gridcolor\": \"white\", \"linecolor\": \"white\", \"ticks\": \"\"}}, \"title\": {\"x\": 0.05}, \"xaxis\": {\"automargin\": true, \"gridcolor\": \"white\", \"linecolor\": \"white\", \"ticks\": \"\", \"title\": {\"standoff\": 15}, \"zerolinecolor\": \"white\", \"zerolinewidth\": 2}, \"yaxis\": {\"automargin\": true, \"gridcolor\": \"white\", \"linecolor\": \"white\", \"ticks\": \"\", \"title\": {\"standoff\": 15}, \"zerolinecolor\": \"white\", \"zerolinewidth\": 2}}}, \"width\": 1000},                        {\"responsive\": true}                    ).then(function(){\n",
       "                            \n",
       "var gd = document.getElementById('9d40843f-0990-42c5-9353-272faf0767eb');\n",
       "var x = new MutationObserver(function (mutations, observer) {{\n",
       "        var display = window.getComputedStyle(gd).display;\n",
       "        if (!display || display === 'none') {{\n",
       "            console.log([gd, 'removed!']);\n",
       "            Plotly.purge(gd);\n",
       "            observer.disconnect();\n",
       "        }}\n",
       "}});\n",
       "\n",
       "// Listen for the removal of the full notebook cells\n",
       "var notebookContainer = gd.closest('#notebook-container');\n",
       "if (notebookContainer) {{\n",
       "    x.observe(notebookContainer, {childList: true});\n",
       "}}\n",
       "\n",
       "// Listen for the clearing of the current output cell\n",
       "var outputEl = gd.closest('.output');\n",
       "if (outputEl) {{\n",
       "    x.observe(outputEl, {childList: true});\n",
       "}}\n",
       "\n",
       "                        })                };                });            </script>        </div>"
      ]
     },
     "metadata": {},
     "output_type": "display_data"
    }
   ],
   "source": [
    "fig = px.sunburst(d2kab_culture, path=[ 'corpus', 'Culture','prefLabel'], \n",
    "                  values='count')\n",
    "fig.update_layout(\n",
    "    showlegend=False,\n",
    "    font_size=35,\n",
    "    width=1000, height=1000,\n",
    "    autosize=False)\n",
    "\n",
    "\n",
    "fig.show()"
   ]
  },
  {
   "cell_type": "markdown",
   "metadata": {},
   "source": [
    "# VESPA"
   ]
  },
  {
   "cell_type": "code",
   "execution_count": 15,
   "metadata": {},
   "outputs": [
    {
     "data": {
      "text/html": [
       "<div>\n",
       "<style scoped>\n",
       "    .dataframe tbody tr th:only-of-type {\n",
       "        vertical-align: middle;\n",
       "    }\n",
       "\n",
       "    .dataframe tbody tr th {\n",
       "        vertical-align: top;\n",
       "    }\n",
       "\n",
       "    .dataframe thead th {\n",
       "        text-align: right;\n",
       "    }\n",
       "</style>\n",
       "<table border=\"1\" class=\"dataframe\">\n",
       "  <thead>\n",
       "    <tr style=\"text-align: right;\">\n",
       "      <th></th>\n",
       "      <th>bsv</th>\n",
       "      <th>number of words</th>\n",
       "      <th>html tag</th>\n",
       "      <th>context before</th>\n",
       "      <th>form</th>\n",
       "      <th>lemma</th>\n",
       "      <th>prefLabel</th>\n",
       "      <th>context after</th>\n",
       "      <th>location</th>\n",
       "      <th>features</th>\n",
       "    </tr>\n",
       "  </thead>\n",
       "  <tbody>\n",
       "    <tr>\n",
       "      <th>0</th>\n",
       "      <td>/Users/belka/Documents/GitHub/termExtraction/r...</td>\n",
       "      <td>635</td>\n",
       "      <td>html</td>\n",
       "      <td>des varient entre \"</td>\n",
       "      <td>début montaison</td>\n",
       "      <td>début montaison</td>\n",
       "      <td>stade secondaire BBCH 30</td>\n",
       "      <td>\" (stade C2) et \" b</td>\n",
       "      <td>139-154</td>\n",
       "      <td>type=RDFProjector, uri=http://ontology.inrae.f...</td>\n",
       "    </tr>\n",
       "    <tr>\n",
       "      <th>1</th>\n",
       "      <td>/Users/belka/Documents/GitHub/termExtraction/r...</td>\n",
       "      <td>596</td>\n",
       "      <td>html</td>\n",
       "      <td>éréales en cours de</td>\n",
       "      <td>levée</td>\n",
       "      <td>levée</td>\n",
       "      <td>stade secondaire BBCH 009</td>\n",
       "      <td>. La cicadelle Psamm</td>\n",
       "      <td>1876-1881</td>\n",
       "      <td>type=RDFProjector, uri=http://ontology.inrae.f...</td>\n",
       "    </tr>\n",
       "    <tr>\n",
       "      <th>2</th>\n",
       "      <td>/Users/belka/Documents/GitHub/termExtraction/r...</td>\n",
       "      <td>807</td>\n",
       "      <td>html</td>\n",
       "      <td>éréales en cours de</td>\n",
       "      <td>levée</td>\n",
       "      <td>levée</td>\n",
       "      <td>stade secondaire BBCH 009</td>\n",
       "      <td>. La cicadelle Psamm</td>\n",
       "      <td>2029-2034</td>\n",
       "      <td>type=RDFProjector, uri=http://ontology.inrae.f...</td>\n",
       "    </tr>\n",
       "    <tr>\n",
       "      <th>3</th>\n",
       "      <td>/Users/belka/Documents/GitHub/termExtraction/r...</td>\n",
       "      <td>807</td>\n",
       "      <td>html</td>\n",
       "      <td>is applicable de la</td>\n",
       "      <td>levée</td>\n",
       "      <td>levée</td>\n",
       "      <td>stade secondaire BBCH 009</td>\n",
       "      <td>au stade 3 feuilles</td>\n",
       "      <td>2197-2202</td>\n",
       "      <td>type=RDFProjector, uri=http://ontology.inrae.f...</td>\n",
       "    </tr>\n",
       "    <tr>\n",
       "      <th>4</th>\n",
       "      <td>/Users/belka/Documents/GitHub/termExtraction/r...</td>\n",
       "      <td>1114</td>\n",
       "      <td>html</td>\n",
       "      <td>lle développée à la</td>\n",
       "      <td>levée</td>\n",
       "      <td>levée</td>\n",
       "      <td>stade secondaire BBCH 009</td>\n",
       "      <td>a disparu. Par exem</td>\n",
       "      <td>703-708</td>\n",
       "      <td>type=RDFProjector, uri=http://ontology.inrae.f...</td>\n",
       "    </tr>\n",
       "  </tbody>\n",
       "</table>\n",
       "</div>"
      ],
      "text/plain": [
       "                                                 bsv  number of words  \\\n",
       "0  /Users/belka/Documents/GitHub/termExtraction/r...              635   \n",
       "1  /Users/belka/Documents/GitHub/termExtraction/r...              596   \n",
       "2  /Users/belka/Documents/GitHub/termExtraction/r...              807   \n",
       "3  /Users/belka/Documents/GitHub/termExtraction/r...              807   \n",
       "4  /Users/belka/Documents/GitHub/termExtraction/r...             1114   \n",
       "\n",
       "  html tag       context before             form            lemma  \\\n",
       "0     html  des varient entre \"  début montaison  début montaison   \n",
       "1     html  éréales en cours de            levée            levée   \n",
       "2     html  éréales en cours de            levée            levée   \n",
       "3     html  is applicable de la            levée            levée   \n",
       "4     html  lle développée à la            levée            levée   \n",
       "\n",
       "                    prefLabel         context after   location  \\\n",
       "0    stade secondaire BBCH 30   \" (stade C2) et \" b    139-154   \n",
       "1  stade secondaire BBCH 009   . La cicadelle Psamm  1876-1881   \n",
       "2  stade secondaire BBCH 009   . La cicadelle Psamm  2029-2034   \n",
       "3  stade secondaire BBCH 009    au stade 3 feuilles  2197-2202   \n",
       "4  stade secondaire BBCH 009    a disparu. Par exem    703-708   \n",
       "\n",
       "                                            features  \n",
       "0  type=RDFProjector, uri=http://ontology.inrae.f...  \n",
       "1  type=RDFProjector, uri=http://ontology.inrae.f...  \n",
       "2  type=RDFProjector, uri=http://ontology.inrae.f...  \n",
       "3  type=RDFProjector, uri=http://ontology.inrae.f...  \n",
       "4  type=RDFProjector, uri=http://ontology.inrae.f...  "
      ]
     },
     "execution_count": 15,
     "metadata": {},
     "output_type": "execute_result"
    }
   ],
   "source": [
    "stages_vespa = pd.read_csv(\"../output/frenchCropUsage_20210525/vespa/stages.csv\", delimiter=\"\\t\", encoding='utf-8')\n",
    "stages_vespa[:5]"
   ]
  },
  {
   "cell_type": "code",
   "execution_count": 16,
   "metadata": {},
   "outputs": [
    {
     "name": "stdout",
     "output_type": "stream",
     "text": [
      "========> Counting bsv..\n",
      "\n",
      "Total : 497 bsv dans le corpus\n",
      "\n",
      "========> Creating a dataframe..\n",
      "\n",
      "========> Making short descriptions..\n",
      "\n",
      "PrefLabel :\n",
      "\n",
      "count                            313\n",
      "unique                            19\n",
      "top       stade secondaire BBCH 009 \n",
      "freq                             228\n",
      "Name: prefLabel, dtype: object\n",
      "\n",
      "\n",
      "BSV :\n",
      "\n",
      "count                                                   313\n",
      "unique                                                  120\n",
      "top       /Users/belka/Documents/GitHub/termExtraction/r...\n",
      "freq                                                     13\n",
      "Name: bsv, dtype: object\n",
      "\n",
      "Top 10 labels :\n",
      "                    prefLabel  count\n",
      "0  stade secondaire BBCH 009     228\n",
      "1      stade principal BBCH 0     52\n",
      "2    stade secondaire BBCH 30      5\n",
      "3    stade secondaire BBCH 12      3\n",
      "4    stade secondaire BBCH 55      3\n",
      "5    stade secondaire BBCH 14      3\n",
      "6    stade secondaire BBCH 08      2\n",
      "7    stade secondaire BBCH 09      2\n",
      "8    stade secondaire BBCH 65      2\n",
      "9    stade secondaire BBCH 17      2\n"
     ]
    }
   ],
   "source": [
    "vespa_baseline, vespa_baseline_freq = read_fcu(\"../output/frenchCropUsage_20210525/vespa/stages.csv\", \"../resources/corpus/CorpusVespa.html/\")"
   ]
  },
  {
   "cell_type": "code",
   "execution_count": 17,
   "metadata": {},
   "outputs": [
    {
     "data": {
      "application/vnd.plotly.v1+json": {
       "config": {
        "plotlyServerURL": "https://plotly.com"
       },
       "data": [
        {
         "alignmentgroup": "True",
         "hovertemplate": "count=%{text}<br>prefLabel=%{y}<extra></extra>",
         "legendgroup": "",
         "marker": {
          "color": "#636efa"
         },
         "name": "",
         "offsetgroup": "",
         "orientation": "h",
         "showlegend": false,
         "text": [
          2,
          2,
          2,
          2,
          3,
          3,
          3,
          5,
          52,
          228
         ],
         "textposition": "auto",
         "type": "bar",
         "x": [
          2,
          2,
          2,
          2,
          3,
          3,
          3,
          5,
          52,
          228
         ],
         "xaxis": "x",
         "y": [
          "stade secondaire BBCH 08",
          "stade secondaire BBCH 09",
          "stade secondaire BBCH 65",
          "stade secondaire BBCH 17",
          "stade secondaire BBCH 12",
          "stade secondaire BBCH 55",
          "stade secondaire BBCH 14",
          "stade secondaire BBCH 30",
          "stade principal BBCH 0",
          "stade secondaire BBCH 009 "
         ],
         "yaxis": "y"
        }
       ],
       "layout": {
        "autosize": false,
        "barmode": "relative",
        "font": {
         "size": 10
        },
        "height": 600,
        "legend": {
         "tracegroupgap": 0
        },
        "margin": {
         "b": 200,
         "l": 200,
         "r": 200,
         "t": 200
        },
        "showlegend": false,
        "template": {
         "data": {
          "bar": [
           {
            "error_x": {
             "color": "#2a3f5f"
            },
            "error_y": {
             "color": "#2a3f5f"
            },
            "marker": {
             "line": {
              "color": "#E5ECF6",
              "width": 0.5
             }
            },
            "type": "bar"
           }
          ],
          "barpolar": [
           {
            "marker": {
             "line": {
              "color": "#E5ECF6",
              "width": 0.5
             }
            },
            "type": "barpolar"
           }
          ],
          "carpet": [
           {
            "aaxis": {
             "endlinecolor": "#2a3f5f",
             "gridcolor": "white",
             "linecolor": "white",
             "minorgridcolor": "white",
             "startlinecolor": "#2a3f5f"
            },
            "baxis": {
             "endlinecolor": "#2a3f5f",
             "gridcolor": "white",
             "linecolor": "white",
             "minorgridcolor": "white",
             "startlinecolor": "#2a3f5f"
            },
            "type": "carpet"
           }
          ],
          "choropleth": [
           {
            "colorbar": {
             "outlinewidth": 0,
             "ticks": ""
            },
            "type": "choropleth"
           }
          ],
          "contour": [
           {
            "colorbar": {
             "outlinewidth": 0,
             "ticks": ""
            },
            "colorscale": [
             [
              0,
              "#0d0887"
             ],
             [
              0.1111111111111111,
              "#46039f"
             ],
             [
              0.2222222222222222,
              "#7201a8"
             ],
             [
              0.3333333333333333,
              "#9c179e"
             ],
             [
              0.4444444444444444,
              "#bd3786"
             ],
             [
              0.5555555555555556,
              "#d8576b"
             ],
             [
              0.6666666666666666,
              "#ed7953"
             ],
             [
              0.7777777777777778,
              "#fb9f3a"
             ],
             [
              0.8888888888888888,
              "#fdca26"
             ],
             [
              1,
              "#f0f921"
             ]
            ],
            "type": "contour"
           }
          ],
          "contourcarpet": [
           {
            "colorbar": {
             "outlinewidth": 0,
             "ticks": ""
            },
            "type": "contourcarpet"
           }
          ],
          "heatmap": [
           {
            "colorbar": {
             "outlinewidth": 0,
             "ticks": ""
            },
            "colorscale": [
             [
              0,
              "#0d0887"
             ],
             [
              0.1111111111111111,
              "#46039f"
             ],
             [
              0.2222222222222222,
              "#7201a8"
             ],
             [
              0.3333333333333333,
              "#9c179e"
             ],
             [
              0.4444444444444444,
              "#bd3786"
             ],
             [
              0.5555555555555556,
              "#d8576b"
             ],
             [
              0.6666666666666666,
              "#ed7953"
             ],
             [
              0.7777777777777778,
              "#fb9f3a"
             ],
             [
              0.8888888888888888,
              "#fdca26"
             ],
             [
              1,
              "#f0f921"
             ]
            ],
            "type": "heatmap"
           }
          ],
          "heatmapgl": [
           {
            "colorbar": {
             "outlinewidth": 0,
             "ticks": ""
            },
            "colorscale": [
             [
              0,
              "#0d0887"
             ],
             [
              0.1111111111111111,
              "#46039f"
             ],
             [
              0.2222222222222222,
              "#7201a8"
             ],
             [
              0.3333333333333333,
              "#9c179e"
             ],
             [
              0.4444444444444444,
              "#bd3786"
             ],
             [
              0.5555555555555556,
              "#d8576b"
             ],
             [
              0.6666666666666666,
              "#ed7953"
             ],
             [
              0.7777777777777778,
              "#fb9f3a"
             ],
             [
              0.8888888888888888,
              "#fdca26"
             ],
             [
              1,
              "#f0f921"
             ]
            ],
            "type": "heatmapgl"
           }
          ],
          "histogram": [
           {
            "marker": {
             "colorbar": {
              "outlinewidth": 0,
              "ticks": ""
             }
            },
            "type": "histogram"
           }
          ],
          "histogram2d": [
           {
            "colorbar": {
             "outlinewidth": 0,
             "ticks": ""
            },
            "colorscale": [
             [
              0,
              "#0d0887"
             ],
             [
              0.1111111111111111,
              "#46039f"
             ],
             [
              0.2222222222222222,
              "#7201a8"
             ],
             [
              0.3333333333333333,
              "#9c179e"
             ],
             [
              0.4444444444444444,
              "#bd3786"
             ],
             [
              0.5555555555555556,
              "#d8576b"
             ],
             [
              0.6666666666666666,
              "#ed7953"
             ],
             [
              0.7777777777777778,
              "#fb9f3a"
             ],
             [
              0.8888888888888888,
              "#fdca26"
             ],
             [
              1,
              "#f0f921"
             ]
            ],
            "type": "histogram2d"
           }
          ],
          "histogram2dcontour": [
           {
            "colorbar": {
             "outlinewidth": 0,
             "ticks": ""
            },
            "colorscale": [
             [
              0,
              "#0d0887"
             ],
             [
              0.1111111111111111,
              "#46039f"
             ],
             [
              0.2222222222222222,
              "#7201a8"
             ],
             [
              0.3333333333333333,
              "#9c179e"
             ],
             [
              0.4444444444444444,
              "#bd3786"
             ],
             [
              0.5555555555555556,
              "#d8576b"
             ],
             [
              0.6666666666666666,
              "#ed7953"
             ],
             [
              0.7777777777777778,
              "#fb9f3a"
             ],
             [
              0.8888888888888888,
              "#fdca26"
             ],
             [
              1,
              "#f0f921"
             ]
            ],
            "type": "histogram2dcontour"
           }
          ],
          "mesh3d": [
           {
            "colorbar": {
             "outlinewidth": 0,
             "ticks": ""
            },
            "type": "mesh3d"
           }
          ],
          "parcoords": [
           {
            "line": {
             "colorbar": {
              "outlinewidth": 0,
              "ticks": ""
             }
            },
            "type": "parcoords"
           }
          ],
          "pie": [
           {
            "automargin": true,
            "type": "pie"
           }
          ],
          "scatter": [
           {
            "marker": {
             "colorbar": {
              "outlinewidth": 0,
              "ticks": ""
             }
            },
            "type": "scatter"
           }
          ],
          "scatter3d": [
           {
            "line": {
             "colorbar": {
              "outlinewidth": 0,
              "ticks": ""
             }
            },
            "marker": {
             "colorbar": {
              "outlinewidth": 0,
              "ticks": ""
             }
            },
            "type": "scatter3d"
           }
          ],
          "scattercarpet": [
           {
            "marker": {
             "colorbar": {
              "outlinewidth": 0,
              "ticks": ""
             }
            },
            "type": "scattercarpet"
           }
          ],
          "scattergeo": [
           {
            "marker": {
             "colorbar": {
              "outlinewidth": 0,
              "ticks": ""
             }
            },
            "type": "scattergeo"
           }
          ],
          "scattergl": [
           {
            "marker": {
             "colorbar": {
              "outlinewidth": 0,
              "ticks": ""
             }
            },
            "type": "scattergl"
           }
          ],
          "scattermapbox": [
           {
            "marker": {
             "colorbar": {
              "outlinewidth": 0,
              "ticks": ""
             }
            },
            "type": "scattermapbox"
           }
          ],
          "scatterpolar": [
           {
            "marker": {
             "colorbar": {
              "outlinewidth": 0,
              "ticks": ""
             }
            },
            "type": "scatterpolar"
           }
          ],
          "scatterpolargl": [
           {
            "marker": {
             "colorbar": {
              "outlinewidth": 0,
              "ticks": ""
             }
            },
            "type": "scatterpolargl"
           }
          ],
          "scatterternary": [
           {
            "marker": {
             "colorbar": {
              "outlinewidth": 0,
              "ticks": ""
             }
            },
            "type": "scatterternary"
           }
          ],
          "surface": [
           {
            "colorbar": {
             "outlinewidth": 0,
             "ticks": ""
            },
            "colorscale": [
             [
              0,
              "#0d0887"
             ],
             [
              0.1111111111111111,
              "#46039f"
             ],
             [
              0.2222222222222222,
              "#7201a8"
             ],
             [
              0.3333333333333333,
              "#9c179e"
             ],
             [
              0.4444444444444444,
              "#bd3786"
             ],
             [
              0.5555555555555556,
              "#d8576b"
             ],
             [
              0.6666666666666666,
              "#ed7953"
             ],
             [
              0.7777777777777778,
              "#fb9f3a"
             ],
             [
              0.8888888888888888,
              "#fdca26"
             ],
             [
              1,
              "#f0f921"
             ]
            ],
            "type": "surface"
           }
          ],
          "table": [
           {
            "cells": {
             "fill": {
              "color": "#EBF0F8"
             },
             "line": {
              "color": "white"
             }
            },
            "header": {
             "fill": {
              "color": "#C8D4E3"
             },
             "line": {
              "color": "white"
             }
            },
            "type": "table"
           }
          ]
         },
         "layout": {
          "annotationdefaults": {
           "arrowcolor": "#2a3f5f",
           "arrowhead": 0,
           "arrowwidth": 1
          },
          "autotypenumbers": "strict",
          "coloraxis": {
           "colorbar": {
            "outlinewidth": 0,
            "ticks": ""
           }
          },
          "colorscale": {
           "diverging": [
            [
             0,
             "#8e0152"
            ],
            [
             0.1,
             "#c51b7d"
            ],
            [
             0.2,
             "#de77ae"
            ],
            [
             0.3,
             "#f1b6da"
            ],
            [
             0.4,
             "#fde0ef"
            ],
            [
             0.5,
             "#f7f7f7"
            ],
            [
             0.6,
             "#e6f5d0"
            ],
            [
             0.7,
             "#b8e186"
            ],
            [
             0.8,
             "#7fbc41"
            ],
            [
             0.9,
             "#4d9221"
            ],
            [
             1,
             "#276419"
            ]
           ],
           "sequential": [
            [
             0,
             "#0d0887"
            ],
            [
             0.1111111111111111,
             "#46039f"
            ],
            [
             0.2222222222222222,
             "#7201a8"
            ],
            [
             0.3333333333333333,
             "#9c179e"
            ],
            [
             0.4444444444444444,
             "#bd3786"
            ],
            [
             0.5555555555555556,
             "#d8576b"
            ],
            [
             0.6666666666666666,
             "#ed7953"
            ],
            [
             0.7777777777777778,
             "#fb9f3a"
            ],
            [
             0.8888888888888888,
             "#fdca26"
            ],
            [
             1,
             "#f0f921"
            ]
           ],
           "sequentialminus": [
            [
             0,
             "#0d0887"
            ],
            [
             0.1111111111111111,
             "#46039f"
            ],
            [
             0.2222222222222222,
             "#7201a8"
            ],
            [
             0.3333333333333333,
             "#9c179e"
            ],
            [
             0.4444444444444444,
             "#bd3786"
            ],
            [
             0.5555555555555556,
             "#d8576b"
            ],
            [
             0.6666666666666666,
             "#ed7953"
            ],
            [
             0.7777777777777778,
             "#fb9f3a"
            ],
            [
             0.8888888888888888,
             "#fdca26"
            ],
            [
             1,
             "#f0f921"
            ]
           ]
          },
          "colorway": [
           "#636efa",
           "#EF553B",
           "#00cc96",
           "#ab63fa",
           "#FFA15A",
           "#19d3f3",
           "#FF6692",
           "#B6E880",
           "#FF97FF",
           "#FECB52"
          ],
          "font": {
           "color": "#2a3f5f"
          },
          "geo": {
           "bgcolor": "white",
           "lakecolor": "white",
           "landcolor": "#E5ECF6",
           "showlakes": true,
           "showland": true,
           "subunitcolor": "white"
          },
          "hoverlabel": {
           "align": "left"
          },
          "hovermode": "closest",
          "mapbox": {
           "style": "light"
          },
          "paper_bgcolor": "white",
          "plot_bgcolor": "#E5ECF6",
          "polar": {
           "angularaxis": {
            "gridcolor": "white",
            "linecolor": "white",
            "ticks": ""
           },
           "bgcolor": "#E5ECF6",
           "radialaxis": {
            "gridcolor": "white",
            "linecolor": "white",
            "ticks": ""
           }
          },
          "scene": {
           "xaxis": {
            "backgroundcolor": "#E5ECF6",
            "gridcolor": "white",
            "gridwidth": 2,
            "linecolor": "white",
            "showbackground": true,
            "ticks": "",
            "zerolinecolor": "white"
           },
           "yaxis": {
            "backgroundcolor": "#E5ECF6",
            "gridcolor": "white",
            "gridwidth": 2,
            "linecolor": "white",
            "showbackground": true,
            "ticks": "",
            "zerolinecolor": "white"
           },
           "zaxis": {
            "backgroundcolor": "#E5ECF6",
            "gridcolor": "white",
            "gridwidth": 2,
            "linecolor": "white",
            "showbackground": true,
            "ticks": "",
            "zerolinecolor": "white"
           }
          },
          "shapedefaults": {
           "line": {
            "color": "#2a3f5f"
           }
          },
          "ternary": {
           "aaxis": {
            "gridcolor": "white",
            "linecolor": "white",
            "ticks": ""
           },
           "baxis": {
            "gridcolor": "white",
            "linecolor": "white",
            "ticks": ""
           },
           "bgcolor": "#E5ECF6",
           "caxis": {
            "gridcolor": "white",
            "linecolor": "white",
            "ticks": ""
           }
          },
          "title": {
           "x": 0.05
          },
          "xaxis": {
           "automargin": true,
           "gridcolor": "white",
           "linecolor": "white",
           "ticks": "",
           "title": {
            "standoff": 15
           },
           "zerolinecolor": "white",
           "zerolinewidth": 2
          },
          "yaxis": {
           "automargin": true,
           "gridcolor": "white",
           "linecolor": "white",
           "ticks": "",
           "title": {
            "standoff": 15
           },
           "zerolinecolor": "white",
           "zerolinewidth": 2
          }
         }
        },
        "title": {
         "text": "Top 10 mots"
        },
        "width": 600,
        "xaxis": {
         "anchor": "y",
         "domain": [
          0,
          1
         ],
         "title": {
          "text": "count"
         }
        },
        "yaxis": {
         "anchor": "x",
         "domain": [
          0,
          1
         ],
         "title": {
          "text": "prefLabel"
         }
        }
       }
      },
      "text/html": [
       "<div>                            <div id=\"d09d7d7b-6916-41ed-b9f1-abc750a2eebb\" class=\"plotly-graph-div\" style=\"height:600px; width:600px;\"></div>            <script type=\"text/javascript\">                require([\"plotly\"], function(Plotly) {                    window.PLOTLYENV=window.PLOTLYENV || {};                                    if (document.getElementById(\"d09d7d7b-6916-41ed-b9f1-abc750a2eebb\")) {                    Plotly.newPlot(                        \"d09d7d7b-6916-41ed-b9f1-abc750a2eebb\",                        [{\"alignmentgroup\": \"True\", \"hovertemplate\": \"count=%{text}<br>prefLabel=%{y}<extra></extra>\", \"legendgroup\": \"\", \"marker\": {\"color\": \"#636efa\"}, \"name\": \"\", \"offsetgroup\": \"\", \"orientation\": \"h\", \"showlegend\": false, \"text\": [2.0, 2.0, 2.0, 2.0, 3.0, 3.0, 3.0, 5.0, 52.0, 228.0], \"textposition\": \"auto\", \"type\": \"bar\", \"x\": [2, 2, 2, 2, 3, 3, 3, 5, 52, 228], \"xaxis\": \"x\", \"y\": [\"stade secondaire BBCH 08\", \"stade secondaire BBCH 09\", \"stade secondaire BBCH 65\", \"stade secondaire BBCH 17\", \"stade secondaire BBCH 12\", \"stade secondaire BBCH 55\", \"stade secondaire BBCH 14\", \"stade secondaire BBCH 30\", \"stade principal BBCH 0\", \"stade secondaire BBCH 009 \"], \"yaxis\": \"y\"}],                        {\"autosize\": false, \"barmode\": \"relative\", \"font\": {\"size\": 10}, \"height\": 600, \"legend\": {\"tracegroupgap\": 0}, \"margin\": {\"b\": 200, \"l\": 200, \"r\": 200, \"t\": 200}, \"showlegend\": false, \"template\": {\"data\": {\"bar\": [{\"error_x\": {\"color\": \"#2a3f5f\"}, \"error_y\": {\"color\": \"#2a3f5f\"}, \"marker\": {\"line\": {\"color\": \"#E5ECF6\", \"width\": 0.5}}, \"type\": \"bar\"}], \"barpolar\": [{\"marker\": {\"line\": {\"color\": \"#E5ECF6\", \"width\": 0.5}}, \"type\": \"barpolar\"}], \"carpet\": [{\"aaxis\": {\"endlinecolor\": \"#2a3f5f\", \"gridcolor\": \"white\", \"linecolor\": \"white\", \"minorgridcolor\": \"white\", \"startlinecolor\": \"#2a3f5f\"}, \"baxis\": {\"endlinecolor\": \"#2a3f5f\", \"gridcolor\": \"white\", \"linecolor\": \"white\", \"minorgridcolor\": \"white\", \"startlinecolor\": \"#2a3f5f\"}, \"type\": \"carpet\"}], \"choropleth\": [{\"colorbar\": {\"outlinewidth\": 0, \"ticks\": \"\"}, \"type\": \"choropleth\"}], \"contour\": [{\"colorbar\": {\"outlinewidth\": 0, \"ticks\": \"\"}, \"colorscale\": [[0.0, \"#0d0887\"], [0.1111111111111111, \"#46039f\"], [0.2222222222222222, \"#7201a8\"], [0.3333333333333333, \"#9c179e\"], [0.4444444444444444, \"#bd3786\"], [0.5555555555555556, \"#d8576b\"], [0.6666666666666666, \"#ed7953\"], [0.7777777777777778, \"#fb9f3a\"], [0.8888888888888888, \"#fdca26\"], [1.0, \"#f0f921\"]], \"type\": \"contour\"}], \"contourcarpet\": [{\"colorbar\": {\"outlinewidth\": 0, \"ticks\": \"\"}, \"type\": \"contourcarpet\"}], \"heatmap\": [{\"colorbar\": {\"outlinewidth\": 0, \"ticks\": \"\"}, \"colorscale\": [[0.0, \"#0d0887\"], [0.1111111111111111, \"#46039f\"], [0.2222222222222222, \"#7201a8\"], [0.3333333333333333, \"#9c179e\"], [0.4444444444444444, \"#bd3786\"], [0.5555555555555556, \"#d8576b\"], [0.6666666666666666, \"#ed7953\"], [0.7777777777777778, \"#fb9f3a\"], [0.8888888888888888, \"#fdca26\"], [1.0, \"#f0f921\"]], \"type\": \"heatmap\"}], \"heatmapgl\": [{\"colorbar\": {\"outlinewidth\": 0, \"ticks\": \"\"}, \"colorscale\": [[0.0, \"#0d0887\"], [0.1111111111111111, \"#46039f\"], [0.2222222222222222, \"#7201a8\"], [0.3333333333333333, \"#9c179e\"], [0.4444444444444444, \"#bd3786\"], [0.5555555555555556, \"#d8576b\"], [0.6666666666666666, \"#ed7953\"], [0.7777777777777778, \"#fb9f3a\"], [0.8888888888888888, \"#fdca26\"], [1.0, \"#f0f921\"]], \"type\": \"heatmapgl\"}], \"histogram\": [{\"marker\": {\"colorbar\": {\"outlinewidth\": 0, \"ticks\": \"\"}}, \"type\": \"histogram\"}], \"histogram2d\": [{\"colorbar\": {\"outlinewidth\": 0, \"ticks\": \"\"}, \"colorscale\": [[0.0, \"#0d0887\"], [0.1111111111111111, \"#46039f\"], [0.2222222222222222, \"#7201a8\"], [0.3333333333333333, \"#9c179e\"], [0.4444444444444444, \"#bd3786\"], [0.5555555555555556, \"#d8576b\"], [0.6666666666666666, \"#ed7953\"], [0.7777777777777778, \"#fb9f3a\"], [0.8888888888888888, \"#fdca26\"], [1.0, \"#f0f921\"]], \"type\": \"histogram2d\"}], \"histogram2dcontour\": [{\"colorbar\": {\"outlinewidth\": 0, \"ticks\": \"\"}, \"colorscale\": [[0.0, \"#0d0887\"], [0.1111111111111111, \"#46039f\"], [0.2222222222222222, \"#7201a8\"], [0.3333333333333333, \"#9c179e\"], [0.4444444444444444, \"#bd3786\"], [0.5555555555555556, \"#d8576b\"], [0.6666666666666666, \"#ed7953\"], [0.7777777777777778, \"#fb9f3a\"], [0.8888888888888888, \"#fdca26\"], [1.0, \"#f0f921\"]], \"type\": \"histogram2dcontour\"}], \"mesh3d\": [{\"colorbar\": {\"outlinewidth\": 0, \"ticks\": \"\"}, \"type\": \"mesh3d\"}], \"parcoords\": [{\"line\": {\"colorbar\": {\"outlinewidth\": 0, \"ticks\": \"\"}}, \"type\": \"parcoords\"}], \"pie\": [{\"automargin\": true, \"type\": \"pie\"}], \"scatter\": [{\"marker\": {\"colorbar\": {\"outlinewidth\": 0, \"ticks\": \"\"}}, \"type\": \"scatter\"}], \"scatter3d\": [{\"line\": {\"colorbar\": {\"outlinewidth\": 0, \"ticks\": \"\"}}, \"marker\": {\"colorbar\": {\"outlinewidth\": 0, \"ticks\": \"\"}}, \"type\": \"scatter3d\"}], \"scattercarpet\": [{\"marker\": {\"colorbar\": {\"outlinewidth\": 0, \"ticks\": \"\"}}, \"type\": \"scattercarpet\"}], \"scattergeo\": [{\"marker\": {\"colorbar\": {\"outlinewidth\": 0, \"ticks\": \"\"}}, \"type\": \"scattergeo\"}], \"scattergl\": [{\"marker\": {\"colorbar\": {\"outlinewidth\": 0, \"ticks\": \"\"}}, \"type\": \"scattergl\"}], \"scattermapbox\": [{\"marker\": {\"colorbar\": {\"outlinewidth\": 0, \"ticks\": \"\"}}, \"type\": \"scattermapbox\"}], \"scatterpolar\": [{\"marker\": {\"colorbar\": {\"outlinewidth\": 0, \"ticks\": \"\"}}, \"type\": \"scatterpolar\"}], \"scatterpolargl\": [{\"marker\": {\"colorbar\": {\"outlinewidth\": 0, \"ticks\": \"\"}}, \"type\": \"scatterpolargl\"}], \"scatterternary\": [{\"marker\": {\"colorbar\": {\"outlinewidth\": 0, \"ticks\": \"\"}}, \"type\": \"scatterternary\"}], \"surface\": [{\"colorbar\": {\"outlinewidth\": 0, \"ticks\": \"\"}, \"colorscale\": [[0.0, \"#0d0887\"], [0.1111111111111111, \"#46039f\"], [0.2222222222222222, \"#7201a8\"], [0.3333333333333333, \"#9c179e\"], [0.4444444444444444, \"#bd3786\"], [0.5555555555555556, \"#d8576b\"], [0.6666666666666666, \"#ed7953\"], [0.7777777777777778, \"#fb9f3a\"], [0.8888888888888888, \"#fdca26\"], [1.0, \"#f0f921\"]], \"type\": \"surface\"}], \"table\": [{\"cells\": {\"fill\": {\"color\": \"#EBF0F8\"}, \"line\": {\"color\": \"white\"}}, \"header\": {\"fill\": {\"color\": \"#C8D4E3\"}, \"line\": {\"color\": \"white\"}}, \"type\": \"table\"}]}, \"layout\": {\"annotationdefaults\": {\"arrowcolor\": \"#2a3f5f\", \"arrowhead\": 0, \"arrowwidth\": 1}, \"autotypenumbers\": \"strict\", \"coloraxis\": {\"colorbar\": {\"outlinewidth\": 0, \"ticks\": \"\"}}, \"colorscale\": {\"diverging\": [[0, \"#8e0152\"], [0.1, \"#c51b7d\"], [0.2, \"#de77ae\"], [0.3, \"#f1b6da\"], [0.4, \"#fde0ef\"], [0.5, \"#f7f7f7\"], [0.6, \"#e6f5d0\"], [0.7, \"#b8e186\"], [0.8, \"#7fbc41\"], [0.9, \"#4d9221\"], [1, \"#276419\"]], \"sequential\": [[0.0, \"#0d0887\"], [0.1111111111111111, \"#46039f\"], [0.2222222222222222, \"#7201a8\"], [0.3333333333333333, \"#9c179e\"], [0.4444444444444444, \"#bd3786\"], [0.5555555555555556, \"#d8576b\"], [0.6666666666666666, \"#ed7953\"], [0.7777777777777778, \"#fb9f3a\"], [0.8888888888888888, \"#fdca26\"], [1.0, \"#f0f921\"]], \"sequentialminus\": [[0.0, \"#0d0887\"], [0.1111111111111111, \"#46039f\"], [0.2222222222222222, \"#7201a8\"], [0.3333333333333333, \"#9c179e\"], [0.4444444444444444, \"#bd3786\"], [0.5555555555555556, \"#d8576b\"], [0.6666666666666666, \"#ed7953\"], [0.7777777777777778, \"#fb9f3a\"], [0.8888888888888888, \"#fdca26\"], [1.0, \"#f0f921\"]]}, \"colorway\": [\"#636efa\", \"#EF553B\", \"#00cc96\", \"#ab63fa\", \"#FFA15A\", \"#19d3f3\", \"#FF6692\", \"#B6E880\", \"#FF97FF\", \"#FECB52\"], \"font\": {\"color\": \"#2a3f5f\"}, \"geo\": {\"bgcolor\": \"white\", \"lakecolor\": \"white\", \"landcolor\": \"#E5ECF6\", \"showlakes\": true, \"showland\": true, \"subunitcolor\": \"white\"}, \"hoverlabel\": {\"align\": \"left\"}, \"hovermode\": \"closest\", \"mapbox\": {\"style\": \"light\"}, \"paper_bgcolor\": \"white\", \"plot_bgcolor\": \"#E5ECF6\", \"polar\": {\"angularaxis\": {\"gridcolor\": \"white\", \"linecolor\": \"white\", \"ticks\": \"\"}, \"bgcolor\": \"#E5ECF6\", \"radialaxis\": {\"gridcolor\": \"white\", \"linecolor\": \"white\", \"ticks\": \"\"}}, \"scene\": {\"xaxis\": {\"backgroundcolor\": \"#E5ECF6\", \"gridcolor\": \"white\", \"gridwidth\": 2, \"linecolor\": \"white\", \"showbackground\": true, \"ticks\": \"\", \"zerolinecolor\": \"white\"}, \"yaxis\": {\"backgroundcolor\": \"#E5ECF6\", \"gridcolor\": \"white\", \"gridwidth\": 2, \"linecolor\": \"white\", \"showbackground\": true, \"ticks\": \"\", \"zerolinecolor\": \"white\"}, \"zaxis\": {\"backgroundcolor\": \"#E5ECF6\", \"gridcolor\": \"white\", \"gridwidth\": 2, \"linecolor\": \"white\", \"showbackground\": true, \"ticks\": \"\", \"zerolinecolor\": \"white\"}}, \"shapedefaults\": {\"line\": {\"color\": \"#2a3f5f\"}}, \"ternary\": {\"aaxis\": {\"gridcolor\": \"white\", \"linecolor\": \"white\", \"ticks\": \"\"}, \"baxis\": {\"gridcolor\": \"white\", \"linecolor\": \"white\", \"ticks\": \"\"}, \"bgcolor\": \"#E5ECF6\", \"caxis\": {\"gridcolor\": \"white\", \"linecolor\": \"white\", \"ticks\": \"\"}}, \"title\": {\"x\": 0.05}, \"xaxis\": {\"automargin\": true, \"gridcolor\": \"white\", \"linecolor\": \"white\", \"ticks\": \"\", \"title\": {\"standoff\": 15}, \"zerolinecolor\": \"white\", \"zerolinewidth\": 2}, \"yaxis\": {\"automargin\": true, \"gridcolor\": \"white\", \"linecolor\": \"white\", \"ticks\": \"\", \"title\": {\"standoff\": 15}, \"zerolinecolor\": \"white\", \"zerolinewidth\": 2}}}, \"title\": {\"text\": \"Top 10 mots\"}, \"width\": 600, \"xaxis\": {\"anchor\": \"y\", \"domain\": [0.0, 1.0], \"title\": {\"text\": \"count\"}}, \"yaxis\": {\"anchor\": \"x\", \"domain\": [0.0, 1.0], \"title\": {\"text\": \"prefLabel\"}}},                        {\"responsive\": true}                    ).then(function(){\n",
       "                            \n",
       "var gd = document.getElementById('d09d7d7b-6916-41ed-b9f1-abc750a2eebb');\n",
       "var x = new MutationObserver(function (mutations, observer) {{\n",
       "        var display = window.getComputedStyle(gd).display;\n",
       "        if (!display || display === 'none') {{\n",
       "            console.log([gd, 'removed!']);\n",
       "            Plotly.purge(gd);\n",
       "            observer.disconnect();\n",
       "        }}\n",
       "}});\n",
       "\n",
       "// Listen for the removal of the full notebook cells\n",
       "var notebookContainer = gd.closest('#notebook-container');\n",
       "if (notebookContainer) {{\n",
       "    x.observe(notebookContainer, {childList: true});\n",
       "}}\n",
       "\n",
       "// Listen for the clearing of the current output cell\n",
       "var outputEl = gd.closest('.output');\n",
       "if (outputEl) {{\n",
       "    x.observe(outputEl, {childList: true});\n",
       "}}\n",
       "\n",
       "                        })                };                });            </script>        </div>"
      ]
     },
     "metadata": {},
     "output_type": "display_data"
    }
   ],
   "source": [
    "df_sort = vespa_baseline_freq[:10].sort_values(by='count')\n",
    "fig = px.bar(df_sort, x='count', y='prefLabel',  orientation='h', text='count',\n",
    "             height=600,\n",
    "             title='Top 10 mots')\n",
    "\n",
    "fig.update_layout(\n",
    "    margin=dict(t=200, r=200, b=200, l=200),\n",
    "    showlegend=False,\n",
    "    font_size=10,\n",
    "    width=600, height=600,\n",
    "    autosize=False)\n",
    "\n",
    "\n",
    "fig.show()"
   ]
  },
  {
   "cell_type": "markdown",
   "metadata": {},
   "source": [
    "# ALEA"
   ]
  },
  {
   "cell_type": "code",
   "execution_count": 18,
   "metadata": {},
   "outputs": [
    {
     "data": {
      "text/html": [
       "<div>\n",
       "<style scoped>\n",
       "    .dataframe tbody tr th:only-of-type {\n",
       "        vertical-align: middle;\n",
       "    }\n",
       "\n",
       "    .dataframe tbody tr th {\n",
       "        vertical-align: top;\n",
       "    }\n",
       "\n",
       "    .dataframe thead th {\n",
       "        text-align: right;\n",
       "    }\n",
       "</style>\n",
       "<table border=\"1\" class=\"dataframe\">\n",
       "  <thead>\n",
       "    <tr style=\"text-align: right;\">\n",
       "      <th></th>\n",
       "      <th>bsv</th>\n",
       "      <th>number of words</th>\n",
       "      <th>html tag</th>\n",
       "      <th>context before</th>\n",
       "      <th>form</th>\n",
       "      <th>lemma</th>\n",
       "      <th>prefLabel</th>\n",
       "      <th>context after</th>\n",
       "      <th>location</th>\n",
       "      <th>features</th>\n",
       "    </tr>\n",
       "  </thead>\n",
       "  <tbody>\n",
       "    <tr>\n",
       "      <th>0</th>\n",
       "      <td>/Users/belka/Documents/GitHub/termExtraction/r...</td>\n",
       "      <td>446</td>\n",
       "      <td>html</td>\n",
       "      <td>Les pourcentages de</td>\n",
       "      <td>levée</td>\n",
       "      <td>levée</td>\n",
       "      <td>stade secondaire BBCH 009</td>\n",
       "      <td>sont très bons : pl</td>\n",
       "      <td>154-159</td>\n",
       "      <td>type=RDFProjector, uri=http://ontology.inrae.f...</td>\n",
       "    </tr>\n",
       "    <tr>\n",
       "      <th>1</th>\n",
       "      <td>/Users/belka/Documents/GitHub/termExtraction/r...</td>\n",
       "      <td>6081</td>\n",
       "      <td>html</td>\n",
       "      <td>la F1 facilitent la</td>\n",
       "      <td>germination</td>\n",
       "      <td>germination</td>\n",
       "      <td>stade principal BBCH 0</td>\n",
       "      <td>et l'extériorisatio</td>\n",
       "      <td>12631-12642</td>\n",
       "      <td>type=RDFProjector, uri=http://ontology.inrae.f...</td>\n",
       "    </tr>\n",
       "    <tr>\n",
       "      <th>2</th>\n",
       "      <td>/Users/belka/Documents/GitHub/termExtraction/r...</td>\n",
       "      <td>6081</td>\n",
       "      <td>html</td>\n",
       "      <td>tades varient entre</td>\n",
       "      <td>levée</td>\n",
       "      <td>levée</td>\n",
       "      <td>stade secondaire BBCH 009</td>\n",
       "      <td>(1 ères feuilles de</td>\n",
       "      <td>29405-29410</td>\n",
       "      <td>type=RDFProjector, uri=http://ontology.inrae.f...</td>\n",
       "    </tr>\n",
       "    <tr>\n",
       "      <th>3</th>\n",
       "      <td>/Users/belka/Documents/GitHub/termExtraction/r...</td>\n",
       "      <td>2709</td>\n",
       "      <td>html</td>\n",
       "      <td>is la codification (</td>\n",
       "      <td>BBCH 13, 18 ou 32</td>\n",
       "      <td>BBCH @card@ , @card@ ou @card@</td>\n",
       "      <td>stade secondaire BBCH 13</td>\n",
       "      <td>) ne nous est pas f</td>\n",
       "      <td>3796-3813</td>\n",
       "      <td>type=PATTERN_BBCH, uri=http://ontology.inrae.f...</td>\n",
       "    </tr>\n",
       "    <tr>\n",
       "      <th>4</th>\n",
       "      <td>/Users/belka/Documents/GitHub/termExtraction/r...</td>\n",
       "      <td>2709</td>\n",
       "      <td>html</td>\n",
       "      <td>es de stade Echelle</td>\n",
       "      <td>BBCH : Stade 15</td>\n",
       "      <td>BBCH : stade @card@</td>\n",
       "      <td>stade secondaire BBCH 15</td>\n",
       "      <td>, maïs à 5 feuilles</td>\n",
       "      <td>4547-4562</td>\n",
       "      <td>type=PATTERN_BBCH, uri=http://ontology.inrae.f...</td>\n",
       "    </tr>\n",
       "  </tbody>\n",
       "</table>\n",
       "</div>"
      ],
      "text/plain": [
       "                                                 bsv  number of words  \\\n",
       "0  /Users/belka/Documents/GitHub/termExtraction/r...              446   \n",
       "1  /Users/belka/Documents/GitHub/termExtraction/r...             6081   \n",
       "2  /Users/belka/Documents/GitHub/termExtraction/r...             6081   \n",
       "3  /Users/belka/Documents/GitHub/termExtraction/r...             2709   \n",
       "4  /Users/belka/Documents/GitHub/termExtraction/r...             2709   \n",
       "\n",
       "  html tag        context before               form  \\\n",
       "0     html   Les pourcentages de              levée   \n",
       "1     html   la F1 facilitent la        germination   \n",
       "2     html   tades varient entre              levée   \n",
       "3     html  is la codification (  BBCH 13, 18 ou 32   \n",
       "4     html   es de stade Echelle    BBCH : Stade 15   \n",
       "\n",
       "                            lemma                   prefLabel  \\\n",
       "0                           levée  stade secondaire BBCH 009    \n",
       "1                     germination      stade principal BBCH 0   \n",
       "2                           levée  stade secondaire BBCH 009    \n",
       "3  BBCH @card@ , @card@ ou @card@    stade secondaire BBCH 13   \n",
       "4             BBCH : stade @card@    stade secondaire BBCH 15   \n",
       "\n",
       "         context after     location  \\\n",
       "0  sont très bons : pl      154-159   \n",
       "1  et l'extériorisatio  12631-12642   \n",
       "2  (1 ères feuilles de  29405-29410   \n",
       "3  ) ne nous est pas f    3796-3813   \n",
       "4  , maïs à 5 feuilles    4547-4562   \n",
       "\n",
       "                                            features  \n",
       "0  type=RDFProjector, uri=http://ontology.inrae.f...  \n",
       "1  type=RDFProjector, uri=http://ontology.inrae.f...  \n",
       "2  type=RDFProjector, uri=http://ontology.inrae.f...  \n",
       "3  type=PATTERN_BBCH, uri=http://ontology.inrae.f...  \n",
       "4  type=PATTERN_BBCH, uri=http://ontology.inrae.f...  "
      ]
     },
     "execution_count": 18,
     "metadata": {},
     "output_type": "execute_result"
    }
   ],
   "source": [
    "stages_alea = pd.read_csv(\"../output/frenchCropUsage_20210525/alea/stages.csv\", delimiter=\"\\t\", encoding='utf-8')\n",
    "stages_alea[:5]"
   ]
  },
  {
   "cell_type": "code",
   "execution_count": 19,
   "metadata": {},
   "outputs": [
    {
     "name": "stdout",
     "output_type": "stream",
     "text": [
      "========> Counting bsv..\n",
      "\n",
      "Total : 150 bsv dans le corpus\n",
      "\n",
      "========> Creating a dataframe..\n",
      "\n",
      "========> Making short descriptions..\n",
      "\n",
      "PrefLabel :\n",
      "\n",
      "count                            203\n",
      "unique                            27\n",
      "top       stade secondaire BBCH 009 \n",
      "freq                             117\n",
      "Name: prefLabel, dtype: object\n",
      "\n",
      "\n",
      "BSV :\n",
      "\n",
      "count                                                   203\n",
      "unique                                                   62\n",
      "top       /Users/belka/Documents/GitHub/termExtraction/r...\n",
      "freq                                                     16\n",
      "Name: bsv, dtype: object\n",
      "\n",
      "Top 10 labels :\n",
      "                    prefLabel  count\n",
      "0  stade secondaire BBCH 009     117\n",
      "1      stade principal BBCH 0     39\n",
      "2    stade secondaire BBCH 89      8\n",
      "3    stade secondaire BBCH 65      4\n",
      "4    stade secondaire BBCH 30      4\n",
      "5    stade secondaire BBCH 15      2\n",
      "6    stade secondaire BBCH 00      2\n",
      "7    stade secondaire BBCH 67      2\n",
      "8    stade secondaire BBCH 64      2\n",
      "9    stade secondaire BBCH 61      2\n"
     ]
    }
   ],
   "source": [
    "alea_baseline, alea_baseline_freq = read_fcu(\"../output/frenchCropUsage_20210525/alea/stages.csv\", \"../resources/corpus/Corpus-v-12-04-21/test/\")"
   ]
  },
  {
   "cell_type": "code",
   "execution_count": 20,
   "metadata": {},
   "outputs": [
    {
     "data": {
      "application/vnd.plotly.v1+json": {
       "config": {
        "plotlyServerURL": "https://plotly.com"
       },
       "data": [
        {
         "alignmentgroup": "True",
         "hovertemplate": "count=%{text}<br>prefLabel=%{y}<extra></extra>",
         "legendgroup": "",
         "marker": {
          "color": "#636efa"
         },
         "name": "",
         "offsetgroup": "",
         "orientation": "h",
         "showlegend": false,
         "text": [
          2,
          2,
          2,
          2,
          2,
          4,
          4,
          8,
          39,
          117
         ],
         "textposition": "auto",
         "type": "bar",
         "x": [
          2,
          2,
          2,
          2,
          2,
          4,
          4,
          8,
          39,
          117
         ],
         "xaxis": "x",
         "y": [
          "stade secondaire BBCH 15",
          "stade secondaire BBCH 00",
          "stade secondaire BBCH 67",
          "stade secondaire BBCH 64",
          "stade secondaire BBCH 61",
          "stade secondaire BBCH 65",
          "stade secondaire BBCH 30",
          "stade secondaire BBCH 89",
          "stade principal BBCH 0",
          "stade secondaire BBCH 009 "
         ],
         "yaxis": "y"
        }
       ],
       "layout": {
        "autosize": false,
        "barmode": "relative",
        "font": {
         "size": 10
        },
        "height": 600,
        "legend": {
         "tracegroupgap": 0
        },
        "margin": {
         "b": 200,
         "l": 200,
         "r": 200,
         "t": 200
        },
        "showlegend": false,
        "template": {
         "data": {
          "bar": [
           {
            "error_x": {
             "color": "#2a3f5f"
            },
            "error_y": {
             "color": "#2a3f5f"
            },
            "marker": {
             "line": {
              "color": "#E5ECF6",
              "width": 0.5
             }
            },
            "type": "bar"
           }
          ],
          "barpolar": [
           {
            "marker": {
             "line": {
              "color": "#E5ECF6",
              "width": 0.5
             }
            },
            "type": "barpolar"
           }
          ],
          "carpet": [
           {
            "aaxis": {
             "endlinecolor": "#2a3f5f",
             "gridcolor": "white",
             "linecolor": "white",
             "minorgridcolor": "white",
             "startlinecolor": "#2a3f5f"
            },
            "baxis": {
             "endlinecolor": "#2a3f5f",
             "gridcolor": "white",
             "linecolor": "white",
             "minorgridcolor": "white",
             "startlinecolor": "#2a3f5f"
            },
            "type": "carpet"
           }
          ],
          "choropleth": [
           {
            "colorbar": {
             "outlinewidth": 0,
             "ticks": ""
            },
            "type": "choropleth"
           }
          ],
          "contour": [
           {
            "colorbar": {
             "outlinewidth": 0,
             "ticks": ""
            },
            "colorscale": [
             [
              0,
              "#0d0887"
             ],
             [
              0.1111111111111111,
              "#46039f"
             ],
             [
              0.2222222222222222,
              "#7201a8"
             ],
             [
              0.3333333333333333,
              "#9c179e"
             ],
             [
              0.4444444444444444,
              "#bd3786"
             ],
             [
              0.5555555555555556,
              "#d8576b"
             ],
             [
              0.6666666666666666,
              "#ed7953"
             ],
             [
              0.7777777777777778,
              "#fb9f3a"
             ],
             [
              0.8888888888888888,
              "#fdca26"
             ],
             [
              1,
              "#f0f921"
             ]
            ],
            "type": "contour"
           }
          ],
          "contourcarpet": [
           {
            "colorbar": {
             "outlinewidth": 0,
             "ticks": ""
            },
            "type": "contourcarpet"
           }
          ],
          "heatmap": [
           {
            "colorbar": {
             "outlinewidth": 0,
             "ticks": ""
            },
            "colorscale": [
             [
              0,
              "#0d0887"
             ],
             [
              0.1111111111111111,
              "#46039f"
             ],
             [
              0.2222222222222222,
              "#7201a8"
             ],
             [
              0.3333333333333333,
              "#9c179e"
             ],
             [
              0.4444444444444444,
              "#bd3786"
             ],
             [
              0.5555555555555556,
              "#d8576b"
             ],
             [
              0.6666666666666666,
              "#ed7953"
             ],
             [
              0.7777777777777778,
              "#fb9f3a"
             ],
             [
              0.8888888888888888,
              "#fdca26"
             ],
             [
              1,
              "#f0f921"
             ]
            ],
            "type": "heatmap"
           }
          ],
          "heatmapgl": [
           {
            "colorbar": {
             "outlinewidth": 0,
             "ticks": ""
            },
            "colorscale": [
             [
              0,
              "#0d0887"
             ],
             [
              0.1111111111111111,
              "#46039f"
             ],
             [
              0.2222222222222222,
              "#7201a8"
             ],
             [
              0.3333333333333333,
              "#9c179e"
             ],
             [
              0.4444444444444444,
              "#bd3786"
             ],
             [
              0.5555555555555556,
              "#d8576b"
             ],
             [
              0.6666666666666666,
              "#ed7953"
             ],
             [
              0.7777777777777778,
              "#fb9f3a"
             ],
             [
              0.8888888888888888,
              "#fdca26"
             ],
             [
              1,
              "#f0f921"
             ]
            ],
            "type": "heatmapgl"
           }
          ],
          "histogram": [
           {
            "marker": {
             "colorbar": {
              "outlinewidth": 0,
              "ticks": ""
             }
            },
            "type": "histogram"
           }
          ],
          "histogram2d": [
           {
            "colorbar": {
             "outlinewidth": 0,
             "ticks": ""
            },
            "colorscale": [
             [
              0,
              "#0d0887"
             ],
             [
              0.1111111111111111,
              "#46039f"
             ],
             [
              0.2222222222222222,
              "#7201a8"
             ],
             [
              0.3333333333333333,
              "#9c179e"
             ],
             [
              0.4444444444444444,
              "#bd3786"
             ],
             [
              0.5555555555555556,
              "#d8576b"
             ],
             [
              0.6666666666666666,
              "#ed7953"
             ],
             [
              0.7777777777777778,
              "#fb9f3a"
             ],
             [
              0.8888888888888888,
              "#fdca26"
             ],
             [
              1,
              "#f0f921"
             ]
            ],
            "type": "histogram2d"
           }
          ],
          "histogram2dcontour": [
           {
            "colorbar": {
             "outlinewidth": 0,
             "ticks": ""
            },
            "colorscale": [
             [
              0,
              "#0d0887"
             ],
             [
              0.1111111111111111,
              "#46039f"
             ],
             [
              0.2222222222222222,
              "#7201a8"
             ],
             [
              0.3333333333333333,
              "#9c179e"
             ],
             [
              0.4444444444444444,
              "#bd3786"
             ],
             [
              0.5555555555555556,
              "#d8576b"
             ],
             [
              0.6666666666666666,
              "#ed7953"
             ],
             [
              0.7777777777777778,
              "#fb9f3a"
             ],
             [
              0.8888888888888888,
              "#fdca26"
             ],
             [
              1,
              "#f0f921"
             ]
            ],
            "type": "histogram2dcontour"
           }
          ],
          "mesh3d": [
           {
            "colorbar": {
             "outlinewidth": 0,
             "ticks": ""
            },
            "type": "mesh3d"
           }
          ],
          "parcoords": [
           {
            "line": {
             "colorbar": {
              "outlinewidth": 0,
              "ticks": ""
             }
            },
            "type": "parcoords"
           }
          ],
          "pie": [
           {
            "automargin": true,
            "type": "pie"
           }
          ],
          "scatter": [
           {
            "marker": {
             "colorbar": {
              "outlinewidth": 0,
              "ticks": ""
             }
            },
            "type": "scatter"
           }
          ],
          "scatter3d": [
           {
            "line": {
             "colorbar": {
              "outlinewidth": 0,
              "ticks": ""
             }
            },
            "marker": {
             "colorbar": {
              "outlinewidth": 0,
              "ticks": ""
             }
            },
            "type": "scatter3d"
           }
          ],
          "scattercarpet": [
           {
            "marker": {
             "colorbar": {
              "outlinewidth": 0,
              "ticks": ""
             }
            },
            "type": "scattercarpet"
           }
          ],
          "scattergeo": [
           {
            "marker": {
             "colorbar": {
              "outlinewidth": 0,
              "ticks": ""
             }
            },
            "type": "scattergeo"
           }
          ],
          "scattergl": [
           {
            "marker": {
             "colorbar": {
              "outlinewidth": 0,
              "ticks": ""
             }
            },
            "type": "scattergl"
           }
          ],
          "scattermapbox": [
           {
            "marker": {
             "colorbar": {
              "outlinewidth": 0,
              "ticks": ""
             }
            },
            "type": "scattermapbox"
           }
          ],
          "scatterpolar": [
           {
            "marker": {
             "colorbar": {
              "outlinewidth": 0,
              "ticks": ""
             }
            },
            "type": "scatterpolar"
           }
          ],
          "scatterpolargl": [
           {
            "marker": {
             "colorbar": {
              "outlinewidth": 0,
              "ticks": ""
             }
            },
            "type": "scatterpolargl"
           }
          ],
          "scatterternary": [
           {
            "marker": {
             "colorbar": {
              "outlinewidth": 0,
              "ticks": ""
             }
            },
            "type": "scatterternary"
           }
          ],
          "surface": [
           {
            "colorbar": {
             "outlinewidth": 0,
             "ticks": ""
            },
            "colorscale": [
             [
              0,
              "#0d0887"
             ],
             [
              0.1111111111111111,
              "#46039f"
             ],
             [
              0.2222222222222222,
              "#7201a8"
             ],
             [
              0.3333333333333333,
              "#9c179e"
             ],
             [
              0.4444444444444444,
              "#bd3786"
             ],
             [
              0.5555555555555556,
              "#d8576b"
             ],
             [
              0.6666666666666666,
              "#ed7953"
             ],
             [
              0.7777777777777778,
              "#fb9f3a"
             ],
             [
              0.8888888888888888,
              "#fdca26"
             ],
             [
              1,
              "#f0f921"
             ]
            ],
            "type": "surface"
           }
          ],
          "table": [
           {
            "cells": {
             "fill": {
              "color": "#EBF0F8"
             },
             "line": {
              "color": "white"
             }
            },
            "header": {
             "fill": {
              "color": "#C8D4E3"
             },
             "line": {
              "color": "white"
             }
            },
            "type": "table"
           }
          ]
         },
         "layout": {
          "annotationdefaults": {
           "arrowcolor": "#2a3f5f",
           "arrowhead": 0,
           "arrowwidth": 1
          },
          "autotypenumbers": "strict",
          "coloraxis": {
           "colorbar": {
            "outlinewidth": 0,
            "ticks": ""
           }
          },
          "colorscale": {
           "diverging": [
            [
             0,
             "#8e0152"
            ],
            [
             0.1,
             "#c51b7d"
            ],
            [
             0.2,
             "#de77ae"
            ],
            [
             0.3,
             "#f1b6da"
            ],
            [
             0.4,
             "#fde0ef"
            ],
            [
             0.5,
             "#f7f7f7"
            ],
            [
             0.6,
             "#e6f5d0"
            ],
            [
             0.7,
             "#b8e186"
            ],
            [
             0.8,
             "#7fbc41"
            ],
            [
             0.9,
             "#4d9221"
            ],
            [
             1,
             "#276419"
            ]
           ],
           "sequential": [
            [
             0,
             "#0d0887"
            ],
            [
             0.1111111111111111,
             "#46039f"
            ],
            [
             0.2222222222222222,
             "#7201a8"
            ],
            [
             0.3333333333333333,
             "#9c179e"
            ],
            [
             0.4444444444444444,
             "#bd3786"
            ],
            [
             0.5555555555555556,
             "#d8576b"
            ],
            [
             0.6666666666666666,
             "#ed7953"
            ],
            [
             0.7777777777777778,
             "#fb9f3a"
            ],
            [
             0.8888888888888888,
             "#fdca26"
            ],
            [
             1,
             "#f0f921"
            ]
           ],
           "sequentialminus": [
            [
             0,
             "#0d0887"
            ],
            [
             0.1111111111111111,
             "#46039f"
            ],
            [
             0.2222222222222222,
             "#7201a8"
            ],
            [
             0.3333333333333333,
             "#9c179e"
            ],
            [
             0.4444444444444444,
             "#bd3786"
            ],
            [
             0.5555555555555556,
             "#d8576b"
            ],
            [
             0.6666666666666666,
             "#ed7953"
            ],
            [
             0.7777777777777778,
             "#fb9f3a"
            ],
            [
             0.8888888888888888,
             "#fdca26"
            ],
            [
             1,
             "#f0f921"
            ]
           ]
          },
          "colorway": [
           "#636efa",
           "#EF553B",
           "#00cc96",
           "#ab63fa",
           "#FFA15A",
           "#19d3f3",
           "#FF6692",
           "#B6E880",
           "#FF97FF",
           "#FECB52"
          ],
          "font": {
           "color": "#2a3f5f"
          },
          "geo": {
           "bgcolor": "white",
           "lakecolor": "white",
           "landcolor": "#E5ECF6",
           "showlakes": true,
           "showland": true,
           "subunitcolor": "white"
          },
          "hoverlabel": {
           "align": "left"
          },
          "hovermode": "closest",
          "mapbox": {
           "style": "light"
          },
          "paper_bgcolor": "white",
          "plot_bgcolor": "#E5ECF6",
          "polar": {
           "angularaxis": {
            "gridcolor": "white",
            "linecolor": "white",
            "ticks": ""
           },
           "bgcolor": "#E5ECF6",
           "radialaxis": {
            "gridcolor": "white",
            "linecolor": "white",
            "ticks": ""
           }
          },
          "scene": {
           "xaxis": {
            "backgroundcolor": "#E5ECF6",
            "gridcolor": "white",
            "gridwidth": 2,
            "linecolor": "white",
            "showbackground": true,
            "ticks": "",
            "zerolinecolor": "white"
           },
           "yaxis": {
            "backgroundcolor": "#E5ECF6",
            "gridcolor": "white",
            "gridwidth": 2,
            "linecolor": "white",
            "showbackground": true,
            "ticks": "",
            "zerolinecolor": "white"
           },
           "zaxis": {
            "backgroundcolor": "#E5ECF6",
            "gridcolor": "white",
            "gridwidth": 2,
            "linecolor": "white",
            "showbackground": true,
            "ticks": "",
            "zerolinecolor": "white"
           }
          },
          "shapedefaults": {
           "line": {
            "color": "#2a3f5f"
           }
          },
          "ternary": {
           "aaxis": {
            "gridcolor": "white",
            "linecolor": "white",
            "ticks": ""
           },
           "baxis": {
            "gridcolor": "white",
            "linecolor": "white",
            "ticks": ""
           },
           "bgcolor": "#E5ECF6",
           "caxis": {
            "gridcolor": "white",
            "linecolor": "white",
            "ticks": ""
           }
          },
          "title": {
           "x": 0.05
          },
          "xaxis": {
           "automargin": true,
           "gridcolor": "white",
           "linecolor": "white",
           "ticks": "",
           "title": {
            "standoff": 15
           },
           "zerolinecolor": "white",
           "zerolinewidth": 2
          },
          "yaxis": {
           "automargin": true,
           "gridcolor": "white",
           "linecolor": "white",
           "ticks": "",
           "title": {
            "standoff": 15
           },
           "zerolinecolor": "white",
           "zerolinewidth": 2
          }
         }
        },
        "title": {
         "text": "Top 10 mots"
        },
        "width": 600,
        "xaxis": {
         "anchor": "y",
         "domain": [
          0,
          1
         ],
         "title": {
          "text": "count"
         }
        },
        "yaxis": {
         "anchor": "x",
         "domain": [
          0,
          1
         ],
         "title": {
          "text": "prefLabel"
         }
        }
       }
      },
      "text/html": [
       "<div>                            <div id=\"aee0eec1-a8ed-4e27-ae5d-6946c327cced\" class=\"plotly-graph-div\" style=\"height:600px; width:600px;\"></div>            <script type=\"text/javascript\">                require([\"plotly\"], function(Plotly) {                    window.PLOTLYENV=window.PLOTLYENV || {};                                    if (document.getElementById(\"aee0eec1-a8ed-4e27-ae5d-6946c327cced\")) {                    Plotly.newPlot(                        \"aee0eec1-a8ed-4e27-ae5d-6946c327cced\",                        [{\"alignmentgroup\": \"True\", \"hovertemplate\": \"count=%{text}<br>prefLabel=%{y}<extra></extra>\", \"legendgroup\": \"\", \"marker\": {\"color\": \"#636efa\"}, \"name\": \"\", \"offsetgroup\": \"\", \"orientation\": \"h\", \"showlegend\": false, \"text\": [2.0, 2.0, 2.0, 2.0, 2.0, 4.0, 4.0, 8.0, 39.0, 117.0], \"textposition\": \"auto\", \"type\": \"bar\", \"x\": [2, 2, 2, 2, 2, 4, 4, 8, 39, 117], \"xaxis\": \"x\", \"y\": [\"stade secondaire BBCH 15\", \"stade secondaire BBCH 00\", \"stade secondaire BBCH 67\", \"stade secondaire BBCH 64\", \"stade secondaire BBCH 61\", \"stade secondaire BBCH 65\", \"stade secondaire BBCH 30\", \"stade secondaire BBCH 89\", \"stade principal BBCH 0\", \"stade secondaire BBCH 009 \"], \"yaxis\": \"y\"}],                        {\"autosize\": false, \"barmode\": \"relative\", \"font\": {\"size\": 10}, \"height\": 600, \"legend\": {\"tracegroupgap\": 0}, \"margin\": {\"b\": 200, \"l\": 200, \"r\": 200, \"t\": 200}, \"showlegend\": false, \"template\": {\"data\": {\"bar\": [{\"error_x\": {\"color\": \"#2a3f5f\"}, \"error_y\": {\"color\": \"#2a3f5f\"}, \"marker\": {\"line\": {\"color\": \"#E5ECF6\", \"width\": 0.5}}, \"type\": \"bar\"}], \"barpolar\": [{\"marker\": {\"line\": {\"color\": \"#E5ECF6\", \"width\": 0.5}}, \"type\": \"barpolar\"}], \"carpet\": [{\"aaxis\": {\"endlinecolor\": \"#2a3f5f\", \"gridcolor\": \"white\", \"linecolor\": \"white\", \"minorgridcolor\": \"white\", \"startlinecolor\": \"#2a3f5f\"}, \"baxis\": {\"endlinecolor\": \"#2a3f5f\", \"gridcolor\": \"white\", \"linecolor\": \"white\", \"minorgridcolor\": \"white\", \"startlinecolor\": \"#2a3f5f\"}, \"type\": \"carpet\"}], \"choropleth\": [{\"colorbar\": {\"outlinewidth\": 0, \"ticks\": \"\"}, \"type\": \"choropleth\"}], \"contour\": [{\"colorbar\": {\"outlinewidth\": 0, \"ticks\": \"\"}, \"colorscale\": [[0.0, \"#0d0887\"], [0.1111111111111111, \"#46039f\"], [0.2222222222222222, \"#7201a8\"], [0.3333333333333333, \"#9c179e\"], [0.4444444444444444, \"#bd3786\"], [0.5555555555555556, \"#d8576b\"], [0.6666666666666666, \"#ed7953\"], [0.7777777777777778, \"#fb9f3a\"], [0.8888888888888888, \"#fdca26\"], [1.0, \"#f0f921\"]], \"type\": \"contour\"}], \"contourcarpet\": [{\"colorbar\": {\"outlinewidth\": 0, \"ticks\": \"\"}, \"type\": \"contourcarpet\"}], \"heatmap\": [{\"colorbar\": {\"outlinewidth\": 0, \"ticks\": \"\"}, \"colorscale\": [[0.0, \"#0d0887\"], [0.1111111111111111, \"#46039f\"], [0.2222222222222222, \"#7201a8\"], [0.3333333333333333, \"#9c179e\"], [0.4444444444444444, \"#bd3786\"], [0.5555555555555556, \"#d8576b\"], [0.6666666666666666, \"#ed7953\"], [0.7777777777777778, \"#fb9f3a\"], [0.8888888888888888, \"#fdca26\"], [1.0, \"#f0f921\"]], \"type\": \"heatmap\"}], \"heatmapgl\": [{\"colorbar\": {\"outlinewidth\": 0, \"ticks\": \"\"}, \"colorscale\": [[0.0, \"#0d0887\"], [0.1111111111111111, \"#46039f\"], [0.2222222222222222, \"#7201a8\"], [0.3333333333333333, \"#9c179e\"], [0.4444444444444444, \"#bd3786\"], [0.5555555555555556, \"#d8576b\"], [0.6666666666666666, \"#ed7953\"], [0.7777777777777778, \"#fb9f3a\"], [0.8888888888888888, \"#fdca26\"], [1.0, \"#f0f921\"]], \"type\": \"heatmapgl\"}], \"histogram\": [{\"marker\": {\"colorbar\": {\"outlinewidth\": 0, \"ticks\": \"\"}}, \"type\": \"histogram\"}], \"histogram2d\": [{\"colorbar\": {\"outlinewidth\": 0, \"ticks\": \"\"}, \"colorscale\": [[0.0, \"#0d0887\"], [0.1111111111111111, \"#46039f\"], [0.2222222222222222, \"#7201a8\"], [0.3333333333333333, \"#9c179e\"], [0.4444444444444444, \"#bd3786\"], [0.5555555555555556, \"#d8576b\"], [0.6666666666666666, \"#ed7953\"], [0.7777777777777778, \"#fb9f3a\"], [0.8888888888888888, \"#fdca26\"], [1.0, \"#f0f921\"]], \"type\": \"histogram2d\"}], \"histogram2dcontour\": [{\"colorbar\": {\"outlinewidth\": 0, \"ticks\": \"\"}, \"colorscale\": [[0.0, \"#0d0887\"], [0.1111111111111111, \"#46039f\"], [0.2222222222222222, \"#7201a8\"], [0.3333333333333333, \"#9c179e\"], [0.4444444444444444, \"#bd3786\"], [0.5555555555555556, \"#d8576b\"], [0.6666666666666666, \"#ed7953\"], [0.7777777777777778, \"#fb9f3a\"], [0.8888888888888888, \"#fdca26\"], [1.0, \"#f0f921\"]], \"type\": \"histogram2dcontour\"}], \"mesh3d\": [{\"colorbar\": {\"outlinewidth\": 0, \"ticks\": \"\"}, \"type\": \"mesh3d\"}], \"parcoords\": [{\"line\": {\"colorbar\": {\"outlinewidth\": 0, \"ticks\": \"\"}}, \"type\": \"parcoords\"}], \"pie\": [{\"automargin\": true, \"type\": \"pie\"}], \"scatter\": [{\"marker\": {\"colorbar\": {\"outlinewidth\": 0, \"ticks\": \"\"}}, \"type\": \"scatter\"}], \"scatter3d\": [{\"line\": {\"colorbar\": {\"outlinewidth\": 0, \"ticks\": \"\"}}, \"marker\": {\"colorbar\": {\"outlinewidth\": 0, \"ticks\": \"\"}}, \"type\": \"scatter3d\"}], \"scattercarpet\": [{\"marker\": {\"colorbar\": {\"outlinewidth\": 0, \"ticks\": \"\"}}, \"type\": \"scattercarpet\"}], \"scattergeo\": [{\"marker\": {\"colorbar\": {\"outlinewidth\": 0, \"ticks\": \"\"}}, \"type\": \"scattergeo\"}], \"scattergl\": [{\"marker\": {\"colorbar\": {\"outlinewidth\": 0, \"ticks\": \"\"}}, \"type\": \"scattergl\"}], \"scattermapbox\": [{\"marker\": {\"colorbar\": {\"outlinewidth\": 0, \"ticks\": \"\"}}, \"type\": \"scattermapbox\"}], \"scatterpolar\": [{\"marker\": {\"colorbar\": {\"outlinewidth\": 0, \"ticks\": \"\"}}, \"type\": \"scatterpolar\"}], \"scatterpolargl\": [{\"marker\": {\"colorbar\": {\"outlinewidth\": 0, \"ticks\": \"\"}}, \"type\": \"scatterpolargl\"}], \"scatterternary\": [{\"marker\": {\"colorbar\": {\"outlinewidth\": 0, \"ticks\": \"\"}}, \"type\": \"scatterternary\"}], \"surface\": [{\"colorbar\": {\"outlinewidth\": 0, \"ticks\": \"\"}, \"colorscale\": [[0.0, \"#0d0887\"], [0.1111111111111111, \"#46039f\"], [0.2222222222222222, \"#7201a8\"], [0.3333333333333333, \"#9c179e\"], [0.4444444444444444, \"#bd3786\"], [0.5555555555555556, \"#d8576b\"], [0.6666666666666666, \"#ed7953\"], [0.7777777777777778, \"#fb9f3a\"], [0.8888888888888888, \"#fdca26\"], [1.0, \"#f0f921\"]], \"type\": \"surface\"}], \"table\": [{\"cells\": {\"fill\": {\"color\": \"#EBF0F8\"}, \"line\": {\"color\": \"white\"}}, \"header\": {\"fill\": {\"color\": \"#C8D4E3\"}, \"line\": {\"color\": \"white\"}}, \"type\": \"table\"}]}, \"layout\": {\"annotationdefaults\": {\"arrowcolor\": \"#2a3f5f\", \"arrowhead\": 0, \"arrowwidth\": 1}, \"autotypenumbers\": \"strict\", \"coloraxis\": {\"colorbar\": {\"outlinewidth\": 0, \"ticks\": \"\"}}, \"colorscale\": {\"diverging\": [[0, \"#8e0152\"], [0.1, \"#c51b7d\"], [0.2, \"#de77ae\"], [0.3, \"#f1b6da\"], [0.4, \"#fde0ef\"], [0.5, \"#f7f7f7\"], [0.6, \"#e6f5d0\"], [0.7, \"#b8e186\"], [0.8, \"#7fbc41\"], [0.9, \"#4d9221\"], [1, \"#276419\"]], \"sequential\": [[0.0, \"#0d0887\"], [0.1111111111111111, \"#46039f\"], [0.2222222222222222, \"#7201a8\"], [0.3333333333333333, \"#9c179e\"], [0.4444444444444444, \"#bd3786\"], [0.5555555555555556, \"#d8576b\"], [0.6666666666666666, \"#ed7953\"], [0.7777777777777778, \"#fb9f3a\"], [0.8888888888888888, \"#fdca26\"], [1.0, \"#f0f921\"]], \"sequentialminus\": [[0.0, \"#0d0887\"], [0.1111111111111111, \"#46039f\"], [0.2222222222222222, \"#7201a8\"], [0.3333333333333333, \"#9c179e\"], [0.4444444444444444, \"#bd3786\"], [0.5555555555555556, \"#d8576b\"], [0.6666666666666666, \"#ed7953\"], [0.7777777777777778, \"#fb9f3a\"], [0.8888888888888888, \"#fdca26\"], [1.0, \"#f0f921\"]]}, \"colorway\": [\"#636efa\", \"#EF553B\", \"#00cc96\", \"#ab63fa\", \"#FFA15A\", \"#19d3f3\", \"#FF6692\", \"#B6E880\", \"#FF97FF\", \"#FECB52\"], \"font\": {\"color\": \"#2a3f5f\"}, \"geo\": {\"bgcolor\": \"white\", \"lakecolor\": \"white\", \"landcolor\": \"#E5ECF6\", \"showlakes\": true, \"showland\": true, \"subunitcolor\": \"white\"}, \"hoverlabel\": {\"align\": \"left\"}, \"hovermode\": \"closest\", \"mapbox\": {\"style\": \"light\"}, \"paper_bgcolor\": \"white\", \"plot_bgcolor\": \"#E5ECF6\", \"polar\": {\"angularaxis\": {\"gridcolor\": \"white\", \"linecolor\": \"white\", \"ticks\": \"\"}, \"bgcolor\": \"#E5ECF6\", \"radialaxis\": {\"gridcolor\": \"white\", \"linecolor\": \"white\", \"ticks\": \"\"}}, \"scene\": {\"xaxis\": {\"backgroundcolor\": \"#E5ECF6\", \"gridcolor\": \"white\", \"gridwidth\": 2, \"linecolor\": \"white\", \"showbackground\": true, \"ticks\": \"\", \"zerolinecolor\": \"white\"}, \"yaxis\": {\"backgroundcolor\": \"#E5ECF6\", \"gridcolor\": \"white\", \"gridwidth\": 2, \"linecolor\": \"white\", \"showbackground\": true, \"ticks\": \"\", \"zerolinecolor\": \"white\"}, \"zaxis\": {\"backgroundcolor\": \"#E5ECF6\", \"gridcolor\": \"white\", \"gridwidth\": 2, \"linecolor\": \"white\", \"showbackground\": true, \"ticks\": \"\", \"zerolinecolor\": \"white\"}}, \"shapedefaults\": {\"line\": {\"color\": \"#2a3f5f\"}}, \"ternary\": {\"aaxis\": {\"gridcolor\": \"white\", \"linecolor\": \"white\", \"ticks\": \"\"}, \"baxis\": {\"gridcolor\": \"white\", \"linecolor\": \"white\", \"ticks\": \"\"}, \"bgcolor\": \"#E5ECF6\", \"caxis\": {\"gridcolor\": \"white\", \"linecolor\": \"white\", \"ticks\": \"\"}}, \"title\": {\"x\": 0.05}, \"xaxis\": {\"automargin\": true, \"gridcolor\": \"white\", \"linecolor\": \"white\", \"ticks\": \"\", \"title\": {\"standoff\": 15}, \"zerolinecolor\": \"white\", \"zerolinewidth\": 2}, \"yaxis\": {\"automargin\": true, \"gridcolor\": \"white\", \"linecolor\": \"white\", \"ticks\": \"\", \"title\": {\"standoff\": 15}, \"zerolinecolor\": \"white\", \"zerolinewidth\": 2}}}, \"title\": {\"text\": \"Top 10 mots\"}, \"width\": 600, \"xaxis\": {\"anchor\": \"y\", \"domain\": [0.0, 1.0], \"title\": {\"text\": \"count\"}}, \"yaxis\": {\"anchor\": \"x\", \"domain\": [0.0, 1.0], \"title\": {\"text\": \"prefLabel\"}}},                        {\"responsive\": true}                    ).then(function(){\n",
       "                            \n",
       "var gd = document.getElementById('aee0eec1-a8ed-4e27-ae5d-6946c327cced');\n",
       "var x = new MutationObserver(function (mutations, observer) {{\n",
       "        var display = window.getComputedStyle(gd).display;\n",
       "        if (!display || display === 'none') {{\n",
       "            console.log([gd, 'removed!']);\n",
       "            Plotly.purge(gd);\n",
       "            observer.disconnect();\n",
       "        }}\n",
       "}});\n",
       "\n",
       "// Listen for the removal of the full notebook cells\n",
       "var notebookContainer = gd.closest('#notebook-container');\n",
       "if (notebookContainer) {{\n",
       "    x.observe(notebookContainer, {childList: true});\n",
       "}}\n",
       "\n",
       "// Listen for the clearing of the current output cell\n",
       "var outputEl = gd.closest('.output');\n",
       "if (outputEl) {{\n",
       "    x.observe(outputEl, {childList: true});\n",
       "}}\n",
       "\n",
       "                        })                };                });            </script>        </div>"
      ]
     },
     "metadata": {},
     "output_type": "display_data"
    }
   ],
   "source": [
    "df_sort = alea_baseline_freq[:10].sort_values(by='count')\n",
    "fig = px.bar(df_sort, x='count', y='prefLabel',  orientation='h', text='count',\n",
    "             height=600,\n",
    "             title='Top 10 mots')\n",
    "\n",
    "fig.update_layout(\n",
    "    margin=dict(t=200, r=200, b=200, l=200),\n",
    "    showlegend=False,\n",
    "    font_size=10,\n",
    "    width=600, height=600,\n",
    "    autosize=False)\n",
    "\n",
    "\n",
    "fig.show()"
   ]
  },
  {
   "cell_type": "code",
   "execution_count": null,
   "metadata": {},
   "outputs": [],
   "source": []
  },
  {
   "cell_type": "code",
   "execution_count": null,
   "metadata": {},
   "outputs": [],
   "source": []
  },
  {
   "cell_type": "code",
   "execution_count": null,
   "metadata": {},
   "outputs": [],
   "source": []
  },
  {
   "cell_type": "code",
   "execution_count": null,
   "metadata": {},
   "outputs": [],
   "source": []
  },
  {
   "cell_type": "code",
   "execution_count": null,
   "metadata": {},
   "outputs": [],
   "source": []
  },
  {
   "cell_type": "code",
   "execution_count": null,
   "metadata": {},
   "outputs": [],
   "source": []
  },
  {
   "cell_type": "code",
   "execution_count": null,
   "metadata": {},
   "outputs": [],
   "source": []
  },
  {
   "cell_type": "code",
   "execution_count": null,
   "metadata": {},
   "outputs": [],
   "source": []
  }
 ],
 "metadata": {
  "kernelspec": {
   "display_name": "Python 3",
   "language": "python",
   "name": "python3"
  },
  "language_info": {
   "codemirror_mode": {
    "name": "ipython",
    "version": 3
   },
   "file_extension": ".py",
   "mimetype": "text/x-python",
   "name": "python",
   "nbconvert_exporter": "python",
   "pygments_lexer": "ipython3",
   "version": "3.8.5"
  }
 },
 "nbformat": 4,
 "nbformat_minor": 4
}
