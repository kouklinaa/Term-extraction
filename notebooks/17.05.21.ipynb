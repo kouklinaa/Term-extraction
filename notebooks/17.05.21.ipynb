{
 "cells": [
  {
   "cell_type": "code",
   "execution_count": 28,
   "metadata": {},
   "outputs": [],
   "source": [
    "import os\n",
    "import pandas as pd\n",
    "import numpy as np\n",
    "import re, operator\n",
    "from operator import itemgetter\n",
    "from itertools import islice\n",
    "\n",
    "# stats\n",
    "\n",
    "from scipy import stats\n",
    "from scipy import special\n",
    "from scipy.spatial.distance import cosine\n",
    "from scipy.stats import zipf\n",
    "\n",
    "# dataviz\n",
    "import matplotlib.pyplot as plt\n",
    "import plotly.express as px\n",
    "import plotly.graph_objects as go\n"
   ]
  },
  {
   "cell_type": "markdown",
   "metadata": {},
   "source": [
    "## FCU"
   ]
  },
  {
   "cell_type": "code",
   "execution_count": 2,
   "metadata": {},
   "outputs": [],
   "source": [
    "stop_list = [\"soleil\",\n",
    "             \"jachères\",\n",
    "             \"gel\",\n",
    "             \"marron\",\n",
    "             \"orange\",\n",
    "             \"fruit\",\n",
    "             \"fruits\",\n",
    "             \"semence\",\n",
    "             \"côte\",\n",
    "             \"horticulture\",\n",
    "             \"pépinière\"]"
   ]
  },
  {
   "cell_type": "code",
   "execution_count": 204,
   "metadata": {},
   "outputs": [],
   "source": [
    "def read_fcu(filename, corpus_name, stop_list = stop_list):\n",
    "    \n",
    "    '''\n",
    "    INPUT :\n",
    "    OUTPUT :\n",
    "    '''\n",
    "    \n",
    "    # description du corpus\n",
    "    print(\"Counting bsv..\")\n",
    "    total = 0\n",
    "    for root, dirs, files in os.walk(corpus_name):\n",
    "        total += len(files)\n",
    "    print(\"\\nTotal : {} bsv dans le corpus\".format(total))\n",
    "\n",
    "    \n",
    "    # create df\n",
    "    print(\"\\nCreating a dataframe..\")\n",
    "    df = pd.read_csv(filename, delimiter=\"\\t\", encoding='utf-8')\n",
    "\n",
    "    # filter ambigueous words\n",
    "    print(\"\\nDeleting stopwords..\")\n",
    "    df = df[~df['word'].isin(stop_list)]\n",
    "    \n",
    "    # save dictionary of extracted labels\n",
    "    label_counter = df['prefLabel'].value_counts()\n",
    "    label_dict = label_counter.to_dict()\n",
    "    df_freq = pd.DataFrame.from_dict(label_dict,orient='index', columns=['count'])\n",
    "    #df_freq.reset_index(level='prefLabel')\n",
    "    df_freq = df_freq.reset_index().rename({'index':'prefLabel'}, axis = 'columns')\n",
    "    #df_freq['prefLabel'] = df_freq.index\n",
    "    print(\"\\nPrinting top 10 labels :\\n{}\".format(df_freq[:10]))\n",
    "    \n",
    "    # short descriptions\n",
    "    print(\"\\nPrefLabel :\\n\")\n",
    "    print(df['prefLabel'].describe())\n",
    "    print(\"\\n\\nBSV :\\n\")\n",
    "    print(df['bsv'].describe())\n",
    "    print(\"\\n\\nLength :\\n\")\n",
    "    print(df['length'].describe())\n",
    "\n",
    "    return df, df_freq"
   ]
  },
  {
   "cell_type": "code",
   "execution_count": 205,
   "metadata": {},
   "outputs": [],
   "source": [
    "def show_frequencies(df_freq):\n",
    "    \n",
    "    '''\n",
    "    INPUT :\n",
    "    OUTPUT :\n",
    "    '''\n",
    "    \n",
    "    # show scatter graph\n",
    "    fig = px.scatter(df_freq, x=df_freq['prefLabel'], y=df_freq['count'])\n",
    "    fig.show()\n",
    "    \n",
    "    # show tree graph\n",
    "    fig = px.treemap(df_freq, path=[df_freq.index] , values='count')\n",
    "    fig.show()\n",
    "    \n",
    "    return True"
   ]
  },
  {
   "cell_type": "code",
   "execution_count": 206,
   "metadata": {},
   "outputs": [],
   "source": [
    "def show_differences(df1, df2):\n",
    "    \n",
    "    '''\n",
    "    INPUT :\n",
    "    OUTPUT :\n",
    "    '''\n",
    "    \n",
    "    print(df1['prefLabel'].isin(df2['prefLabel']).value_counts())\n",
    "    print(df1[~df1['prefLabel'].isin(df2['prefLabel'])])\n",
    "    \n",
    "    return True"
   ]
  },
  {
   "cell_type": "markdown",
   "metadata": {},
   "source": [
    "### D2KAB"
   ]
  },
  {
   "cell_type": "code",
   "execution_count": 207,
   "metadata": {},
   "outputs": [
    {
     "name": "stdout",
     "output_type": "stream",
     "text": [
      "Counting bsv..\n",
      "\n",
      "Total : 230 bsv dans le corpus\n",
      "\n",
      "Creating a dataframe..\n",
      "\n",
      "Deleting stopwords..\n",
      "\n",
      "Printing top 10 labels :\n",
      "                 prefLabel  count\n",
      "0                    vigne   1278\n",
      "1                    colza    984\n",
      "2                     chou    595\n",
      "3             chou potager    595\n",
      "4                      blé    591\n",
      "5                  pommier    553\n",
      "6                     maïs    540\n",
      "7                   tomate    467\n",
      "8                  carotte    409\n",
      "9  arboriculture fruitière    401\n",
      "\n",
      "PrefLabel :\n",
      "\n",
      "count     16171\n",
      "unique      196\n",
      "top       vigne\n",
      "freq       1278\n",
      "Name: prefLabel, dtype: object\n",
      "\n",
      "\n",
      "BSV :\n",
      "\n",
      "count                          16171\n",
      "unique                           378\n",
      "top       BSV_legumes_15_cle8b2b14-1\n",
      "freq                             308\n",
      "Name: bsv, dtype: object\n",
      "\n",
      "\n",
      "Length :\n",
      "\n",
      "count    16171.000000\n",
      "mean     25823.952384\n",
      "std      17116.169705\n",
      "min        913.000000\n",
      "25%      13968.000000\n",
      "50%      20822.000000\n",
      "75%      33318.000000\n",
      "max      78254.000000\n",
      "Name: length, dtype: float64\n"
     ]
    }
   ],
   "source": [
    "d2kab_fcu, d2kab_freq = read_fcu(\"../output/d2kab/fcu/fcu_d2kab.csv\", \"../resources/Corpus-v-12-04-21/train/\")"
   ]
  },
  {
   "cell_type": "code",
   "execution_count": 176,
   "metadata": {},
   "outputs": [
    {
     "data": {
      "application/vnd.plotly.v1+json": {
       "config": {
        "plotlyServerURL": "https://plotly.com"
       },
       "data": [
        {
         "hovertemplate": "prefLabel=%{x}<br>count=%{y}<extra></extra>",
         "legendgroup": "",
         "marker": {
          "color": "#636efa",
          "symbol": "circle"
         },
         "mode": "markers",
         "name": "",
         "orientation": "v",
         "showlegend": false,
         "type": "scatter",
         "x": [
          "vigne",
          "colza",
          "chou",
          "chou potager",
          "blé",
          "pommier",
          "maïs",
          "tomate",
          "carotte",
          "arboriculture fruitière",
          "oignon",
          "culture légumière",
          "arbuste à baies",
          "pois",
          "floriculture",
          "poireau",
          "céréale à paille",
          "maraîchage",
          "céréale",
          "lin",
          "céleri",
          "arboriculture",
          "pomme de terre",
          "poirier",
          "salade",
          "betterave",
          "blé tendre",
          "tournesol",
          "aubergine",
          "orge",
          "semence",
          "concombre",
          "zone non agricole",
          "fraisier",
          "oléagineux",
          "courgette",
          "pêcher",
          "cerisier",
          "culture fruitière",
          "laitue",
          "poivron",
          "melon",
          "lin oléagineux",
          "prunier",
          "poirée",
          "blé dur",
          "radis",
          "haricot",
          "légume à graines ou à gousses",
          "abricotier",
          "jardin",
          "persil",
          "soja",
          "orge d'hiver",
          "échalote",
          "pois protéagineux de printemps",
          "navet potager",
          "tabac",
          "oranger",
          "courge",
          "féverole",
          "olivier",
          "rosier ornemental",
          "mâche",
          "asperge",
          "vigne de cuve",
          "chicorée endive",
          "lin oléagineux d'hiver",
          "horticulture ornementale",
          "orge de printemps",
          "épinard",
          "ciboulette",
          "blé tendre d'hiver",
          "arbre fruitier à noyau",
          "triticale",
          "pomme de terre potagère",
          "palmier",
          "noyer",
          "bananier",
          "prairie",
          "chicorée de Bruxelle",
          "framboisier",
          "jardins familiaux",
          "chêne",
          "petit fruit",
          "haricot demi-sec",
          "laitue batavia",
          "ail",
          "gel",
          "châtaignier",
          "luzerne",
          "actinidia",
          "grande culture",
          "artichaut",
          "vigne de table",
          "rosier",
          "pois protéagineux d'hiver",
          "sorgho grain",
          "panais",
          "culture légumière de plein champ",
          "protéagineux",
          "scorsonère",
          "pois chiche",
          "betterave potagère",
          "sorgho",
          "agrume",
          "piment",
          "laurier",
          "olivier fruit à noyaux",
          "Chou cabus blanc",
          "fève",
          "céleri-rave",
          "orge à six rangs",
          "amandier",
          "chicorée scarole",
          "chicorée",
          "chou pommé",
          "chou brocoli",
          "cresson",
          "lin oléagineux de printemps",
          "chou-fleur",
          "cardon",
          "féverole d'hiver",
          "cassissier",
          "citronnier",
          "haricot vert",
          "manguier",
          "géranium",
          "maïs doux",
          "laitue à couper",
          "ricin",
          "féverole de printemps",
          "moutarde",
          "maïs grain",
          "fourrage annuel",
          "chou chinois",
          "avoine",
          "figuier",
          "bananier plantain",
          "riz",
          "goyavier",
          "cerfeuil",
          "ray-grass",
          "pois protéagineux",
          "ananas",
          "bananier musa",
          "arboriculture fruitière tropicale",
          "chou de Milan",
          "chou cabus rouge",
          "noisetier",
          "roquette",
          "potiron",
          "poinsettia",
          "potimarron",
          "chrysanthème",
          "pastèque",
          "chou-navet à chair jaune",
          "phacélie",
          "fenouil",
          "basilic",
          "oseille",
          "maïs fourrage",
          "houblon",
          "céréale fourragère",
          "pissenlit",
          "culture fourragère",
          "seigle",
          "surface toujours en herbe",
          "engrais vert",
          "légume racine",
          "trèfle",
          "chou de Bruxelles",
          "groseillier",
          "myrtille",
          "chanvre",
          "colza d'hiver",
          "culture industrielle",
          "ciboule",
          "sorgho fourrager",
          "courge butternut",
          "blé dur d'hiver",
          "gesse",
          "céleri à cotes",
          "chou frisé",
          "laitue beurre pommée",
          "miscanthus",
          "betterave sucrière",
          "abricotier pays",
          "clémentinier",
          "vesce fourrager",
          "cognassier",
          "prairie temporaire",
          "millet",
          "lentille potagère",
          "échalion",
          "colza de printemps"
         ],
         "xaxis": "x",
         "y": [
          1278,
          984,
          595,
          595,
          591,
          553,
          540,
          467,
          409,
          401,
          374,
          371,
          325,
          322,
          306,
          304,
          304,
          275,
          263,
          247,
          237,
          230,
          228,
          202,
          201,
          197,
          190,
          181,
          181,
          177,
          157,
          147,
          139,
          126,
          115,
          114,
          112,
          109,
          109,
          109,
          106,
          98,
          96,
          96,
          91,
          77,
          76,
          74,
          71,
          69,
          65,
          63,
          58,
          56,
          54,
          54,
          53,
          52,
          50,
          49,
          48,
          48,
          47,
          45,
          44,
          44,
          43,
          43,
          42,
          41,
          41,
          40,
          39,
          38,
          38,
          37,
          35,
          35,
          34,
          33,
          31,
          30,
          30,
          29,
          28,
          27,
          27,
          27,
          27,
          27,
          26,
          26,
          23,
          23,
          22,
          22,
          22,
          21,
          21,
          21,
          20,
          20,
          20,
          19,
          19,
          18,
          17,
          17,
          16,
          15,
          14,
          14,
          13,
          13,
          12,
          12,
          12,
          11,
          11,
          11,
          11,
          10,
          10,
          10,
          10,
          10,
          10,
          10,
          10,
          9,
          9,
          9,
          8,
          8,
          7,
          7,
          7,
          7,
          7,
          7,
          6,
          6,
          6,
          6,
          6,
          6,
          6,
          6,
          5,
          5,
          5,
          5,
          5,
          5,
          5,
          5,
          5,
          5,
          5,
          4,
          4,
          4,
          4,
          4,
          4,
          4,
          4,
          4,
          3,
          3,
          3,
          3,
          3,
          3,
          3,
          3,
          3,
          3,
          2,
          2,
          2,
          2,
          2,
          2,
          1,
          1,
          1,
          1,
          1,
          1,
          1,
          1,
          1,
          1,
          1,
          1
         ],
         "yaxis": "y"
        }
       ],
       "layout": {
        "legend": {
         "tracegroupgap": 0
        },
        "margin": {
         "t": 60
        },
        "template": {
         "data": {
          "bar": [
           {
            "error_x": {
             "color": "#2a3f5f"
            },
            "error_y": {
             "color": "#2a3f5f"
            },
            "marker": {
             "line": {
              "color": "#E5ECF6",
              "width": 0.5
             }
            },
            "type": "bar"
           }
          ],
          "barpolar": [
           {
            "marker": {
             "line": {
              "color": "#E5ECF6",
              "width": 0.5
             }
            },
            "type": "barpolar"
           }
          ],
          "carpet": [
           {
            "aaxis": {
             "endlinecolor": "#2a3f5f",
             "gridcolor": "white",
             "linecolor": "white",
             "minorgridcolor": "white",
             "startlinecolor": "#2a3f5f"
            },
            "baxis": {
             "endlinecolor": "#2a3f5f",
             "gridcolor": "white",
             "linecolor": "white",
             "minorgridcolor": "white",
             "startlinecolor": "#2a3f5f"
            },
            "type": "carpet"
           }
          ],
          "choropleth": [
           {
            "colorbar": {
             "outlinewidth": 0,
             "ticks": ""
            },
            "type": "choropleth"
           }
          ],
          "contour": [
           {
            "colorbar": {
             "outlinewidth": 0,
             "ticks": ""
            },
            "colorscale": [
             [
              0,
              "#0d0887"
             ],
             [
              0.1111111111111111,
              "#46039f"
             ],
             [
              0.2222222222222222,
              "#7201a8"
             ],
             [
              0.3333333333333333,
              "#9c179e"
             ],
             [
              0.4444444444444444,
              "#bd3786"
             ],
             [
              0.5555555555555556,
              "#d8576b"
             ],
             [
              0.6666666666666666,
              "#ed7953"
             ],
             [
              0.7777777777777778,
              "#fb9f3a"
             ],
             [
              0.8888888888888888,
              "#fdca26"
             ],
             [
              1,
              "#f0f921"
             ]
            ],
            "type": "contour"
           }
          ],
          "contourcarpet": [
           {
            "colorbar": {
             "outlinewidth": 0,
             "ticks": ""
            },
            "type": "contourcarpet"
           }
          ],
          "heatmap": [
           {
            "colorbar": {
             "outlinewidth": 0,
             "ticks": ""
            },
            "colorscale": [
             [
              0,
              "#0d0887"
             ],
             [
              0.1111111111111111,
              "#46039f"
             ],
             [
              0.2222222222222222,
              "#7201a8"
             ],
             [
              0.3333333333333333,
              "#9c179e"
             ],
             [
              0.4444444444444444,
              "#bd3786"
             ],
             [
              0.5555555555555556,
              "#d8576b"
             ],
             [
              0.6666666666666666,
              "#ed7953"
             ],
             [
              0.7777777777777778,
              "#fb9f3a"
             ],
             [
              0.8888888888888888,
              "#fdca26"
             ],
             [
              1,
              "#f0f921"
             ]
            ],
            "type": "heatmap"
           }
          ],
          "heatmapgl": [
           {
            "colorbar": {
             "outlinewidth": 0,
             "ticks": ""
            },
            "colorscale": [
             [
              0,
              "#0d0887"
             ],
             [
              0.1111111111111111,
              "#46039f"
             ],
             [
              0.2222222222222222,
              "#7201a8"
             ],
             [
              0.3333333333333333,
              "#9c179e"
             ],
             [
              0.4444444444444444,
              "#bd3786"
             ],
             [
              0.5555555555555556,
              "#d8576b"
             ],
             [
              0.6666666666666666,
              "#ed7953"
             ],
             [
              0.7777777777777778,
              "#fb9f3a"
             ],
             [
              0.8888888888888888,
              "#fdca26"
             ],
             [
              1,
              "#f0f921"
             ]
            ],
            "type": "heatmapgl"
           }
          ],
          "histogram": [
           {
            "marker": {
             "colorbar": {
              "outlinewidth": 0,
              "ticks": ""
             }
            },
            "type": "histogram"
           }
          ],
          "histogram2d": [
           {
            "colorbar": {
             "outlinewidth": 0,
             "ticks": ""
            },
            "colorscale": [
             [
              0,
              "#0d0887"
             ],
             [
              0.1111111111111111,
              "#46039f"
             ],
             [
              0.2222222222222222,
              "#7201a8"
             ],
             [
              0.3333333333333333,
              "#9c179e"
             ],
             [
              0.4444444444444444,
              "#bd3786"
             ],
             [
              0.5555555555555556,
              "#d8576b"
             ],
             [
              0.6666666666666666,
              "#ed7953"
             ],
             [
              0.7777777777777778,
              "#fb9f3a"
             ],
             [
              0.8888888888888888,
              "#fdca26"
             ],
             [
              1,
              "#f0f921"
             ]
            ],
            "type": "histogram2d"
           }
          ],
          "histogram2dcontour": [
           {
            "colorbar": {
             "outlinewidth": 0,
             "ticks": ""
            },
            "colorscale": [
             [
              0,
              "#0d0887"
             ],
             [
              0.1111111111111111,
              "#46039f"
             ],
             [
              0.2222222222222222,
              "#7201a8"
             ],
             [
              0.3333333333333333,
              "#9c179e"
             ],
             [
              0.4444444444444444,
              "#bd3786"
             ],
             [
              0.5555555555555556,
              "#d8576b"
             ],
             [
              0.6666666666666666,
              "#ed7953"
             ],
             [
              0.7777777777777778,
              "#fb9f3a"
             ],
             [
              0.8888888888888888,
              "#fdca26"
             ],
             [
              1,
              "#f0f921"
             ]
            ],
            "type": "histogram2dcontour"
           }
          ],
          "mesh3d": [
           {
            "colorbar": {
             "outlinewidth": 0,
             "ticks": ""
            },
            "type": "mesh3d"
           }
          ],
          "parcoords": [
           {
            "line": {
             "colorbar": {
              "outlinewidth": 0,
              "ticks": ""
             }
            },
            "type": "parcoords"
           }
          ],
          "pie": [
           {
            "automargin": true,
            "type": "pie"
           }
          ],
          "scatter": [
           {
            "marker": {
             "colorbar": {
              "outlinewidth": 0,
              "ticks": ""
             }
            },
            "type": "scatter"
           }
          ],
          "scatter3d": [
           {
            "line": {
             "colorbar": {
              "outlinewidth": 0,
              "ticks": ""
             }
            },
            "marker": {
             "colorbar": {
              "outlinewidth": 0,
              "ticks": ""
             }
            },
            "type": "scatter3d"
           }
          ],
          "scattercarpet": [
           {
            "marker": {
             "colorbar": {
              "outlinewidth": 0,
              "ticks": ""
             }
            },
            "type": "scattercarpet"
           }
          ],
          "scattergeo": [
           {
            "marker": {
             "colorbar": {
              "outlinewidth": 0,
              "ticks": ""
             }
            },
            "type": "scattergeo"
           }
          ],
          "scattergl": [
           {
            "marker": {
             "colorbar": {
              "outlinewidth": 0,
              "ticks": ""
             }
            },
            "type": "scattergl"
           }
          ],
          "scattermapbox": [
           {
            "marker": {
             "colorbar": {
              "outlinewidth": 0,
              "ticks": ""
             }
            },
            "type": "scattermapbox"
           }
          ],
          "scatterpolar": [
           {
            "marker": {
             "colorbar": {
              "outlinewidth": 0,
              "ticks": ""
             }
            },
            "type": "scatterpolar"
           }
          ],
          "scatterpolargl": [
           {
            "marker": {
             "colorbar": {
              "outlinewidth": 0,
              "ticks": ""
             }
            },
            "type": "scatterpolargl"
           }
          ],
          "scatterternary": [
           {
            "marker": {
             "colorbar": {
              "outlinewidth": 0,
              "ticks": ""
             }
            },
            "type": "scatterternary"
           }
          ],
          "surface": [
           {
            "colorbar": {
             "outlinewidth": 0,
             "ticks": ""
            },
            "colorscale": [
             [
              0,
              "#0d0887"
             ],
             [
              0.1111111111111111,
              "#46039f"
             ],
             [
              0.2222222222222222,
              "#7201a8"
             ],
             [
              0.3333333333333333,
              "#9c179e"
             ],
             [
              0.4444444444444444,
              "#bd3786"
             ],
             [
              0.5555555555555556,
              "#d8576b"
             ],
             [
              0.6666666666666666,
              "#ed7953"
             ],
             [
              0.7777777777777778,
              "#fb9f3a"
             ],
             [
              0.8888888888888888,
              "#fdca26"
             ],
             [
              1,
              "#f0f921"
             ]
            ],
            "type": "surface"
           }
          ],
          "table": [
           {
            "cells": {
             "fill": {
              "color": "#EBF0F8"
             },
             "line": {
              "color": "white"
             }
            },
            "header": {
             "fill": {
              "color": "#C8D4E3"
             },
             "line": {
              "color": "white"
             }
            },
            "type": "table"
           }
          ]
         },
         "layout": {
          "annotationdefaults": {
           "arrowcolor": "#2a3f5f",
           "arrowhead": 0,
           "arrowwidth": 1
          },
          "autotypenumbers": "strict",
          "coloraxis": {
           "colorbar": {
            "outlinewidth": 0,
            "ticks": ""
           }
          },
          "colorscale": {
           "diverging": [
            [
             0,
             "#8e0152"
            ],
            [
             0.1,
             "#c51b7d"
            ],
            [
             0.2,
             "#de77ae"
            ],
            [
             0.3,
             "#f1b6da"
            ],
            [
             0.4,
             "#fde0ef"
            ],
            [
             0.5,
             "#f7f7f7"
            ],
            [
             0.6,
             "#e6f5d0"
            ],
            [
             0.7,
             "#b8e186"
            ],
            [
             0.8,
             "#7fbc41"
            ],
            [
             0.9,
             "#4d9221"
            ],
            [
             1,
             "#276419"
            ]
           ],
           "sequential": [
            [
             0,
             "#0d0887"
            ],
            [
             0.1111111111111111,
             "#46039f"
            ],
            [
             0.2222222222222222,
             "#7201a8"
            ],
            [
             0.3333333333333333,
             "#9c179e"
            ],
            [
             0.4444444444444444,
             "#bd3786"
            ],
            [
             0.5555555555555556,
             "#d8576b"
            ],
            [
             0.6666666666666666,
             "#ed7953"
            ],
            [
             0.7777777777777778,
             "#fb9f3a"
            ],
            [
             0.8888888888888888,
             "#fdca26"
            ],
            [
             1,
             "#f0f921"
            ]
           ],
           "sequentialminus": [
            [
             0,
             "#0d0887"
            ],
            [
             0.1111111111111111,
             "#46039f"
            ],
            [
             0.2222222222222222,
             "#7201a8"
            ],
            [
             0.3333333333333333,
             "#9c179e"
            ],
            [
             0.4444444444444444,
             "#bd3786"
            ],
            [
             0.5555555555555556,
             "#d8576b"
            ],
            [
             0.6666666666666666,
             "#ed7953"
            ],
            [
             0.7777777777777778,
             "#fb9f3a"
            ],
            [
             0.8888888888888888,
             "#fdca26"
            ],
            [
             1,
             "#f0f921"
            ]
           ]
          },
          "colorway": [
           "#636efa",
           "#EF553B",
           "#00cc96",
           "#ab63fa",
           "#FFA15A",
           "#19d3f3",
           "#FF6692",
           "#B6E880",
           "#FF97FF",
           "#FECB52"
          ],
          "font": {
           "color": "#2a3f5f"
          },
          "geo": {
           "bgcolor": "white",
           "lakecolor": "white",
           "landcolor": "#E5ECF6",
           "showlakes": true,
           "showland": true,
           "subunitcolor": "white"
          },
          "hoverlabel": {
           "align": "left"
          },
          "hovermode": "closest",
          "mapbox": {
           "style": "light"
          },
          "paper_bgcolor": "white",
          "plot_bgcolor": "#E5ECF6",
          "polar": {
           "angularaxis": {
            "gridcolor": "white",
            "linecolor": "white",
            "ticks": ""
           },
           "bgcolor": "#E5ECF6",
           "radialaxis": {
            "gridcolor": "white",
            "linecolor": "white",
            "ticks": ""
           }
          },
          "scene": {
           "xaxis": {
            "backgroundcolor": "#E5ECF6",
            "gridcolor": "white",
            "gridwidth": 2,
            "linecolor": "white",
            "showbackground": true,
            "ticks": "",
            "zerolinecolor": "white"
           },
           "yaxis": {
            "backgroundcolor": "#E5ECF6",
            "gridcolor": "white",
            "gridwidth": 2,
            "linecolor": "white",
            "showbackground": true,
            "ticks": "",
            "zerolinecolor": "white"
           },
           "zaxis": {
            "backgroundcolor": "#E5ECF6",
            "gridcolor": "white",
            "gridwidth": 2,
            "linecolor": "white",
            "showbackground": true,
            "ticks": "",
            "zerolinecolor": "white"
           }
          },
          "shapedefaults": {
           "line": {
            "color": "#2a3f5f"
           }
          },
          "ternary": {
           "aaxis": {
            "gridcolor": "white",
            "linecolor": "white",
            "ticks": ""
           },
           "baxis": {
            "gridcolor": "white",
            "linecolor": "white",
            "ticks": ""
           },
           "bgcolor": "#E5ECF6",
           "caxis": {
            "gridcolor": "white",
            "linecolor": "white",
            "ticks": ""
           }
          },
          "title": {
           "x": 0.05
          },
          "xaxis": {
           "automargin": true,
           "gridcolor": "white",
           "linecolor": "white",
           "ticks": "",
           "title": {
            "standoff": 15
           },
           "zerolinecolor": "white",
           "zerolinewidth": 2
          },
          "yaxis": {
           "automargin": true,
           "gridcolor": "white",
           "linecolor": "white",
           "ticks": "",
           "title": {
            "standoff": 15
           },
           "zerolinecolor": "white",
           "zerolinewidth": 2
          }
         }
        },
        "xaxis": {
         "anchor": "y",
         "domain": [
          0,
          1
         ],
         "title": {
          "text": "prefLabel"
         }
        },
        "yaxis": {
         "anchor": "x",
         "domain": [
          0,
          1
         ],
         "title": {
          "text": "count"
         }
        }
       }
      },
      "text/html": [
       "<div>                            <div id=\"cf65db37-7cd3-474f-ac60-10ab7f77d0dc\" class=\"plotly-graph-div\" style=\"height:525px; width:100%;\"></div>            <script type=\"text/javascript\">                require([\"plotly\"], function(Plotly) {                    window.PLOTLYENV=window.PLOTLYENV || {};                                    if (document.getElementById(\"cf65db37-7cd3-474f-ac60-10ab7f77d0dc\")) {                    Plotly.newPlot(                        \"cf65db37-7cd3-474f-ac60-10ab7f77d0dc\",                        [{\"hovertemplate\": \"prefLabel=%{x}<br>count=%{y}<extra></extra>\", \"legendgroup\": \"\", \"marker\": {\"color\": \"#636efa\", \"symbol\": \"circle\"}, \"mode\": \"markers\", \"name\": \"\", \"orientation\": \"v\", \"showlegend\": false, \"type\": \"scatter\", \"x\": [\"vigne\", \"colza\", \"chou\", \"chou potager\", \"bl\\u00e9\", \"pommier\", \"ma\\u00efs\", \"tomate\", \"carotte\", \"arboriculture fruiti\\u00e8re\", \"oignon\", \"culture l\\u00e9gumi\\u00e8re\", \"arbuste \\u00e0 baies\", \"pois\", \"floriculture\", \"poireau\", \"c\\u00e9r\\u00e9ale \\u00e0 paille\", \"mara\\u00eechage\", \"c\\u00e9r\\u00e9ale\", \"lin\", \"c\\u00e9leri\", \"arboriculture\", \"pomme de terre\", \"poirier\", \"salade\", \"betterave\", \"bl\\u00e9 tendre\", \"tournesol\", \"aubergine\", \"orge\", \"semence\", \"concombre\", \"zone non agricole\", \"fraisier\", \"ol\\u00e9agineux\", \"courgette\", \"p\\u00eacher\", \"cerisier\", \"culture fruiti\\u00e8re\", \"laitue\", \"poivron\", \"melon\", \"lin ol\\u00e9agineux\", \"prunier\", \"poir\\u00e9e\", \"bl\\u00e9 dur\", \"radis\", \"haricot\", \"l\\u00e9gume \\u00e0 graines ou \\u00e0 gousses\", \"abricotier\", \"jardin\", \"persil\", \"soja\", \"orge d'hiver\", \"\\u00e9chalote\", \"pois prot\\u00e9agineux de printemps\", \"navet potager\", \"tabac\", \"oranger\", \"courge\", \"f\\u00e9verole\", \"olivier\", \"rosier ornemental\", \"m\\u00e2che\", \"asperge\", \"vigne de cuve\", \"chicor\\u00e9e endive\", \"lin ol\\u00e9agineux d'hiver\", \"horticulture ornementale\", \"orge de printemps\", \"\\u00e9pinard\", \"ciboulette\", \"bl\\u00e9 tendre d'hiver\", \"arbre fruitier \\u00e0 noyau\", \"triticale\", \"pomme de terre potag\\u00e8re\", \"palmier\", \"noyer\", \"bananier\", \"prairie\", \"chicor\\u00e9e de Bruxelle\", \"framboisier\", \"jardins familiaux\", \"ch\\u00eane\", \"petit fruit\", \"haricot demi-sec\", \"laitue batavia\", \"ail\", \"gel\", \"ch\\u00e2taignier\", \"luzerne\", \"actinidia\", \"grande culture\", \"artichaut\", \"vigne de table\", \"rosier\", \"pois prot\\u00e9agineux d'hiver\", \"sorgho grain\", \"panais\", \"culture l\\u00e9gumi\\u00e8re de plein champ\", \"prot\\u00e9agineux\", \"scorson\\u00e8re\", \"pois chiche\", \"betterave potag\\u00e8re\", \"sorgho\", \"agrume\", \"piment\", \"laurier\", \"olivier fruit \\u00e0 noyaux\", \"Chou cabus blanc\", \"f\\u00e8ve\", \"c\\u00e9leri-rave\", \"orge \\u00e0 six rangs\", \"amandier\", \"chicor\\u00e9e scarole\", \"chicor\\u00e9e\", \"chou pomm\\u00e9\", \"chou brocoli\", \"cresson\", \"lin ol\\u00e9agineux de printemps\", \"chou-fleur\", \"cardon\", \"f\\u00e9verole d'hiver\", \"cassissier\", \"citronnier\", \"haricot vert\", \"manguier\", \"g\\u00e9ranium\", \"ma\\u00efs doux\", \"laitue \\u00e0 couper\", \"ricin\", \"f\\u00e9verole de printemps\", \"moutarde\", \"ma\\u00efs grain\", \"fourrage annuel\", \"chou chinois\", \"avoine\", \"figuier\", \"bananier plantain\", \"riz\", \"goyavier\", \"cerfeuil\", \"ray-grass\", \"pois prot\\u00e9agineux\", \"ananas\", \"bananier musa\", \"arboriculture fruiti\\u00e8re tropicale\", \"chou de Milan\", \"chou cabus rouge\", \"noisetier\", \"roquette\", \"potiron\", \"poinsettia\", \"potimarron\", \"chrysanth\\u00e8me\", \"past\\u00e8que\", \"chou-navet \\u00e0 chair jaune\", \"phac\\u00e9lie\", \"fenouil\", \"basilic\", \"oseille\", \"ma\\u00efs fourrage\", \"houblon\", \"c\\u00e9r\\u00e9ale fourrag\\u00e8re\", \"pissenlit\", \"culture fourrag\\u00e8re\", \"seigle\", \"surface toujours en herbe\", \"engrais vert\", \"l\\u00e9gume racine\", \"tr\\u00e8fle\", \"chou de Bruxelles\", \"groseillier\", \"myrtille\", \"chanvre\", \"colza d'hiver\", \"culture industrielle\", \"ciboule\", \"sorgho fourrager\", \"courge butternut\", \"bl\\u00e9 dur d'hiver\", \"gesse\", \"c\\u00e9leri \\u00e0 cotes\", \"chou fris\\u00e9\", \"laitue beurre pomm\\u00e9e\", \"miscanthus\", \"betterave sucri\\u00e8re\", \"abricotier pays\", \"cl\\u00e9mentinier\", \"vesce fourrager\", \"cognassier\", \"prairie temporaire\", \"millet\", \"lentille potag\\u00e8re\", \"\\u00e9chalion\", \"colza de printemps\"], \"xaxis\": \"x\", \"y\": [1278, 984, 595, 595, 591, 553, 540, 467, 409, 401, 374, 371, 325, 322, 306, 304, 304, 275, 263, 247, 237, 230, 228, 202, 201, 197, 190, 181, 181, 177, 157, 147, 139, 126, 115, 114, 112, 109, 109, 109, 106, 98, 96, 96, 91, 77, 76, 74, 71, 69, 65, 63, 58, 56, 54, 54, 53, 52, 50, 49, 48, 48, 47, 45, 44, 44, 43, 43, 42, 41, 41, 40, 39, 38, 38, 37, 35, 35, 34, 33, 31, 30, 30, 29, 28, 27, 27, 27, 27, 27, 26, 26, 23, 23, 22, 22, 22, 21, 21, 21, 20, 20, 20, 19, 19, 18, 17, 17, 16, 15, 14, 14, 13, 13, 12, 12, 12, 11, 11, 11, 11, 10, 10, 10, 10, 10, 10, 10, 10, 9, 9, 9, 8, 8, 7, 7, 7, 7, 7, 7, 6, 6, 6, 6, 6, 6, 6, 6, 5, 5, 5, 5, 5, 5, 5, 5, 5, 5, 5, 4, 4, 4, 4, 4, 4, 4, 4, 4, 3, 3, 3, 3, 3, 3, 3, 3, 3, 3, 2, 2, 2, 2, 2, 2, 1, 1, 1, 1, 1, 1, 1, 1, 1, 1, 1, 1], \"yaxis\": \"y\"}],                        {\"legend\": {\"tracegroupgap\": 0}, \"margin\": {\"t\": 60}, \"template\": {\"data\": {\"bar\": [{\"error_x\": {\"color\": \"#2a3f5f\"}, \"error_y\": {\"color\": \"#2a3f5f\"}, \"marker\": {\"line\": {\"color\": \"#E5ECF6\", \"width\": 0.5}}, \"type\": \"bar\"}], \"barpolar\": [{\"marker\": {\"line\": {\"color\": \"#E5ECF6\", \"width\": 0.5}}, \"type\": \"barpolar\"}], \"carpet\": [{\"aaxis\": {\"endlinecolor\": \"#2a3f5f\", \"gridcolor\": \"white\", \"linecolor\": \"white\", \"minorgridcolor\": \"white\", \"startlinecolor\": \"#2a3f5f\"}, \"baxis\": {\"endlinecolor\": \"#2a3f5f\", \"gridcolor\": \"white\", \"linecolor\": \"white\", \"minorgridcolor\": \"white\", \"startlinecolor\": \"#2a3f5f\"}, \"type\": \"carpet\"}], \"choropleth\": [{\"colorbar\": {\"outlinewidth\": 0, \"ticks\": \"\"}, \"type\": \"choropleth\"}], \"contour\": [{\"colorbar\": {\"outlinewidth\": 0, \"ticks\": \"\"}, \"colorscale\": [[0.0, \"#0d0887\"], [0.1111111111111111, \"#46039f\"], [0.2222222222222222, \"#7201a8\"], [0.3333333333333333, \"#9c179e\"], [0.4444444444444444, \"#bd3786\"], [0.5555555555555556, \"#d8576b\"], [0.6666666666666666, \"#ed7953\"], [0.7777777777777778, \"#fb9f3a\"], [0.8888888888888888, \"#fdca26\"], [1.0, \"#f0f921\"]], \"type\": \"contour\"}], \"contourcarpet\": [{\"colorbar\": {\"outlinewidth\": 0, \"ticks\": \"\"}, \"type\": \"contourcarpet\"}], \"heatmap\": [{\"colorbar\": {\"outlinewidth\": 0, \"ticks\": \"\"}, \"colorscale\": [[0.0, \"#0d0887\"], [0.1111111111111111, \"#46039f\"], [0.2222222222222222, \"#7201a8\"], [0.3333333333333333, \"#9c179e\"], [0.4444444444444444, \"#bd3786\"], [0.5555555555555556, \"#d8576b\"], [0.6666666666666666, \"#ed7953\"], [0.7777777777777778, \"#fb9f3a\"], [0.8888888888888888, \"#fdca26\"], [1.0, \"#f0f921\"]], \"type\": \"heatmap\"}], \"heatmapgl\": [{\"colorbar\": {\"outlinewidth\": 0, \"ticks\": \"\"}, \"colorscale\": [[0.0, \"#0d0887\"], [0.1111111111111111, \"#46039f\"], [0.2222222222222222, \"#7201a8\"], [0.3333333333333333, \"#9c179e\"], [0.4444444444444444, \"#bd3786\"], [0.5555555555555556, \"#d8576b\"], [0.6666666666666666, \"#ed7953\"], [0.7777777777777778, \"#fb9f3a\"], [0.8888888888888888, \"#fdca26\"], [1.0, \"#f0f921\"]], \"type\": \"heatmapgl\"}], \"histogram\": [{\"marker\": {\"colorbar\": {\"outlinewidth\": 0, \"ticks\": \"\"}}, \"type\": \"histogram\"}], \"histogram2d\": [{\"colorbar\": {\"outlinewidth\": 0, \"ticks\": \"\"}, \"colorscale\": [[0.0, \"#0d0887\"], [0.1111111111111111, \"#46039f\"], [0.2222222222222222, \"#7201a8\"], [0.3333333333333333, \"#9c179e\"], [0.4444444444444444, \"#bd3786\"], [0.5555555555555556, \"#d8576b\"], [0.6666666666666666, \"#ed7953\"], [0.7777777777777778, \"#fb9f3a\"], [0.8888888888888888, \"#fdca26\"], [1.0, \"#f0f921\"]], \"type\": \"histogram2d\"}], \"histogram2dcontour\": [{\"colorbar\": {\"outlinewidth\": 0, \"ticks\": \"\"}, \"colorscale\": [[0.0, \"#0d0887\"], [0.1111111111111111, \"#46039f\"], [0.2222222222222222, \"#7201a8\"], [0.3333333333333333, \"#9c179e\"], [0.4444444444444444, \"#bd3786\"], [0.5555555555555556, \"#d8576b\"], [0.6666666666666666, \"#ed7953\"], [0.7777777777777778, \"#fb9f3a\"], [0.8888888888888888, \"#fdca26\"], [1.0, \"#f0f921\"]], \"type\": \"histogram2dcontour\"}], \"mesh3d\": [{\"colorbar\": {\"outlinewidth\": 0, \"ticks\": \"\"}, \"type\": \"mesh3d\"}], \"parcoords\": [{\"line\": {\"colorbar\": {\"outlinewidth\": 0, \"ticks\": \"\"}}, \"type\": \"parcoords\"}], \"pie\": [{\"automargin\": true, \"type\": \"pie\"}], \"scatter\": [{\"marker\": {\"colorbar\": {\"outlinewidth\": 0, \"ticks\": \"\"}}, \"type\": \"scatter\"}], \"scatter3d\": [{\"line\": {\"colorbar\": {\"outlinewidth\": 0, \"ticks\": \"\"}}, \"marker\": {\"colorbar\": {\"outlinewidth\": 0, \"ticks\": \"\"}}, \"type\": \"scatter3d\"}], \"scattercarpet\": [{\"marker\": {\"colorbar\": {\"outlinewidth\": 0, \"ticks\": \"\"}}, \"type\": \"scattercarpet\"}], \"scattergeo\": [{\"marker\": {\"colorbar\": {\"outlinewidth\": 0, \"ticks\": \"\"}}, \"type\": \"scattergeo\"}], \"scattergl\": [{\"marker\": {\"colorbar\": {\"outlinewidth\": 0, \"ticks\": \"\"}}, \"type\": \"scattergl\"}], \"scattermapbox\": [{\"marker\": {\"colorbar\": {\"outlinewidth\": 0, \"ticks\": \"\"}}, \"type\": \"scattermapbox\"}], \"scatterpolar\": [{\"marker\": {\"colorbar\": {\"outlinewidth\": 0, \"ticks\": \"\"}}, \"type\": \"scatterpolar\"}], \"scatterpolargl\": [{\"marker\": {\"colorbar\": {\"outlinewidth\": 0, \"ticks\": \"\"}}, \"type\": \"scatterpolargl\"}], \"scatterternary\": [{\"marker\": {\"colorbar\": {\"outlinewidth\": 0, \"ticks\": \"\"}}, \"type\": \"scatterternary\"}], \"surface\": [{\"colorbar\": {\"outlinewidth\": 0, \"ticks\": \"\"}, \"colorscale\": [[0.0, \"#0d0887\"], [0.1111111111111111, \"#46039f\"], [0.2222222222222222, \"#7201a8\"], [0.3333333333333333, \"#9c179e\"], [0.4444444444444444, \"#bd3786\"], [0.5555555555555556, \"#d8576b\"], [0.6666666666666666, \"#ed7953\"], [0.7777777777777778, \"#fb9f3a\"], [0.8888888888888888, \"#fdca26\"], [1.0, \"#f0f921\"]], \"type\": \"surface\"}], \"table\": [{\"cells\": {\"fill\": {\"color\": \"#EBF0F8\"}, \"line\": {\"color\": \"white\"}}, \"header\": {\"fill\": {\"color\": \"#C8D4E3\"}, \"line\": {\"color\": \"white\"}}, \"type\": \"table\"}]}, \"layout\": {\"annotationdefaults\": {\"arrowcolor\": \"#2a3f5f\", \"arrowhead\": 0, \"arrowwidth\": 1}, \"autotypenumbers\": \"strict\", \"coloraxis\": {\"colorbar\": {\"outlinewidth\": 0, \"ticks\": \"\"}}, \"colorscale\": {\"diverging\": [[0, \"#8e0152\"], [0.1, \"#c51b7d\"], [0.2, \"#de77ae\"], [0.3, \"#f1b6da\"], [0.4, \"#fde0ef\"], [0.5, \"#f7f7f7\"], [0.6, \"#e6f5d0\"], [0.7, \"#b8e186\"], [0.8, \"#7fbc41\"], [0.9, \"#4d9221\"], [1, \"#276419\"]], \"sequential\": [[0.0, \"#0d0887\"], [0.1111111111111111, \"#46039f\"], [0.2222222222222222, \"#7201a8\"], [0.3333333333333333, \"#9c179e\"], [0.4444444444444444, \"#bd3786\"], [0.5555555555555556, \"#d8576b\"], [0.6666666666666666, \"#ed7953\"], [0.7777777777777778, \"#fb9f3a\"], [0.8888888888888888, \"#fdca26\"], [1.0, \"#f0f921\"]], \"sequentialminus\": [[0.0, \"#0d0887\"], [0.1111111111111111, \"#46039f\"], [0.2222222222222222, \"#7201a8\"], [0.3333333333333333, \"#9c179e\"], [0.4444444444444444, \"#bd3786\"], [0.5555555555555556, \"#d8576b\"], [0.6666666666666666, \"#ed7953\"], [0.7777777777777778, \"#fb9f3a\"], [0.8888888888888888, \"#fdca26\"], [1.0, \"#f0f921\"]]}, \"colorway\": [\"#636efa\", \"#EF553B\", \"#00cc96\", \"#ab63fa\", \"#FFA15A\", \"#19d3f3\", \"#FF6692\", \"#B6E880\", \"#FF97FF\", \"#FECB52\"], \"font\": {\"color\": \"#2a3f5f\"}, \"geo\": {\"bgcolor\": \"white\", \"lakecolor\": \"white\", \"landcolor\": \"#E5ECF6\", \"showlakes\": true, \"showland\": true, \"subunitcolor\": \"white\"}, \"hoverlabel\": {\"align\": \"left\"}, \"hovermode\": \"closest\", \"mapbox\": {\"style\": \"light\"}, \"paper_bgcolor\": \"white\", \"plot_bgcolor\": \"#E5ECF6\", \"polar\": {\"angularaxis\": {\"gridcolor\": \"white\", \"linecolor\": \"white\", \"ticks\": \"\"}, \"bgcolor\": \"#E5ECF6\", \"radialaxis\": {\"gridcolor\": \"white\", \"linecolor\": \"white\", \"ticks\": \"\"}}, \"scene\": {\"xaxis\": {\"backgroundcolor\": \"#E5ECF6\", \"gridcolor\": \"white\", \"gridwidth\": 2, \"linecolor\": \"white\", \"showbackground\": true, \"ticks\": \"\", \"zerolinecolor\": \"white\"}, \"yaxis\": {\"backgroundcolor\": \"#E5ECF6\", \"gridcolor\": \"white\", \"gridwidth\": 2, \"linecolor\": \"white\", \"showbackground\": true, \"ticks\": \"\", \"zerolinecolor\": \"white\"}, \"zaxis\": {\"backgroundcolor\": \"#E5ECF6\", \"gridcolor\": \"white\", \"gridwidth\": 2, \"linecolor\": \"white\", \"showbackground\": true, \"ticks\": \"\", \"zerolinecolor\": \"white\"}}, \"shapedefaults\": {\"line\": {\"color\": \"#2a3f5f\"}}, \"ternary\": {\"aaxis\": {\"gridcolor\": \"white\", \"linecolor\": \"white\", \"ticks\": \"\"}, \"baxis\": {\"gridcolor\": \"white\", \"linecolor\": \"white\", \"ticks\": \"\"}, \"bgcolor\": \"#E5ECF6\", \"caxis\": {\"gridcolor\": \"white\", \"linecolor\": \"white\", \"ticks\": \"\"}}, \"title\": {\"x\": 0.05}, \"xaxis\": {\"automargin\": true, \"gridcolor\": \"white\", \"linecolor\": \"white\", \"ticks\": \"\", \"title\": {\"standoff\": 15}, \"zerolinecolor\": \"white\", \"zerolinewidth\": 2}, \"yaxis\": {\"automargin\": true, \"gridcolor\": \"white\", \"linecolor\": \"white\", \"ticks\": \"\", \"title\": {\"standoff\": 15}, \"zerolinecolor\": \"white\", \"zerolinewidth\": 2}}}, \"xaxis\": {\"anchor\": \"y\", \"domain\": [0.0, 1.0], \"title\": {\"text\": \"prefLabel\"}}, \"yaxis\": {\"anchor\": \"x\", \"domain\": [0.0, 1.0], \"title\": {\"text\": \"count\"}}},                        {\"responsive\": true}                    ).then(function(){\n",
       "                            \n",
       "var gd = document.getElementById('cf65db37-7cd3-474f-ac60-10ab7f77d0dc');\n",
       "var x = new MutationObserver(function (mutations, observer) {{\n",
       "        var display = window.getComputedStyle(gd).display;\n",
       "        if (!display || display === 'none') {{\n",
       "            console.log([gd, 'removed!']);\n",
       "            Plotly.purge(gd);\n",
       "            observer.disconnect();\n",
       "        }}\n",
       "}});\n",
       "\n",
       "// Listen for the removal of the full notebook cells\n",
       "var notebookContainer = gd.closest('#notebook-container');\n",
       "if (notebookContainer) {{\n",
       "    x.observe(notebookContainer, {childList: true});\n",
       "}}\n",
       "\n",
       "// Listen for the clearing of the current output cell\n",
       "var outputEl = gd.closest('.output');\n",
       "if (outputEl) {{\n",
       "    x.observe(outputEl, {childList: true});\n",
       "}}\n",
       "\n",
       "                        })                };                });            </script>        </div>"
      ]
     },
     "metadata": {},
     "output_type": "display_data"
    },
    {
     "data": {
      "application/vnd.plotly.v1+json": {
       "config": {
        "plotlyServerURL": "https://plotly.com"
       },
       "data": [
        {
         "branchvalues": "total",
         "domain": {
          "x": [
           0,
           1
          ],
          "y": [
           0,
           1
          ]
         },
         "hovertemplate": "labels=%{label}<br>count=%{value}<br>parent=%{parent}<br>id=%{id}<extra></extra>",
         "ids": [
          "0",
          "1",
          "2",
          "3",
          "4",
          "5",
          "6",
          "7",
          "8",
          "9",
          "10",
          "11",
          "12",
          "13",
          "14",
          "15",
          "16",
          "17",
          "18",
          "19",
          "20",
          "21",
          "22",
          "23",
          "24",
          "25",
          "26",
          "27",
          "28",
          "29",
          "30",
          "31",
          "32",
          "33",
          "34",
          "35",
          "36",
          "37",
          "38",
          "39",
          "40",
          "41",
          "42",
          "43",
          "44",
          "45",
          "46",
          "47",
          "48",
          "49",
          "50",
          "51",
          "52",
          "53",
          "54",
          "55",
          "56",
          "57",
          "58",
          "59",
          "60",
          "61",
          "62",
          "63",
          "64",
          "65",
          "66",
          "67",
          "68",
          "69",
          "70",
          "71",
          "72",
          "73",
          "74",
          "75",
          "76",
          "77",
          "78",
          "79",
          "80",
          "81",
          "82",
          "83",
          "84",
          "85",
          "86",
          "87",
          "88",
          "89",
          "90",
          "91",
          "92",
          "93",
          "94",
          "95",
          "96",
          "97",
          "98",
          "99",
          "100",
          "101",
          "102",
          "103",
          "104",
          "105",
          "106",
          "107",
          "108",
          "109",
          "110",
          "111",
          "112",
          "113",
          "114",
          "115",
          "116",
          "117",
          "118",
          "119",
          "120",
          "121",
          "122",
          "123",
          "124",
          "125",
          "126",
          "127",
          "128",
          "129",
          "130",
          "131",
          "132",
          "133",
          "134",
          "135",
          "136",
          "137",
          "138",
          "139",
          "140",
          "141",
          "142",
          "143",
          "144",
          "145",
          "146",
          "147",
          "148",
          "149",
          "150",
          "151",
          "152",
          "153",
          "154",
          "155",
          "156",
          "157",
          "158",
          "159",
          "160",
          "161",
          "162",
          "163",
          "164",
          "165",
          "166",
          "167",
          "168",
          "169",
          "170",
          "171",
          "172",
          "173",
          "174",
          "175",
          "176",
          "177",
          "178",
          "179",
          "180",
          "181",
          "182",
          "183",
          "184",
          "185",
          "186",
          "187",
          "188",
          "189",
          "190",
          "191",
          "192",
          "193",
          "194",
          "195"
         ],
         "labels": [
          "0",
          "1",
          "2",
          "3",
          "4",
          "5",
          "6",
          "7",
          "8",
          "9",
          "10",
          "11",
          "12",
          "13",
          "14",
          "15",
          "16",
          "17",
          "18",
          "19",
          "20",
          "21",
          "22",
          "23",
          "24",
          "25",
          "26",
          "27",
          "28",
          "29",
          "30",
          "31",
          "32",
          "33",
          "34",
          "35",
          "36",
          "37",
          "38",
          "39",
          "40",
          "41",
          "42",
          "43",
          "44",
          "45",
          "46",
          "47",
          "48",
          "49",
          "50",
          "51",
          "52",
          "53",
          "54",
          "55",
          "56",
          "57",
          "58",
          "59",
          "60",
          "61",
          "62",
          "63",
          "64",
          "65",
          "66",
          "67",
          "68",
          "69",
          "70",
          "71",
          "72",
          "73",
          "74",
          "75",
          "76",
          "77",
          "78",
          "79",
          "80",
          "81",
          "82",
          "83",
          "84",
          "85",
          "86",
          "87",
          "88",
          "89",
          "90",
          "91",
          "92",
          "93",
          "94",
          "95",
          "96",
          "97",
          "98",
          "99",
          "100",
          "101",
          "102",
          "103",
          "104",
          "105",
          "106",
          "107",
          "108",
          "109",
          "110",
          "111",
          "112",
          "113",
          "114",
          "115",
          "116",
          "117",
          "118",
          "119",
          "120",
          "121",
          "122",
          "123",
          "124",
          "125",
          "126",
          "127",
          "128",
          "129",
          "130",
          "131",
          "132",
          "133",
          "134",
          "135",
          "136",
          "137",
          "138",
          "139",
          "140",
          "141",
          "142",
          "143",
          "144",
          "145",
          "146",
          "147",
          "148",
          "149",
          "150",
          "151",
          "152",
          "153",
          "154",
          "155",
          "156",
          "157",
          "158",
          "159",
          "160",
          "161",
          "162",
          "163",
          "164",
          "165",
          "166",
          "167",
          "168",
          "169",
          "170",
          "171",
          "172",
          "173",
          "174",
          "175",
          "176",
          "177",
          "178",
          "179",
          "180",
          "181",
          "182",
          "183",
          "184",
          "185",
          "186",
          "187",
          "188",
          "189",
          "190",
          "191",
          "192",
          "193",
          "194",
          "195"
         ],
         "name": "",
         "parents": [
          "",
          "",
          "",
          "",
          "",
          "",
          "",
          "",
          "",
          "",
          "",
          "",
          "",
          "",
          "",
          "",
          "",
          "",
          "",
          "",
          "",
          "",
          "",
          "",
          "",
          "",
          "",
          "",
          "",
          "",
          "",
          "",
          "",
          "",
          "",
          "",
          "",
          "",
          "",
          "",
          "",
          "",
          "",
          "",
          "",
          "",
          "",
          "",
          "",
          "",
          "",
          "",
          "",
          "",
          "",
          "",
          "",
          "",
          "",
          "",
          "",
          "",
          "",
          "",
          "",
          "",
          "",
          "",
          "",
          "",
          "",
          "",
          "",
          "",
          "",
          "",
          "",
          "",
          "",
          "",
          "",
          "",
          "",
          "",
          "",
          "",
          "",
          "",
          "",
          "",
          "",
          "",
          "",
          "",
          "",
          "",
          "",
          "",
          "",
          "",
          "",
          "",
          "",
          "",
          "",
          "",
          "",
          "",
          "",
          "",
          "",
          "",
          "",
          "",
          "",
          "",
          "",
          "",
          "",
          "",
          "",
          "",
          "",
          "",
          "",
          "",
          "",
          "",
          "",
          "",
          "",
          "",
          "",
          "",
          "",
          "",
          "",
          "",
          "",
          "",
          "",
          "",
          "",
          "",
          "",
          "",
          "",
          "",
          "",
          "",
          "",
          "",
          "",
          "",
          "",
          "",
          "",
          "",
          "",
          "",
          "",
          "",
          "",
          "",
          "",
          "",
          "",
          "",
          "",
          "",
          "",
          "",
          "",
          "",
          "",
          "",
          "",
          "",
          "",
          "",
          "",
          "",
          "",
          "",
          "",
          "",
          "",
          "",
          "",
          "",
          "",
          "",
          "",
          "",
          "",
          ""
         ],
         "type": "treemap",
         "values": [
          1278,
          984,
          595,
          595,
          591,
          553,
          540,
          467,
          409,
          401,
          374,
          371,
          325,
          322,
          306,
          304,
          304,
          275,
          263,
          247,
          237,
          230,
          228,
          202,
          201,
          197,
          190,
          181,
          181,
          177,
          157,
          147,
          139,
          126,
          115,
          114,
          112,
          109,
          109,
          109,
          106,
          98,
          96,
          96,
          91,
          77,
          76,
          74,
          71,
          69,
          65,
          63,
          58,
          56,
          54,
          54,
          53,
          52,
          50,
          49,
          48,
          48,
          47,
          45,
          44,
          44,
          43,
          43,
          42,
          41,
          41,
          40,
          39,
          38,
          38,
          37,
          35,
          35,
          34,
          33,
          31,
          30,
          30,
          29,
          28,
          27,
          27,
          27,
          27,
          27,
          26,
          26,
          23,
          23,
          22,
          22,
          22,
          21,
          21,
          21,
          20,
          20,
          20,
          19,
          19,
          18,
          17,
          17,
          16,
          15,
          14,
          14,
          13,
          13,
          12,
          12,
          12,
          11,
          11,
          11,
          11,
          10,
          10,
          10,
          10,
          10,
          10,
          10,
          10,
          9,
          9,
          9,
          8,
          8,
          7,
          7,
          7,
          7,
          7,
          7,
          6,
          6,
          6,
          6,
          6,
          6,
          6,
          6,
          5,
          5,
          5,
          5,
          5,
          5,
          5,
          5,
          5,
          5,
          5,
          4,
          4,
          4,
          4,
          4,
          4,
          4,
          4,
          4,
          3,
          3,
          3,
          3,
          3,
          3,
          3,
          3,
          3,
          3,
          2,
          2,
          2,
          2,
          2,
          2,
          1,
          1,
          1,
          1,
          1,
          1,
          1,
          1,
          1,
          1,
          1,
          1
         ]
        }
       ],
       "layout": {
        "legend": {
         "tracegroupgap": 0
        },
        "margin": {
         "t": 60
        },
        "template": {
         "data": {
          "bar": [
           {
            "error_x": {
             "color": "#2a3f5f"
            },
            "error_y": {
             "color": "#2a3f5f"
            },
            "marker": {
             "line": {
              "color": "#E5ECF6",
              "width": 0.5
             }
            },
            "type": "bar"
           }
          ],
          "barpolar": [
           {
            "marker": {
             "line": {
              "color": "#E5ECF6",
              "width": 0.5
             }
            },
            "type": "barpolar"
           }
          ],
          "carpet": [
           {
            "aaxis": {
             "endlinecolor": "#2a3f5f",
             "gridcolor": "white",
             "linecolor": "white",
             "minorgridcolor": "white",
             "startlinecolor": "#2a3f5f"
            },
            "baxis": {
             "endlinecolor": "#2a3f5f",
             "gridcolor": "white",
             "linecolor": "white",
             "minorgridcolor": "white",
             "startlinecolor": "#2a3f5f"
            },
            "type": "carpet"
           }
          ],
          "choropleth": [
           {
            "colorbar": {
             "outlinewidth": 0,
             "ticks": ""
            },
            "type": "choropleth"
           }
          ],
          "contour": [
           {
            "colorbar": {
             "outlinewidth": 0,
             "ticks": ""
            },
            "colorscale": [
             [
              0,
              "#0d0887"
             ],
             [
              0.1111111111111111,
              "#46039f"
             ],
             [
              0.2222222222222222,
              "#7201a8"
             ],
             [
              0.3333333333333333,
              "#9c179e"
             ],
             [
              0.4444444444444444,
              "#bd3786"
             ],
             [
              0.5555555555555556,
              "#d8576b"
             ],
             [
              0.6666666666666666,
              "#ed7953"
             ],
             [
              0.7777777777777778,
              "#fb9f3a"
             ],
             [
              0.8888888888888888,
              "#fdca26"
             ],
             [
              1,
              "#f0f921"
             ]
            ],
            "type": "contour"
           }
          ],
          "contourcarpet": [
           {
            "colorbar": {
             "outlinewidth": 0,
             "ticks": ""
            },
            "type": "contourcarpet"
           }
          ],
          "heatmap": [
           {
            "colorbar": {
             "outlinewidth": 0,
             "ticks": ""
            },
            "colorscale": [
             [
              0,
              "#0d0887"
             ],
             [
              0.1111111111111111,
              "#46039f"
             ],
             [
              0.2222222222222222,
              "#7201a8"
             ],
             [
              0.3333333333333333,
              "#9c179e"
             ],
             [
              0.4444444444444444,
              "#bd3786"
             ],
             [
              0.5555555555555556,
              "#d8576b"
             ],
             [
              0.6666666666666666,
              "#ed7953"
             ],
             [
              0.7777777777777778,
              "#fb9f3a"
             ],
             [
              0.8888888888888888,
              "#fdca26"
             ],
             [
              1,
              "#f0f921"
             ]
            ],
            "type": "heatmap"
           }
          ],
          "heatmapgl": [
           {
            "colorbar": {
             "outlinewidth": 0,
             "ticks": ""
            },
            "colorscale": [
             [
              0,
              "#0d0887"
             ],
             [
              0.1111111111111111,
              "#46039f"
             ],
             [
              0.2222222222222222,
              "#7201a8"
             ],
             [
              0.3333333333333333,
              "#9c179e"
             ],
             [
              0.4444444444444444,
              "#bd3786"
             ],
             [
              0.5555555555555556,
              "#d8576b"
             ],
             [
              0.6666666666666666,
              "#ed7953"
             ],
             [
              0.7777777777777778,
              "#fb9f3a"
             ],
             [
              0.8888888888888888,
              "#fdca26"
             ],
             [
              1,
              "#f0f921"
             ]
            ],
            "type": "heatmapgl"
           }
          ],
          "histogram": [
           {
            "marker": {
             "colorbar": {
              "outlinewidth": 0,
              "ticks": ""
             }
            },
            "type": "histogram"
           }
          ],
          "histogram2d": [
           {
            "colorbar": {
             "outlinewidth": 0,
             "ticks": ""
            },
            "colorscale": [
             [
              0,
              "#0d0887"
             ],
             [
              0.1111111111111111,
              "#46039f"
             ],
             [
              0.2222222222222222,
              "#7201a8"
             ],
             [
              0.3333333333333333,
              "#9c179e"
             ],
             [
              0.4444444444444444,
              "#bd3786"
             ],
             [
              0.5555555555555556,
              "#d8576b"
             ],
             [
              0.6666666666666666,
              "#ed7953"
             ],
             [
              0.7777777777777778,
              "#fb9f3a"
             ],
             [
              0.8888888888888888,
              "#fdca26"
             ],
             [
              1,
              "#f0f921"
             ]
            ],
            "type": "histogram2d"
           }
          ],
          "histogram2dcontour": [
           {
            "colorbar": {
             "outlinewidth": 0,
             "ticks": ""
            },
            "colorscale": [
             [
              0,
              "#0d0887"
             ],
             [
              0.1111111111111111,
              "#46039f"
             ],
             [
              0.2222222222222222,
              "#7201a8"
             ],
             [
              0.3333333333333333,
              "#9c179e"
             ],
             [
              0.4444444444444444,
              "#bd3786"
             ],
             [
              0.5555555555555556,
              "#d8576b"
             ],
             [
              0.6666666666666666,
              "#ed7953"
             ],
             [
              0.7777777777777778,
              "#fb9f3a"
             ],
             [
              0.8888888888888888,
              "#fdca26"
             ],
             [
              1,
              "#f0f921"
             ]
            ],
            "type": "histogram2dcontour"
           }
          ],
          "mesh3d": [
           {
            "colorbar": {
             "outlinewidth": 0,
             "ticks": ""
            },
            "type": "mesh3d"
           }
          ],
          "parcoords": [
           {
            "line": {
             "colorbar": {
              "outlinewidth": 0,
              "ticks": ""
             }
            },
            "type": "parcoords"
           }
          ],
          "pie": [
           {
            "automargin": true,
            "type": "pie"
           }
          ],
          "scatter": [
           {
            "marker": {
             "colorbar": {
              "outlinewidth": 0,
              "ticks": ""
             }
            },
            "type": "scatter"
           }
          ],
          "scatter3d": [
           {
            "line": {
             "colorbar": {
              "outlinewidth": 0,
              "ticks": ""
             }
            },
            "marker": {
             "colorbar": {
              "outlinewidth": 0,
              "ticks": ""
             }
            },
            "type": "scatter3d"
           }
          ],
          "scattercarpet": [
           {
            "marker": {
             "colorbar": {
              "outlinewidth": 0,
              "ticks": ""
             }
            },
            "type": "scattercarpet"
           }
          ],
          "scattergeo": [
           {
            "marker": {
             "colorbar": {
              "outlinewidth": 0,
              "ticks": ""
             }
            },
            "type": "scattergeo"
           }
          ],
          "scattergl": [
           {
            "marker": {
             "colorbar": {
              "outlinewidth": 0,
              "ticks": ""
             }
            },
            "type": "scattergl"
           }
          ],
          "scattermapbox": [
           {
            "marker": {
             "colorbar": {
              "outlinewidth": 0,
              "ticks": ""
             }
            },
            "type": "scattermapbox"
           }
          ],
          "scatterpolar": [
           {
            "marker": {
             "colorbar": {
              "outlinewidth": 0,
              "ticks": ""
             }
            },
            "type": "scatterpolar"
           }
          ],
          "scatterpolargl": [
           {
            "marker": {
             "colorbar": {
              "outlinewidth": 0,
              "ticks": ""
             }
            },
            "type": "scatterpolargl"
           }
          ],
          "scatterternary": [
           {
            "marker": {
             "colorbar": {
              "outlinewidth": 0,
              "ticks": ""
             }
            },
            "type": "scatterternary"
           }
          ],
          "surface": [
           {
            "colorbar": {
             "outlinewidth": 0,
             "ticks": ""
            },
            "colorscale": [
             [
              0,
              "#0d0887"
             ],
             [
              0.1111111111111111,
              "#46039f"
             ],
             [
              0.2222222222222222,
              "#7201a8"
             ],
             [
              0.3333333333333333,
              "#9c179e"
             ],
             [
              0.4444444444444444,
              "#bd3786"
             ],
             [
              0.5555555555555556,
              "#d8576b"
             ],
             [
              0.6666666666666666,
              "#ed7953"
             ],
             [
              0.7777777777777778,
              "#fb9f3a"
             ],
             [
              0.8888888888888888,
              "#fdca26"
             ],
             [
              1,
              "#f0f921"
             ]
            ],
            "type": "surface"
           }
          ],
          "table": [
           {
            "cells": {
             "fill": {
              "color": "#EBF0F8"
             },
             "line": {
              "color": "white"
             }
            },
            "header": {
             "fill": {
              "color": "#C8D4E3"
             },
             "line": {
              "color": "white"
             }
            },
            "type": "table"
           }
          ]
         },
         "layout": {
          "annotationdefaults": {
           "arrowcolor": "#2a3f5f",
           "arrowhead": 0,
           "arrowwidth": 1
          },
          "autotypenumbers": "strict",
          "coloraxis": {
           "colorbar": {
            "outlinewidth": 0,
            "ticks": ""
           }
          },
          "colorscale": {
           "diverging": [
            [
             0,
             "#8e0152"
            ],
            [
             0.1,
             "#c51b7d"
            ],
            [
             0.2,
             "#de77ae"
            ],
            [
             0.3,
             "#f1b6da"
            ],
            [
             0.4,
             "#fde0ef"
            ],
            [
             0.5,
             "#f7f7f7"
            ],
            [
             0.6,
             "#e6f5d0"
            ],
            [
             0.7,
             "#b8e186"
            ],
            [
             0.8,
             "#7fbc41"
            ],
            [
             0.9,
             "#4d9221"
            ],
            [
             1,
             "#276419"
            ]
           ],
           "sequential": [
            [
             0,
             "#0d0887"
            ],
            [
             0.1111111111111111,
             "#46039f"
            ],
            [
             0.2222222222222222,
             "#7201a8"
            ],
            [
             0.3333333333333333,
             "#9c179e"
            ],
            [
             0.4444444444444444,
             "#bd3786"
            ],
            [
             0.5555555555555556,
             "#d8576b"
            ],
            [
             0.6666666666666666,
             "#ed7953"
            ],
            [
             0.7777777777777778,
             "#fb9f3a"
            ],
            [
             0.8888888888888888,
             "#fdca26"
            ],
            [
             1,
             "#f0f921"
            ]
           ],
           "sequentialminus": [
            [
             0,
             "#0d0887"
            ],
            [
             0.1111111111111111,
             "#46039f"
            ],
            [
             0.2222222222222222,
             "#7201a8"
            ],
            [
             0.3333333333333333,
             "#9c179e"
            ],
            [
             0.4444444444444444,
             "#bd3786"
            ],
            [
             0.5555555555555556,
             "#d8576b"
            ],
            [
             0.6666666666666666,
             "#ed7953"
            ],
            [
             0.7777777777777778,
             "#fb9f3a"
            ],
            [
             0.8888888888888888,
             "#fdca26"
            ],
            [
             1,
             "#f0f921"
            ]
           ]
          },
          "colorway": [
           "#636efa",
           "#EF553B",
           "#00cc96",
           "#ab63fa",
           "#FFA15A",
           "#19d3f3",
           "#FF6692",
           "#B6E880",
           "#FF97FF",
           "#FECB52"
          ],
          "font": {
           "color": "#2a3f5f"
          },
          "geo": {
           "bgcolor": "white",
           "lakecolor": "white",
           "landcolor": "#E5ECF6",
           "showlakes": true,
           "showland": true,
           "subunitcolor": "white"
          },
          "hoverlabel": {
           "align": "left"
          },
          "hovermode": "closest",
          "mapbox": {
           "style": "light"
          },
          "paper_bgcolor": "white",
          "plot_bgcolor": "#E5ECF6",
          "polar": {
           "angularaxis": {
            "gridcolor": "white",
            "linecolor": "white",
            "ticks": ""
           },
           "bgcolor": "#E5ECF6",
           "radialaxis": {
            "gridcolor": "white",
            "linecolor": "white",
            "ticks": ""
           }
          },
          "scene": {
           "xaxis": {
            "backgroundcolor": "#E5ECF6",
            "gridcolor": "white",
            "gridwidth": 2,
            "linecolor": "white",
            "showbackground": true,
            "ticks": "",
            "zerolinecolor": "white"
           },
           "yaxis": {
            "backgroundcolor": "#E5ECF6",
            "gridcolor": "white",
            "gridwidth": 2,
            "linecolor": "white",
            "showbackground": true,
            "ticks": "",
            "zerolinecolor": "white"
           },
           "zaxis": {
            "backgroundcolor": "#E5ECF6",
            "gridcolor": "white",
            "gridwidth": 2,
            "linecolor": "white",
            "showbackground": true,
            "ticks": "",
            "zerolinecolor": "white"
           }
          },
          "shapedefaults": {
           "line": {
            "color": "#2a3f5f"
           }
          },
          "ternary": {
           "aaxis": {
            "gridcolor": "white",
            "linecolor": "white",
            "ticks": ""
           },
           "baxis": {
            "gridcolor": "white",
            "linecolor": "white",
            "ticks": ""
           },
           "bgcolor": "#E5ECF6",
           "caxis": {
            "gridcolor": "white",
            "linecolor": "white",
            "ticks": ""
           }
          },
          "title": {
           "x": 0.05
          },
          "xaxis": {
           "automargin": true,
           "gridcolor": "white",
           "linecolor": "white",
           "ticks": "",
           "title": {
            "standoff": 15
           },
           "zerolinecolor": "white",
           "zerolinewidth": 2
          },
          "yaxis": {
           "automargin": true,
           "gridcolor": "white",
           "linecolor": "white",
           "ticks": "",
           "title": {
            "standoff": 15
           },
           "zerolinecolor": "white",
           "zerolinewidth": 2
          }
         }
        }
       }
      },
      "text/html": [
       "<div>                            <div id=\"7d336cc1-b85e-4753-a2a1-fb97281099a3\" class=\"plotly-graph-div\" style=\"height:525px; width:100%;\"></div>            <script type=\"text/javascript\">                require([\"plotly\"], function(Plotly) {                    window.PLOTLYENV=window.PLOTLYENV || {};                                    if (document.getElementById(\"7d336cc1-b85e-4753-a2a1-fb97281099a3\")) {                    Plotly.newPlot(                        \"7d336cc1-b85e-4753-a2a1-fb97281099a3\",                        [{\"branchvalues\": \"total\", \"domain\": {\"x\": [0.0, 1.0], \"y\": [0.0, 1.0]}, \"hovertemplate\": \"labels=%{label}<br>count=%{value}<br>parent=%{parent}<br>id=%{id}<extra></extra>\", \"ids\": [\"0\", \"1\", \"2\", \"3\", \"4\", \"5\", \"6\", \"7\", \"8\", \"9\", \"10\", \"11\", \"12\", \"13\", \"14\", \"15\", \"16\", \"17\", \"18\", \"19\", \"20\", \"21\", \"22\", \"23\", \"24\", \"25\", \"26\", \"27\", \"28\", \"29\", \"30\", \"31\", \"32\", \"33\", \"34\", \"35\", \"36\", \"37\", \"38\", \"39\", \"40\", \"41\", \"42\", \"43\", \"44\", \"45\", \"46\", \"47\", \"48\", \"49\", \"50\", \"51\", \"52\", \"53\", \"54\", \"55\", \"56\", \"57\", \"58\", \"59\", \"60\", \"61\", \"62\", \"63\", \"64\", \"65\", \"66\", \"67\", \"68\", \"69\", \"70\", \"71\", \"72\", \"73\", \"74\", \"75\", \"76\", \"77\", \"78\", \"79\", \"80\", \"81\", \"82\", \"83\", \"84\", \"85\", \"86\", \"87\", \"88\", \"89\", \"90\", \"91\", \"92\", \"93\", \"94\", \"95\", \"96\", \"97\", \"98\", \"99\", \"100\", \"101\", \"102\", \"103\", \"104\", \"105\", \"106\", \"107\", \"108\", \"109\", \"110\", \"111\", \"112\", \"113\", \"114\", \"115\", \"116\", \"117\", \"118\", \"119\", \"120\", \"121\", \"122\", \"123\", \"124\", \"125\", \"126\", \"127\", \"128\", \"129\", \"130\", \"131\", \"132\", \"133\", \"134\", \"135\", \"136\", \"137\", \"138\", \"139\", \"140\", \"141\", \"142\", \"143\", \"144\", \"145\", \"146\", \"147\", \"148\", \"149\", \"150\", \"151\", \"152\", \"153\", \"154\", \"155\", \"156\", \"157\", \"158\", \"159\", \"160\", \"161\", \"162\", \"163\", \"164\", \"165\", \"166\", \"167\", \"168\", \"169\", \"170\", \"171\", \"172\", \"173\", \"174\", \"175\", \"176\", \"177\", \"178\", \"179\", \"180\", \"181\", \"182\", \"183\", \"184\", \"185\", \"186\", \"187\", \"188\", \"189\", \"190\", \"191\", \"192\", \"193\", \"194\", \"195\"], \"labels\": [\"0\", \"1\", \"2\", \"3\", \"4\", \"5\", \"6\", \"7\", \"8\", \"9\", \"10\", \"11\", \"12\", \"13\", \"14\", \"15\", \"16\", \"17\", \"18\", \"19\", \"20\", \"21\", \"22\", \"23\", \"24\", \"25\", \"26\", \"27\", \"28\", \"29\", \"30\", \"31\", \"32\", \"33\", \"34\", \"35\", \"36\", \"37\", \"38\", \"39\", \"40\", \"41\", \"42\", \"43\", \"44\", \"45\", \"46\", \"47\", \"48\", \"49\", \"50\", \"51\", \"52\", \"53\", \"54\", \"55\", \"56\", \"57\", \"58\", \"59\", \"60\", \"61\", \"62\", \"63\", \"64\", \"65\", \"66\", \"67\", \"68\", \"69\", \"70\", \"71\", \"72\", \"73\", \"74\", \"75\", \"76\", \"77\", \"78\", \"79\", \"80\", \"81\", \"82\", \"83\", \"84\", \"85\", \"86\", \"87\", \"88\", \"89\", \"90\", \"91\", \"92\", \"93\", \"94\", \"95\", \"96\", \"97\", \"98\", \"99\", \"100\", \"101\", \"102\", \"103\", \"104\", \"105\", \"106\", \"107\", \"108\", \"109\", \"110\", \"111\", \"112\", \"113\", \"114\", \"115\", \"116\", \"117\", \"118\", \"119\", \"120\", \"121\", \"122\", \"123\", \"124\", \"125\", \"126\", \"127\", \"128\", \"129\", \"130\", \"131\", \"132\", \"133\", \"134\", \"135\", \"136\", \"137\", \"138\", \"139\", \"140\", \"141\", \"142\", \"143\", \"144\", \"145\", \"146\", \"147\", \"148\", \"149\", \"150\", \"151\", \"152\", \"153\", \"154\", \"155\", \"156\", \"157\", \"158\", \"159\", \"160\", \"161\", \"162\", \"163\", \"164\", \"165\", \"166\", \"167\", \"168\", \"169\", \"170\", \"171\", \"172\", \"173\", \"174\", \"175\", \"176\", \"177\", \"178\", \"179\", \"180\", \"181\", \"182\", \"183\", \"184\", \"185\", \"186\", \"187\", \"188\", \"189\", \"190\", \"191\", \"192\", \"193\", \"194\", \"195\"], \"name\": \"\", \"parents\": [\"\", \"\", \"\", \"\", \"\", \"\", \"\", \"\", \"\", \"\", \"\", \"\", \"\", \"\", \"\", \"\", \"\", \"\", \"\", \"\", \"\", \"\", \"\", \"\", \"\", \"\", \"\", \"\", \"\", \"\", \"\", \"\", \"\", \"\", \"\", \"\", \"\", \"\", \"\", \"\", \"\", \"\", \"\", \"\", \"\", \"\", \"\", \"\", \"\", \"\", \"\", \"\", \"\", \"\", \"\", \"\", \"\", \"\", \"\", \"\", \"\", \"\", \"\", \"\", \"\", \"\", \"\", \"\", \"\", \"\", \"\", \"\", \"\", \"\", \"\", \"\", \"\", \"\", \"\", \"\", \"\", \"\", \"\", \"\", \"\", \"\", \"\", \"\", \"\", \"\", \"\", \"\", \"\", \"\", \"\", \"\", \"\", \"\", \"\", \"\", \"\", \"\", \"\", \"\", \"\", \"\", \"\", \"\", \"\", \"\", \"\", \"\", \"\", \"\", \"\", \"\", \"\", \"\", \"\", \"\", \"\", \"\", \"\", \"\", \"\", \"\", \"\", \"\", \"\", \"\", \"\", \"\", \"\", \"\", \"\", \"\", \"\", \"\", \"\", \"\", \"\", \"\", \"\", \"\", \"\", \"\", \"\", \"\", \"\", \"\", \"\", \"\", \"\", \"\", \"\", \"\", \"\", \"\", \"\", \"\", \"\", \"\", \"\", \"\", \"\", \"\", \"\", \"\", \"\", \"\", \"\", \"\", \"\", \"\", \"\", \"\", \"\", \"\", \"\", \"\", \"\", \"\", \"\", \"\", \"\", \"\", \"\", \"\", \"\", \"\", \"\", \"\", \"\", \"\", \"\", \"\"], \"type\": \"treemap\", \"values\": [1278, 984, 595, 595, 591, 553, 540, 467, 409, 401, 374, 371, 325, 322, 306, 304, 304, 275, 263, 247, 237, 230, 228, 202, 201, 197, 190, 181, 181, 177, 157, 147, 139, 126, 115, 114, 112, 109, 109, 109, 106, 98, 96, 96, 91, 77, 76, 74, 71, 69, 65, 63, 58, 56, 54, 54, 53, 52, 50, 49, 48, 48, 47, 45, 44, 44, 43, 43, 42, 41, 41, 40, 39, 38, 38, 37, 35, 35, 34, 33, 31, 30, 30, 29, 28, 27, 27, 27, 27, 27, 26, 26, 23, 23, 22, 22, 22, 21, 21, 21, 20, 20, 20, 19, 19, 18, 17, 17, 16, 15, 14, 14, 13, 13, 12, 12, 12, 11, 11, 11, 11, 10, 10, 10, 10, 10, 10, 10, 10, 9, 9, 9, 8, 8, 7, 7, 7, 7, 7, 7, 6, 6, 6, 6, 6, 6, 6, 6, 5, 5, 5, 5, 5, 5, 5, 5, 5, 5, 5, 4, 4, 4, 4, 4, 4, 4, 4, 4, 3, 3, 3, 3, 3, 3, 3, 3, 3, 3, 2, 2, 2, 2, 2, 2, 1, 1, 1, 1, 1, 1, 1, 1, 1, 1, 1, 1]}],                        {\"legend\": {\"tracegroupgap\": 0}, \"margin\": {\"t\": 60}, \"template\": {\"data\": {\"bar\": [{\"error_x\": {\"color\": \"#2a3f5f\"}, \"error_y\": {\"color\": \"#2a3f5f\"}, \"marker\": {\"line\": {\"color\": \"#E5ECF6\", \"width\": 0.5}}, \"type\": \"bar\"}], \"barpolar\": [{\"marker\": {\"line\": {\"color\": \"#E5ECF6\", \"width\": 0.5}}, \"type\": \"barpolar\"}], \"carpet\": [{\"aaxis\": {\"endlinecolor\": \"#2a3f5f\", \"gridcolor\": \"white\", \"linecolor\": \"white\", \"minorgridcolor\": \"white\", \"startlinecolor\": \"#2a3f5f\"}, \"baxis\": {\"endlinecolor\": \"#2a3f5f\", \"gridcolor\": \"white\", \"linecolor\": \"white\", \"minorgridcolor\": \"white\", \"startlinecolor\": \"#2a3f5f\"}, \"type\": \"carpet\"}], \"choropleth\": [{\"colorbar\": {\"outlinewidth\": 0, \"ticks\": \"\"}, \"type\": \"choropleth\"}], \"contour\": [{\"colorbar\": {\"outlinewidth\": 0, \"ticks\": \"\"}, \"colorscale\": [[0.0, \"#0d0887\"], [0.1111111111111111, \"#46039f\"], [0.2222222222222222, \"#7201a8\"], [0.3333333333333333, \"#9c179e\"], [0.4444444444444444, \"#bd3786\"], [0.5555555555555556, \"#d8576b\"], [0.6666666666666666, \"#ed7953\"], [0.7777777777777778, \"#fb9f3a\"], [0.8888888888888888, \"#fdca26\"], [1.0, \"#f0f921\"]], \"type\": \"contour\"}], \"contourcarpet\": [{\"colorbar\": {\"outlinewidth\": 0, \"ticks\": \"\"}, \"type\": \"contourcarpet\"}], \"heatmap\": [{\"colorbar\": {\"outlinewidth\": 0, \"ticks\": \"\"}, \"colorscale\": [[0.0, \"#0d0887\"], [0.1111111111111111, \"#46039f\"], [0.2222222222222222, \"#7201a8\"], [0.3333333333333333, \"#9c179e\"], [0.4444444444444444, \"#bd3786\"], [0.5555555555555556, \"#d8576b\"], [0.6666666666666666, \"#ed7953\"], [0.7777777777777778, \"#fb9f3a\"], [0.8888888888888888, \"#fdca26\"], [1.0, \"#f0f921\"]], \"type\": \"heatmap\"}], \"heatmapgl\": [{\"colorbar\": {\"outlinewidth\": 0, \"ticks\": \"\"}, \"colorscale\": [[0.0, \"#0d0887\"], [0.1111111111111111, \"#46039f\"], [0.2222222222222222, \"#7201a8\"], [0.3333333333333333, \"#9c179e\"], [0.4444444444444444, \"#bd3786\"], [0.5555555555555556, \"#d8576b\"], [0.6666666666666666, \"#ed7953\"], [0.7777777777777778, \"#fb9f3a\"], [0.8888888888888888, \"#fdca26\"], [1.0, \"#f0f921\"]], \"type\": \"heatmapgl\"}], \"histogram\": [{\"marker\": {\"colorbar\": {\"outlinewidth\": 0, \"ticks\": \"\"}}, \"type\": \"histogram\"}], \"histogram2d\": [{\"colorbar\": {\"outlinewidth\": 0, \"ticks\": \"\"}, \"colorscale\": [[0.0, \"#0d0887\"], [0.1111111111111111, \"#46039f\"], [0.2222222222222222, \"#7201a8\"], [0.3333333333333333, \"#9c179e\"], [0.4444444444444444, \"#bd3786\"], [0.5555555555555556, \"#d8576b\"], [0.6666666666666666, \"#ed7953\"], [0.7777777777777778, \"#fb9f3a\"], [0.8888888888888888, \"#fdca26\"], [1.0, \"#f0f921\"]], \"type\": \"histogram2d\"}], \"histogram2dcontour\": [{\"colorbar\": {\"outlinewidth\": 0, \"ticks\": \"\"}, \"colorscale\": [[0.0, \"#0d0887\"], [0.1111111111111111, \"#46039f\"], [0.2222222222222222, \"#7201a8\"], [0.3333333333333333, \"#9c179e\"], [0.4444444444444444, \"#bd3786\"], [0.5555555555555556, \"#d8576b\"], [0.6666666666666666, \"#ed7953\"], [0.7777777777777778, \"#fb9f3a\"], [0.8888888888888888, \"#fdca26\"], [1.0, \"#f0f921\"]], \"type\": \"histogram2dcontour\"}], \"mesh3d\": [{\"colorbar\": {\"outlinewidth\": 0, \"ticks\": \"\"}, \"type\": \"mesh3d\"}], \"parcoords\": [{\"line\": {\"colorbar\": {\"outlinewidth\": 0, \"ticks\": \"\"}}, \"type\": \"parcoords\"}], \"pie\": [{\"automargin\": true, \"type\": \"pie\"}], \"scatter\": [{\"marker\": {\"colorbar\": {\"outlinewidth\": 0, \"ticks\": \"\"}}, \"type\": \"scatter\"}], \"scatter3d\": [{\"line\": {\"colorbar\": {\"outlinewidth\": 0, \"ticks\": \"\"}}, \"marker\": {\"colorbar\": {\"outlinewidth\": 0, \"ticks\": \"\"}}, \"type\": \"scatter3d\"}], \"scattercarpet\": [{\"marker\": {\"colorbar\": {\"outlinewidth\": 0, \"ticks\": \"\"}}, \"type\": \"scattercarpet\"}], \"scattergeo\": [{\"marker\": {\"colorbar\": {\"outlinewidth\": 0, \"ticks\": \"\"}}, \"type\": \"scattergeo\"}], \"scattergl\": [{\"marker\": {\"colorbar\": {\"outlinewidth\": 0, \"ticks\": \"\"}}, \"type\": \"scattergl\"}], \"scattermapbox\": [{\"marker\": {\"colorbar\": {\"outlinewidth\": 0, \"ticks\": \"\"}}, \"type\": \"scattermapbox\"}], \"scatterpolar\": [{\"marker\": {\"colorbar\": {\"outlinewidth\": 0, \"ticks\": \"\"}}, \"type\": \"scatterpolar\"}], \"scatterpolargl\": [{\"marker\": {\"colorbar\": {\"outlinewidth\": 0, \"ticks\": \"\"}}, \"type\": \"scatterpolargl\"}], \"scatterternary\": [{\"marker\": {\"colorbar\": {\"outlinewidth\": 0, \"ticks\": \"\"}}, \"type\": \"scatterternary\"}], \"surface\": [{\"colorbar\": {\"outlinewidth\": 0, \"ticks\": \"\"}, \"colorscale\": [[0.0, \"#0d0887\"], [0.1111111111111111, \"#46039f\"], [0.2222222222222222, \"#7201a8\"], [0.3333333333333333, \"#9c179e\"], [0.4444444444444444, \"#bd3786\"], [0.5555555555555556, \"#d8576b\"], [0.6666666666666666, \"#ed7953\"], [0.7777777777777778, \"#fb9f3a\"], [0.8888888888888888, \"#fdca26\"], [1.0, \"#f0f921\"]], \"type\": \"surface\"}], \"table\": [{\"cells\": {\"fill\": {\"color\": \"#EBF0F8\"}, \"line\": {\"color\": \"white\"}}, \"header\": {\"fill\": {\"color\": \"#C8D4E3\"}, \"line\": {\"color\": \"white\"}}, \"type\": \"table\"}]}, \"layout\": {\"annotationdefaults\": {\"arrowcolor\": \"#2a3f5f\", \"arrowhead\": 0, \"arrowwidth\": 1}, \"autotypenumbers\": \"strict\", \"coloraxis\": {\"colorbar\": {\"outlinewidth\": 0, \"ticks\": \"\"}}, \"colorscale\": {\"diverging\": [[0, \"#8e0152\"], [0.1, \"#c51b7d\"], [0.2, \"#de77ae\"], [0.3, \"#f1b6da\"], [0.4, \"#fde0ef\"], [0.5, \"#f7f7f7\"], [0.6, \"#e6f5d0\"], [0.7, \"#b8e186\"], [0.8, \"#7fbc41\"], [0.9, \"#4d9221\"], [1, \"#276419\"]], \"sequential\": [[0.0, \"#0d0887\"], [0.1111111111111111, \"#46039f\"], [0.2222222222222222, \"#7201a8\"], [0.3333333333333333, \"#9c179e\"], [0.4444444444444444, \"#bd3786\"], [0.5555555555555556, \"#d8576b\"], [0.6666666666666666, \"#ed7953\"], [0.7777777777777778, \"#fb9f3a\"], [0.8888888888888888, \"#fdca26\"], [1.0, \"#f0f921\"]], \"sequentialminus\": [[0.0, \"#0d0887\"], [0.1111111111111111, \"#46039f\"], [0.2222222222222222, \"#7201a8\"], [0.3333333333333333, \"#9c179e\"], [0.4444444444444444, \"#bd3786\"], [0.5555555555555556, \"#d8576b\"], [0.6666666666666666, \"#ed7953\"], [0.7777777777777778, \"#fb9f3a\"], [0.8888888888888888, \"#fdca26\"], [1.0, \"#f0f921\"]]}, \"colorway\": [\"#636efa\", \"#EF553B\", \"#00cc96\", \"#ab63fa\", \"#FFA15A\", \"#19d3f3\", \"#FF6692\", \"#B6E880\", \"#FF97FF\", \"#FECB52\"], \"font\": {\"color\": \"#2a3f5f\"}, \"geo\": {\"bgcolor\": \"white\", \"lakecolor\": \"white\", \"landcolor\": \"#E5ECF6\", \"showlakes\": true, \"showland\": true, \"subunitcolor\": \"white\"}, \"hoverlabel\": {\"align\": \"left\"}, \"hovermode\": \"closest\", \"mapbox\": {\"style\": \"light\"}, \"paper_bgcolor\": \"white\", \"plot_bgcolor\": \"#E5ECF6\", \"polar\": {\"angularaxis\": {\"gridcolor\": \"white\", \"linecolor\": \"white\", \"ticks\": \"\"}, \"bgcolor\": \"#E5ECF6\", \"radialaxis\": {\"gridcolor\": \"white\", \"linecolor\": \"white\", \"ticks\": \"\"}}, \"scene\": {\"xaxis\": {\"backgroundcolor\": \"#E5ECF6\", \"gridcolor\": \"white\", \"gridwidth\": 2, \"linecolor\": \"white\", \"showbackground\": true, \"ticks\": \"\", \"zerolinecolor\": \"white\"}, \"yaxis\": {\"backgroundcolor\": \"#E5ECF6\", \"gridcolor\": \"white\", \"gridwidth\": 2, \"linecolor\": \"white\", \"showbackground\": true, \"ticks\": \"\", \"zerolinecolor\": \"white\"}, \"zaxis\": {\"backgroundcolor\": \"#E5ECF6\", \"gridcolor\": \"white\", \"gridwidth\": 2, \"linecolor\": \"white\", \"showbackground\": true, \"ticks\": \"\", \"zerolinecolor\": \"white\"}}, \"shapedefaults\": {\"line\": {\"color\": \"#2a3f5f\"}}, \"ternary\": {\"aaxis\": {\"gridcolor\": \"white\", \"linecolor\": \"white\", \"ticks\": \"\"}, \"baxis\": {\"gridcolor\": \"white\", \"linecolor\": \"white\", \"ticks\": \"\"}, \"bgcolor\": \"#E5ECF6\", \"caxis\": {\"gridcolor\": \"white\", \"linecolor\": \"white\", \"ticks\": \"\"}}, \"title\": {\"x\": 0.05}, \"xaxis\": {\"automargin\": true, \"gridcolor\": \"white\", \"linecolor\": \"white\", \"ticks\": \"\", \"title\": {\"standoff\": 15}, \"zerolinecolor\": \"white\", \"zerolinewidth\": 2}, \"yaxis\": {\"automargin\": true, \"gridcolor\": \"white\", \"linecolor\": \"white\", \"ticks\": \"\", \"title\": {\"standoff\": 15}, \"zerolinecolor\": \"white\", \"zerolinewidth\": 2}}}},                        {\"responsive\": true}                    ).then(function(){\n",
       "                            \n",
       "var gd = document.getElementById('7d336cc1-b85e-4753-a2a1-fb97281099a3');\n",
       "var x = new MutationObserver(function (mutations, observer) {{\n",
       "        var display = window.getComputedStyle(gd).display;\n",
       "        if (!display || display === 'none') {{\n",
       "            console.log([gd, 'removed!']);\n",
       "            Plotly.purge(gd);\n",
       "            observer.disconnect();\n",
       "        }}\n",
       "}});\n",
       "\n",
       "// Listen for the removal of the full notebook cells\n",
       "var notebookContainer = gd.closest('#notebook-container');\n",
       "if (notebookContainer) {{\n",
       "    x.observe(notebookContainer, {childList: true});\n",
       "}}\n",
       "\n",
       "// Listen for the clearing of the current output cell\n",
       "var outputEl = gd.closest('.output');\n",
       "if (outputEl) {{\n",
       "    x.observe(outputEl, {childList: true});\n",
       "}}\n",
       "\n",
       "                        })                };                });            </script>        </div>"
      ]
     },
     "metadata": {},
     "output_type": "display_data"
    },
    {
     "data": {
      "text/plain": [
       "True"
      ]
     },
     "execution_count": 176,
     "metadata": {},
     "output_type": "execute_result"
    }
   ],
   "source": [
    "# show graphs\n",
    "show_frequencies(d2kab_freq)"
   ]
  },
  {
   "cell_type": "markdown",
   "metadata": {},
   "source": [
    "### VESPA"
   ]
  },
  {
   "cell_type": "code",
   "execution_count": 177,
   "metadata": {},
   "outputs": [
    {
     "name": "stdout",
     "output_type": "stream",
     "text": [
      "Counting bsv..\n",
      "\n",
      "Total : 497 bsv dans le corpus\n",
      "\n",
      "Creating a dataframe..\n",
      "\n",
      "Deleting stopwords..\n",
      "\n",
      "Printing top 10 labels :\n",
      "                 prefLabel  count\n",
      "0                  pommier    742\n",
      "1                    colza    696\n",
      "2  arboriculture fruitière    561\n",
      "3                     pois    494\n",
      "4                      blé    394\n",
      "5                     chou    380\n",
      "6             chou potager    380\n",
      "7                  céréale    354\n",
      "8             floriculture    347\n",
      "9                  poirier    339\n",
      "\n",
      "PrefLabel :\n",
      "\n",
      "count       13259\n",
      "unique        202\n",
      "top       pommier\n",
      "freq          742\n",
      "Name: prefLabel, dtype: object\n",
      "\n",
      "\n",
      "BSV :\n",
      "\n",
      "count                  13259\n",
      "unique                   444\n",
      "top       BSV_legumes_11_002\n",
      "freq                     443\n",
      "Name: bsv, dtype: object\n"
     ]
    }
   ],
   "source": [
    "vespa_fcu, vespa_freq = read_fcu(\"../output/vespa/fcu/fcu_vespa.csv\", \"../resources/corpusVespa.html\")"
   ]
  },
  {
   "cell_type": "code",
   "execution_count": 178,
   "metadata": {},
   "outputs": [
    {
     "data": {
      "application/vnd.plotly.v1+json": {
       "config": {
        "plotlyServerURL": "https://plotly.com"
       },
       "data": [
        {
         "hovertemplate": "prefLabel=%{x}<br>count=%{y}<extra></extra>",
         "legendgroup": "",
         "marker": {
          "color": "#636efa",
          "symbol": "circle"
         },
         "mode": "markers",
         "name": "",
         "orientation": "v",
         "showlegend": false,
         "type": "scatter",
         "x": [
          "pommier",
          "colza",
          "arboriculture fruitière",
          "pois",
          "blé",
          "chou",
          "chou potager",
          "céréale",
          "floriculture",
          "poirier",
          "zone non agricole",
          "vigne",
          "carotte",
          "arboriculture",
          "lin",
          "maïs",
          "oignon",
          "culture légumière",
          "poireau",
          "féverole",
          "pomme de terre",
          "betterave",
          "oléagineux",
          "céleri",
          "salade",
          "prunier",
          "céréale à paille",
          "tomate",
          "tournesol",
          "jardin",
          "lin oléagineux",
          "orge",
          "noyer",
          "protéagineux",
          "pêcher",
          "fraisier",
          "cerisier",
          "blé tendre",
          "rosier",
          "semence",
          "pois protéagineux de printemps",
          "culture fruitière",
          "persil",
          "légume à graines ou à gousses",
          "châtaignier",
          "horticulture ornementale",
          "poirée",
          "laitue",
          "melon",
          "pois protéagineux d'hiver",
          "concombre",
          "radis",
          "courgette",
          "aubergine",
          "arbuste à baies",
          "abricotier",
          "chicorée endive",
          "chêne",
          "navet potager",
          "pois protéagineux",
          "mâche",
          "blé dur",
          "framboisier",
          "oranger",
          "agrume",
          "lin oléagineux d'hiver",
          "chicorée de Bruxelle",
          "actinidia",
          "prairie",
          "chrysanthème",
          "maraîchage",
          "géranium",
          "haricot",
          "poivron",
          "triticale",
          "laitue batavia",
          "vigne de table",
          "échalote",
          "rosier ornemental",
          "pomme de terre potagère",
          "lin oléagineux de printemps",
          "féverole de printemps",
          "orge d'hiver",
          "ail",
          "laurier",
          "féverole d'hiver",
          "olivier",
          "blé tendre d'hiver",
          "cresson",
          "asperge",
          "ciboulette",
          "orge de printemps",
          "haricot vert",
          "panais",
          "petit fruit",
          "roquette",
          "jardins familiaux",
          "laitue à couper",
          "tabac",
          "cerfeuil",
          "bananier",
          "seigle",
          "haricot demi-sec",
          "soja",
          "maïs grain",
          "pomme de terre féculière",
          "luzerne",
          "fève",
          "clémentinier",
          "amandier",
          "piment",
          "vigne de cuve",
          "bananier plantain",
          "ananas",
          "épinard",
          "olivier fruit à noyaux",
          "betterave potagère",
          "céleri-rave",
          "photinie",
          "groseillier",
          "chou brocoli",
          "scorsonère",
          "artichaut",
          "chou-fleur",
          "canne à sucre",
          "culture fourragère",
          "céréale fourragère",
          "poinsettia",
          "moutarde",
          "courge",
          "manguier",
          "sorgho",
          "chicorée",
          "limettier",
          "sorgho grain",
          "chicorée scarole",
          "chou de Bruxelles",
          "myrtille",
          "plante à fibre",
          "arbre à fruits à coques",
          "goyavier",
          "lin à fibres",
          "pomelo",
          "ray-grass",
          "céleri à cotes",
          "arbre fruitier à noyau",
          "millet",
          "orge à six rangs",
          "culture légumière de plein champ",
          "Chou cabus blanc",
          "avoine",
          "riz",
          "chou pommé",
          "cassissier",
          "fourrage annuel",
          "tangor",
          "noisetier",
          "citronnier",
          "gel",
          "chou de Milan",
          "mandarinier",
          "pissenlit",
          "laitue beurre pommée",
          "chou commun",
          "culture industrielle",
          "palmier",
          "gerbera",
          "maïs fourrage",
          "cerfeuil tubéreux",
          "calebasse",
          "surface toujours en herbe",
          "rhubarbe",
          "lavande",
          "chou-navet à chair jaune",
          "trèfle",
          "maïs doux",
          "figuier",
          "Chou navet",
          "chou chinois",
          "cognassier",
          "fenouil",
          "colza d'hiver",
          "engrais vert",
          "christophine",
          "oranger du Mexique",
          "lin fibre de printemps",
          "chou vert",
          "chanvre",
          "brède",
          "laitue romaine",
          "bananier musa",
          "fenugrec",
          "échalion",
          "blé dur d'hiver",
          "colza de printemps",
          "phacélie",
          "chou frisé",
          "combava",
          "betterave sucrière",
          "chou cabus rouge",
          "chou-rave",
          "arroche"
         ],
         "xaxis": "x",
         "y": [
          742,
          696,
          561,
          494,
          394,
          380,
          380,
          354,
          347,
          339,
          335,
          314,
          305,
          285,
          281,
          267,
          236,
          236,
          229,
          224,
          205,
          171,
          146,
          146,
          145,
          143,
          140,
          134,
          130,
          127,
          125,
          122,
          121,
          117,
          116,
          111,
          110,
          102,
          102,
          102,
          100,
          99,
          96,
          91,
          87,
          82,
          81,
          78,
          77,
          66,
          65,
          65,
          58,
          56,
          56,
          54,
          53,
          52,
          52,
          49,
          49,
          49,
          48,
          48,
          47,
          47,
          47,
          45,
          45,
          44,
          44,
          43,
          41,
          40,
          39,
          36,
          35,
          34,
          33,
          31,
          29,
          29,
          27,
          26,
          26,
          25,
          24,
          24,
          23,
          23,
          21,
          20,
          19,
          18,
          17,
          17,
          16,
          15,
          15,
          14,
          14,
          14,
          13,
          13,
          13,
          12,
          12,
          12,
          12,
          11,
          11,
          11,
          10,
          10,
          10,
          10,
          10,
          10,
          10,
          10,
          10,
          9,
          9,
          8,
          8,
          8,
          8,
          8,
          8,
          8,
          8,
          7,
          7,
          7,
          7,
          7,
          7,
          6,
          6,
          6,
          6,
          6,
          6,
          6,
          5,
          5,
          5,
          5,
          5,
          5,
          5,
          5,
          4,
          4,
          4,
          4,
          4,
          4,
          4,
          4,
          4,
          4,
          4,
          3,
          3,
          3,
          3,
          3,
          3,
          3,
          2,
          2,
          2,
          2,
          2,
          2,
          2,
          2,
          2,
          2,
          2,
          2,
          2,
          2,
          1,
          1,
          1,
          1,
          1,
          1,
          1,
          1,
          1,
          1,
          1,
          1,
          1,
          1,
          1,
          1,
          1,
          1
         ],
         "yaxis": "y"
        }
       ],
       "layout": {
        "legend": {
         "tracegroupgap": 0
        },
        "margin": {
         "t": 60
        },
        "template": {
         "data": {
          "bar": [
           {
            "error_x": {
             "color": "#2a3f5f"
            },
            "error_y": {
             "color": "#2a3f5f"
            },
            "marker": {
             "line": {
              "color": "#E5ECF6",
              "width": 0.5
             }
            },
            "type": "bar"
           }
          ],
          "barpolar": [
           {
            "marker": {
             "line": {
              "color": "#E5ECF6",
              "width": 0.5
             }
            },
            "type": "barpolar"
           }
          ],
          "carpet": [
           {
            "aaxis": {
             "endlinecolor": "#2a3f5f",
             "gridcolor": "white",
             "linecolor": "white",
             "minorgridcolor": "white",
             "startlinecolor": "#2a3f5f"
            },
            "baxis": {
             "endlinecolor": "#2a3f5f",
             "gridcolor": "white",
             "linecolor": "white",
             "minorgridcolor": "white",
             "startlinecolor": "#2a3f5f"
            },
            "type": "carpet"
           }
          ],
          "choropleth": [
           {
            "colorbar": {
             "outlinewidth": 0,
             "ticks": ""
            },
            "type": "choropleth"
           }
          ],
          "contour": [
           {
            "colorbar": {
             "outlinewidth": 0,
             "ticks": ""
            },
            "colorscale": [
             [
              0,
              "#0d0887"
             ],
             [
              0.1111111111111111,
              "#46039f"
             ],
             [
              0.2222222222222222,
              "#7201a8"
             ],
             [
              0.3333333333333333,
              "#9c179e"
             ],
             [
              0.4444444444444444,
              "#bd3786"
             ],
             [
              0.5555555555555556,
              "#d8576b"
             ],
             [
              0.6666666666666666,
              "#ed7953"
             ],
             [
              0.7777777777777778,
              "#fb9f3a"
             ],
             [
              0.8888888888888888,
              "#fdca26"
             ],
             [
              1,
              "#f0f921"
             ]
            ],
            "type": "contour"
           }
          ],
          "contourcarpet": [
           {
            "colorbar": {
             "outlinewidth": 0,
             "ticks": ""
            },
            "type": "contourcarpet"
           }
          ],
          "heatmap": [
           {
            "colorbar": {
             "outlinewidth": 0,
             "ticks": ""
            },
            "colorscale": [
             [
              0,
              "#0d0887"
             ],
             [
              0.1111111111111111,
              "#46039f"
             ],
             [
              0.2222222222222222,
              "#7201a8"
             ],
             [
              0.3333333333333333,
              "#9c179e"
             ],
             [
              0.4444444444444444,
              "#bd3786"
             ],
             [
              0.5555555555555556,
              "#d8576b"
             ],
             [
              0.6666666666666666,
              "#ed7953"
             ],
             [
              0.7777777777777778,
              "#fb9f3a"
             ],
             [
              0.8888888888888888,
              "#fdca26"
             ],
             [
              1,
              "#f0f921"
             ]
            ],
            "type": "heatmap"
           }
          ],
          "heatmapgl": [
           {
            "colorbar": {
             "outlinewidth": 0,
             "ticks": ""
            },
            "colorscale": [
             [
              0,
              "#0d0887"
             ],
             [
              0.1111111111111111,
              "#46039f"
             ],
             [
              0.2222222222222222,
              "#7201a8"
             ],
             [
              0.3333333333333333,
              "#9c179e"
             ],
             [
              0.4444444444444444,
              "#bd3786"
             ],
             [
              0.5555555555555556,
              "#d8576b"
             ],
             [
              0.6666666666666666,
              "#ed7953"
             ],
             [
              0.7777777777777778,
              "#fb9f3a"
             ],
             [
              0.8888888888888888,
              "#fdca26"
             ],
             [
              1,
              "#f0f921"
             ]
            ],
            "type": "heatmapgl"
           }
          ],
          "histogram": [
           {
            "marker": {
             "colorbar": {
              "outlinewidth": 0,
              "ticks": ""
             }
            },
            "type": "histogram"
           }
          ],
          "histogram2d": [
           {
            "colorbar": {
             "outlinewidth": 0,
             "ticks": ""
            },
            "colorscale": [
             [
              0,
              "#0d0887"
             ],
             [
              0.1111111111111111,
              "#46039f"
             ],
             [
              0.2222222222222222,
              "#7201a8"
             ],
             [
              0.3333333333333333,
              "#9c179e"
             ],
             [
              0.4444444444444444,
              "#bd3786"
             ],
             [
              0.5555555555555556,
              "#d8576b"
             ],
             [
              0.6666666666666666,
              "#ed7953"
             ],
             [
              0.7777777777777778,
              "#fb9f3a"
             ],
             [
              0.8888888888888888,
              "#fdca26"
             ],
             [
              1,
              "#f0f921"
             ]
            ],
            "type": "histogram2d"
           }
          ],
          "histogram2dcontour": [
           {
            "colorbar": {
             "outlinewidth": 0,
             "ticks": ""
            },
            "colorscale": [
             [
              0,
              "#0d0887"
             ],
             [
              0.1111111111111111,
              "#46039f"
             ],
             [
              0.2222222222222222,
              "#7201a8"
             ],
             [
              0.3333333333333333,
              "#9c179e"
             ],
             [
              0.4444444444444444,
              "#bd3786"
             ],
             [
              0.5555555555555556,
              "#d8576b"
             ],
             [
              0.6666666666666666,
              "#ed7953"
             ],
             [
              0.7777777777777778,
              "#fb9f3a"
             ],
             [
              0.8888888888888888,
              "#fdca26"
             ],
             [
              1,
              "#f0f921"
             ]
            ],
            "type": "histogram2dcontour"
           }
          ],
          "mesh3d": [
           {
            "colorbar": {
             "outlinewidth": 0,
             "ticks": ""
            },
            "type": "mesh3d"
           }
          ],
          "parcoords": [
           {
            "line": {
             "colorbar": {
              "outlinewidth": 0,
              "ticks": ""
             }
            },
            "type": "parcoords"
           }
          ],
          "pie": [
           {
            "automargin": true,
            "type": "pie"
           }
          ],
          "scatter": [
           {
            "marker": {
             "colorbar": {
              "outlinewidth": 0,
              "ticks": ""
             }
            },
            "type": "scatter"
           }
          ],
          "scatter3d": [
           {
            "line": {
             "colorbar": {
              "outlinewidth": 0,
              "ticks": ""
             }
            },
            "marker": {
             "colorbar": {
              "outlinewidth": 0,
              "ticks": ""
             }
            },
            "type": "scatter3d"
           }
          ],
          "scattercarpet": [
           {
            "marker": {
             "colorbar": {
              "outlinewidth": 0,
              "ticks": ""
             }
            },
            "type": "scattercarpet"
           }
          ],
          "scattergeo": [
           {
            "marker": {
             "colorbar": {
              "outlinewidth": 0,
              "ticks": ""
             }
            },
            "type": "scattergeo"
           }
          ],
          "scattergl": [
           {
            "marker": {
             "colorbar": {
              "outlinewidth": 0,
              "ticks": ""
             }
            },
            "type": "scattergl"
           }
          ],
          "scattermapbox": [
           {
            "marker": {
             "colorbar": {
              "outlinewidth": 0,
              "ticks": ""
             }
            },
            "type": "scattermapbox"
           }
          ],
          "scatterpolar": [
           {
            "marker": {
             "colorbar": {
              "outlinewidth": 0,
              "ticks": ""
             }
            },
            "type": "scatterpolar"
           }
          ],
          "scatterpolargl": [
           {
            "marker": {
             "colorbar": {
              "outlinewidth": 0,
              "ticks": ""
             }
            },
            "type": "scatterpolargl"
           }
          ],
          "scatterternary": [
           {
            "marker": {
             "colorbar": {
              "outlinewidth": 0,
              "ticks": ""
             }
            },
            "type": "scatterternary"
           }
          ],
          "surface": [
           {
            "colorbar": {
             "outlinewidth": 0,
             "ticks": ""
            },
            "colorscale": [
             [
              0,
              "#0d0887"
             ],
             [
              0.1111111111111111,
              "#46039f"
             ],
             [
              0.2222222222222222,
              "#7201a8"
             ],
             [
              0.3333333333333333,
              "#9c179e"
             ],
             [
              0.4444444444444444,
              "#bd3786"
             ],
             [
              0.5555555555555556,
              "#d8576b"
             ],
             [
              0.6666666666666666,
              "#ed7953"
             ],
             [
              0.7777777777777778,
              "#fb9f3a"
             ],
             [
              0.8888888888888888,
              "#fdca26"
             ],
             [
              1,
              "#f0f921"
             ]
            ],
            "type": "surface"
           }
          ],
          "table": [
           {
            "cells": {
             "fill": {
              "color": "#EBF0F8"
             },
             "line": {
              "color": "white"
             }
            },
            "header": {
             "fill": {
              "color": "#C8D4E3"
             },
             "line": {
              "color": "white"
             }
            },
            "type": "table"
           }
          ]
         },
         "layout": {
          "annotationdefaults": {
           "arrowcolor": "#2a3f5f",
           "arrowhead": 0,
           "arrowwidth": 1
          },
          "autotypenumbers": "strict",
          "coloraxis": {
           "colorbar": {
            "outlinewidth": 0,
            "ticks": ""
           }
          },
          "colorscale": {
           "diverging": [
            [
             0,
             "#8e0152"
            ],
            [
             0.1,
             "#c51b7d"
            ],
            [
             0.2,
             "#de77ae"
            ],
            [
             0.3,
             "#f1b6da"
            ],
            [
             0.4,
             "#fde0ef"
            ],
            [
             0.5,
             "#f7f7f7"
            ],
            [
             0.6,
             "#e6f5d0"
            ],
            [
             0.7,
             "#b8e186"
            ],
            [
             0.8,
             "#7fbc41"
            ],
            [
             0.9,
             "#4d9221"
            ],
            [
             1,
             "#276419"
            ]
           ],
           "sequential": [
            [
             0,
             "#0d0887"
            ],
            [
             0.1111111111111111,
             "#46039f"
            ],
            [
             0.2222222222222222,
             "#7201a8"
            ],
            [
             0.3333333333333333,
             "#9c179e"
            ],
            [
             0.4444444444444444,
             "#bd3786"
            ],
            [
             0.5555555555555556,
             "#d8576b"
            ],
            [
             0.6666666666666666,
             "#ed7953"
            ],
            [
             0.7777777777777778,
             "#fb9f3a"
            ],
            [
             0.8888888888888888,
             "#fdca26"
            ],
            [
             1,
             "#f0f921"
            ]
           ],
           "sequentialminus": [
            [
             0,
             "#0d0887"
            ],
            [
             0.1111111111111111,
             "#46039f"
            ],
            [
             0.2222222222222222,
             "#7201a8"
            ],
            [
             0.3333333333333333,
             "#9c179e"
            ],
            [
             0.4444444444444444,
             "#bd3786"
            ],
            [
             0.5555555555555556,
             "#d8576b"
            ],
            [
             0.6666666666666666,
             "#ed7953"
            ],
            [
             0.7777777777777778,
             "#fb9f3a"
            ],
            [
             0.8888888888888888,
             "#fdca26"
            ],
            [
             1,
             "#f0f921"
            ]
           ]
          },
          "colorway": [
           "#636efa",
           "#EF553B",
           "#00cc96",
           "#ab63fa",
           "#FFA15A",
           "#19d3f3",
           "#FF6692",
           "#B6E880",
           "#FF97FF",
           "#FECB52"
          ],
          "font": {
           "color": "#2a3f5f"
          },
          "geo": {
           "bgcolor": "white",
           "lakecolor": "white",
           "landcolor": "#E5ECF6",
           "showlakes": true,
           "showland": true,
           "subunitcolor": "white"
          },
          "hoverlabel": {
           "align": "left"
          },
          "hovermode": "closest",
          "mapbox": {
           "style": "light"
          },
          "paper_bgcolor": "white",
          "plot_bgcolor": "#E5ECF6",
          "polar": {
           "angularaxis": {
            "gridcolor": "white",
            "linecolor": "white",
            "ticks": ""
           },
           "bgcolor": "#E5ECF6",
           "radialaxis": {
            "gridcolor": "white",
            "linecolor": "white",
            "ticks": ""
           }
          },
          "scene": {
           "xaxis": {
            "backgroundcolor": "#E5ECF6",
            "gridcolor": "white",
            "gridwidth": 2,
            "linecolor": "white",
            "showbackground": true,
            "ticks": "",
            "zerolinecolor": "white"
           },
           "yaxis": {
            "backgroundcolor": "#E5ECF6",
            "gridcolor": "white",
            "gridwidth": 2,
            "linecolor": "white",
            "showbackground": true,
            "ticks": "",
            "zerolinecolor": "white"
           },
           "zaxis": {
            "backgroundcolor": "#E5ECF6",
            "gridcolor": "white",
            "gridwidth": 2,
            "linecolor": "white",
            "showbackground": true,
            "ticks": "",
            "zerolinecolor": "white"
           }
          },
          "shapedefaults": {
           "line": {
            "color": "#2a3f5f"
           }
          },
          "ternary": {
           "aaxis": {
            "gridcolor": "white",
            "linecolor": "white",
            "ticks": ""
           },
           "baxis": {
            "gridcolor": "white",
            "linecolor": "white",
            "ticks": ""
           },
           "bgcolor": "#E5ECF6",
           "caxis": {
            "gridcolor": "white",
            "linecolor": "white",
            "ticks": ""
           }
          },
          "title": {
           "x": 0.05
          },
          "xaxis": {
           "automargin": true,
           "gridcolor": "white",
           "linecolor": "white",
           "ticks": "",
           "title": {
            "standoff": 15
           },
           "zerolinecolor": "white",
           "zerolinewidth": 2
          },
          "yaxis": {
           "automargin": true,
           "gridcolor": "white",
           "linecolor": "white",
           "ticks": "",
           "title": {
            "standoff": 15
           },
           "zerolinecolor": "white",
           "zerolinewidth": 2
          }
         }
        },
        "xaxis": {
         "anchor": "y",
         "domain": [
          0,
          1
         ],
         "title": {
          "text": "prefLabel"
         }
        },
        "yaxis": {
         "anchor": "x",
         "domain": [
          0,
          1
         ],
         "title": {
          "text": "count"
         }
        }
       }
      },
      "text/html": [
       "<div>                            <div id=\"376506ac-40e6-418d-97a1-f353e10d6a51\" class=\"plotly-graph-div\" style=\"height:525px; width:100%;\"></div>            <script type=\"text/javascript\">                require([\"plotly\"], function(Plotly) {                    window.PLOTLYENV=window.PLOTLYENV || {};                                    if (document.getElementById(\"376506ac-40e6-418d-97a1-f353e10d6a51\")) {                    Plotly.newPlot(                        \"376506ac-40e6-418d-97a1-f353e10d6a51\",                        [{\"hovertemplate\": \"prefLabel=%{x}<br>count=%{y}<extra></extra>\", \"legendgroup\": \"\", \"marker\": {\"color\": \"#636efa\", \"symbol\": \"circle\"}, \"mode\": \"markers\", \"name\": \"\", \"orientation\": \"v\", \"showlegend\": false, \"type\": \"scatter\", \"x\": [\"pommier\", \"colza\", \"arboriculture fruiti\\u00e8re\", \"pois\", \"bl\\u00e9\", \"chou\", \"chou potager\", \"c\\u00e9r\\u00e9ale\", \"floriculture\", \"poirier\", \"zone non agricole\", \"vigne\", \"carotte\", \"arboriculture\", \"lin\", \"ma\\u00efs\", \"oignon\", \"culture l\\u00e9gumi\\u00e8re\", \"poireau\", \"f\\u00e9verole\", \"pomme de terre\", \"betterave\", \"ol\\u00e9agineux\", \"c\\u00e9leri\", \"salade\", \"prunier\", \"c\\u00e9r\\u00e9ale \\u00e0 paille\", \"tomate\", \"tournesol\", \"jardin\", \"lin ol\\u00e9agineux\", \"orge\", \"noyer\", \"prot\\u00e9agineux\", \"p\\u00eacher\", \"fraisier\", \"cerisier\", \"bl\\u00e9 tendre\", \"rosier\", \"semence\", \"pois prot\\u00e9agineux de printemps\", \"culture fruiti\\u00e8re\", \"persil\", \"l\\u00e9gume \\u00e0 graines ou \\u00e0 gousses\", \"ch\\u00e2taignier\", \"horticulture ornementale\", \"poir\\u00e9e\", \"laitue\", \"melon\", \"pois prot\\u00e9agineux d'hiver\", \"concombre\", \"radis\", \"courgette\", \"aubergine\", \"arbuste \\u00e0 baies\", \"abricotier\", \"chicor\\u00e9e endive\", \"ch\\u00eane\", \"navet potager\", \"pois prot\\u00e9agineux\", \"m\\u00e2che\", \"bl\\u00e9 dur\", \"framboisier\", \"oranger\", \"agrume\", \"lin ol\\u00e9agineux d'hiver\", \"chicor\\u00e9e de Bruxelle\", \"actinidia\", \"prairie\", \"chrysanth\\u00e8me\", \"mara\\u00eechage\", \"g\\u00e9ranium\", \"haricot\", \"poivron\", \"triticale\", \"laitue batavia\", \"vigne de table\", \"\\u00e9chalote\", \"rosier ornemental\", \"pomme de terre potag\\u00e8re\", \"lin ol\\u00e9agineux de printemps\", \"f\\u00e9verole de printemps\", \"orge d'hiver\", \"ail\", \"laurier\", \"f\\u00e9verole d'hiver\", \"olivier\", \"bl\\u00e9 tendre d'hiver\", \"cresson\", \"asperge\", \"ciboulette\", \"orge de printemps\", \"haricot vert\", \"panais\", \"petit fruit\", \"roquette\", \"jardins familiaux\", \"laitue \\u00e0 couper\", \"tabac\", \"cerfeuil\", \"bananier\", \"seigle\", \"haricot demi-sec\", \"soja\", \"ma\\u00efs grain\", \"pomme de terre f\\u00e9culi\\u00e8re\", \"luzerne\", \"f\\u00e8ve\", \"cl\\u00e9mentinier\", \"amandier\", \"piment\", \"vigne de cuve\", \"bananier plantain\", \"ananas\", \"\\u00e9pinard\", \"olivier fruit \\u00e0 noyaux\", \"betterave potag\\u00e8re\", \"c\\u00e9leri-rave\", \"photinie\", \"groseillier\", \"chou brocoli\", \"scorson\\u00e8re\", \"artichaut\", \"chou-fleur\", \"canne \\u00e0 sucre\", \"culture fourrag\\u00e8re\", \"c\\u00e9r\\u00e9ale fourrag\\u00e8re\", \"poinsettia\", \"moutarde\", \"courge\", \"manguier\", \"sorgho\", \"chicor\\u00e9e\", \"limettier\", \"sorgho grain\", \"chicor\\u00e9e scarole\", \"chou de Bruxelles\", \"myrtille\", \"plante \\u00e0 fibre\", \"arbre \\u00e0 fruits \\u00e0 coques\", \"goyavier\", \"lin \\u00e0 fibres\", \"pomelo\", \"ray-grass\", \"c\\u00e9leri \\u00e0 cotes\", \"arbre fruitier \\u00e0 noyau\", \"millet\", \"orge \\u00e0 six rangs\", \"culture l\\u00e9gumi\\u00e8re de plein champ\", \"Chou cabus blanc\", \"avoine\", \"riz\", \"chou pomm\\u00e9\", \"cassissier\", \"fourrage annuel\", \"tangor\", \"noisetier\", \"citronnier\", \"gel\", \"chou de Milan\", \"mandarinier\", \"pissenlit\", \"laitue beurre pomm\\u00e9e\", \"chou commun\", \"culture industrielle\", \"palmier\", \"gerbera\", \"ma\\u00efs fourrage\", \"cerfeuil tub\\u00e9reux\", \"calebasse\", \"surface toujours en herbe\", \"rhubarbe\", \"lavande\", \"chou-navet \\u00e0 chair jaune\", \"tr\\u00e8fle\", \"ma\\u00efs doux\", \"figuier\", \"Chou navet\", \"chou chinois\", \"cognassier\", \"fenouil\", \"colza d'hiver\", \"engrais vert\", \"christophine\", \"oranger du Mexique\", \"lin fibre de printemps\", \"chou vert\", \"chanvre\", \"br\\u00e8de\", \"laitue romaine\", \"bananier musa\", \"fenugrec\", \"\\u00e9chalion\", \"bl\\u00e9 dur d'hiver\", \"colza de printemps\", \"phac\\u00e9lie\", \"chou fris\\u00e9\", \"combava\", \"betterave sucri\\u00e8re\", \"chou cabus rouge\", \"chou-rave\", \"arroche\"], \"xaxis\": \"x\", \"y\": [742, 696, 561, 494, 394, 380, 380, 354, 347, 339, 335, 314, 305, 285, 281, 267, 236, 236, 229, 224, 205, 171, 146, 146, 145, 143, 140, 134, 130, 127, 125, 122, 121, 117, 116, 111, 110, 102, 102, 102, 100, 99, 96, 91, 87, 82, 81, 78, 77, 66, 65, 65, 58, 56, 56, 54, 53, 52, 52, 49, 49, 49, 48, 48, 47, 47, 47, 45, 45, 44, 44, 43, 41, 40, 39, 36, 35, 34, 33, 31, 29, 29, 27, 26, 26, 25, 24, 24, 23, 23, 21, 20, 19, 18, 17, 17, 16, 15, 15, 14, 14, 14, 13, 13, 13, 12, 12, 12, 12, 11, 11, 11, 10, 10, 10, 10, 10, 10, 10, 10, 10, 9, 9, 8, 8, 8, 8, 8, 8, 8, 8, 7, 7, 7, 7, 7, 7, 6, 6, 6, 6, 6, 6, 6, 5, 5, 5, 5, 5, 5, 5, 5, 4, 4, 4, 4, 4, 4, 4, 4, 4, 4, 4, 3, 3, 3, 3, 3, 3, 3, 2, 2, 2, 2, 2, 2, 2, 2, 2, 2, 2, 2, 2, 2, 1, 1, 1, 1, 1, 1, 1, 1, 1, 1, 1, 1, 1, 1, 1, 1, 1, 1], \"yaxis\": \"y\"}],                        {\"legend\": {\"tracegroupgap\": 0}, \"margin\": {\"t\": 60}, \"template\": {\"data\": {\"bar\": [{\"error_x\": {\"color\": \"#2a3f5f\"}, \"error_y\": {\"color\": \"#2a3f5f\"}, \"marker\": {\"line\": {\"color\": \"#E5ECF6\", \"width\": 0.5}}, \"type\": \"bar\"}], \"barpolar\": [{\"marker\": {\"line\": {\"color\": \"#E5ECF6\", \"width\": 0.5}}, \"type\": \"barpolar\"}], \"carpet\": [{\"aaxis\": {\"endlinecolor\": \"#2a3f5f\", \"gridcolor\": \"white\", \"linecolor\": \"white\", \"minorgridcolor\": \"white\", \"startlinecolor\": \"#2a3f5f\"}, \"baxis\": {\"endlinecolor\": \"#2a3f5f\", \"gridcolor\": \"white\", \"linecolor\": \"white\", \"minorgridcolor\": \"white\", \"startlinecolor\": \"#2a3f5f\"}, \"type\": \"carpet\"}], \"choropleth\": [{\"colorbar\": {\"outlinewidth\": 0, \"ticks\": \"\"}, \"type\": \"choropleth\"}], \"contour\": [{\"colorbar\": {\"outlinewidth\": 0, \"ticks\": \"\"}, \"colorscale\": [[0.0, \"#0d0887\"], [0.1111111111111111, \"#46039f\"], [0.2222222222222222, \"#7201a8\"], [0.3333333333333333, \"#9c179e\"], [0.4444444444444444, \"#bd3786\"], [0.5555555555555556, \"#d8576b\"], [0.6666666666666666, \"#ed7953\"], [0.7777777777777778, \"#fb9f3a\"], [0.8888888888888888, \"#fdca26\"], [1.0, \"#f0f921\"]], \"type\": \"contour\"}], \"contourcarpet\": [{\"colorbar\": {\"outlinewidth\": 0, \"ticks\": \"\"}, \"type\": \"contourcarpet\"}], \"heatmap\": [{\"colorbar\": {\"outlinewidth\": 0, \"ticks\": \"\"}, \"colorscale\": [[0.0, \"#0d0887\"], [0.1111111111111111, \"#46039f\"], [0.2222222222222222, \"#7201a8\"], [0.3333333333333333, \"#9c179e\"], [0.4444444444444444, \"#bd3786\"], [0.5555555555555556, \"#d8576b\"], [0.6666666666666666, \"#ed7953\"], [0.7777777777777778, \"#fb9f3a\"], [0.8888888888888888, \"#fdca26\"], [1.0, \"#f0f921\"]], \"type\": \"heatmap\"}], \"heatmapgl\": [{\"colorbar\": {\"outlinewidth\": 0, \"ticks\": \"\"}, \"colorscale\": [[0.0, \"#0d0887\"], [0.1111111111111111, \"#46039f\"], [0.2222222222222222, \"#7201a8\"], [0.3333333333333333, \"#9c179e\"], [0.4444444444444444, \"#bd3786\"], [0.5555555555555556, \"#d8576b\"], [0.6666666666666666, \"#ed7953\"], [0.7777777777777778, \"#fb9f3a\"], [0.8888888888888888, \"#fdca26\"], [1.0, \"#f0f921\"]], \"type\": \"heatmapgl\"}], \"histogram\": [{\"marker\": {\"colorbar\": {\"outlinewidth\": 0, \"ticks\": \"\"}}, \"type\": \"histogram\"}], \"histogram2d\": [{\"colorbar\": {\"outlinewidth\": 0, \"ticks\": \"\"}, \"colorscale\": [[0.0, \"#0d0887\"], [0.1111111111111111, \"#46039f\"], [0.2222222222222222, \"#7201a8\"], [0.3333333333333333, \"#9c179e\"], [0.4444444444444444, \"#bd3786\"], [0.5555555555555556, \"#d8576b\"], [0.6666666666666666, \"#ed7953\"], [0.7777777777777778, \"#fb9f3a\"], [0.8888888888888888, \"#fdca26\"], [1.0, \"#f0f921\"]], \"type\": \"histogram2d\"}], \"histogram2dcontour\": [{\"colorbar\": {\"outlinewidth\": 0, \"ticks\": \"\"}, \"colorscale\": [[0.0, \"#0d0887\"], [0.1111111111111111, \"#46039f\"], [0.2222222222222222, \"#7201a8\"], [0.3333333333333333, \"#9c179e\"], [0.4444444444444444, \"#bd3786\"], [0.5555555555555556, \"#d8576b\"], [0.6666666666666666, \"#ed7953\"], [0.7777777777777778, \"#fb9f3a\"], [0.8888888888888888, \"#fdca26\"], [1.0, \"#f0f921\"]], \"type\": \"histogram2dcontour\"}], \"mesh3d\": [{\"colorbar\": {\"outlinewidth\": 0, \"ticks\": \"\"}, \"type\": \"mesh3d\"}], \"parcoords\": [{\"line\": {\"colorbar\": {\"outlinewidth\": 0, \"ticks\": \"\"}}, \"type\": \"parcoords\"}], \"pie\": [{\"automargin\": true, \"type\": \"pie\"}], \"scatter\": [{\"marker\": {\"colorbar\": {\"outlinewidth\": 0, \"ticks\": \"\"}}, \"type\": \"scatter\"}], \"scatter3d\": [{\"line\": {\"colorbar\": {\"outlinewidth\": 0, \"ticks\": \"\"}}, \"marker\": {\"colorbar\": {\"outlinewidth\": 0, \"ticks\": \"\"}}, \"type\": \"scatter3d\"}], \"scattercarpet\": [{\"marker\": {\"colorbar\": {\"outlinewidth\": 0, \"ticks\": \"\"}}, \"type\": \"scattercarpet\"}], \"scattergeo\": [{\"marker\": {\"colorbar\": {\"outlinewidth\": 0, \"ticks\": \"\"}}, \"type\": \"scattergeo\"}], \"scattergl\": [{\"marker\": {\"colorbar\": {\"outlinewidth\": 0, \"ticks\": \"\"}}, \"type\": \"scattergl\"}], \"scattermapbox\": [{\"marker\": {\"colorbar\": {\"outlinewidth\": 0, \"ticks\": \"\"}}, \"type\": \"scattermapbox\"}], \"scatterpolar\": [{\"marker\": {\"colorbar\": {\"outlinewidth\": 0, \"ticks\": \"\"}}, \"type\": \"scatterpolar\"}], \"scatterpolargl\": [{\"marker\": {\"colorbar\": {\"outlinewidth\": 0, \"ticks\": \"\"}}, \"type\": \"scatterpolargl\"}], \"scatterternary\": [{\"marker\": {\"colorbar\": {\"outlinewidth\": 0, \"ticks\": \"\"}}, \"type\": \"scatterternary\"}], \"surface\": [{\"colorbar\": {\"outlinewidth\": 0, \"ticks\": \"\"}, \"colorscale\": [[0.0, \"#0d0887\"], [0.1111111111111111, \"#46039f\"], [0.2222222222222222, \"#7201a8\"], [0.3333333333333333, \"#9c179e\"], [0.4444444444444444, \"#bd3786\"], [0.5555555555555556, \"#d8576b\"], [0.6666666666666666, \"#ed7953\"], [0.7777777777777778, \"#fb9f3a\"], [0.8888888888888888, \"#fdca26\"], [1.0, \"#f0f921\"]], \"type\": \"surface\"}], \"table\": [{\"cells\": {\"fill\": {\"color\": \"#EBF0F8\"}, \"line\": {\"color\": \"white\"}}, \"header\": {\"fill\": {\"color\": \"#C8D4E3\"}, \"line\": {\"color\": \"white\"}}, \"type\": \"table\"}]}, \"layout\": {\"annotationdefaults\": {\"arrowcolor\": \"#2a3f5f\", \"arrowhead\": 0, \"arrowwidth\": 1}, \"autotypenumbers\": \"strict\", \"coloraxis\": {\"colorbar\": {\"outlinewidth\": 0, \"ticks\": \"\"}}, \"colorscale\": {\"diverging\": [[0, \"#8e0152\"], [0.1, \"#c51b7d\"], [0.2, \"#de77ae\"], [0.3, \"#f1b6da\"], [0.4, \"#fde0ef\"], [0.5, \"#f7f7f7\"], [0.6, \"#e6f5d0\"], [0.7, \"#b8e186\"], [0.8, \"#7fbc41\"], [0.9, \"#4d9221\"], [1, \"#276419\"]], \"sequential\": [[0.0, \"#0d0887\"], [0.1111111111111111, \"#46039f\"], [0.2222222222222222, \"#7201a8\"], [0.3333333333333333, \"#9c179e\"], [0.4444444444444444, \"#bd3786\"], [0.5555555555555556, \"#d8576b\"], [0.6666666666666666, \"#ed7953\"], [0.7777777777777778, \"#fb9f3a\"], [0.8888888888888888, \"#fdca26\"], [1.0, \"#f0f921\"]], \"sequentialminus\": [[0.0, \"#0d0887\"], [0.1111111111111111, \"#46039f\"], [0.2222222222222222, \"#7201a8\"], [0.3333333333333333, \"#9c179e\"], [0.4444444444444444, \"#bd3786\"], [0.5555555555555556, \"#d8576b\"], [0.6666666666666666, \"#ed7953\"], [0.7777777777777778, \"#fb9f3a\"], [0.8888888888888888, \"#fdca26\"], [1.0, \"#f0f921\"]]}, \"colorway\": [\"#636efa\", \"#EF553B\", \"#00cc96\", \"#ab63fa\", \"#FFA15A\", \"#19d3f3\", \"#FF6692\", \"#B6E880\", \"#FF97FF\", \"#FECB52\"], \"font\": {\"color\": \"#2a3f5f\"}, \"geo\": {\"bgcolor\": \"white\", \"lakecolor\": \"white\", \"landcolor\": \"#E5ECF6\", \"showlakes\": true, \"showland\": true, \"subunitcolor\": \"white\"}, \"hoverlabel\": {\"align\": \"left\"}, \"hovermode\": \"closest\", \"mapbox\": {\"style\": \"light\"}, \"paper_bgcolor\": \"white\", \"plot_bgcolor\": \"#E5ECF6\", \"polar\": {\"angularaxis\": {\"gridcolor\": \"white\", \"linecolor\": \"white\", \"ticks\": \"\"}, \"bgcolor\": \"#E5ECF6\", \"radialaxis\": {\"gridcolor\": \"white\", \"linecolor\": \"white\", \"ticks\": \"\"}}, \"scene\": {\"xaxis\": {\"backgroundcolor\": \"#E5ECF6\", \"gridcolor\": \"white\", \"gridwidth\": 2, \"linecolor\": \"white\", \"showbackground\": true, \"ticks\": \"\", \"zerolinecolor\": \"white\"}, \"yaxis\": {\"backgroundcolor\": \"#E5ECF6\", \"gridcolor\": \"white\", \"gridwidth\": 2, \"linecolor\": \"white\", \"showbackground\": true, \"ticks\": \"\", \"zerolinecolor\": \"white\"}, \"zaxis\": {\"backgroundcolor\": \"#E5ECF6\", \"gridcolor\": \"white\", \"gridwidth\": 2, \"linecolor\": \"white\", \"showbackground\": true, \"ticks\": \"\", \"zerolinecolor\": \"white\"}}, \"shapedefaults\": {\"line\": {\"color\": \"#2a3f5f\"}}, \"ternary\": {\"aaxis\": {\"gridcolor\": \"white\", \"linecolor\": \"white\", \"ticks\": \"\"}, \"baxis\": {\"gridcolor\": \"white\", \"linecolor\": \"white\", \"ticks\": \"\"}, \"bgcolor\": \"#E5ECF6\", \"caxis\": {\"gridcolor\": \"white\", \"linecolor\": \"white\", \"ticks\": \"\"}}, \"title\": {\"x\": 0.05}, \"xaxis\": {\"automargin\": true, \"gridcolor\": \"white\", \"linecolor\": \"white\", \"ticks\": \"\", \"title\": {\"standoff\": 15}, \"zerolinecolor\": \"white\", \"zerolinewidth\": 2}, \"yaxis\": {\"automargin\": true, \"gridcolor\": \"white\", \"linecolor\": \"white\", \"ticks\": \"\", \"title\": {\"standoff\": 15}, \"zerolinecolor\": \"white\", \"zerolinewidth\": 2}}}, \"xaxis\": {\"anchor\": \"y\", \"domain\": [0.0, 1.0], \"title\": {\"text\": \"prefLabel\"}}, \"yaxis\": {\"anchor\": \"x\", \"domain\": [0.0, 1.0], \"title\": {\"text\": \"count\"}}},                        {\"responsive\": true}                    ).then(function(){\n",
       "                            \n",
       "var gd = document.getElementById('376506ac-40e6-418d-97a1-f353e10d6a51');\n",
       "var x = new MutationObserver(function (mutations, observer) {{\n",
       "        var display = window.getComputedStyle(gd).display;\n",
       "        if (!display || display === 'none') {{\n",
       "            console.log([gd, 'removed!']);\n",
       "            Plotly.purge(gd);\n",
       "            observer.disconnect();\n",
       "        }}\n",
       "}});\n",
       "\n",
       "// Listen for the removal of the full notebook cells\n",
       "var notebookContainer = gd.closest('#notebook-container');\n",
       "if (notebookContainer) {{\n",
       "    x.observe(notebookContainer, {childList: true});\n",
       "}}\n",
       "\n",
       "// Listen for the clearing of the current output cell\n",
       "var outputEl = gd.closest('.output');\n",
       "if (outputEl) {{\n",
       "    x.observe(outputEl, {childList: true});\n",
       "}}\n",
       "\n",
       "                        })                };                });            </script>        </div>"
      ]
     },
     "metadata": {},
     "output_type": "display_data"
    },
    {
     "data": {
      "application/vnd.plotly.v1+json": {
       "config": {
        "plotlyServerURL": "https://plotly.com"
       },
       "data": [
        {
         "branchvalues": "total",
         "domain": {
          "x": [
           0,
           1
          ],
          "y": [
           0,
           1
          ]
         },
         "hovertemplate": "labels=%{label}<br>count=%{value}<br>parent=%{parent}<br>id=%{id}<extra></extra>",
         "ids": [
          "0",
          "1",
          "2",
          "3",
          "4",
          "5",
          "6",
          "7",
          "8",
          "9",
          "10",
          "11",
          "12",
          "13",
          "14",
          "15",
          "16",
          "17",
          "18",
          "19",
          "20",
          "21",
          "22",
          "23",
          "24",
          "25",
          "26",
          "27",
          "28",
          "29",
          "30",
          "31",
          "32",
          "33",
          "34",
          "35",
          "36",
          "37",
          "38",
          "39",
          "40",
          "41",
          "42",
          "43",
          "44",
          "45",
          "46",
          "47",
          "48",
          "49",
          "50",
          "51",
          "52",
          "53",
          "54",
          "55",
          "56",
          "57",
          "58",
          "59",
          "60",
          "61",
          "62",
          "63",
          "64",
          "65",
          "66",
          "67",
          "68",
          "69",
          "70",
          "71",
          "72",
          "73",
          "74",
          "75",
          "76",
          "77",
          "78",
          "79",
          "80",
          "81",
          "82",
          "83",
          "84",
          "85",
          "86",
          "87",
          "88",
          "89",
          "90",
          "91",
          "92",
          "93",
          "94",
          "95",
          "96",
          "97",
          "98",
          "99",
          "100",
          "101",
          "102",
          "103",
          "104",
          "105",
          "106",
          "107",
          "108",
          "109",
          "110",
          "111",
          "112",
          "113",
          "114",
          "115",
          "116",
          "117",
          "118",
          "119",
          "120",
          "121",
          "122",
          "123",
          "124",
          "125",
          "126",
          "127",
          "128",
          "129",
          "130",
          "131",
          "132",
          "133",
          "134",
          "135",
          "136",
          "137",
          "138",
          "139",
          "140",
          "141",
          "142",
          "143",
          "144",
          "145",
          "146",
          "147",
          "148",
          "149",
          "150",
          "151",
          "152",
          "153",
          "154",
          "155",
          "156",
          "157",
          "158",
          "159",
          "160",
          "161",
          "162",
          "163",
          "164",
          "165",
          "166",
          "167",
          "168",
          "169",
          "170",
          "171",
          "172",
          "173",
          "174",
          "175",
          "176",
          "177",
          "178",
          "179",
          "180",
          "181",
          "182",
          "183",
          "184",
          "185",
          "186",
          "187",
          "188",
          "189",
          "190",
          "191",
          "192",
          "193",
          "194",
          "195",
          "196",
          "197",
          "198",
          "199",
          "200",
          "201"
         ],
         "labels": [
          "0",
          "1",
          "2",
          "3",
          "4",
          "5",
          "6",
          "7",
          "8",
          "9",
          "10",
          "11",
          "12",
          "13",
          "14",
          "15",
          "16",
          "17",
          "18",
          "19",
          "20",
          "21",
          "22",
          "23",
          "24",
          "25",
          "26",
          "27",
          "28",
          "29",
          "30",
          "31",
          "32",
          "33",
          "34",
          "35",
          "36",
          "37",
          "38",
          "39",
          "40",
          "41",
          "42",
          "43",
          "44",
          "45",
          "46",
          "47",
          "48",
          "49",
          "50",
          "51",
          "52",
          "53",
          "54",
          "55",
          "56",
          "57",
          "58",
          "59",
          "60",
          "61",
          "62",
          "63",
          "64",
          "65",
          "66",
          "67",
          "68",
          "69",
          "70",
          "71",
          "72",
          "73",
          "74",
          "75",
          "76",
          "77",
          "78",
          "79",
          "80",
          "81",
          "82",
          "83",
          "84",
          "85",
          "86",
          "87",
          "88",
          "89",
          "90",
          "91",
          "92",
          "93",
          "94",
          "95",
          "96",
          "97",
          "98",
          "99",
          "100",
          "101",
          "102",
          "103",
          "104",
          "105",
          "106",
          "107",
          "108",
          "109",
          "110",
          "111",
          "112",
          "113",
          "114",
          "115",
          "116",
          "117",
          "118",
          "119",
          "120",
          "121",
          "122",
          "123",
          "124",
          "125",
          "126",
          "127",
          "128",
          "129",
          "130",
          "131",
          "132",
          "133",
          "134",
          "135",
          "136",
          "137",
          "138",
          "139",
          "140",
          "141",
          "142",
          "143",
          "144",
          "145",
          "146",
          "147",
          "148",
          "149",
          "150",
          "151",
          "152",
          "153",
          "154",
          "155",
          "156",
          "157",
          "158",
          "159",
          "160",
          "161",
          "162",
          "163",
          "164",
          "165",
          "166",
          "167",
          "168",
          "169",
          "170",
          "171",
          "172",
          "173",
          "174",
          "175",
          "176",
          "177",
          "178",
          "179",
          "180",
          "181",
          "182",
          "183",
          "184",
          "185",
          "186",
          "187",
          "188",
          "189",
          "190",
          "191",
          "192",
          "193",
          "194",
          "195",
          "196",
          "197",
          "198",
          "199",
          "200",
          "201"
         ],
         "name": "",
         "parents": [
          "",
          "",
          "",
          "",
          "",
          "",
          "",
          "",
          "",
          "",
          "",
          "",
          "",
          "",
          "",
          "",
          "",
          "",
          "",
          "",
          "",
          "",
          "",
          "",
          "",
          "",
          "",
          "",
          "",
          "",
          "",
          "",
          "",
          "",
          "",
          "",
          "",
          "",
          "",
          "",
          "",
          "",
          "",
          "",
          "",
          "",
          "",
          "",
          "",
          "",
          "",
          "",
          "",
          "",
          "",
          "",
          "",
          "",
          "",
          "",
          "",
          "",
          "",
          "",
          "",
          "",
          "",
          "",
          "",
          "",
          "",
          "",
          "",
          "",
          "",
          "",
          "",
          "",
          "",
          "",
          "",
          "",
          "",
          "",
          "",
          "",
          "",
          "",
          "",
          "",
          "",
          "",
          "",
          "",
          "",
          "",
          "",
          "",
          "",
          "",
          "",
          "",
          "",
          "",
          "",
          "",
          "",
          "",
          "",
          "",
          "",
          "",
          "",
          "",
          "",
          "",
          "",
          "",
          "",
          "",
          "",
          "",
          "",
          "",
          "",
          "",
          "",
          "",
          "",
          "",
          "",
          "",
          "",
          "",
          "",
          "",
          "",
          "",
          "",
          "",
          "",
          "",
          "",
          "",
          "",
          "",
          "",
          "",
          "",
          "",
          "",
          "",
          "",
          "",
          "",
          "",
          "",
          "",
          "",
          "",
          "",
          "",
          "",
          "",
          "",
          "",
          "",
          "",
          "",
          "",
          "",
          "",
          "",
          "",
          "",
          "",
          "",
          "",
          "",
          "",
          "",
          "",
          "",
          "",
          "",
          "",
          "",
          "",
          "",
          "",
          "",
          "",
          "",
          "",
          "",
          "",
          "",
          "",
          "",
          "",
          "",
          ""
         ],
         "type": "treemap",
         "values": [
          742,
          696,
          561,
          494,
          394,
          380,
          380,
          354,
          347,
          339,
          335,
          314,
          305,
          285,
          281,
          267,
          236,
          236,
          229,
          224,
          205,
          171,
          146,
          146,
          145,
          143,
          140,
          134,
          130,
          127,
          125,
          122,
          121,
          117,
          116,
          111,
          110,
          102,
          102,
          102,
          100,
          99,
          96,
          91,
          87,
          82,
          81,
          78,
          77,
          66,
          65,
          65,
          58,
          56,
          56,
          54,
          53,
          52,
          52,
          49,
          49,
          49,
          48,
          48,
          47,
          47,
          47,
          45,
          45,
          44,
          44,
          43,
          41,
          40,
          39,
          36,
          35,
          34,
          33,
          31,
          29,
          29,
          27,
          26,
          26,
          25,
          24,
          24,
          23,
          23,
          21,
          20,
          19,
          18,
          17,
          17,
          16,
          15,
          15,
          14,
          14,
          14,
          13,
          13,
          13,
          12,
          12,
          12,
          12,
          11,
          11,
          11,
          10,
          10,
          10,
          10,
          10,
          10,
          10,
          10,
          10,
          9,
          9,
          8,
          8,
          8,
          8,
          8,
          8,
          8,
          8,
          7,
          7,
          7,
          7,
          7,
          7,
          6,
          6,
          6,
          6,
          6,
          6,
          6,
          5,
          5,
          5,
          5,
          5,
          5,
          5,
          5,
          4,
          4,
          4,
          4,
          4,
          4,
          4,
          4,
          4,
          4,
          4,
          3,
          3,
          3,
          3,
          3,
          3,
          3,
          2,
          2,
          2,
          2,
          2,
          2,
          2,
          2,
          2,
          2,
          2,
          2,
          2,
          2,
          1,
          1,
          1,
          1,
          1,
          1,
          1,
          1,
          1,
          1,
          1,
          1,
          1,
          1,
          1,
          1,
          1,
          1
         ]
        }
       ],
       "layout": {
        "legend": {
         "tracegroupgap": 0
        },
        "margin": {
         "t": 60
        },
        "template": {
         "data": {
          "bar": [
           {
            "error_x": {
             "color": "#2a3f5f"
            },
            "error_y": {
             "color": "#2a3f5f"
            },
            "marker": {
             "line": {
              "color": "#E5ECF6",
              "width": 0.5
             }
            },
            "type": "bar"
           }
          ],
          "barpolar": [
           {
            "marker": {
             "line": {
              "color": "#E5ECF6",
              "width": 0.5
             }
            },
            "type": "barpolar"
           }
          ],
          "carpet": [
           {
            "aaxis": {
             "endlinecolor": "#2a3f5f",
             "gridcolor": "white",
             "linecolor": "white",
             "minorgridcolor": "white",
             "startlinecolor": "#2a3f5f"
            },
            "baxis": {
             "endlinecolor": "#2a3f5f",
             "gridcolor": "white",
             "linecolor": "white",
             "minorgridcolor": "white",
             "startlinecolor": "#2a3f5f"
            },
            "type": "carpet"
           }
          ],
          "choropleth": [
           {
            "colorbar": {
             "outlinewidth": 0,
             "ticks": ""
            },
            "type": "choropleth"
           }
          ],
          "contour": [
           {
            "colorbar": {
             "outlinewidth": 0,
             "ticks": ""
            },
            "colorscale": [
             [
              0,
              "#0d0887"
             ],
             [
              0.1111111111111111,
              "#46039f"
             ],
             [
              0.2222222222222222,
              "#7201a8"
             ],
             [
              0.3333333333333333,
              "#9c179e"
             ],
             [
              0.4444444444444444,
              "#bd3786"
             ],
             [
              0.5555555555555556,
              "#d8576b"
             ],
             [
              0.6666666666666666,
              "#ed7953"
             ],
             [
              0.7777777777777778,
              "#fb9f3a"
             ],
             [
              0.8888888888888888,
              "#fdca26"
             ],
             [
              1,
              "#f0f921"
             ]
            ],
            "type": "contour"
           }
          ],
          "contourcarpet": [
           {
            "colorbar": {
             "outlinewidth": 0,
             "ticks": ""
            },
            "type": "contourcarpet"
           }
          ],
          "heatmap": [
           {
            "colorbar": {
             "outlinewidth": 0,
             "ticks": ""
            },
            "colorscale": [
             [
              0,
              "#0d0887"
             ],
             [
              0.1111111111111111,
              "#46039f"
             ],
             [
              0.2222222222222222,
              "#7201a8"
             ],
             [
              0.3333333333333333,
              "#9c179e"
             ],
             [
              0.4444444444444444,
              "#bd3786"
             ],
             [
              0.5555555555555556,
              "#d8576b"
             ],
             [
              0.6666666666666666,
              "#ed7953"
             ],
             [
              0.7777777777777778,
              "#fb9f3a"
             ],
             [
              0.8888888888888888,
              "#fdca26"
             ],
             [
              1,
              "#f0f921"
             ]
            ],
            "type": "heatmap"
           }
          ],
          "heatmapgl": [
           {
            "colorbar": {
             "outlinewidth": 0,
             "ticks": ""
            },
            "colorscale": [
             [
              0,
              "#0d0887"
             ],
             [
              0.1111111111111111,
              "#46039f"
             ],
             [
              0.2222222222222222,
              "#7201a8"
             ],
             [
              0.3333333333333333,
              "#9c179e"
             ],
             [
              0.4444444444444444,
              "#bd3786"
             ],
             [
              0.5555555555555556,
              "#d8576b"
             ],
             [
              0.6666666666666666,
              "#ed7953"
             ],
             [
              0.7777777777777778,
              "#fb9f3a"
             ],
             [
              0.8888888888888888,
              "#fdca26"
             ],
             [
              1,
              "#f0f921"
             ]
            ],
            "type": "heatmapgl"
           }
          ],
          "histogram": [
           {
            "marker": {
             "colorbar": {
              "outlinewidth": 0,
              "ticks": ""
             }
            },
            "type": "histogram"
           }
          ],
          "histogram2d": [
           {
            "colorbar": {
             "outlinewidth": 0,
             "ticks": ""
            },
            "colorscale": [
             [
              0,
              "#0d0887"
             ],
             [
              0.1111111111111111,
              "#46039f"
             ],
             [
              0.2222222222222222,
              "#7201a8"
             ],
             [
              0.3333333333333333,
              "#9c179e"
             ],
             [
              0.4444444444444444,
              "#bd3786"
             ],
             [
              0.5555555555555556,
              "#d8576b"
             ],
             [
              0.6666666666666666,
              "#ed7953"
             ],
             [
              0.7777777777777778,
              "#fb9f3a"
             ],
             [
              0.8888888888888888,
              "#fdca26"
             ],
             [
              1,
              "#f0f921"
             ]
            ],
            "type": "histogram2d"
           }
          ],
          "histogram2dcontour": [
           {
            "colorbar": {
             "outlinewidth": 0,
             "ticks": ""
            },
            "colorscale": [
             [
              0,
              "#0d0887"
             ],
             [
              0.1111111111111111,
              "#46039f"
             ],
             [
              0.2222222222222222,
              "#7201a8"
             ],
             [
              0.3333333333333333,
              "#9c179e"
             ],
             [
              0.4444444444444444,
              "#bd3786"
             ],
             [
              0.5555555555555556,
              "#d8576b"
             ],
             [
              0.6666666666666666,
              "#ed7953"
             ],
             [
              0.7777777777777778,
              "#fb9f3a"
             ],
             [
              0.8888888888888888,
              "#fdca26"
             ],
             [
              1,
              "#f0f921"
             ]
            ],
            "type": "histogram2dcontour"
           }
          ],
          "mesh3d": [
           {
            "colorbar": {
             "outlinewidth": 0,
             "ticks": ""
            },
            "type": "mesh3d"
           }
          ],
          "parcoords": [
           {
            "line": {
             "colorbar": {
              "outlinewidth": 0,
              "ticks": ""
             }
            },
            "type": "parcoords"
           }
          ],
          "pie": [
           {
            "automargin": true,
            "type": "pie"
           }
          ],
          "scatter": [
           {
            "marker": {
             "colorbar": {
              "outlinewidth": 0,
              "ticks": ""
             }
            },
            "type": "scatter"
           }
          ],
          "scatter3d": [
           {
            "line": {
             "colorbar": {
              "outlinewidth": 0,
              "ticks": ""
             }
            },
            "marker": {
             "colorbar": {
              "outlinewidth": 0,
              "ticks": ""
             }
            },
            "type": "scatter3d"
           }
          ],
          "scattercarpet": [
           {
            "marker": {
             "colorbar": {
              "outlinewidth": 0,
              "ticks": ""
             }
            },
            "type": "scattercarpet"
           }
          ],
          "scattergeo": [
           {
            "marker": {
             "colorbar": {
              "outlinewidth": 0,
              "ticks": ""
             }
            },
            "type": "scattergeo"
           }
          ],
          "scattergl": [
           {
            "marker": {
             "colorbar": {
              "outlinewidth": 0,
              "ticks": ""
             }
            },
            "type": "scattergl"
           }
          ],
          "scattermapbox": [
           {
            "marker": {
             "colorbar": {
              "outlinewidth": 0,
              "ticks": ""
             }
            },
            "type": "scattermapbox"
           }
          ],
          "scatterpolar": [
           {
            "marker": {
             "colorbar": {
              "outlinewidth": 0,
              "ticks": ""
             }
            },
            "type": "scatterpolar"
           }
          ],
          "scatterpolargl": [
           {
            "marker": {
             "colorbar": {
              "outlinewidth": 0,
              "ticks": ""
             }
            },
            "type": "scatterpolargl"
           }
          ],
          "scatterternary": [
           {
            "marker": {
             "colorbar": {
              "outlinewidth": 0,
              "ticks": ""
             }
            },
            "type": "scatterternary"
           }
          ],
          "surface": [
           {
            "colorbar": {
             "outlinewidth": 0,
             "ticks": ""
            },
            "colorscale": [
             [
              0,
              "#0d0887"
             ],
             [
              0.1111111111111111,
              "#46039f"
             ],
             [
              0.2222222222222222,
              "#7201a8"
             ],
             [
              0.3333333333333333,
              "#9c179e"
             ],
             [
              0.4444444444444444,
              "#bd3786"
             ],
             [
              0.5555555555555556,
              "#d8576b"
             ],
             [
              0.6666666666666666,
              "#ed7953"
             ],
             [
              0.7777777777777778,
              "#fb9f3a"
             ],
             [
              0.8888888888888888,
              "#fdca26"
             ],
             [
              1,
              "#f0f921"
             ]
            ],
            "type": "surface"
           }
          ],
          "table": [
           {
            "cells": {
             "fill": {
              "color": "#EBF0F8"
             },
             "line": {
              "color": "white"
             }
            },
            "header": {
             "fill": {
              "color": "#C8D4E3"
             },
             "line": {
              "color": "white"
             }
            },
            "type": "table"
           }
          ]
         },
         "layout": {
          "annotationdefaults": {
           "arrowcolor": "#2a3f5f",
           "arrowhead": 0,
           "arrowwidth": 1
          },
          "autotypenumbers": "strict",
          "coloraxis": {
           "colorbar": {
            "outlinewidth": 0,
            "ticks": ""
           }
          },
          "colorscale": {
           "diverging": [
            [
             0,
             "#8e0152"
            ],
            [
             0.1,
             "#c51b7d"
            ],
            [
             0.2,
             "#de77ae"
            ],
            [
             0.3,
             "#f1b6da"
            ],
            [
             0.4,
             "#fde0ef"
            ],
            [
             0.5,
             "#f7f7f7"
            ],
            [
             0.6,
             "#e6f5d0"
            ],
            [
             0.7,
             "#b8e186"
            ],
            [
             0.8,
             "#7fbc41"
            ],
            [
             0.9,
             "#4d9221"
            ],
            [
             1,
             "#276419"
            ]
           ],
           "sequential": [
            [
             0,
             "#0d0887"
            ],
            [
             0.1111111111111111,
             "#46039f"
            ],
            [
             0.2222222222222222,
             "#7201a8"
            ],
            [
             0.3333333333333333,
             "#9c179e"
            ],
            [
             0.4444444444444444,
             "#bd3786"
            ],
            [
             0.5555555555555556,
             "#d8576b"
            ],
            [
             0.6666666666666666,
             "#ed7953"
            ],
            [
             0.7777777777777778,
             "#fb9f3a"
            ],
            [
             0.8888888888888888,
             "#fdca26"
            ],
            [
             1,
             "#f0f921"
            ]
           ],
           "sequentialminus": [
            [
             0,
             "#0d0887"
            ],
            [
             0.1111111111111111,
             "#46039f"
            ],
            [
             0.2222222222222222,
             "#7201a8"
            ],
            [
             0.3333333333333333,
             "#9c179e"
            ],
            [
             0.4444444444444444,
             "#bd3786"
            ],
            [
             0.5555555555555556,
             "#d8576b"
            ],
            [
             0.6666666666666666,
             "#ed7953"
            ],
            [
             0.7777777777777778,
             "#fb9f3a"
            ],
            [
             0.8888888888888888,
             "#fdca26"
            ],
            [
             1,
             "#f0f921"
            ]
           ]
          },
          "colorway": [
           "#636efa",
           "#EF553B",
           "#00cc96",
           "#ab63fa",
           "#FFA15A",
           "#19d3f3",
           "#FF6692",
           "#B6E880",
           "#FF97FF",
           "#FECB52"
          ],
          "font": {
           "color": "#2a3f5f"
          },
          "geo": {
           "bgcolor": "white",
           "lakecolor": "white",
           "landcolor": "#E5ECF6",
           "showlakes": true,
           "showland": true,
           "subunitcolor": "white"
          },
          "hoverlabel": {
           "align": "left"
          },
          "hovermode": "closest",
          "mapbox": {
           "style": "light"
          },
          "paper_bgcolor": "white",
          "plot_bgcolor": "#E5ECF6",
          "polar": {
           "angularaxis": {
            "gridcolor": "white",
            "linecolor": "white",
            "ticks": ""
           },
           "bgcolor": "#E5ECF6",
           "radialaxis": {
            "gridcolor": "white",
            "linecolor": "white",
            "ticks": ""
           }
          },
          "scene": {
           "xaxis": {
            "backgroundcolor": "#E5ECF6",
            "gridcolor": "white",
            "gridwidth": 2,
            "linecolor": "white",
            "showbackground": true,
            "ticks": "",
            "zerolinecolor": "white"
           },
           "yaxis": {
            "backgroundcolor": "#E5ECF6",
            "gridcolor": "white",
            "gridwidth": 2,
            "linecolor": "white",
            "showbackground": true,
            "ticks": "",
            "zerolinecolor": "white"
           },
           "zaxis": {
            "backgroundcolor": "#E5ECF6",
            "gridcolor": "white",
            "gridwidth": 2,
            "linecolor": "white",
            "showbackground": true,
            "ticks": "",
            "zerolinecolor": "white"
           }
          },
          "shapedefaults": {
           "line": {
            "color": "#2a3f5f"
           }
          },
          "ternary": {
           "aaxis": {
            "gridcolor": "white",
            "linecolor": "white",
            "ticks": ""
           },
           "baxis": {
            "gridcolor": "white",
            "linecolor": "white",
            "ticks": ""
           },
           "bgcolor": "#E5ECF6",
           "caxis": {
            "gridcolor": "white",
            "linecolor": "white",
            "ticks": ""
           }
          },
          "title": {
           "x": 0.05
          },
          "xaxis": {
           "automargin": true,
           "gridcolor": "white",
           "linecolor": "white",
           "ticks": "",
           "title": {
            "standoff": 15
           },
           "zerolinecolor": "white",
           "zerolinewidth": 2
          },
          "yaxis": {
           "automargin": true,
           "gridcolor": "white",
           "linecolor": "white",
           "ticks": "",
           "title": {
            "standoff": 15
           },
           "zerolinecolor": "white",
           "zerolinewidth": 2
          }
         }
        }
       }
      },
      "text/html": [
       "<div>                            <div id=\"60c5eb86-8371-4cea-9b7e-e7075e0075f2\" class=\"plotly-graph-div\" style=\"height:525px; width:100%;\"></div>            <script type=\"text/javascript\">                require([\"plotly\"], function(Plotly) {                    window.PLOTLYENV=window.PLOTLYENV || {};                                    if (document.getElementById(\"60c5eb86-8371-4cea-9b7e-e7075e0075f2\")) {                    Plotly.newPlot(                        \"60c5eb86-8371-4cea-9b7e-e7075e0075f2\",                        [{\"branchvalues\": \"total\", \"domain\": {\"x\": [0.0, 1.0], \"y\": [0.0, 1.0]}, \"hovertemplate\": \"labels=%{label}<br>count=%{value}<br>parent=%{parent}<br>id=%{id}<extra></extra>\", \"ids\": [\"0\", \"1\", \"2\", \"3\", \"4\", \"5\", \"6\", \"7\", \"8\", \"9\", \"10\", \"11\", \"12\", \"13\", \"14\", \"15\", \"16\", \"17\", \"18\", \"19\", \"20\", \"21\", \"22\", \"23\", \"24\", \"25\", \"26\", \"27\", \"28\", \"29\", \"30\", \"31\", \"32\", \"33\", \"34\", \"35\", \"36\", \"37\", \"38\", \"39\", \"40\", \"41\", \"42\", \"43\", \"44\", \"45\", \"46\", \"47\", \"48\", \"49\", \"50\", \"51\", \"52\", \"53\", \"54\", \"55\", \"56\", \"57\", \"58\", \"59\", \"60\", \"61\", \"62\", \"63\", \"64\", \"65\", \"66\", \"67\", \"68\", \"69\", \"70\", \"71\", \"72\", \"73\", \"74\", \"75\", \"76\", \"77\", \"78\", \"79\", \"80\", \"81\", \"82\", \"83\", \"84\", \"85\", \"86\", \"87\", \"88\", \"89\", \"90\", \"91\", \"92\", \"93\", \"94\", \"95\", \"96\", \"97\", \"98\", \"99\", \"100\", \"101\", \"102\", \"103\", \"104\", \"105\", \"106\", \"107\", \"108\", \"109\", \"110\", \"111\", \"112\", \"113\", \"114\", \"115\", \"116\", \"117\", \"118\", \"119\", \"120\", \"121\", \"122\", \"123\", \"124\", \"125\", \"126\", \"127\", \"128\", \"129\", \"130\", \"131\", \"132\", \"133\", \"134\", \"135\", \"136\", \"137\", \"138\", \"139\", \"140\", \"141\", \"142\", \"143\", \"144\", \"145\", \"146\", \"147\", \"148\", \"149\", \"150\", \"151\", \"152\", \"153\", \"154\", \"155\", \"156\", \"157\", \"158\", \"159\", \"160\", \"161\", \"162\", \"163\", \"164\", \"165\", \"166\", \"167\", \"168\", \"169\", \"170\", \"171\", \"172\", \"173\", \"174\", \"175\", \"176\", \"177\", \"178\", \"179\", \"180\", \"181\", \"182\", \"183\", \"184\", \"185\", \"186\", \"187\", \"188\", \"189\", \"190\", \"191\", \"192\", \"193\", \"194\", \"195\", \"196\", \"197\", \"198\", \"199\", \"200\", \"201\"], \"labels\": [\"0\", \"1\", \"2\", \"3\", \"4\", \"5\", \"6\", \"7\", \"8\", \"9\", \"10\", \"11\", \"12\", \"13\", \"14\", \"15\", \"16\", \"17\", \"18\", \"19\", \"20\", \"21\", \"22\", \"23\", \"24\", \"25\", \"26\", \"27\", \"28\", \"29\", \"30\", \"31\", \"32\", \"33\", \"34\", \"35\", \"36\", \"37\", \"38\", \"39\", \"40\", \"41\", \"42\", \"43\", \"44\", \"45\", \"46\", \"47\", \"48\", \"49\", \"50\", \"51\", \"52\", \"53\", \"54\", \"55\", \"56\", \"57\", \"58\", \"59\", \"60\", \"61\", \"62\", \"63\", \"64\", \"65\", \"66\", \"67\", \"68\", \"69\", \"70\", \"71\", \"72\", \"73\", \"74\", \"75\", \"76\", \"77\", \"78\", \"79\", \"80\", \"81\", \"82\", \"83\", \"84\", \"85\", \"86\", \"87\", \"88\", \"89\", \"90\", \"91\", \"92\", \"93\", \"94\", \"95\", \"96\", \"97\", \"98\", \"99\", \"100\", \"101\", \"102\", \"103\", \"104\", \"105\", \"106\", \"107\", \"108\", \"109\", \"110\", \"111\", \"112\", \"113\", \"114\", \"115\", \"116\", \"117\", \"118\", \"119\", \"120\", \"121\", \"122\", \"123\", \"124\", \"125\", \"126\", \"127\", \"128\", \"129\", \"130\", \"131\", \"132\", \"133\", \"134\", \"135\", \"136\", \"137\", \"138\", \"139\", \"140\", \"141\", \"142\", \"143\", \"144\", \"145\", \"146\", \"147\", \"148\", \"149\", \"150\", \"151\", \"152\", \"153\", \"154\", \"155\", \"156\", \"157\", \"158\", \"159\", \"160\", \"161\", \"162\", \"163\", \"164\", \"165\", \"166\", \"167\", \"168\", \"169\", \"170\", \"171\", \"172\", \"173\", \"174\", \"175\", \"176\", \"177\", \"178\", \"179\", \"180\", \"181\", \"182\", \"183\", \"184\", \"185\", \"186\", \"187\", \"188\", \"189\", \"190\", \"191\", \"192\", \"193\", \"194\", \"195\", \"196\", \"197\", \"198\", \"199\", \"200\", \"201\"], \"name\": \"\", \"parents\": [\"\", \"\", \"\", \"\", \"\", \"\", \"\", \"\", \"\", \"\", \"\", \"\", \"\", \"\", \"\", \"\", \"\", \"\", \"\", \"\", \"\", \"\", \"\", \"\", \"\", \"\", \"\", \"\", \"\", \"\", \"\", \"\", \"\", \"\", \"\", \"\", \"\", \"\", \"\", \"\", \"\", \"\", \"\", \"\", \"\", \"\", \"\", \"\", \"\", \"\", \"\", \"\", \"\", \"\", \"\", \"\", \"\", \"\", \"\", \"\", \"\", \"\", \"\", \"\", \"\", \"\", \"\", \"\", \"\", \"\", \"\", \"\", \"\", \"\", \"\", \"\", \"\", \"\", \"\", \"\", \"\", \"\", \"\", \"\", \"\", \"\", \"\", \"\", \"\", \"\", \"\", \"\", \"\", \"\", \"\", \"\", \"\", \"\", \"\", \"\", \"\", \"\", \"\", \"\", \"\", \"\", \"\", \"\", \"\", \"\", \"\", \"\", \"\", \"\", \"\", \"\", \"\", \"\", \"\", \"\", \"\", \"\", \"\", \"\", \"\", \"\", \"\", \"\", \"\", \"\", \"\", \"\", \"\", \"\", \"\", \"\", \"\", \"\", \"\", \"\", \"\", \"\", \"\", \"\", \"\", \"\", \"\", \"\", \"\", \"\", \"\", \"\", \"\", \"\", \"\", \"\", \"\", \"\", \"\", \"\", \"\", \"\", \"\", \"\", \"\", \"\", \"\", \"\", \"\", \"\", \"\", \"\", \"\", \"\", \"\", \"\", \"\", \"\", \"\", \"\", \"\", \"\", \"\", \"\", \"\", \"\", \"\", \"\", \"\", \"\", \"\", \"\", \"\", \"\", \"\", \"\", \"\", \"\", \"\", \"\", \"\", \"\"], \"type\": \"treemap\", \"values\": [742, 696, 561, 494, 394, 380, 380, 354, 347, 339, 335, 314, 305, 285, 281, 267, 236, 236, 229, 224, 205, 171, 146, 146, 145, 143, 140, 134, 130, 127, 125, 122, 121, 117, 116, 111, 110, 102, 102, 102, 100, 99, 96, 91, 87, 82, 81, 78, 77, 66, 65, 65, 58, 56, 56, 54, 53, 52, 52, 49, 49, 49, 48, 48, 47, 47, 47, 45, 45, 44, 44, 43, 41, 40, 39, 36, 35, 34, 33, 31, 29, 29, 27, 26, 26, 25, 24, 24, 23, 23, 21, 20, 19, 18, 17, 17, 16, 15, 15, 14, 14, 14, 13, 13, 13, 12, 12, 12, 12, 11, 11, 11, 10, 10, 10, 10, 10, 10, 10, 10, 10, 9, 9, 8, 8, 8, 8, 8, 8, 8, 8, 7, 7, 7, 7, 7, 7, 6, 6, 6, 6, 6, 6, 6, 5, 5, 5, 5, 5, 5, 5, 5, 4, 4, 4, 4, 4, 4, 4, 4, 4, 4, 4, 3, 3, 3, 3, 3, 3, 3, 2, 2, 2, 2, 2, 2, 2, 2, 2, 2, 2, 2, 2, 2, 1, 1, 1, 1, 1, 1, 1, 1, 1, 1, 1, 1, 1, 1, 1, 1, 1, 1]}],                        {\"legend\": {\"tracegroupgap\": 0}, \"margin\": {\"t\": 60}, \"template\": {\"data\": {\"bar\": [{\"error_x\": {\"color\": \"#2a3f5f\"}, \"error_y\": {\"color\": \"#2a3f5f\"}, \"marker\": {\"line\": {\"color\": \"#E5ECF6\", \"width\": 0.5}}, \"type\": \"bar\"}], \"barpolar\": [{\"marker\": {\"line\": {\"color\": \"#E5ECF6\", \"width\": 0.5}}, \"type\": \"barpolar\"}], \"carpet\": [{\"aaxis\": {\"endlinecolor\": \"#2a3f5f\", \"gridcolor\": \"white\", \"linecolor\": \"white\", \"minorgridcolor\": \"white\", \"startlinecolor\": \"#2a3f5f\"}, \"baxis\": {\"endlinecolor\": \"#2a3f5f\", \"gridcolor\": \"white\", \"linecolor\": \"white\", \"minorgridcolor\": \"white\", \"startlinecolor\": \"#2a3f5f\"}, \"type\": \"carpet\"}], \"choropleth\": [{\"colorbar\": {\"outlinewidth\": 0, \"ticks\": \"\"}, \"type\": \"choropleth\"}], \"contour\": [{\"colorbar\": {\"outlinewidth\": 0, \"ticks\": \"\"}, \"colorscale\": [[0.0, \"#0d0887\"], [0.1111111111111111, \"#46039f\"], [0.2222222222222222, \"#7201a8\"], [0.3333333333333333, \"#9c179e\"], [0.4444444444444444, \"#bd3786\"], [0.5555555555555556, \"#d8576b\"], [0.6666666666666666, \"#ed7953\"], [0.7777777777777778, \"#fb9f3a\"], [0.8888888888888888, \"#fdca26\"], [1.0, \"#f0f921\"]], \"type\": \"contour\"}], \"contourcarpet\": [{\"colorbar\": {\"outlinewidth\": 0, \"ticks\": \"\"}, \"type\": \"contourcarpet\"}], \"heatmap\": [{\"colorbar\": {\"outlinewidth\": 0, \"ticks\": \"\"}, \"colorscale\": [[0.0, \"#0d0887\"], [0.1111111111111111, \"#46039f\"], [0.2222222222222222, \"#7201a8\"], [0.3333333333333333, \"#9c179e\"], [0.4444444444444444, \"#bd3786\"], [0.5555555555555556, \"#d8576b\"], [0.6666666666666666, \"#ed7953\"], [0.7777777777777778, \"#fb9f3a\"], [0.8888888888888888, \"#fdca26\"], [1.0, \"#f0f921\"]], \"type\": \"heatmap\"}], \"heatmapgl\": [{\"colorbar\": {\"outlinewidth\": 0, \"ticks\": \"\"}, \"colorscale\": [[0.0, \"#0d0887\"], [0.1111111111111111, \"#46039f\"], [0.2222222222222222, \"#7201a8\"], [0.3333333333333333, \"#9c179e\"], [0.4444444444444444, \"#bd3786\"], [0.5555555555555556, \"#d8576b\"], [0.6666666666666666, \"#ed7953\"], [0.7777777777777778, \"#fb9f3a\"], [0.8888888888888888, \"#fdca26\"], [1.0, \"#f0f921\"]], \"type\": \"heatmapgl\"}], \"histogram\": [{\"marker\": {\"colorbar\": {\"outlinewidth\": 0, \"ticks\": \"\"}}, \"type\": \"histogram\"}], \"histogram2d\": [{\"colorbar\": {\"outlinewidth\": 0, \"ticks\": \"\"}, \"colorscale\": [[0.0, \"#0d0887\"], [0.1111111111111111, \"#46039f\"], [0.2222222222222222, \"#7201a8\"], [0.3333333333333333, \"#9c179e\"], [0.4444444444444444, \"#bd3786\"], [0.5555555555555556, \"#d8576b\"], [0.6666666666666666, \"#ed7953\"], [0.7777777777777778, \"#fb9f3a\"], [0.8888888888888888, \"#fdca26\"], [1.0, \"#f0f921\"]], \"type\": \"histogram2d\"}], \"histogram2dcontour\": [{\"colorbar\": {\"outlinewidth\": 0, \"ticks\": \"\"}, \"colorscale\": [[0.0, \"#0d0887\"], [0.1111111111111111, \"#46039f\"], [0.2222222222222222, \"#7201a8\"], [0.3333333333333333, \"#9c179e\"], [0.4444444444444444, \"#bd3786\"], [0.5555555555555556, \"#d8576b\"], [0.6666666666666666, \"#ed7953\"], [0.7777777777777778, \"#fb9f3a\"], [0.8888888888888888, \"#fdca26\"], [1.0, \"#f0f921\"]], \"type\": \"histogram2dcontour\"}], \"mesh3d\": [{\"colorbar\": {\"outlinewidth\": 0, \"ticks\": \"\"}, \"type\": \"mesh3d\"}], \"parcoords\": [{\"line\": {\"colorbar\": {\"outlinewidth\": 0, \"ticks\": \"\"}}, \"type\": \"parcoords\"}], \"pie\": [{\"automargin\": true, \"type\": \"pie\"}], \"scatter\": [{\"marker\": {\"colorbar\": {\"outlinewidth\": 0, \"ticks\": \"\"}}, \"type\": \"scatter\"}], \"scatter3d\": [{\"line\": {\"colorbar\": {\"outlinewidth\": 0, \"ticks\": \"\"}}, \"marker\": {\"colorbar\": {\"outlinewidth\": 0, \"ticks\": \"\"}}, \"type\": \"scatter3d\"}], \"scattercarpet\": [{\"marker\": {\"colorbar\": {\"outlinewidth\": 0, \"ticks\": \"\"}}, \"type\": \"scattercarpet\"}], \"scattergeo\": [{\"marker\": {\"colorbar\": {\"outlinewidth\": 0, \"ticks\": \"\"}}, \"type\": \"scattergeo\"}], \"scattergl\": [{\"marker\": {\"colorbar\": {\"outlinewidth\": 0, \"ticks\": \"\"}}, \"type\": \"scattergl\"}], \"scattermapbox\": [{\"marker\": {\"colorbar\": {\"outlinewidth\": 0, \"ticks\": \"\"}}, \"type\": \"scattermapbox\"}], \"scatterpolar\": [{\"marker\": {\"colorbar\": {\"outlinewidth\": 0, \"ticks\": \"\"}}, \"type\": \"scatterpolar\"}], \"scatterpolargl\": [{\"marker\": {\"colorbar\": {\"outlinewidth\": 0, \"ticks\": \"\"}}, \"type\": \"scatterpolargl\"}], \"scatterternary\": [{\"marker\": {\"colorbar\": {\"outlinewidth\": 0, \"ticks\": \"\"}}, \"type\": \"scatterternary\"}], \"surface\": [{\"colorbar\": {\"outlinewidth\": 0, \"ticks\": \"\"}, \"colorscale\": [[0.0, \"#0d0887\"], [0.1111111111111111, \"#46039f\"], [0.2222222222222222, \"#7201a8\"], [0.3333333333333333, \"#9c179e\"], [0.4444444444444444, \"#bd3786\"], [0.5555555555555556, \"#d8576b\"], [0.6666666666666666, \"#ed7953\"], [0.7777777777777778, \"#fb9f3a\"], [0.8888888888888888, \"#fdca26\"], [1.0, \"#f0f921\"]], \"type\": \"surface\"}], \"table\": [{\"cells\": {\"fill\": {\"color\": \"#EBF0F8\"}, \"line\": {\"color\": \"white\"}}, \"header\": {\"fill\": {\"color\": \"#C8D4E3\"}, \"line\": {\"color\": \"white\"}}, \"type\": \"table\"}]}, \"layout\": {\"annotationdefaults\": {\"arrowcolor\": \"#2a3f5f\", \"arrowhead\": 0, \"arrowwidth\": 1}, \"autotypenumbers\": \"strict\", \"coloraxis\": {\"colorbar\": {\"outlinewidth\": 0, \"ticks\": \"\"}}, \"colorscale\": {\"diverging\": [[0, \"#8e0152\"], [0.1, \"#c51b7d\"], [0.2, \"#de77ae\"], [0.3, \"#f1b6da\"], [0.4, \"#fde0ef\"], [0.5, \"#f7f7f7\"], [0.6, \"#e6f5d0\"], [0.7, \"#b8e186\"], [0.8, \"#7fbc41\"], [0.9, \"#4d9221\"], [1, \"#276419\"]], \"sequential\": [[0.0, \"#0d0887\"], [0.1111111111111111, \"#46039f\"], [0.2222222222222222, \"#7201a8\"], [0.3333333333333333, \"#9c179e\"], [0.4444444444444444, \"#bd3786\"], [0.5555555555555556, \"#d8576b\"], [0.6666666666666666, \"#ed7953\"], [0.7777777777777778, \"#fb9f3a\"], [0.8888888888888888, \"#fdca26\"], [1.0, \"#f0f921\"]], \"sequentialminus\": [[0.0, \"#0d0887\"], [0.1111111111111111, \"#46039f\"], [0.2222222222222222, \"#7201a8\"], [0.3333333333333333, \"#9c179e\"], [0.4444444444444444, \"#bd3786\"], [0.5555555555555556, \"#d8576b\"], [0.6666666666666666, \"#ed7953\"], [0.7777777777777778, \"#fb9f3a\"], [0.8888888888888888, \"#fdca26\"], [1.0, \"#f0f921\"]]}, \"colorway\": [\"#636efa\", \"#EF553B\", \"#00cc96\", \"#ab63fa\", \"#FFA15A\", \"#19d3f3\", \"#FF6692\", \"#B6E880\", \"#FF97FF\", \"#FECB52\"], \"font\": {\"color\": \"#2a3f5f\"}, \"geo\": {\"bgcolor\": \"white\", \"lakecolor\": \"white\", \"landcolor\": \"#E5ECF6\", \"showlakes\": true, \"showland\": true, \"subunitcolor\": \"white\"}, \"hoverlabel\": {\"align\": \"left\"}, \"hovermode\": \"closest\", \"mapbox\": {\"style\": \"light\"}, \"paper_bgcolor\": \"white\", \"plot_bgcolor\": \"#E5ECF6\", \"polar\": {\"angularaxis\": {\"gridcolor\": \"white\", \"linecolor\": \"white\", \"ticks\": \"\"}, \"bgcolor\": \"#E5ECF6\", \"radialaxis\": {\"gridcolor\": \"white\", \"linecolor\": \"white\", \"ticks\": \"\"}}, \"scene\": {\"xaxis\": {\"backgroundcolor\": \"#E5ECF6\", \"gridcolor\": \"white\", \"gridwidth\": 2, \"linecolor\": \"white\", \"showbackground\": true, \"ticks\": \"\", \"zerolinecolor\": \"white\"}, \"yaxis\": {\"backgroundcolor\": \"#E5ECF6\", \"gridcolor\": \"white\", \"gridwidth\": 2, \"linecolor\": \"white\", \"showbackground\": true, \"ticks\": \"\", \"zerolinecolor\": \"white\"}, \"zaxis\": {\"backgroundcolor\": \"#E5ECF6\", \"gridcolor\": \"white\", \"gridwidth\": 2, \"linecolor\": \"white\", \"showbackground\": true, \"ticks\": \"\", \"zerolinecolor\": \"white\"}}, \"shapedefaults\": {\"line\": {\"color\": \"#2a3f5f\"}}, \"ternary\": {\"aaxis\": {\"gridcolor\": \"white\", \"linecolor\": \"white\", \"ticks\": \"\"}, \"baxis\": {\"gridcolor\": \"white\", \"linecolor\": \"white\", \"ticks\": \"\"}, \"bgcolor\": \"#E5ECF6\", \"caxis\": {\"gridcolor\": \"white\", \"linecolor\": \"white\", \"ticks\": \"\"}}, \"title\": {\"x\": 0.05}, \"xaxis\": {\"automargin\": true, \"gridcolor\": \"white\", \"linecolor\": \"white\", \"ticks\": \"\", \"title\": {\"standoff\": 15}, \"zerolinecolor\": \"white\", \"zerolinewidth\": 2}, \"yaxis\": {\"automargin\": true, \"gridcolor\": \"white\", \"linecolor\": \"white\", \"ticks\": \"\", \"title\": {\"standoff\": 15}, \"zerolinecolor\": \"white\", \"zerolinewidth\": 2}}}},                        {\"responsive\": true}                    ).then(function(){\n",
       "                            \n",
       "var gd = document.getElementById('60c5eb86-8371-4cea-9b7e-e7075e0075f2');\n",
       "var x = new MutationObserver(function (mutations, observer) {{\n",
       "        var display = window.getComputedStyle(gd).display;\n",
       "        if (!display || display === 'none') {{\n",
       "            console.log([gd, 'removed!']);\n",
       "            Plotly.purge(gd);\n",
       "            observer.disconnect();\n",
       "        }}\n",
       "}});\n",
       "\n",
       "// Listen for the removal of the full notebook cells\n",
       "var notebookContainer = gd.closest('#notebook-container');\n",
       "if (notebookContainer) {{\n",
       "    x.observe(notebookContainer, {childList: true});\n",
       "}}\n",
       "\n",
       "// Listen for the clearing of the current output cell\n",
       "var outputEl = gd.closest('.output');\n",
       "if (outputEl) {{\n",
       "    x.observe(outputEl, {childList: true});\n",
       "}}\n",
       "\n",
       "                        })                };                });            </script>        </div>"
      ]
     },
     "metadata": {},
     "output_type": "display_data"
    },
    {
     "data": {
      "text/plain": [
       "True"
      ]
     },
     "execution_count": 178,
     "metadata": {},
     "output_type": "execute_result"
    }
   ],
   "source": [
    "show_frequencies(vespa_freq)"
   ]
  },
  {
   "cell_type": "markdown",
   "metadata": {},
   "source": [
    "### D2KAB versus VESPA"
   ]
  },
  {
   "cell_type": "code",
   "execution_count": 179,
   "metadata": {},
   "outputs": [
    {
     "name": "stdout",
     "output_type": "stream",
     "text": [
      "True     175\n",
      "False     21\n",
      "Name: prefLabel, dtype: int64\n",
      "                             prefLabel  count\n",
      "92                      grande culture     23\n",
      "102                        pois chiche     20\n",
      "121                             cardon     10\n",
      "130                              ricin      9\n",
      "146  arboriculture fruitière tropicale      6\n",
      "151                            potiron      5\n",
      "153                         potimarron      5\n",
      "155                           pastèque      5\n",
      "159                            basilic      4\n",
      "160                            oseille      4\n",
      "162                            houblon      4\n",
      "169                      légume racine      3\n",
      "177                            ciboule      3\n",
      "178                   sorgho fourrager      2\n",
      "179                   courge butternut      2\n",
      "181                              gesse      2\n",
      "185                         miscanthus      1\n",
      "187                    abricotier pays      1\n",
      "189                    vesce fourrager      1\n",
      "191                 prairie temporaire      1\n",
      "193                  lentille potagère      1\n"
     ]
    },
    {
     "data": {
      "text/plain": [
       "True"
      ]
     },
     "execution_count": 179,
     "metadata": {},
     "output_type": "execute_result"
    }
   ],
   "source": [
    "# words in d2kab that are not in vespa\n",
    "show_differences(d2kab_freq, vespa_freq)"
   ]
  },
  {
   "cell_type": "code",
   "execution_count": 180,
   "metadata": {},
   "outputs": [
    {
     "name": "stdout",
     "output_type": "stream",
     "text": [
      "True     175\n",
      "False     27\n",
      "Name: prefLabel, dtype: int64\n",
      "                    prefLabel  count\n",
      "105  pomme de terre féculière     12\n",
      "118                  photinie     10\n",
      "124             canne à sucre      8\n",
      "133                 limettier      7\n",
      "138            plante à fibre      6\n",
      "139   arbre à fruits à coques      6\n",
      "141              lin à fibres      6\n",
      "142                    pomelo      6\n",
      "155                    tangor      4\n",
      "160               mandarinier      4\n",
      "163               chou commun      3\n",
      "166                   gerbera      3\n",
      "168         cerfeuil tubéreux      3\n",
      "169                 calebasse      3\n",
      "171                  rhubarbe      2\n",
      "172                   lavande      2\n",
      "177                Chou navet      2\n",
      "183              christophine      2\n",
      "184        oranger du Mexique      1\n",
      "185    lin fibre de printemps      1\n",
      "186                 chou vert      1\n",
      "188                     brède      1\n",
      "189            laitue romaine      1\n",
      "191                  fenugrec      1\n",
      "197                   combava      1\n",
      "200                 chou-rave      1\n",
      "201                   arroche      1\n"
     ]
    },
    {
     "data": {
      "text/plain": [
       "True"
      ]
     },
     "execution_count": 180,
     "metadata": {},
     "output_type": "execute_result"
    }
   ],
   "source": [
    "# words in vespa that are not in d2kab\n",
    "show_differences(vespa_freq, d2kab_freq)"
   ]
  },
  {
   "cell_type": "code",
   "execution_count": 185,
   "metadata": {},
   "outputs": [
    {
     "data": {
      "text/html": [
       "<div>\n",
       "<style scoped>\n",
       "    .dataframe tbody tr th:only-of-type {\n",
       "        vertical-align: middle;\n",
       "    }\n",
       "\n",
       "    .dataframe tbody tr th {\n",
       "        vertical-align: top;\n",
       "    }\n",
       "\n",
       "    .dataframe thead th {\n",
       "        text-align: right;\n",
       "    }\n",
       "</style>\n",
       "<table border=\"1\" class=\"dataframe\">\n",
       "  <thead>\n",
       "    <tr style=\"text-align: right;\">\n",
       "      <th></th>\n",
       "      <th>prefLabel</th>\n",
       "      <th>count_x</th>\n",
       "      <th>count_y</th>\n",
       "    </tr>\n",
       "  </thead>\n",
       "  <tbody>\n",
       "    <tr>\n",
       "      <th>0</th>\n",
       "      <td>vigne</td>\n",
       "      <td>1278</td>\n",
       "      <td>314</td>\n",
       "    </tr>\n",
       "    <tr>\n",
       "      <th>1</th>\n",
       "      <td>colza</td>\n",
       "      <td>984</td>\n",
       "      <td>696</td>\n",
       "    </tr>\n",
       "    <tr>\n",
       "      <th>2</th>\n",
       "      <td>chou</td>\n",
       "      <td>595</td>\n",
       "      <td>380</td>\n",
       "    </tr>\n",
       "    <tr>\n",
       "      <th>3</th>\n",
       "      <td>chou potager</td>\n",
       "      <td>595</td>\n",
       "      <td>380</td>\n",
       "    </tr>\n",
       "    <tr>\n",
       "      <th>4</th>\n",
       "      <td>blé</td>\n",
       "      <td>591</td>\n",
       "      <td>394</td>\n",
       "    </tr>\n",
       "    <tr>\n",
       "      <th>...</th>\n",
       "      <td>...</td>\n",
       "      <td>...</td>\n",
       "      <td>...</td>\n",
       "    </tr>\n",
       "    <tr>\n",
       "      <th>170</th>\n",
       "      <td>clémentinier</td>\n",
       "      <td>1</td>\n",
       "      <td>12</td>\n",
       "    </tr>\n",
       "    <tr>\n",
       "      <th>171</th>\n",
       "      <td>cognassier</td>\n",
       "      <td>1</td>\n",
       "      <td>2</td>\n",
       "    </tr>\n",
       "    <tr>\n",
       "      <th>172</th>\n",
       "      <td>millet</td>\n",
       "      <td>1</td>\n",
       "      <td>5</td>\n",
       "    </tr>\n",
       "    <tr>\n",
       "      <th>173</th>\n",
       "      <td>échalion</td>\n",
       "      <td>1</td>\n",
       "      <td>1</td>\n",
       "    </tr>\n",
       "    <tr>\n",
       "      <th>174</th>\n",
       "      <td>colza de printemps</td>\n",
       "      <td>1</td>\n",
       "      <td>1</td>\n",
       "    </tr>\n",
       "  </tbody>\n",
       "</table>\n",
       "<p>175 rows × 3 columns</p>\n",
       "</div>"
      ],
      "text/plain": [
       "              prefLabel  count_x  count_y\n",
       "0                 vigne     1278      314\n",
       "1                 colza      984      696\n",
       "2                  chou      595      380\n",
       "3          chou potager      595      380\n",
       "4                   blé      591      394\n",
       "..                  ...      ...      ...\n",
       "170        clémentinier        1       12\n",
       "171          cognassier        1        2\n",
       "172              millet        1        5\n",
       "173            échalion        1        1\n",
       "174  colza de printemps        1        1\n",
       "\n",
       "[175 rows x 3 columns]"
      ]
     },
     "execution_count": 185,
     "metadata": {},
     "output_type": "execute_result"
    }
   ],
   "source": [
    "# join frequence matrices\n",
    "result = pd.merge(d2kab_freq, vespa_freq, on=\"prefLabel\")\n",
    "result"
   ]
  },
  {
   "cell_type": "code",
   "execution_count": 210,
   "metadata": {},
   "outputs": [
    {
     "data": {
      "application/vnd.plotly.v1+json": {
       "config": {
        "plotlyServerURL": "https://plotly.com"
       },
       "data": [
        {
         "alignmentgroup": "True",
         "hovertemplate": "variable=count_x<br>prefLabel=%{x}<br>value=%{y}<extra></extra>",
         "legendgroup": "count_x",
         "marker": {
          "color": "#636efa"
         },
         "name": "count_x",
         "offsetgroup": "count_x",
         "orientation": "v",
         "showlegend": true,
         "textposition": "auto",
         "type": "bar",
         "x": [
          "vigne",
          "colza",
          "chou",
          "chou potager",
          "blé",
          "pommier",
          "maïs",
          "tomate",
          "carotte",
          "arboriculture fruitière",
          "oignon",
          "culture légumière",
          "arbuste à baies",
          "pois",
          "floriculture",
          "poireau",
          "céréale à paille",
          "maraîchage",
          "céréale",
          "lin",
          "céleri",
          "arboriculture",
          "pomme de terre",
          "poirier",
          "salade",
          "betterave",
          "blé tendre",
          "tournesol",
          "aubergine",
          "orge",
          "semence",
          "concombre",
          "zone non agricole",
          "fraisier",
          "oléagineux",
          "courgette",
          "pêcher",
          "cerisier",
          "culture fruitière",
          "laitue",
          "poivron",
          "melon",
          "lin oléagineux",
          "prunier",
          "poirée",
          "blé dur",
          "radis",
          "haricot",
          "légume à graines ou à gousses",
          "abricotier",
          "jardin",
          "persil",
          "soja",
          "orge d'hiver",
          "échalote",
          "pois protéagineux de printemps",
          "navet potager",
          "tabac",
          "oranger",
          "courge",
          "féverole",
          "olivier",
          "rosier ornemental",
          "mâche",
          "asperge",
          "vigne de cuve",
          "chicorée endive",
          "lin oléagineux d'hiver",
          "horticulture ornementale",
          "orge de printemps",
          "épinard",
          "ciboulette",
          "blé tendre d'hiver",
          "arbre fruitier à noyau",
          "triticale",
          "pomme de terre potagère",
          "palmier",
          "noyer",
          "bananier",
          "prairie",
          "chicorée de Bruxelle",
          "framboisier",
          "jardins familiaux",
          "chêne",
          "petit fruit",
          "haricot demi-sec",
          "laitue batavia",
          "ail",
          "gel",
          "châtaignier",
          "luzerne",
          "actinidia",
          "artichaut",
          "vigne de table",
          "rosier",
          "pois protéagineux d'hiver",
          "sorgho grain",
          "panais",
          "culture légumière de plein champ",
          "protéagineux",
          "scorsonère",
          "betterave potagère",
          "sorgho",
          "agrume",
          "piment",
          "laurier",
          "olivier fruit à noyaux",
          "Chou cabus blanc",
          "fève",
          "céleri-rave",
          "orge à six rangs",
          "amandier",
          "chicorée scarole",
          "chicorée",
          "chou pommé",
          "chou brocoli",
          "cresson",
          "lin oléagineux de printemps",
          "chou-fleur",
          "féverole d'hiver",
          "cassissier",
          "citronnier",
          "haricot vert",
          "manguier",
          "géranium",
          "maïs doux",
          "laitue à couper",
          "féverole de printemps",
          "moutarde",
          "maïs grain",
          "fourrage annuel",
          "chou chinois",
          "avoine",
          "figuier",
          "bananier plantain",
          "riz",
          "goyavier",
          "cerfeuil",
          "ray-grass",
          "pois protéagineux",
          "ananas",
          "bananier musa",
          "chou de Milan",
          "chou cabus rouge",
          "noisetier",
          "roquette",
          "poinsettia",
          "chrysanthème",
          "chou-navet à chair jaune",
          "phacélie",
          "fenouil",
          "maïs fourrage",
          "céréale fourragère",
          "pissenlit",
          "culture fourragère",
          "seigle",
          "surface toujours en herbe",
          "engrais vert",
          "trèfle",
          "chou de Bruxelles",
          "groseillier",
          "myrtille",
          "chanvre",
          "colza d'hiver",
          "culture industrielle",
          "blé dur d'hiver",
          "céleri à cotes",
          "chou frisé",
          "laitue beurre pommée",
          "betterave sucrière",
          "clémentinier",
          "cognassier",
          "millet",
          "échalion",
          "colza de printemps"
         ],
         "xaxis": "x",
         "y": [
          1278,
          984,
          595,
          595,
          591,
          553,
          540,
          467,
          409,
          401,
          374,
          371,
          325,
          322,
          306,
          304,
          304,
          275,
          263,
          247,
          237,
          230,
          228,
          202,
          201,
          197,
          190,
          181,
          181,
          177,
          157,
          147,
          139,
          126,
          115,
          114,
          112,
          109,
          109,
          109,
          106,
          98,
          96,
          96,
          91,
          77,
          76,
          74,
          71,
          69,
          65,
          63,
          58,
          56,
          54,
          54,
          53,
          52,
          50,
          49,
          48,
          48,
          47,
          45,
          44,
          44,
          43,
          43,
          42,
          41,
          41,
          40,
          39,
          38,
          38,
          37,
          35,
          35,
          34,
          33,
          31,
          30,
          30,
          29,
          28,
          27,
          27,
          27,
          27,
          27,
          26,
          26,
          23,
          22,
          22,
          22,
          21,
          21,
          21,
          20,
          20,
          19,
          19,
          18,
          17,
          17,
          16,
          15,
          14,
          14,
          13,
          13,
          12,
          12,
          12,
          11,
          11,
          11,
          11,
          10,
          10,
          10,
          10,
          10,
          10,
          10,
          9,
          9,
          8,
          8,
          7,
          7,
          7,
          7,
          7,
          7,
          6,
          6,
          6,
          6,
          6,
          6,
          6,
          5,
          5,
          5,
          5,
          5,
          5,
          5,
          5,
          4,
          4,
          4,
          4,
          4,
          4,
          3,
          3,
          3,
          3,
          3,
          3,
          3,
          3,
          2,
          2,
          2,
          1,
          1,
          1,
          1,
          1,
          1,
          1
         ],
         "yaxis": "y"
        },
        {
         "alignmentgroup": "True",
         "hovertemplate": "variable=count_y<br>prefLabel=%{x}<br>value=%{y}<extra></extra>",
         "legendgroup": "count_y",
         "marker": {
          "color": "#EF553B"
         },
         "name": "count_y",
         "offsetgroup": "count_y",
         "orientation": "v",
         "showlegend": true,
         "textposition": "auto",
         "type": "bar",
         "x": [
          "vigne",
          "colza",
          "chou",
          "chou potager",
          "blé",
          "pommier",
          "maïs",
          "tomate",
          "carotte",
          "arboriculture fruitière",
          "oignon",
          "culture légumière",
          "arbuste à baies",
          "pois",
          "floriculture",
          "poireau",
          "céréale à paille",
          "maraîchage",
          "céréale",
          "lin",
          "céleri",
          "arboriculture",
          "pomme de terre",
          "poirier",
          "salade",
          "betterave",
          "blé tendre",
          "tournesol",
          "aubergine",
          "orge",
          "semence",
          "concombre",
          "zone non agricole",
          "fraisier",
          "oléagineux",
          "courgette",
          "pêcher",
          "cerisier",
          "culture fruitière",
          "laitue",
          "poivron",
          "melon",
          "lin oléagineux",
          "prunier",
          "poirée",
          "blé dur",
          "radis",
          "haricot",
          "légume à graines ou à gousses",
          "abricotier",
          "jardin",
          "persil",
          "soja",
          "orge d'hiver",
          "échalote",
          "pois protéagineux de printemps",
          "navet potager",
          "tabac",
          "oranger",
          "courge",
          "féverole",
          "olivier",
          "rosier ornemental",
          "mâche",
          "asperge",
          "vigne de cuve",
          "chicorée endive",
          "lin oléagineux d'hiver",
          "horticulture ornementale",
          "orge de printemps",
          "épinard",
          "ciboulette",
          "blé tendre d'hiver",
          "arbre fruitier à noyau",
          "triticale",
          "pomme de terre potagère",
          "palmier",
          "noyer",
          "bananier",
          "prairie",
          "chicorée de Bruxelle",
          "framboisier",
          "jardins familiaux",
          "chêne",
          "petit fruit",
          "haricot demi-sec",
          "laitue batavia",
          "ail",
          "gel",
          "châtaignier",
          "luzerne",
          "actinidia",
          "artichaut",
          "vigne de table",
          "rosier",
          "pois protéagineux d'hiver",
          "sorgho grain",
          "panais",
          "culture légumière de plein champ",
          "protéagineux",
          "scorsonère",
          "betterave potagère",
          "sorgho",
          "agrume",
          "piment",
          "laurier",
          "olivier fruit à noyaux",
          "Chou cabus blanc",
          "fève",
          "céleri-rave",
          "orge à six rangs",
          "amandier",
          "chicorée scarole",
          "chicorée",
          "chou pommé",
          "chou brocoli",
          "cresson",
          "lin oléagineux de printemps",
          "chou-fleur",
          "féverole d'hiver",
          "cassissier",
          "citronnier",
          "haricot vert",
          "manguier",
          "géranium",
          "maïs doux",
          "laitue à couper",
          "féverole de printemps",
          "moutarde",
          "maïs grain",
          "fourrage annuel",
          "chou chinois",
          "avoine",
          "figuier",
          "bananier plantain",
          "riz",
          "goyavier",
          "cerfeuil",
          "ray-grass",
          "pois protéagineux",
          "ananas",
          "bananier musa",
          "chou de Milan",
          "chou cabus rouge",
          "noisetier",
          "roquette",
          "poinsettia",
          "chrysanthème",
          "chou-navet à chair jaune",
          "phacélie",
          "fenouil",
          "maïs fourrage",
          "céréale fourragère",
          "pissenlit",
          "culture fourragère",
          "seigle",
          "surface toujours en herbe",
          "engrais vert",
          "trèfle",
          "chou de Bruxelles",
          "groseillier",
          "myrtille",
          "chanvre",
          "colza d'hiver",
          "culture industrielle",
          "blé dur d'hiver",
          "céleri à cotes",
          "chou frisé",
          "laitue beurre pommée",
          "betterave sucrière",
          "clémentinier",
          "cognassier",
          "millet",
          "échalion",
          "colza de printemps"
         ],
         "xaxis": "x",
         "y": [
          314,
          696,
          380,
          380,
          394,
          742,
          267,
          134,
          305,
          561,
          236,
          236,
          56,
          494,
          347,
          229,
          140,
          44,
          354,
          281,
          146,
          285,
          205,
          339,
          145,
          171,
          102,
          130,
          56,
          122,
          102,
          65,
          335,
          111,
          146,
          58,
          116,
          110,
          99,
          78,
          40,
          77,
          125,
          143,
          81,
          49,
          65,
          41,
          91,
          54,
          127,
          96,
          13,
          27,
          34,
          100,
          52,
          15,
          48,
          8,
          224,
          24,
          33,
          49,
          23,
          11,
          53,
          47,
          82,
          20,
          10,
          21,
          24,
          5,
          39,
          31,
          3,
          121,
          14,
          45,
          47,
          48,
          16,
          52,
          17,
          13,
          36,
          26,
          4,
          87,
          12,
          45,
          9,
          35,
          102,
          66,
          7,
          18,
          5,
          117,
          9,
          10,
          7,
          47,
          11,
          26,
          10,
          5,
          12,
          10,
          5,
          11,
          7,
          7,
          4,
          10,
          23,
          29,
          8,
          25,
          4,
          4,
          19,
          8,
          43,
          2,
          15,
          29,
          8,
          13,
          4,
          2,
          5,
          2,
          10,
          5,
          6,
          14,
          6,
          49,
          10,
          1,
          4,
          1,
          4,
          17,
          8,
          44,
          2,
          1,
          2,
          3,
          8,
          4,
          8,
          14,
          2,
          2,
          2,
          7,
          10,
          6,
          1,
          2,
          3,
          1,
          5,
          1,
          4,
          1,
          12,
          2,
          5,
          1,
          1
         ],
         "yaxis": "y"
        }
       ],
       "layout": {
        "autosize": false,
        "barmode": "relative",
        "height": 1000,
        "legend": {
         "title": {
          "text": "variable"
         },
         "tracegroupgap": 0
        },
        "margin": {
         "b": 200,
         "l": 200,
         "r": 200,
         "t": 200
        },
        "showlegend": false,
        "template": {
         "data": {
          "bar": [
           {
            "error_x": {
             "color": "#2a3f5f"
            },
            "error_y": {
             "color": "#2a3f5f"
            },
            "marker": {
             "line": {
              "color": "#E5ECF6",
              "width": 0.5
             }
            },
            "type": "bar"
           }
          ],
          "barpolar": [
           {
            "marker": {
             "line": {
              "color": "#E5ECF6",
              "width": 0.5
             }
            },
            "type": "barpolar"
           }
          ],
          "carpet": [
           {
            "aaxis": {
             "endlinecolor": "#2a3f5f",
             "gridcolor": "white",
             "linecolor": "white",
             "minorgridcolor": "white",
             "startlinecolor": "#2a3f5f"
            },
            "baxis": {
             "endlinecolor": "#2a3f5f",
             "gridcolor": "white",
             "linecolor": "white",
             "minorgridcolor": "white",
             "startlinecolor": "#2a3f5f"
            },
            "type": "carpet"
           }
          ],
          "choropleth": [
           {
            "colorbar": {
             "outlinewidth": 0,
             "ticks": ""
            },
            "type": "choropleth"
           }
          ],
          "contour": [
           {
            "colorbar": {
             "outlinewidth": 0,
             "ticks": ""
            },
            "colorscale": [
             [
              0,
              "#0d0887"
             ],
             [
              0.1111111111111111,
              "#46039f"
             ],
             [
              0.2222222222222222,
              "#7201a8"
             ],
             [
              0.3333333333333333,
              "#9c179e"
             ],
             [
              0.4444444444444444,
              "#bd3786"
             ],
             [
              0.5555555555555556,
              "#d8576b"
             ],
             [
              0.6666666666666666,
              "#ed7953"
             ],
             [
              0.7777777777777778,
              "#fb9f3a"
             ],
             [
              0.8888888888888888,
              "#fdca26"
             ],
             [
              1,
              "#f0f921"
             ]
            ],
            "type": "contour"
           }
          ],
          "contourcarpet": [
           {
            "colorbar": {
             "outlinewidth": 0,
             "ticks": ""
            },
            "type": "contourcarpet"
           }
          ],
          "heatmap": [
           {
            "colorbar": {
             "outlinewidth": 0,
             "ticks": ""
            },
            "colorscale": [
             [
              0,
              "#0d0887"
             ],
             [
              0.1111111111111111,
              "#46039f"
             ],
             [
              0.2222222222222222,
              "#7201a8"
             ],
             [
              0.3333333333333333,
              "#9c179e"
             ],
             [
              0.4444444444444444,
              "#bd3786"
             ],
             [
              0.5555555555555556,
              "#d8576b"
             ],
             [
              0.6666666666666666,
              "#ed7953"
             ],
             [
              0.7777777777777778,
              "#fb9f3a"
             ],
             [
              0.8888888888888888,
              "#fdca26"
             ],
             [
              1,
              "#f0f921"
             ]
            ],
            "type": "heatmap"
           }
          ],
          "heatmapgl": [
           {
            "colorbar": {
             "outlinewidth": 0,
             "ticks": ""
            },
            "colorscale": [
             [
              0,
              "#0d0887"
             ],
             [
              0.1111111111111111,
              "#46039f"
             ],
             [
              0.2222222222222222,
              "#7201a8"
             ],
             [
              0.3333333333333333,
              "#9c179e"
             ],
             [
              0.4444444444444444,
              "#bd3786"
             ],
             [
              0.5555555555555556,
              "#d8576b"
             ],
             [
              0.6666666666666666,
              "#ed7953"
             ],
             [
              0.7777777777777778,
              "#fb9f3a"
             ],
             [
              0.8888888888888888,
              "#fdca26"
             ],
             [
              1,
              "#f0f921"
             ]
            ],
            "type": "heatmapgl"
           }
          ],
          "histogram": [
           {
            "marker": {
             "colorbar": {
              "outlinewidth": 0,
              "ticks": ""
             }
            },
            "type": "histogram"
           }
          ],
          "histogram2d": [
           {
            "colorbar": {
             "outlinewidth": 0,
             "ticks": ""
            },
            "colorscale": [
             [
              0,
              "#0d0887"
             ],
             [
              0.1111111111111111,
              "#46039f"
             ],
             [
              0.2222222222222222,
              "#7201a8"
             ],
             [
              0.3333333333333333,
              "#9c179e"
             ],
             [
              0.4444444444444444,
              "#bd3786"
             ],
             [
              0.5555555555555556,
              "#d8576b"
             ],
             [
              0.6666666666666666,
              "#ed7953"
             ],
             [
              0.7777777777777778,
              "#fb9f3a"
             ],
             [
              0.8888888888888888,
              "#fdca26"
             ],
             [
              1,
              "#f0f921"
             ]
            ],
            "type": "histogram2d"
           }
          ],
          "histogram2dcontour": [
           {
            "colorbar": {
             "outlinewidth": 0,
             "ticks": ""
            },
            "colorscale": [
             [
              0,
              "#0d0887"
             ],
             [
              0.1111111111111111,
              "#46039f"
             ],
             [
              0.2222222222222222,
              "#7201a8"
             ],
             [
              0.3333333333333333,
              "#9c179e"
             ],
             [
              0.4444444444444444,
              "#bd3786"
             ],
             [
              0.5555555555555556,
              "#d8576b"
             ],
             [
              0.6666666666666666,
              "#ed7953"
             ],
             [
              0.7777777777777778,
              "#fb9f3a"
             ],
             [
              0.8888888888888888,
              "#fdca26"
             ],
             [
              1,
              "#f0f921"
             ]
            ],
            "type": "histogram2dcontour"
           }
          ],
          "mesh3d": [
           {
            "colorbar": {
             "outlinewidth": 0,
             "ticks": ""
            },
            "type": "mesh3d"
           }
          ],
          "parcoords": [
           {
            "line": {
             "colorbar": {
              "outlinewidth": 0,
              "ticks": ""
             }
            },
            "type": "parcoords"
           }
          ],
          "pie": [
           {
            "automargin": true,
            "type": "pie"
           }
          ],
          "scatter": [
           {
            "marker": {
             "colorbar": {
              "outlinewidth": 0,
              "ticks": ""
             }
            },
            "type": "scatter"
           }
          ],
          "scatter3d": [
           {
            "line": {
             "colorbar": {
              "outlinewidth": 0,
              "ticks": ""
             }
            },
            "marker": {
             "colorbar": {
              "outlinewidth": 0,
              "ticks": ""
             }
            },
            "type": "scatter3d"
           }
          ],
          "scattercarpet": [
           {
            "marker": {
             "colorbar": {
              "outlinewidth": 0,
              "ticks": ""
             }
            },
            "type": "scattercarpet"
           }
          ],
          "scattergeo": [
           {
            "marker": {
             "colorbar": {
              "outlinewidth": 0,
              "ticks": ""
             }
            },
            "type": "scattergeo"
           }
          ],
          "scattergl": [
           {
            "marker": {
             "colorbar": {
              "outlinewidth": 0,
              "ticks": ""
             }
            },
            "type": "scattergl"
           }
          ],
          "scattermapbox": [
           {
            "marker": {
             "colorbar": {
              "outlinewidth": 0,
              "ticks": ""
             }
            },
            "type": "scattermapbox"
           }
          ],
          "scatterpolar": [
           {
            "marker": {
             "colorbar": {
              "outlinewidth": 0,
              "ticks": ""
             }
            },
            "type": "scatterpolar"
           }
          ],
          "scatterpolargl": [
           {
            "marker": {
             "colorbar": {
              "outlinewidth": 0,
              "ticks": ""
             }
            },
            "type": "scatterpolargl"
           }
          ],
          "scatterternary": [
           {
            "marker": {
             "colorbar": {
              "outlinewidth": 0,
              "ticks": ""
             }
            },
            "type": "scatterternary"
           }
          ],
          "surface": [
           {
            "colorbar": {
             "outlinewidth": 0,
             "ticks": ""
            },
            "colorscale": [
             [
              0,
              "#0d0887"
             ],
             [
              0.1111111111111111,
              "#46039f"
             ],
             [
              0.2222222222222222,
              "#7201a8"
             ],
             [
              0.3333333333333333,
              "#9c179e"
             ],
             [
              0.4444444444444444,
              "#bd3786"
             ],
             [
              0.5555555555555556,
              "#d8576b"
             ],
             [
              0.6666666666666666,
              "#ed7953"
             ],
             [
              0.7777777777777778,
              "#fb9f3a"
             ],
             [
              0.8888888888888888,
              "#fdca26"
             ],
             [
              1,
              "#f0f921"
             ]
            ],
            "type": "surface"
           }
          ],
          "table": [
           {
            "cells": {
             "fill": {
              "color": "#EBF0F8"
             },
             "line": {
              "color": "white"
             }
            },
            "header": {
             "fill": {
              "color": "#C8D4E3"
             },
             "line": {
              "color": "white"
             }
            },
            "type": "table"
           }
          ]
         },
         "layout": {
          "annotationdefaults": {
           "arrowcolor": "#2a3f5f",
           "arrowhead": 0,
           "arrowwidth": 1
          },
          "autotypenumbers": "strict",
          "coloraxis": {
           "colorbar": {
            "outlinewidth": 0,
            "ticks": ""
           }
          },
          "colorscale": {
           "diverging": [
            [
             0,
             "#8e0152"
            ],
            [
             0.1,
             "#c51b7d"
            ],
            [
             0.2,
             "#de77ae"
            ],
            [
             0.3,
             "#f1b6da"
            ],
            [
             0.4,
             "#fde0ef"
            ],
            [
             0.5,
             "#f7f7f7"
            ],
            [
             0.6,
             "#e6f5d0"
            ],
            [
             0.7,
             "#b8e186"
            ],
            [
             0.8,
             "#7fbc41"
            ],
            [
             0.9,
             "#4d9221"
            ],
            [
             1,
             "#276419"
            ]
           ],
           "sequential": [
            [
             0,
             "#0d0887"
            ],
            [
             0.1111111111111111,
             "#46039f"
            ],
            [
             0.2222222222222222,
             "#7201a8"
            ],
            [
             0.3333333333333333,
             "#9c179e"
            ],
            [
             0.4444444444444444,
             "#bd3786"
            ],
            [
             0.5555555555555556,
             "#d8576b"
            ],
            [
             0.6666666666666666,
             "#ed7953"
            ],
            [
             0.7777777777777778,
             "#fb9f3a"
            ],
            [
             0.8888888888888888,
             "#fdca26"
            ],
            [
             1,
             "#f0f921"
            ]
           ],
           "sequentialminus": [
            [
             0,
             "#0d0887"
            ],
            [
             0.1111111111111111,
             "#46039f"
            ],
            [
             0.2222222222222222,
             "#7201a8"
            ],
            [
             0.3333333333333333,
             "#9c179e"
            ],
            [
             0.4444444444444444,
             "#bd3786"
            ],
            [
             0.5555555555555556,
             "#d8576b"
            ],
            [
             0.6666666666666666,
             "#ed7953"
            ],
            [
             0.7777777777777778,
             "#fb9f3a"
            ],
            [
             0.8888888888888888,
             "#fdca26"
            ],
            [
             1,
             "#f0f921"
            ]
           ]
          },
          "colorway": [
           "#636efa",
           "#EF553B",
           "#00cc96",
           "#ab63fa",
           "#FFA15A",
           "#19d3f3",
           "#FF6692",
           "#B6E880",
           "#FF97FF",
           "#FECB52"
          ],
          "font": {
           "color": "#2a3f5f"
          },
          "geo": {
           "bgcolor": "white",
           "lakecolor": "white",
           "landcolor": "#E5ECF6",
           "showlakes": true,
           "showland": true,
           "subunitcolor": "white"
          },
          "hoverlabel": {
           "align": "left"
          },
          "hovermode": "closest",
          "mapbox": {
           "style": "light"
          },
          "paper_bgcolor": "white",
          "plot_bgcolor": "#E5ECF6",
          "polar": {
           "angularaxis": {
            "gridcolor": "white",
            "linecolor": "white",
            "ticks": ""
           },
           "bgcolor": "#E5ECF6",
           "radialaxis": {
            "gridcolor": "white",
            "linecolor": "white",
            "ticks": ""
           }
          },
          "scene": {
           "xaxis": {
            "backgroundcolor": "#E5ECF6",
            "gridcolor": "white",
            "gridwidth": 2,
            "linecolor": "white",
            "showbackground": true,
            "ticks": "",
            "zerolinecolor": "white"
           },
           "yaxis": {
            "backgroundcolor": "#E5ECF6",
            "gridcolor": "white",
            "gridwidth": 2,
            "linecolor": "white",
            "showbackground": true,
            "ticks": "",
            "zerolinecolor": "white"
           },
           "zaxis": {
            "backgroundcolor": "#E5ECF6",
            "gridcolor": "white",
            "gridwidth": 2,
            "linecolor": "white",
            "showbackground": true,
            "ticks": "",
            "zerolinecolor": "white"
           }
          },
          "shapedefaults": {
           "line": {
            "color": "#2a3f5f"
           }
          },
          "ternary": {
           "aaxis": {
            "gridcolor": "white",
            "linecolor": "white",
            "ticks": ""
           },
           "baxis": {
            "gridcolor": "white",
            "linecolor": "white",
            "ticks": ""
           },
           "bgcolor": "#E5ECF6",
           "caxis": {
            "gridcolor": "white",
            "linecolor": "white",
            "ticks": ""
           }
          },
          "title": {
           "x": 0.05
          },
          "xaxis": {
           "automargin": true,
           "gridcolor": "white",
           "linecolor": "white",
           "ticks": "",
           "title": {
            "standoff": 15
           },
           "zerolinecolor": "white",
           "zerolinewidth": 2
          },
          "yaxis": {
           "automargin": true,
           "gridcolor": "white",
           "linecolor": "white",
           "ticks": "",
           "title": {
            "standoff": 15
           },
           "zerolinecolor": "white",
           "zerolinewidth": 2
          }
         }
        },
        "title": {
         "text": "Term Frequency"
        },
        "width": 1000,
        "xaxis": {
         "anchor": "y",
         "domain": [
          0,
          1
         ],
         "title": {
          "text": "prefLabel"
         }
        },
        "yaxis": {
         "anchor": "x",
         "domain": [
          0,
          1
         ],
         "title": {
          "text": "value"
         }
        }
       }
      },
      "text/html": [
       "<div>                            <div id=\"ac3d8491-fa32-4763-b2f0-152bbacd5624\" class=\"plotly-graph-div\" style=\"height:1000px; width:1000px;\"></div>            <script type=\"text/javascript\">                require([\"plotly\"], function(Plotly) {                    window.PLOTLYENV=window.PLOTLYENV || {};                                    if (document.getElementById(\"ac3d8491-fa32-4763-b2f0-152bbacd5624\")) {                    Plotly.newPlot(                        \"ac3d8491-fa32-4763-b2f0-152bbacd5624\",                        [{\"alignmentgroup\": \"True\", \"hovertemplate\": \"variable=count_x<br>prefLabel=%{x}<br>value=%{y}<extra></extra>\", \"legendgroup\": \"count_x\", \"marker\": {\"color\": \"#636efa\"}, \"name\": \"count_x\", \"offsetgroup\": \"count_x\", \"orientation\": \"v\", \"showlegend\": true, \"textposition\": \"auto\", \"type\": \"bar\", \"x\": [\"vigne\", \"colza\", \"chou\", \"chou potager\", \"bl\\u00e9\", \"pommier\", \"ma\\u00efs\", \"tomate\", \"carotte\", \"arboriculture fruiti\\u00e8re\", \"oignon\", \"culture l\\u00e9gumi\\u00e8re\", \"arbuste \\u00e0 baies\", \"pois\", \"floriculture\", \"poireau\", \"c\\u00e9r\\u00e9ale \\u00e0 paille\", \"mara\\u00eechage\", \"c\\u00e9r\\u00e9ale\", \"lin\", \"c\\u00e9leri\", \"arboriculture\", \"pomme de terre\", \"poirier\", \"salade\", \"betterave\", \"bl\\u00e9 tendre\", \"tournesol\", \"aubergine\", \"orge\", \"semence\", \"concombre\", \"zone non agricole\", \"fraisier\", \"ol\\u00e9agineux\", \"courgette\", \"p\\u00eacher\", \"cerisier\", \"culture fruiti\\u00e8re\", \"laitue\", \"poivron\", \"melon\", \"lin ol\\u00e9agineux\", \"prunier\", \"poir\\u00e9e\", \"bl\\u00e9 dur\", \"radis\", \"haricot\", \"l\\u00e9gume \\u00e0 graines ou \\u00e0 gousses\", \"abricotier\", \"jardin\", \"persil\", \"soja\", \"orge d'hiver\", \"\\u00e9chalote\", \"pois prot\\u00e9agineux de printemps\", \"navet potager\", \"tabac\", \"oranger\", \"courge\", \"f\\u00e9verole\", \"olivier\", \"rosier ornemental\", \"m\\u00e2che\", \"asperge\", \"vigne de cuve\", \"chicor\\u00e9e endive\", \"lin ol\\u00e9agineux d'hiver\", \"horticulture ornementale\", \"orge de printemps\", \"\\u00e9pinard\", \"ciboulette\", \"bl\\u00e9 tendre d'hiver\", \"arbre fruitier \\u00e0 noyau\", \"triticale\", \"pomme de terre potag\\u00e8re\", \"palmier\", \"noyer\", \"bananier\", \"prairie\", \"chicor\\u00e9e de Bruxelle\", \"framboisier\", \"jardins familiaux\", \"ch\\u00eane\", \"petit fruit\", \"haricot demi-sec\", \"laitue batavia\", \"ail\", \"gel\", \"ch\\u00e2taignier\", \"luzerne\", \"actinidia\", \"artichaut\", \"vigne de table\", \"rosier\", \"pois prot\\u00e9agineux d'hiver\", \"sorgho grain\", \"panais\", \"culture l\\u00e9gumi\\u00e8re de plein champ\", \"prot\\u00e9agineux\", \"scorson\\u00e8re\", \"betterave potag\\u00e8re\", \"sorgho\", \"agrume\", \"piment\", \"laurier\", \"olivier fruit \\u00e0 noyaux\", \"Chou cabus blanc\", \"f\\u00e8ve\", \"c\\u00e9leri-rave\", \"orge \\u00e0 six rangs\", \"amandier\", \"chicor\\u00e9e scarole\", \"chicor\\u00e9e\", \"chou pomm\\u00e9\", \"chou brocoli\", \"cresson\", \"lin ol\\u00e9agineux de printemps\", \"chou-fleur\", \"f\\u00e9verole d'hiver\", \"cassissier\", \"citronnier\", \"haricot vert\", \"manguier\", \"g\\u00e9ranium\", \"ma\\u00efs doux\", \"laitue \\u00e0 couper\", \"f\\u00e9verole de printemps\", \"moutarde\", \"ma\\u00efs grain\", \"fourrage annuel\", \"chou chinois\", \"avoine\", \"figuier\", \"bananier plantain\", \"riz\", \"goyavier\", \"cerfeuil\", \"ray-grass\", \"pois prot\\u00e9agineux\", \"ananas\", \"bananier musa\", \"chou de Milan\", \"chou cabus rouge\", \"noisetier\", \"roquette\", \"poinsettia\", \"chrysanth\\u00e8me\", \"chou-navet \\u00e0 chair jaune\", \"phac\\u00e9lie\", \"fenouil\", \"ma\\u00efs fourrage\", \"c\\u00e9r\\u00e9ale fourrag\\u00e8re\", \"pissenlit\", \"culture fourrag\\u00e8re\", \"seigle\", \"surface toujours en herbe\", \"engrais vert\", \"tr\\u00e8fle\", \"chou de Bruxelles\", \"groseillier\", \"myrtille\", \"chanvre\", \"colza d'hiver\", \"culture industrielle\", \"bl\\u00e9 dur d'hiver\", \"c\\u00e9leri \\u00e0 cotes\", \"chou fris\\u00e9\", \"laitue beurre pomm\\u00e9e\", \"betterave sucri\\u00e8re\", \"cl\\u00e9mentinier\", \"cognassier\", \"millet\", \"\\u00e9chalion\", \"colza de printemps\"], \"xaxis\": \"x\", \"y\": [1278, 984, 595, 595, 591, 553, 540, 467, 409, 401, 374, 371, 325, 322, 306, 304, 304, 275, 263, 247, 237, 230, 228, 202, 201, 197, 190, 181, 181, 177, 157, 147, 139, 126, 115, 114, 112, 109, 109, 109, 106, 98, 96, 96, 91, 77, 76, 74, 71, 69, 65, 63, 58, 56, 54, 54, 53, 52, 50, 49, 48, 48, 47, 45, 44, 44, 43, 43, 42, 41, 41, 40, 39, 38, 38, 37, 35, 35, 34, 33, 31, 30, 30, 29, 28, 27, 27, 27, 27, 27, 26, 26, 23, 22, 22, 22, 21, 21, 21, 20, 20, 19, 19, 18, 17, 17, 16, 15, 14, 14, 13, 13, 12, 12, 12, 11, 11, 11, 11, 10, 10, 10, 10, 10, 10, 10, 9, 9, 8, 8, 7, 7, 7, 7, 7, 7, 6, 6, 6, 6, 6, 6, 6, 5, 5, 5, 5, 5, 5, 5, 5, 4, 4, 4, 4, 4, 4, 3, 3, 3, 3, 3, 3, 3, 3, 2, 2, 2, 1, 1, 1, 1, 1, 1, 1], \"yaxis\": \"y\"}, {\"alignmentgroup\": \"True\", \"hovertemplate\": \"variable=count_y<br>prefLabel=%{x}<br>value=%{y}<extra></extra>\", \"legendgroup\": \"count_y\", \"marker\": {\"color\": \"#EF553B\"}, \"name\": \"count_y\", \"offsetgroup\": \"count_y\", \"orientation\": \"v\", \"showlegend\": true, \"textposition\": \"auto\", \"type\": \"bar\", \"x\": [\"vigne\", \"colza\", \"chou\", \"chou potager\", \"bl\\u00e9\", \"pommier\", \"ma\\u00efs\", \"tomate\", \"carotte\", \"arboriculture fruiti\\u00e8re\", \"oignon\", \"culture l\\u00e9gumi\\u00e8re\", \"arbuste \\u00e0 baies\", \"pois\", \"floriculture\", \"poireau\", \"c\\u00e9r\\u00e9ale \\u00e0 paille\", \"mara\\u00eechage\", \"c\\u00e9r\\u00e9ale\", \"lin\", \"c\\u00e9leri\", \"arboriculture\", \"pomme de terre\", \"poirier\", \"salade\", \"betterave\", \"bl\\u00e9 tendre\", \"tournesol\", \"aubergine\", \"orge\", \"semence\", \"concombre\", \"zone non agricole\", \"fraisier\", \"ol\\u00e9agineux\", \"courgette\", \"p\\u00eacher\", \"cerisier\", \"culture fruiti\\u00e8re\", \"laitue\", \"poivron\", \"melon\", \"lin ol\\u00e9agineux\", \"prunier\", \"poir\\u00e9e\", \"bl\\u00e9 dur\", \"radis\", \"haricot\", \"l\\u00e9gume \\u00e0 graines ou \\u00e0 gousses\", \"abricotier\", \"jardin\", \"persil\", \"soja\", \"orge d'hiver\", \"\\u00e9chalote\", \"pois prot\\u00e9agineux de printemps\", \"navet potager\", \"tabac\", \"oranger\", \"courge\", \"f\\u00e9verole\", \"olivier\", \"rosier ornemental\", \"m\\u00e2che\", \"asperge\", \"vigne de cuve\", \"chicor\\u00e9e endive\", \"lin ol\\u00e9agineux d'hiver\", \"horticulture ornementale\", \"orge de printemps\", \"\\u00e9pinard\", \"ciboulette\", \"bl\\u00e9 tendre d'hiver\", \"arbre fruitier \\u00e0 noyau\", \"triticale\", \"pomme de terre potag\\u00e8re\", \"palmier\", \"noyer\", \"bananier\", \"prairie\", \"chicor\\u00e9e de Bruxelle\", \"framboisier\", \"jardins familiaux\", \"ch\\u00eane\", \"petit fruit\", \"haricot demi-sec\", \"laitue batavia\", \"ail\", \"gel\", \"ch\\u00e2taignier\", \"luzerne\", \"actinidia\", \"artichaut\", \"vigne de table\", \"rosier\", \"pois prot\\u00e9agineux d'hiver\", \"sorgho grain\", \"panais\", \"culture l\\u00e9gumi\\u00e8re de plein champ\", \"prot\\u00e9agineux\", \"scorson\\u00e8re\", \"betterave potag\\u00e8re\", \"sorgho\", \"agrume\", \"piment\", \"laurier\", \"olivier fruit \\u00e0 noyaux\", \"Chou cabus blanc\", \"f\\u00e8ve\", \"c\\u00e9leri-rave\", \"orge \\u00e0 six rangs\", \"amandier\", \"chicor\\u00e9e scarole\", \"chicor\\u00e9e\", \"chou pomm\\u00e9\", \"chou brocoli\", \"cresson\", \"lin ol\\u00e9agineux de printemps\", \"chou-fleur\", \"f\\u00e9verole d'hiver\", \"cassissier\", \"citronnier\", \"haricot vert\", \"manguier\", \"g\\u00e9ranium\", \"ma\\u00efs doux\", \"laitue \\u00e0 couper\", \"f\\u00e9verole de printemps\", \"moutarde\", \"ma\\u00efs grain\", \"fourrage annuel\", \"chou chinois\", \"avoine\", \"figuier\", \"bananier plantain\", \"riz\", \"goyavier\", \"cerfeuil\", \"ray-grass\", \"pois prot\\u00e9agineux\", \"ananas\", \"bananier musa\", \"chou de Milan\", \"chou cabus rouge\", \"noisetier\", \"roquette\", \"poinsettia\", \"chrysanth\\u00e8me\", \"chou-navet \\u00e0 chair jaune\", \"phac\\u00e9lie\", \"fenouil\", \"ma\\u00efs fourrage\", \"c\\u00e9r\\u00e9ale fourrag\\u00e8re\", \"pissenlit\", \"culture fourrag\\u00e8re\", \"seigle\", \"surface toujours en herbe\", \"engrais vert\", \"tr\\u00e8fle\", \"chou de Bruxelles\", \"groseillier\", \"myrtille\", \"chanvre\", \"colza d'hiver\", \"culture industrielle\", \"bl\\u00e9 dur d'hiver\", \"c\\u00e9leri \\u00e0 cotes\", \"chou fris\\u00e9\", \"laitue beurre pomm\\u00e9e\", \"betterave sucri\\u00e8re\", \"cl\\u00e9mentinier\", \"cognassier\", \"millet\", \"\\u00e9chalion\", \"colza de printemps\"], \"xaxis\": \"x\", \"y\": [314, 696, 380, 380, 394, 742, 267, 134, 305, 561, 236, 236, 56, 494, 347, 229, 140, 44, 354, 281, 146, 285, 205, 339, 145, 171, 102, 130, 56, 122, 102, 65, 335, 111, 146, 58, 116, 110, 99, 78, 40, 77, 125, 143, 81, 49, 65, 41, 91, 54, 127, 96, 13, 27, 34, 100, 52, 15, 48, 8, 224, 24, 33, 49, 23, 11, 53, 47, 82, 20, 10, 21, 24, 5, 39, 31, 3, 121, 14, 45, 47, 48, 16, 52, 17, 13, 36, 26, 4, 87, 12, 45, 9, 35, 102, 66, 7, 18, 5, 117, 9, 10, 7, 47, 11, 26, 10, 5, 12, 10, 5, 11, 7, 7, 4, 10, 23, 29, 8, 25, 4, 4, 19, 8, 43, 2, 15, 29, 8, 13, 4, 2, 5, 2, 10, 5, 6, 14, 6, 49, 10, 1, 4, 1, 4, 17, 8, 44, 2, 1, 2, 3, 8, 4, 8, 14, 2, 2, 2, 7, 10, 6, 1, 2, 3, 1, 5, 1, 4, 1, 12, 2, 5, 1, 1], \"yaxis\": \"y\"}],                        {\"autosize\": false, \"barmode\": \"relative\", \"height\": 1000, \"legend\": {\"title\": {\"text\": \"variable\"}, \"tracegroupgap\": 0}, \"margin\": {\"b\": 200, \"l\": 200, \"r\": 200, \"t\": 200}, \"showlegend\": false, \"template\": {\"data\": {\"bar\": [{\"error_x\": {\"color\": \"#2a3f5f\"}, \"error_y\": {\"color\": \"#2a3f5f\"}, \"marker\": {\"line\": {\"color\": \"#E5ECF6\", \"width\": 0.5}}, \"type\": \"bar\"}], \"barpolar\": [{\"marker\": {\"line\": {\"color\": \"#E5ECF6\", \"width\": 0.5}}, \"type\": \"barpolar\"}], \"carpet\": [{\"aaxis\": {\"endlinecolor\": \"#2a3f5f\", \"gridcolor\": \"white\", \"linecolor\": \"white\", \"minorgridcolor\": \"white\", \"startlinecolor\": \"#2a3f5f\"}, \"baxis\": {\"endlinecolor\": \"#2a3f5f\", \"gridcolor\": \"white\", \"linecolor\": \"white\", \"minorgridcolor\": \"white\", \"startlinecolor\": \"#2a3f5f\"}, \"type\": \"carpet\"}], \"choropleth\": [{\"colorbar\": {\"outlinewidth\": 0, \"ticks\": \"\"}, \"type\": \"choropleth\"}], \"contour\": [{\"colorbar\": {\"outlinewidth\": 0, \"ticks\": \"\"}, \"colorscale\": [[0.0, \"#0d0887\"], [0.1111111111111111, \"#46039f\"], [0.2222222222222222, \"#7201a8\"], [0.3333333333333333, \"#9c179e\"], [0.4444444444444444, \"#bd3786\"], [0.5555555555555556, \"#d8576b\"], [0.6666666666666666, \"#ed7953\"], [0.7777777777777778, \"#fb9f3a\"], [0.8888888888888888, \"#fdca26\"], [1.0, \"#f0f921\"]], \"type\": \"contour\"}], \"contourcarpet\": [{\"colorbar\": {\"outlinewidth\": 0, \"ticks\": \"\"}, \"type\": \"contourcarpet\"}], \"heatmap\": [{\"colorbar\": {\"outlinewidth\": 0, \"ticks\": \"\"}, \"colorscale\": [[0.0, \"#0d0887\"], [0.1111111111111111, \"#46039f\"], [0.2222222222222222, \"#7201a8\"], [0.3333333333333333, \"#9c179e\"], [0.4444444444444444, \"#bd3786\"], [0.5555555555555556, \"#d8576b\"], [0.6666666666666666, \"#ed7953\"], [0.7777777777777778, \"#fb9f3a\"], [0.8888888888888888, \"#fdca26\"], [1.0, \"#f0f921\"]], \"type\": \"heatmap\"}], \"heatmapgl\": [{\"colorbar\": {\"outlinewidth\": 0, \"ticks\": \"\"}, \"colorscale\": [[0.0, \"#0d0887\"], [0.1111111111111111, \"#46039f\"], [0.2222222222222222, \"#7201a8\"], [0.3333333333333333, \"#9c179e\"], [0.4444444444444444, \"#bd3786\"], [0.5555555555555556, \"#d8576b\"], [0.6666666666666666, \"#ed7953\"], [0.7777777777777778, \"#fb9f3a\"], [0.8888888888888888, \"#fdca26\"], [1.0, \"#f0f921\"]], \"type\": \"heatmapgl\"}], \"histogram\": [{\"marker\": {\"colorbar\": {\"outlinewidth\": 0, \"ticks\": \"\"}}, \"type\": \"histogram\"}], \"histogram2d\": [{\"colorbar\": {\"outlinewidth\": 0, \"ticks\": \"\"}, \"colorscale\": [[0.0, \"#0d0887\"], [0.1111111111111111, \"#46039f\"], [0.2222222222222222, \"#7201a8\"], [0.3333333333333333, \"#9c179e\"], [0.4444444444444444, \"#bd3786\"], [0.5555555555555556, \"#d8576b\"], [0.6666666666666666, \"#ed7953\"], [0.7777777777777778, \"#fb9f3a\"], [0.8888888888888888, \"#fdca26\"], [1.0, \"#f0f921\"]], \"type\": \"histogram2d\"}], \"histogram2dcontour\": [{\"colorbar\": {\"outlinewidth\": 0, \"ticks\": \"\"}, \"colorscale\": [[0.0, \"#0d0887\"], [0.1111111111111111, \"#46039f\"], [0.2222222222222222, \"#7201a8\"], [0.3333333333333333, \"#9c179e\"], [0.4444444444444444, \"#bd3786\"], [0.5555555555555556, \"#d8576b\"], [0.6666666666666666, \"#ed7953\"], [0.7777777777777778, \"#fb9f3a\"], [0.8888888888888888, \"#fdca26\"], [1.0, \"#f0f921\"]], \"type\": \"histogram2dcontour\"}], \"mesh3d\": [{\"colorbar\": {\"outlinewidth\": 0, \"ticks\": \"\"}, \"type\": \"mesh3d\"}], \"parcoords\": [{\"line\": {\"colorbar\": {\"outlinewidth\": 0, \"ticks\": \"\"}}, \"type\": \"parcoords\"}], \"pie\": [{\"automargin\": true, \"type\": \"pie\"}], \"scatter\": [{\"marker\": {\"colorbar\": {\"outlinewidth\": 0, \"ticks\": \"\"}}, \"type\": \"scatter\"}], \"scatter3d\": [{\"line\": {\"colorbar\": {\"outlinewidth\": 0, \"ticks\": \"\"}}, \"marker\": {\"colorbar\": {\"outlinewidth\": 0, \"ticks\": \"\"}}, \"type\": \"scatter3d\"}], \"scattercarpet\": [{\"marker\": {\"colorbar\": {\"outlinewidth\": 0, \"ticks\": \"\"}}, \"type\": \"scattercarpet\"}], \"scattergeo\": [{\"marker\": {\"colorbar\": {\"outlinewidth\": 0, \"ticks\": \"\"}}, \"type\": \"scattergeo\"}], \"scattergl\": [{\"marker\": {\"colorbar\": {\"outlinewidth\": 0, \"ticks\": \"\"}}, \"type\": \"scattergl\"}], \"scattermapbox\": [{\"marker\": {\"colorbar\": {\"outlinewidth\": 0, \"ticks\": \"\"}}, \"type\": \"scattermapbox\"}], \"scatterpolar\": [{\"marker\": {\"colorbar\": {\"outlinewidth\": 0, \"ticks\": \"\"}}, \"type\": \"scatterpolar\"}], \"scatterpolargl\": [{\"marker\": {\"colorbar\": {\"outlinewidth\": 0, \"ticks\": \"\"}}, \"type\": \"scatterpolargl\"}], \"scatterternary\": [{\"marker\": {\"colorbar\": {\"outlinewidth\": 0, \"ticks\": \"\"}}, \"type\": \"scatterternary\"}], \"surface\": [{\"colorbar\": {\"outlinewidth\": 0, \"ticks\": \"\"}, \"colorscale\": [[0.0, \"#0d0887\"], [0.1111111111111111, \"#46039f\"], [0.2222222222222222, \"#7201a8\"], [0.3333333333333333, \"#9c179e\"], [0.4444444444444444, \"#bd3786\"], [0.5555555555555556, \"#d8576b\"], [0.6666666666666666, \"#ed7953\"], [0.7777777777777778, \"#fb9f3a\"], [0.8888888888888888, \"#fdca26\"], [1.0, \"#f0f921\"]], \"type\": \"surface\"}], \"table\": [{\"cells\": {\"fill\": {\"color\": \"#EBF0F8\"}, \"line\": {\"color\": \"white\"}}, \"header\": {\"fill\": {\"color\": \"#C8D4E3\"}, \"line\": {\"color\": \"white\"}}, \"type\": \"table\"}]}, \"layout\": {\"annotationdefaults\": {\"arrowcolor\": \"#2a3f5f\", \"arrowhead\": 0, \"arrowwidth\": 1}, \"autotypenumbers\": \"strict\", \"coloraxis\": {\"colorbar\": {\"outlinewidth\": 0, \"ticks\": \"\"}}, \"colorscale\": {\"diverging\": [[0, \"#8e0152\"], [0.1, \"#c51b7d\"], [0.2, \"#de77ae\"], [0.3, \"#f1b6da\"], [0.4, \"#fde0ef\"], [0.5, \"#f7f7f7\"], [0.6, \"#e6f5d0\"], [0.7, \"#b8e186\"], [0.8, \"#7fbc41\"], [0.9, \"#4d9221\"], [1, \"#276419\"]], \"sequential\": [[0.0, \"#0d0887\"], [0.1111111111111111, \"#46039f\"], [0.2222222222222222, \"#7201a8\"], [0.3333333333333333, \"#9c179e\"], [0.4444444444444444, \"#bd3786\"], [0.5555555555555556, \"#d8576b\"], [0.6666666666666666, \"#ed7953\"], [0.7777777777777778, \"#fb9f3a\"], [0.8888888888888888, \"#fdca26\"], [1.0, \"#f0f921\"]], \"sequentialminus\": [[0.0, \"#0d0887\"], [0.1111111111111111, \"#46039f\"], [0.2222222222222222, \"#7201a8\"], [0.3333333333333333, \"#9c179e\"], [0.4444444444444444, \"#bd3786\"], [0.5555555555555556, \"#d8576b\"], [0.6666666666666666, \"#ed7953\"], [0.7777777777777778, \"#fb9f3a\"], [0.8888888888888888, \"#fdca26\"], [1.0, \"#f0f921\"]]}, \"colorway\": [\"#636efa\", \"#EF553B\", \"#00cc96\", \"#ab63fa\", \"#FFA15A\", \"#19d3f3\", \"#FF6692\", \"#B6E880\", \"#FF97FF\", \"#FECB52\"], \"font\": {\"color\": \"#2a3f5f\"}, \"geo\": {\"bgcolor\": \"white\", \"lakecolor\": \"white\", \"landcolor\": \"#E5ECF6\", \"showlakes\": true, \"showland\": true, \"subunitcolor\": \"white\"}, \"hoverlabel\": {\"align\": \"left\"}, \"hovermode\": \"closest\", \"mapbox\": {\"style\": \"light\"}, \"paper_bgcolor\": \"white\", \"plot_bgcolor\": \"#E5ECF6\", \"polar\": {\"angularaxis\": {\"gridcolor\": \"white\", \"linecolor\": \"white\", \"ticks\": \"\"}, \"bgcolor\": \"#E5ECF6\", \"radialaxis\": {\"gridcolor\": \"white\", \"linecolor\": \"white\", \"ticks\": \"\"}}, \"scene\": {\"xaxis\": {\"backgroundcolor\": \"#E5ECF6\", \"gridcolor\": \"white\", \"gridwidth\": 2, \"linecolor\": \"white\", \"showbackground\": true, \"ticks\": \"\", \"zerolinecolor\": \"white\"}, \"yaxis\": {\"backgroundcolor\": \"#E5ECF6\", \"gridcolor\": \"white\", \"gridwidth\": 2, \"linecolor\": \"white\", \"showbackground\": true, \"ticks\": \"\", \"zerolinecolor\": \"white\"}, \"zaxis\": {\"backgroundcolor\": \"#E5ECF6\", \"gridcolor\": \"white\", \"gridwidth\": 2, \"linecolor\": \"white\", \"showbackground\": true, \"ticks\": \"\", \"zerolinecolor\": \"white\"}}, \"shapedefaults\": {\"line\": {\"color\": \"#2a3f5f\"}}, \"ternary\": {\"aaxis\": {\"gridcolor\": \"white\", \"linecolor\": \"white\", \"ticks\": \"\"}, \"baxis\": {\"gridcolor\": \"white\", \"linecolor\": \"white\", \"ticks\": \"\"}, \"bgcolor\": \"#E5ECF6\", \"caxis\": {\"gridcolor\": \"white\", \"linecolor\": \"white\", \"ticks\": \"\"}}, \"title\": {\"x\": 0.05}, \"xaxis\": {\"automargin\": true, \"gridcolor\": \"white\", \"linecolor\": \"white\", \"ticks\": \"\", \"title\": {\"standoff\": 15}, \"zerolinecolor\": \"white\", \"zerolinewidth\": 2}, \"yaxis\": {\"automargin\": true, \"gridcolor\": \"white\", \"linecolor\": \"white\", \"ticks\": \"\", \"title\": {\"standoff\": 15}, \"zerolinecolor\": \"white\", \"zerolinewidth\": 2}}}, \"title\": {\"text\": \"Term Frequency\"}, \"width\": 1000, \"xaxis\": {\"anchor\": \"y\", \"domain\": [0.0, 1.0], \"title\": {\"text\": \"prefLabel\"}}, \"yaxis\": {\"anchor\": \"x\", \"domain\": [0.0, 1.0], \"title\": {\"text\": \"value\"}}},                        {\"responsive\": true}                    ).then(function(){\n",
       "                            \n",
       "var gd = document.getElementById('ac3d8491-fa32-4763-b2f0-152bbacd5624');\n",
       "var x = new MutationObserver(function (mutations, observer) {{\n",
       "        var display = window.getComputedStyle(gd).display;\n",
       "        if (!display || display === 'none') {{\n",
       "            console.log([gd, 'removed!']);\n",
       "            Plotly.purge(gd);\n",
       "            observer.disconnect();\n",
       "        }}\n",
       "}});\n",
       "\n",
       "// Listen for the removal of the full notebook cells\n",
       "var notebookContainer = gd.closest('#notebook-container');\n",
       "if (notebookContainer) {{\n",
       "    x.observe(notebookContainer, {childList: true});\n",
       "}}\n",
       "\n",
       "// Listen for the clearing of the current output cell\n",
       "var outputEl = gd.closest('.output');\n",
       "if (outputEl) {{\n",
       "    x.observe(outputEl, {childList: true});\n",
       "}}\n",
       "\n",
       "                        })                };                });            </script>        </div>"
      ]
     },
     "metadata": {},
     "output_type": "display_data"
    }
   ],
   "source": [
    "fig = px.bar(result, x=\"prefLabel\", y=[\"count_x\", \"count_y\"], title=\"Term Frequency\")\n",
    "fig.update_layout(\n",
    "    margin=dict(t=200, r=200, b=200, l=200),\n",
    "    showlegend=False,\n",
    "    width=1000, height=1000,\n",
    "    autosize=False)\n",
    "\n",
    "fig.show()"
   ]
  },
  {
   "cell_type": "code",
   "execution_count": 202,
   "metadata": {},
   "outputs": [
    {
     "data": {
      "application/vnd.plotly.v1+json": {
       "config": {
        "plotlyServerURL": "https://plotly.com"
       },
       "data": [
        {
         "hovertemplate": "variable=count_x<br>prefLabel=%{x}<br>value=%{y}<extra></extra>",
         "legendgroup": "count_x",
         "marker": {
          "color": "#636efa",
          "symbol": "circle"
         },
         "mode": "markers",
         "name": "count_x",
         "orientation": "v",
         "showlegend": true,
         "type": "scatter",
         "x": [
          "vigne",
          "colza",
          "chou",
          "chou potager",
          "blé",
          "pommier",
          "maïs",
          "tomate",
          "carotte",
          "arboriculture fruitière",
          "oignon",
          "culture légumière",
          "arbuste à baies",
          "pois",
          "floriculture",
          "poireau",
          "céréale à paille",
          "maraîchage",
          "céréale",
          "lin",
          "céleri",
          "arboriculture",
          "pomme de terre",
          "poirier",
          "salade",
          "betterave",
          "blé tendre",
          "tournesol",
          "aubergine",
          "orge",
          "semence",
          "concombre",
          "zone non agricole",
          "fraisier",
          "oléagineux",
          "courgette",
          "pêcher",
          "cerisier",
          "culture fruitière",
          "laitue",
          "poivron",
          "melon",
          "lin oléagineux",
          "prunier",
          "poirée",
          "blé dur",
          "radis",
          "haricot",
          "légume à graines ou à gousses",
          "abricotier",
          "jardin",
          "persil",
          "soja",
          "orge d'hiver",
          "échalote",
          "pois protéagineux de printemps",
          "navet potager",
          "tabac",
          "oranger",
          "courge",
          "féverole",
          "olivier",
          "rosier ornemental",
          "mâche",
          "asperge",
          "vigne de cuve",
          "chicorée endive",
          "lin oléagineux d'hiver",
          "horticulture ornementale",
          "orge de printemps",
          "épinard",
          "ciboulette",
          "blé tendre d'hiver",
          "arbre fruitier à noyau",
          "triticale",
          "pomme de terre potagère",
          "palmier",
          "noyer",
          "bananier",
          "prairie",
          "chicorée de Bruxelle",
          "framboisier",
          "jardins familiaux",
          "chêne",
          "petit fruit",
          "haricot demi-sec",
          "laitue batavia",
          "ail",
          "gel",
          "châtaignier",
          "luzerne",
          "actinidia",
          "artichaut",
          "vigne de table",
          "rosier",
          "pois protéagineux d'hiver",
          "sorgho grain",
          "panais",
          "culture légumière de plein champ",
          "protéagineux",
          "scorsonère",
          "betterave potagère",
          "sorgho",
          "agrume",
          "piment",
          "laurier",
          "olivier fruit à noyaux",
          "Chou cabus blanc",
          "fève",
          "céleri-rave",
          "orge à six rangs",
          "amandier",
          "chicorée scarole",
          "chicorée",
          "chou pommé",
          "chou brocoli",
          "cresson",
          "lin oléagineux de printemps",
          "chou-fleur",
          "féverole d'hiver",
          "cassissier",
          "citronnier",
          "haricot vert",
          "manguier",
          "géranium",
          "maïs doux",
          "laitue à couper",
          "féverole de printemps",
          "moutarde",
          "maïs grain",
          "fourrage annuel",
          "chou chinois",
          "avoine",
          "figuier",
          "bananier plantain",
          "riz",
          "goyavier",
          "cerfeuil",
          "ray-grass",
          "pois protéagineux",
          "ananas",
          "bananier musa",
          "chou de Milan",
          "chou cabus rouge",
          "noisetier",
          "roquette",
          "poinsettia",
          "chrysanthème",
          "chou-navet à chair jaune",
          "phacélie",
          "fenouil",
          "maïs fourrage",
          "céréale fourragère",
          "pissenlit",
          "culture fourragère",
          "seigle",
          "surface toujours en herbe",
          "engrais vert",
          "trèfle",
          "chou de Bruxelles",
          "groseillier",
          "myrtille",
          "chanvre",
          "colza d'hiver",
          "culture industrielle",
          "blé dur d'hiver",
          "céleri à cotes",
          "chou frisé",
          "laitue beurre pommée",
          "betterave sucrière",
          "clémentinier",
          "cognassier",
          "millet",
          "échalion",
          "colza de printemps"
         ],
         "xaxis": "x",
         "y": [
          1278,
          984,
          595,
          595,
          591,
          553,
          540,
          467,
          409,
          401,
          374,
          371,
          325,
          322,
          306,
          304,
          304,
          275,
          263,
          247,
          237,
          230,
          228,
          202,
          201,
          197,
          190,
          181,
          181,
          177,
          157,
          147,
          139,
          126,
          115,
          114,
          112,
          109,
          109,
          109,
          106,
          98,
          96,
          96,
          91,
          77,
          76,
          74,
          71,
          69,
          65,
          63,
          58,
          56,
          54,
          54,
          53,
          52,
          50,
          49,
          48,
          48,
          47,
          45,
          44,
          44,
          43,
          43,
          42,
          41,
          41,
          40,
          39,
          38,
          38,
          37,
          35,
          35,
          34,
          33,
          31,
          30,
          30,
          29,
          28,
          27,
          27,
          27,
          27,
          27,
          26,
          26,
          23,
          22,
          22,
          22,
          21,
          21,
          21,
          20,
          20,
          19,
          19,
          18,
          17,
          17,
          16,
          15,
          14,
          14,
          13,
          13,
          12,
          12,
          12,
          11,
          11,
          11,
          11,
          10,
          10,
          10,
          10,
          10,
          10,
          10,
          9,
          9,
          8,
          8,
          7,
          7,
          7,
          7,
          7,
          7,
          6,
          6,
          6,
          6,
          6,
          6,
          6,
          5,
          5,
          5,
          5,
          5,
          5,
          5,
          5,
          4,
          4,
          4,
          4,
          4,
          4,
          3,
          3,
          3,
          3,
          3,
          3,
          3,
          3,
          2,
          2,
          2,
          1,
          1,
          1,
          1,
          1,
          1,
          1
         ],
         "yaxis": "y"
        },
        {
         "hovertemplate": "variable=count_y<br>prefLabel=%{x}<br>value=%{y}<extra></extra>",
         "legendgroup": "count_y",
         "marker": {
          "color": "#EF553B",
          "symbol": "circle"
         },
         "mode": "markers",
         "name": "count_y",
         "orientation": "v",
         "showlegend": true,
         "type": "scatter",
         "x": [
          "vigne",
          "colza",
          "chou",
          "chou potager",
          "blé",
          "pommier",
          "maïs",
          "tomate",
          "carotte",
          "arboriculture fruitière",
          "oignon",
          "culture légumière",
          "arbuste à baies",
          "pois",
          "floriculture",
          "poireau",
          "céréale à paille",
          "maraîchage",
          "céréale",
          "lin",
          "céleri",
          "arboriculture",
          "pomme de terre",
          "poirier",
          "salade",
          "betterave",
          "blé tendre",
          "tournesol",
          "aubergine",
          "orge",
          "semence",
          "concombre",
          "zone non agricole",
          "fraisier",
          "oléagineux",
          "courgette",
          "pêcher",
          "cerisier",
          "culture fruitière",
          "laitue",
          "poivron",
          "melon",
          "lin oléagineux",
          "prunier",
          "poirée",
          "blé dur",
          "radis",
          "haricot",
          "légume à graines ou à gousses",
          "abricotier",
          "jardin",
          "persil",
          "soja",
          "orge d'hiver",
          "échalote",
          "pois protéagineux de printemps",
          "navet potager",
          "tabac",
          "oranger",
          "courge",
          "féverole",
          "olivier",
          "rosier ornemental",
          "mâche",
          "asperge",
          "vigne de cuve",
          "chicorée endive",
          "lin oléagineux d'hiver",
          "horticulture ornementale",
          "orge de printemps",
          "épinard",
          "ciboulette",
          "blé tendre d'hiver",
          "arbre fruitier à noyau",
          "triticale",
          "pomme de terre potagère",
          "palmier",
          "noyer",
          "bananier",
          "prairie",
          "chicorée de Bruxelle",
          "framboisier",
          "jardins familiaux",
          "chêne",
          "petit fruit",
          "haricot demi-sec",
          "laitue batavia",
          "ail",
          "gel",
          "châtaignier",
          "luzerne",
          "actinidia",
          "artichaut",
          "vigne de table",
          "rosier",
          "pois protéagineux d'hiver",
          "sorgho grain",
          "panais",
          "culture légumière de plein champ",
          "protéagineux",
          "scorsonère",
          "betterave potagère",
          "sorgho",
          "agrume",
          "piment",
          "laurier",
          "olivier fruit à noyaux",
          "Chou cabus blanc",
          "fève",
          "céleri-rave",
          "orge à six rangs",
          "amandier",
          "chicorée scarole",
          "chicorée",
          "chou pommé",
          "chou brocoli",
          "cresson",
          "lin oléagineux de printemps",
          "chou-fleur",
          "féverole d'hiver",
          "cassissier",
          "citronnier",
          "haricot vert",
          "manguier",
          "géranium",
          "maïs doux",
          "laitue à couper",
          "féverole de printemps",
          "moutarde",
          "maïs grain",
          "fourrage annuel",
          "chou chinois",
          "avoine",
          "figuier",
          "bananier plantain",
          "riz",
          "goyavier",
          "cerfeuil",
          "ray-grass",
          "pois protéagineux",
          "ananas",
          "bananier musa",
          "chou de Milan",
          "chou cabus rouge",
          "noisetier",
          "roquette",
          "poinsettia",
          "chrysanthème",
          "chou-navet à chair jaune",
          "phacélie",
          "fenouil",
          "maïs fourrage",
          "céréale fourragère",
          "pissenlit",
          "culture fourragère",
          "seigle",
          "surface toujours en herbe",
          "engrais vert",
          "trèfle",
          "chou de Bruxelles",
          "groseillier",
          "myrtille",
          "chanvre",
          "colza d'hiver",
          "culture industrielle",
          "blé dur d'hiver",
          "céleri à cotes",
          "chou frisé",
          "laitue beurre pommée",
          "betterave sucrière",
          "clémentinier",
          "cognassier",
          "millet",
          "échalion",
          "colza de printemps"
         ],
         "xaxis": "x",
         "y": [
          314,
          696,
          380,
          380,
          394,
          742,
          267,
          134,
          305,
          561,
          236,
          236,
          56,
          494,
          347,
          229,
          140,
          44,
          354,
          281,
          146,
          285,
          205,
          339,
          145,
          171,
          102,
          130,
          56,
          122,
          102,
          65,
          335,
          111,
          146,
          58,
          116,
          110,
          99,
          78,
          40,
          77,
          125,
          143,
          81,
          49,
          65,
          41,
          91,
          54,
          127,
          96,
          13,
          27,
          34,
          100,
          52,
          15,
          48,
          8,
          224,
          24,
          33,
          49,
          23,
          11,
          53,
          47,
          82,
          20,
          10,
          21,
          24,
          5,
          39,
          31,
          3,
          121,
          14,
          45,
          47,
          48,
          16,
          52,
          17,
          13,
          36,
          26,
          4,
          87,
          12,
          45,
          9,
          35,
          102,
          66,
          7,
          18,
          5,
          117,
          9,
          10,
          7,
          47,
          11,
          26,
          10,
          5,
          12,
          10,
          5,
          11,
          7,
          7,
          4,
          10,
          23,
          29,
          8,
          25,
          4,
          4,
          19,
          8,
          43,
          2,
          15,
          29,
          8,
          13,
          4,
          2,
          5,
          2,
          10,
          5,
          6,
          14,
          6,
          49,
          10,
          1,
          4,
          1,
          4,
          17,
          8,
          44,
          2,
          1,
          2,
          3,
          8,
          4,
          8,
          14,
          2,
          2,
          2,
          7,
          10,
          6,
          1,
          2,
          3,
          1,
          5,
          1,
          4,
          1,
          12,
          2,
          5,
          1,
          1
         ],
         "yaxis": "y"
        }
       ],
       "layout": {
        "legend": {
         "title": {
          "text": "variable"
         },
         "tracegroupgap": 0
        },
        "template": {
         "data": {
          "bar": [
           {
            "error_x": {
             "color": "#2a3f5f"
            },
            "error_y": {
             "color": "#2a3f5f"
            },
            "marker": {
             "line": {
              "color": "#E5ECF6",
              "width": 0.5
             }
            },
            "type": "bar"
           }
          ],
          "barpolar": [
           {
            "marker": {
             "line": {
              "color": "#E5ECF6",
              "width": 0.5
             }
            },
            "type": "barpolar"
           }
          ],
          "carpet": [
           {
            "aaxis": {
             "endlinecolor": "#2a3f5f",
             "gridcolor": "white",
             "linecolor": "white",
             "minorgridcolor": "white",
             "startlinecolor": "#2a3f5f"
            },
            "baxis": {
             "endlinecolor": "#2a3f5f",
             "gridcolor": "white",
             "linecolor": "white",
             "minorgridcolor": "white",
             "startlinecolor": "#2a3f5f"
            },
            "type": "carpet"
           }
          ],
          "choropleth": [
           {
            "colorbar": {
             "outlinewidth": 0,
             "ticks": ""
            },
            "type": "choropleth"
           }
          ],
          "contour": [
           {
            "colorbar": {
             "outlinewidth": 0,
             "ticks": ""
            },
            "colorscale": [
             [
              0,
              "#0d0887"
             ],
             [
              0.1111111111111111,
              "#46039f"
             ],
             [
              0.2222222222222222,
              "#7201a8"
             ],
             [
              0.3333333333333333,
              "#9c179e"
             ],
             [
              0.4444444444444444,
              "#bd3786"
             ],
             [
              0.5555555555555556,
              "#d8576b"
             ],
             [
              0.6666666666666666,
              "#ed7953"
             ],
             [
              0.7777777777777778,
              "#fb9f3a"
             ],
             [
              0.8888888888888888,
              "#fdca26"
             ],
             [
              1,
              "#f0f921"
             ]
            ],
            "type": "contour"
           }
          ],
          "contourcarpet": [
           {
            "colorbar": {
             "outlinewidth": 0,
             "ticks": ""
            },
            "type": "contourcarpet"
           }
          ],
          "heatmap": [
           {
            "colorbar": {
             "outlinewidth": 0,
             "ticks": ""
            },
            "colorscale": [
             [
              0,
              "#0d0887"
             ],
             [
              0.1111111111111111,
              "#46039f"
             ],
             [
              0.2222222222222222,
              "#7201a8"
             ],
             [
              0.3333333333333333,
              "#9c179e"
             ],
             [
              0.4444444444444444,
              "#bd3786"
             ],
             [
              0.5555555555555556,
              "#d8576b"
             ],
             [
              0.6666666666666666,
              "#ed7953"
             ],
             [
              0.7777777777777778,
              "#fb9f3a"
             ],
             [
              0.8888888888888888,
              "#fdca26"
             ],
             [
              1,
              "#f0f921"
             ]
            ],
            "type": "heatmap"
           }
          ],
          "heatmapgl": [
           {
            "colorbar": {
             "outlinewidth": 0,
             "ticks": ""
            },
            "colorscale": [
             [
              0,
              "#0d0887"
             ],
             [
              0.1111111111111111,
              "#46039f"
             ],
             [
              0.2222222222222222,
              "#7201a8"
             ],
             [
              0.3333333333333333,
              "#9c179e"
             ],
             [
              0.4444444444444444,
              "#bd3786"
             ],
             [
              0.5555555555555556,
              "#d8576b"
             ],
             [
              0.6666666666666666,
              "#ed7953"
             ],
             [
              0.7777777777777778,
              "#fb9f3a"
             ],
             [
              0.8888888888888888,
              "#fdca26"
             ],
             [
              1,
              "#f0f921"
             ]
            ],
            "type": "heatmapgl"
           }
          ],
          "histogram": [
           {
            "marker": {
             "colorbar": {
              "outlinewidth": 0,
              "ticks": ""
             }
            },
            "type": "histogram"
           }
          ],
          "histogram2d": [
           {
            "colorbar": {
             "outlinewidth": 0,
             "ticks": ""
            },
            "colorscale": [
             [
              0,
              "#0d0887"
             ],
             [
              0.1111111111111111,
              "#46039f"
             ],
             [
              0.2222222222222222,
              "#7201a8"
             ],
             [
              0.3333333333333333,
              "#9c179e"
             ],
             [
              0.4444444444444444,
              "#bd3786"
             ],
             [
              0.5555555555555556,
              "#d8576b"
             ],
             [
              0.6666666666666666,
              "#ed7953"
             ],
             [
              0.7777777777777778,
              "#fb9f3a"
             ],
             [
              0.8888888888888888,
              "#fdca26"
             ],
             [
              1,
              "#f0f921"
             ]
            ],
            "type": "histogram2d"
           }
          ],
          "histogram2dcontour": [
           {
            "colorbar": {
             "outlinewidth": 0,
             "ticks": ""
            },
            "colorscale": [
             [
              0,
              "#0d0887"
             ],
             [
              0.1111111111111111,
              "#46039f"
             ],
             [
              0.2222222222222222,
              "#7201a8"
             ],
             [
              0.3333333333333333,
              "#9c179e"
             ],
             [
              0.4444444444444444,
              "#bd3786"
             ],
             [
              0.5555555555555556,
              "#d8576b"
             ],
             [
              0.6666666666666666,
              "#ed7953"
             ],
             [
              0.7777777777777778,
              "#fb9f3a"
             ],
             [
              0.8888888888888888,
              "#fdca26"
             ],
             [
              1,
              "#f0f921"
             ]
            ],
            "type": "histogram2dcontour"
           }
          ],
          "mesh3d": [
           {
            "colorbar": {
             "outlinewidth": 0,
             "ticks": ""
            },
            "type": "mesh3d"
           }
          ],
          "parcoords": [
           {
            "line": {
             "colorbar": {
              "outlinewidth": 0,
              "ticks": ""
             }
            },
            "type": "parcoords"
           }
          ],
          "pie": [
           {
            "automargin": true,
            "type": "pie"
           }
          ],
          "scatter": [
           {
            "marker": {
             "colorbar": {
              "outlinewidth": 0,
              "ticks": ""
             }
            },
            "type": "scatter"
           }
          ],
          "scatter3d": [
           {
            "line": {
             "colorbar": {
              "outlinewidth": 0,
              "ticks": ""
             }
            },
            "marker": {
             "colorbar": {
              "outlinewidth": 0,
              "ticks": ""
             }
            },
            "type": "scatter3d"
           }
          ],
          "scattercarpet": [
           {
            "marker": {
             "colorbar": {
              "outlinewidth": 0,
              "ticks": ""
             }
            },
            "type": "scattercarpet"
           }
          ],
          "scattergeo": [
           {
            "marker": {
             "colorbar": {
              "outlinewidth": 0,
              "ticks": ""
             }
            },
            "type": "scattergeo"
           }
          ],
          "scattergl": [
           {
            "marker": {
             "colorbar": {
              "outlinewidth": 0,
              "ticks": ""
             }
            },
            "type": "scattergl"
           }
          ],
          "scattermapbox": [
           {
            "marker": {
             "colorbar": {
              "outlinewidth": 0,
              "ticks": ""
             }
            },
            "type": "scattermapbox"
           }
          ],
          "scatterpolar": [
           {
            "marker": {
             "colorbar": {
              "outlinewidth": 0,
              "ticks": ""
             }
            },
            "type": "scatterpolar"
           }
          ],
          "scatterpolargl": [
           {
            "marker": {
             "colorbar": {
              "outlinewidth": 0,
              "ticks": ""
             }
            },
            "type": "scatterpolargl"
           }
          ],
          "scatterternary": [
           {
            "marker": {
             "colorbar": {
              "outlinewidth": 0,
              "ticks": ""
             }
            },
            "type": "scatterternary"
           }
          ],
          "surface": [
           {
            "colorbar": {
             "outlinewidth": 0,
             "ticks": ""
            },
            "colorscale": [
             [
              0,
              "#0d0887"
             ],
             [
              0.1111111111111111,
              "#46039f"
             ],
             [
              0.2222222222222222,
              "#7201a8"
             ],
             [
              0.3333333333333333,
              "#9c179e"
             ],
             [
              0.4444444444444444,
              "#bd3786"
             ],
             [
              0.5555555555555556,
              "#d8576b"
             ],
             [
              0.6666666666666666,
              "#ed7953"
             ],
             [
              0.7777777777777778,
              "#fb9f3a"
             ],
             [
              0.8888888888888888,
              "#fdca26"
             ],
             [
              1,
              "#f0f921"
             ]
            ],
            "type": "surface"
           }
          ],
          "table": [
           {
            "cells": {
             "fill": {
              "color": "#EBF0F8"
             },
             "line": {
              "color": "white"
             }
            },
            "header": {
             "fill": {
              "color": "#C8D4E3"
             },
             "line": {
              "color": "white"
             }
            },
            "type": "table"
           }
          ]
         },
         "layout": {
          "annotationdefaults": {
           "arrowcolor": "#2a3f5f",
           "arrowhead": 0,
           "arrowwidth": 1
          },
          "autotypenumbers": "strict",
          "coloraxis": {
           "colorbar": {
            "outlinewidth": 0,
            "ticks": ""
           }
          },
          "colorscale": {
           "diverging": [
            [
             0,
             "#8e0152"
            ],
            [
             0.1,
             "#c51b7d"
            ],
            [
             0.2,
             "#de77ae"
            ],
            [
             0.3,
             "#f1b6da"
            ],
            [
             0.4,
             "#fde0ef"
            ],
            [
             0.5,
             "#f7f7f7"
            ],
            [
             0.6,
             "#e6f5d0"
            ],
            [
             0.7,
             "#b8e186"
            ],
            [
             0.8,
             "#7fbc41"
            ],
            [
             0.9,
             "#4d9221"
            ],
            [
             1,
             "#276419"
            ]
           ],
           "sequential": [
            [
             0,
             "#0d0887"
            ],
            [
             0.1111111111111111,
             "#46039f"
            ],
            [
             0.2222222222222222,
             "#7201a8"
            ],
            [
             0.3333333333333333,
             "#9c179e"
            ],
            [
             0.4444444444444444,
             "#bd3786"
            ],
            [
             0.5555555555555556,
             "#d8576b"
            ],
            [
             0.6666666666666666,
             "#ed7953"
            ],
            [
             0.7777777777777778,
             "#fb9f3a"
            ],
            [
             0.8888888888888888,
             "#fdca26"
            ],
            [
             1,
             "#f0f921"
            ]
           ],
           "sequentialminus": [
            [
             0,
             "#0d0887"
            ],
            [
             0.1111111111111111,
             "#46039f"
            ],
            [
             0.2222222222222222,
             "#7201a8"
            ],
            [
             0.3333333333333333,
             "#9c179e"
            ],
            [
             0.4444444444444444,
             "#bd3786"
            ],
            [
             0.5555555555555556,
             "#d8576b"
            ],
            [
             0.6666666666666666,
             "#ed7953"
            ],
            [
             0.7777777777777778,
             "#fb9f3a"
            ],
            [
             0.8888888888888888,
             "#fdca26"
            ],
            [
             1,
             "#f0f921"
            ]
           ]
          },
          "colorway": [
           "#636efa",
           "#EF553B",
           "#00cc96",
           "#ab63fa",
           "#FFA15A",
           "#19d3f3",
           "#FF6692",
           "#B6E880",
           "#FF97FF",
           "#FECB52"
          ],
          "font": {
           "color": "#2a3f5f"
          },
          "geo": {
           "bgcolor": "white",
           "lakecolor": "white",
           "landcolor": "#E5ECF6",
           "showlakes": true,
           "showland": true,
           "subunitcolor": "white"
          },
          "hoverlabel": {
           "align": "left"
          },
          "hovermode": "closest",
          "mapbox": {
           "style": "light"
          },
          "paper_bgcolor": "white",
          "plot_bgcolor": "#E5ECF6",
          "polar": {
           "angularaxis": {
            "gridcolor": "white",
            "linecolor": "white",
            "ticks": ""
           },
           "bgcolor": "#E5ECF6",
           "radialaxis": {
            "gridcolor": "white",
            "linecolor": "white",
            "ticks": ""
           }
          },
          "scene": {
           "xaxis": {
            "backgroundcolor": "#E5ECF6",
            "gridcolor": "white",
            "gridwidth": 2,
            "linecolor": "white",
            "showbackground": true,
            "ticks": "",
            "zerolinecolor": "white"
           },
           "yaxis": {
            "backgroundcolor": "#E5ECF6",
            "gridcolor": "white",
            "gridwidth": 2,
            "linecolor": "white",
            "showbackground": true,
            "ticks": "",
            "zerolinecolor": "white"
           },
           "zaxis": {
            "backgroundcolor": "#E5ECF6",
            "gridcolor": "white",
            "gridwidth": 2,
            "linecolor": "white",
            "showbackground": true,
            "ticks": "",
            "zerolinecolor": "white"
           }
          },
          "shapedefaults": {
           "line": {
            "color": "#2a3f5f"
           }
          },
          "ternary": {
           "aaxis": {
            "gridcolor": "white",
            "linecolor": "white",
            "ticks": ""
           },
           "baxis": {
            "gridcolor": "white",
            "linecolor": "white",
            "ticks": ""
           },
           "bgcolor": "#E5ECF6",
           "caxis": {
            "gridcolor": "white",
            "linecolor": "white",
            "ticks": ""
           }
          },
          "title": {
           "x": 0.05
          },
          "xaxis": {
           "automargin": true,
           "gridcolor": "white",
           "linecolor": "white",
           "ticks": "",
           "title": {
            "standoff": 15
           },
           "zerolinecolor": "white",
           "zerolinewidth": 2
          },
          "yaxis": {
           "automargin": true,
           "gridcolor": "white",
           "linecolor": "white",
           "ticks": "",
           "title": {
            "standoff": 15
           },
           "zerolinecolor": "white",
           "zerolinewidth": 2
          }
         }
        },
        "title": {
         "text": "Term frequency"
        },
        "xaxis": {
         "anchor": "y",
         "domain": [
          0,
          1
         ],
         "title": {
          "text": "prefLabel"
         }
        },
        "yaxis": {
         "anchor": "x",
         "domain": [
          0,
          1
         ],
         "title": {
          "text": "value"
         }
        }
       }
      },
      "text/html": [
       "<div>                            <div id=\"8c408265-4365-4331-86fb-56c124b648a7\" class=\"plotly-graph-div\" style=\"height:525px; width:100%;\"></div>            <script type=\"text/javascript\">                require([\"plotly\"], function(Plotly) {                    window.PLOTLYENV=window.PLOTLYENV || {};                                    if (document.getElementById(\"8c408265-4365-4331-86fb-56c124b648a7\")) {                    Plotly.newPlot(                        \"8c408265-4365-4331-86fb-56c124b648a7\",                        [{\"hovertemplate\": \"variable=count_x<br>prefLabel=%{x}<br>value=%{y}<extra></extra>\", \"legendgroup\": \"count_x\", \"marker\": {\"color\": \"#636efa\", \"symbol\": \"circle\"}, \"mode\": \"markers\", \"name\": \"count_x\", \"orientation\": \"v\", \"showlegend\": true, \"type\": \"scatter\", \"x\": [\"vigne\", \"colza\", \"chou\", \"chou potager\", \"bl\\u00e9\", \"pommier\", \"ma\\u00efs\", \"tomate\", \"carotte\", \"arboriculture fruiti\\u00e8re\", \"oignon\", \"culture l\\u00e9gumi\\u00e8re\", \"arbuste \\u00e0 baies\", \"pois\", \"floriculture\", \"poireau\", \"c\\u00e9r\\u00e9ale \\u00e0 paille\", \"mara\\u00eechage\", \"c\\u00e9r\\u00e9ale\", \"lin\", \"c\\u00e9leri\", \"arboriculture\", \"pomme de terre\", \"poirier\", \"salade\", \"betterave\", \"bl\\u00e9 tendre\", \"tournesol\", \"aubergine\", \"orge\", \"semence\", \"concombre\", \"zone non agricole\", \"fraisier\", \"ol\\u00e9agineux\", \"courgette\", \"p\\u00eacher\", \"cerisier\", \"culture fruiti\\u00e8re\", \"laitue\", \"poivron\", \"melon\", \"lin ol\\u00e9agineux\", \"prunier\", \"poir\\u00e9e\", \"bl\\u00e9 dur\", \"radis\", \"haricot\", \"l\\u00e9gume \\u00e0 graines ou \\u00e0 gousses\", \"abricotier\", \"jardin\", \"persil\", \"soja\", \"orge d'hiver\", \"\\u00e9chalote\", \"pois prot\\u00e9agineux de printemps\", \"navet potager\", \"tabac\", \"oranger\", \"courge\", \"f\\u00e9verole\", \"olivier\", \"rosier ornemental\", \"m\\u00e2che\", \"asperge\", \"vigne de cuve\", \"chicor\\u00e9e endive\", \"lin ol\\u00e9agineux d'hiver\", \"horticulture ornementale\", \"orge de printemps\", \"\\u00e9pinard\", \"ciboulette\", \"bl\\u00e9 tendre d'hiver\", \"arbre fruitier \\u00e0 noyau\", \"triticale\", \"pomme de terre potag\\u00e8re\", \"palmier\", \"noyer\", \"bananier\", \"prairie\", \"chicor\\u00e9e de Bruxelle\", \"framboisier\", \"jardins familiaux\", \"ch\\u00eane\", \"petit fruit\", \"haricot demi-sec\", \"laitue batavia\", \"ail\", \"gel\", \"ch\\u00e2taignier\", \"luzerne\", \"actinidia\", \"artichaut\", \"vigne de table\", \"rosier\", \"pois prot\\u00e9agineux d'hiver\", \"sorgho grain\", \"panais\", \"culture l\\u00e9gumi\\u00e8re de plein champ\", \"prot\\u00e9agineux\", \"scorson\\u00e8re\", \"betterave potag\\u00e8re\", \"sorgho\", \"agrume\", \"piment\", \"laurier\", \"olivier fruit \\u00e0 noyaux\", \"Chou cabus blanc\", \"f\\u00e8ve\", \"c\\u00e9leri-rave\", \"orge \\u00e0 six rangs\", \"amandier\", \"chicor\\u00e9e scarole\", \"chicor\\u00e9e\", \"chou pomm\\u00e9\", \"chou brocoli\", \"cresson\", \"lin ol\\u00e9agineux de printemps\", \"chou-fleur\", \"f\\u00e9verole d'hiver\", \"cassissier\", \"citronnier\", \"haricot vert\", \"manguier\", \"g\\u00e9ranium\", \"ma\\u00efs doux\", \"laitue \\u00e0 couper\", \"f\\u00e9verole de printemps\", \"moutarde\", \"ma\\u00efs grain\", \"fourrage annuel\", \"chou chinois\", \"avoine\", \"figuier\", \"bananier plantain\", \"riz\", \"goyavier\", \"cerfeuil\", \"ray-grass\", \"pois prot\\u00e9agineux\", \"ananas\", \"bananier musa\", \"chou de Milan\", \"chou cabus rouge\", \"noisetier\", \"roquette\", \"poinsettia\", \"chrysanth\\u00e8me\", \"chou-navet \\u00e0 chair jaune\", \"phac\\u00e9lie\", \"fenouil\", \"ma\\u00efs fourrage\", \"c\\u00e9r\\u00e9ale fourrag\\u00e8re\", \"pissenlit\", \"culture fourrag\\u00e8re\", \"seigle\", \"surface toujours en herbe\", \"engrais vert\", \"tr\\u00e8fle\", \"chou de Bruxelles\", \"groseillier\", \"myrtille\", \"chanvre\", \"colza d'hiver\", \"culture industrielle\", \"bl\\u00e9 dur d'hiver\", \"c\\u00e9leri \\u00e0 cotes\", \"chou fris\\u00e9\", \"laitue beurre pomm\\u00e9e\", \"betterave sucri\\u00e8re\", \"cl\\u00e9mentinier\", \"cognassier\", \"millet\", \"\\u00e9chalion\", \"colza de printemps\"], \"xaxis\": \"x\", \"y\": [1278, 984, 595, 595, 591, 553, 540, 467, 409, 401, 374, 371, 325, 322, 306, 304, 304, 275, 263, 247, 237, 230, 228, 202, 201, 197, 190, 181, 181, 177, 157, 147, 139, 126, 115, 114, 112, 109, 109, 109, 106, 98, 96, 96, 91, 77, 76, 74, 71, 69, 65, 63, 58, 56, 54, 54, 53, 52, 50, 49, 48, 48, 47, 45, 44, 44, 43, 43, 42, 41, 41, 40, 39, 38, 38, 37, 35, 35, 34, 33, 31, 30, 30, 29, 28, 27, 27, 27, 27, 27, 26, 26, 23, 22, 22, 22, 21, 21, 21, 20, 20, 19, 19, 18, 17, 17, 16, 15, 14, 14, 13, 13, 12, 12, 12, 11, 11, 11, 11, 10, 10, 10, 10, 10, 10, 10, 9, 9, 8, 8, 7, 7, 7, 7, 7, 7, 6, 6, 6, 6, 6, 6, 6, 5, 5, 5, 5, 5, 5, 5, 5, 4, 4, 4, 4, 4, 4, 3, 3, 3, 3, 3, 3, 3, 3, 2, 2, 2, 1, 1, 1, 1, 1, 1, 1], \"yaxis\": \"y\"}, {\"hovertemplate\": \"variable=count_y<br>prefLabel=%{x}<br>value=%{y}<extra></extra>\", \"legendgroup\": \"count_y\", \"marker\": {\"color\": \"#EF553B\", \"symbol\": \"circle\"}, \"mode\": \"markers\", \"name\": \"count_y\", \"orientation\": \"v\", \"showlegend\": true, \"type\": \"scatter\", \"x\": [\"vigne\", \"colza\", \"chou\", \"chou potager\", \"bl\\u00e9\", \"pommier\", \"ma\\u00efs\", \"tomate\", \"carotte\", \"arboriculture fruiti\\u00e8re\", \"oignon\", \"culture l\\u00e9gumi\\u00e8re\", \"arbuste \\u00e0 baies\", \"pois\", \"floriculture\", \"poireau\", \"c\\u00e9r\\u00e9ale \\u00e0 paille\", \"mara\\u00eechage\", \"c\\u00e9r\\u00e9ale\", \"lin\", \"c\\u00e9leri\", \"arboriculture\", \"pomme de terre\", \"poirier\", \"salade\", \"betterave\", \"bl\\u00e9 tendre\", \"tournesol\", \"aubergine\", \"orge\", \"semence\", \"concombre\", \"zone non agricole\", \"fraisier\", \"ol\\u00e9agineux\", \"courgette\", \"p\\u00eacher\", \"cerisier\", \"culture fruiti\\u00e8re\", \"laitue\", \"poivron\", \"melon\", \"lin ol\\u00e9agineux\", \"prunier\", \"poir\\u00e9e\", \"bl\\u00e9 dur\", \"radis\", \"haricot\", \"l\\u00e9gume \\u00e0 graines ou \\u00e0 gousses\", \"abricotier\", \"jardin\", \"persil\", \"soja\", \"orge d'hiver\", \"\\u00e9chalote\", \"pois prot\\u00e9agineux de printemps\", \"navet potager\", \"tabac\", \"oranger\", \"courge\", \"f\\u00e9verole\", \"olivier\", \"rosier ornemental\", \"m\\u00e2che\", \"asperge\", \"vigne de cuve\", \"chicor\\u00e9e endive\", \"lin ol\\u00e9agineux d'hiver\", \"horticulture ornementale\", \"orge de printemps\", \"\\u00e9pinard\", \"ciboulette\", \"bl\\u00e9 tendre d'hiver\", \"arbre fruitier \\u00e0 noyau\", \"triticale\", \"pomme de terre potag\\u00e8re\", \"palmier\", \"noyer\", \"bananier\", \"prairie\", \"chicor\\u00e9e de Bruxelle\", \"framboisier\", \"jardins familiaux\", \"ch\\u00eane\", \"petit fruit\", \"haricot demi-sec\", \"laitue batavia\", \"ail\", \"gel\", \"ch\\u00e2taignier\", \"luzerne\", \"actinidia\", \"artichaut\", \"vigne de table\", \"rosier\", \"pois prot\\u00e9agineux d'hiver\", \"sorgho grain\", \"panais\", \"culture l\\u00e9gumi\\u00e8re de plein champ\", \"prot\\u00e9agineux\", \"scorson\\u00e8re\", \"betterave potag\\u00e8re\", \"sorgho\", \"agrume\", \"piment\", \"laurier\", \"olivier fruit \\u00e0 noyaux\", \"Chou cabus blanc\", \"f\\u00e8ve\", \"c\\u00e9leri-rave\", \"orge \\u00e0 six rangs\", \"amandier\", \"chicor\\u00e9e scarole\", \"chicor\\u00e9e\", \"chou pomm\\u00e9\", \"chou brocoli\", \"cresson\", \"lin ol\\u00e9agineux de printemps\", \"chou-fleur\", \"f\\u00e9verole d'hiver\", \"cassissier\", \"citronnier\", \"haricot vert\", \"manguier\", \"g\\u00e9ranium\", \"ma\\u00efs doux\", \"laitue \\u00e0 couper\", \"f\\u00e9verole de printemps\", \"moutarde\", \"ma\\u00efs grain\", \"fourrage annuel\", \"chou chinois\", \"avoine\", \"figuier\", \"bananier plantain\", \"riz\", \"goyavier\", \"cerfeuil\", \"ray-grass\", \"pois prot\\u00e9agineux\", \"ananas\", \"bananier musa\", \"chou de Milan\", \"chou cabus rouge\", \"noisetier\", \"roquette\", \"poinsettia\", \"chrysanth\\u00e8me\", \"chou-navet \\u00e0 chair jaune\", \"phac\\u00e9lie\", \"fenouil\", \"ma\\u00efs fourrage\", \"c\\u00e9r\\u00e9ale fourrag\\u00e8re\", \"pissenlit\", \"culture fourrag\\u00e8re\", \"seigle\", \"surface toujours en herbe\", \"engrais vert\", \"tr\\u00e8fle\", \"chou de Bruxelles\", \"groseillier\", \"myrtille\", \"chanvre\", \"colza d'hiver\", \"culture industrielle\", \"bl\\u00e9 dur d'hiver\", \"c\\u00e9leri \\u00e0 cotes\", \"chou fris\\u00e9\", \"laitue beurre pomm\\u00e9e\", \"betterave sucri\\u00e8re\", \"cl\\u00e9mentinier\", \"cognassier\", \"millet\", \"\\u00e9chalion\", \"colza de printemps\"], \"xaxis\": \"x\", \"y\": [314, 696, 380, 380, 394, 742, 267, 134, 305, 561, 236, 236, 56, 494, 347, 229, 140, 44, 354, 281, 146, 285, 205, 339, 145, 171, 102, 130, 56, 122, 102, 65, 335, 111, 146, 58, 116, 110, 99, 78, 40, 77, 125, 143, 81, 49, 65, 41, 91, 54, 127, 96, 13, 27, 34, 100, 52, 15, 48, 8, 224, 24, 33, 49, 23, 11, 53, 47, 82, 20, 10, 21, 24, 5, 39, 31, 3, 121, 14, 45, 47, 48, 16, 52, 17, 13, 36, 26, 4, 87, 12, 45, 9, 35, 102, 66, 7, 18, 5, 117, 9, 10, 7, 47, 11, 26, 10, 5, 12, 10, 5, 11, 7, 7, 4, 10, 23, 29, 8, 25, 4, 4, 19, 8, 43, 2, 15, 29, 8, 13, 4, 2, 5, 2, 10, 5, 6, 14, 6, 49, 10, 1, 4, 1, 4, 17, 8, 44, 2, 1, 2, 3, 8, 4, 8, 14, 2, 2, 2, 7, 10, 6, 1, 2, 3, 1, 5, 1, 4, 1, 12, 2, 5, 1, 1], \"yaxis\": \"y\"}],                        {\"legend\": {\"title\": {\"text\": \"variable\"}, \"tracegroupgap\": 0}, \"template\": {\"data\": {\"bar\": [{\"error_x\": {\"color\": \"#2a3f5f\"}, \"error_y\": {\"color\": \"#2a3f5f\"}, \"marker\": {\"line\": {\"color\": \"#E5ECF6\", \"width\": 0.5}}, \"type\": \"bar\"}], \"barpolar\": [{\"marker\": {\"line\": {\"color\": \"#E5ECF6\", \"width\": 0.5}}, \"type\": \"barpolar\"}], \"carpet\": [{\"aaxis\": {\"endlinecolor\": \"#2a3f5f\", \"gridcolor\": \"white\", \"linecolor\": \"white\", \"minorgridcolor\": \"white\", \"startlinecolor\": \"#2a3f5f\"}, \"baxis\": {\"endlinecolor\": \"#2a3f5f\", \"gridcolor\": \"white\", \"linecolor\": \"white\", \"minorgridcolor\": \"white\", \"startlinecolor\": \"#2a3f5f\"}, \"type\": \"carpet\"}], \"choropleth\": [{\"colorbar\": {\"outlinewidth\": 0, \"ticks\": \"\"}, \"type\": \"choropleth\"}], \"contour\": [{\"colorbar\": {\"outlinewidth\": 0, \"ticks\": \"\"}, \"colorscale\": [[0.0, \"#0d0887\"], [0.1111111111111111, \"#46039f\"], [0.2222222222222222, \"#7201a8\"], [0.3333333333333333, \"#9c179e\"], [0.4444444444444444, \"#bd3786\"], [0.5555555555555556, \"#d8576b\"], [0.6666666666666666, \"#ed7953\"], [0.7777777777777778, \"#fb9f3a\"], [0.8888888888888888, \"#fdca26\"], [1.0, \"#f0f921\"]], \"type\": \"contour\"}], \"contourcarpet\": [{\"colorbar\": {\"outlinewidth\": 0, \"ticks\": \"\"}, \"type\": \"contourcarpet\"}], \"heatmap\": [{\"colorbar\": {\"outlinewidth\": 0, \"ticks\": \"\"}, \"colorscale\": [[0.0, \"#0d0887\"], [0.1111111111111111, \"#46039f\"], [0.2222222222222222, \"#7201a8\"], [0.3333333333333333, \"#9c179e\"], [0.4444444444444444, \"#bd3786\"], [0.5555555555555556, \"#d8576b\"], [0.6666666666666666, \"#ed7953\"], [0.7777777777777778, \"#fb9f3a\"], [0.8888888888888888, \"#fdca26\"], [1.0, \"#f0f921\"]], \"type\": \"heatmap\"}], \"heatmapgl\": [{\"colorbar\": {\"outlinewidth\": 0, \"ticks\": \"\"}, \"colorscale\": [[0.0, \"#0d0887\"], [0.1111111111111111, \"#46039f\"], [0.2222222222222222, \"#7201a8\"], [0.3333333333333333, \"#9c179e\"], [0.4444444444444444, \"#bd3786\"], [0.5555555555555556, \"#d8576b\"], [0.6666666666666666, \"#ed7953\"], [0.7777777777777778, \"#fb9f3a\"], [0.8888888888888888, \"#fdca26\"], [1.0, \"#f0f921\"]], \"type\": \"heatmapgl\"}], \"histogram\": [{\"marker\": {\"colorbar\": {\"outlinewidth\": 0, \"ticks\": \"\"}}, \"type\": \"histogram\"}], \"histogram2d\": [{\"colorbar\": {\"outlinewidth\": 0, \"ticks\": \"\"}, \"colorscale\": [[0.0, \"#0d0887\"], [0.1111111111111111, \"#46039f\"], [0.2222222222222222, \"#7201a8\"], [0.3333333333333333, \"#9c179e\"], [0.4444444444444444, \"#bd3786\"], [0.5555555555555556, \"#d8576b\"], [0.6666666666666666, \"#ed7953\"], [0.7777777777777778, \"#fb9f3a\"], [0.8888888888888888, \"#fdca26\"], [1.0, \"#f0f921\"]], \"type\": \"histogram2d\"}], \"histogram2dcontour\": [{\"colorbar\": {\"outlinewidth\": 0, \"ticks\": \"\"}, \"colorscale\": [[0.0, \"#0d0887\"], [0.1111111111111111, \"#46039f\"], [0.2222222222222222, \"#7201a8\"], [0.3333333333333333, \"#9c179e\"], [0.4444444444444444, \"#bd3786\"], [0.5555555555555556, \"#d8576b\"], [0.6666666666666666, \"#ed7953\"], [0.7777777777777778, \"#fb9f3a\"], [0.8888888888888888, \"#fdca26\"], [1.0, \"#f0f921\"]], \"type\": \"histogram2dcontour\"}], \"mesh3d\": [{\"colorbar\": {\"outlinewidth\": 0, \"ticks\": \"\"}, \"type\": \"mesh3d\"}], \"parcoords\": [{\"line\": {\"colorbar\": {\"outlinewidth\": 0, \"ticks\": \"\"}}, \"type\": \"parcoords\"}], \"pie\": [{\"automargin\": true, \"type\": \"pie\"}], \"scatter\": [{\"marker\": {\"colorbar\": {\"outlinewidth\": 0, \"ticks\": \"\"}}, \"type\": \"scatter\"}], \"scatter3d\": [{\"line\": {\"colorbar\": {\"outlinewidth\": 0, \"ticks\": \"\"}}, \"marker\": {\"colorbar\": {\"outlinewidth\": 0, \"ticks\": \"\"}}, \"type\": \"scatter3d\"}], \"scattercarpet\": [{\"marker\": {\"colorbar\": {\"outlinewidth\": 0, \"ticks\": \"\"}}, \"type\": \"scattercarpet\"}], \"scattergeo\": [{\"marker\": {\"colorbar\": {\"outlinewidth\": 0, \"ticks\": \"\"}}, \"type\": \"scattergeo\"}], \"scattergl\": [{\"marker\": {\"colorbar\": {\"outlinewidth\": 0, \"ticks\": \"\"}}, \"type\": \"scattergl\"}], \"scattermapbox\": [{\"marker\": {\"colorbar\": {\"outlinewidth\": 0, \"ticks\": \"\"}}, \"type\": \"scattermapbox\"}], \"scatterpolar\": [{\"marker\": {\"colorbar\": {\"outlinewidth\": 0, \"ticks\": \"\"}}, \"type\": \"scatterpolar\"}], \"scatterpolargl\": [{\"marker\": {\"colorbar\": {\"outlinewidth\": 0, \"ticks\": \"\"}}, \"type\": \"scatterpolargl\"}], \"scatterternary\": [{\"marker\": {\"colorbar\": {\"outlinewidth\": 0, \"ticks\": \"\"}}, \"type\": \"scatterternary\"}], \"surface\": [{\"colorbar\": {\"outlinewidth\": 0, \"ticks\": \"\"}, \"colorscale\": [[0.0, \"#0d0887\"], [0.1111111111111111, \"#46039f\"], [0.2222222222222222, \"#7201a8\"], [0.3333333333333333, \"#9c179e\"], [0.4444444444444444, \"#bd3786\"], [0.5555555555555556, \"#d8576b\"], [0.6666666666666666, \"#ed7953\"], [0.7777777777777778, \"#fb9f3a\"], [0.8888888888888888, \"#fdca26\"], [1.0, \"#f0f921\"]], \"type\": \"surface\"}], \"table\": [{\"cells\": {\"fill\": {\"color\": \"#EBF0F8\"}, \"line\": {\"color\": \"white\"}}, \"header\": {\"fill\": {\"color\": \"#C8D4E3\"}, \"line\": {\"color\": \"white\"}}, \"type\": \"table\"}]}, \"layout\": {\"annotationdefaults\": {\"arrowcolor\": \"#2a3f5f\", \"arrowhead\": 0, \"arrowwidth\": 1}, \"autotypenumbers\": \"strict\", \"coloraxis\": {\"colorbar\": {\"outlinewidth\": 0, \"ticks\": \"\"}}, \"colorscale\": {\"diverging\": [[0, \"#8e0152\"], [0.1, \"#c51b7d\"], [0.2, \"#de77ae\"], [0.3, \"#f1b6da\"], [0.4, \"#fde0ef\"], [0.5, \"#f7f7f7\"], [0.6, \"#e6f5d0\"], [0.7, \"#b8e186\"], [0.8, \"#7fbc41\"], [0.9, \"#4d9221\"], [1, \"#276419\"]], \"sequential\": [[0.0, \"#0d0887\"], [0.1111111111111111, \"#46039f\"], [0.2222222222222222, \"#7201a8\"], [0.3333333333333333, \"#9c179e\"], [0.4444444444444444, \"#bd3786\"], [0.5555555555555556, \"#d8576b\"], [0.6666666666666666, \"#ed7953\"], [0.7777777777777778, \"#fb9f3a\"], [0.8888888888888888, \"#fdca26\"], [1.0, \"#f0f921\"]], \"sequentialminus\": [[0.0, \"#0d0887\"], [0.1111111111111111, \"#46039f\"], [0.2222222222222222, \"#7201a8\"], [0.3333333333333333, \"#9c179e\"], [0.4444444444444444, \"#bd3786\"], [0.5555555555555556, \"#d8576b\"], [0.6666666666666666, \"#ed7953\"], [0.7777777777777778, \"#fb9f3a\"], [0.8888888888888888, \"#fdca26\"], [1.0, \"#f0f921\"]]}, \"colorway\": [\"#636efa\", \"#EF553B\", \"#00cc96\", \"#ab63fa\", \"#FFA15A\", \"#19d3f3\", \"#FF6692\", \"#B6E880\", \"#FF97FF\", \"#FECB52\"], \"font\": {\"color\": \"#2a3f5f\"}, \"geo\": {\"bgcolor\": \"white\", \"lakecolor\": \"white\", \"landcolor\": \"#E5ECF6\", \"showlakes\": true, \"showland\": true, \"subunitcolor\": \"white\"}, \"hoverlabel\": {\"align\": \"left\"}, \"hovermode\": \"closest\", \"mapbox\": {\"style\": \"light\"}, \"paper_bgcolor\": \"white\", \"plot_bgcolor\": \"#E5ECF6\", \"polar\": {\"angularaxis\": {\"gridcolor\": \"white\", \"linecolor\": \"white\", \"ticks\": \"\"}, \"bgcolor\": \"#E5ECF6\", \"radialaxis\": {\"gridcolor\": \"white\", \"linecolor\": \"white\", \"ticks\": \"\"}}, \"scene\": {\"xaxis\": {\"backgroundcolor\": \"#E5ECF6\", \"gridcolor\": \"white\", \"gridwidth\": 2, \"linecolor\": \"white\", \"showbackground\": true, \"ticks\": \"\", \"zerolinecolor\": \"white\"}, \"yaxis\": {\"backgroundcolor\": \"#E5ECF6\", \"gridcolor\": \"white\", \"gridwidth\": 2, \"linecolor\": \"white\", \"showbackground\": true, \"ticks\": \"\", \"zerolinecolor\": \"white\"}, \"zaxis\": {\"backgroundcolor\": \"#E5ECF6\", \"gridcolor\": \"white\", \"gridwidth\": 2, \"linecolor\": \"white\", \"showbackground\": true, \"ticks\": \"\", \"zerolinecolor\": \"white\"}}, \"shapedefaults\": {\"line\": {\"color\": \"#2a3f5f\"}}, \"ternary\": {\"aaxis\": {\"gridcolor\": \"white\", \"linecolor\": \"white\", \"ticks\": \"\"}, \"baxis\": {\"gridcolor\": \"white\", \"linecolor\": \"white\", \"ticks\": \"\"}, \"bgcolor\": \"#E5ECF6\", \"caxis\": {\"gridcolor\": \"white\", \"linecolor\": \"white\", \"ticks\": \"\"}}, \"title\": {\"x\": 0.05}, \"xaxis\": {\"automargin\": true, \"gridcolor\": \"white\", \"linecolor\": \"white\", \"ticks\": \"\", \"title\": {\"standoff\": 15}, \"zerolinecolor\": \"white\", \"zerolinewidth\": 2}, \"yaxis\": {\"automargin\": true, \"gridcolor\": \"white\", \"linecolor\": \"white\", \"ticks\": \"\", \"title\": {\"standoff\": 15}, \"zerolinecolor\": \"white\", \"zerolinewidth\": 2}}}, \"title\": {\"text\": \"Term frequency\"}, \"xaxis\": {\"anchor\": \"y\", \"domain\": [0.0, 1.0], \"title\": {\"text\": \"prefLabel\"}}, \"yaxis\": {\"anchor\": \"x\", \"domain\": [0.0, 1.0], \"title\": {\"text\": \"value\"}}},                        {\"responsive\": true}                    ).then(function(){\n",
       "                            \n",
       "var gd = document.getElementById('8c408265-4365-4331-86fb-56c124b648a7');\n",
       "var x = new MutationObserver(function (mutations, observer) {{\n",
       "        var display = window.getComputedStyle(gd).display;\n",
       "        if (!display || display === 'none') {{\n",
       "            console.log([gd, 'removed!']);\n",
       "            Plotly.purge(gd);\n",
       "            observer.disconnect();\n",
       "        }}\n",
       "}});\n",
       "\n",
       "// Listen for the removal of the full notebook cells\n",
       "var notebookContainer = gd.closest('#notebook-container');\n",
       "if (notebookContainer) {{\n",
       "    x.observe(notebookContainer, {childList: true});\n",
       "}}\n",
       "\n",
       "// Listen for the clearing of the current output cell\n",
       "var outputEl = gd.closest('.output');\n",
       "if (outputEl) {{\n",
       "    x.observe(outputEl, {childList: true});\n",
       "}}\n",
       "\n",
       "                        })                };                });            </script>        </div>"
      ]
     },
     "metadata": {},
     "output_type": "display_data"
    }
   ],
   "source": [
    "fig = px.scatter(result, x=\"prefLabel\", y=r, \"count_y\"], title='Term frequency')\n",
    "fig.show()"
   ]
  },
  {
   "cell_type": "code",
   "execution_count": 239,
   "metadata": {},
   "outputs": [
    {
     "data": {
      "application/vnd.plotly.v1+json": {
       "config": {
        "plotlyServerURL": "https://plotly.com"
       },
       "data": [
        {
         "diagonal": {
          "visible": true
         },
         "dimensions": [
          {
           "axis": {
            "matches": true
           },
           "label": "count x",
           "values": [
            1278
           ]
          },
          {
           "axis": {
            "matches": true
           },
           "label": "count y",
           "values": [
            314
           ]
          }
         ],
         "hovertemplate": "prefLabel=vigne<br>%{xaxis.title.text}=%{x}<br>%{yaxis.title.text}=%{y}<extra></extra>",
         "legendgroup": "vigne",
         "marker": {
          "color": "#636efa",
          "symbol": "circle"
         },
         "name": "vigne",
         "showlegend": true,
         "type": "splom"
        },
        {
         "diagonal": {
          "visible": true
         },
         "dimensions": [
          {
           "axis": {
            "matches": true
           },
           "label": "count x",
           "values": [
            984
           ]
          },
          {
           "axis": {
            "matches": true
           },
           "label": "count y",
           "values": [
            696
           ]
          }
         ],
         "hovertemplate": "prefLabel=colza<br>%{xaxis.title.text}=%{x}<br>%{yaxis.title.text}=%{y}<extra></extra>",
         "legendgroup": "colza",
         "marker": {
          "color": "#EF553B",
          "symbol": "circle"
         },
         "name": "colza",
         "showlegend": true,
         "type": "splom"
        },
        {
         "diagonal": {
          "visible": true
         },
         "dimensions": [
          {
           "axis": {
            "matches": true
           },
           "label": "count x",
           "values": [
            595
           ]
          },
          {
           "axis": {
            "matches": true
           },
           "label": "count y",
           "values": [
            380
           ]
          }
         ],
         "hovertemplate": "prefLabel=chou<br>%{xaxis.title.text}=%{x}<br>%{yaxis.title.text}=%{y}<extra></extra>",
         "legendgroup": "chou",
         "marker": {
          "color": "#00cc96",
          "symbol": "circle"
         },
         "name": "chou",
         "showlegend": true,
         "type": "splom"
        },
        {
         "diagonal": {
          "visible": true
         },
         "dimensions": [
          {
           "axis": {
            "matches": true
           },
           "label": "count x",
           "values": [
            595
           ]
          },
          {
           "axis": {
            "matches": true
           },
           "label": "count y",
           "values": [
            380
           ]
          }
         ],
         "hovertemplate": "prefLabel=chou potager<br>%{xaxis.title.text}=%{x}<br>%{yaxis.title.text}=%{y}<extra></extra>",
         "legendgroup": "chou potager",
         "marker": {
          "color": "#ab63fa",
          "symbol": "circle"
         },
         "name": "chou potager",
         "showlegend": true,
         "type": "splom"
        },
        {
         "diagonal": {
          "visible": true
         },
         "dimensions": [
          {
           "axis": {
            "matches": true
           },
           "label": "count x",
           "values": [
            591
           ]
          },
          {
           "axis": {
            "matches": true
           },
           "label": "count y",
           "values": [
            394
           ]
          }
         ],
         "hovertemplate": "prefLabel=blé<br>%{xaxis.title.text}=%{x}<br>%{yaxis.title.text}=%{y}<extra></extra>",
         "legendgroup": "blé",
         "marker": {
          "color": "#FFA15A",
          "symbol": "circle"
         },
         "name": "blé",
         "showlegend": true,
         "type": "splom"
        },
        {
         "diagonal": {
          "visible": true
         },
         "dimensions": [
          {
           "axis": {
            "matches": true
           },
           "label": "count x",
           "values": [
            553
           ]
          },
          {
           "axis": {
            "matches": true
           },
           "label": "count y",
           "values": [
            742
           ]
          }
         ],
         "hovertemplate": "prefLabel=pommier<br>%{xaxis.title.text}=%{x}<br>%{yaxis.title.text}=%{y}<extra></extra>",
         "legendgroup": "pommier",
         "marker": {
          "color": "#19d3f3",
          "symbol": "circle"
         },
         "name": "pommier",
         "showlegend": true,
         "type": "splom"
        },
        {
         "diagonal": {
          "visible": true
         },
         "dimensions": [
          {
           "axis": {
            "matches": true
           },
           "label": "count x",
           "values": [
            540
           ]
          },
          {
           "axis": {
            "matches": true
           },
           "label": "count y",
           "values": [
            267
           ]
          }
         ],
         "hovertemplate": "prefLabel=maïs<br>%{xaxis.title.text}=%{x}<br>%{yaxis.title.text}=%{y}<extra></extra>",
         "legendgroup": "maïs",
         "marker": {
          "color": "#FF6692",
          "symbol": "circle"
         },
         "name": "maïs",
         "showlegend": true,
         "type": "splom"
        },
        {
         "diagonal": {
          "visible": true
         },
         "dimensions": [
          {
           "axis": {
            "matches": true
           },
           "label": "count x",
           "values": [
            467
           ]
          },
          {
           "axis": {
            "matches": true
           },
           "label": "count y",
           "values": [
            134
           ]
          }
         ],
         "hovertemplate": "prefLabel=tomate<br>%{xaxis.title.text}=%{x}<br>%{yaxis.title.text}=%{y}<extra></extra>",
         "legendgroup": "tomate",
         "marker": {
          "color": "#B6E880",
          "symbol": "circle"
         },
         "name": "tomate",
         "showlegend": true,
         "type": "splom"
        },
        {
         "diagonal": {
          "visible": true
         },
         "dimensions": [
          {
           "axis": {
            "matches": true
           },
           "label": "count x",
           "values": [
            409
           ]
          },
          {
           "axis": {
            "matches": true
           },
           "label": "count y",
           "values": [
            305
           ]
          }
         ],
         "hovertemplate": "prefLabel=carotte<br>%{xaxis.title.text}=%{x}<br>%{yaxis.title.text}=%{y}<extra></extra>",
         "legendgroup": "carotte",
         "marker": {
          "color": "#FF97FF",
          "symbol": "circle"
         },
         "name": "carotte",
         "showlegend": true,
         "type": "splom"
        },
        {
         "diagonal": {
          "visible": true
         },
         "dimensions": [
          {
           "axis": {
            "matches": true
           },
           "label": "count x",
           "values": [
            401
           ]
          },
          {
           "axis": {
            "matches": true
           },
           "label": "count y",
           "values": [
            561
           ]
          }
         ],
         "hovertemplate": "prefLabel=arboriculture fruitière<br>%{xaxis.title.text}=%{x}<br>%{yaxis.title.text}=%{y}<extra></extra>",
         "legendgroup": "arboriculture fruitière",
         "marker": {
          "color": "#FECB52",
          "symbol": "circle"
         },
         "name": "arboriculture fruitière",
         "showlegend": true,
         "type": "splom"
        },
        {
         "diagonal": {
          "visible": true
         },
         "dimensions": [
          {
           "axis": {
            "matches": true
           },
           "label": "count x",
           "values": [
            374
           ]
          },
          {
           "axis": {
            "matches": true
           },
           "label": "count y",
           "values": [
            236
           ]
          }
         ],
         "hovertemplate": "prefLabel=oignon<br>%{xaxis.title.text}=%{x}<br>%{yaxis.title.text}=%{y}<extra></extra>",
         "legendgroup": "oignon",
         "marker": {
          "color": "#636efa",
          "symbol": "circle"
         },
         "name": "oignon",
         "showlegend": true,
         "type": "splom"
        },
        {
         "diagonal": {
          "visible": true
         },
         "dimensions": [
          {
           "axis": {
            "matches": true
           },
           "label": "count x",
           "values": [
            371
           ]
          },
          {
           "axis": {
            "matches": true
           },
           "label": "count y",
           "values": [
            236
           ]
          }
         ],
         "hovertemplate": "prefLabel=culture légumière<br>%{xaxis.title.text}=%{x}<br>%{yaxis.title.text}=%{y}<extra></extra>",
         "legendgroup": "culture légumière",
         "marker": {
          "color": "#EF553B",
          "symbol": "circle"
         },
         "name": "culture légumière",
         "showlegend": true,
         "type": "splom"
        },
        {
         "diagonal": {
          "visible": true
         },
         "dimensions": [
          {
           "axis": {
            "matches": true
           },
           "label": "count x",
           "values": [
            325
           ]
          },
          {
           "axis": {
            "matches": true
           },
           "label": "count y",
           "values": [
            56
           ]
          }
         ],
         "hovertemplate": "prefLabel=arbuste à baies<br>%{xaxis.title.text}=%{x}<br>%{yaxis.title.text}=%{y}<extra></extra>",
         "legendgroup": "arbuste à baies",
         "marker": {
          "color": "#00cc96",
          "symbol": "circle"
         },
         "name": "arbuste à baies",
         "showlegend": true,
         "type": "splom"
        },
        {
         "diagonal": {
          "visible": true
         },
         "dimensions": [
          {
           "axis": {
            "matches": true
           },
           "label": "count x",
           "values": [
            322
           ]
          },
          {
           "axis": {
            "matches": true
           },
           "label": "count y",
           "values": [
            494
           ]
          }
         ],
         "hovertemplate": "prefLabel=pois<br>%{xaxis.title.text}=%{x}<br>%{yaxis.title.text}=%{y}<extra></extra>",
         "legendgroup": "pois",
         "marker": {
          "color": "#ab63fa",
          "symbol": "circle"
         },
         "name": "pois",
         "showlegend": true,
         "type": "splom"
        },
        {
         "diagonal": {
          "visible": true
         },
         "dimensions": [
          {
           "axis": {
            "matches": true
           },
           "label": "count x",
           "values": [
            306
           ]
          },
          {
           "axis": {
            "matches": true
           },
           "label": "count y",
           "values": [
            347
           ]
          }
         ],
         "hovertemplate": "prefLabel=floriculture<br>%{xaxis.title.text}=%{x}<br>%{yaxis.title.text}=%{y}<extra></extra>",
         "legendgroup": "floriculture",
         "marker": {
          "color": "#FFA15A",
          "symbol": "circle"
         },
         "name": "floriculture",
         "showlegend": true,
         "type": "splom"
        },
        {
         "diagonal": {
          "visible": true
         },
         "dimensions": [
          {
           "axis": {
            "matches": true
           },
           "label": "count x",
           "values": [
            304
           ]
          },
          {
           "axis": {
            "matches": true
           },
           "label": "count y",
           "values": [
            229
           ]
          }
         ],
         "hovertemplate": "prefLabel=poireau<br>%{xaxis.title.text}=%{x}<br>%{yaxis.title.text}=%{y}<extra></extra>",
         "legendgroup": "poireau",
         "marker": {
          "color": "#19d3f3",
          "symbol": "circle"
         },
         "name": "poireau",
         "showlegend": true,
         "type": "splom"
        },
        {
         "diagonal": {
          "visible": true
         },
         "dimensions": [
          {
           "axis": {
            "matches": true
           },
           "label": "count x",
           "values": [
            304
           ]
          },
          {
           "axis": {
            "matches": true
           },
           "label": "count y",
           "values": [
            140
           ]
          }
         ],
         "hovertemplate": "prefLabel=céréale à paille<br>%{xaxis.title.text}=%{x}<br>%{yaxis.title.text}=%{y}<extra></extra>",
         "legendgroup": "céréale à paille",
         "marker": {
          "color": "#FF6692",
          "symbol": "circle"
         },
         "name": "céréale à paille",
         "showlegend": true,
         "type": "splom"
        },
        {
         "diagonal": {
          "visible": true
         },
         "dimensions": [
          {
           "axis": {
            "matches": true
           },
           "label": "count x",
           "values": [
            275
           ]
          },
          {
           "axis": {
            "matches": true
           },
           "label": "count y",
           "values": [
            44
           ]
          }
         ],
         "hovertemplate": "prefLabel=maraîchage<br>%{xaxis.title.text}=%{x}<br>%{yaxis.title.text}=%{y}<extra></extra>",
         "legendgroup": "maraîchage",
         "marker": {
          "color": "#B6E880",
          "symbol": "circle"
         },
         "name": "maraîchage",
         "showlegend": true,
         "type": "splom"
        },
        {
         "diagonal": {
          "visible": true
         },
         "dimensions": [
          {
           "axis": {
            "matches": true
           },
           "label": "count x",
           "values": [
            263
           ]
          },
          {
           "axis": {
            "matches": true
           },
           "label": "count y",
           "values": [
            354
           ]
          }
         ],
         "hovertemplate": "prefLabel=céréale<br>%{xaxis.title.text}=%{x}<br>%{yaxis.title.text}=%{y}<extra></extra>",
         "legendgroup": "céréale",
         "marker": {
          "color": "#FF97FF",
          "symbol": "circle"
         },
         "name": "céréale",
         "showlegend": true,
         "type": "splom"
        },
        {
         "diagonal": {
          "visible": true
         },
         "dimensions": [
          {
           "axis": {
            "matches": true
           },
           "label": "count x",
           "values": [
            247
           ]
          },
          {
           "axis": {
            "matches": true
           },
           "label": "count y",
           "values": [
            281
           ]
          }
         ],
         "hovertemplate": "prefLabel=lin<br>%{xaxis.title.text}=%{x}<br>%{yaxis.title.text}=%{y}<extra></extra>",
         "legendgroup": "lin",
         "marker": {
          "color": "#FECB52",
          "symbol": "circle"
         },
         "name": "lin",
         "showlegend": true,
         "type": "splom"
        },
        {
         "diagonal": {
          "visible": true
         },
         "dimensions": [
          {
           "axis": {
            "matches": true
           },
           "label": "count x",
           "values": [
            237
           ]
          },
          {
           "axis": {
            "matches": true
           },
           "label": "count y",
           "values": [
            146
           ]
          }
         ],
         "hovertemplate": "prefLabel=céleri<br>%{xaxis.title.text}=%{x}<br>%{yaxis.title.text}=%{y}<extra></extra>",
         "legendgroup": "céleri",
         "marker": {
          "color": "#636efa",
          "symbol": "circle"
         },
         "name": "céleri",
         "showlegend": true,
         "type": "splom"
        },
        {
         "diagonal": {
          "visible": true
         },
         "dimensions": [
          {
           "axis": {
            "matches": true
           },
           "label": "count x",
           "values": [
            230
           ]
          },
          {
           "axis": {
            "matches": true
           },
           "label": "count y",
           "values": [
            285
           ]
          }
         ],
         "hovertemplate": "prefLabel=arboriculture<br>%{xaxis.title.text}=%{x}<br>%{yaxis.title.text}=%{y}<extra></extra>",
         "legendgroup": "arboriculture",
         "marker": {
          "color": "#EF553B",
          "symbol": "circle"
         },
         "name": "arboriculture",
         "showlegend": true,
         "type": "splom"
        },
        {
         "diagonal": {
          "visible": true
         },
         "dimensions": [
          {
           "axis": {
            "matches": true
           },
           "label": "count x",
           "values": [
            228
           ]
          },
          {
           "axis": {
            "matches": true
           },
           "label": "count y",
           "values": [
            205
           ]
          }
         ],
         "hovertemplate": "prefLabel=pomme de terre<br>%{xaxis.title.text}=%{x}<br>%{yaxis.title.text}=%{y}<extra></extra>",
         "legendgroup": "pomme de terre",
         "marker": {
          "color": "#00cc96",
          "symbol": "circle"
         },
         "name": "pomme de terre",
         "showlegend": true,
         "type": "splom"
        },
        {
         "diagonal": {
          "visible": true
         },
         "dimensions": [
          {
           "axis": {
            "matches": true
           },
           "label": "count x",
           "values": [
            202
           ]
          },
          {
           "axis": {
            "matches": true
           },
           "label": "count y",
           "values": [
            339
           ]
          }
         ],
         "hovertemplate": "prefLabel=poirier<br>%{xaxis.title.text}=%{x}<br>%{yaxis.title.text}=%{y}<extra></extra>",
         "legendgroup": "poirier",
         "marker": {
          "color": "#ab63fa",
          "symbol": "circle"
         },
         "name": "poirier",
         "showlegend": true,
         "type": "splom"
        },
        {
         "diagonal": {
          "visible": true
         },
         "dimensions": [
          {
           "axis": {
            "matches": true
           },
           "label": "count x",
           "values": [
            201
           ]
          },
          {
           "axis": {
            "matches": true
           },
           "label": "count y",
           "values": [
            145
           ]
          }
         ],
         "hovertemplate": "prefLabel=salade<br>%{xaxis.title.text}=%{x}<br>%{yaxis.title.text}=%{y}<extra></extra>",
         "legendgroup": "salade",
         "marker": {
          "color": "#FFA15A",
          "symbol": "circle"
         },
         "name": "salade",
         "showlegend": true,
         "type": "splom"
        },
        {
         "diagonal": {
          "visible": true
         },
         "dimensions": [
          {
           "axis": {
            "matches": true
           },
           "label": "count x",
           "values": [
            197
           ]
          },
          {
           "axis": {
            "matches": true
           },
           "label": "count y",
           "values": [
            171
           ]
          }
         ],
         "hovertemplate": "prefLabel=betterave<br>%{xaxis.title.text}=%{x}<br>%{yaxis.title.text}=%{y}<extra></extra>",
         "legendgroup": "betterave",
         "marker": {
          "color": "#19d3f3",
          "symbol": "circle"
         },
         "name": "betterave",
         "showlegend": true,
         "type": "splom"
        },
        {
         "diagonal": {
          "visible": true
         },
         "dimensions": [
          {
           "axis": {
            "matches": true
           },
           "label": "count x",
           "values": [
            190
           ]
          },
          {
           "axis": {
            "matches": true
           },
           "label": "count y",
           "values": [
            102
           ]
          }
         ],
         "hovertemplate": "prefLabel=blé tendre<br>%{xaxis.title.text}=%{x}<br>%{yaxis.title.text}=%{y}<extra></extra>",
         "legendgroup": "blé tendre",
         "marker": {
          "color": "#FF6692",
          "symbol": "circle"
         },
         "name": "blé tendre",
         "showlegend": true,
         "type": "splom"
        },
        {
         "diagonal": {
          "visible": true
         },
         "dimensions": [
          {
           "axis": {
            "matches": true
           },
           "label": "count x",
           "values": [
            181
           ]
          },
          {
           "axis": {
            "matches": true
           },
           "label": "count y",
           "values": [
            130
           ]
          }
         ],
         "hovertemplate": "prefLabel=tournesol<br>%{xaxis.title.text}=%{x}<br>%{yaxis.title.text}=%{y}<extra></extra>",
         "legendgroup": "tournesol",
         "marker": {
          "color": "#B6E880",
          "symbol": "circle"
         },
         "name": "tournesol",
         "showlegend": true,
         "type": "splom"
        },
        {
         "diagonal": {
          "visible": true
         },
         "dimensions": [
          {
           "axis": {
            "matches": true
           },
           "label": "count x",
           "values": [
            181
           ]
          },
          {
           "axis": {
            "matches": true
           },
           "label": "count y",
           "values": [
            56
           ]
          }
         ],
         "hovertemplate": "prefLabel=aubergine<br>%{xaxis.title.text}=%{x}<br>%{yaxis.title.text}=%{y}<extra></extra>",
         "legendgroup": "aubergine",
         "marker": {
          "color": "#FF97FF",
          "symbol": "circle"
         },
         "name": "aubergine",
         "showlegend": true,
         "type": "splom"
        },
        {
         "diagonal": {
          "visible": true
         },
         "dimensions": [
          {
           "axis": {
            "matches": true
           },
           "label": "count x",
           "values": [
            177
           ]
          },
          {
           "axis": {
            "matches": true
           },
           "label": "count y",
           "values": [
            122
           ]
          }
         ],
         "hovertemplate": "prefLabel=orge<br>%{xaxis.title.text}=%{x}<br>%{yaxis.title.text}=%{y}<extra></extra>",
         "legendgroup": "orge",
         "marker": {
          "color": "#FECB52",
          "symbol": "circle"
         },
         "name": "orge",
         "showlegend": true,
         "type": "splom"
        },
        {
         "diagonal": {
          "visible": true
         },
         "dimensions": [
          {
           "axis": {
            "matches": true
           },
           "label": "count x",
           "values": [
            157
           ]
          },
          {
           "axis": {
            "matches": true
           },
           "label": "count y",
           "values": [
            102
           ]
          }
         ],
         "hovertemplate": "prefLabel=semence<br>%{xaxis.title.text}=%{x}<br>%{yaxis.title.text}=%{y}<extra></extra>",
         "legendgroup": "semence",
         "marker": {
          "color": "#636efa",
          "symbol": "circle"
         },
         "name": "semence",
         "showlegend": true,
         "type": "splom"
        },
        {
         "diagonal": {
          "visible": true
         },
         "dimensions": [
          {
           "axis": {
            "matches": true
           },
           "label": "count x",
           "values": [
            147
           ]
          },
          {
           "axis": {
            "matches": true
           },
           "label": "count y",
           "values": [
            65
           ]
          }
         ],
         "hovertemplate": "prefLabel=concombre<br>%{xaxis.title.text}=%{x}<br>%{yaxis.title.text}=%{y}<extra></extra>",
         "legendgroup": "concombre",
         "marker": {
          "color": "#EF553B",
          "symbol": "circle"
         },
         "name": "concombre",
         "showlegend": true,
         "type": "splom"
        },
        {
         "diagonal": {
          "visible": true
         },
         "dimensions": [
          {
           "axis": {
            "matches": true
           },
           "label": "count x",
           "values": [
            139
           ]
          },
          {
           "axis": {
            "matches": true
           },
           "label": "count y",
           "values": [
            335
           ]
          }
         ],
         "hovertemplate": "prefLabel=zone non agricole<br>%{xaxis.title.text}=%{x}<br>%{yaxis.title.text}=%{y}<extra></extra>",
         "legendgroup": "zone non agricole",
         "marker": {
          "color": "#00cc96",
          "symbol": "circle"
         },
         "name": "zone non agricole",
         "showlegend": true,
         "type": "splom"
        },
        {
         "diagonal": {
          "visible": true
         },
         "dimensions": [
          {
           "axis": {
            "matches": true
           },
           "label": "count x",
           "values": [
            126
           ]
          },
          {
           "axis": {
            "matches": true
           },
           "label": "count y",
           "values": [
            111
           ]
          }
         ],
         "hovertemplate": "prefLabel=fraisier<br>%{xaxis.title.text}=%{x}<br>%{yaxis.title.text}=%{y}<extra></extra>",
         "legendgroup": "fraisier",
         "marker": {
          "color": "#ab63fa",
          "symbol": "circle"
         },
         "name": "fraisier",
         "showlegend": true,
         "type": "splom"
        },
        {
         "diagonal": {
          "visible": true
         },
         "dimensions": [
          {
           "axis": {
            "matches": true
           },
           "label": "count x",
           "values": [
            115
           ]
          },
          {
           "axis": {
            "matches": true
           },
           "label": "count y",
           "values": [
            146
           ]
          }
         ],
         "hovertemplate": "prefLabel=oléagineux<br>%{xaxis.title.text}=%{x}<br>%{yaxis.title.text}=%{y}<extra></extra>",
         "legendgroup": "oléagineux",
         "marker": {
          "color": "#FFA15A",
          "symbol": "circle"
         },
         "name": "oléagineux",
         "showlegend": true,
         "type": "splom"
        },
        {
         "diagonal": {
          "visible": true
         },
         "dimensions": [
          {
           "axis": {
            "matches": true
           },
           "label": "count x",
           "values": [
            114
           ]
          },
          {
           "axis": {
            "matches": true
           },
           "label": "count y",
           "values": [
            58
           ]
          }
         ],
         "hovertemplate": "prefLabel=courgette<br>%{xaxis.title.text}=%{x}<br>%{yaxis.title.text}=%{y}<extra></extra>",
         "legendgroup": "courgette",
         "marker": {
          "color": "#19d3f3",
          "symbol": "circle"
         },
         "name": "courgette",
         "showlegend": true,
         "type": "splom"
        },
        {
         "diagonal": {
          "visible": true
         },
         "dimensions": [
          {
           "axis": {
            "matches": true
           },
           "label": "count x",
           "values": [
            112
           ]
          },
          {
           "axis": {
            "matches": true
           },
           "label": "count y",
           "values": [
            116
           ]
          }
         ],
         "hovertemplate": "prefLabel=pêcher<br>%{xaxis.title.text}=%{x}<br>%{yaxis.title.text}=%{y}<extra></extra>",
         "legendgroup": "pêcher",
         "marker": {
          "color": "#FF6692",
          "symbol": "circle"
         },
         "name": "pêcher",
         "showlegend": true,
         "type": "splom"
        },
        {
         "diagonal": {
          "visible": true
         },
         "dimensions": [
          {
           "axis": {
            "matches": true
           },
           "label": "count x",
           "values": [
            109
           ]
          },
          {
           "axis": {
            "matches": true
           },
           "label": "count y",
           "values": [
            110
           ]
          }
         ],
         "hovertemplate": "prefLabel=cerisier<br>%{xaxis.title.text}=%{x}<br>%{yaxis.title.text}=%{y}<extra></extra>",
         "legendgroup": "cerisier",
         "marker": {
          "color": "#B6E880",
          "symbol": "circle"
         },
         "name": "cerisier",
         "showlegend": true,
         "type": "splom"
        },
        {
         "diagonal": {
          "visible": true
         },
         "dimensions": [
          {
           "axis": {
            "matches": true
           },
           "label": "count x",
           "values": [
            109
           ]
          },
          {
           "axis": {
            "matches": true
           },
           "label": "count y",
           "values": [
            99
           ]
          }
         ],
         "hovertemplate": "prefLabel=culture fruitière<br>%{xaxis.title.text}=%{x}<br>%{yaxis.title.text}=%{y}<extra></extra>",
         "legendgroup": "culture fruitière",
         "marker": {
          "color": "#FF97FF",
          "symbol": "circle"
         },
         "name": "culture fruitière",
         "showlegend": true,
         "type": "splom"
        },
        {
         "diagonal": {
          "visible": true
         },
         "dimensions": [
          {
           "axis": {
            "matches": true
           },
           "label": "count x",
           "values": [
            109
           ]
          },
          {
           "axis": {
            "matches": true
           },
           "label": "count y",
           "values": [
            78
           ]
          }
         ],
         "hovertemplate": "prefLabel=laitue<br>%{xaxis.title.text}=%{x}<br>%{yaxis.title.text}=%{y}<extra></extra>",
         "legendgroup": "laitue",
         "marker": {
          "color": "#FECB52",
          "symbol": "circle"
         },
         "name": "laitue",
         "showlegend": true,
         "type": "splom"
        },
        {
         "diagonal": {
          "visible": true
         },
         "dimensions": [
          {
           "axis": {
            "matches": true
           },
           "label": "count x",
           "values": [
            106
           ]
          },
          {
           "axis": {
            "matches": true
           },
           "label": "count y",
           "values": [
            40
           ]
          }
         ],
         "hovertemplate": "prefLabel=poivron<br>%{xaxis.title.text}=%{x}<br>%{yaxis.title.text}=%{y}<extra></extra>",
         "legendgroup": "poivron",
         "marker": {
          "color": "#636efa",
          "symbol": "circle"
         },
         "name": "poivron",
         "showlegend": true,
         "type": "splom"
        },
        {
         "diagonal": {
          "visible": true
         },
         "dimensions": [
          {
           "axis": {
            "matches": true
           },
           "label": "count x",
           "values": [
            98
           ]
          },
          {
           "axis": {
            "matches": true
           },
           "label": "count y",
           "values": [
            77
           ]
          }
         ],
         "hovertemplate": "prefLabel=melon<br>%{xaxis.title.text}=%{x}<br>%{yaxis.title.text}=%{y}<extra></extra>",
         "legendgroup": "melon",
         "marker": {
          "color": "#EF553B",
          "symbol": "circle"
         },
         "name": "melon",
         "showlegend": true,
         "type": "splom"
        },
        {
         "diagonal": {
          "visible": true
         },
         "dimensions": [
          {
           "axis": {
            "matches": true
           },
           "label": "count x",
           "values": [
            96
           ]
          },
          {
           "axis": {
            "matches": true
           },
           "label": "count y",
           "values": [
            125
           ]
          }
         ],
         "hovertemplate": "prefLabel=lin oléagineux<br>%{xaxis.title.text}=%{x}<br>%{yaxis.title.text}=%{y}<extra></extra>",
         "legendgroup": "lin oléagineux",
         "marker": {
          "color": "#00cc96",
          "symbol": "circle"
         },
         "name": "lin oléagineux",
         "showlegend": true,
         "type": "splom"
        },
        {
         "diagonal": {
          "visible": true
         },
         "dimensions": [
          {
           "axis": {
            "matches": true
           },
           "label": "count x",
           "values": [
            96
           ]
          },
          {
           "axis": {
            "matches": true
           },
           "label": "count y",
           "values": [
            143
           ]
          }
         ],
         "hovertemplate": "prefLabel=prunier<br>%{xaxis.title.text}=%{x}<br>%{yaxis.title.text}=%{y}<extra></extra>",
         "legendgroup": "prunier",
         "marker": {
          "color": "#ab63fa",
          "symbol": "circle"
         },
         "name": "prunier",
         "showlegend": true,
         "type": "splom"
        },
        {
         "diagonal": {
          "visible": true
         },
         "dimensions": [
          {
           "axis": {
            "matches": true
           },
           "label": "count x",
           "values": [
            91
           ]
          },
          {
           "axis": {
            "matches": true
           },
           "label": "count y",
           "values": [
            81
           ]
          }
         ],
         "hovertemplate": "prefLabel=poirée<br>%{xaxis.title.text}=%{x}<br>%{yaxis.title.text}=%{y}<extra></extra>",
         "legendgroup": "poirée",
         "marker": {
          "color": "#FFA15A",
          "symbol": "circle"
         },
         "name": "poirée",
         "showlegend": true,
         "type": "splom"
        },
        {
         "diagonal": {
          "visible": true
         },
         "dimensions": [
          {
           "axis": {
            "matches": true
           },
           "label": "count x",
           "values": [
            77
           ]
          },
          {
           "axis": {
            "matches": true
           },
           "label": "count y",
           "values": [
            49
           ]
          }
         ],
         "hovertemplate": "prefLabel=blé dur<br>%{xaxis.title.text}=%{x}<br>%{yaxis.title.text}=%{y}<extra></extra>",
         "legendgroup": "blé dur",
         "marker": {
          "color": "#19d3f3",
          "symbol": "circle"
         },
         "name": "blé dur",
         "showlegend": true,
         "type": "splom"
        },
        {
         "diagonal": {
          "visible": true
         },
         "dimensions": [
          {
           "axis": {
            "matches": true
           },
           "label": "count x",
           "values": [
            76
           ]
          },
          {
           "axis": {
            "matches": true
           },
           "label": "count y",
           "values": [
            65
           ]
          }
         ],
         "hovertemplate": "prefLabel=radis<br>%{xaxis.title.text}=%{x}<br>%{yaxis.title.text}=%{y}<extra></extra>",
         "legendgroup": "radis",
         "marker": {
          "color": "#FF6692",
          "symbol": "circle"
         },
         "name": "radis",
         "showlegend": true,
         "type": "splom"
        },
        {
         "diagonal": {
          "visible": true
         },
         "dimensions": [
          {
           "axis": {
            "matches": true
           },
           "label": "count x",
           "values": [
            74
           ]
          },
          {
           "axis": {
            "matches": true
           },
           "label": "count y",
           "values": [
            41
           ]
          }
         ],
         "hovertemplate": "prefLabel=haricot<br>%{xaxis.title.text}=%{x}<br>%{yaxis.title.text}=%{y}<extra></extra>",
         "legendgroup": "haricot",
         "marker": {
          "color": "#B6E880",
          "symbol": "circle"
         },
         "name": "haricot",
         "showlegend": true,
         "type": "splom"
        },
        {
         "diagonal": {
          "visible": true
         },
         "dimensions": [
          {
           "axis": {
            "matches": true
           },
           "label": "count x",
           "values": [
            71
           ]
          },
          {
           "axis": {
            "matches": true
           },
           "label": "count y",
           "values": [
            91
           ]
          }
         ],
         "hovertemplate": "prefLabel=légume à graines ou à gousses<br>%{xaxis.title.text}=%{x}<br>%{yaxis.title.text}=%{y}<extra></extra>",
         "legendgroup": "légume à graines ou à gousses",
         "marker": {
          "color": "#FF97FF",
          "symbol": "circle"
         },
         "name": "légume à graines ou à gousses",
         "showlegend": true,
         "type": "splom"
        },
        {
         "diagonal": {
          "visible": true
         },
         "dimensions": [
          {
           "axis": {
            "matches": true
           },
           "label": "count x",
           "values": [
            69
           ]
          },
          {
           "axis": {
            "matches": true
           },
           "label": "count y",
           "values": [
            54
           ]
          }
         ],
         "hovertemplate": "prefLabel=abricotier<br>%{xaxis.title.text}=%{x}<br>%{yaxis.title.text}=%{y}<extra></extra>",
         "legendgroup": "abricotier",
         "marker": {
          "color": "#FECB52",
          "symbol": "circle"
         },
         "name": "abricotier",
         "showlegend": true,
         "type": "splom"
        },
        {
         "diagonal": {
          "visible": true
         },
         "dimensions": [
          {
           "axis": {
            "matches": true
           },
           "label": "count x",
           "values": [
            65
           ]
          },
          {
           "axis": {
            "matches": true
           },
           "label": "count y",
           "values": [
            127
           ]
          }
         ],
         "hovertemplate": "prefLabel=jardin<br>%{xaxis.title.text}=%{x}<br>%{yaxis.title.text}=%{y}<extra></extra>",
         "legendgroup": "jardin",
         "marker": {
          "color": "#636efa",
          "symbol": "circle"
         },
         "name": "jardin",
         "showlegend": true,
         "type": "splom"
        },
        {
         "diagonal": {
          "visible": true
         },
         "dimensions": [
          {
           "axis": {
            "matches": true
           },
           "label": "count x",
           "values": [
            63
           ]
          },
          {
           "axis": {
            "matches": true
           },
           "label": "count y",
           "values": [
            96
           ]
          }
         ],
         "hovertemplate": "prefLabel=persil<br>%{xaxis.title.text}=%{x}<br>%{yaxis.title.text}=%{y}<extra></extra>",
         "legendgroup": "persil",
         "marker": {
          "color": "#EF553B",
          "symbol": "circle"
         },
         "name": "persil",
         "showlegend": true,
         "type": "splom"
        },
        {
         "diagonal": {
          "visible": true
         },
         "dimensions": [
          {
           "axis": {
            "matches": true
           },
           "label": "count x",
           "values": [
            58
           ]
          },
          {
           "axis": {
            "matches": true
           },
           "label": "count y",
           "values": [
            13
           ]
          }
         ],
         "hovertemplate": "prefLabel=soja<br>%{xaxis.title.text}=%{x}<br>%{yaxis.title.text}=%{y}<extra></extra>",
         "legendgroup": "soja",
         "marker": {
          "color": "#00cc96",
          "symbol": "circle"
         },
         "name": "soja",
         "showlegend": true,
         "type": "splom"
        },
        {
         "diagonal": {
          "visible": true
         },
         "dimensions": [
          {
           "axis": {
            "matches": true
           },
           "label": "count x",
           "values": [
            56
           ]
          },
          {
           "axis": {
            "matches": true
           },
           "label": "count y",
           "values": [
            27
           ]
          }
         ],
         "hovertemplate": "prefLabel=orge d'hiver<br>%{xaxis.title.text}=%{x}<br>%{yaxis.title.text}=%{y}<extra></extra>",
         "legendgroup": "orge d'hiver",
         "marker": {
          "color": "#ab63fa",
          "symbol": "circle"
         },
         "name": "orge d'hiver",
         "showlegend": true,
         "type": "splom"
        },
        {
         "diagonal": {
          "visible": true
         },
         "dimensions": [
          {
           "axis": {
            "matches": true
           },
           "label": "count x",
           "values": [
            54
           ]
          },
          {
           "axis": {
            "matches": true
           },
           "label": "count y",
           "values": [
            34
           ]
          }
         ],
         "hovertemplate": "prefLabel=échalote<br>%{xaxis.title.text}=%{x}<br>%{yaxis.title.text}=%{y}<extra></extra>",
         "legendgroup": "échalote",
         "marker": {
          "color": "#FFA15A",
          "symbol": "circle"
         },
         "name": "échalote",
         "showlegend": true,
         "type": "splom"
        },
        {
         "diagonal": {
          "visible": true
         },
         "dimensions": [
          {
           "axis": {
            "matches": true
           },
           "label": "count x",
           "values": [
            54
           ]
          },
          {
           "axis": {
            "matches": true
           },
           "label": "count y",
           "values": [
            100
           ]
          }
         ],
         "hovertemplate": "prefLabel=pois protéagineux de printemps<br>%{xaxis.title.text}=%{x}<br>%{yaxis.title.text}=%{y}<extra></extra>",
         "legendgroup": "pois protéagineux de printemps",
         "marker": {
          "color": "#19d3f3",
          "symbol": "circle"
         },
         "name": "pois protéagineux de printemps",
         "showlegend": true,
         "type": "splom"
        },
        {
         "diagonal": {
          "visible": true
         },
         "dimensions": [
          {
           "axis": {
            "matches": true
           },
           "label": "count x",
           "values": [
            53
           ]
          },
          {
           "axis": {
            "matches": true
           },
           "label": "count y",
           "values": [
            52
           ]
          }
         ],
         "hovertemplate": "prefLabel=navet potager<br>%{xaxis.title.text}=%{x}<br>%{yaxis.title.text}=%{y}<extra></extra>",
         "legendgroup": "navet potager",
         "marker": {
          "color": "#FF6692",
          "symbol": "circle"
         },
         "name": "navet potager",
         "showlegend": true,
         "type": "splom"
        },
        {
         "diagonal": {
          "visible": true
         },
         "dimensions": [
          {
           "axis": {
            "matches": true
           },
           "label": "count x",
           "values": [
            52
           ]
          },
          {
           "axis": {
            "matches": true
           },
           "label": "count y",
           "values": [
            15
           ]
          }
         ],
         "hovertemplate": "prefLabel=tabac<br>%{xaxis.title.text}=%{x}<br>%{yaxis.title.text}=%{y}<extra></extra>",
         "legendgroup": "tabac",
         "marker": {
          "color": "#B6E880",
          "symbol": "circle"
         },
         "name": "tabac",
         "showlegend": true,
         "type": "splom"
        },
        {
         "diagonal": {
          "visible": true
         },
         "dimensions": [
          {
           "axis": {
            "matches": true
           },
           "label": "count x",
           "values": [
            50
           ]
          },
          {
           "axis": {
            "matches": true
           },
           "label": "count y",
           "values": [
            48
           ]
          }
         ],
         "hovertemplate": "prefLabel=oranger<br>%{xaxis.title.text}=%{x}<br>%{yaxis.title.text}=%{y}<extra></extra>",
         "legendgroup": "oranger",
         "marker": {
          "color": "#FF97FF",
          "symbol": "circle"
         },
         "name": "oranger",
         "showlegend": true,
         "type": "splom"
        },
        {
         "diagonal": {
          "visible": true
         },
         "dimensions": [
          {
           "axis": {
            "matches": true
           },
           "label": "count x",
           "values": [
            49
           ]
          },
          {
           "axis": {
            "matches": true
           },
           "label": "count y",
           "values": [
            8
           ]
          }
         ],
         "hovertemplate": "prefLabel=courge<br>%{xaxis.title.text}=%{x}<br>%{yaxis.title.text}=%{y}<extra></extra>",
         "legendgroup": "courge",
         "marker": {
          "color": "#FECB52",
          "symbol": "circle"
         },
         "name": "courge",
         "showlegend": true,
         "type": "splom"
        },
        {
         "diagonal": {
          "visible": true
         },
         "dimensions": [
          {
           "axis": {
            "matches": true
           },
           "label": "count x",
           "values": [
            48
           ]
          },
          {
           "axis": {
            "matches": true
           },
           "label": "count y",
           "values": [
            224
           ]
          }
         ],
         "hovertemplate": "prefLabel=féverole<br>%{xaxis.title.text}=%{x}<br>%{yaxis.title.text}=%{y}<extra></extra>",
         "legendgroup": "féverole",
         "marker": {
          "color": "#636efa",
          "symbol": "circle"
         },
         "name": "féverole",
         "showlegend": true,
         "type": "splom"
        },
        {
         "diagonal": {
          "visible": true
         },
         "dimensions": [
          {
           "axis": {
            "matches": true
           },
           "label": "count x",
           "values": [
            48
           ]
          },
          {
           "axis": {
            "matches": true
           },
           "label": "count y",
           "values": [
            24
           ]
          }
         ],
         "hovertemplate": "prefLabel=olivier<br>%{xaxis.title.text}=%{x}<br>%{yaxis.title.text}=%{y}<extra></extra>",
         "legendgroup": "olivier",
         "marker": {
          "color": "#EF553B",
          "symbol": "circle"
         },
         "name": "olivier",
         "showlegend": true,
         "type": "splom"
        },
        {
         "diagonal": {
          "visible": true
         },
         "dimensions": [
          {
           "axis": {
            "matches": true
           },
           "label": "count x",
           "values": [
            47
           ]
          },
          {
           "axis": {
            "matches": true
           },
           "label": "count y",
           "values": [
            33
           ]
          }
         ],
         "hovertemplate": "prefLabel=rosier ornemental<br>%{xaxis.title.text}=%{x}<br>%{yaxis.title.text}=%{y}<extra></extra>",
         "legendgroup": "rosier ornemental",
         "marker": {
          "color": "#00cc96",
          "symbol": "circle"
         },
         "name": "rosier ornemental",
         "showlegend": true,
         "type": "splom"
        },
        {
         "diagonal": {
          "visible": true
         },
         "dimensions": [
          {
           "axis": {
            "matches": true
           },
           "label": "count x",
           "values": [
            45
           ]
          },
          {
           "axis": {
            "matches": true
           },
           "label": "count y",
           "values": [
            49
           ]
          }
         ],
         "hovertemplate": "prefLabel=mâche<br>%{xaxis.title.text}=%{x}<br>%{yaxis.title.text}=%{y}<extra></extra>",
         "legendgroup": "mâche",
         "marker": {
          "color": "#ab63fa",
          "symbol": "circle"
         },
         "name": "mâche",
         "showlegend": true,
         "type": "splom"
        },
        {
         "diagonal": {
          "visible": true
         },
         "dimensions": [
          {
           "axis": {
            "matches": true
           },
           "label": "count x",
           "values": [
            44
           ]
          },
          {
           "axis": {
            "matches": true
           },
           "label": "count y",
           "values": [
            23
           ]
          }
         ],
         "hovertemplate": "prefLabel=asperge<br>%{xaxis.title.text}=%{x}<br>%{yaxis.title.text}=%{y}<extra></extra>",
         "legendgroup": "asperge",
         "marker": {
          "color": "#FFA15A",
          "symbol": "circle"
         },
         "name": "asperge",
         "showlegend": true,
         "type": "splom"
        },
        {
         "diagonal": {
          "visible": true
         },
         "dimensions": [
          {
           "axis": {
            "matches": true
           },
           "label": "count x",
           "values": [
            44
           ]
          },
          {
           "axis": {
            "matches": true
           },
           "label": "count y",
           "values": [
            11
           ]
          }
         ],
         "hovertemplate": "prefLabel=vigne de cuve<br>%{xaxis.title.text}=%{x}<br>%{yaxis.title.text}=%{y}<extra></extra>",
         "legendgroup": "vigne de cuve",
         "marker": {
          "color": "#19d3f3",
          "symbol": "circle"
         },
         "name": "vigne de cuve",
         "showlegend": true,
         "type": "splom"
        },
        {
         "diagonal": {
          "visible": true
         },
         "dimensions": [
          {
           "axis": {
            "matches": true
           },
           "label": "count x",
           "values": [
            43
           ]
          },
          {
           "axis": {
            "matches": true
           },
           "label": "count y",
           "values": [
            53
           ]
          }
         ],
         "hovertemplate": "prefLabel=chicorée endive<br>%{xaxis.title.text}=%{x}<br>%{yaxis.title.text}=%{y}<extra></extra>",
         "legendgroup": "chicorée endive",
         "marker": {
          "color": "#FF6692",
          "symbol": "circle"
         },
         "name": "chicorée endive",
         "showlegend": true,
         "type": "splom"
        },
        {
         "diagonal": {
          "visible": true
         },
         "dimensions": [
          {
           "axis": {
            "matches": true
           },
           "label": "count x",
           "values": [
            43
           ]
          },
          {
           "axis": {
            "matches": true
           },
           "label": "count y",
           "values": [
            47
           ]
          }
         ],
         "hovertemplate": "prefLabel=lin oléagineux d'hiver<br>%{xaxis.title.text}=%{x}<br>%{yaxis.title.text}=%{y}<extra></extra>",
         "legendgroup": "lin oléagineux d'hiver",
         "marker": {
          "color": "#B6E880",
          "symbol": "circle"
         },
         "name": "lin oléagineux d'hiver",
         "showlegend": true,
         "type": "splom"
        },
        {
         "diagonal": {
          "visible": true
         },
         "dimensions": [
          {
           "axis": {
            "matches": true
           },
           "label": "count x",
           "values": [
            42
           ]
          },
          {
           "axis": {
            "matches": true
           },
           "label": "count y",
           "values": [
            82
           ]
          }
         ],
         "hovertemplate": "prefLabel=horticulture ornementale<br>%{xaxis.title.text}=%{x}<br>%{yaxis.title.text}=%{y}<extra></extra>",
         "legendgroup": "horticulture ornementale",
         "marker": {
          "color": "#FF97FF",
          "symbol": "circle"
         },
         "name": "horticulture ornementale",
         "showlegend": true,
         "type": "splom"
        },
        {
         "diagonal": {
          "visible": true
         },
         "dimensions": [
          {
           "axis": {
            "matches": true
           },
           "label": "count x",
           "values": [
            41
           ]
          },
          {
           "axis": {
            "matches": true
           },
           "label": "count y",
           "values": [
            20
           ]
          }
         ],
         "hovertemplate": "prefLabel=orge de printemps<br>%{xaxis.title.text}=%{x}<br>%{yaxis.title.text}=%{y}<extra></extra>",
         "legendgroup": "orge de printemps",
         "marker": {
          "color": "#FECB52",
          "symbol": "circle"
         },
         "name": "orge de printemps",
         "showlegend": true,
         "type": "splom"
        },
        {
         "diagonal": {
          "visible": true
         },
         "dimensions": [
          {
           "axis": {
            "matches": true
           },
           "label": "count x",
           "values": [
            41
           ]
          },
          {
           "axis": {
            "matches": true
           },
           "label": "count y",
           "values": [
            10
           ]
          }
         ],
         "hovertemplate": "prefLabel=épinard<br>%{xaxis.title.text}=%{x}<br>%{yaxis.title.text}=%{y}<extra></extra>",
         "legendgroup": "épinard",
         "marker": {
          "color": "#636efa",
          "symbol": "circle"
         },
         "name": "épinard",
         "showlegend": true,
         "type": "splom"
        },
        {
         "diagonal": {
          "visible": true
         },
         "dimensions": [
          {
           "axis": {
            "matches": true
           },
           "label": "count x",
           "values": [
            40
           ]
          },
          {
           "axis": {
            "matches": true
           },
           "label": "count y",
           "values": [
            21
           ]
          }
         ],
         "hovertemplate": "prefLabel=ciboulette<br>%{xaxis.title.text}=%{x}<br>%{yaxis.title.text}=%{y}<extra></extra>",
         "legendgroup": "ciboulette",
         "marker": {
          "color": "#EF553B",
          "symbol": "circle"
         },
         "name": "ciboulette",
         "showlegend": true,
         "type": "splom"
        },
        {
         "diagonal": {
          "visible": true
         },
         "dimensions": [
          {
           "axis": {
            "matches": true
           },
           "label": "count x",
           "values": [
            39
           ]
          },
          {
           "axis": {
            "matches": true
           },
           "label": "count y",
           "values": [
            24
           ]
          }
         ],
         "hovertemplate": "prefLabel=blé tendre d'hiver<br>%{xaxis.title.text}=%{x}<br>%{yaxis.title.text}=%{y}<extra></extra>",
         "legendgroup": "blé tendre d'hiver",
         "marker": {
          "color": "#00cc96",
          "symbol": "circle"
         },
         "name": "blé tendre d'hiver",
         "showlegend": true,
         "type": "splom"
        },
        {
         "diagonal": {
          "visible": true
         },
         "dimensions": [
          {
           "axis": {
            "matches": true
           },
           "label": "count x",
           "values": [
            38
           ]
          },
          {
           "axis": {
            "matches": true
           },
           "label": "count y",
           "values": [
            5
           ]
          }
         ],
         "hovertemplate": "prefLabel=arbre fruitier à noyau<br>%{xaxis.title.text}=%{x}<br>%{yaxis.title.text}=%{y}<extra></extra>",
         "legendgroup": "arbre fruitier à noyau",
         "marker": {
          "color": "#ab63fa",
          "symbol": "circle"
         },
         "name": "arbre fruitier à noyau",
         "showlegend": true,
         "type": "splom"
        },
        {
         "diagonal": {
          "visible": true
         },
         "dimensions": [
          {
           "axis": {
            "matches": true
           },
           "label": "count x",
           "values": [
            38
           ]
          },
          {
           "axis": {
            "matches": true
           },
           "label": "count y",
           "values": [
            39
           ]
          }
         ],
         "hovertemplate": "prefLabel=triticale<br>%{xaxis.title.text}=%{x}<br>%{yaxis.title.text}=%{y}<extra></extra>",
         "legendgroup": "triticale",
         "marker": {
          "color": "#FFA15A",
          "symbol": "circle"
         },
         "name": "triticale",
         "showlegend": true,
         "type": "splom"
        },
        {
         "diagonal": {
          "visible": true
         },
         "dimensions": [
          {
           "axis": {
            "matches": true
           },
           "label": "count x",
           "values": [
            37
           ]
          },
          {
           "axis": {
            "matches": true
           },
           "label": "count y",
           "values": [
            31
           ]
          }
         ],
         "hovertemplate": "prefLabel=pomme de terre potagère<br>%{xaxis.title.text}=%{x}<br>%{yaxis.title.text}=%{y}<extra></extra>",
         "legendgroup": "pomme de terre potagère",
         "marker": {
          "color": "#19d3f3",
          "symbol": "circle"
         },
         "name": "pomme de terre potagère",
         "showlegend": true,
         "type": "splom"
        },
        {
         "diagonal": {
          "visible": true
         },
         "dimensions": [
          {
           "axis": {
            "matches": true
           },
           "label": "count x",
           "values": [
            35
           ]
          },
          {
           "axis": {
            "matches": true
           },
           "label": "count y",
           "values": [
            3
           ]
          }
         ],
         "hovertemplate": "prefLabel=palmier<br>%{xaxis.title.text}=%{x}<br>%{yaxis.title.text}=%{y}<extra></extra>",
         "legendgroup": "palmier",
         "marker": {
          "color": "#FF6692",
          "symbol": "circle"
         },
         "name": "palmier",
         "showlegend": true,
         "type": "splom"
        },
        {
         "diagonal": {
          "visible": true
         },
         "dimensions": [
          {
           "axis": {
            "matches": true
           },
           "label": "count x",
           "values": [
            35
           ]
          },
          {
           "axis": {
            "matches": true
           },
           "label": "count y",
           "values": [
            121
           ]
          }
         ],
         "hovertemplate": "prefLabel=noyer<br>%{xaxis.title.text}=%{x}<br>%{yaxis.title.text}=%{y}<extra></extra>",
         "legendgroup": "noyer",
         "marker": {
          "color": "#B6E880",
          "symbol": "circle"
         },
         "name": "noyer",
         "showlegend": true,
         "type": "splom"
        },
        {
         "diagonal": {
          "visible": true
         },
         "dimensions": [
          {
           "axis": {
            "matches": true
           },
           "label": "count x",
           "values": [
            34
           ]
          },
          {
           "axis": {
            "matches": true
           },
           "label": "count y",
           "values": [
            14
           ]
          }
         ],
         "hovertemplate": "prefLabel=bananier<br>%{xaxis.title.text}=%{x}<br>%{yaxis.title.text}=%{y}<extra></extra>",
         "legendgroup": "bananier",
         "marker": {
          "color": "#FF97FF",
          "symbol": "circle"
         },
         "name": "bananier",
         "showlegend": true,
         "type": "splom"
        },
        {
         "diagonal": {
          "visible": true
         },
         "dimensions": [
          {
           "axis": {
            "matches": true
           },
           "label": "count x",
           "values": [
            33
           ]
          },
          {
           "axis": {
            "matches": true
           },
           "label": "count y",
           "values": [
            45
           ]
          }
         ],
         "hovertemplate": "prefLabel=prairie<br>%{xaxis.title.text}=%{x}<br>%{yaxis.title.text}=%{y}<extra></extra>",
         "legendgroup": "prairie",
         "marker": {
          "color": "#FECB52",
          "symbol": "circle"
         },
         "name": "prairie",
         "showlegend": true,
         "type": "splom"
        },
        {
         "diagonal": {
          "visible": true
         },
         "dimensions": [
          {
           "axis": {
            "matches": true
           },
           "label": "count x",
           "values": [
            31
           ]
          },
          {
           "axis": {
            "matches": true
           },
           "label": "count y",
           "values": [
            47
           ]
          }
         ],
         "hovertemplate": "prefLabel=chicorée de Bruxelle<br>%{xaxis.title.text}=%{x}<br>%{yaxis.title.text}=%{y}<extra></extra>",
         "legendgroup": "chicorée de Bruxelle",
         "marker": {
          "color": "#636efa",
          "symbol": "circle"
         },
         "name": "chicorée de Bruxelle",
         "showlegend": true,
         "type": "splom"
        },
        {
         "diagonal": {
          "visible": true
         },
         "dimensions": [
          {
           "axis": {
            "matches": true
           },
           "label": "count x",
           "values": [
            30
           ]
          },
          {
           "axis": {
            "matches": true
           },
           "label": "count y",
           "values": [
            48
           ]
          }
         ],
         "hovertemplate": "prefLabel=framboisier<br>%{xaxis.title.text}=%{x}<br>%{yaxis.title.text}=%{y}<extra></extra>",
         "legendgroup": "framboisier",
         "marker": {
          "color": "#EF553B",
          "symbol": "circle"
         },
         "name": "framboisier",
         "showlegend": true,
         "type": "splom"
        },
        {
         "diagonal": {
          "visible": true
         },
         "dimensions": [
          {
           "axis": {
            "matches": true
           },
           "label": "count x",
           "values": [
            30
           ]
          },
          {
           "axis": {
            "matches": true
           },
           "label": "count y",
           "values": [
            16
           ]
          }
         ],
         "hovertemplate": "prefLabel=jardins familiaux<br>%{xaxis.title.text}=%{x}<br>%{yaxis.title.text}=%{y}<extra></extra>",
         "legendgroup": "jardins familiaux",
         "marker": {
          "color": "#00cc96",
          "symbol": "circle"
         },
         "name": "jardins familiaux",
         "showlegend": true,
         "type": "splom"
        },
        {
         "diagonal": {
          "visible": true
         },
         "dimensions": [
          {
           "axis": {
            "matches": true
           },
           "label": "count x",
           "values": [
            29
           ]
          },
          {
           "axis": {
            "matches": true
           },
           "label": "count y",
           "values": [
            52
           ]
          }
         ],
         "hovertemplate": "prefLabel=chêne<br>%{xaxis.title.text}=%{x}<br>%{yaxis.title.text}=%{y}<extra></extra>",
         "legendgroup": "chêne",
         "marker": {
          "color": "#ab63fa",
          "symbol": "circle"
         },
         "name": "chêne",
         "showlegend": true,
         "type": "splom"
        },
        {
         "diagonal": {
          "visible": true
         },
         "dimensions": [
          {
           "axis": {
            "matches": true
           },
           "label": "count x",
           "values": [
            28
           ]
          },
          {
           "axis": {
            "matches": true
           },
           "label": "count y",
           "values": [
            17
           ]
          }
         ],
         "hovertemplate": "prefLabel=petit fruit<br>%{xaxis.title.text}=%{x}<br>%{yaxis.title.text}=%{y}<extra></extra>",
         "legendgroup": "petit fruit",
         "marker": {
          "color": "#FFA15A",
          "symbol": "circle"
         },
         "name": "petit fruit",
         "showlegend": true,
         "type": "splom"
        },
        {
         "diagonal": {
          "visible": true
         },
         "dimensions": [
          {
           "axis": {
            "matches": true
           },
           "label": "count x",
           "values": [
            27
           ]
          },
          {
           "axis": {
            "matches": true
           },
           "label": "count y",
           "values": [
            13
           ]
          }
         ],
         "hovertemplate": "prefLabel=haricot demi-sec<br>%{xaxis.title.text}=%{x}<br>%{yaxis.title.text}=%{y}<extra></extra>",
         "legendgroup": "haricot demi-sec",
         "marker": {
          "color": "#19d3f3",
          "symbol": "circle"
         },
         "name": "haricot demi-sec",
         "showlegend": true,
         "type": "splom"
        },
        {
         "diagonal": {
          "visible": true
         },
         "dimensions": [
          {
           "axis": {
            "matches": true
           },
           "label": "count x",
           "values": [
            27
           ]
          },
          {
           "axis": {
            "matches": true
           },
           "label": "count y",
           "values": [
            36
           ]
          }
         ],
         "hovertemplate": "prefLabel=laitue batavia<br>%{xaxis.title.text}=%{x}<br>%{yaxis.title.text}=%{y}<extra></extra>",
         "legendgroup": "laitue batavia",
         "marker": {
          "color": "#FF6692",
          "symbol": "circle"
         },
         "name": "laitue batavia",
         "showlegend": true,
         "type": "splom"
        },
        {
         "diagonal": {
          "visible": true
         },
         "dimensions": [
          {
           "axis": {
            "matches": true
           },
           "label": "count x",
           "values": [
            27
           ]
          },
          {
           "axis": {
            "matches": true
           },
           "label": "count y",
           "values": [
            26
           ]
          }
         ],
         "hovertemplate": "prefLabel=ail<br>%{xaxis.title.text}=%{x}<br>%{yaxis.title.text}=%{y}<extra></extra>",
         "legendgroup": "ail",
         "marker": {
          "color": "#B6E880",
          "symbol": "circle"
         },
         "name": "ail",
         "showlegend": true,
         "type": "splom"
        },
        {
         "diagonal": {
          "visible": true
         },
         "dimensions": [
          {
           "axis": {
            "matches": true
           },
           "label": "count x",
           "values": [
            27
           ]
          },
          {
           "axis": {
            "matches": true
           },
           "label": "count y",
           "values": [
            4
           ]
          }
         ],
         "hovertemplate": "prefLabel=gel<br>%{xaxis.title.text}=%{x}<br>%{yaxis.title.text}=%{y}<extra></extra>",
         "legendgroup": "gel",
         "marker": {
          "color": "#FF97FF",
          "symbol": "circle"
         },
         "name": "gel",
         "showlegend": true,
         "type": "splom"
        },
        {
         "diagonal": {
          "visible": true
         },
         "dimensions": [
          {
           "axis": {
            "matches": true
           },
           "label": "count x",
           "values": [
            27
           ]
          },
          {
           "axis": {
            "matches": true
           },
           "label": "count y",
           "values": [
            87
           ]
          }
         ],
         "hovertemplate": "prefLabel=châtaignier<br>%{xaxis.title.text}=%{x}<br>%{yaxis.title.text}=%{y}<extra></extra>",
         "legendgroup": "châtaignier",
         "marker": {
          "color": "#FECB52",
          "symbol": "circle"
         },
         "name": "châtaignier",
         "showlegend": true,
         "type": "splom"
        },
        {
         "diagonal": {
          "visible": true
         },
         "dimensions": [
          {
           "axis": {
            "matches": true
           },
           "label": "count x",
           "values": [
            26
           ]
          },
          {
           "axis": {
            "matches": true
           },
           "label": "count y",
           "values": [
            12
           ]
          }
         ],
         "hovertemplate": "prefLabel=luzerne<br>%{xaxis.title.text}=%{x}<br>%{yaxis.title.text}=%{y}<extra></extra>",
         "legendgroup": "luzerne",
         "marker": {
          "color": "#636efa",
          "symbol": "circle"
         },
         "name": "luzerne",
         "showlegend": true,
         "type": "splom"
        },
        {
         "diagonal": {
          "visible": true
         },
         "dimensions": [
          {
           "axis": {
            "matches": true
           },
           "label": "count x",
           "values": [
            26
           ]
          },
          {
           "axis": {
            "matches": true
           },
           "label": "count y",
           "values": [
            45
           ]
          }
         ],
         "hovertemplate": "prefLabel=actinidia<br>%{xaxis.title.text}=%{x}<br>%{yaxis.title.text}=%{y}<extra></extra>",
         "legendgroup": "actinidia",
         "marker": {
          "color": "#EF553B",
          "symbol": "circle"
         },
         "name": "actinidia",
         "showlegend": true,
         "type": "splom"
        },
        {
         "diagonal": {
          "visible": true
         },
         "dimensions": [
          {
           "axis": {
            "matches": true
           },
           "label": "count x",
           "values": [
            23
           ]
          },
          {
           "axis": {
            "matches": true
           },
           "label": "count y",
           "values": [
            9
           ]
          }
         ],
         "hovertemplate": "prefLabel=artichaut<br>%{xaxis.title.text}=%{x}<br>%{yaxis.title.text}=%{y}<extra></extra>",
         "legendgroup": "artichaut",
         "marker": {
          "color": "#00cc96",
          "symbol": "circle"
         },
         "name": "artichaut",
         "showlegend": true,
         "type": "splom"
        },
        {
         "diagonal": {
          "visible": true
         },
         "dimensions": [
          {
           "axis": {
            "matches": true
           },
           "label": "count x",
           "values": [
            22
           ]
          },
          {
           "axis": {
            "matches": true
           },
           "label": "count y",
           "values": [
            35
           ]
          }
         ],
         "hovertemplate": "prefLabel=vigne de table<br>%{xaxis.title.text}=%{x}<br>%{yaxis.title.text}=%{y}<extra></extra>",
         "legendgroup": "vigne de table",
         "marker": {
          "color": "#ab63fa",
          "symbol": "circle"
         },
         "name": "vigne de table",
         "showlegend": true,
         "type": "splom"
        },
        {
         "diagonal": {
          "visible": true
         },
         "dimensions": [
          {
           "axis": {
            "matches": true
           },
           "label": "count x",
           "values": [
            22
           ]
          },
          {
           "axis": {
            "matches": true
           },
           "label": "count y",
           "values": [
            102
           ]
          }
         ],
         "hovertemplate": "prefLabel=rosier<br>%{xaxis.title.text}=%{x}<br>%{yaxis.title.text}=%{y}<extra></extra>",
         "legendgroup": "rosier",
         "marker": {
          "color": "#FFA15A",
          "symbol": "circle"
         },
         "name": "rosier",
         "showlegend": true,
         "type": "splom"
        },
        {
         "diagonal": {
          "visible": true
         },
         "dimensions": [
          {
           "axis": {
            "matches": true
           },
           "label": "count x",
           "values": [
            22
           ]
          },
          {
           "axis": {
            "matches": true
           },
           "label": "count y",
           "values": [
            66
           ]
          }
         ],
         "hovertemplate": "prefLabel=pois protéagineux d'hiver<br>%{xaxis.title.text}=%{x}<br>%{yaxis.title.text}=%{y}<extra></extra>",
         "legendgroup": "pois protéagineux d'hiver",
         "marker": {
          "color": "#19d3f3",
          "symbol": "circle"
         },
         "name": "pois protéagineux d'hiver",
         "showlegend": true,
         "type": "splom"
        },
        {
         "diagonal": {
          "visible": true
         },
         "dimensions": [
          {
           "axis": {
            "matches": true
           },
           "label": "count x",
           "values": [
            21
           ]
          },
          {
           "axis": {
            "matches": true
           },
           "label": "count y",
           "values": [
            7
           ]
          }
         ],
         "hovertemplate": "prefLabel=sorgho grain<br>%{xaxis.title.text}=%{x}<br>%{yaxis.title.text}=%{y}<extra></extra>",
         "legendgroup": "sorgho grain",
         "marker": {
          "color": "#FF6692",
          "symbol": "circle"
         },
         "name": "sorgho grain",
         "showlegend": true,
         "type": "splom"
        },
        {
         "diagonal": {
          "visible": true
         },
         "dimensions": [
          {
           "axis": {
            "matches": true
           },
           "label": "count x",
           "values": [
            21
           ]
          },
          {
           "axis": {
            "matches": true
           },
           "label": "count y",
           "values": [
            18
           ]
          }
         ],
         "hovertemplate": "prefLabel=panais<br>%{xaxis.title.text}=%{x}<br>%{yaxis.title.text}=%{y}<extra></extra>",
         "legendgroup": "panais",
         "marker": {
          "color": "#B6E880",
          "symbol": "circle"
         },
         "name": "panais",
         "showlegend": true,
         "type": "splom"
        },
        {
         "diagonal": {
          "visible": true
         },
         "dimensions": [
          {
           "axis": {
            "matches": true
           },
           "label": "count x",
           "values": [
            21
           ]
          },
          {
           "axis": {
            "matches": true
           },
           "label": "count y",
           "values": [
            5
           ]
          }
         ],
         "hovertemplate": "prefLabel=culture légumière de plein champ<br>%{xaxis.title.text}=%{x}<br>%{yaxis.title.text}=%{y}<extra></extra>",
         "legendgroup": "culture légumière de plein champ",
         "marker": {
          "color": "#FF97FF",
          "symbol": "circle"
         },
         "name": "culture légumière de plein champ",
         "showlegend": true,
         "type": "splom"
        },
        {
         "diagonal": {
          "visible": true
         },
         "dimensions": [
          {
           "axis": {
            "matches": true
           },
           "label": "count x",
           "values": [
            20
           ]
          },
          {
           "axis": {
            "matches": true
           },
           "label": "count y",
           "values": [
            117
           ]
          }
         ],
         "hovertemplate": "prefLabel=protéagineux<br>%{xaxis.title.text}=%{x}<br>%{yaxis.title.text}=%{y}<extra></extra>",
         "legendgroup": "protéagineux",
         "marker": {
          "color": "#FECB52",
          "symbol": "circle"
         },
         "name": "protéagineux",
         "showlegend": true,
         "type": "splom"
        },
        {
         "diagonal": {
          "visible": true
         },
         "dimensions": [
          {
           "axis": {
            "matches": true
           },
           "label": "count x",
           "values": [
            20
           ]
          },
          {
           "axis": {
            "matches": true
           },
           "label": "count y",
           "values": [
            9
           ]
          }
         ],
         "hovertemplate": "prefLabel=scorsonère<br>%{xaxis.title.text}=%{x}<br>%{yaxis.title.text}=%{y}<extra></extra>",
         "legendgroup": "scorsonère",
         "marker": {
          "color": "#636efa",
          "symbol": "circle"
         },
         "name": "scorsonère",
         "showlegend": true,
         "type": "splom"
        },
        {
         "diagonal": {
          "visible": true
         },
         "dimensions": [
          {
           "axis": {
            "matches": true
           },
           "label": "count x",
           "values": [
            19
           ]
          },
          {
           "axis": {
            "matches": true
           },
           "label": "count y",
           "values": [
            10
           ]
          }
         ],
         "hovertemplate": "prefLabel=betterave potagère<br>%{xaxis.title.text}=%{x}<br>%{yaxis.title.text}=%{y}<extra></extra>",
         "legendgroup": "betterave potagère",
         "marker": {
          "color": "#EF553B",
          "symbol": "circle"
         },
         "name": "betterave potagère",
         "showlegend": true,
         "type": "splom"
        },
        {
         "diagonal": {
          "visible": true
         },
         "dimensions": [
          {
           "axis": {
            "matches": true
           },
           "label": "count x",
           "values": [
            19
           ]
          },
          {
           "axis": {
            "matches": true
           },
           "label": "count y",
           "values": [
            7
           ]
          }
         ],
         "hovertemplate": "prefLabel=sorgho<br>%{xaxis.title.text}=%{x}<br>%{yaxis.title.text}=%{y}<extra></extra>",
         "legendgroup": "sorgho",
         "marker": {
          "color": "#00cc96",
          "symbol": "circle"
         },
         "name": "sorgho",
         "showlegend": true,
         "type": "splom"
        },
        {
         "diagonal": {
          "visible": true
         },
         "dimensions": [
          {
           "axis": {
            "matches": true
           },
           "label": "count x",
           "values": [
            18
           ]
          },
          {
           "axis": {
            "matches": true
           },
           "label": "count y",
           "values": [
            47
           ]
          }
         ],
         "hovertemplate": "prefLabel=agrume<br>%{xaxis.title.text}=%{x}<br>%{yaxis.title.text}=%{y}<extra></extra>",
         "legendgroup": "agrume",
         "marker": {
          "color": "#ab63fa",
          "symbol": "circle"
         },
         "name": "agrume",
         "showlegend": true,
         "type": "splom"
        },
        {
         "diagonal": {
          "visible": true
         },
         "dimensions": [
          {
           "axis": {
            "matches": true
           },
           "label": "count x",
           "values": [
            17
           ]
          },
          {
           "axis": {
            "matches": true
           },
           "label": "count y",
           "values": [
            11
           ]
          }
         ],
         "hovertemplate": "prefLabel=piment<br>%{xaxis.title.text}=%{x}<br>%{yaxis.title.text}=%{y}<extra></extra>",
         "legendgroup": "piment",
         "marker": {
          "color": "#FFA15A",
          "symbol": "circle"
         },
         "name": "piment",
         "showlegend": true,
         "type": "splom"
        },
        {
         "diagonal": {
          "visible": true
         },
         "dimensions": [
          {
           "axis": {
            "matches": true
           },
           "label": "count x",
           "values": [
            17
           ]
          },
          {
           "axis": {
            "matches": true
           },
           "label": "count y",
           "values": [
            26
           ]
          }
         ],
         "hovertemplate": "prefLabel=laurier<br>%{xaxis.title.text}=%{x}<br>%{yaxis.title.text}=%{y}<extra></extra>",
         "legendgroup": "laurier",
         "marker": {
          "color": "#19d3f3",
          "symbol": "circle"
         },
         "name": "laurier",
         "showlegend": true,
         "type": "splom"
        },
        {
         "diagonal": {
          "visible": true
         },
         "dimensions": [
          {
           "axis": {
            "matches": true
           },
           "label": "count x",
           "values": [
            16
           ]
          },
          {
           "axis": {
            "matches": true
           },
           "label": "count y",
           "values": [
            10
           ]
          }
         ],
         "hovertemplate": "prefLabel=olivier fruit à noyaux<br>%{xaxis.title.text}=%{x}<br>%{yaxis.title.text}=%{y}<extra></extra>",
         "legendgroup": "olivier fruit à noyaux",
         "marker": {
          "color": "#FF6692",
          "symbol": "circle"
         },
         "name": "olivier fruit à noyaux",
         "showlegend": true,
         "type": "splom"
        },
        {
         "diagonal": {
          "visible": true
         },
         "dimensions": [
          {
           "axis": {
            "matches": true
           },
           "label": "count x",
           "values": [
            15
           ]
          },
          {
           "axis": {
            "matches": true
           },
           "label": "count y",
           "values": [
            5
           ]
          }
         ],
         "hovertemplate": "prefLabel=Chou cabus blanc<br>%{xaxis.title.text}=%{x}<br>%{yaxis.title.text}=%{y}<extra></extra>",
         "legendgroup": "Chou cabus blanc",
         "marker": {
          "color": "#B6E880",
          "symbol": "circle"
         },
         "name": "Chou cabus blanc",
         "showlegend": true,
         "type": "splom"
        },
        {
         "diagonal": {
          "visible": true
         },
         "dimensions": [
          {
           "axis": {
            "matches": true
           },
           "label": "count x",
           "values": [
            14
           ]
          },
          {
           "axis": {
            "matches": true
           },
           "label": "count y",
           "values": [
            12
           ]
          }
         ],
         "hovertemplate": "prefLabel=fève<br>%{xaxis.title.text}=%{x}<br>%{yaxis.title.text}=%{y}<extra></extra>",
         "legendgroup": "fève",
         "marker": {
          "color": "#FF97FF",
          "symbol": "circle"
         },
         "name": "fève",
         "showlegend": true,
         "type": "splom"
        },
        {
         "diagonal": {
          "visible": true
         },
         "dimensions": [
          {
           "axis": {
            "matches": true
           },
           "label": "count x",
           "values": [
            14
           ]
          },
          {
           "axis": {
            "matches": true
           },
           "label": "count y",
           "values": [
            10
           ]
          }
         ],
         "hovertemplate": "prefLabel=céleri-rave<br>%{xaxis.title.text}=%{x}<br>%{yaxis.title.text}=%{y}<extra></extra>",
         "legendgroup": "céleri-rave",
         "marker": {
          "color": "#FECB52",
          "symbol": "circle"
         },
         "name": "céleri-rave",
         "showlegend": true,
         "type": "splom"
        },
        {
         "diagonal": {
          "visible": true
         },
         "dimensions": [
          {
           "axis": {
            "matches": true
           },
           "label": "count x",
           "values": [
            13
           ]
          },
          {
           "axis": {
            "matches": true
           },
           "label": "count y",
           "values": [
            5
           ]
          }
         ],
         "hovertemplate": "prefLabel=orge à six rangs<br>%{xaxis.title.text}=%{x}<br>%{yaxis.title.text}=%{y}<extra></extra>",
         "legendgroup": "orge à six rangs",
         "marker": {
          "color": "#636efa",
          "symbol": "circle"
         },
         "name": "orge à six rangs",
         "showlegend": true,
         "type": "splom"
        },
        {
         "diagonal": {
          "visible": true
         },
         "dimensions": [
          {
           "axis": {
            "matches": true
           },
           "label": "count x",
           "values": [
            13
           ]
          },
          {
           "axis": {
            "matches": true
           },
           "label": "count y",
           "values": [
            11
           ]
          }
         ],
         "hovertemplate": "prefLabel=amandier<br>%{xaxis.title.text}=%{x}<br>%{yaxis.title.text}=%{y}<extra></extra>",
         "legendgroup": "amandier",
         "marker": {
          "color": "#EF553B",
          "symbol": "circle"
         },
         "name": "amandier",
         "showlegend": true,
         "type": "splom"
        },
        {
         "diagonal": {
          "visible": true
         },
         "dimensions": [
          {
           "axis": {
            "matches": true
           },
           "label": "count x",
           "values": [
            12
           ]
          },
          {
           "axis": {
            "matches": true
           },
           "label": "count y",
           "values": [
            7
           ]
          }
         ],
         "hovertemplate": "prefLabel=chicorée scarole<br>%{xaxis.title.text}=%{x}<br>%{yaxis.title.text}=%{y}<extra></extra>",
         "legendgroup": "chicorée scarole",
         "marker": {
          "color": "#00cc96",
          "symbol": "circle"
         },
         "name": "chicorée scarole",
         "showlegend": true,
         "type": "splom"
        },
        {
         "diagonal": {
          "visible": true
         },
         "dimensions": [
          {
           "axis": {
            "matches": true
           },
           "label": "count x",
           "values": [
            12
           ]
          },
          {
           "axis": {
            "matches": true
           },
           "label": "count y",
           "values": [
            7
           ]
          }
         ],
         "hovertemplate": "prefLabel=chicorée<br>%{xaxis.title.text}=%{x}<br>%{yaxis.title.text}=%{y}<extra></extra>",
         "legendgroup": "chicorée",
         "marker": {
          "color": "#ab63fa",
          "symbol": "circle"
         },
         "name": "chicorée",
         "showlegend": true,
         "type": "splom"
        },
        {
         "diagonal": {
          "visible": true
         },
         "dimensions": [
          {
           "axis": {
            "matches": true
           },
           "label": "count x",
           "values": [
            12
           ]
          },
          {
           "axis": {
            "matches": true
           },
           "label": "count y",
           "values": [
            4
           ]
          }
         ],
         "hovertemplate": "prefLabel=chou pommé<br>%{xaxis.title.text}=%{x}<br>%{yaxis.title.text}=%{y}<extra></extra>",
         "legendgroup": "chou pommé",
         "marker": {
          "color": "#FFA15A",
          "symbol": "circle"
         },
         "name": "chou pommé",
         "showlegend": true,
         "type": "splom"
        },
        {
         "diagonal": {
          "visible": true
         },
         "dimensions": [
          {
           "axis": {
            "matches": true
           },
           "label": "count x",
           "values": [
            11
           ]
          },
          {
           "axis": {
            "matches": true
           },
           "label": "count y",
           "values": [
            10
           ]
          }
         ],
         "hovertemplate": "prefLabel=chou brocoli<br>%{xaxis.title.text}=%{x}<br>%{yaxis.title.text}=%{y}<extra></extra>",
         "legendgroup": "chou brocoli",
         "marker": {
          "color": "#19d3f3",
          "symbol": "circle"
         },
         "name": "chou brocoli",
         "showlegend": true,
         "type": "splom"
        },
        {
         "diagonal": {
          "visible": true
         },
         "dimensions": [
          {
           "axis": {
            "matches": true
           },
           "label": "count x",
           "values": [
            11
           ]
          },
          {
           "axis": {
            "matches": true
           },
           "label": "count y",
           "values": [
            23
           ]
          }
         ],
         "hovertemplate": "prefLabel=cresson<br>%{xaxis.title.text}=%{x}<br>%{yaxis.title.text}=%{y}<extra></extra>",
         "legendgroup": "cresson",
         "marker": {
          "color": "#FF6692",
          "symbol": "circle"
         },
         "name": "cresson",
         "showlegend": true,
         "type": "splom"
        },
        {
         "diagonal": {
          "visible": true
         },
         "dimensions": [
          {
           "axis": {
            "matches": true
           },
           "label": "count x",
           "values": [
            11
           ]
          },
          {
           "axis": {
            "matches": true
           },
           "label": "count y",
           "values": [
            29
           ]
          }
         ],
         "hovertemplate": "prefLabel=lin oléagineux de printemps<br>%{xaxis.title.text}=%{x}<br>%{yaxis.title.text}=%{y}<extra></extra>",
         "legendgroup": "lin oléagineux de printemps",
         "marker": {
          "color": "#B6E880",
          "symbol": "circle"
         },
         "name": "lin oléagineux de printemps",
         "showlegend": true,
         "type": "splom"
        },
        {
         "diagonal": {
          "visible": true
         },
         "dimensions": [
          {
           "axis": {
            "matches": true
           },
           "label": "count x",
           "values": [
            11
           ]
          },
          {
           "axis": {
            "matches": true
           },
           "label": "count y",
           "values": [
            8
           ]
          }
         ],
         "hovertemplate": "prefLabel=chou-fleur<br>%{xaxis.title.text}=%{x}<br>%{yaxis.title.text}=%{y}<extra></extra>",
         "legendgroup": "chou-fleur",
         "marker": {
          "color": "#FF97FF",
          "symbol": "circle"
         },
         "name": "chou-fleur",
         "showlegend": true,
         "type": "splom"
        },
        {
         "diagonal": {
          "visible": true
         },
         "dimensions": [
          {
           "axis": {
            "matches": true
           },
           "label": "count x",
           "values": [
            10
           ]
          },
          {
           "axis": {
            "matches": true
           },
           "label": "count y",
           "values": [
            25
           ]
          }
         ],
         "hovertemplate": "prefLabel=féverole d'hiver<br>%{xaxis.title.text}=%{x}<br>%{yaxis.title.text}=%{y}<extra></extra>",
         "legendgroup": "féverole d'hiver",
         "marker": {
          "color": "#FECB52",
          "symbol": "circle"
         },
         "name": "féverole d'hiver",
         "showlegend": true,
         "type": "splom"
        },
        {
         "diagonal": {
          "visible": true
         },
         "dimensions": [
          {
           "axis": {
            "matches": true
           },
           "label": "count x",
           "values": [
            10
           ]
          },
          {
           "axis": {
            "matches": true
           },
           "label": "count y",
           "values": [
            4
           ]
          }
         ],
         "hovertemplate": "prefLabel=cassissier<br>%{xaxis.title.text}=%{x}<br>%{yaxis.title.text}=%{y}<extra></extra>",
         "legendgroup": "cassissier",
         "marker": {
          "color": "#636efa",
          "symbol": "circle"
         },
         "name": "cassissier",
         "showlegend": true,
         "type": "splom"
        },
        {
         "diagonal": {
          "visible": true
         },
         "dimensions": [
          {
           "axis": {
            "matches": true
           },
           "label": "count x",
           "values": [
            10
           ]
          },
          {
           "axis": {
            "matches": true
           },
           "label": "count y",
           "values": [
            4
           ]
          }
         ],
         "hovertemplate": "prefLabel=citronnier<br>%{xaxis.title.text}=%{x}<br>%{yaxis.title.text}=%{y}<extra></extra>",
         "legendgroup": "citronnier",
         "marker": {
          "color": "#EF553B",
          "symbol": "circle"
         },
         "name": "citronnier",
         "showlegend": true,
         "type": "splom"
        },
        {
         "diagonal": {
          "visible": true
         },
         "dimensions": [
          {
           "axis": {
            "matches": true
           },
           "label": "count x",
           "values": [
            10
           ]
          },
          {
           "axis": {
            "matches": true
           },
           "label": "count y",
           "values": [
            19
           ]
          }
         ],
         "hovertemplate": "prefLabel=haricot vert<br>%{xaxis.title.text}=%{x}<br>%{yaxis.title.text}=%{y}<extra></extra>",
         "legendgroup": "haricot vert",
         "marker": {
          "color": "#00cc96",
          "symbol": "circle"
         },
         "name": "haricot vert",
         "showlegend": true,
         "type": "splom"
        },
        {
         "diagonal": {
          "visible": true
         },
         "dimensions": [
          {
           "axis": {
            "matches": true
           },
           "label": "count x",
           "values": [
            10
           ]
          },
          {
           "axis": {
            "matches": true
           },
           "label": "count y",
           "values": [
            8
           ]
          }
         ],
         "hovertemplate": "prefLabel=manguier<br>%{xaxis.title.text}=%{x}<br>%{yaxis.title.text}=%{y}<extra></extra>",
         "legendgroup": "manguier",
         "marker": {
          "color": "#ab63fa",
          "symbol": "circle"
         },
         "name": "manguier",
         "showlegend": true,
         "type": "splom"
        },
        {
         "diagonal": {
          "visible": true
         },
         "dimensions": [
          {
           "axis": {
            "matches": true
           },
           "label": "count x",
           "values": [
            10
           ]
          },
          {
           "axis": {
            "matches": true
           },
           "label": "count y",
           "values": [
            43
           ]
          }
         ],
         "hovertemplate": "prefLabel=géranium<br>%{xaxis.title.text}=%{x}<br>%{yaxis.title.text}=%{y}<extra></extra>",
         "legendgroup": "géranium",
         "marker": {
          "color": "#FFA15A",
          "symbol": "circle"
         },
         "name": "géranium",
         "showlegend": true,
         "type": "splom"
        },
        {
         "diagonal": {
          "visible": true
         },
         "dimensions": [
          {
           "axis": {
            "matches": true
           },
           "label": "count x",
           "values": [
            10
           ]
          },
          {
           "axis": {
            "matches": true
           },
           "label": "count y",
           "values": [
            2
           ]
          }
         ],
         "hovertemplate": "prefLabel=maïs doux<br>%{xaxis.title.text}=%{x}<br>%{yaxis.title.text}=%{y}<extra></extra>",
         "legendgroup": "maïs doux",
         "marker": {
          "color": "#19d3f3",
          "symbol": "circle"
         },
         "name": "maïs doux",
         "showlegend": true,
         "type": "splom"
        },
        {
         "diagonal": {
          "visible": true
         },
         "dimensions": [
          {
           "axis": {
            "matches": true
           },
           "label": "count x",
           "values": [
            9
           ]
          },
          {
           "axis": {
            "matches": true
           },
           "label": "count y",
           "values": [
            15
           ]
          }
         ],
         "hovertemplate": "prefLabel=laitue à couper<br>%{xaxis.title.text}=%{x}<br>%{yaxis.title.text}=%{y}<extra></extra>",
         "legendgroup": "laitue à couper",
         "marker": {
          "color": "#FF6692",
          "symbol": "circle"
         },
         "name": "laitue à couper",
         "showlegend": true,
         "type": "splom"
        },
        {
         "diagonal": {
          "visible": true
         },
         "dimensions": [
          {
           "axis": {
            "matches": true
           },
           "label": "count x",
           "values": [
            9
           ]
          },
          {
           "axis": {
            "matches": true
           },
           "label": "count y",
           "values": [
            29
           ]
          }
         ],
         "hovertemplate": "prefLabel=féverole de printemps<br>%{xaxis.title.text}=%{x}<br>%{yaxis.title.text}=%{y}<extra></extra>",
         "legendgroup": "féverole de printemps",
         "marker": {
          "color": "#B6E880",
          "symbol": "circle"
         },
         "name": "féverole de printemps",
         "showlegend": true,
         "type": "splom"
        },
        {
         "diagonal": {
          "visible": true
         },
         "dimensions": [
          {
           "axis": {
            "matches": true
           },
           "label": "count x",
           "values": [
            8
           ]
          },
          {
           "axis": {
            "matches": true
           },
           "label": "count y",
           "values": [
            8
           ]
          }
         ],
         "hovertemplate": "prefLabel=moutarde<br>%{xaxis.title.text}=%{x}<br>%{yaxis.title.text}=%{y}<extra></extra>",
         "legendgroup": "moutarde",
         "marker": {
          "color": "#FF97FF",
          "symbol": "circle"
         },
         "name": "moutarde",
         "showlegend": true,
         "type": "splom"
        },
        {
         "diagonal": {
          "visible": true
         },
         "dimensions": [
          {
           "axis": {
            "matches": true
           },
           "label": "count x",
           "values": [
            8
           ]
          },
          {
           "axis": {
            "matches": true
           },
           "label": "count y",
           "values": [
            13
           ]
          }
         ],
         "hovertemplate": "prefLabel=maïs grain<br>%{xaxis.title.text}=%{x}<br>%{yaxis.title.text}=%{y}<extra></extra>",
         "legendgroup": "maïs grain",
         "marker": {
          "color": "#FECB52",
          "symbol": "circle"
         },
         "name": "maïs grain",
         "showlegend": true,
         "type": "splom"
        },
        {
         "diagonal": {
          "visible": true
         },
         "dimensions": [
          {
           "axis": {
            "matches": true
           },
           "label": "count x",
           "values": [
            7
           ]
          },
          {
           "axis": {
            "matches": true
           },
           "label": "count y",
           "values": [
            4
           ]
          }
         ],
         "hovertemplate": "prefLabel=fourrage annuel<br>%{xaxis.title.text}=%{x}<br>%{yaxis.title.text}=%{y}<extra></extra>",
         "legendgroup": "fourrage annuel",
         "marker": {
          "color": "#636efa",
          "symbol": "circle"
         },
         "name": "fourrage annuel",
         "showlegend": true,
         "type": "splom"
        },
        {
         "diagonal": {
          "visible": true
         },
         "dimensions": [
          {
           "axis": {
            "matches": true
           },
           "label": "count x",
           "values": [
            7
           ]
          },
          {
           "axis": {
            "matches": true
           },
           "label": "count y",
           "values": [
            2
           ]
          }
         ],
         "hovertemplate": "prefLabel=chou chinois<br>%{xaxis.title.text}=%{x}<br>%{yaxis.title.text}=%{y}<extra></extra>",
         "legendgroup": "chou chinois",
         "marker": {
          "color": "#EF553B",
          "symbol": "circle"
         },
         "name": "chou chinois",
         "showlegend": true,
         "type": "splom"
        },
        {
         "diagonal": {
          "visible": true
         },
         "dimensions": [
          {
           "axis": {
            "matches": true
           },
           "label": "count x",
           "values": [
            7
           ]
          },
          {
           "axis": {
            "matches": true
           },
           "label": "count y",
           "values": [
            5
           ]
          }
         ],
         "hovertemplate": "prefLabel=avoine<br>%{xaxis.title.text}=%{x}<br>%{yaxis.title.text}=%{y}<extra></extra>",
         "legendgroup": "avoine",
         "marker": {
          "color": "#00cc96",
          "symbol": "circle"
         },
         "name": "avoine",
         "showlegend": true,
         "type": "splom"
        },
        {
         "diagonal": {
          "visible": true
         },
         "dimensions": [
          {
           "axis": {
            "matches": true
           },
           "label": "count x",
           "values": [
            7
           ]
          },
          {
           "axis": {
            "matches": true
           },
           "label": "count y",
           "values": [
            2
           ]
          }
         ],
         "hovertemplate": "prefLabel=figuier<br>%{xaxis.title.text}=%{x}<br>%{yaxis.title.text}=%{y}<extra></extra>",
         "legendgroup": "figuier",
         "marker": {
          "color": "#ab63fa",
          "symbol": "circle"
         },
         "name": "figuier",
         "showlegend": true,
         "type": "splom"
        },
        {
         "diagonal": {
          "visible": true
         },
         "dimensions": [
          {
           "axis": {
            "matches": true
           },
           "label": "count x",
           "values": [
            7
           ]
          },
          {
           "axis": {
            "matches": true
           },
           "label": "count y",
           "values": [
            10
           ]
          }
         ],
         "hovertemplate": "prefLabel=bananier plantain<br>%{xaxis.title.text}=%{x}<br>%{yaxis.title.text}=%{y}<extra></extra>",
         "legendgroup": "bananier plantain",
         "marker": {
          "color": "#FFA15A",
          "symbol": "circle"
         },
         "name": "bananier plantain",
         "showlegend": true,
         "type": "splom"
        },
        {
         "diagonal": {
          "visible": true
         },
         "dimensions": [
          {
           "axis": {
            "matches": true
           },
           "label": "count x",
           "values": [
            7
           ]
          },
          {
           "axis": {
            "matches": true
           },
           "label": "count y",
           "values": [
            5
           ]
          }
         ],
         "hovertemplate": "prefLabel=riz<br>%{xaxis.title.text}=%{x}<br>%{yaxis.title.text}=%{y}<extra></extra>",
         "legendgroup": "riz",
         "marker": {
          "color": "#19d3f3",
          "symbol": "circle"
         },
         "name": "riz",
         "showlegend": true,
         "type": "splom"
        },
        {
         "diagonal": {
          "visible": true
         },
         "dimensions": [
          {
           "axis": {
            "matches": true
           },
           "label": "count x",
           "values": [
            6
           ]
          },
          {
           "axis": {
            "matches": true
           },
           "label": "count y",
           "values": [
            6
           ]
          }
         ],
         "hovertemplate": "prefLabel=goyavier<br>%{xaxis.title.text}=%{x}<br>%{yaxis.title.text}=%{y}<extra></extra>",
         "legendgroup": "goyavier",
         "marker": {
          "color": "#FF6692",
          "symbol": "circle"
         },
         "name": "goyavier",
         "showlegend": true,
         "type": "splom"
        },
        {
         "diagonal": {
          "visible": true
         },
         "dimensions": [
          {
           "axis": {
            "matches": true
           },
           "label": "count x",
           "values": [
            6
           ]
          },
          {
           "axis": {
            "matches": true
           },
           "label": "count y",
           "values": [
            14
           ]
          }
         ],
         "hovertemplate": "prefLabel=cerfeuil<br>%{xaxis.title.text}=%{x}<br>%{yaxis.title.text}=%{y}<extra></extra>",
         "legendgroup": "cerfeuil",
         "marker": {
          "color": "#B6E880",
          "symbol": "circle"
         },
         "name": "cerfeuil",
         "showlegend": true,
         "type": "splom"
        },
        {
         "diagonal": {
          "visible": true
         },
         "dimensions": [
          {
           "axis": {
            "matches": true
           },
           "label": "count x",
           "values": [
            6
           ]
          },
          {
           "axis": {
            "matches": true
           },
           "label": "count y",
           "values": [
            6
           ]
          }
         ],
         "hovertemplate": "prefLabel=ray-grass<br>%{xaxis.title.text}=%{x}<br>%{yaxis.title.text}=%{y}<extra></extra>",
         "legendgroup": "ray-grass",
         "marker": {
          "color": "#FF97FF",
          "symbol": "circle"
         },
         "name": "ray-grass",
         "showlegend": true,
         "type": "splom"
        },
        {
         "diagonal": {
          "visible": true
         },
         "dimensions": [
          {
           "axis": {
            "matches": true
           },
           "label": "count x",
           "values": [
            6
           ]
          },
          {
           "axis": {
            "matches": true
           },
           "label": "count y",
           "values": [
            49
           ]
          }
         ],
         "hovertemplate": "prefLabel=pois protéagineux<br>%{xaxis.title.text}=%{x}<br>%{yaxis.title.text}=%{y}<extra></extra>",
         "legendgroup": "pois protéagineux",
         "marker": {
          "color": "#FECB52",
          "symbol": "circle"
         },
         "name": "pois protéagineux",
         "showlegend": true,
         "type": "splom"
        },
        {
         "diagonal": {
          "visible": true
         },
         "dimensions": [
          {
           "axis": {
            "matches": true
           },
           "label": "count x",
           "values": [
            6
           ]
          },
          {
           "axis": {
            "matches": true
           },
           "label": "count y",
           "values": [
            10
           ]
          }
         ],
         "hovertemplate": "prefLabel=ananas<br>%{xaxis.title.text}=%{x}<br>%{yaxis.title.text}=%{y}<extra></extra>",
         "legendgroup": "ananas",
         "marker": {
          "color": "#636efa",
          "symbol": "circle"
         },
         "name": "ananas",
         "showlegend": true,
         "type": "splom"
        },
        {
         "diagonal": {
          "visible": true
         },
         "dimensions": [
          {
           "axis": {
            "matches": true
           },
           "label": "count x",
           "values": [
            6
           ]
          },
          {
           "axis": {
            "matches": true
           },
           "label": "count y",
           "values": [
            1
           ]
          }
         ],
         "hovertemplate": "prefLabel=bananier musa<br>%{xaxis.title.text}=%{x}<br>%{yaxis.title.text}=%{y}<extra></extra>",
         "legendgroup": "bananier musa",
         "marker": {
          "color": "#EF553B",
          "symbol": "circle"
         },
         "name": "bananier musa",
         "showlegend": true,
         "type": "splom"
        },
        {
         "diagonal": {
          "visible": true
         },
         "dimensions": [
          {
           "axis": {
            "matches": true
           },
           "label": "count x",
           "values": [
            6
           ]
          },
          {
           "axis": {
            "matches": true
           },
           "label": "count y",
           "values": [
            4
           ]
          }
         ],
         "hovertemplate": "prefLabel=chou de Milan<br>%{xaxis.title.text}=%{x}<br>%{yaxis.title.text}=%{y}<extra></extra>",
         "legendgroup": "chou de Milan",
         "marker": {
          "color": "#00cc96",
          "symbol": "circle"
         },
         "name": "chou de Milan",
         "showlegend": true,
         "type": "splom"
        },
        {
         "diagonal": {
          "visible": true
         },
         "dimensions": [
          {
           "axis": {
            "matches": true
           },
           "label": "count x",
           "values": [
            5
           ]
          },
          {
           "axis": {
            "matches": true
           },
           "label": "count y",
           "values": [
            1
           ]
          }
         ],
         "hovertemplate": "prefLabel=chou cabus rouge<br>%{xaxis.title.text}=%{x}<br>%{yaxis.title.text}=%{y}<extra></extra>",
         "legendgroup": "chou cabus rouge",
         "marker": {
          "color": "#ab63fa",
          "symbol": "circle"
         },
         "name": "chou cabus rouge",
         "showlegend": true,
         "type": "splom"
        },
        {
         "diagonal": {
          "visible": true
         },
         "dimensions": [
          {
           "axis": {
            "matches": true
           },
           "label": "count x",
           "values": [
            5
           ]
          },
          {
           "axis": {
            "matches": true
           },
           "label": "count y",
           "values": [
            4
           ]
          }
         ],
         "hovertemplate": "prefLabel=noisetier<br>%{xaxis.title.text}=%{x}<br>%{yaxis.title.text}=%{y}<extra></extra>",
         "legendgroup": "noisetier",
         "marker": {
          "color": "#FFA15A",
          "symbol": "circle"
         },
         "name": "noisetier",
         "showlegend": true,
         "type": "splom"
        },
        {
         "diagonal": {
          "visible": true
         },
         "dimensions": [
          {
           "axis": {
            "matches": true
           },
           "label": "count x",
           "values": [
            5
           ]
          },
          {
           "axis": {
            "matches": true
           },
           "label": "count y",
           "values": [
            17
           ]
          }
         ],
         "hovertemplate": "prefLabel=roquette<br>%{xaxis.title.text}=%{x}<br>%{yaxis.title.text}=%{y}<extra></extra>",
         "legendgroup": "roquette",
         "marker": {
          "color": "#19d3f3",
          "symbol": "circle"
         },
         "name": "roquette",
         "showlegend": true,
         "type": "splom"
        },
        {
         "diagonal": {
          "visible": true
         },
         "dimensions": [
          {
           "axis": {
            "matches": true
           },
           "label": "count x",
           "values": [
            5
           ]
          },
          {
           "axis": {
            "matches": true
           },
           "label": "count y",
           "values": [
            8
           ]
          }
         ],
         "hovertemplate": "prefLabel=poinsettia<br>%{xaxis.title.text}=%{x}<br>%{yaxis.title.text}=%{y}<extra></extra>",
         "legendgroup": "poinsettia",
         "marker": {
          "color": "#FF6692",
          "symbol": "circle"
         },
         "name": "poinsettia",
         "showlegend": true,
         "type": "splom"
        },
        {
         "diagonal": {
          "visible": true
         },
         "dimensions": [
          {
           "axis": {
            "matches": true
           },
           "label": "count x",
           "values": [
            5
           ]
          },
          {
           "axis": {
            "matches": true
           },
           "label": "count y",
           "values": [
            44
           ]
          }
         ],
         "hovertemplate": "prefLabel=chrysanthème<br>%{xaxis.title.text}=%{x}<br>%{yaxis.title.text}=%{y}<extra></extra>",
         "legendgroup": "chrysanthème",
         "marker": {
          "color": "#B6E880",
          "symbol": "circle"
         },
         "name": "chrysanthème",
         "showlegend": true,
         "type": "splom"
        },
        {
         "diagonal": {
          "visible": true
         },
         "dimensions": [
          {
           "axis": {
            "matches": true
           },
           "label": "count x",
           "values": [
            5
           ]
          },
          {
           "axis": {
            "matches": true
           },
           "label": "count y",
           "values": [
            2
           ]
          }
         ],
         "hovertemplate": "prefLabel=chou-navet à chair jaune<br>%{xaxis.title.text}=%{x}<br>%{yaxis.title.text}=%{y}<extra></extra>",
         "legendgroup": "chou-navet à chair jaune",
         "marker": {
          "color": "#FF97FF",
          "symbol": "circle"
         },
         "name": "chou-navet à chair jaune",
         "showlegend": true,
         "type": "splom"
        },
        {
         "diagonal": {
          "visible": true
         },
         "dimensions": [
          {
           "axis": {
            "matches": true
           },
           "label": "count x",
           "values": [
            5
           ]
          },
          {
           "axis": {
            "matches": true
           },
           "label": "count y",
           "values": [
            1
           ]
          }
         ],
         "hovertemplate": "prefLabel=phacélie<br>%{xaxis.title.text}=%{x}<br>%{yaxis.title.text}=%{y}<extra></extra>",
         "legendgroup": "phacélie",
         "marker": {
          "color": "#FECB52",
          "symbol": "circle"
         },
         "name": "phacélie",
         "showlegend": true,
         "type": "splom"
        },
        {
         "diagonal": {
          "visible": true
         },
         "dimensions": [
          {
           "axis": {
            "matches": true
           },
           "label": "count x",
           "values": [
            5
           ]
          },
          {
           "axis": {
            "matches": true
           },
           "label": "count y",
           "values": [
            2
           ]
          }
         ],
         "hovertemplate": "prefLabel=fenouil<br>%{xaxis.title.text}=%{x}<br>%{yaxis.title.text}=%{y}<extra></extra>",
         "legendgroup": "fenouil",
         "marker": {
          "color": "#636efa",
          "symbol": "circle"
         },
         "name": "fenouil",
         "showlegend": true,
         "type": "splom"
        },
        {
         "diagonal": {
          "visible": true
         },
         "dimensions": [
          {
           "axis": {
            "matches": true
           },
           "label": "count x",
           "values": [
            4
           ]
          },
          {
           "axis": {
            "matches": true
           },
           "label": "count y",
           "values": [
            3
           ]
          }
         ],
         "hovertemplate": "prefLabel=maïs fourrage<br>%{xaxis.title.text}=%{x}<br>%{yaxis.title.text}=%{y}<extra></extra>",
         "legendgroup": "maïs fourrage",
         "marker": {
          "color": "#EF553B",
          "symbol": "circle"
         },
         "name": "maïs fourrage",
         "showlegend": true,
         "type": "splom"
        },
        {
         "diagonal": {
          "visible": true
         },
         "dimensions": [
          {
           "axis": {
            "matches": true
           },
           "label": "count x",
           "values": [
            4
           ]
          },
          {
           "axis": {
            "matches": true
           },
           "label": "count y",
           "values": [
            8
           ]
          }
         ],
         "hovertemplate": "prefLabel=céréale fourragère<br>%{xaxis.title.text}=%{x}<br>%{yaxis.title.text}=%{y}<extra></extra>",
         "legendgroup": "céréale fourragère",
         "marker": {
          "color": "#00cc96",
          "symbol": "circle"
         },
         "name": "céréale fourragère",
         "showlegend": true,
         "type": "splom"
        },
        {
         "diagonal": {
          "visible": true
         },
         "dimensions": [
          {
           "axis": {
            "matches": true
           },
           "label": "count x",
           "values": [
            4
           ]
          },
          {
           "axis": {
            "matches": true
           },
           "label": "count y",
           "values": [
            4
           ]
          }
         ],
         "hovertemplate": "prefLabel=pissenlit<br>%{xaxis.title.text}=%{x}<br>%{yaxis.title.text}=%{y}<extra></extra>",
         "legendgroup": "pissenlit",
         "marker": {
          "color": "#ab63fa",
          "symbol": "circle"
         },
         "name": "pissenlit",
         "showlegend": true,
         "type": "splom"
        },
        {
         "diagonal": {
          "visible": true
         },
         "dimensions": [
          {
           "axis": {
            "matches": true
           },
           "label": "count x",
           "values": [
            4
           ]
          },
          {
           "axis": {
            "matches": true
           },
           "label": "count y",
           "values": [
            8
           ]
          }
         ],
         "hovertemplate": "prefLabel=culture fourragère<br>%{xaxis.title.text}=%{x}<br>%{yaxis.title.text}=%{y}<extra></extra>",
         "legendgroup": "culture fourragère",
         "marker": {
          "color": "#FFA15A",
          "symbol": "circle"
         },
         "name": "culture fourragère",
         "showlegend": true,
         "type": "splom"
        },
        {
         "diagonal": {
          "visible": true
         },
         "dimensions": [
          {
           "axis": {
            "matches": true
           },
           "label": "count x",
           "values": [
            4
           ]
          },
          {
           "axis": {
            "matches": true
           },
           "label": "count y",
           "values": [
            14
           ]
          }
         ],
         "hovertemplate": "prefLabel=seigle<br>%{xaxis.title.text}=%{x}<br>%{yaxis.title.text}=%{y}<extra></extra>",
         "legendgroup": "seigle",
         "marker": {
          "color": "#19d3f3",
          "symbol": "circle"
         },
         "name": "seigle",
         "showlegend": true,
         "type": "splom"
        },
        {
         "diagonal": {
          "visible": true
         },
         "dimensions": [
          {
           "axis": {
            "matches": true
           },
           "label": "count x",
           "values": [
            4
           ]
          },
          {
           "axis": {
            "matches": true
           },
           "label": "count y",
           "values": [
            2
           ]
          }
         ],
         "hovertemplate": "prefLabel=surface toujours en herbe<br>%{xaxis.title.text}=%{x}<br>%{yaxis.title.text}=%{y}<extra></extra>",
         "legendgroup": "surface toujours en herbe",
         "marker": {
          "color": "#FF6692",
          "symbol": "circle"
         },
         "name": "surface toujours en herbe",
         "showlegend": true,
         "type": "splom"
        },
        {
         "diagonal": {
          "visible": true
         },
         "dimensions": [
          {
           "axis": {
            "matches": true
           },
           "label": "count x",
           "values": [
            3
           ]
          },
          {
           "axis": {
            "matches": true
           },
           "label": "count y",
           "values": [
            2
           ]
          }
         ],
         "hovertemplate": "prefLabel=engrais vert<br>%{xaxis.title.text}=%{x}<br>%{yaxis.title.text}=%{y}<extra></extra>",
         "legendgroup": "engrais vert",
         "marker": {
          "color": "#B6E880",
          "symbol": "circle"
         },
         "name": "engrais vert",
         "showlegend": true,
         "type": "splom"
        },
        {
         "diagonal": {
          "visible": true
         },
         "dimensions": [
          {
           "axis": {
            "matches": true
           },
           "label": "count x",
           "values": [
            3
           ]
          },
          {
           "axis": {
            "matches": true
           },
           "label": "count y",
           "values": [
            2
           ]
          }
         ],
         "hovertemplate": "prefLabel=trèfle<br>%{xaxis.title.text}=%{x}<br>%{yaxis.title.text}=%{y}<extra></extra>",
         "legendgroup": "trèfle",
         "marker": {
          "color": "#FF97FF",
          "symbol": "circle"
         },
         "name": "trèfle",
         "showlegend": true,
         "type": "splom"
        },
        {
         "diagonal": {
          "visible": true
         },
         "dimensions": [
          {
           "axis": {
            "matches": true
           },
           "label": "count x",
           "values": [
            3
           ]
          },
          {
           "axis": {
            "matches": true
           },
           "label": "count y",
           "values": [
            7
           ]
          }
         ],
         "hovertemplate": "prefLabel=chou de Bruxelles<br>%{xaxis.title.text}=%{x}<br>%{yaxis.title.text}=%{y}<extra></extra>",
         "legendgroup": "chou de Bruxelles",
         "marker": {
          "color": "#FECB52",
          "symbol": "circle"
         },
         "name": "chou de Bruxelles",
         "showlegend": true,
         "type": "splom"
        },
        {
         "diagonal": {
          "visible": true
         },
         "dimensions": [
          {
           "axis": {
            "matches": true
           },
           "label": "count x",
           "values": [
            3
           ]
          },
          {
           "axis": {
            "matches": true
           },
           "label": "count y",
           "values": [
            10
           ]
          }
         ],
         "hovertemplate": "prefLabel=groseillier<br>%{xaxis.title.text}=%{x}<br>%{yaxis.title.text}=%{y}<extra></extra>",
         "legendgroup": "groseillier",
         "marker": {
          "color": "#636efa",
          "symbol": "circle"
         },
         "name": "groseillier",
         "showlegend": true,
         "type": "splom"
        },
        {
         "diagonal": {
          "visible": true
         },
         "dimensions": [
          {
           "axis": {
            "matches": true
           },
           "label": "count x",
           "values": [
            3
           ]
          },
          {
           "axis": {
            "matches": true
           },
           "label": "count y",
           "values": [
            6
           ]
          }
         ],
         "hovertemplate": "prefLabel=myrtille<br>%{xaxis.title.text}=%{x}<br>%{yaxis.title.text}=%{y}<extra></extra>",
         "legendgroup": "myrtille",
         "marker": {
          "color": "#EF553B",
          "symbol": "circle"
         },
         "name": "myrtille",
         "showlegend": true,
         "type": "splom"
        },
        {
         "diagonal": {
          "visible": true
         },
         "dimensions": [
          {
           "axis": {
            "matches": true
           },
           "label": "count x",
           "values": [
            3
           ]
          },
          {
           "axis": {
            "matches": true
           },
           "label": "count y",
           "values": [
            1
           ]
          }
         ],
         "hovertemplate": "prefLabel=chanvre<br>%{xaxis.title.text}=%{x}<br>%{yaxis.title.text}=%{y}<extra></extra>",
         "legendgroup": "chanvre",
         "marker": {
          "color": "#00cc96",
          "symbol": "circle"
         },
         "name": "chanvre",
         "showlegend": true,
         "type": "splom"
        },
        {
         "diagonal": {
          "visible": true
         },
         "dimensions": [
          {
           "axis": {
            "matches": true
           },
           "label": "count x",
           "values": [
            3
           ]
          },
          {
           "axis": {
            "matches": true
           },
           "label": "count y",
           "values": [
            2
           ]
          }
         ],
         "hovertemplate": "prefLabel=colza d'hiver<br>%{xaxis.title.text}=%{x}<br>%{yaxis.title.text}=%{y}<extra></extra>",
         "legendgroup": "colza d'hiver",
         "marker": {
          "color": "#ab63fa",
          "symbol": "circle"
         },
         "name": "colza d'hiver",
         "showlegend": true,
         "type": "splom"
        },
        {
         "diagonal": {
          "visible": true
         },
         "dimensions": [
          {
           "axis": {
            "matches": true
           },
           "label": "count x",
           "values": [
            3
           ]
          },
          {
           "axis": {
            "matches": true
           },
           "label": "count y",
           "values": [
            3
           ]
          }
         ],
         "hovertemplate": "prefLabel=culture industrielle<br>%{xaxis.title.text}=%{x}<br>%{yaxis.title.text}=%{y}<extra></extra>",
         "legendgroup": "culture industrielle",
         "marker": {
          "color": "#FFA15A",
          "symbol": "circle"
         },
         "name": "culture industrielle",
         "showlegend": true,
         "type": "splom"
        },
        {
         "diagonal": {
          "visible": true
         },
         "dimensions": [
          {
           "axis": {
            "matches": true
           },
           "label": "count x",
           "values": [
            2
           ]
          },
          {
           "axis": {
            "matches": true
           },
           "label": "count y",
           "values": [
            1
           ]
          }
         ],
         "hovertemplate": "prefLabel=blé dur d'hiver<br>%{xaxis.title.text}=%{x}<br>%{yaxis.title.text}=%{y}<extra></extra>",
         "legendgroup": "blé dur d'hiver",
         "marker": {
          "color": "#19d3f3",
          "symbol": "circle"
         },
         "name": "blé dur d'hiver",
         "showlegend": true,
         "type": "splom"
        },
        {
         "diagonal": {
          "visible": true
         },
         "dimensions": [
          {
           "axis": {
            "matches": true
           },
           "label": "count x",
           "values": [
            2
           ]
          },
          {
           "axis": {
            "matches": true
           },
           "label": "count y",
           "values": [
            5
           ]
          }
         ],
         "hovertemplate": "prefLabel=céleri à cotes<br>%{xaxis.title.text}=%{x}<br>%{yaxis.title.text}=%{y}<extra></extra>",
         "legendgroup": "céleri à cotes",
         "marker": {
          "color": "#FF6692",
          "symbol": "circle"
         },
         "name": "céleri à cotes",
         "showlegend": true,
         "type": "splom"
        },
        {
         "diagonal": {
          "visible": true
         },
         "dimensions": [
          {
           "axis": {
            "matches": true
           },
           "label": "count x",
           "values": [
            2
           ]
          },
          {
           "axis": {
            "matches": true
           },
           "label": "count y",
           "values": [
            1
           ]
          }
         ],
         "hovertemplate": "prefLabel=chou frisé<br>%{xaxis.title.text}=%{x}<br>%{yaxis.title.text}=%{y}<extra></extra>",
         "legendgroup": "chou frisé",
         "marker": {
          "color": "#B6E880",
          "symbol": "circle"
         },
         "name": "chou frisé",
         "showlegend": true,
         "type": "splom"
        },
        {
         "diagonal": {
          "visible": true
         },
         "dimensions": [
          {
           "axis": {
            "matches": true
           },
           "label": "count x",
           "values": [
            1
           ]
          },
          {
           "axis": {
            "matches": true
           },
           "label": "count y",
           "values": [
            4
           ]
          }
         ],
         "hovertemplate": "prefLabel=laitue beurre pommée<br>%{xaxis.title.text}=%{x}<br>%{yaxis.title.text}=%{y}<extra></extra>",
         "legendgroup": "laitue beurre pommée",
         "marker": {
          "color": "#FF97FF",
          "symbol": "circle"
         },
         "name": "laitue beurre pommée",
         "showlegend": true,
         "type": "splom"
        },
        {
         "diagonal": {
          "visible": true
         },
         "dimensions": [
          {
           "axis": {
            "matches": true
           },
           "label": "count x",
           "values": [
            1
           ]
          },
          {
           "axis": {
            "matches": true
           },
           "label": "count y",
           "values": [
            1
           ]
          }
         ],
         "hovertemplate": "prefLabel=betterave sucrière<br>%{xaxis.title.text}=%{x}<br>%{yaxis.title.text}=%{y}<extra></extra>",
         "legendgroup": "betterave sucrière",
         "marker": {
          "color": "#FECB52",
          "symbol": "circle"
         },
         "name": "betterave sucrière",
         "showlegend": true,
         "type": "splom"
        },
        {
         "diagonal": {
          "visible": true
         },
         "dimensions": [
          {
           "axis": {
            "matches": true
           },
           "label": "count x",
           "values": [
            1
           ]
          },
          {
           "axis": {
            "matches": true
           },
           "label": "count y",
           "values": [
            12
           ]
          }
         ],
         "hovertemplate": "prefLabel=clémentinier<br>%{xaxis.title.text}=%{x}<br>%{yaxis.title.text}=%{y}<extra></extra>",
         "legendgroup": "clémentinier",
         "marker": {
          "color": "#636efa",
          "symbol": "circle"
         },
         "name": "clémentinier",
         "showlegend": true,
         "type": "splom"
        },
        {
         "diagonal": {
          "visible": true
         },
         "dimensions": [
          {
           "axis": {
            "matches": true
           },
           "label": "count x",
           "values": [
            1
           ]
          },
          {
           "axis": {
            "matches": true
           },
           "label": "count y",
           "values": [
            2
           ]
          }
         ],
         "hovertemplate": "prefLabel=cognassier<br>%{xaxis.title.text}=%{x}<br>%{yaxis.title.text}=%{y}<extra></extra>",
         "legendgroup": "cognassier",
         "marker": {
          "color": "#EF553B",
          "symbol": "circle"
         },
         "name": "cognassier",
         "showlegend": true,
         "type": "splom"
        },
        {
         "diagonal": {
          "visible": true
         },
         "dimensions": [
          {
           "axis": {
            "matches": true
           },
           "label": "count x",
           "values": [
            1
           ]
          },
          {
           "axis": {
            "matches": true
           },
           "label": "count y",
           "values": [
            5
           ]
          }
         ],
         "hovertemplate": "prefLabel=millet<br>%{xaxis.title.text}=%{x}<br>%{yaxis.title.text}=%{y}<extra></extra>",
         "legendgroup": "millet",
         "marker": {
          "color": "#00cc96",
          "symbol": "circle"
         },
         "name": "millet",
         "showlegend": true,
         "type": "splom"
        },
        {
         "diagonal": {
          "visible": true
         },
         "dimensions": [
          {
           "axis": {
            "matches": true
           },
           "label": "count x",
           "values": [
            1
           ]
          },
          {
           "axis": {
            "matches": true
           },
           "label": "count y",
           "values": [
            1
           ]
          }
         ],
         "hovertemplate": "prefLabel=échalion<br>%{xaxis.title.text}=%{x}<br>%{yaxis.title.text}=%{y}<extra></extra>",
         "legendgroup": "échalion",
         "marker": {
          "color": "#ab63fa",
          "symbol": "circle"
         },
         "name": "échalion",
         "showlegend": true,
         "type": "splom"
        },
        {
         "diagonal": {
          "visible": true
         },
         "dimensions": [
          {
           "axis": {
            "matches": true
           },
           "label": "count x",
           "values": [
            1
           ]
          },
          {
           "axis": {
            "matches": true
           },
           "label": "count y",
           "values": [
            1
           ]
          }
         ],
         "hovertemplate": "prefLabel=colza de printemps<br>%{xaxis.title.text}=%{x}<br>%{yaxis.title.text}=%{y}<extra></extra>",
         "legendgroup": "colza de printemps",
         "marker": {
          "color": "#FFA15A",
          "symbol": "circle"
         },
         "name": "colza de printemps",
         "showlegend": true,
         "type": "splom"
        }
       ],
       "layout": {
        "dragmode": "select",
        "legend": {
         "title": {
          "text": "prefLabel"
         },
         "tracegroupgap": 0
        },
        "template": {
         "data": {
          "bar": [
           {
            "error_x": {
             "color": "#2a3f5f"
            },
            "error_y": {
             "color": "#2a3f5f"
            },
            "marker": {
             "line": {
              "color": "#E5ECF6",
              "width": 0.5
             }
            },
            "type": "bar"
           }
          ],
          "barpolar": [
           {
            "marker": {
             "line": {
              "color": "#E5ECF6",
              "width": 0.5
             }
            },
            "type": "barpolar"
           }
          ],
          "carpet": [
           {
            "aaxis": {
             "endlinecolor": "#2a3f5f",
             "gridcolor": "white",
             "linecolor": "white",
             "minorgridcolor": "white",
             "startlinecolor": "#2a3f5f"
            },
            "baxis": {
             "endlinecolor": "#2a3f5f",
             "gridcolor": "white",
             "linecolor": "white",
             "minorgridcolor": "white",
             "startlinecolor": "#2a3f5f"
            },
            "type": "carpet"
           }
          ],
          "choropleth": [
           {
            "colorbar": {
             "outlinewidth": 0,
             "ticks": ""
            },
            "type": "choropleth"
           }
          ],
          "contour": [
           {
            "colorbar": {
             "outlinewidth": 0,
             "ticks": ""
            },
            "colorscale": [
             [
              0,
              "#0d0887"
             ],
             [
              0.1111111111111111,
              "#46039f"
             ],
             [
              0.2222222222222222,
              "#7201a8"
             ],
             [
              0.3333333333333333,
              "#9c179e"
             ],
             [
              0.4444444444444444,
              "#bd3786"
             ],
             [
              0.5555555555555556,
              "#d8576b"
             ],
             [
              0.6666666666666666,
              "#ed7953"
             ],
             [
              0.7777777777777778,
              "#fb9f3a"
             ],
             [
              0.8888888888888888,
              "#fdca26"
             ],
             [
              1,
              "#f0f921"
             ]
            ],
            "type": "contour"
           }
          ],
          "contourcarpet": [
           {
            "colorbar": {
             "outlinewidth": 0,
             "ticks": ""
            },
            "type": "contourcarpet"
           }
          ],
          "heatmap": [
           {
            "colorbar": {
             "outlinewidth": 0,
             "ticks": ""
            },
            "colorscale": [
             [
              0,
              "#0d0887"
             ],
             [
              0.1111111111111111,
              "#46039f"
             ],
             [
              0.2222222222222222,
              "#7201a8"
             ],
             [
              0.3333333333333333,
              "#9c179e"
             ],
             [
              0.4444444444444444,
              "#bd3786"
             ],
             [
              0.5555555555555556,
              "#d8576b"
             ],
             [
              0.6666666666666666,
              "#ed7953"
             ],
             [
              0.7777777777777778,
              "#fb9f3a"
             ],
             [
              0.8888888888888888,
              "#fdca26"
             ],
             [
              1,
              "#f0f921"
             ]
            ],
            "type": "heatmap"
           }
          ],
          "heatmapgl": [
           {
            "colorbar": {
             "outlinewidth": 0,
             "ticks": ""
            },
            "colorscale": [
             [
              0,
              "#0d0887"
             ],
             [
              0.1111111111111111,
              "#46039f"
             ],
             [
              0.2222222222222222,
              "#7201a8"
             ],
             [
              0.3333333333333333,
              "#9c179e"
             ],
             [
              0.4444444444444444,
              "#bd3786"
             ],
             [
              0.5555555555555556,
              "#d8576b"
             ],
             [
              0.6666666666666666,
              "#ed7953"
             ],
             [
              0.7777777777777778,
              "#fb9f3a"
             ],
             [
              0.8888888888888888,
              "#fdca26"
             ],
             [
              1,
              "#f0f921"
             ]
            ],
            "type": "heatmapgl"
           }
          ],
          "histogram": [
           {
            "marker": {
             "colorbar": {
              "outlinewidth": 0,
              "ticks": ""
             }
            },
            "type": "histogram"
           }
          ],
          "histogram2d": [
           {
            "colorbar": {
             "outlinewidth": 0,
             "ticks": ""
            },
            "colorscale": [
             [
              0,
              "#0d0887"
             ],
             [
              0.1111111111111111,
              "#46039f"
             ],
             [
              0.2222222222222222,
              "#7201a8"
             ],
             [
              0.3333333333333333,
              "#9c179e"
             ],
             [
              0.4444444444444444,
              "#bd3786"
             ],
             [
              0.5555555555555556,
              "#d8576b"
             ],
             [
              0.6666666666666666,
              "#ed7953"
             ],
             [
              0.7777777777777778,
              "#fb9f3a"
             ],
             [
              0.8888888888888888,
              "#fdca26"
             ],
             [
              1,
              "#f0f921"
             ]
            ],
            "type": "histogram2d"
           }
          ],
          "histogram2dcontour": [
           {
            "colorbar": {
             "outlinewidth": 0,
             "ticks": ""
            },
            "colorscale": [
             [
              0,
              "#0d0887"
             ],
             [
              0.1111111111111111,
              "#46039f"
             ],
             [
              0.2222222222222222,
              "#7201a8"
             ],
             [
              0.3333333333333333,
              "#9c179e"
             ],
             [
              0.4444444444444444,
              "#bd3786"
             ],
             [
              0.5555555555555556,
              "#d8576b"
             ],
             [
              0.6666666666666666,
              "#ed7953"
             ],
             [
              0.7777777777777778,
              "#fb9f3a"
             ],
             [
              0.8888888888888888,
              "#fdca26"
             ],
             [
              1,
              "#f0f921"
             ]
            ],
            "type": "histogram2dcontour"
           }
          ],
          "mesh3d": [
           {
            "colorbar": {
             "outlinewidth": 0,
             "ticks": ""
            },
            "type": "mesh3d"
           }
          ],
          "parcoords": [
           {
            "line": {
             "colorbar": {
              "outlinewidth": 0,
              "ticks": ""
             }
            },
            "type": "parcoords"
           }
          ],
          "pie": [
           {
            "automargin": true,
            "type": "pie"
           }
          ],
          "scatter": [
           {
            "marker": {
             "colorbar": {
              "outlinewidth": 0,
              "ticks": ""
             }
            },
            "type": "scatter"
           }
          ],
          "scatter3d": [
           {
            "line": {
             "colorbar": {
              "outlinewidth": 0,
              "ticks": ""
             }
            },
            "marker": {
             "colorbar": {
              "outlinewidth": 0,
              "ticks": ""
             }
            },
            "type": "scatter3d"
           }
          ],
          "scattercarpet": [
           {
            "marker": {
             "colorbar": {
              "outlinewidth": 0,
              "ticks": ""
             }
            },
            "type": "scattercarpet"
           }
          ],
          "scattergeo": [
           {
            "marker": {
             "colorbar": {
              "outlinewidth": 0,
              "ticks": ""
             }
            },
            "type": "scattergeo"
           }
          ],
          "scattergl": [
           {
            "marker": {
             "colorbar": {
              "outlinewidth": 0,
              "ticks": ""
             }
            },
            "type": "scattergl"
           }
          ],
          "scattermapbox": [
           {
            "marker": {
             "colorbar": {
              "outlinewidth": 0,
              "ticks": ""
             }
            },
            "type": "scattermapbox"
           }
          ],
          "scatterpolar": [
           {
            "marker": {
             "colorbar": {
              "outlinewidth": 0,
              "ticks": ""
             }
            },
            "type": "scatterpolar"
           }
          ],
          "scatterpolargl": [
           {
            "marker": {
             "colorbar": {
              "outlinewidth": 0,
              "ticks": ""
             }
            },
            "type": "scatterpolargl"
           }
          ],
          "scatterternary": [
           {
            "marker": {
             "colorbar": {
              "outlinewidth": 0,
              "ticks": ""
             }
            },
            "type": "scatterternary"
           }
          ],
          "surface": [
           {
            "colorbar": {
             "outlinewidth": 0,
             "ticks": ""
            },
            "colorscale": [
             [
              0,
              "#0d0887"
             ],
             [
              0.1111111111111111,
              "#46039f"
             ],
             [
              0.2222222222222222,
              "#7201a8"
             ],
             [
              0.3333333333333333,
              "#9c179e"
             ],
             [
              0.4444444444444444,
              "#bd3786"
             ],
             [
              0.5555555555555556,
              "#d8576b"
             ],
             [
              0.6666666666666666,
              "#ed7953"
             ],
             [
              0.7777777777777778,
              "#fb9f3a"
             ],
             [
              0.8888888888888888,
              "#fdca26"
             ],
             [
              1,
              "#f0f921"
             ]
            ],
            "type": "surface"
           }
          ],
          "table": [
           {
            "cells": {
             "fill": {
              "color": "#EBF0F8"
             },
             "line": {
              "color": "white"
             }
            },
            "header": {
             "fill": {
              "color": "#C8D4E3"
             },
             "line": {
              "color": "white"
             }
            },
            "type": "table"
           }
          ]
         },
         "layout": {
          "annotationdefaults": {
           "arrowcolor": "#2a3f5f",
           "arrowhead": 0,
           "arrowwidth": 1
          },
          "autotypenumbers": "strict",
          "coloraxis": {
           "colorbar": {
            "outlinewidth": 0,
            "ticks": ""
           }
          },
          "colorscale": {
           "diverging": [
            [
             0,
             "#8e0152"
            ],
            [
             0.1,
             "#c51b7d"
            ],
            [
             0.2,
             "#de77ae"
            ],
            [
             0.3,
             "#f1b6da"
            ],
            [
             0.4,
             "#fde0ef"
            ],
            [
             0.5,
             "#f7f7f7"
            ],
            [
             0.6,
             "#e6f5d0"
            ],
            [
             0.7,
             "#b8e186"
            ],
            [
             0.8,
             "#7fbc41"
            ],
            [
             0.9,
             "#4d9221"
            ],
            [
             1,
             "#276419"
            ]
           ],
           "sequential": [
            [
             0,
             "#0d0887"
            ],
            [
             0.1111111111111111,
             "#46039f"
            ],
            [
             0.2222222222222222,
             "#7201a8"
            ],
            [
             0.3333333333333333,
             "#9c179e"
            ],
            [
             0.4444444444444444,
             "#bd3786"
            ],
            [
             0.5555555555555556,
             "#d8576b"
            ],
            [
             0.6666666666666666,
             "#ed7953"
            ],
            [
             0.7777777777777778,
             "#fb9f3a"
            ],
            [
             0.8888888888888888,
             "#fdca26"
            ],
            [
             1,
             "#f0f921"
            ]
           ],
           "sequentialminus": [
            [
             0,
             "#0d0887"
            ],
            [
             0.1111111111111111,
             "#46039f"
            ],
            [
             0.2222222222222222,
             "#7201a8"
            ],
            [
             0.3333333333333333,
             "#9c179e"
            ],
            [
             0.4444444444444444,
             "#bd3786"
            ],
            [
             0.5555555555555556,
             "#d8576b"
            ],
            [
             0.6666666666666666,
             "#ed7953"
            ],
            [
             0.7777777777777778,
             "#fb9f3a"
            ],
            [
             0.8888888888888888,
             "#fdca26"
            ],
            [
             1,
             "#f0f921"
            ]
           ]
          },
          "colorway": [
           "#636efa",
           "#EF553B",
           "#00cc96",
           "#ab63fa",
           "#FFA15A",
           "#19d3f3",
           "#FF6692",
           "#B6E880",
           "#FF97FF",
           "#FECB52"
          ],
          "font": {
           "color": "#2a3f5f"
          },
          "geo": {
           "bgcolor": "white",
           "lakecolor": "white",
           "landcolor": "#E5ECF6",
           "showlakes": true,
           "showland": true,
           "subunitcolor": "white"
          },
          "hoverlabel": {
           "align": "left"
          },
          "hovermode": "closest",
          "mapbox": {
           "style": "light"
          },
          "paper_bgcolor": "white",
          "plot_bgcolor": "#E5ECF6",
          "polar": {
           "angularaxis": {
            "gridcolor": "white",
            "linecolor": "white",
            "ticks": ""
           },
           "bgcolor": "#E5ECF6",
           "radialaxis": {
            "gridcolor": "white",
            "linecolor": "white",
            "ticks": ""
           }
          },
          "scene": {
           "xaxis": {
            "backgroundcolor": "#E5ECF6",
            "gridcolor": "white",
            "gridwidth": 2,
            "linecolor": "white",
            "showbackground": true,
            "ticks": "",
            "zerolinecolor": "white"
           },
           "yaxis": {
            "backgroundcolor": "#E5ECF6",
            "gridcolor": "white",
            "gridwidth": 2,
            "linecolor": "white",
            "showbackground": true,
            "ticks": "",
            "zerolinecolor": "white"
           },
           "zaxis": {
            "backgroundcolor": "#E5ECF6",
            "gridcolor": "white",
            "gridwidth": 2,
            "linecolor": "white",
            "showbackground": true,
            "ticks": "",
            "zerolinecolor": "white"
           }
          },
          "shapedefaults": {
           "line": {
            "color": "#2a3f5f"
           }
          },
          "ternary": {
           "aaxis": {
            "gridcolor": "white",
            "linecolor": "white",
            "ticks": ""
           },
           "baxis": {
            "gridcolor": "white",
            "linecolor": "white",
            "ticks": ""
           },
           "bgcolor": "#E5ECF6",
           "caxis": {
            "gridcolor": "white",
            "linecolor": "white",
            "ticks": ""
           }
          },
          "title": {
           "x": 0.05
          },
          "xaxis": {
           "automargin": true,
           "gridcolor": "white",
           "linecolor": "white",
           "ticks": "",
           "title": {
            "standoff": 15
           },
           "zerolinecolor": "white",
           "zerolinewidth": 2
          },
          "yaxis": {
           "automargin": true,
           "gridcolor": "white",
           "linecolor": "white",
           "ticks": "",
           "title": {
            "standoff": 15
           },
           "zerolinecolor": "white",
           "zerolinewidth": 2
          }
         }
        },
        "title": {
         "text": "Scatter matrix of term Frequency"
        }
       }
      },
      "text/html": [
       "<div>                            <div id=\"1c8d476f-c5e5-4ba0-b45f-fedceeb0455b\" class=\"plotly-graph-div\" style=\"height:525px; width:100%;\"></div>            <script type=\"text/javascript\">                require([\"plotly\"], function(Plotly) {                    window.PLOTLYENV=window.PLOTLYENV || {};                                    if (document.getElementById(\"1c8d476f-c5e5-4ba0-b45f-fedceeb0455b\")) {                    Plotly.newPlot(                        \"1c8d476f-c5e5-4ba0-b45f-fedceeb0455b\",                        [{\"diagonal\": {\"visible\": true}, \"dimensions\": [{\"axis\": {\"matches\": true}, \"label\": \"count x\", \"values\": [1278]}, {\"axis\": {\"matches\": true}, \"label\": \"count y\", \"values\": [314]}], \"hovertemplate\": \"prefLabel=vigne<br>%{xaxis.title.text}=%{x}<br>%{yaxis.title.text}=%{y}<extra></extra>\", \"legendgroup\": \"vigne\", \"marker\": {\"color\": \"#636efa\", \"symbol\": \"circle\"}, \"name\": \"vigne\", \"showlegend\": true, \"type\": \"splom\"}, {\"diagonal\": {\"visible\": true}, \"dimensions\": [{\"axis\": {\"matches\": true}, \"label\": \"count x\", \"values\": [984]}, {\"axis\": {\"matches\": true}, \"label\": \"count y\", \"values\": [696]}], \"hovertemplate\": \"prefLabel=colza<br>%{xaxis.title.text}=%{x}<br>%{yaxis.title.text}=%{y}<extra></extra>\", \"legendgroup\": \"colza\", \"marker\": {\"color\": \"#EF553B\", \"symbol\": \"circle\"}, \"name\": \"colza\", \"showlegend\": true, \"type\": \"splom\"}, {\"diagonal\": {\"visible\": true}, \"dimensions\": [{\"axis\": {\"matches\": true}, \"label\": \"count x\", \"values\": [595]}, {\"axis\": {\"matches\": true}, \"label\": \"count y\", \"values\": [380]}], \"hovertemplate\": \"prefLabel=chou<br>%{xaxis.title.text}=%{x}<br>%{yaxis.title.text}=%{y}<extra></extra>\", \"legendgroup\": \"chou\", \"marker\": {\"color\": \"#00cc96\", \"symbol\": \"circle\"}, \"name\": \"chou\", \"showlegend\": true, \"type\": \"splom\"}, {\"diagonal\": {\"visible\": true}, \"dimensions\": [{\"axis\": {\"matches\": true}, \"label\": \"count x\", \"values\": [595]}, {\"axis\": {\"matches\": true}, \"label\": \"count y\", \"values\": [380]}], \"hovertemplate\": \"prefLabel=chou potager<br>%{xaxis.title.text}=%{x}<br>%{yaxis.title.text}=%{y}<extra></extra>\", \"legendgroup\": \"chou potager\", \"marker\": {\"color\": \"#ab63fa\", \"symbol\": \"circle\"}, \"name\": \"chou potager\", \"showlegend\": true, \"type\": \"splom\"}, {\"diagonal\": {\"visible\": true}, \"dimensions\": [{\"axis\": {\"matches\": true}, \"label\": \"count x\", \"values\": [591]}, {\"axis\": {\"matches\": true}, \"label\": \"count y\", \"values\": [394]}], \"hovertemplate\": \"prefLabel=bl\\u00e9<br>%{xaxis.title.text}=%{x}<br>%{yaxis.title.text}=%{y}<extra></extra>\", \"legendgroup\": \"bl\\u00e9\", \"marker\": {\"color\": \"#FFA15A\", \"symbol\": \"circle\"}, \"name\": \"bl\\u00e9\", \"showlegend\": true, \"type\": \"splom\"}, {\"diagonal\": {\"visible\": true}, \"dimensions\": [{\"axis\": {\"matches\": true}, \"label\": \"count x\", \"values\": [553]}, {\"axis\": {\"matches\": true}, \"label\": \"count y\", \"values\": [742]}], \"hovertemplate\": \"prefLabel=pommier<br>%{xaxis.title.text}=%{x}<br>%{yaxis.title.text}=%{y}<extra></extra>\", \"legendgroup\": \"pommier\", \"marker\": {\"color\": \"#19d3f3\", \"symbol\": \"circle\"}, \"name\": \"pommier\", \"showlegend\": true, \"type\": \"splom\"}, {\"diagonal\": {\"visible\": true}, \"dimensions\": [{\"axis\": {\"matches\": true}, \"label\": \"count x\", \"values\": [540]}, {\"axis\": {\"matches\": true}, \"label\": \"count y\", \"values\": [267]}], \"hovertemplate\": \"prefLabel=ma\\u00efs<br>%{xaxis.title.text}=%{x}<br>%{yaxis.title.text}=%{y}<extra></extra>\", \"legendgroup\": \"ma\\u00efs\", \"marker\": {\"color\": \"#FF6692\", \"symbol\": \"circle\"}, \"name\": \"ma\\u00efs\", \"showlegend\": true, \"type\": \"splom\"}, {\"diagonal\": {\"visible\": true}, \"dimensions\": [{\"axis\": {\"matches\": true}, \"label\": \"count x\", \"values\": [467]}, {\"axis\": {\"matches\": true}, \"label\": \"count y\", \"values\": [134]}], \"hovertemplate\": \"prefLabel=tomate<br>%{xaxis.title.text}=%{x}<br>%{yaxis.title.text}=%{y}<extra></extra>\", \"legendgroup\": \"tomate\", \"marker\": {\"color\": \"#B6E880\", \"symbol\": \"circle\"}, \"name\": \"tomate\", \"showlegend\": true, \"type\": \"splom\"}, {\"diagonal\": {\"visible\": true}, \"dimensions\": [{\"axis\": {\"matches\": true}, \"label\": \"count x\", \"values\": [409]}, {\"axis\": {\"matches\": true}, \"label\": \"count y\", \"values\": [305]}], \"hovertemplate\": \"prefLabel=carotte<br>%{xaxis.title.text}=%{x}<br>%{yaxis.title.text}=%{y}<extra></extra>\", \"legendgroup\": \"carotte\", \"marker\": {\"color\": \"#FF97FF\", \"symbol\": \"circle\"}, \"name\": \"carotte\", \"showlegend\": true, \"type\": \"splom\"}, {\"diagonal\": {\"visible\": true}, \"dimensions\": [{\"axis\": {\"matches\": true}, \"label\": \"count x\", \"values\": [401]}, {\"axis\": {\"matches\": true}, \"label\": \"count y\", \"values\": [561]}], \"hovertemplate\": \"prefLabel=arboriculture fruiti\\u00e8re<br>%{xaxis.title.text}=%{x}<br>%{yaxis.title.text}=%{y}<extra></extra>\", \"legendgroup\": \"arboriculture fruiti\\u00e8re\", \"marker\": {\"color\": \"#FECB52\", \"symbol\": \"circle\"}, \"name\": \"arboriculture fruiti\\u00e8re\", \"showlegend\": true, \"type\": \"splom\"}, {\"diagonal\": {\"visible\": true}, \"dimensions\": [{\"axis\": {\"matches\": true}, \"label\": \"count x\", \"values\": [374]}, {\"axis\": {\"matches\": true}, \"label\": \"count y\", \"values\": [236]}], \"hovertemplate\": \"prefLabel=oignon<br>%{xaxis.title.text}=%{x}<br>%{yaxis.title.text}=%{y}<extra></extra>\", \"legendgroup\": \"oignon\", \"marker\": {\"color\": \"#636efa\", \"symbol\": \"circle\"}, \"name\": \"oignon\", \"showlegend\": true, \"type\": \"splom\"}, {\"diagonal\": {\"visible\": true}, \"dimensions\": [{\"axis\": {\"matches\": true}, \"label\": \"count x\", \"values\": [371]}, {\"axis\": {\"matches\": true}, \"label\": \"count y\", \"values\": [236]}], \"hovertemplate\": \"prefLabel=culture l\\u00e9gumi\\u00e8re<br>%{xaxis.title.text}=%{x}<br>%{yaxis.title.text}=%{y}<extra></extra>\", \"legendgroup\": \"culture l\\u00e9gumi\\u00e8re\", \"marker\": {\"color\": \"#EF553B\", \"symbol\": \"circle\"}, \"name\": \"culture l\\u00e9gumi\\u00e8re\", \"showlegend\": true, \"type\": \"splom\"}, {\"diagonal\": {\"visible\": true}, \"dimensions\": [{\"axis\": {\"matches\": true}, \"label\": \"count x\", \"values\": [325]}, {\"axis\": {\"matches\": true}, \"label\": \"count y\", \"values\": [56]}], \"hovertemplate\": \"prefLabel=arbuste \\u00e0 baies<br>%{xaxis.title.text}=%{x}<br>%{yaxis.title.text}=%{y}<extra></extra>\", \"legendgroup\": \"arbuste \\u00e0 baies\", \"marker\": {\"color\": \"#00cc96\", \"symbol\": \"circle\"}, \"name\": \"arbuste \\u00e0 baies\", \"showlegend\": true, \"type\": \"splom\"}, {\"diagonal\": {\"visible\": true}, \"dimensions\": [{\"axis\": {\"matches\": true}, \"label\": \"count x\", \"values\": [322]}, {\"axis\": {\"matches\": true}, \"label\": \"count y\", \"values\": [494]}], \"hovertemplate\": \"prefLabel=pois<br>%{xaxis.title.text}=%{x}<br>%{yaxis.title.text}=%{y}<extra></extra>\", \"legendgroup\": \"pois\", \"marker\": {\"color\": \"#ab63fa\", \"symbol\": \"circle\"}, \"name\": \"pois\", \"showlegend\": true, \"type\": \"splom\"}, {\"diagonal\": {\"visible\": true}, \"dimensions\": [{\"axis\": {\"matches\": true}, \"label\": \"count x\", \"values\": [306]}, {\"axis\": {\"matches\": true}, \"label\": \"count y\", \"values\": [347]}], \"hovertemplate\": \"prefLabel=floriculture<br>%{xaxis.title.text}=%{x}<br>%{yaxis.title.text}=%{y}<extra></extra>\", \"legendgroup\": \"floriculture\", \"marker\": {\"color\": \"#FFA15A\", \"symbol\": \"circle\"}, \"name\": \"floriculture\", \"showlegend\": true, \"type\": \"splom\"}, {\"diagonal\": {\"visible\": true}, \"dimensions\": [{\"axis\": {\"matches\": true}, \"label\": \"count x\", \"values\": [304]}, {\"axis\": {\"matches\": true}, \"label\": \"count y\", \"values\": [229]}], \"hovertemplate\": \"prefLabel=poireau<br>%{xaxis.title.text}=%{x}<br>%{yaxis.title.text}=%{y}<extra></extra>\", \"legendgroup\": \"poireau\", \"marker\": {\"color\": \"#19d3f3\", \"symbol\": \"circle\"}, \"name\": \"poireau\", \"showlegend\": true, \"type\": \"splom\"}, {\"diagonal\": {\"visible\": true}, \"dimensions\": [{\"axis\": {\"matches\": true}, \"label\": \"count x\", \"values\": [304]}, {\"axis\": {\"matches\": true}, \"label\": \"count y\", \"values\": [140]}], \"hovertemplate\": \"prefLabel=c\\u00e9r\\u00e9ale \\u00e0 paille<br>%{xaxis.title.text}=%{x}<br>%{yaxis.title.text}=%{y}<extra></extra>\", \"legendgroup\": \"c\\u00e9r\\u00e9ale \\u00e0 paille\", \"marker\": {\"color\": \"#FF6692\", \"symbol\": \"circle\"}, \"name\": \"c\\u00e9r\\u00e9ale \\u00e0 paille\", \"showlegend\": true, \"type\": \"splom\"}, {\"diagonal\": {\"visible\": true}, \"dimensions\": [{\"axis\": {\"matches\": true}, \"label\": \"count x\", \"values\": [275]}, {\"axis\": {\"matches\": true}, \"label\": \"count y\", \"values\": [44]}], \"hovertemplate\": \"prefLabel=mara\\u00eechage<br>%{xaxis.title.text}=%{x}<br>%{yaxis.title.text}=%{y}<extra></extra>\", \"legendgroup\": \"mara\\u00eechage\", \"marker\": {\"color\": \"#B6E880\", \"symbol\": \"circle\"}, \"name\": \"mara\\u00eechage\", \"showlegend\": true, \"type\": \"splom\"}, {\"diagonal\": {\"visible\": true}, \"dimensions\": [{\"axis\": {\"matches\": true}, \"label\": \"count x\", \"values\": [263]}, {\"axis\": {\"matches\": true}, \"label\": \"count y\", \"values\": [354]}], \"hovertemplate\": \"prefLabel=c\\u00e9r\\u00e9ale<br>%{xaxis.title.text}=%{x}<br>%{yaxis.title.text}=%{y}<extra></extra>\", \"legendgroup\": \"c\\u00e9r\\u00e9ale\", \"marker\": {\"color\": \"#FF97FF\", \"symbol\": \"circle\"}, \"name\": \"c\\u00e9r\\u00e9ale\", \"showlegend\": true, \"type\": \"splom\"}, {\"diagonal\": {\"visible\": true}, \"dimensions\": [{\"axis\": {\"matches\": true}, \"label\": \"count x\", \"values\": [247]}, {\"axis\": {\"matches\": true}, \"label\": \"count y\", \"values\": [281]}], \"hovertemplate\": \"prefLabel=lin<br>%{xaxis.title.text}=%{x}<br>%{yaxis.title.text}=%{y}<extra></extra>\", \"legendgroup\": \"lin\", \"marker\": {\"color\": \"#FECB52\", \"symbol\": \"circle\"}, \"name\": \"lin\", \"showlegend\": true, \"type\": \"splom\"}, {\"diagonal\": {\"visible\": true}, \"dimensions\": [{\"axis\": {\"matches\": true}, \"label\": \"count x\", \"values\": [237]}, {\"axis\": {\"matches\": true}, \"label\": \"count y\", \"values\": [146]}], \"hovertemplate\": \"prefLabel=c\\u00e9leri<br>%{xaxis.title.text}=%{x}<br>%{yaxis.title.text}=%{y}<extra></extra>\", \"legendgroup\": \"c\\u00e9leri\", \"marker\": {\"color\": \"#636efa\", \"symbol\": \"circle\"}, \"name\": \"c\\u00e9leri\", \"showlegend\": true, \"type\": \"splom\"}, {\"diagonal\": {\"visible\": true}, \"dimensions\": [{\"axis\": {\"matches\": true}, \"label\": \"count x\", \"values\": [230]}, {\"axis\": {\"matches\": true}, \"label\": \"count y\", \"values\": [285]}], \"hovertemplate\": \"prefLabel=arboriculture<br>%{xaxis.title.text}=%{x}<br>%{yaxis.title.text}=%{y}<extra></extra>\", \"legendgroup\": \"arboriculture\", \"marker\": {\"color\": \"#EF553B\", \"symbol\": \"circle\"}, \"name\": \"arboriculture\", \"showlegend\": true, \"type\": \"splom\"}, {\"diagonal\": {\"visible\": true}, \"dimensions\": [{\"axis\": {\"matches\": true}, \"label\": \"count x\", \"values\": [228]}, {\"axis\": {\"matches\": true}, \"label\": \"count y\", \"values\": [205]}], \"hovertemplate\": \"prefLabel=pomme de terre<br>%{xaxis.title.text}=%{x}<br>%{yaxis.title.text}=%{y}<extra></extra>\", \"legendgroup\": \"pomme de terre\", \"marker\": {\"color\": \"#00cc96\", \"symbol\": \"circle\"}, \"name\": \"pomme de terre\", \"showlegend\": true, \"type\": \"splom\"}, {\"diagonal\": {\"visible\": true}, \"dimensions\": [{\"axis\": {\"matches\": true}, \"label\": \"count x\", \"values\": [202]}, {\"axis\": {\"matches\": true}, \"label\": \"count y\", \"values\": [339]}], \"hovertemplate\": \"prefLabel=poirier<br>%{xaxis.title.text}=%{x}<br>%{yaxis.title.text}=%{y}<extra></extra>\", \"legendgroup\": \"poirier\", \"marker\": {\"color\": \"#ab63fa\", \"symbol\": \"circle\"}, \"name\": \"poirier\", \"showlegend\": true, \"type\": \"splom\"}, {\"diagonal\": {\"visible\": true}, \"dimensions\": [{\"axis\": {\"matches\": true}, \"label\": \"count x\", \"values\": [201]}, {\"axis\": {\"matches\": true}, \"label\": \"count y\", \"values\": [145]}], \"hovertemplate\": \"prefLabel=salade<br>%{xaxis.title.text}=%{x}<br>%{yaxis.title.text}=%{y}<extra></extra>\", \"legendgroup\": \"salade\", \"marker\": {\"color\": \"#FFA15A\", \"symbol\": \"circle\"}, \"name\": \"salade\", \"showlegend\": true, \"type\": \"splom\"}, {\"diagonal\": {\"visible\": true}, \"dimensions\": [{\"axis\": {\"matches\": true}, \"label\": \"count x\", \"values\": [197]}, {\"axis\": {\"matches\": true}, \"label\": \"count y\", \"values\": [171]}], \"hovertemplate\": \"prefLabel=betterave<br>%{xaxis.title.text}=%{x}<br>%{yaxis.title.text}=%{y}<extra></extra>\", \"legendgroup\": \"betterave\", \"marker\": {\"color\": \"#19d3f3\", \"symbol\": \"circle\"}, \"name\": \"betterave\", \"showlegend\": true, \"type\": \"splom\"}, {\"diagonal\": {\"visible\": true}, \"dimensions\": [{\"axis\": {\"matches\": true}, \"label\": \"count x\", \"values\": [190]}, {\"axis\": {\"matches\": true}, \"label\": \"count y\", \"values\": [102]}], \"hovertemplate\": \"prefLabel=bl\\u00e9 tendre<br>%{xaxis.title.text}=%{x}<br>%{yaxis.title.text}=%{y}<extra></extra>\", \"legendgroup\": \"bl\\u00e9 tendre\", \"marker\": {\"color\": \"#FF6692\", \"symbol\": \"circle\"}, \"name\": \"bl\\u00e9 tendre\", \"showlegend\": true, \"type\": \"splom\"}, {\"diagonal\": {\"visible\": true}, \"dimensions\": [{\"axis\": {\"matches\": true}, \"label\": \"count x\", \"values\": [181]}, {\"axis\": {\"matches\": true}, \"label\": \"count y\", \"values\": [130]}], \"hovertemplate\": \"prefLabel=tournesol<br>%{xaxis.title.text}=%{x}<br>%{yaxis.title.text}=%{y}<extra></extra>\", \"legendgroup\": \"tournesol\", \"marker\": {\"color\": \"#B6E880\", \"symbol\": \"circle\"}, \"name\": \"tournesol\", \"showlegend\": true, \"type\": \"splom\"}, {\"diagonal\": {\"visible\": true}, \"dimensions\": [{\"axis\": {\"matches\": true}, \"label\": \"count x\", \"values\": [181]}, {\"axis\": {\"matches\": true}, \"label\": \"count y\", \"values\": [56]}], \"hovertemplate\": \"prefLabel=aubergine<br>%{xaxis.title.text}=%{x}<br>%{yaxis.title.text}=%{y}<extra></extra>\", \"legendgroup\": \"aubergine\", \"marker\": {\"color\": \"#FF97FF\", \"symbol\": \"circle\"}, \"name\": \"aubergine\", \"showlegend\": true, \"type\": \"splom\"}, {\"diagonal\": {\"visible\": true}, \"dimensions\": [{\"axis\": {\"matches\": true}, \"label\": \"count x\", \"values\": [177]}, {\"axis\": {\"matches\": true}, \"label\": \"count y\", \"values\": [122]}], \"hovertemplate\": \"prefLabel=orge<br>%{xaxis.title.text}=%{x}<br>%{yaxis.title.text}=%{y}<extra></extra>\", \"legendgroup\": \"orge\", \"marker\": {\"color\": \"#FECB52\", \"symbol\": \"circle\"}, \"name\": \"orge\", \"showlegend\": true, \"type\": \"splom\"}, {\"diagonal\": {\"visible\": true}, \"dimensions\": [{\"axis\": {\"matches\": true}, \"label\": \"count x\", \"values\": [157]}, {\"axis\": {\"matches\": true}, \"label\": \"count y\", \"values\": [102]}], \"hovertemplate\": \"prefLabel=semence<br>%{xaxis.title.text}=%{x}<br>%{yaxis.title.text}=%{y}<extra></extra>\", \"legendgroup\": \"semence\", \"marker\": {\"color\": \"#636efa\", \"symbol\": \"circle\"}, \"name\": \"semence\", \"showlegend\": true, \"type\": \"splom\"}, {\"diagonal\": {\"visible\": true}, \"dimensions\": [{\"axis\": {\"matches\": true}, \"label\": \"count x\", \"values\": [147]}, {\"axis\": {\"matches\": true}, \"label\": \"count y\", \"values\": [65]}], \"hovertemplate\": \"prefLabel=concombre<br>%{xaxis.title.text}=%{x}<br>%{yaxis.title.text}=%{y}<extra></extra>\", \"legendgroup\": \"concombre\", \"marker\": {\"color\": \"#EF553B\", \"symbol\": \"circle\"}, \"name\": \"concombre\", \"showlegend\": true, \"type\": \"splom\"}, {\"diagonal\": {\"visible\": true}, \"dimensions\": [{\"axis\": {\"matches\": true}, \"label\": \"count x\", \"values\": [139]}, {\"axis\": {\"matches\": true}, \"label\": \"count y\", \"values\": [335]}], \"hovertemplate\": \"prefLabel=zone non agricole<br>%{xaxis.title.text}=%{x}<br>%{yaxis.title.text}=%{y}<extra></extra>\", \"legendgroup\": \"zone non agricole\", \"marker\": {\"color\": \"#00cc96\", \"symbol\": \"circle\"}, \"name\": \"zone non agricole\", \"showlegend\": true, \"type\": \"splom\"}, {\"diagonal\": {\"visible\": true}, \"dimensions\": [{\"axis\": {\"matches\": true}, \"label\": \"count x\", \"values\": [126]}, {\"axis\": {\"matches\": true}, \"label\": \"count y\", \"values\": [111]}], \"hovertemplate\": \"prefLabel=fraisier<br>%{xaxis.title.text}=%{x}<br>%{yaxis.title.text}=%{y}<extra></extra>\", \"legendgroup\": \"fraisier\", \"marker\": {\"color\": \"#ab63fa\", \"symbol\": \"circle\"}, \"name\": \"fraisier\", \"showlegend\": true, \"type\": \"splom\"}, {\"diagonal\": {\"visible\": true}, \"dimensions\": [{\"axis\": {\"matches\": true}, \"label\": \"count x\", \"values\": [115]}, {\"axis\": {\"matches\": true}, \"label\": \"count y\", \"values\": [146]}], \"hovertemplate\": \"prefLabel=ol\\u00e9agineux<br>%{xaxis.title.text}=%{x}<br>%{yaxis.title.text}=%{y}<extra></extra>\", \"legendgroup\": \"ol\\u00e9agineux\", \"marker\": {\"color\": \"#FFA15A\", \"symbol\": \"circle\"}, \"name\": \"ol\\u00e9agineux\", \"showlegend\": true, \"type\": \"splom\"}, {\"diagonal\": {\"visible\": true}, \"dimensions\": [{\"axis\": {\"matches\": true}, \"label\": \"count x\", \"values\": [114]}, {\"axis\": {\"matches\": true}, \"label\": \"count y\", \"values\": [58]}], \"hovertemplate\": \"prefLabel=courgette<br>%{xaxis.title.text}=%{x}<br>%{yaxis.title.text}=%{y}<extra></extra>\", \"legendgroup\": \"courgette\", \"marker\": {\"color\": \"#19d3f3\", \"symbol\": \"circle\"}, \"name\": \"courgette\", \"showlegend\": true, \"type\": \"splom\"}, {\"diagonal\": {\"visible\": true}, \"dimensions\": [{\"axis\": {\"matches\": true}, \"label\": \"count x\", \"values\": [112]}, {\"axis\": {\"matches\": true}, \"label\": \"count y\", \"values\": [116]}], \"hovertemplate\": \"prefLabel=p\\u00eacher<br>%{xaxis.title.text}=%{x}<br>%{yaxis.title.text}=%{y}<extra></extra>\", \"legendgroup\": \"p\\u00eacher\", \"marker\": {\"color\": \"#FF6692\", \"symbol\": \"circle\"}, \"name\": \"p\\u00eacher\", \"showlegend\": true, \"type\": \"splom\"}, {\"diagonal\": {\"visible\": true}, \"dimensions\": [{\"axis\": {\"matches\": true}, \"label\": \"count x\", \"values\": [109]}, {\"axis\": {\"matches\": true}, \"label\": \"count y\", \"values\": [110]}], \"hovertemplate\": \"prefLabel=cerisier<br>%{xaxis.title.text}=%{x}<br>%{yaxis.title.text}=%{y}<extra></extra>\", \"legendgroup\": \"cerisier\", \"marker\": {\"color\": \"#B6E880\", \"symbol\": \"circle\"}, \"name\": \"cerisier\", \"showlegend\": true, \"type\": \"splom\"}, {\"diagonal\": {\"visible\": true}, \"dimensions\": [{\"axis\": {\"matches\": true}, \"label\": \"count x\", \"values\": [109]}, {\"axis\": {\"matches\": true}, \"label\": \"count y\", \"values\": [99]}], \"hovertemplate\": \"prefLabel=culture fruiti\\u00e8re<br>%{xaxis.title.text}=%{x}<br>%{yaxis.title.text}=%{y}<extra></extra>\", \"legendgroup\": \"culture fruiti\\u00e8re\", \"marker\": {\"color\": \"#FF97FF\", \"symbol\": \"circle\"}, \"name\": \"culture fruiti\\u00e8re\", \"showlegend\": true, \"type\": \"splom\"}, {\"diagonal\": {\"visible\": true}, \"dimensions\": [{\"axis\": {\"matches\": true}, \"label\": \"count x\", \"values\": [109]}, {\"axis\": {\"matches\": true}, \"label\": \"count y\", \"values\": [78]}], \"hovertemplate\": \"prefLabel=laitue<br>%{xaxis.title.text}=%{x}<br>%{yaxis.title.text}=%{y}<extra></extra>\", \"legendgroup\": \"laitue\", \"marker\": {\"color\": \"#FECB52\", \"symbol\": \"circle\"}, \"name\": \"laitue\", \"showlegend\": true, \"type\": \"splom\"}, {\"diagonal\": {\"visible\": true}, \"dimensions\": [{\"axis\": {\"matches\": true}, \"label\": \"count x\", \"values\": [106]}, {\"axis\": {\"matches\": true}, \"label\": \"count y\", \"values\": [40]}], \"hovertemplate\": \"prefLabel=poivron<br>%{xaxis.title.text}=%{x}<br>%{yaxis.title.text}=%{y}<extra></extra>\", \"legendgroup\": \"poivron\", \"marker\": {\"color\": \"#636efa\", \"symbol\": \"circle\"}, \"name\": \"poivron\", \"showlegend\": true, \"type\": \"splom\"}, {\"diagonal\": {\"visible\": true}, \"dimensions\": [{\"axis\": {\"matches\": true}, \"label\": \"count x\", \"values\": [98]}, {\"axis\": {\"matches\": true}, \"label\": \"count y\", \"values\": [77]}], \"hovertemplate\": \"prefLabel=melon<br>%{xaxis.title.text}=%{x}<br>%{yaxis.title.text}=%{y}<extra></extra>\", \"legendgroup\": \"melon\", \"marker\": {\"color\": \"#EF553B\", \"symbol\": \"circle\"}, \"name\": \"melon\", \"showlegend\": true, \"type\": \"splom\"}, {\"diagonal\": {\"visible\": true}, \"dimensions\": [{\"axis\": {\"matches\": true}, \"label\": \"count x\", \"values\": [96]}, {\"axis\": {\"matches\": true}, \"label\": \"count y\", \"values\": [125]}], \"hovertemplate\": \"prefLabel=lin ol\\u00e9agineux<br>%{xaxis.title.text}=%{x}<br>%{yaxis.title.text}=%{y}<extra></extra>\", \"legendgroup\": \"lin ol\\u00e9agineux\", \"marker\": {\"color\": \"#00cc96\", \"symbol\": \"circle\"}, \"name\": \"lin ol\\u00e9agineux\", \"showlegend\": true, \"type\": \"splom\"}, {\"diagonal\": {\"visible\": true}, \"dimensions\": [{\"axis\": {\"matches\": true}, \"label\": \"count x\", \"values\": [96]}, {\"axis\": {\"matches\": true}, \"label\": \"count y\", \"values\": [143]}], \"hovertemplate\": \"prefLabel=prunier<br>%{xaxis.title.text}=%{x}<br>%{yaxis.title.text}=%{y}<extra></extra>\", \"legendgroup\": \"prunier\", \"marker\": {\"color\": \"#ab63fa\", \"symbol\": \"circle\"}, \"name\": \"prunier\", \"showlegend\": true, \"type\": \"splom\"}, {\"diagonal\": {\"visible\": true}, \"dimensions\": [{\"axis\": {\"matches\": true}, \"label\": \"count x\", \"values\": [91]}, {\"axis\": {\"matches\": true}, \"label\": \"count y\", \"values\": [81]}], \"hovertemplate\": \"prefLabel=poir\\u00e9e<br>%{xaxis.title.text}=%{x}<br>%{yaxis.title.text}=%{y}<extra></extra>\", \"legendgroup\": \"poir\\u00e9e\", \"marker\": {\"color\": \"#FFA15A\", \"symbol\": \"circle\"}, \"name\": \"poir\\u00e9e\", \"showlegend\": true, \"type\": \"splom\"}, {\"diagonal\": {\"visible\": true}, \"dimensions\": [{\"axis\": {\"matches\": true}, \"label\": \"count x\", \"values\": [77]}, {\"axis\": {\"matches\": true}, \"label\": \"count y\", \"values\": [49]}], \"hovertemplate\": \"prefLabel=bl\\u00e9 dur<br>%{xaxis.title.text}=%{x}<br>%{yaxis.title.text}=%{y}<extra></extra>\", \"legendgroup\": \"bl\\u00e9 dur\", \"marker\": {\"color\": \"#19d3f3\", \"symbol\": \"circle\"}, \"name\": \"bl\\u00e9 dur\", \"showlegend\": true, \"type\": \"splom\"}, {\"diagonal\": {\"visible\": true}, \"dimensions\": [{\"axis\": {\"matches\": true}, \"label\": \"count x\", \"values\": [76]}, {\"axis\": {\"matches\": true}, \"label\": \"count y\", \"values\": [65]}], \"hovertemplate\": \"prefLabel=radis<br>%{xaxis.title.text}=%{x}<br>%{yaxis.title.text}=%{y}<extra></extra>\", \"legendgroup\": \"radis\", \"marker\": {\"color\": \"#FF6692\", \"symbol\": \"circle\"}, \"name\": \"radis\", \"showlegend\": true, \"type\": \"splom\"}, {\"diagonal\": {\"visible\": true}, \"dimensions\": [{\"axis\": {\"matches\": true}, \"label\": \"count x\", \"values\": [74]}, {\"axis\": {\"matches\": true}, \"label\": \"count y\", \"values\": [41]}], \"hovertemplate\": \"prefLabel=haricot<br>%{xaxis.title.text}=%{x}<br>%{yaxis.title.text}=%{y}<extra></extra>\", \"legendgroup\": \"haricot\", \"marker\": {\"color\": \"#B6E880\", \"symbol\": \"circle\"}, \"name\": \"haricot\", \"showlegend\": true, \"type\": \"splom\"}, {\"diagonal\": {\"visible\": true}, \"dimensions\": [{\"axis\": {\"matches\": true}, \"label\": \"count x\", \"values\": [71]}, {\"axis\": {\"matches\": true}, \"label\": \"count y\", \"values\": [91]}], \"hovertemplate\": \"prefLabel=l\\u00e9gume \\u00e0 graines ou \\u00e0 gousses<br>%{xaxis.title.text}=%{x}<br>%{yaxis.title.text}=%{y}<extra></extra>\", \"legendgroup\": \"l\\u00e9gume \\u00e0 graines ou \\u00e0 gousses\", \"marker\": {\"color\": \"#FF97FF\", \"symbol\": \"circle\"}, \"name\": \"l\\u00e9gume \\u00e0 graines ou \\u00e0 gousses\", \"showlegend\": true, \"type\": \"splom\"}, {\"diagonal\": {\"visible\": true}, \"dimensions\": [{\"axis\": {\"matches\": true}, \"label\": \"count x\", \"values\": [69]}, {\"axis\": {\"matches\": true}, \"label\": \"count y\", \"values\": [54]}], \"hovertemplate\": \"prefLabel=abricotier<br>%{xaxis.title.text}=%{x}<br>%{yaxis.title.text}=%{y}<extra></extra>\", \"legendgroup\": \"abricotier\", \"marker\": {\"color\": \"#FECB52\", \"symbol\": \"circle\"}, \"name\": \"abricotier\", \"showlegend\": true, \"type\": \"splom\"}, {\"diagonal\": {\"visible\": true}, \"dimensions\": [{\"axis\": {\"matches\": true}, \"label\": \"count x\", \"values\": [65]}, {\"axis\": {\"matches\": true}, \"label\": \"count y\", \"values\": [127]}], \"hovertemplate\": \"prefLabel=jardin<br>%{xaxis.title.text}=%{x}<br>%{yaxis.title.text}=%{y}<extra></extra>\", \"legendgroup\": \"jardin\", \"marker\": {\"color\": \"#636efa\", \"symbol\": \"circle\"}, \"name\": \"jardin\", \"showlegend\": true, \"type\": \"splom\"}, {\"diagonal\": {\"visible\": true}, \"dimensions\": [{\"axis\": {\"matches\": true}, \"label\": \"count x\", \"values\": [63]}, {\"axis\": {\"matches\": true}, \"label\": \"count y\", \"values\": [96]}], \"hovertemplate\": \"prefLabel=persil<br>%{xaxis.title.text}=%{x}<br>%{yaxis.title.text}=%{y}<extra></extra>\", \"legendgroup\": \"persil\", \"marker\": {\"color\": \"#EF553B\", \"symbol\": \"circle\"}, \"name\": \"persil\", \"showlegend\": true, \"type\": \"splom\"}, {\"diagonal\": {\"visible\": true}, \"dimensions\": [{\"axis\": {\"matches\": true}, \"label\": \"count x\", \"values\": [58]}, {\"axis\": {\"matches\": true}, \"label\": \"count y\", \"values\": [13]}], \"hovertemplate\": \"prefLabel=soja<br>%{xaxis.title.text}=%{x}<br>%{yaxis.title.text}=%{y}<extra></extra>\", \"legendgroup\": \"soja\", \"marker\": {\"color\": \"#00cc96\", \"symbol\": \"circle\"}, \"name\": \"soja\", \"showlegend\": true, \"type\": \"splom\"}, {\"diagonal\": {\"visible\": true}, \"dimensions\": [{\"axis\": {\"matches\": true}, \"label\": \"count x\", \"values\": [56]}, {\"axis\": {\"matches\": true}, \"label\": \"count y\", \"values\": [27]}], \"hovertemplate\": \"prefLabel=orge d'hiver<br>%{xaxis.title.text}=%{x}<br>%{yaxis.title.text}=%{y}<extra></extra>\", \"legendgroup\": \"orge d'hiver\", \"marker\": {\"color\": \"#ab63fa\", \"symbol\": \"circle\"}, \"name\": \"orge d'hiver\", \"showlegend\": true, \"type\": \"splom\"}, {\"diagonal\": {\"visible\": true}, \"dimensions\": [{\"axis\": {\"matches\": true}, \"label\": \"count x\", \"values\": [54]}, {\"axis\": {\"matches\": true}, \"label\": \"count y\", \"values\": [34]}], \"hovertemplate\": \"prefLabel=\\u00e9chalote<br>%{xaxis.title.text}=%{x}<br>%{yaxis.title.text}=%{y}<extra></extra>\", \"legendgroup\": \"\\u00e9chalote\", \"marker\": {\"color\": \"#FFA15A\", \"symbol\": \"circle\"}, \"name\": \"\\u00e9chalote\", \"showlegend\": true, \"type\": \"splom\"}, {\"diagonal\": {\"visible\": true}, \"dimensions\": [{\"axis\": {\"matches\": true}, \"label\": \"count x\", \"values\": [54]}, {\"axis\": {\"matches\": true}, \"label\": \"count y\", \"values\": [100]}], \"hovertemplate\": \"prefLabel=pois prot\\u00e9agineux de printemps<br>%{xaxis.title.text}=%{x}<br>%{yaxis.title.text}=%{y}<extra></extra>\", \"legendgroup\": \"pois prot\\u00e9agineux de printemps\", \"marker\": {\"color\": \"#19d3f3\", \"symbol\": \"circle\"}, \"name\": \"pois prot\\u00e9agineux de printemps\", \"showlegend\": true, \"type\": \"splom\"}, {\"diagonal\": {\"visible\": true}, \"dimensions\": [{\"axis\": {\"matches\": true}, \"label\": \"count x\", \"values\": [53]}, {\"axis\": {\"matches\": true}, \"label\": \"count y\", \"values\": [52]}], \"hovertemplate\": \"prefLabel=navet potager<br>%{xaxis.title.text}=%{x}<br>%{yaxis.title.text}=%{y}<extra></extra>\", \"legendgroup\": \"navet potager\", \"marker\": {\"color\": \"#FF6692\", \"symbol\": \"circle\"}, \"name\": \"navet potager\", \"showlegend\": true, \"type\": \"splom\"}, {\"diagonal\": {\"visible\": true}, \"dimensions\": [{\"axis\": {\"matches\": true}, \"label\": \"count x\", \"values\": [52]}, {\"axis\": {\"matches\": true}, \"label\": \"count y\", \"values\": [15]}], \"hovertemplate\": \"prefLabel=tabac<br>%{xaxis.title.text}=%{x}<br>%{yaxis.title.text}=%{y}<extra></extra>\", \"legendgroup\": \"tabac\", \"marker\": {\"color\": \"#B6E880\", \"symbol\": \"circle\"}, \"name\": \"tabac\", \"showlegend\": true, \"type\": \"splom\"}, {\"diagonal\": {\"visible\": true}, \"dimensions\": [{\"axis\": {\"matches\": true}, \"label\": \"count x\", \"values\": [50]}, {\"axis\": {\"matches\": true}, \"label\": \"count y\", \"values\": [48]}], \"hovertemplate\": \"prefLabel=oranger<br>%{xaxis.title.text}=%{x}<br>%{yaxis.title.text}=%{y}<extra></extra>\", \"legendgroup\": \"oranger\", \"marker\": {\"color\": \"#FF97FF\", \"symbol\": \"circle\"}, \"name\": \"oranger\", \"showlegend\": true, \"type\": \"splom\"}, {\"diagonal\": {\"visible\": true}, \"dimensions\": [{\"axis\": {\"matches\": true}, \"label\": \"count x\", \"values\": [49]}, {\"axis\": {\"matches\": true}, \"label\": \"count y\", \"values\": [8]}], \"hovertemplate\": \"prefLabel=courge<br>%{xaxis.title.text}=%{x}<br>%{yaxis.title.text}=%{y}<extra></extra>\", \"legendgroup\": \"courge\", \"marker\": {\"color\": \"#FECB52\", \"symbol\": \"circle\"}, \"name\": \"courge\", \"showlegend\": true, \"type\": \"splom\"}, {\"diagonal\": {\"visible\": true}, \"dimensions\": [{\"axis\": {\"matches\": true}, \"label\": \"count x\", \"values\": [48]}, {\"axis\": {\"matches\": true}, \"label\": \"count y\", \"values\": [224]}], \"hovertemplate\": \"prefLabel=f\\u00e9verole<br>%{xaxis.title.text}=%{x}<br>%{yaxis.title.text}=%{y}<extra></extra>\", \"legendgroup\": \"f\\u00e9verole\", \"marker\": {\"color\": \"#636efa\", \"symbol\": \"circle\"}, \"name\": \"f\\u00e9verole\", \"showlegend\": true, \"type\": \"splom\"}, {\"diagonal\": {\"visible\": true}, \"dimensions\": [{\"axis\": {\"matches\": true}, \"label\": \"count x\", \"values\": [48]}, {\"axis\": {\"matches\": true}, \"label\": \"count y\", \"values\": [24]}], \"hovertemplate\": \"prefLabel=olivier<br>%{xaxis.title.text}=%{x}<br>%{yaxis.title.text}=%{y}<extra></extra>\", \"legendgroup\": \"olivier\", \"marker\": {\"color\": \"#EF553B\", \"symbol\": \"circle\"}, \"name\": \"olivier\", \"showlegend\": true, \"type\": \"splom\"}, {\"diagonal\": {\"visible\": true}, \"dimensions\": [{\"axis\": {\"matches\": true}, \"label\": \"count x\", \"values\": [47]}, {\"axis\": {\"matches\": true}, \"label\": \"count y\", \"values\": [33]}], \"hovertemplate\": \"prefLabel=rosier ornemental<br>%{xaxis.title.text}=%{x}<br>%{yaxis.title.text}=%{y}<extra></extra>\", \"legendgroup\": \"rosier ornemental\", \"marker\": {\"color\": \"#00cc96\", \"symbol\": \"circle\"}, \"name\": \"rosier ornemental\", \"showlegend\": true, \"type\": \"splom\"}, {\"diagonal\": {\"visible\": true}, \"dimensions\": [{\"axis\": {\"matches\": true}, \"label\": \"count x\", \"values\": [45]}, {\"axis\": {\"matches\": true}, \"label\": \"count y\", \"values\": [49]}], \"hovertemplate\": \"prefLabel=m\\u00e2che<br>%{xaxis.title.text}=%{x}<br>%{yaxis.title.text}=%{y}<extra></extra>\", \"legendgroup\": \"m\\u00e2che\", \"marker\": {\"color\": \"#ab63fa\", \"symbol\": \"circle\"}, \"name\": \"m\\u00e2che\", \"showlegend\": true, \"type\": \"splom\"}, {\"diagonal\": {\"visible\": true}, \"dimensions\": [{\"axis\": {\"matches\": true}, \"label\": \"count x\", \"values\": [44]}, {\"axis\": {\"matches\": true}, \"label\": \"count y\", \"values\": [23]}], \"hovertemplate\": \"prefLabel=asperge<br>%{xaxis.title.text}=%{x}<br>%{yaxis.title.text}=%{y}<extra></extra>\", \"legendgroup\": \"asperge\", \"marker\": {\"color\": \"#FFA15A\", \"symbol\": \"circle\"}, \"name\": \"asperge\", \"showlegend\": true, \"type\": \"splom\"}, {\"diagonal\": {\"visible\": true}, \"dimensions\": [{\"axis\": {\"matches\": true}, \"label\": \"count x\", \"values\": [44]}, {\"axis\": {\"matches\": true}, \"label\": \"count y\", \"values\": [11]}], \"hovertemplate\": \"prefLabel=vigne de cuve<br>%{xaxis.title.text}=%{x}<br>%{yaxis.title.text}=%{y}<extra></extra>\", \"legendgroup\": \"vigne de cuve\", \"marker\": {\"color\": \"#19d3f3\", \"symbol\": \"circle\"}, \"name\": \"vigne de cuve\", \"showlegend\": true, \"type\": \"splom\"}, {\"diagonal\": {\"visible\": true}, \"dimensions\": [{\"axis\": {\"matches\": true}, \"label\": \"count x\", \"values\": [43]}, {\"axis\": {\"matches\": true}, \"label\": \"count y\", \"values\": [53]}], \"hovertemplate\": \"prefLabel=chicor\\u00e9e endive<br>%{xaxis.title.text}=%{x}<br>%{yaxis.title.text}=%{y}<extra></extra>\", \"legendgroup\": \"chicor\\u00e9e endive\", \"marker\": {\"color\": \"#FF6692\", \"symbol\": \"circle\"}, \"name\": \"chicor\\u00e9e endive\", \"showlegend\": true, \"type\": \"splom\"}, {\"diagonal\": {\"visible\": true}, \"dimensions\": [{\"axis\": {\"matches\": true}, \"label\": \"count x\", \"values\": [43]}, {\"axis\": {\"matches\": true}, \"label\": \"count y\", \"values\": [47]}], \"hovertemplate\": \"prefLabel=lin ol\\u00e9agineux d'hiver<br>%{xaxis.title.text}=%{x}<br>%{yaxis.title.text}=%{y}<extra></extra>\", \"legendgroup\": \"lin ol\\u00e9agineux d'hiver\", \"marker\": {\"color\": \"#B6E880\", \"symbol\": \"circle\"}, \"name\": \"lin ol\\u00e9agineux d'hiver\", \"showlegend\": true, \"type\": \"splom\"}, {\"diagonal\": {\"visible\": true}, \"dimensions\": [{\"axis\": {\"matches\": true}, \"label\": \"count x\", \"values\": [42]}, {\"axis\": {\"matches\": true}, \"label\": \"count y\", \"values\": [82]}], \"hovertemplate\": \"prefLabel=horticulture ornementale<br>%{xaxis.title.text}=%{x}<br>%{yaxis.title.text}=%{y}<extra></extra>\", \"legendgroup\": \"horticulture ornementale\", \"marker\": {\"color\": \"#FF97FF\", \"symbol\": \"circle\"}, \"name\": \"horticulture ornementale\", \"showlegend\": true, \"type\": \"splom\"}, {\"diagonal\": {\"visible\": true}, \"dimensions\": [{\"axis\": {\"matches\": true}, \"label\": \"count x\", \"values\": [41]}, {\"axis\": {\"matches\": true}, \"label\": \"count y\", \"values\": [20]}], \"hovertemplate\": \"prefLabel=orge de printemps<br>%{xaxis.title.text}=%{x}<br>%{yaxis.title.text}=%{y}<extra></extra>\", \"legendgroup\": \"orge de printemps\", \"marker\": {\"color\": \"#FECB52\", \"symbol\": \"circle\"}, \"name\": \"orge de printemps\", \"showlegend\": true, \"type\": \"splom\"}, {\"diagonal\": {\"visible\": true}, \"dimensions\": [{\"axis\": {\"matches\": true}, \"label\": \"count x\", \"values\": [41]}, {\"axis\": {\"matches\": true}, \"label\": \"count y\", \"values\": [10]}], \"hovertemplate\": \"prefLabel=\\u00e9pinard<br>%{xaxis.title.text}=%{x}<br>%{yaxis.title.text}=%{y}<extra></extra>\", \"legendgroup\": \"\\u00e9pinard\", \"marker\": {\"color\": \"#636efa\", \"symbol\": \"circle\"}, \"name\": \"\\u00e9pinard\", \"showlegend\": true, \"type\": \"splom\"}, {\"diagonal\": {\"visible\": true}, \"dimensions\": [{\"axis\": {\"matches\": true}, \"label\": \"count x\", \"values\": [40]}, {\"axis\": {\"matches\": true}, \"label\": \"count y\", \"values\": [21]}], \"hovertemplate\": \"prefLabel=ciboulette<br>%{xaxis.title.text}=%{x}<br>%{yaxis.title.text}=%{y}<extra></extra>\", \"legendgroup\": \"ciboulette\", \"marker\": {\"color\": \"#EF553B\", \"symbol\": \"circle\"}, \"name\": \"ciboulette\", \"showlegend\": true, \"type\": \"splom\"}, {\"diagonal\": {\"visible\": true}, \"dimensions\": [{\"axis\": {\"matches\": true}, \"label\": \"count x\", \"values\": [39]}, {\"axis\": {\"matches\": true}, \"label\": \"count y\", \"values\": [24]}], \"hovertemplate\": \"prefLabel=bl\\u00e9 tendre d'hiver<br>%{xaxis.title.text}=%{x}<br>%{yaxis.title.text}=%{y}<extra></extra>\", \"legendgroup\": \"bl\\u00e9 tendre d'hiver\", \"marker\": {\"color\": \"#00cc96\", \"symbol\": \"circle\"}, \"name\": \"bl\\u00e9 tendre d'hiver\", \"showlegend\": true, \"type\": \"splom\"}, {\"diagonal\": {\"visible\": true}, \"dimensions\": [{\"axis\": {\"matches\": true}, \"label\": \"count x\", \"values\": [38]}, {\"axis\": {\"matches\": true}, \"label\": \"count y\", \"values\": [5]}], \"hovertemplate\": \"prefLabel=arbre fruitier \\u00e0 noyau<br>%{xaxis.title.text}=%{x}<br>%{yaxis.title.text}=%{y}<extra></extra>\", \"legendgroup\": \"arbre fruitier \\u00e0 noyau\", \"marker\": {\"color\": \"#ab63fa\", \"symbol\": \"circle\"}, \"name\": \"arbre fruitier \\u00e0 noyau\", \"showlegend\": true, \"type\": \"splom\"}, {\"diagonal\": {\"visible\": true}, \"dimensions\": [{\"axis\": {\"matches\": true}, \"label\": \"count x\", \"values\": [38]}, {\"axis\": {\"matches\": true}, \"label\": \"count y\", \"values\": [39]}], \"hovertemplate\": \"prefLabel=triticale<br>%{xaxis.title.text}=%{x}<br>%{yaxis.title.text}=%{y}<extra></extra>\", \"legendgroup\": \"triticale\", \"marker\": {\"color\": \"#FFA15A\", \"symbol\": \"circle\"}, \"name\": \"triticale\", \"showlegend\": true, \"type\": \"splom\"}, {\"diagonal\": {\"visible\": true}, \"dimensions\": [{\"axis\": {\"matches\": true}, \"label\": \"count x\", \"values\": [37]}, {\"axis\": {\"matches\": true}, \"label\": \"count y\", \"values\": [31]}], \"hovertemplate\": \"prefLabel=pomme de terre potag\\u00e8re<br>%{xaxis.title.text}=%{x}<br>%{yaxis.title.text}=%{y}<extra></extra>\", \"legendgroup\": \"pomme de terre potag\\u00e8re\", \"marker\": {\"color\": \"#19d3f3\", \"symbol\": \"circle\"}, \"name\": \"pomme de terre potag\\u00e8re\", \"showlegend\": true, \"type\": \"splom\"}, {\"diagonal\": {\"visible\": true}, \"dimensions\": [{\"axis\": {\"matches\": true}, \"label\": \"count x\", \"values\": [35]}, {\"axis\": {\"matches\": true}, \"label\": \"count y\", \"values\": [3]}], \"hovertemplate\": \"prefLabel=palmier<br>%{xaxis.title.text}=%{x}<br>%{yaxis.title.text}=%{y}<extra></extra>\", \"legendgroup\": \"palmier\", \"marker\": {\"color\": \"#FF6692\", \"symbol\": \"circle\"}, \"name\": \"palmier\", \"showlegend\": true, \"type\": \"splom\"}, {\"diagonal\": {\"visible\": true}, \"dimensions\": [{\"axis\": {\"matches\": true}, \"label\": \"count x\", \"values\": [35]}, {\"axis\": {\"matches\": true}, \"label\": \"count y\", \"values\": [121]}], \"hovertemplate\": \"prefLabel=noyer<br>%{xaxis.title.text}=%{x}<br>%{yaxis.title.text}=%{y}<extra></extra>\", \"legendgroup\": \"noyer\", \"marker\": {\"color\": \"#B6E880\", \"symbol\": \"circle\"}, \"name\": \"noyer\", \"showlegend\": true, \"type\": \"splom\"}, {\"diagonal\": {\"visible\": true}, \"dimensions\": [{\"axis\": {\"matches\": true}, \"label\": \"count x\", \"values\": [34]}, {\"axis\": {\"matches\": true}, \"label\": \"count y\", \"values\": [14]}], \"hovertemplate\": \"prefLabel=bananier<br>%{xaxis.title.text}=%{x}<br>%{yaxis.title.text}=%{y}<extra></extra>\", \"legendgroup\": \"bananier\", \"marker\": {\"color\": \"#FF97FF\", \"symbol\": \"circle\"}, \"name\": \"bananier\", \"showlegend\": true, \"type\": \"splom\"}, {\"diagonal\": {\"visible\": true}, \"dimensions\": [{\"axis\": {\"matches\": true}, \"label\": \"count x\", \"values\": [33]}, {\"axis\": {\"matches\": true}, \"label\": \"count y\", \"values\": [45]}], \"hovertemplate\": \"prefLabel=prairie<br>%{xaxis.title.text}=%{x}<br>%{yaxis.title.text}=%{y}<extra></extra>\", \"legendgroup\": \"prairie\", \"marker\": {\"color\": \"#FECB52\", \"symbol\": \"circle\"}, \"name\": \"prairie\", \"showlegend\": true, \"type\": \"splom\"}, {\"diagonal\": {\"visible\": true}, \"dimensions\": [{\"axis\": {\"matches\": true}, \"label\": \"count x\", \"values\": [31]}, {\"axis\": {\"matches\": true}, \"label\": \"count y\", \"values\": [47]}], \"hovertemplate\": \"prefLabel=chicor\\u00e9e de Bruxelle<br>%{xaxis.title.text}=%{x}<br>%{yaxis.title.text}=%{y}<extra></extra>\", \"legendgroup\": \"chicor\\u00e9e de Bruxelle\", \"marker\": {\"color\": \"#636efa\", \"symbol\": \"circle\"}, \"name\": \"chicor\\u00e9e de Bruxelle\", \"showlegend\": true, \"type\": \"splom\"}, {\"diagonal\": {\"visible\": true}, \"dimensions\": [{\"axis\": {\"matches\": true}, \"label\": \"count x\", \"values\": [30]}, {\"axis\": {\"matches\": true}, \"label\": \"count y\", \"values\": [48]}], \"hovertemplate\": \"prefLabel=framboisier<br>%{xaxis.title.text}=%{x}<br>%{yaxis.title.text}=%{y}<extra></extra>\", \"legendgroup\": \"framboisier\", \"marker\": {\"color\": \"#EF553B\", \"symbol\": \"circle\"}, \"name\": \"framboisier\", \"showlegend\": true, \"type\": \"splom\"}, {\"diagonal\": {\"visible\": true}, \"dimensions\": [{\"axis\": {\"matches\": true}, \"label\": \"count x\", \"values\": [30]}, {\"axis\": {\"matches\": true}, \"label\": \"count y\", \"values\": [16]}], \"hovertemplate\": \"prefLabel=jardins familiaux<br>%{xaxis.title.text}=%{x}<br>%{yaxis.title.text}=%{y}<extra></extra>\", \"legendgroup\": \"jardins familiaux\", \"marker\": {\"color\": \"#00cc96\", \"symbol\": \"circle\"}, \"name\": \"jardins familiaux\", \"showlegend\": true, \"type\": \"splom\"}, {\"diagonal\": {\"visible\": true}, \"dimensions\": [{\"axis\": {\"matches\": true}, \"label\": \"count x\", \"values\": [29]}, {\"axis\": {\"matches\": true}, \"label\": \"count y\", \"values\": [52]}], \"hovertemplate\": \"prefLabel=ch\\u00eane<br>%{xaxis.title.text}=%{x}<br>%{yaxis.title.text}=%{y}<extra></extra>\", \"legendgroup\": \"ch\\u00eane\", \"marker\": {\"color\": \"#ab63fa\", \"symbol\": \"circle\"}, \"name\": \"ch\\u00eane\", \"showlegend\": true, \"type\": \"splom\"}, {\"diagonal\": {\"visible\": true}, \"dimensions\": [{\"axis\": {\"matches\": true}, \"label\": \"count x\", \"values\": [28]}, {\"axis\": {\"matches\": true}, \"label\": \"count y\", \"values\": [17]}], \"hovertemplate\": \"prefLabel=petit fruit<br>%{xaxis.title.text}=%{x}<br>%{yaxis.title.text}=%{y}<extra></extra>\", \"legendgroup\": \"petit fruit\", \"marker\": {\"color\": \"#FFA15A\", \"symbol\": \"circle\"}, \"name\": \"petit fruit\", \"showlegend\": true, \"type\": \"splom\"}, {\"diagonal\": {\"visible\": true}, \"dimensions\": [{\"axis\": {\"matches\": true}, \"label\": \"count x\", \"values\": [27]}, {\"axis\": {\"matches\": true}, \"label\": \"count y\", \"values\": [13]}], \"hovertemplate\": \"prefLabel=haricot demi-sec<br>%{xaxis.title.text}=%{x}<br>%{yaxis.title.text}=%{y}<extra></extra>\", \"legendgroup\": \"haricot demi-sec\", \"marker\": {\"color\": \"#19d3f3\", \"symbol\": \"circle\"}, \"name\": \"haricot demi-sec\", \"showlegend\": true, \"type\": \"splom\"}, {\"diagonal\": {\"visible\": true}, \"dimensions\": [{\"axis\": {\"matches\": true}, \"label\": \"count x\", \"values\": [27]}, {\"axis\": {\"matches\": true}, \"label\": \"count y\", \"values\": [36]}], \"hovertemplate\": \"prefLabel=laitue batavia<br>%{xaxis.title.text}=%{x}<br>%{yaxis.title.text}=%{y}<extra></extra>\", \"legendgroup\": \"laitue batavia\", \"marker\": {\"color\": \"#FF6692\", \"symbol\": \"circle\"}, \"name\": \"laitue batavia\", \"showlegend\": true, \"type\": \"splom\"}, {\"diagonal\": {\"visible\": true}, \"dimensions\": [{\"axis\": {\"matches\": true}, \"label\": \"count x\", \"values\": [27]}, {\"axis\": {\"matches\": true}, \"label\": \"count y\", \"values\": [26]}], \"hovertemplate\": \"prefLabel=ail<br>%{xaxis.title.text}=%{x}<br>%{yaxis.title.text}=%{y}<extra></extra>\", \"legendgroup\": \"ail\", \"marker\": {\"color\": \"#B6E880\", \"symbol\": \"circle\"}, \"name\": \"ail\", \"showlegend\": true, \"type\": \"splom\"}, {\"diagonal\": {\"visible\": true}, \"dimensions\": [{\"axis\": {\"matches\": true}, \"label\": \"count x\", \"values\": [27]}, {\"axis\": {\"matches\": true}, \"label\": \"count y\", \"values\": [4]}], \"hovertemplate\": \"prefLabel=gel<br>%{xaxis.title.text}=%{x}<br>%{yaxis.title.text}=%{y}<extra></extra>\", \"legendgroup\": \"gel\", \"marker\": {\"color\": \"#FF97FF\", \"symbol\": \"circle\"}, \"name\": \"gel\", \"showlegend\": true, \"type\": \"splom\"}, {\"diagonal\": {\"visible\": true}, \"dimensions\": [{\"axis\": {\"matches\": true}, \"label\": \"count x\", \"values\": [27]}, {\"axis\": {\"matches\": true}, \"label\": \"count y\", \"values\": [87]}], \"hovertemplate\": \"prefLabel=ch\\u00e2taignier<br>%{xaxis.title.text}=%{x}<br>%{yaxis.title.text}=%{y}<extra></extra>\", \"legendgroup\": \"ch\\u00e2taignier\", \"marker\": {\"color\": \"#FECB52\", \"symbol\": \"circle\"}, \"name\": \"ch\\u00e2taignier\", \"showlegend\": true, \"type\": \"splom\"}, {\"diagonal\": {\"visible\": true}, \"dimensions\": [{\"axis\": {\"matches\": true}, \"label\": \"count x\", \"values\": [26]}, {\"axis\": {\"matches\": true}, \"label\": \"count y\", \"values\": [12]}], \"hovertemplate\": \"prefLabel=luzerne<br>%{xaxis.title.text}=%{x}<br>%{yaxis.title.text}=%{y}<extra></extra>\", \"legendgroup\": \"luzerne\", \"marker\": {\"color\": \"#636efa\", \"symbol\": \"circle\"}, \"name\": \"luzerne\", \"showlegend\": true, \"type\": \"splom\"}, {\"diagonal\": {\"visible\": true}, \"dimensions\": [{\"axis\": {\"matches\": true}, \"label\": \"count x\", \"values\": [26]}, {\"axis\": {\"matches\": true}, \"label\": \"count y\", \"values\": [45]}], \"hovertemplate\": \"prefLabel=actinidia<br>%{xaxis.title.text}=%{x}<br>%{yaxis.title.text}=%{y}<extra></extra>\", \"legendgroup\": \"actinidia\", \"marker\": {\"color\": \"#EF553B\", \"symbol\": \"circle\"}, \"name\": \"actinidia\", \"showlegend\": true, \"type\": \"splom\"}, {\"diagonal\": {\"visible\": true}, \"dimensions\": [{\"axis\": {\"matches\": true}, \"label\": \"count x\", \"values\": [23]}, {\"axis\": {\"matches\": true}, \"label\": \"count y\", \"values\": [9]}], \"hovertemplate\": \"prefLabel=artichaut<br>%{xaxis.title.text}=%{x}<br>%{yaxis.title.text}=%{y}<extra></extra>\", \"legendgroup\": \"artichaut\", \"marker\": {\"color\": \"#00cc96\", \"symbol\": \"circle\"}, \"name\": \"artichaut\", \"showlegend\": true, \"type\": \"splom\"}, {\"diagonal\": {\"visible\": true}, \"dimensions\": [{\"axis\": {\"matches\": true}, \"label\": \"count x\", \"values\": [22]}, {\"axis\": {\"matches\": true}, \"label\": \"count y\", \"values\": [35]}], \"hovertemplate\": \"prefLabel=vigne de table<br>%{xaxis.title.text}=%{x}<br>%{yaxis.title.text}=%{y}<extra></extra>\", \"legendgroup\": \"vigne de table\", \"marker\": {\"color\": \"#ab63fa\", \"symbol\": \"circle\"}, \"name\": \"vigne de table\", \"showlegend\": true, \"type\": \"splom\"}, {\"diagonal\": {\"visible\": true}, \"dimensions\": [{\"axis\": {\"matches\": true}, \"label\": \"count x\", \"values\": [22]}, {\"axis\": {\"matches\": true}, \"label\": \"count y\", \"values\": [102]}], \"hovertemplate\": \"prefLabel=rosier<br>%{xaxis.title.text}=%{x}<br>%{yaxis.title.text}=%{y}<extra></extra>\", \"legendgroup\": \"rosier\", \"marker\": {\"color\": \"#FFA15A\", \"symbol\": \"circle\"}, \"name\": \"rosier\", \"showlegend\": true, \"type\": \"splom\"}, {\"diagonal\": {\"visible\": true}, \"dimensions\": [{\"axis\": {\"matches\": true}, \"label\": \"count x\", \"values\": [22]}, {\"axis\": {\"matches\": true}, \"label\": \"count y\", \"values\": [66]}], \"hovertemplate\": \"prefLabel=pois prot\\u00e9agineux d'hiver<br>%{xaxis.title.text}=%{x}<br>%{yaxis.title.text}=%{y}<extra></extra>\", \"legendgroup\": \"pois prot\\u00e9agineux d'hiver\", \"marker\": {\"color\": \"#19d3f3\", \"symbol\": \"circle\"}, \"name\": \"pois prot\\u00e9agineux d'hiver\", \"showlegend\": true, \"type\": \"splom\"}, {\"diagonal\": {\"visible\": true}, \"dimensions\": [{\"axis\": {\"matches\": true}, \"label\": \"count x\", \"values\": [21]}, {\"axis\": {\"matches\": true}, \"label\": \"count y\", \"values\": [7]}], \"hovertemplate\": \"prefLabel=sorgho grain<br>%{xaxis.title.text}=%{x}<br>%{yaxis.title.text}=%{y}<extra></extra>\", \"legendgroup\": \"sorgho grain\", \"marker\": {\"color\": \"#FF6692\", \"symbol\": \"circle\"}, \"name\": \"sorgho grain\", \"showlegend\": true, \"type\": \"splom\"}, {\"diagonal\": {\"visible\": true}, \"dimensions\": [{\"axis\": {\"matches\": true}, \"label\": \"count x\", \"values\": [21]}, {\"axis\": {\"matches\": true}, \"label\": \"count y\", \"values\": [18]}], \"hovertemplate\": \"prefLabel=panais<br>%{xaxis.title.text}=%{x}<br>%{yaxis.title.text}=%{y}<extra></extra>\", \"legendgroup\": \"panais\", \"marker\": {\"color\": \"#B6E880\", \"symbol\": \"circle\"}, \"name\": \"panais\", \"showlegend\": true, \"type\": \"splom\"}, {\"diagonal\": {\"visible\": true}, \"dimensions\": [{\"axis\": {\"matches\": true}, \"label\": \"count x\", \"values\": [21]}, {\"axis\": {\"matches\": true}, \"label\": \"count y\", \"values\": [5]}], \"hovertemplate\": \"prefLabel=culture l\\u00e9gumi\\u00e8re de plein champ<br>%{xaxis.title.text}=%{x}<br>%{yaxis.title.text}=%{y}<extra></extra>\", \"legendgroup\": \"culture l\\u00e9gumi\\u00e8re de plein champ\", \"marker\": {\"color\": \"#FF97FF\", \"symbol\": \"circle\"}, \"name\": \"culture l\\u00e9gumi\\u00e8re de plein champ\", \"showlegend\": true, \"type\": \"splom\"}, {\"diagonal\": {\"visible\": true}, \"dimensions\": [{\"axis\": {\"matches\": true}, \"label\": \"count x\", \"values\": [20]}, {\"axis\": {\"matches\": true}, \"label\": \"count y\", \"values\": [117]}], \"hovertemplate\": \"prefLabel=prot\\u00e9agineux<br>%{xaxis.title.text}=%{x}<br>%{yaxis.title.text}=%{y}<extra></extra>\", \"legendgroup\": \"prot\\u00e9agineux\", \"marker\": {\"color\": \"#FECB52\", \"symbol\": \"circle\"}, \"name\": \"prot\\u00e9agineux\", \"showlegend\": true, \"type\": \"splom\"}, {\"diagonal\": {\"visible\": true}, \"dimensions\": [{\"axis\": {\"matches\": true}, \"label\": \"count x\", \"values\": [20]}, {\"axis\": {\"matches\": true}, \"label\": \"count y\", \"values\": [9]}], \"hovertemplate\": \"prefLabel=scorson\\u00e8re<br>%{xaxis.title.text}=%{x}<br>%{yaxis.title.text}=%{y}<extra></extra>\", \"legendgroup\": \"scorson\\u00e8re\", \"marker\": {\"color\": \"#636efa\", \"symbol\": \"circle\"}, \"name\": \"scorson\\u00e8re\", \"showlegend\": true, \"type\": \"splom\"}, {\"diagonal\": {\"visible\": true}, \"dimensions\": [{\"axis\": {\"matches\": true}, \"label\": \"count x\", \"values\": [19]}, {\"axis\": {\"matches\": true}, \"label\": \"count y\", \"values\": [10]}], \"hovertemplate\": \"prefLabel=betterave potag\\u00e8re<br>%{xaxis.title.text}=%{x}<br>%{yaxis.title.text}=%{y}<extra></extra>\", \"legendgroup\": \"betterave potag\\u00e8re\", \"marker\": {\"color\": \"#EF553B\", \"symbol\": \"circle\"}, \"name\": \"betterave potag\\u00e8re\", \"showlegend\": true, \"type\": \"splom\"}, {\"diagonal\": {\"visible\": true}, \"dimensions\": [{\"axis\": {\"matches\": true}, \"label\": \"count x\", \"values\": [19]}, {\"axis\": {\"matches\": true}, \"label\": \"count y\", \"values\": [7]}], \"hovertemplate\": \"prefLabel=sorgho<br>%{xaxis.title.text}=%{x}<br>%{yaxis.title.text}=%{y}<extra></extra>\", \"legendgroup\": \"sorgho\", \"marker\": {\"color\": \"#00cc96\", \"symbol\": \"circle\"}, \"name\": \"sorgho\", \"showlegend\": true, \"type\": \"splom\"}, {\"diagonal\": {\"visible\": true}, \"dimensions\": [{\"axis\": {\"matches\": true}, \"label\": \"count x\", \"values\": [18]}, {\"axis\": {\"matches\": true}, \"label\": \"count y\", \"values\": [47]}], \"hovertemplate\": \"prefLabel=agrume<br>%{xaxis.title.text}=%{x}<br>%{yaxis.title.text}=%{y}<extra></extra>\", \"legendgroup\": \"agrume\", \"marker\": {\"color\": \"#ab63fa\", \"symbol\": \"circle\"}, \"name\": \"agrume\", \"showlegend\": true, \"type\": \"splom\"}, {\"diagonal\": {\"visible\": true}, \"dimensions\": [{\"axis\": {\"matches\": true}, \"label\": \"count x\", \"values\": [17]}, {\"axis\": {\"matches\": true}, \"label\": \"count y\", \"values\": [11]}], \"hovertemplate\": \"prefLabel=piment<br>%{xaxis.title.text}=%{x}<br>%{yaxis.title.text}=%{y}<extra></extra>\", \"legendgroup\": \"piment\", \"marker\": {\"color\": \"#FFA15A\", \"symbol\": \"circle\"}, \"name\": \"piment\", \"showlegend\": true, \"type\": \"splom\"}, {\"diagonal\": {\"visible\": true}, \"dimensions\": [{\"axis\": {\"matches\": true}, \"label\": \"count x\", \"values\": [17]}, {\"axis\": {\"matches\": true}, \"label\": \"count y\", \"values\": [26]}], \"hovertemplate\": \"prefLabel=laurier<br>%{xaxis.title.text}=%{x}<br>%{yaxis.title.text}=%{y}<extra></extra>\", \"legendgroup\": \"laurier\", \"marker\": {\"color\": \"#19d3f3\", \"symbol\": \"circle\"}, \"name\": \"laurier\", \"showlegend\": true, \"type\": \"splom\"}, {\"diagonal\": {\"visible\": true}, \"dimensions\": [{\"axis\": {\"matches\": true}, \"label\": \"count x\", \"values\": [16]}, {\"axis\": {\"matches\": true}, \"label\": \"count y\", \"values\": [10]}], \"hovertemplate\": \"prefLabel=olivier fruit \\u00e0 noyaux<br>%{xaxis.title.text}=%{x}<br>%{yaxis.title.text}=%{y}<extra></extra>\", \"legendgroup\": \"olivier fruit \\u00e0 noyaux\", \"marker\": {\"color\": \"#FF6692\", \"symbol\": \"circle\"}, \"name\": \"olivier fruit \\u00e0 noyaux\", \"showlegend\": true, \"type\": \"splom\"}, {\"diagonal\": {\"visible\": true}, \"dimensions\": [{\"axis\": {\"matches\": true}, \"label\": \"count x\", \"values\": [15]}, {\"axis\": {\"matches\": true}, \"label\": \"count y\", \"values\": [5]}], \"hovertemplate\": \"prefLabel=Chou cabus blanc<br>%{xaxis.title.text}=%{x}<br>%{yaxis.title.text}=%{y}<extra></extra>\", \"legendgroup\": \"Chou cabus blanc\", \"marker\": {\"color\": \"#B6E880\", \"symbol\": \"circle\"}, \"name\": \"Chou cabus blanc\", \"showlegend\": true, \"type\": \"splom\"}, {\"diagonal\": {\"visible\": true}, \"dimensions\": [{\"axis\": {\"matches\": true}, \"label\": \"count x\", \"values\": [14]}, {\"axis\": {\"matches\": true}, \"label\": \"count y\", \"values\": [12]}], \"hovertemplate\": \"prefLabel=f\\u00e8ve<br>%{xaxis.title.text}=%{x}<br>%{yaxis.title.text}=%{y}<extra></extra>\", \"legendgroup\": \"f\\u00e8ve\", \"marker\": {\"color\": \"#FF97FF\", \"symbol\": \"circle\"}, \"name\": \"f\\u00e8ve\", \"showlegend\": true, \"type\": \"splom\"}, {\"diagonal\": {\"visible\": true}, \"dimensions\": [{\"axis\": {\"matches\": true}, \"label\": \"count x\", \"values\": [14]}, {\"axis\": {\"matches\": true}, \"label\": \"count y\", \"values\": [10]}], \"hovertemplate\": \"prefLabel=c\\u00e9leri-rave<br>%{xaxis.title.text}=%{x}<br>%{yaxis.title.text}=%{y}<extra></extra>\", \"legendgroup\": \"c\\u00e9leri-rave\", \"marker\": {\"color\": \"#FECB52\", \"symbol\": \"circle\"}, \"name\": \"c\\u00e9leri-rave\", \"showlegend\": true, \"type\": \"splom\"}, {\"diagonal\": {\"visible\": true}, \"dimensions\": [{\"axis\": {\"matches\": true}, \"label\": \"count x\", \"values\": [13]}, {\"axis\": {\"matches\": true}, \"label\": \"count y\", \"values\": [5]}], \"hovertemplate\": \"prefLabel=orge \\u00e0 six rangs<br>%{xaxis.title.text}=%{x}<br>%{yaxis.title.text}=%{y}<extra></extra>\", \"legendgroup\": \"orge \\u00e0 six rangs\", \"marker\": {\"color\": \"#636efa\", \"symbol\": \"circle\"}, \"name\": \"orge \\u00e0 six rangs\", \"showlegend\": true, \"type\": \"splom\"}, {\"diagonal\": {\"visible\": true}, \"dimensions\": [{\"axis\": {\"matches\": true}, \"label\": \"count x\", \"values\": [13]}, {\"axis\": {\"matches\": true}, \"label\": \"count y\", \"values\": [11]}], \"hovertemplate\": \"prefLabel=amandier<br>%{xaxis.title.text}=%{x}<br>%{yaxis.title.text}=%{y}<extra></extra>\", \"legendgroup\": \"amandier\", \"marker\": {\"color\": \"#EF553B\", \"symbol\": \"circle\"}, \"name\": \"amandier\", \"showlegend\": true, \"type\": \"splom\"}, {\"diagonal\": {\"visible\": true}, \"dimensions\": [{\"axis\": {\"matches\": true}, \"label\": \"count x\", \"values\": [12]}, {\"axis\": {\"matches\": true}, \"label\": \"count y\", \"values\": [7]}], \"hovertemplate\": \"prefLabel=chicor\\u00e9e scarole<br>%{xaxis.title.text}=%{x}<br>%{yaxis.title.text}=%{y}<extra></extra>\", \"legendgroup\": \"chicor\\u00e9e scarole\", \"marker\": {\"color\": \"#00cc96\", \"symbol\": \"circle\"}, \"name\": \"chicor\\u00e9e scarole\", \"showlegend\": true, \"type\": \"splom\"}, {\"diagonal\": {\"visible\": true}, \"dimensions\": [{\"axis\": {\"matches\": true}, \"label\": \"count x\", \"values\": [12]}, {\"axis\": {\"matches\": true}, \"label\": \"count y\", \"values\": [7]}], \"hovertemplate\": \"prefLabel=chicor\\u00e9e<br>%{xaxis.title.text}=%{x}<br>%{yaxis.title.text}=%{y}<extra></extra>\", \"legendgroup\": \"chicor\\u00e9e\", \"marker\": {\"color\": \"#ab63fa\", \"symbol\": \"circle\"}, \"name\": \"chicor\\u00e9e\", \"showlegend\": true, \"type\": \"splom\"}, {\"diagonal\": {\"visible\": true}, \"dimensions\": [{\"axis\": {\"matches\": true}, \"label\": \"count x\", \"values\": [12]}, {\"axis\": {\"matches\": true}, \"label\": \"count y\", \"values\": [4]}], \"hovertemplate\": \"prefLabel=chou pomm\\u00e9<br>%{xaxis.title.text}=%{x}<br>%{yaxis.title.text}=%{y}<extra></extra>\", \"legendgroup\": \"chou pomm\\u00e9\", \"marker\": {\"color\": \"#FFA15A\", \"symbol\": \"circle\"}, \"name\": \"chou pomm\\u00e9\", \"showlegend\": true, \"type\": \"splom\"}, {\"diagonal\": {\"visible\": true}, \"dimensions\": [{\"axis\": {\"matches\": true}, \"label\": \"count x\", \"values\": [11]}, {\"axis\": {\"matches\": true}, \"label\": \"count y\", \"values\": [10]}], \"hovertemplate\": \"prefLabel=chou brocoli<br>%{xaxis.title.text}=%{x}<br>%{yaxis.title.text}=%{y}<extra></extra>\", \"legendgroup\": \"chou brocoli\", \"marker\": {\"color\": \"#19d3f3\", \"symbol\": \"circle\"}, \"name\": \"chou brocoli\", \"showlegend\": true, \"type\": \"splom\"}, {\"diagonal\": {\"visible\": true}, \"dimensions\": [{\"axis\": {\"matches\": true}, \"label\": \"count x\", \"values\": [11]}, {\"axis\": {\"matches\": true}, \"label\": \"count y\", \"values\": [23]}], \"hovertemplate\": \"prefLabel=cresson<br>%{xaxis.title.text}=%{x}<br>%{yaxis.title.text}=%{y}<extra></extra>\", \"legendgroup\": \"cresson\", \"marker\": {\"color\": \"#FF6692\", \"symbol\": \"circle\"}, \"name\": \"cresson\", \"showlegend\": true, \"type\": \"splom\"}, {\"diagonal\": {\"visible\": true}, \"dimensions\": [{\"axis\": {\"matches\": true}, \"label\": \"count x\", \"values\": [11]}, {\"axis\": {\"matches\": true}, \"label\": \"count y\", \"values\": [29]}], \"hovertemplate\": \"prefLabel=lin ol\\u00e9agineux de printemps<br>%{xaxis.title.text}=%{x}<br>%{yaxis.title.text}=%{y}<extra></extra>\", \"legendgroup\": \"lin ol\\u00e9agineux de printemps\", \"marker\": {\"color\": \"#B6E880\", \"symbol\": \"circle\"}, \"name\": \"lin ol\\u00e9agineux de printemps\", \"showlegend\": true, \"type\": \"splom\"}, {\"diagonal\": {\"visible\": true}, \"dimensions\": [{\"axis\": {\"matches\": true}, \"label\": \"count x\", \"values\": [11]}, {\"axis\": {\"matches\": true}, \"label\": \"count y\", \"values\": [8]}], \"hovertemplate\": \"prefLabel=chou-fleur<br>%{xaxis.title.text}=%{x}<br>%{yaxis.title.text}=%{y}<extra></extra>\", \"legendgroup\": \"chou-fleur\", \"marker\": {\"color\": \"#FF97FF\", \"symbol\": \"circle\"}, \"name\": \"chou-fleur\", \"showlegend\": true, \"type\": \"splom\"}, {\"diagonal\": {\"visible\": true}, \"dimensions\": [{\"axis\": {\"matches\": true}, \"label\": \"count x\", \"values\": [10]}, {\"axis\": {\"matches\": true}, \"label\": \"count y\", \"values\": [25]}], \"hovertemplate\": \"prefLabel=f\\u00e9verole d'hiver<br>%{xaxis.title.text}=%{x}<br>%{yaxis.title.text}=%{y}<extra></extra>\", \"legendgroup\": \"f\\u00e9verole d'hiver\", \"marker\": {\"color\": \"#FECB52\", \"symbol\": \"circle\"}, \"name\": \"f\\u00e9verole d'hiver\", \"showlegend\": true, \"type\": \"splom\"}, {\"diagonal\": {\"visible\": true}, \"dimensions\": [{\"axis\": {\"matches\": true}, \"label\": \"count x\", \"values\": [10]}, {\"axis\": {\"matches\": true}, \"label\": \"count y\", \"values\": [4]}], \"hovertemplate\": \"prefLabel=cassissier<br>%{xaxis.title.text}=%{x}<br>%{yaxis.title.text}=%{y}<extra></extra>\", \"legendgroup\": \"cassissier\", \"marker\": {\"color\": \"#636efa\", \"symbol\": \"circle\"}, \"name\": \"cassissier\", \"showlegend\": true, \"type\": \"splom\"}, {\"diagonal\": {\"visible\": true}, \"dimensions\": [{\"axis\": {\"matches\": true}, \"label\": \"count x\", \"values\": [10]}, {\"axis\": {\"matches\": true}, \"label\": \"count y\", \"values\": [4]}], \"hovertemplate\": \"prefLabel=citronnier<br>%{xaxis.title.text}=%{x}<br>%{yaxis.title.text}=%{y}<extra></extra>\", \"legendgroup\": \"citronnier\", \"marker\": {\"color\": \"#EF553B\", \"symbol\": \"circle\"}, \"name\": \"citronnier\", \"showlegend\": true, \"type\": \"splom\"}, {\"diagonal\": {\"visible\": true}, \"dimensions\": [{\"axis\": {\"matches\": true}, \"label\": \"count x\", \"values\": [10]}, {\"axis\": {\"matches\": true}, \"label\": \"count y\", \"values\": [19]}], \"hovertemplate\": \"prefLabel=haricot vert<br>%{xaxis.title.text}=%{x}<br>%{yaxis.title.text}=%{y}<extra></extra>\", \"legendgroup\": \"haricot vert\", \"marker\": {\"color\": \"#00cc96\", \"symbol\": \"circle\"}, \"name\": \"haricot vert\", \"showlegend\": true, \"type\": \"splom\"}, {\"diagonal\": {\"visible\": true}, \"dimensions\": [{\"axis\": {\"matches\": true}, \"label\": \"count x\", \"values\": [10]}, {\"axis\": {\"matches\": true}, \"label\": \"count y\", \"values\": [8]}], \"hovertemplate\": \"prefLabel=manguier<br>%{xaxis.title.text}=%{x}<br>%{yaxis.title.text}=%{y}<extra></extra>\", \"legendgroup\": \"manguier\", \"marker\": {\"color\": \"#ab63fa\", \"symbol\": \"circle\"}, \"name\": \"manguier\", \"showlegend\": true, \"type\": \"splom\"}, {\"diagonal\": {\"visible\": true}, \"dimensions\": [{\"axis\": {\"matches\": true}, \"label\": \"count x\", \"values\": [10]}, {\"axis\": {\"matches\": true}, \"label\": \"count y\", \"values\": [43]}], \"hovertemplate\": \"prefLabel=g\\u00e9ranium<br>%{xaxis.title.text}=%{x}<br>%{yaxis.title.text}=%{y}<extra></extra>\", \"legendgroup\": \"g\\u00e9ranium\", \"marker\": {\"color\": \"#FFA15A\", \"symbol\": \"circle\"}, \"name\": \"g\\u00e9ranium\", \"showlegend\": true, \"type\": \"splom\"}, {\"diagonal\": {\"visible\": true}, \"dimensions\": [{\"axis\": {\"matches\": true}, \"label\": \"count x\", \"values\": [10]}, {\"axis\": {\"matches\": true}, \"label\": \"count y\", \"values\": [2]}], \"hovertemplate\": \"prefLabel=ma\\u00efs doux<br>%{xaxis.title.text}=%{x}<br>%{yaxis.title.text}=%{y}<extra></extra>\", \"legendgroup\": \"ma\\u00efs doux\", \"marker\": {\"color\": \"#19d3f3\", \"symbol\": \"circle\"}, \"name\": \"ma\\u00efs doux\", \"showlegend\": true, \"type\": \"splom\"}, {\"diagonal\": {\"visible\": true}, \"dimensions\": [{\"axis\": {\"matches\": true}, \"label\": \"count x\", \"values\": [9]}, {\"axis\": {\"matches\": true}, \"label\": \"count y\", \"values\": [15]}], \"hovertemplate\": \"prefLabel=laitue \\u00e0 couper<br>%{xaxis.title.text}=%{x}<br>%{yaxis.title.text}=%{y}<extra></extra>\", \"legendgroup\": \"laitue \\u00e0 couper\", \"marker\": {\"color\": \"#FF6692\", \"symbol\": \"circle\"}, \"name\": \"laitue \\u00e0 couper\", \"showlegend\": true, \"type\": \"splom\"}, {\"diagonal\": {\"visible\": true}, \"dimensions\": [{\"axis\": {\"matches\": true}, \"label\": \"count x\", \"values\": [9]}, {\"axis\": {\"matches\": true}, \"label\": \"count y\", \"values\": [29]}], \"hovertemplate\": \"prefLabel=f\\u00e9verole de printemps<br>%{xaxis.title.text}=%{x}<br>%{yaxis.title.text}=%{y}<extra></extra>\", \"legendgroup\": \"f\\u00e9verole de printemps\", \"marker\": {\"color\": \"#B6E880\", \"symbol\": \"circle\"}, \"name\": \"f\\u00e9verole de printemps\", \"showlegend\": true, \"type\": \"splom\"}, {\"diagonal\": {\"visible\": true}, \"dimensions\": [{\"axis\": {\"matches\": true}, \"label\": \"count x\", \"values\": [8]}, {\"axis\": {\"matches\": true}, \"label\": \"count y\", \"values\": [8]}], \"hovertemplate\": \"prefLabel=moutarde<br>%{xaxis.title.text}=%{x}<br>%{yaxis.title.text}=%{y}<extra></extra>\", \"legendgroup\": \"moutarde\", \"marker\": {\"color\": \"#FF97FF\", \"symbol\": \"circle\"}, \"name\": \"moutarde\", \"showlegend\": true, \"type\": \"splom\"}, {\"diagonal\": {\"visible\": true}, \"dimensions\": [{\"axis\": {\"matches\": true}, \"label\": \"count x\", \"values\": [8]}, {\"axis\": {\"matches\": true}, \"label\": \"count y\", \"values\": [13]}], \"hovertemplate\": \"prefLabel=ma\\u00efs grain<br>%{xaxis.title.text}=%{x}<br>%{yaxis.title.text}=%{y}<extra></extra>\", \"legendgroup\": \"ma\\u00efs grain\", \"marker\": {\"color\": \"#FECB52\", \"symbol\": \"circle\"}, \"name\": \"ma\\u00efs grain\", \"showlegend\": true, \"type\": \"splom\"}, {\"diagonal\": {\"visible\": true}, \"dimensions\": [{\"axis\": {\"matches\": true}, \"label\": \"count x\", \"values\": [7]}, {\"axis\": {\"matches\": true}, \"label\": \"count y\", \"values\": [4]}], \"hovertemplate\": \"prefLabel=fourrage annuel<br>%{xaxis.title.text}=%{x}<br>%{yaxis.title.text}=%{y}<extra></extra>\", \"legendgroup\": \"fourrage annuel\", \"marker\": {\"color\": \"#636efa\", \"symbol\": \"circle\"}, \"name\": \"fourrage annuel\", \"showlegend\": true, \"type\": \"splom\"}, {\"diagonal\": {\"visible\": true}, \"dimensions\": [{\"axis\": {\"matches\": true}, \"label\": \"count x\", \"values\": [7]}, {\"axis\": {\"matches\": true}, \"label\": \"count y\", \"values\": [2]}], \"hovertemplate\": \"prefLabel=chou chinois<br>%{xaxis.title.text}=%{x}<br>%{yaxis.title.text}=%{y}<extra></extra>\", \"legendgroup\": \"chou chinois\", \"marker\": {\"color\": \"#EF553B\", \"symbol\": \"circle\"}, \"name\": \"chou chinois\", \"showlegend\": true, \"type\": \"splom\"}, {\"diagonal\": {\"visible\": true}, \"dimensions\": [{\"axis\": {\"matches\": true}, \"label\": \"count x\", \"values\": [7]}, {\"axis\": {\"matches\": true}, \"label\": \"count y\", \"values\": [5]}], \"hovertemplate\": \"prefLabel=avoine<br>%{xaxis.title.text}=%{x}<br>%{yaxis.title.text}=%{y}<extra></extra>\", \"legendgroup\": \"avoine\", \"marker\": {\"color\": \"#00cc96\", \"symbol\": \"circle\"}, \"name\": \"avoine\", \"showlegend\": true, \"type\": \"splom\"}, {\"diagonal\": {\"visible\": true}, \"dimensions\": [{\"axis\": {\"matches\": true}, \"label\": \"count x\", \"values\": [7]}, {\"axis\": {\"matches\": true}, \"label\": \"count y\", \"values\": [2]}], \"hovertemplate\": \"prefLabel=figuier<br>%{xaxis.title.text}=%{x}<br>%{yaxis.title.text}=%{y}<extra></extra>\", \"legendgroup\": \"figuier\", \"marker\": {\"color\": \"#ab63fa\", \"symbol\": \"circle\"}, \"name\": \"figuier\", \"showlegend\": true, \"type\": \"splom\"}, {\"diagonal\": {\"visible\": true}, \"dimensions\": [{\"axis\": {\"matches\": true}, \"label\": \"count x\", \"values\": [7]}, {\"axis\": {\"matches\": true}, \"label\": \"count y\", \"values\": [10]}], \"hovertemplate\": \"prefLabel=bananier plantain<br>%{xaxis.title.text}=%{x}<br>%{yaxis.title.text}=%{y}<extra></extra>\", \"legendgroup\": \"bananier plantain\", \"marker\": {\"color\": \"#FFA15A\", \"symbol\": \"circle\"}, \"name\": \"bananier plantain\", \"showlegend\": true, \"type\": \"splom\"}, {\"diagonal\": {\"visible\": true}, \"dimensions\": [{\"axis\": {\"matches\": true}, \"label\": \"count x\", \"values\": [7]}, {\"axis\": {\"matches\": true}, \"label\": \"count y\", \"values\": [5]}], \"hovertemplate\": \"prefLabel=riz<br>%{xaxis.title.text}=%{x}<br>%{yaxis.title.text}=%{y}<extra></extra>\", \"legendgroup\": \"riz\", \"marker\": {\"color\": \"#19d3f3\", \"symbol\": \"circle\"}, \"name\": \"riz\", \"showlegend\": true, \"type\": \"splom\"}, {\"diagonal\": {\"visible\": true}, \"dimensions\": [{\"axis\": {\"matches\": true}, \"label\": \"count x\", \"values\": [6]}, {\"axis\": {\"matches\": true}, \"label\": \"count y\", \"values\": [6]}], \"hovertemplate\": \"prefLabel=goyavier<br>%{xaxis.title.text}=%{x}<br>%{yaxis.title.text}=%{y}<extra></extra>\", \"legendgroup\": \"goyavier\", \"marker\": {\"color\": \"#FF6692\", \"symbol\": \"circle\"}, \"name\": \"goyavier\", \"showlegend\": true, \"type\": \"splom\"}, {\"diagonal\": {\"visible\": true}, \"dimensions\": [{\"axis\": {\"matches\": true}, \"label\": \"count x\", \"values\": [6]}, {\"axis\": {\"matches\": true}, \"label\": \"count y\", \"values\": [14]}], \"hovertemplate\": \"prefLabel=cerfeuil<br>%{xaxis.title.text}=%{x}<br>%{yaxis.title.text}=%{y}<extra></extra>\", \"legendgroup\": \"cerfeuil\", \"marker\": {\"color\": \"#B6E880\", \"symbol\": \"circle\"}, \"name\": \"cerfeuil\", \"showlegend\": true, \"type\": \"splom\"}, {\"diagonal\": {\"visible\": true}, \"dimensions\": [{\"axis\": {\"matches\": true}, \"label\": \"count x\", \"values\": [6]}, {\"axis\": {\"matches\": true}, \"label\": \"count y\", \"values\": [6]}], \"hovertemplate\": \"prefLabel=ray-grass<br>%{xaxis.title.text}=%{x}<br>%{yaxis.title.text}=%{y}<extra></extra>\", \"legendgroup\": \"ray-grass\", \"marker\": {\"color\": \"#FF97FF\", \"symbol\": \"circle\"}, \"name\": \"ray-grass\", \"showlegend\": true, \"type\": \"splom\"}, {\"diagonal\": {\"visible\": true}, \"dimensions\": [{\"axis\": {\"matches\": true}, \"label\": \"count x\", \"values\": [6]}, {\"axis\": {\"matches\": true}, \"label\": \"count y\", \"values\": [49]}], \"hovertemplate\": \"prefLabel=pois prot\\u00e9agineux<br>%{xaxis.title.text}=%{x}<br>%{yaxis.title.text}=%{y}<extra></extra>\", \"legendgroup\": \"pois prot\\u00e9agineux\", \"marker\": {\"color\": \"#FECB52\", \"symbol\": \"circle\"}, \"name\": \"pois prot\\u00e9agineux\", \"showlegend\": true, \"type\": \"splom\"}, {\"diagonal\": {\"visible\": true}, \"dimensions\": [{\"axis\": {\"matches\": true}, \"label\": \"count x\", \"values\": [6]}, {\"axis\": {\"matches\": true}, \"label\": \"count y\", \"values\": [10]}], \"hovertemplate\": \"prefLabel=ananas<br>%{xaxis.title.text}=%{x}<br>%{yaxis.title.text}=%{y}<extra></extra>\", \"legendgroup\": \"ananas\", \"marker\": {\"color\": \"#636efa\", \"symbol\": \"circle\"}, \"name\": \"ananas\", \"showlegend\": true, \"type\": \"splom\"}, {\"diagonal\": {\"visible\": true}, \"dimensions\": [{\"axis\": {\"matches\": true}, \"label\": \"count x\", \"values\": [6]}, {\"axis\": {\"matches\": true}, \"label\": \"count y\", \"values\": [1]}], \"hovertemplate\": \"prefLabel=bananier musa<br>%{xaxis.title.text}=%{x}<br>%{yaxis.title.text}=%{y}<extra></extra>\", \"legendgroup\": \"bananier musa\", \"marker\": {\"color\": \"#EF553B\", \"symbol\": \"circle\"}, \"name\": \"bananier musa\", \"showlegend\": true, \"type\": \"splom\"}, {\"diagonal\": {\"visible\": true}, \"dimensions\": [{\"axis\": {\"matches\": true}, \"label\": \"count x\", \"values\": [6]}, {\"axis\": {\"matches\": true}, \"label\": \"count y\", \"values\": [4]}], \"hovertemplate\": \"prefLabel=chou de Milan<br>%{xaxis.title.text}=%{x}<br>%{yaxis.title.text}=%{y}<extra></extra>\", \"legendgroup\": \"chou de Milan\", \"marker\": {\"color\": \"#00cc96\", \"symbol\": \"circle\"}, \"name\": \"chou de Milan\", \"showlegend\": true, \"type\": \"splom\"}, {\"diagonal\": {\"visible\": true}, \"dimensions\": [{\"axis\": {\"matches\": true}, \"label\": \"count x\", \"values\": [5]}, {\"axis\": {\"matches\": true}, \"label\": \"count y\", \"values\": [1]}], \"hovertemplate\": \"prefLabel=chou cabus rouge<br>%{xaxis.title.text}=%{x}<br>%{yaxis.title.text}=%{y}<extra></extra>\", \"legendgroup\": \"chou cabus rouge\", \"marker\": {\"color\": \"#ab63fa\", \"symbol\": \"circle\"}, \"name\": \"chou cabus rouge\", \"showlegend\": true, \"type\": \"splom\"}, {\"diagonal\": {\"visible\": true}, \"dimensions\": [{\"axis\": {\"matches\": true}, \"label\": \"count x\", \"values\": [5]}, {\"axis\": {\"matches\": true}, \"label\": \"count y\", \"values\": [4]}], \"hovertemplate\": \"prefLabel=noisetier<br>%{xaxis.title.text}=%{x}<br>%{yaxis.title.text}=%{y}<extra></extra>\", \"legendgroup\": \"noisetier\", \"marker\": {\"color\": \"#FFA15A\", \"symbol\": \"circle\"}, \"name\": \"noisetier\", \"showlegend\": true, \"type\": \"splom\"}, {\"diagonal\": {\"visible\": true}, \"dimensions\": [{\"axis\": {\"matches\": true}, \"label\": \"count x\", \"values\": [5]}, {\"axis\": {\"matches\": true}, \"label\": \"count y\", \"values\": [17]}], \"hovertemplate\": \"prefLabel=roquette<br>%{xaxis.title.text}=%{x}<br>%{yaxis.title.text}=%{y}<extra></extra>\", \"legendgroup\": \"roquette\", \"marker\": {\"color\": \"#19d3f3\", \"symbol\": \"circle\"}, \"name\": \"roquette\", \"showlegend\": true, \"type\": \"splom\"}, {\"diagonal\": {\"visible\": true}, \"dimensions\": [{\"axis\": {\"matches\": true}, \"label\": \"count x\", \"values\": [5]}, {\"axis\": {\"matches\": true}, \"label\": \"count y\", \"values\": [8]}], \"hovertemplate\": \"prefLabel=poinsettia<br>%{xaxis.title.text}=%{x}<br>%{yaxis.title.text}=%{y}<extra></extra>\", \"legendgroup\": \"poinsettia\", \"marker\": {\"color\": \"#FF6692\", \"symbol\": \"circle\"}, \"name\": \"poinsettia\", \"showlegend\": true, \"type\": \"splom\"}, {\"diagonal\": {\"visible\": true}, \"dimensions\": [{\"axis\": {\"matches\": true}, \"label\": \"count x\", \"values\": [5]}, {\"axis\": {\"matches\": true}, \"label\": \"count y\", \"values\": [44]}], \"hovertemplate\": \"prefLabel=chrysanth\\u00e8me<br>%{xaxis.title.text}=%{x}<br>%{yaxis.title.text}=%{y}<extra></extra>\", \"legendgroup\": \"chrysanth\\u00e8me\", \"marker\": {\"color\": \"#B6E880\", \"symbol\": \"circle\"}, \"name\": \"chrysanth\\u00e8me\", \"showlegend\": true, \"type\": \"splom\"}, {\"diagonal\": {\"visible\": true}, \"dimensions\": [{\"axis\": {\"matches\": true}, \"label\": \"count x\", \"values\": [5]}, {\"axis\": {\"matches\": true}, \"label\": \"count y\", \"values\": [2]}], \"hovertemplate\": \"prefLabel=chou-navet \\u00e0 chair jaune<br>%{xaxis.title.text}=%{x}<br>%{yaxis.title.text}=%{y}<extra></extra>\", \"legendgroup\": \"chou-navet \\u00e0 chair jaune\", \"marker\": {\"color\": \"#FF97FF\", \"symbol\": \"circle\"}, \"name\": \"chou-navet \\u00e0 chair jaune\", \"showlegend\": true, \"type\": \"splom\"}, {\"diagonal\": {\"visible\": true}, \"dimensions\": [{\"axis\": {\"matches\": true}, \"label\": \"count x\", \"values\": [5]}, {\"axis\": {\"matches\": true}, \"label\": \"count y\", \"values\": [1]}], \"hovertemplate\": \"prefLabel=phac\\u00e9lie<br>%{xaxis.title.text}=%{x}<br>%{yaxis.title.text}=%{y}<extra></extra>\", \"legendgroup\": \"phac\\u00e9lie\", \"marker\": {\"color\": \"#FECB52\", \"symbol\": \"circle\"}, \"name\": \"phac\\u00e9lie\", \"showlegend\": true, \"type\": \"splom\"}, {\"diagonal\": {\"visible\": true}, \"dimensions\": [{\"axis\": {\"matches\": true}, \"label\": \"count x\", \"values\": [5]}, {\"axis\": {\"matches\": true}, \"label\": \"count y\", \"values\": [2]}], \"hovertemplate\": \"prefLabel=fenouil<br>%{xaxis.title.text}=%{x}<br>%{yaxis.title.text}=%{y}<extra></extra>\", \"legendgroup\": \"fenouil\", \"marker\": {\"color\": \"#636efa\", \"symbol\": \"circle\"}, \"name\": \"fenouil\", \"showlegend\": true, \"type\": \"splom\"}, {\"diagonal\": {\"visible\": true}, \"dimensions\": [{\"axis\": {\"matches\": true}, \"label\": \"count x\", \"values\": [4]}, {\"axis\": {\"matches\": true}, \"label\": \"count y\", \"values\": [3]}], \"hovertemplate\": \"prefLabel=ma\\u00efs fourrage<br>%{xaxis.title.text}=%{x}<br>%{yaxis.title.text}=%{y}<extra></extra>\", \"legendgroup\": \"ma\\u00efs fourrage\", \"marker\": {\"color\": \"#EF553B\", \"symbol\": \"circle\"}, \"name\": \"ma\\u00efs fourrage\", \"showlegend\": true, \"type\": \"splom\"}, {\"diagonal\": {\"visible\": true}, \"dimensions\": [{\"axis\": {\"matches\": true}, \"label\": \"count x\", \"values\": [4]}, {\"axis\": {\"matches\": true}, \"label\": \"count y\", \"values\": [8]}], \"hovertemplate\": \"prefLabel=c\\u00e9r\\u00e9ale fourrag\\u00e8re<br>%{xaxis.title.text}=%{x}<br>%{yaxis.title.text}=%{y}<extra></extra>\", \"legendgroup\": \"c\\u00e9r\\u00e9ale fourrag\\u00e8re\", \"marker\": {\"color\": \"#00cc96\", \"symbol\": \"circle\"}, \"name\": \"c\\u00e9r\\u00e9ale fourrag\\u00e8re\", \"showlegend\": true, \"type\": \"splom\"}, {\"diagonal\": {\"visible\": true}, \"dimensions\": [{\"axis\": {\"matches\": true}, \"label\": \"count x\", \"values\": [4]}, {\"axis\": {\"matches\": true}, \"label\": \"count y\", \"values\": [4]}], \"hovertemplate\": \"prefLabel=pissenlit<br>%{xaxis.title.text}=%{x}<br>%{yaxis.title.text}=%{y}<extra></extra>\", \"legendgroup\": \"pissenlit\", \"marker\": {\"color\": \"#ab63fa\", \"symbol\": \"circle\"}, \"name\": \"pissenlit\", \"showlegend\": true, \"type\": \"splom\"}, {\"diagonal\": {\"visible\": true}, \"dimensions\": [{\"axis\": {\"matches\": true}, \"label\": \"count x\", \"values\": [4]}, {\"axis\": {\"matches\": true}, \"label\": \"count y\", \"values\": [8]}], \"hovertemplate\": \"prefLabel=culture fourrag\\u00e8re<br>%{xaxis.title.text}=%{x}<br>%{yaxis.title.text}=%{y}<extra></extra>\", \"legendgroup\": \"culture fourrag\\u00e8re\", \"marker\": {\"color\": \"#FFA15A\", \"symbol\": \"circle\"}, \"name\": \"culture fourrag\\u00e8re\", \"showlegend\": true, \"type\": \"splom\"}, {\"diagonal\": {\"visible\": true}, \"dimensions\": [{\"axis\": {\"matches\": true}, \"label\": \"count x\", \"values\": [4]}, {\"axis\": {\"matches\": true}, \"label\": \"count y\", \"values\": [14]}], \"hovertemplate\": \"prefLabel=seigle<br>%{xaxis.title.text}=%{x}<br>%{yaxis.title.text}=%{y}<extra></extra>\", \"legendgroup\": \"seigle\", \"marker\": {\"color\": \"#19d3f3\", \"symbol\": \"circle\"}, \"name\": \"seigle\", \"showlegend\": true, \"type\": \"splom\"}, {\"diagonal\": {\"visible\": true}, \"dimensions\": [{\"axis\": {\"matches\": true}, \"label\": \"count x\", \"values\": [4]}, {\"axis\": {\"matches\": true}, \"label\": \"count y\", \"values\": [2]}], \"hovertemplate\": \"prefLabel=surface toujours en herbe<br>%{xaxis.title.text}=%{x}<br>%{yaxis.title.text}=%{y}<extra></extra>\", \"legendgroup\": \"surface toujours en herbe\", \"marker\": {\"color\": \"#FF6692\", \"symbol\": \"circle\"}, \"name\": \"surface toujours en herbe\", \"showlegend\": true, \"type\": \"splom\"}, {\"diagonal\": {\"visible\": true}, \"dimensions\": [{\"axis\": {\"matches\": true}, \"label\": \"count x\", \"values\": [3]}, {\"axis\": {\"matches\": true}, \"label\": \"count y\", \"values\": [2]}], \"hovertemplate\": \"prefLabel=engrais vert<br>%{xaxis.title.text}=%{x}<br>%{yaxis.title.text}=%{y}<extra></extra>\", \"legendgroup\": \"engrais vert\", \"marker\": {\"color\": \"#B6E880\", \"symbol\": \"circle\"}, \"name\": \"engrais vert\", \"showlegend\": true, \"type\": \"splom\"}, {\"diagonal\": {\"visible\": true}, \"dimensions\": [{\"axis\": {\"matches\": true}, \"label\": \"count x\", \"values\": [3]}, {\"axis\": {\"matches\": true}, \"label\": \"count y\", \"values\": [2]}], \"hovertemplate\": \"prefLabel=tr\\u00e8fle<br>%{xaxis.title.text}=%{x}<br>%{yaxis.title.text}=%{y}<extra></extra>\", \"legendgroup\": \"tr\\u00e8fle\", \"marker\": {\"color\": \"#FF97FF\", \"symbol\": \"circle\"}, \"name\": \"tr\\u00e8fle\", \"showlegend\": true, \"type\": \"splom\"}, {\"diagonal\": {\"visible\": true}, \"dimensions\": [{\"axis\": {\"matches\": true}, \"label\": \"count x\", \"values\": [3]}, {\"axis\": {\"matches\": true}, \"label\": \"count y\", \"values\": [7]}], \"hovertemplate\": \"prefLabel=chou de Bruxelles<br>%{xaxis.title.text}=%{x}<br>%{yaxis.title.text}=%{y}<extra></extra>\", \"legendgroup\": \"chou de Bruxelles\", \"marker\": {\"color\": \"#FECB52\", \"symbol\": \"circle\"}, \"name\": \"chou de Bruxelles\", \"showlegend\": true, \"type\": \"splom\"}, {\"diagonal\": {\"visible\": true}, \"dimensions\": [{\"axis\": {\"matches\": true}, \"label\": \"count x\", \"values\": [3]}, {\"axis\": {\"matches\": true}, \"label\": \"count y\", \"values\": [10]}], \"hovertemplate\": \"prefLabel=groseillier<br>%{xaxis.title.text}=%{x}<br>%{yaxis.title.text}=%{y}<extra></extra>\", \"legendgroup\": \"groseillier\", \"marker\": {\"color\": \"#636efa\", \"symbol\": \"circle\"}, \"name\": \"groseillier\", \"showlegend\": true, \"type\": \"splom\"}, {\"diagonal\": {\"visible\": true}, \"dimensions\": [{\"axis\": {\"matches\": true}, \"label\": \"count x\", \"values\": [3]}, {\"axis\": {\"matches\": true}, \"label\": \"count y\", \"values\": [6]}], \"hovertemplate\": \"prefLabel=myrtille<br>%{xaxis.title.text}=%{x}<br>%{yaxis.title.text}=%{y}<extra></extra>\", \"legendgroup\": \"myrtille\", \"marker\": {\"color\": \"#EF553B\", \"symbol\": \"circle\"}, \"name\": \"myrtille\", \"showlegend\": true, \"type\": \"splom\"}, {\"diagonal\": {\"visible\": true}, \"dimensions\": [{\"axis\": {\"matches\": true}, \"label\": \"count x\", \"values\": [3]}, {\"axis\": {\"matches\": true}, \"label\": \"count y\", \"values\": [1]}], \"hovertemplate\": \"prefLabel=chanvre<br>%{xaxis.title.text}=%{x}<br>%{yaxis.title.text}=%{y}<extra></extra>\", \"legendgroup\": \"chanvre\", \"marker\": {\"color\": \"#00cc96\", \"symbol\": \"circle\"}, \"name\": \"chanvre\", \"showlegend\": true, \"type\": \"splom\"}, {\"diagonal\": {\"visible\": true}, \"dimensions\": [{\"axis\": {\"matches\": true}, \"label\": \"count x\", \"values\": [3]}, {\"axis\": {\"matches\": true}, \"label\": \"count y\", \"values\": [2]}], \"hovertemplate\": \"prefLabel=colza d'hiver<br>%{xaxis.title.text}=%{x}<br>%{yaxis.title.text}=%{y}<extra></extra>\", \"legendgroup\": \"colza d'hiver\", \"marker\": {\"color\": \"#ab63fa\", \"symbol\": \"circle\"}, \"name\": \"colza d'hiver\", \"showlegend\": true, \"type\": \"splom\"}, {\"diagonal\": {\"visible\": true}, \"dimensions\": [{\"axis\": {\"matches\": true}, \"label\": \"count x\", \"values\": [3]}, {\"axis\": {\"matches\": true}, \"label\": \"count y\", \"values\": [3]}], \"hovertemplate\": \"prefLabel=culture industrielle<br>%{xaxis.title.text}=%{x}<br>%{yaxis.title.text}=%{y}<extra></extra>\", \"legendgroup\": \"culture industrielle\", \"marker\": {\"color\": \"#FFA15A\", \"symbol\": \"circle\"}, \"name\": \"culture industrielle\", \"showlegend\": true, \"type\": \"splom\"}, {\"diagonal\": {\"visible\": true}, \"dimensions\": [{\"axis\": {\"matches\": true}, \"label\": \"count x\", \"values\": [2]}, {\"axis\": {\"matches\": true}, \"label\": \"count y\", \"values\": [1]}], \"hovertemplate\": \"prefLabel=bl\\u00e9 dur d'hiver<br>%{xaxis.title.text}=%{x}<br>%{yaxis.title.text}=%{y}<extra></extra>\", \"legendgroup\": \"bl\\u00e9 dur d'hiver\", \"marker\": {\"color\": \"#19d3f3\", \"symbol\": \"circle\"}, \"name\": \"bl\\u00e9 dur d'hiver\", \"showlegend\": true, \"type\": \"splom\"}, {\"diagonal\": {\"visible\": true}, \"dimensions\": [{\"axis\": {\"matches\": true}, \"label\": \"count x\", \"values\": [2]}, {\"axis\": {\"matches\": true}, \"label\": \"count y\", \"values\": [5]}], \"hovertemplate\": \"prefLabel=c\\u00e9leri \\u00e0 cotes<br>%{xaxis.title.text}=%{x}<br>%{yaxis.title.text}=%{y}<extra></extra>\", \"legendgroup\": \"c\\u00e9leri \\u00e0 cotes\", \"marker\": {\"color\": \"#FF6692\", \"symbol\": \"circle\"}, \"name\": \"c\\u00e9leri \\u00e0 cotes\", \"showlegend\": true, \"type\": \"splom\"}, {\"diagonal\": {\"visible\": true}, \"dimensions\": [{\"axis\": {\"matches\": true}, \"label\": \"count x\", \"values\": [2]}, {\"axis\": {\"matches\": true}, \"label\": \"count y\", \"values\": [1]}], \"hovertemplate\": \"prefLabel=chou fris\\u00e9<br>%{xaxis.title.text}=%{x}<br>%{yaxis.title.text}=%{y}<extra></extra>\", \"legendgroup\": \"chou fris\\u00e9\", \"marker\": {\"color\": \"#B6E880\", \"symbol\": \"circle\"}, \"name\": \"chou fris\\u00e9\", \"showlegend\": true, \"type\": \"splom\"}, {\"diagonal\": {\"visible\": true}, \"dimensions\": [{\"axis\": {\"matches\": true}, \"label\": \"count x\", \"values\": [1]}, {\"axis\": {\"matches\": true}, \"label\": \"count y\", \"values\": [4]}], \"hovertemplate\": \"prefLabel=laitue beurre pomm\\u00e9e<br>%{xaxis.title.text}=%{x}<br>%{yaxis.title.text}=%{y}<extra></extra>\", \"legendgroup\": \"laitue beurre pomm\\u00e9e\", \"marker\": {\"color\": \"#FF97FF\", \"symbol\": \"circle\"}, \"name\": \"laitue beurre pomm\\u00e9e\", \"showlegend\": true, \"type\": \"splom\"}, {\"diagonal\": {\"visible\": true}, \"dimensions\": [{\"axis\": {\"matches\": true}, \"label\": \"count x\", \"values\": [1]}, {\"axis\": {\"matches\": true}, \"label\": \"count y\", \"values\": [1]}], \"hovertemplate\": \"prefLabel=betterave sucri\\u00e8re<br>%{xaxis.title.text}=%{x}<br>%{yaxis.title.text}=%{y}<extra></extra>\", \"legendgroup\": \"betterave sucri\\u00e8re\", \"marker\": {\"color\": \"#FECB52\", \"symbol\": \"circle\"}, \"name\": \"betterave sucri\\u00e8re\", \"showlegend\": true, \"type\": \"splom\"}, {\"diagonal\": {\"visible\": true}, \"dimensions\": [{\"axis\": {\"matches\": true}, \"label\": \"count x\", \"values\": [1]}, {\"axis\": {\"matches\": true}, \"label\": \"count y\", \"values\": [12]}], \"hovertemplate\": \"prefLabel=cl\\u00e9mentinier<br>%{xaxis.title.text}=%{x}<br>%{yaxis.title.text}=%{y}<extra></extra>\", \"legendgroup\": \"cl\\u00e9mentinier\", \"marker\": {\"color\": \"#636efa\", \"symbol\": \"circle\"}, \"name\": \"cl\\u00e9mentinier\", \"showlegend\": true, \"type\": \"splom\"}, {\"diagonal\": {\"visible\": true}, \"dimensions\": [{\"axis\": {\"matches\": true}, \"label\": \"count x\", \"values\": [1]}, {\"axis\": {\"matches\": true}, \"label\": \"count y\", \"values\": [2]}], \"hovertemplate\": \"prefLabel=cognassier<br>%{xaxis.title.text}=%{x}<br>%{yaxis.title.text}=%{y}<extra></extra>\", \"legendgroup\": \"cognassier\", \"marker\": {\"color\": \"#EF553B\", \"symbol\": \"circle\"}, \"name\": \"cognassier\", \"showlegend\": true, \"type\": \"splom\"}, {\"diagonal\": {\"visible\": true}, \"dimensions\": [{\"axis\": {\"matches\": true}, \"label\": \"count x\", \"values\": [1]}, {\"axis\": {\"matches\": true}, \"label\": \"count y\", \"values\": [5]}], \"hovertemplate\": \"prefLabel=millet<br>%{xaxis.title.text}=%{x}<br>%{yaxis.title.text}=%{y}<extra></extra>\", \"legendgroup\": \"millet\", \"marker\": {\"color\": \"#00cc96\", \"symbol\": \"circle\"}, \"name\": \"millet\", \"showlegend\": true, \"type\": \"splom\"}, {\"diagonal\": {\"visible\": true}, \"dimensions\": [{\"axis\": {\"matches\": true}, \"label\": \"count x\", \"values\": [1]}, {\"axis\": {\"matches\": true}, \"label\": \"count y\", \"values\": [1]}], \"hovertemplate\": \"prefLabel=\\u00e9chalion<br>%{xaxis.title.text}=%{x}<br>%{yaxis.title.text}=%{y}<extra></extra>\", \"legendgroup\": \"\\u00e9chalion\", \"marker\": {\"color\": \"#ab63fa\", \"symbol\": \"circle\"}, \"name\": \"\\u00e9chalion\", \"showlegend\": true, \"type\": \"splom\"}, {\"diagonal\": {\"visible\": true}, \"dimensions\": [{\"axis\": {\"matches\": true}, \"label\": \"count x\", \"values\": [1]}, {\"axis\": {\"matches\": true}, \"label\": \"count y\", \"values\": [1]}], \"hovertemplate\": \"prefLabel=colza de printemps<br>%{xaxis.title.text}=%{x}<br>%{yaxis.title.text}=%{y}<extra></extra>\", \"legendgroup\": \"colza de printemps\", \"marker\": {\"color\": \"#FFA15A\", \"symbol\": \"circle\"}, \"name\": \"colza de printemps\", \"showlegend\": true, \"type\": \"splom\"}],                        {\"dragmode\": \"select\", \"legend\": {\"title\": {\"text\": \"prefLabel\"}, \"tracegroupgap\": 0}, \"template\": {\"data\": {\"bar\": [{\"error_x\": {\"color\": \"#2a3f5f\"}, \"error_y\": {\"color\": \"#2a3f5f\"}, \"marker\": {\"line\": {\"color\": \"#E5ECF6\", \"width\": 0.5}}, \"type\": \"bar\"}], \"barpolar\": [{\"marker\": {\"line\": {\"color\": \"#E5ECF6\", \"width\": 0.5}}, \"type\": \"barpolar\"}], \"carpet\": [{\"aaxis\": {\"endlinecolor\": \"#2a3f5f\", \"gridcolor\": \"white\", \"linecolor\": \"white\", \"minorgridcolor\": \"white\", \"startlinecolor\": \"#2a3f5f\"}, \"baxis\": {\"endlinecolor\": \"#2a3f5f\", \"gridcolor\": \"white\", \"linecolor\": \"white\", \"minorgridcolor\": \"white\", \"startlinecolor\": \"#2a3f5f\"}, \"type\": \"carpet\"}], \"choropleth\": [{\"colorbar\": {\"outlinewidth\": 0, \"ticks\": \"\"}, \"type\": \"choropleth\"}], \"contour\": [{\"colorbar\": {\"outlinewidth\": 0, \"ticks\": \"\"}, \"colorscale\": [[0.0, \"#0d0887\"], [0.1111111111111111, \"#46039f\"], [0.2222222222222222, \"#7201a8\"], [0.3333333333333333, \"#9c179e\"], [0.4444444444444444, \"#bd3786\"], [0.5555555555555556, \"#d8576b\"], [0.6666666666666666, \"#ed7953\"], [0.7777777777777778, \"#fb9f3a\"], [0.8888888888888888, \"#fdca26\"], [1.0, \"#f0f921\"]], \"type\": \"contour\"}], \"contourcarpet\": [{\"colorbar\": {\"outlinewidth\": 0, \"ticks\": \"\"}, \"type\": \"contourcarpet\"}], \"heatmap\": [{\"colorbar\": {\"outlinewidth\": 0, \"ticks\": \"\"}, \"colorscale\": [[0.0, \"#0d0887\"], [0.1111111111111111, \"#46039f\"], [0.2222222222222222, \"#7201a8\"], [0.3333333333333333, \"#9c179e\"], [0.4444444444444444, \"#bd3786\"], [0.5555555555555556, \"#d8576b\"], [0.6666666666666666, \"#ed7953\"], [0.7777777777777778, \"#fb9f3a\"], [0.8888888888888888, \"#fdca26\"], [1.0, \"#f0f921\"]], \"type\": \"heatmap\"}], \"heatmapgl\": [{\"colorbar\": {\"outlinewidth\": 0, \"ticks\": \"\"}, \"colorscale\": [[0.0, \"#0d0887\"], [0.1111111111111111, \"#46039f\"], [0.2222222222222222, \"#7201a8\"], [0.3333333333333333, \"#9c179e\"], [0.4444444444444444, \"#bd3786\"], [0.5555555555555556, \"#d8576b\"], [0.6666666666666666, \"#ed7953\"], [0.7777777777777778, \"#fb9f3a\"], [0.8888888888888888, \"#fdca26\"], [1.0, \"#f0f921\"]], \"type\": \"heatmapgl\"}], \"histogram\": [{\"marker\": {\"colorbar\": {\"outlinewidth\": 0, \"ticks\": \"\"}}, \"type\": \"histogram\"}], \"histogram2d\": [{\"colorbar\": {\"outlinewidth\": 0, \"ticks\": \"\"}, \"colorscale\": [[0.0, \"#0d0887\"], [0.1111111111111111, \"#46039f\"], [0.2222222222222222, \"#7201a8\"], [0.3333333333333333, \"#9c179e\"], [0.4444444444444444, \"#bd3786\"], [0.5555555555555556, \"#d8576b\"], [0.6666666666666666, \"#ed7953\"], [0.7777777777777778, \"#fb9f3a\"], [0.8888888888888888, \"#fdca26\"], [1.0, \"#f0f921\"]], \"type\": \"histogram2d\"}], \"histogram2dcontour\": [{\"colorbar\": {\"outlinewidth\": 0, \"ticks\": \"\"}, \"colorscale\": [[0.0, \"#0d0887\"], [0.1111111111111111, \"#46039f\"], [0.2222222222222222, \"#7201a8\"], [0.3333333333333333, \"#9c179e\"], [0.4444444444444444, \"#bd3786\"], [0.5555555555555556, \"#d8576b\"], [0.6666666666666666, \"#ed7953\"], [0.7777777777777778, \"#fb9f3a\"], [0.8888888888888888, \"#fdca26\"], [1.0, \"#f0f921\"]], \"type\": \"histogram2dcontour\"}], \"mesh3d\": [{\"colorbar\": {\"outlinewidth\": 0, \"ticks\": \"\"}, \"type\": \"mesh3d\"}], \"parcoords\": [{\"line\": {\"colorbar\": {\"outlinewidth\": 0, \"ticks\": \"\"}}, \"type\": \"parcoords\"}], \"pie\": [{\"automargin\": true, \"type\": \"pie\"}], \"scatter\": [{\"marker\": {\"colorbar\": {\"outlinewidth\": 0, \"ticks\": \"\"}}, \"type\": \"scatter\"}], \"scatter3d\": [{\"line\": {\"colorbar\": {\"outlinewidth\": 0, \"ticks\": \"\"}}, \"marker\": {\"colorbar\": {\"outlinewidth\": 0, \"ticks\": \"\"}}, \"type\": \"scatter3d\"}], \"scattercarpet\": [{\"marker\": {\"colorbar\": {\"outlinewidth\": 0, \"ticks\": \"\"}}, \"type\": \"scattercarpet\"}], \"scattergeo\": [{\"marker\": {\"colorbar\": {\"outlinewidth\": 0, \"ticks\": \"\"}}, \"type\": \"scattergeo\"}], \"scattergl\": [{\"marker\": {\"colorbar\": {\"outlinewidth\": 0, \"ticks\": \"\"}}, \"type\": \"scattergl\"}], \"scattermapbox\": [{\"marker\": {\"colorbar\": {\"outlinewidth\": 0, \"ticks\": \"\"}}, \"type\": \"scattermapbox\"}], \"scatterpolar\": [{\"marker\": {\"colorbar\": {\"outlinewidth\": 0, \"ticks\": \"\"}}, \"type\": \"scatterpolar\"}], \"scatterpolargl\": [{\"marker\": {\"colorbar\": {\"outlinewidth\": 0, \"ticks\": \"\"}}, \"type\": \"scatterpolargl\"}], \"scatterternary\": [{\"marker\": {\"colorbar\": {\"outlinewidth\": 0, \"ticks\": \"\"}}, \"type\": \"scatterternary\"}], \"surface\": [{\"colorbar\": {\"outlinewidth\": 0, \"ticks\": \"\"}, \"colorscale\": [[0.0, \"#0d0887\"], [0.1111111111111111, \"#46039f\"], [0.2222222222222222, \"#7201a8\"], [0.3333333333333333, \"#9c179e\"], [0.4444444444444444, \"#bd3786\"], [0.5555555555555556, \"#d8576b\"], [0.6666666666666666, \"#ed7953\"], [0.7777777777777778, \"#fb9f3a\"], [0.8888888888888888, \"#fdca26\"], [1.0, \"#f0f921\"]], \"type\": \"surface\"}], \"table\": [{\"cells\": {\"fill\": {\"color\": \"#EBF0F8\"}, \"line\": {\"color\": \"white\"}}, \"header\": {\"fill\": {\"color\": \"#C8D4E3\"}, \"line\": {\"color\": \"white\"}}, \"type\": \"table\"}]}, \"layout\": {\"annotationdefaults\": {\"arrowcolor\": \"#2a3f5f\", \"arrowhead\": 0, \"arrowwidth\": 1}, \"autotypenumbers\": \"strict\", \"coloraxis\": {\"colorbar\": {\"outlinewidth\": 0, \"ticks\": \"\"}}, \"colorscale\": {\"diverging\": [[0, \"#8e0152\"], [0.1, \"#c51b7d\"], [0.2, \"#de77ae\"], [0.3, \"#f1b6da\"], [0.4, \"#fde0ef\"], [0.5, \"#f7f7f7\"], [0.6, \"#e6f5d0\"], [0.7, \"#b8e186\"], [0.8, \"#7fbc41\"], [0.9, \"#4d9221\"], [1, \"#276419\"]], \"sequential\": [[0.0, \"#0d0887\"], [0.1111111111111111, \"#46039f\"], [0.2222222222222222, \"#7201a8\"], [0.3333333333333333, \"#9c179e\"], [0.4444444444444444, \"#bd3786\"], [0.5555555555555556, \"#d8576b\"], [0.6666666666666666, \"#ed7953\"], [0.7777777777777778, \"#fb9f3a\"], [0.8888888888888888, \"#fdca26\"], [1.0, \"#f0f921\"]], \"sequentialminus\": [[0.0, \"#0d0887\"], [0.1111111111111111, \"#46039f\"], [0.2222222222222222, \"#7201a8\"], [0.3333333333333333, \"#9c179e\"], [0.4444444444444444, \"#bd3786\"], [0.5555555555555556, \"#d8576b\"], [0.6666666666666666, \"#ed7953\"], [0.7777777777777778, \"#fb9f3a\"], [0.8888888888888888, \"#fdca26\"], [1.0, \"#f0f921\"]]}, \"colorway\": [\"#636efa\", \"#EF553B\", \"#00cc96\", \"#ab63fa\", \"#FFA15A\", \"#19d3f3\", \"#FF6692\", \"#B6E880\", \"#FF97FF\", \"#FECB52\"], \"font\": {\"color\": \"#2a3f5f\"}, \"geo\": {\"bgcolor\": \"white\", \"lakecolor\": \"white\", \"landcolor\": \"#E5ECF6\", \"showlakes\": true, \"showland\": true, \"subunitcolor\": \"white\"}, \"hoverlabel\": {\"align\": \"left\"}, \"hovermode\": \"closest\", \"mapbox\": {\"style\": \"light\"}, \"paper_bgcolor\": \"white\", \"plot_bgcolor\": \"#E5ECF6\", \"polar\": {\"angularaxis\": {\"gridcolor\": \"white\", \"linecolor\": \"white\", \"ticks\": \"\"}, \"bgcolor\": \"#E5ECF6\", \"radialaxis\": {\"gridcolor\": \"white\", \"linecolor\": \"white\", \"ticks\": \"\"}}, \"scene\": {\"xaxis\": {\"backgroundcolor\": \"#E5ECF6\", \"gridcolor\": \"white\", \"gridwidth\": 2, \"linecolor\": \"white\", \"showbackground\": true, \"ticks\": \"\", \"zerolinecolor\": \"white\"}, \"yaxis\": {\"backgroundcolor\": \"#E5ECF6\", \"gridcolor\": \"white\", \"gridwidth\": 2, \"linecolor\": \"white\", \"showbackground\": true, \"ticks\": \"\", \"zerolinecolor\": \"white\"}, \"zaxis\": {\"backgroundcolor\": \"#E5ECF6\", \"gridcolor\": \"white\", \"gridwidth\": 2, \"linecolor\": \"white\", \"showbackground\": true, \"ticks\": \"\", \"zerolinecolor\": \"white\"}}, \"shapedefaults\": {\"line\": {\"color\": \"#2a3f5f\"}}, \"ternary\": {\"aaxis\": {\"gridcolor\": \"white\", \"linecolor\": \"white\", \"ticks\": \"\"}, \"baxis\": {\"gridcolor\": \"white\", \"linecolor\": \"white\", \"ticks\": \"\"}, \"bgcolor\": \"#E5ECF6\", \"caxis\": {\"gridcolor\": \"white\", \"linecolor\": \"white\", \"ticks\": \"\"}}, \"title\": {\"x\": 0.05}, \"xaxis\": {\"automargin\": true, \"gridcolor\": \"white\", \"linecolor\": \"white\", \"ticks\": \"\", \"title\": {\"standoff\": 15}, \"zerolinecolor\": \"white\", \"zerolinewidth\": 2}, \"yaxis\": {\"automargin\": true, \"gridcolor\": \"white\", \"linecolor\": \"white\", \"ticks\": \"\", \"title\": {\"standoff\": 15}, \"zerolinecolor\": \"white\", \"zerolinewidth\": 2}}}, \"title\": {\"text\": \"Scatter matrix of term Frequency\"}},                        {\"responsive\": true}                    ).then(function(){\n",
       "                            \n",
       "var gd = document.getElementById('1c8d476f-c5e5-4ba0-b45f-fedceeb0455b');\n",
       "var x = new MutationObserver(function (mutations, observer) {{\n",
       "        var display = window.getComputedStyle(gd).display;\n",
       "        if (!display || display === 'none') {{\n",
       "            console.log([gd, 'removed!']);\n",
       "            Plotly.purge(gd);\n",
       "            observer.disconnect();\n",
       "        }}\n",
       "}});\n",
       "\n",
       "// Listen for the removal of the full notebook cells\n",
       "var notebookContainer = gd.closest('#notebook-container');\n",
       "if (notebookContainer) {{\n",
       "    x.observe(notebookContainer, {childList: true});\n",
       "}}\n",
       "\n",
       "// Listen for the clearing of the current output cell\n",
       "var outputEl = gd.closest('.output');\n",
       "if (outputEl) {{\n",
       "    x.observe(outputEl, {childList: true});\n",
       "}}\n",
       "\n",
       "                        })                };                });            </script>        </div>"
      ]
     },
     "metadata": {},
     "output_type": "display_data"
    }
   ],
   "source": [
    "from plotly.subplots import make_subplots\n",
    "\n",
    "fig = px.scatter_matrix(result,\n",
    "    dimensions=[\"count_x\", \"count_y\"],\n",
    "    color=\"prefLabel\",\n",
    "    title=\"Scatter matrix of term Frequency\",\n",
    "    labels={col:col.replace('_', ' ') for col in result.columns}) # remove underscore\n",
    "fig.update_traces(diagonal_visible=True)\n",
    "fig.show()\n",
    "\n",
    "\n"
   ]
  },
  {
   "cell_type": "code",
   "execution_count": 199,
   "metadata": {},
   "outputs": [
    {
     "data": {
      "application/vnd.plotly.v1+json": {
       "config": {
        "plotlyServerURL": "https://plotly.com"
       },
       "data": [
        {
         "hovertemplate": "variable=count_x<br>prefLabel=%{x}<br>value=%{y}<extra></extra>",
         "legendgroup": "count_x",
         "line": {
          "color": "#636efa",
          "dash": "solid"
         },
         "mode": "lines",
         "name": "count_x",
         "orientation": "v",
         "showlegend": true,
         "type": "scatter",
         "x": [
          "vigne",
          "colza",
          "chou",
          "chou potager",
          "blé",
          "pommier",
          "maïs",
          "tomate",
          "carotte",
          "arboriculture fruitière",
          "oignon",
          "culture légumière",
          "arbuste à baies",
          "pois",
          "floriculture",
          "poireau",
          "céréale à paille",
          "maraîchage",
          "céréale",
          "lin",
          "céleri",
          "arboriculture",
          "pomme de terre",
          "poirier",
          "salade",
          "betterave",
          "blé tendre",
          "tournesol",
          "aubergine",
          "orge",
          "semence",
          "concombre",
          "zone non agricole",
          "fraisier",
          "oléagineux",
          "courgette",
          "pêcher",
          "cerisier",
          "culture fruitière",
          "laitue",
          "poivron",
          "melon",
          "lin oléagineux",
          "prunier",
          "poirée",
          "blé dur",
          "radis",
          "haricot",
          "légume à graines ou à gousses",
          "abricotier",
          "jardin",
          "persil",
          "soja",
          "orge d'hiver",
          "échalote",
          "pois protéagineux de printemps",
          "navet potager",
          "tabac",
          "oranger",
          "courge",
          "féverole",
          "olivier",
          "rosier ornemental",
          "mâche",
          "asperge",
          "vigne de cuve",
          "chicorée endive",
          "lin oléagineux d'hiver",
          "horticulture ornementale",
          "orge de printemps",
          "épinard",
          "ciboulette",
          "blé tendre d'hiver",
          "arbre fruitier à noyau",
          "triticale",
          "pomme de terre potagère",
          "palmier",
          "noyer",
          "bananier",
          "prairie",
          "chicorée de Bruxelle",
          "framboisier",
          "jardins familiaux",
          "chêne",
          "petit fruit",
          "haricot demi-sec",
          "laitue batavia",
          "ail",
          "gel",
          "châtaignier",
          "luzerne",
          "actinidia",
          "artichaut",
          "vigne de table",
          "rosier",
          "pois protéagineux d'hiver",
          "sorgho grain",
          "panais",
          "culture légumière de plein champ",
          "protéagineux",
          "scorsonère",
          "betterave potagère",
          "sorgho",
          "agrume",
          "piment",
          "laurier",
          "olivier fruit à noyaux",
          "Chou cabus blanc",
          "fève",
          "céleri-rave",
          "orge à six rangs",
          "amandier",
          "chicorée scarole",
          "chicorée",
          "chou pommé",
          "chou brocoli",
          "cresson",
          "lin oléagineux de printemps",
          "chou-fleur",
          "féverole d'hiver",
          "cassissier",
          "citronnier",
          "haricot vert",
          "manguier",
          "géranium",
          "maïs doux",
          "laitue à couper",
          "féverole de printemps",
          "moutarde",
          "maïs grain",
          "fourrage annuel",
          "chou chinois",
          "avoine",
          "figuier",
          "bananier plantain",
          "riz",
          "goyavier",
          "cerfeuil",
          "ray-grass",
          "pois protéagineux",
          "ananas",
          "bananier musa",
          "chou de Milan",
          "chou cabus rouge",
          "noisetier",
          "roquette",
          "poinsettia",
          "chrysanthème",
          "chou-navet à chair jaune",
          "phacélie",
          "fenouil",
          "maïs fourrage",
          "céréale fourragère",
          "pissenlit",
          "culture fourragère",
          "seigle",
          "surface toujours en herbe",
          "engrais vert",
          "trèfle",
          "chou de Bruxelles",
          "groseillier",
          "myrtille",
          "chanvre",
          "colza d'hiver",
          "culture industrielle",
          "blé dur d'hiver",
          "céleri à cotes",
          "chou frisé",
          "laitue beurre pommée",
          "betterave sucrière",
          "clémentinier",
          "cognassier",
          "millet",
          "échalion",
          "colza de printemps"
         ],
         "xaxis": "x",
         "y": [
          1278,
          984,
          595,
          595,
          591,
          553,
          540,
          467,
          409,
          401,
          374,
          371,
          325,
          322,
          306,
          304,
          304,
          275,
          263,
          247,
          237,
          230,
          228,
          202,
          201,
          197,
          190,
          181,
          181,
          177,
          157,
          147,
          139,
          126,
          115,
          114,
          112,
          109,
          109,
          109,
          106,
          98,
          96,
          96,
          91,
          77,
          76,
          74,
          71,
          69,
          65,
          63,
          58,
          56,
          54,
          54,
          53,
          52,
          50,
          49,
          48,
          48,
          47,
          45,
          44,
          44,
          43,
          43,
          42,
          41,
          41,
          40,
          39,
          38,
          38,
          37,
          35,
          35,
          34,
          33,
          31,
          30,
          30,
          29,
          28,
          27,
          27,
          27,
          27,
          27,
          26,
          26,
          23,
          22,
          22,
          22,
          21,
          21,
          21,
          20,
          20,
          19,
          19,
          18,
          17,
          17,
          16,
          15,
          14,
          14,
          13,
          13,
          12,
          12,
          12,
          11,
          11,
          11,
          11,
          10,
          10,
          10,
          10,
          10,
          10,
          10,
          9,
          9,
          8,
          8,
          7,
          7,
          7,
          7,
          7,
          7,
          6,
          6,
          6,
          6,
          6,
          6,
          6,
          5,
          5,
          5,
          5,
          5,
          5,
          5,
          5,
          4,
          4,
          4,
          4,
          4,
          4,
          3,
          3,
          3,
          3,
          3,
          3,
          3,
          3,
          2,
          2,
          2,
          1,
          1,
          1,
          1,
          1,
          1,
          1
         ],
         "yaxis": "y"
        },
        {
         "hovertemplate": "variable=count_y<br>prefLabel=%{x}<br>value=%{y}<extra></extra>",
         "legendgroup": "count_y",
         "line": {
          "color": "#EF553B",
          "dash": "solid"
         },
         "mode": "lines",
         "name": "count_y",
         "orientation": "v",
         "showlegend": true,
         "type": "scatter",
         "x": [
          "vigne",
          "colza",
          "chou",
          "chou potager",
          "blé",
          "pommier",
          "maïs",
          "tomate",
          "carotte",
          "arboriculture fruitière",
          "oignon",
          "culture légumière",
          "arbuste à baies",
          "pois",
          "floriculture",
          "poireau",
          "céréale à paille",
          "maraîchage",
          "céréale",
          "lin",
          "céleri",
          "arboriculture",
          "pomme de terre",
          "poirier",
          "salade",
          "betterave",
          "blé tendre",
          "tournesol",
          "aubergine",
          "orge",
          "semence",
          "concombre",
          "zone non agricole",
          "fraisier",
          "oléagineux",
          "courgette",
          "pêcher",
          "cerisier",
          "culture fruitière",
          "laitue",
          "poivron",
          "melon",
          "lin oléagineux",
          "prunier",
          "poirée",
          "blé dur",
          "radis",
          "haricot",
          "légume à graines ou à gousses",
          "abricotier",
          "jardin",
          "persil",
          "soja",
          "orge d'hiver",
          "échalote",
          "pois protéagineux de printemps",
          "navet potager",
          "tabac",
          "oranger",
          "courge",
          "féverole",
          "olivier",
          "rosier ornemental",
          "mâche",
          "asperge",
          "vigne de cuve",
          "chicorée endive",
          "lin oléagineux d'hiver",
          "horticulture ornementale",
          "orge de printemps",
          "épinard",
          "ciboulette",
          "blé tendre d'hiver",
          "arbre fruitier à noyau",
          "triticale",
          "pomme de terre potagère",
          "palmier",
          "noyer",
          "bananier",
          "prairie",
          "chicorée de Bruxelle",
          "framboisier",
          "jardins familiaux",
          "chêne",
          "petit fruit",
          "haricot demi-sec",
          "laitue batavia",
          "ail",
          "gel",
          "châtaignier",
          "luzerne",
          "actinidia",
          "artichaut",
          "vigne de table",
          "rosier",
          "pois protéagineux d'hiver",
          "sorgho grain",
          "panais",
          "culture légumière de plein champ",
          "protéagineux",
          "scorsonère",
          "betterave potagère",
          "sorgho",
          "agrume",
          "piment",
          "laurier",
          "olivier fruit à noyaux",
          "Chou cabus blanc",
          "fève",
          "céleri-rave",
          "orge à six rangs",
          "amandier",
          "chicorée scarole",
          "chicorée",
          "chou pommé",
          "chou brocoli",
          "cresson",
          "lin oléagineux de printemps",
          "chou-fleur",
          "féverole d'hiver",
          "cassissier",
          "citronnier",
          "haricot vert",
          "manguier",
          "géranium",
          "maïs doux",
          "laitue à couper",
          "féverole de printemps",
          "moutarde",
          "maïs grain",
          "fourrage annuel",
          "chou chinois",
          "avoine",
          "figuier",
          "bananier plantain",
          "riz",
          "goyavier",
          "cerfeuil",
          "ray-grass",
          "pois protéagineux",
          "ananas",
          "bananier musa",
          "chou de Milan",
          "chou cabus rouge",
          "noisetier",
          "roquette",
          "poinsettia",
          "chrysanthème",
          "chou-navet à chair jaune",
          "phacélie",
          "fenouil",
          "maïs fourrage",
          "céréale fourragère",
          "pissenlit",
          "culture fourragère",
          "seigle",
          "surface toujours en herbe",
          "engrais vert",
          "trèfle",
          "chou de Bruxelles",
          "groseillier",
          "myrtille",
          "chanvre",
          "colza d'hiver",
          "culture industrielle",
          "blé dur d'hiver",
          "céleri à cotes",
          "chou frisé",
          "laitue beurre pommée",
          "betterave sucrière",
          "clémentinier",
          "cognassier",
          "millet",
          "échalion",
          "colza de printemps"
         ],
         "xaxis": "x",
         "y": [
          314,
          696,
          380,
          380,
          394,
          742,
          267,
          134,
          305,
          561,
          236,
          236,
          56,
          494,
          347,
          229,
          140,
          44,
          354,
          281,
          146,
          285,
          205,
          339,
          145,
          171,
          102,
          130,
          56,
          122,
          102,
          65,
          335,
          111,
          146,
          58,
          116,
          110,
          99,
          78,
          40,
          77,
          125,
          143,
          81,
          49,
          65,
          41,
          91,
          54,
          127,
          96,
          13,
          27,
          34,
          100,
          52,
          15,
          48,
          8,
          224,
          24,
          33,
          49,
          23,
          11,
          53,
          47,
          82,
          20,
          10,
          21,
          24,
          5,
          39,
          31,
          3,
          121,
          14,
          45,
          47,
          48,
          16,
          52,
          17,
          13,
          36,
          26,
          4,
          87,
          12,
          45,
          9,
          35,
          102,
          66,
          7,
          18,
          5,
          117,
          9,
          10,
          7,
          47,
          11,
          26,
          10,
          5,
          12,
          10,
          5,
          11,
          7,
          7,
          4,
          10,
          23,
          29,
          8,
          25,
          4,
          4,
          19,
          8,
          43,
          2,
          15,
          29,
          8,
          13,
          4,
          2,
          5,
          2,
          10,
          5,
          6,
          14,
          6,
          49,
          10,
          1,
          4,
          1,
          4,
          17,
          8,
          44,
          2,
          1,
          2,
          3,
          8,
          4,
          8,
          14,
          2,
          2,
          2,
          7,
          10,
          6,
          1,
          2,
          3,
          1,
          5,
          1,
          4,
          1,
          12,
          2,
          5,
          1,
          1
         ],
         "yaxis": "y"
        }
       ],
       "layout": {
        "legend": {
         "title": {
          "text": "variable"
         },
         "tracegroupgap": 0
        },
        "template": {
         "data": {
          "bar": [
           {
            "error_x": {
             "color": "#2a3f5f"
            },
            "error_y": {
             "color": "#2a3f5f"
            },
            "marker": {
             "line": {
              "color": "#E5ECF6",
              "width": 0.5
             }
            },
            "type": "bar"
           }
          ],
          "barpolar": [
           {
            "marker": {
             "line": {
              "color": "#E5ECF6",
              "width": 0.5
             }
            },
            "type": "barpolar"
           }
          ],
          "carpet": [
           {
            "aaxis": {
             "endlinecolor": "#2a3f5f",
             "gridcolor": "white",
             "linecolor": "white",
             "minorgridcolor": "white",
             "startlinecolor": "#2a3f5f"
            },
            "baxis": {
             "endlinecolor": "#2a3f5f",
             "gridcolor": "white",
             "linecolor": "white",
             "minorgridcolor": "white",
             "startlinecolor": "#2a3f5f"
            },
            "type": "carpet"
           }
          ],
          "choropleth": [
           {
            "colorbar": {
             "outlinewidth": 0,
             "ticks": ""
            },
            "type": "choropleth"
           }
          ],
          "contour": [
           {
            "colorbar": {
             "outlinewidth": 0,
             "ticks": ""
            },
            "colorscale": [
             [
              0,
              "#0d0887"
             ],
             [
              0.1111111111111111,
              "#46039f"
             ],
             [
              0.2222222222222222,
              "#7201a8"
             ],
             [
              0.3333333333333333,
              "#9c179e"
             ],
             [
              0.4444444444444444,
              "#bd3786"
             ],
             [
              0.5555555555555556,
              "#d8576b"
             ],
             [
              0.6666666666666666,
              "#ed7953"
             ],
             [
              0.7777777777777778,
              "#fb9f3a"
             ],
             [
              0.8888888888888888,
              "#fdca26"
             ],
             [
              1,
              "#f0f921"
             ]
            ],
            "type": "contour"
           }
          ],
          "contourcarpet": [
           {
            "colorbar": {
             "outlinewidth": 0,
             "ticks": ""
            },
            "type": "contourcarpet"
           }
          ],
          "heatmap": [
           {
            "colorbar": {
             "outlinewidth": 0,
             "ticks": ""
            },
            "colorscale": [
             [
              0,
              "#0d0887"
             ],
             [
              0.1111111111111111,
              "#46039f"
             ],
             [
              0.2222222222222222,
              "#7201a8"
             ],
             [
              0.3333333333333333,
              "#9c179e"
             ],
             [
              0.4444444444444444,
              "#bd3786"
             ],
             [
              0.5555555555555556,
              "#d8576b"
             ],
             [
              0.6666666666666666,
              "#ed7953"
             ],
             [
              0.7777777777777778,
              "#fb9f3a"
             ],
             [
              0.8888888888888888,
              "#fdca26"
             ],
             [
              1,
              "#f0f921"
             ]
            ],
            "type": "heatmap"
           }
          ],
          "heatmapgl": [
           {
            "colorbar": {
             "outlinewidth": 0,
             "ticks": ""
            },
            "colorscale": [
             [
              0,
              "#0d0887"
             ],
             [
              0.1111111111111111,
              "#46039f"
             ],
             [
              0.2222222222222222,
              "#7201a8"
             ],
             [
              0.3333333333333333,
              "#9c179e"
             ],
             [
              0.4444444444444444,
              "#bd3786"
             ],
             [
              0.5555555555555556,
              "#d8576b"
             ],
             [
              0.6666666666666666,
              "#ed7953"
             ],
             [
              0.7777777777777778,
              "#fb9f3a"
             ],
             [
              0.8888888888888888,
              "#fdca26"
             ],
             [
              1,
              "#f0f921"
             ]
            ],
            "type": "heatmapgl"
           }
          ],
          "histogram": [
           {
            "marker": {
             "colorbar": {
              "outlinewidth": 0,
              "ticks": ""
             }
            },
            "type": "histogram"
           }
          ],
          "histogram2d": [
           {
            "colorbar": {
             "outlinewidth": 0,
             "ticks": ""
            },
            "colorscale": [
             [
              0,
              "#0d0887"
             ],
             [
              0.1111111111111111,
              "#46039f"
             ],
             [
              0.2222222222222222,
              "#7201a8"
             ],
             [
              0.3333333333333333,
              "#9c179e"
             ],
             [
              0.4444444444444444,
              "#bd3786"
             ],
             [
              0.5555555555555556,
              "#d8576b"
             ],
             [
              0.6666666666666666,
              "#ed7953"
             ],
             [
              0.7777777777777778,
              "#fb9f3a"
             ],
             [
              0.8888888888888888,
              "#fdca26"
             ],
             [
              1,
              "#f0f921"
             ]
            ],
            "type": "histogram2d"
           }
          ],
          "histogram2dcontour": [
           {
            "colorbar": {
             "outlinewidth": 0,
             "ticks": ""
            },
            "colorscale": [
             [
              0,
              "#0d0887"
             ],
             [
              0.1111111111111111,
              "#46039f"
             ],
             [
              0.2222222222222222,
              "#7201a8"
             ],
             [
              0.3333333333333333,
              "#9c179e"
             ],
             [
              0.4444444444444444,
              "#bd3786"
             ],
             [
              0.5555555555555556,
              "#d8576b"
             ],
             [
              0.6666666666666666,
              "#ed7953"
             ],
             [
              0.7777777777777778,
              "#fb9f3a"
             ],
             [
              0.8888888888888888,
              "#fdca26"
             ],
             [
              1,
              "#f0f921"
             ]
            ],
            "type": "histogram2dcontour"
           }
          ],
          "mesh3d": [
           {
            "colorbar": {
             "outlinewidth": 0,
             "ticks": ""
            },
            "type": "mesh3d"
           }
          ],
          "parcoords": [
           {
            "line": {
             "colorbar": {
              "outlinewidth": 0,
              "ticks": ""
             }
            },
            "type": "parcoords"
           }
          ],
          "pie": [
           {
            "automargin": true,
            "type": "pie"
           }
          ],
          "scatter": [
           {
            "marker": {
             "colorbar": {
              "outlinewidth": 0,
              "ticks": ""
             }
            },
            "type": "scatter"
           }
          ],
          "scatter3d": [
           {
            "line": {
             "colorbar": {
              "outlinewidth": 0,
              "ticks": ""
             }
            },
            "marker": {
             "colorbar": {
              "outlinewidth": 0,
              "ticks": ""
             }
            },
            "type": "scatter3d"
           }
          ],
          "scattercarpet": [
           {
            "marker": {
             "colorbar": {
              "outlinewidth": 0,
              "ticks": ""
             }
            },
            "type": "scattercarpet"
           }
          ],
          "scattergeo": [
           {
            "marker": {
             "colorbar": {
              "outlinewidth": 0,
              "ticks": ""
             }
            },
            "type": "scattergeo"
           }
          ],
          "scattergl": [
           {
            "marker": {
             "colorbar": {
              "outlinewidth": 0,
              "ticks": ""
             }
            },
            "type": "scattergl"
           }
          ],
          "scattermapbox": [
           {
            "marker": {
             "colorbar": {
              "outlinewidth": 0,
              "ticks": ""
             }
            },
            "type": "scattermapbox"
           }
          ],
          "scatterpolar": [
           {
            "marker": {
             "colorbar": {
              "outlinewidth": 0,
              "ticks": ""
             }
            },
            "type": "scatterpolar"
           }
          ],
          "scatterpolargl": [
           {
            "marker": {
             "colorbar": {
              "outlinewidth": 0,
              "ticks": ""
             }
            },
            "type": "scatterpolargl"
           }
          ],
          "scatterternary": [
           {
            "marker": {
             "colorbar": {
              "outlinewidth": 0,
              "ticks": ""
             }
            },
            "type": "scatterternary"
           }
          ],
          "surface": [
           {
            "colorbar": {
             "outlinewidth": 0,
             "ticks": ""
            },
            "colorscale": [
             [
              0,
              "#0d0887"
             ],
             [
              0.1111111111111111,
              "#46039f"
             ],
             [
              0.2222222222222222,
              "#7201a8"
             ],
             [
              0.3333333333333333,
              "#9c179e"
             ],
             [
              0.4444444444444444,
              "#bd3786"
             ],
             [
              0.5555555555555556,
              "#d8576b"
             ],
             [
              0.6666666666666666,
              "#ed7953"
             ],
             [
              0.7777777777777778,
              "#fb9f3a"
             ],
             [
              0.8888888888888888,
              "#fdca26"
             ],
             [
              1,
              "#f0f921"
             ]
            ],
            "type": "surface"
           }
          ],
          "table": [
           {
            "cells": {
             "fill": {
              "color": "#EBF0F8"
             },
             "line": {
              "color": "white"
             }
            },
            "header": {
             "fill": {
              "color": "#C8D4E3"
             },
             "line": {
              "color": "white"
             }
            },
            "type": "table"
           }
          ]
         },
         "layout": {
          "annotationdefaults": {
           "arrowcolor": "#2a3f5f",
           "arrowhead": 0,
           "arrowwidth": 1
          },
          "autotypenumbers": "strict",
          "coloraxis": {
           "colorbar": {
            "outlinewidth": 0,
            "ticks": ""
           }
          },
          "colorscale": {
           "diverging": [
            [
             0,
             "#8e0152"
            ],
            [
             0.1,
             "#c51b7d"
            ],
            [
             0.2,
             "#de77ae"
            ],
            [
             0.3,
             "#f1b6da"
            ],
            [
             0.4,
             "#fde0ef"
            ],
            [
             0.5,
             "#f7f7f7"
            ],
            [
             0.6,
             "#e6f5d0"
            ],
            [
             0.7,
             "#b8e186"
            ],
            [
             0.8,
             "#7fbc41"
            ],
            [
             0.9,
             "#4d9221"
            ],
            [
             1,
             "#276419"
            ]
           ],
           "sequential": [
            [
             0,
             "#0d0887"
            ],
            [
             0.1111111111111111,
             "#46039f"
            ],
            [
             0.2222222222222222,
             "#7201a8"
            ],
            [
             0.3333333333333333,
             "#9c179e"
            ],
            [
             0.4444444444444444,
             "#bd3786"
            ],
            [
             0.5555555555555556,
             "#d8576b"
            ],
            [
             0.6666666666666666,
             "#ed7953"
            ],
            [
             0.7777777777777778,
             "#fb9f3a"
            ],
            [
             0.8888888888888888,
             "#fdca26"
            ],
            [
             1,
             "#f0f921"
            ]
           ],
           "sequentialminus": [
            [
             0,
             "#0d0887"
            ],
            [
             0.1111111111111111,
             "#46039f"
            ],
            [
             0.2222222222222222,
             "#7201a8"
            ],
            [
             0.3333333333333333,
             "#9c179e"
            ],
            [
             0.4444444444444444,
             "#bd3786"
            ],
            [
             0.5555555555555556,
             "#d8576b"
            ],
            [
             0.6666666666666666,
             "#ed7953"
            ],
            [
             0.7777777777777778,
             "#fb9f3a"
            ],
            [
             0.8888888888888888,
             "#fdca26"
            ],
            [
             1,
             "#f0f921"
            ]
           ]
          },
          "colorway": [
           "#636efa",
           "#EF553B",
           "#00cc96",
           "#ab63fa",
           "#FFA15A",
           "#19d3f3",
           "#FF6692",
           "#B6E880",
           "#FF97FF",
           "#FECB52"
          ],
          "font": {
           "color": "#2a3f5f"
          },
          "geo": {
           "bgcolor": "white",
           "lakecolor": "white",
           "landcolor": "#E5ECF6",
           "showlakes": true,
           "showland": true,
           "subunitcolor": "white"
          },
          "hoverlabel": {
           "align": "left"
          },
          "hovermode": "closest",
          "mapbox": {
           "style": "light"
          },
          "paper_bgcolor": "white",
          "plot_bgcolor": "#E5ECF6",
          "polar": {
           "angularaxis": {
            "gridcolor": "white",
            "linecolor": "white",
            "ticks": ""
           },
           "bgcolor": "#E5ECF6",
           "radialaxis": {
            "gridcolor": "white",
            "linecolor": "white",
            "ticks": ""
           }
          },
          "scene": {
           "xaxis": {
            "backgroundcolor": "#E5ECF6",
            "gridcolor": "white",
            "gridwidth": 2,
            "linecolor": "white",
            "showbackground": true,
            "ticks": "",
            "zerolinecolor": "white"
           },
           "yaxis": {
            "backgroundcolor": "#E5ECF6",
            "gridcolor": "white",
            "gridwidth": 2,
            "linecolor": "white",
            "showbackground": true,
            "ticks": "",
            "zerolinecolor": "white"
           },
           "zaxis": {
            "backgroundcolor": "#E5ECF6",
            "gridcolor": "white",
            "gridwidth": 2,
            "linecolor": "white",
            "showbackground": true,
            "ticks": "",
            "zerolinecolor": "white"
           }
          },
          "shapedefaults": {
           "line": {
            "color": "#2a3f5f"
           }
          },
          "ternary": {
           "aaxis": {
            "gridcolor": "white",
            "linecolor": "white",
            "ticks": ""
           },
           "baxis": {
            "gridcolor": "white",
            "linecolor": "white",
            "ticks": ""
           },
           "bgcolor": "#E5ECF6",
           "caxis": {
            "gridcolor": "white",
            "linecolor": "white",
            "ticks": ""
           }
          },
          "title": {
           "x": 0.05
          },
          "xaxis": {
           "automargin": true,
           "gridcolor": "white",
           "linecolor": "white",
           "ticks": "",
           "title": {
            "standoff": 15
           },
           "zerolinecolor": "white",
           "zerolinewidth": 2
          },
          "yaxis": {
           "automargin": true,
           "gridcolor": "white",
           "linecolor": "white",
           "ticks": "",
           "title": {
            "standoff": 15
           },
           "zerolinecolor": "white",
           "zerolinewidth": 2
          }
         }
        },
        "title": {
         "text": "Term frequency"
        },
        "xaxis": {
         "anchor": "y",
         "domain": [
          0,
          1
         ],
         "title": {
          "text": "prefLabel"
         }
        },
        "yaxis": {
         "anchor": "x",
         "domain": [
          0,
          1
         ],
         "title": {
          "text": "value"
         }
        }
       }
      },
      "text/html": [
       "<div>                            <div id=\"7db8a6a4-5e2a-41bd-9653-6d6d165e41f5\" class=\"plotly-graph-div\" style=\"height:525px; width:100%;\"></div>            <script type=\"text/javascript\">                require([\"plotly\"], function(Plotly) {                    window.PLOTLYENV=window.PLOTLYENV || {};                                    if (document.getElementById(\"7db8a6a4-5e2a-41bd-9653-6d6d165e41f5\")) {                    Plotly.newPlot(                        \"7db8a6a4-5e2a-41bd-9653-6d6d165e41f5\",                        [{\"hovertemplate\": \"variable=count_x<br>prefLabel=%{x}<br>value=%{y}<extra></extra>\", \"legendgroup\": \"count_x\", \"line\": {\"color\": \"#636efa\", \"dash\": \"solid\"}, \"mode\": \"lines\", \"name\": \"count_x\", \"orientation\": \"v\", \"showlegend\": true, \"type\": \"scatter\", \"x\": [\"vigne\", \"colza\", \"chou\", \"chou potager\", \"bl\\u00e9\", \"pommier\", \"ma\\u00efs\", \"tomate\", \"carotte\", \"arboriculture fruiti\\u00e8re\", \"oignon\", \"culture l\\u00e9gumi\\u00e8re\", \"arbuste \\u00e0 baies\", \"pois\", \"floriculture\", \"poireau\", \"c\\u00e9r\\u00e9ale \\u00e0 paille\", \"mara\\u00eechage\", \"c\\u00e9r\\u00e9ale\", \"lin\", \"c\\u00e9leri\", \"arboriculture\", \"pomme de terre\", \"poirier\", \"salade\", \"betterave\", \"bl\\u00e9 tendre\", \"tournesol\", \"aubergine\", \"orge\", \"semence\", \"concombre\", \"zone non agricole\", \"fraisier\", \"ol\\u00e9agineux\", \"courgette\", \"p\\u00eacher\", \"cerisier\", \"culture fruiti\\u00e8re\", \"laitue\", \"poivron\", \"melon\", \"lin ol\\u00e9agineux\", \"prunier\", \"poir\\u00e9e\", \"bl\\u00e9 dur\", \"radis\", \"haricot\", \"l\\u00e9gume \\u00e0 graines ou \\u00e0 gousses\", \"abricotier\", \"jardin\", \"persil\", \"soja\", \"orge d'hiver\", \"\\u00e9chalote\", \"pois prot\\u00e9agineux de printemps\", \"navet potager\", \"tabac\", \"oranger\", \"courge\", \"f\\u00e9verole\", \"olivier\", \"rosier ornemental\", \"m\\u00e2che\", \"asperge\", \"vigne de cuve\", \"chicor\\u00e9e endive\", \"lin ol\\u00e9agineux d'hiver\", \"horticulture ornementale\", \"orge de printemps\", \"\\u00e9pinard\", \"ciboulette\", \"bl\\u00e9 tendre d'hiver\", \"arbre fruitier \\u00e0 noyau\", \"triticale\", \"pomme de terre potag\\u00e8re\", \"palmier\", \"noyer\", \"bananier\", \"prairie\", \"chicor\\u00e9e de Bruxelle\", \"framboisier\", \"jardins familiaux\", \"ch\\u00eane\", \"petit fruit\", \"haricot demi-sec\", \"laitue batavia\", \"ail\", \"gel\", \"ch\\u00e2taignier\", \"luzerne\", \"actinidia\", \"artichaut\", \"vigne de table\", \"rosier\", \"pois prot\\u00e9agineux d'hiver\", \"sorgho grain\", \"panais\", \"culture l\\u00e9gumi\\u00e8re de plein champ\", \"prot\\u00e9agineux\", \"scorson\\u00e8re\", \"betterave potag\\u00e8re\", \"sorgho\", \"agrume\", \"piment\", \"laurier\", \"olivier fruit \\u00e0 noyaux\", \"Chou cabus blanc\", \"f\\u00e8ve\", \"c\\u00e9leri-rave\", \"orge \\u00e0 six rangs\", \"amandier\", \"chicor\\u00e9e scarole\", \"chicor\\u00e9e\", \"chou pomm\\u00e9\", \"chou brocoli\", \"cresson\", \"lin ol\\u00e9agineux de printemps\", \"chou-fleur\", \"f\\u00e9verole d'hiver\", \"cassissier\", \"citronnier\", \"haricot vert\", \"manguier\", \"g\\u00e9ranium\", \"ma\\u00efs doux\", \"laitue \\u00e0 couper\", \"f\\u00e9verole de printemps\", \"moutarde\", \"ma\\u00efs grain\", \"fourrage annuel\", \"chou chinois\", \"avoine\", \"figuier\", \"bananier plantain\", \"riz\", \"goyavier\", \"cerfeuil\", \"ray-grass\", \"pois prot\\u00e9agineux\", \"ananas\", \"bananier musa\", \"chou de Milan\", \"chou cabus rouge\", \"noisetier\", \"roquette\", \"poinsettia\", \"chrysanth\\u00e8me\", \"chou-navet \\u00e0 chair jaune\", \"phac\\u00e9lie\", \"fenouil\", \"ma\\u00efs fourrage\", \"c\\u00e9r\\u00e9ale fourrag\\u00e8re\", \"pissenlit\", \"culture fourrag\\u00e8re\", \"seigle\", \"surface toujours en herbe\", \"engrais vert\", \"tr\\u00e8fle\", \"chou de Bruxelles\", \"groseillier\", \"myrtille\", \"chanvre\", \"colza d'hiver\", \"culture industrielle\", \"bl\\u00e9 dur d'hiver\", \"c\\u00e9leri \\u00e0 cotes\", \"chou fris\\u00e9\", \"laitue beurre pomm\\u00e9e\", \"betterave sucri\\u00e8re\", \"cl\\u00e9mentinier\", \"cognassier\", \"millet\", \"\\u00e9chalion\", \"colza de printemps\"], \"xaxis\": \"x\", \"y\": [1278, 984, 595, 595, 591, 553, 540, 467, 409, 401, 374, 371, 325, 322, 306, 304, 304, 275, 263, 247, 237, 230, 228, 202, 201, 197, 190, 181, 181, 177, 157, 147, 139, 126, 115, 114, 112, 109, 109, 109, 106, 98, 96, 96, 91, 77, 76, 74, 71, 69, 65, 63, 58, 56, 54, 54, 53, 52, 50, 49, 48, 48, 47, 45, 44, 44, 43, 43, 42, 41, 41, 40, 39, 38, 38, 37, 35, 35, 34, 33, 31, 30, 30, 29, 28, 27, 27, 27, 27, 27, 26, 26, 23, 22, 22, 22, 21, 21, 21, 20, 20, 19, 19, 18, 17, 17, 16, 15, 14, 14, 13, 13, 12, 12, 12, 11, 11, 11, 11, 10, 10, 10, 10, 10, 10, 10, 9, 9, 8, 8, 7, 7, 7, 7, 7, 7, 6, 6, 6, 6, 6, 6, 6, 5, 5, 5, 5, 5, 5, 5, 5, 4, 4, 4, 4, 4, 4, 3, 3, 3, 3, 3, 3, 3, 3, 2, 2, 2, 1, 1, 1, 1, 1, 1, 1], \"yaxis\": \"y\"}, {\"hovertemplate\": \"variable=count_y<br>prefLabel=%{x}<br>value=%{y}<extra></extra>\", \"legendgroup\": \"count_y\", \"line\": {\"color\": \"#EF553B\", \"dash\": \"solid\"}, \"mode\": \"lines\", \"name\": \"count_y\", \"orientation\": \"v\", \"showlegend\": true, \"type\": \"scatter\", \"x\": [\"vigne\", \"colza\", \"chou\", \"chou potager\", \"bl\\u00e9\", \"pommier\", \"ma\\u00efs\", \"tomate\", \"carotte\", \"arboriculture fruiti\\u00e8re\", \"oignon\", \"culture l\\u00e9gumi\\u00e8re\", \"arbuste \\u00e0 baies\", \"pois\", \"floriculture\", \"poireau\", \"c\\u00e9r\\u00e9ale \\u00e0 paille\", \"mara\\u00eechage\", \"c\\u00e9r\\u00e9ale\", \"lin\", \"c\\u00e9leri\", \"arboriculture\", \"pomme de terre\", \"poirier\", \"salade\", \"betterave\", \"bl\\u00e9 tendre\", \"tournesol\", \"aubergine\", \"orge\", \"semence\", \"concombre\", \"zone non agricole\", \"fraisier\", \"ol\\u00e9agineux\", \"courgette\", \"p\\u00eacher\", \"cerisier\", \"culture fruiti\\u00e8re\", \"laitue\", \"poivron\", \"melon\", \"lin ol\\u00e9agineux\", \"prunier\", \"poir\\u00e9e\", \"bl\\u00e9 dur\", \"radis\", \"haricot\", \"l\\u00e9gume \\u00e0 graines ou \\u00e0 gousses\", \"abricotier\", \"jardin\", \"persil\", \"soja\", \"orge d'hiver\", \"\\u00e9chalote\", \"pois prot\\u00e9agineux de printemps\", \"navet potager\", \"tabac\", \"oranger\", \"courge\", \"f\\u00e9verole\", \"olivier\", \"rosier ornemental\", \"m\\u00e2che\", \"asperge\", \"vigne de cuve\", \"chicor\\u00e9e endive\", \"lin ol\\u00e9agineux d'hiver\", \"horticulture ornementale\", \"orge de printemps\", \"\\u00e9pinard\", \"ciboulette\", \"bl\\u00e9 tendre d'hiver\", \"arbre fruitier \\u00e0 noyau\", \"triticale\", \"pomme de terre potag\\u00e8re\", \"palmier\", \"noyer\", \"bananier\", \"prairie\", \"chicor\\u00e9e de Bruxelle\", \"framboisier\", \"jardins familiaux\", \"ch\\u00eane\", \"petit fruit\", \"haricot demi-sec\", \"laitue batavia\", \"ail\", \"gel\", \"ch\\u00e2taignier\", \"luzerne\", \"actinidia\", \"artichaut\", \"vigne de table\", \"rosier\", \"pois prot\\u00e9agineux d'hiver\", \"sorgho grain\", \"panais\", \"culture l\\u00e9gumi\\u00e8re de plein champ\", \"prot\\u00e9agineux\", \"scorson\\u00e8re\", \"betterave potag\\u00e8re\", \"sorgho\", \"agrume\", \"piment\", \"laurier\", \"olivier fruit \\u00e0 noyaux\", \"Chou cabus blanc\", \"f\\u00e8ve\", \"c\\u00e9leri-rave\", \"orge \\u00e0 six rangs\", \"amandier\", \"chicor\\u00e9e scarole\", \"chicor\\u00e9e\", \"chou pomm\\u00e9\", \"chou brocoli\", \"cresson\", \"lin ol\\u00e9agineux de printemps\", \"chou-fleur\", \"f\\u00e9verole d'hiver\", \"cassissier\", \"citronnier\", \"haricot vert\", \"manguier\", \"g\\u00e9ranium\", \"ma\\u00efs doux\", \"laitue \\u00e0 couper\", \"f\\u00e9verole de printemps\", \"moutarde\", \"ma\\u00efs grain\", \"fourrage annuel\", \"chou chinois\", \"avoine\", \"figuier\", \"bananier plantain\", \"riz\", \"goyavier\", \"cerfeuil\", \"ray-grass\", \"pois prot\\u00e9agineux\", \"ananas\", \"bananier musa\", \"chou de Milan\", \"chou cabus rouge\", \"noisetier\", \"roquette\", \"poinsettia\", \"chrysanth\\u00e8me\", \"chou-navet \\u00e0 chair jaune\", \"phac\\u00e9lie\", \"fenouil\", \"ma\\u00efs fourrage\", \"c\\u00e9r\\u00e9ale fourrag\\u00e8re\", \"pissenlit\", \"culture fourrag\\u00e8re\", \"seigle\", \"surface toujours en herbe\", \"engrais vert\", \"tr\\u00e8fle\", \"chou de Bruxelles\", \"groseillier\", \"myrtille\", \"chanvre\", \"colza d'hiver\", \"culture industrielle\", \"bl\\u00e9 dur d'hiver\", \"c\\u00e9leri \\u00e0 cotes\", \"chou fris\\u00e9\", \"laitue beurre pomm\\u00e9e\", \"betterave sucri\\u00e8re\", \"cl\\u00e9mentinier\", \"cognassier\", \"millet\", \"\\u00e9chalion\", \"colza de printemps\"], \"xaxis\": \"x\", \"y\": [314, 696, 380, 380, 394, 742, 267, 134, 305, 561, 236, 236, 56, 494, 347, 229, 140, 44, 354, 281, 146, 285, 205, 339, 145, 171, 102, 130, 56, 122, 102, 65, 335, 111, 146, 58, 116, 110, 99, 78, 40, 77, 125, 143, 81, 49, 65, 41, 91, 54, 127, 96, 13, 27, 34, 100, 52, 15, 48, 8, 224, 24, 33, 49, 23, 11, 53, 47, 82, 20, 10, 21, 24, 5, 39, 31, 3, 121, 14, 45, 47, 48, 16, 52, 17, 13, 36, 26, 4, 87, 12, 45, 9, 35, 102, 66, 7, 18, 5, 117, 9, 10, 7, 47, 11, 26, 10, 5, 12, 10, 5, 11, 7, 7, 4, 10, 23, 29, 8, 25, 4, 4, 19, 8, 43, 2, 15, 29, 8, 13, 4, 2, 5, 2, 10, 5, 6, 14, 6, 49, 10, 1, 4, 1, 4, 17, 8, 44, 2, 1, 2, 3, 8, 4, 8, 14, 2, 2, 2, 7, 10, 6, 1, 2, 3, 1, 5, 1, 4, 1, 12, 2, 5, 1, 1], \"yaxis\": \"y\"}],                        {\"legend\": {\"title\": {\"text\": \"variable\"}, \"tracegroupgap\": 0}, \"template\": {\"data\": {\"bar\": [{\"error_x\": {\"color\": \"#2a3f5f\"}, \"error_y\": {\"color\": \"#2a3f5f\"}, \"marker\": {\"line\": {\"color\": \"#E5ECF6\", \"width\": 0.5}}, \"type\": \"bar\"}], \"barpolar\": [{\"marker\": {\"line\": {\"color\": \"#E5ECF6\", \"width\": 0.5}}, \"type\": \"barpolar\"}], \"carpet\": [{\"aaxis\": {\"endlinecolor\": \"#2a3f5f\", \"gridcolor\": \"white\", \"linecolor\": \"white\", \"minorgridcolor\": \"white\", \"startlinecolor\": \"#2a3f5f\"}, \"baxis\": {\"endlinecolor\": \"#2a3f5f\", \"gridcolor\": \"white\", \"linecolor\": \"white\", \"minorgridcolor\": \"white\", \"startlinecolor\": \"#2a3f5f\"}, \"type\": \"carpet\"}], \"choropleth\": [{\"colorbar\": {\"outlinewidth\": 0, \"ticks\": \"\"}, \"type\": \"choropleth\"}], \"contour\": [{\"colorbar\": {\"outlinewidth\": 0, \"ticks\": \"\"}, \"colorscale\": [[0.0, \"#0d0887\"], [0.1111111111111111, \"#46039f\"], [0.2222222222222222, \"#7201a8\"], [0.3333333333333333, \"#9c179e\"], [0.4444444444444444, \"#bd3786\"], [0.5555555555555556, \"#d8576b\"], [0.6666666666666666, \"#ed7953\"], [0.7777777777777778, \"#fb9f3a\"], [0.8888888888888888, \"#fdca26\"], [1.0, \"#f0f921\"]], \"type\": \"contour\"}], \"contourcarpet\": [{\"colorbar\": {\"outlinewidth\": 0, \"ticks\": \"\"}, \"type\": \"contourcarpet\"}], \"heatmap\": [{\"colorbar\": {\"outlinewidth\": 0, \"ticks\": \"\"}, \"colorscale\": [[0.0, \"#0d0887\"], [0.1111111111111111, \"#46039f\"], [0.2222222222222222, \"#7201a8\"], [0.3333333333333333, \"#9c179e\"], [0.4444444444444444, \"#bd3786\"], [0.5555555555555556, \"#d8576b\"], [0.6666666666666666, \"#ed7953\"], [0.7777777777777778, \"#fb9f3a\"], [0.8888888888888888, \"#fdca26\"], [1.0, \"#f0f921\"]], \"type\": \"heatmap\"}], \"heatmapgl\": [{\"colorbar\": {\"outlinewidth\": 0, \"ticks\": \"\"}, \"colorscale\": [[0.0, \"#0d0887\"], [0.1111111111111111, \"#46039f\"], [0.2222222222222222, \"#7201a8\"], [0.3333333333333333, \"#9c179e\"], [0.4444444444444444, \"#bd3786\"], [0.5555555555555556, \"#d8576b\"], [0.6666666666666666, \"#ed7953\"], [0.7777777777777778, \"#fb9f3a\"], [0.8888888888888888, \"#fdca26\"], [1.0, \"#f0f921\"]], \"type\": \"heatmapgl\"}], \"histogram\": [{\"marker\": {\"colorbar\": {\"outlinewidth\": 0, \"ticks\": \"\"}}, \"type\": \"histogram\"}], \"histogram2d\": [{\"colorbar\": {\"outlinewidth\": 0, \"ticks\": \"\"}, \"colorscale\": [[0.0, \"#0d0887\"], [0.1111111111111111, \"#46039f\"], [0.2222222222222222, \"#7201a8\"], [0.3333333333333333, \"#9c179e\"], [0.4444444444444444, \"#bd3786\"], [0.5555555555555556, \"#d8576b\"], [0.6666666666666666, \"#ed7953\"], [0.7777777777777778, \"#fb9f3a\"], [0.8888888888888888, \"#fdca26\"], [1.0, \"#f0f921\"]], \"type\": \"histogram2d\"}], \"histogram2dcontour\": [{\"colorbar\": {\"outlinewidth\": 0, \"ticks\": \"\"}, \"colorscale\": [[0.0, \"#0d0887\"], [0.1111111111111111, \"#46039f\"], [0.2222222222222222, \"#7201a8\"], [0.3333333333333333, \"#9c179e\"], [0.4444444444444444, \"#bd3786\"], [0.5555555555555556, \"#d8576b\"], [0.6666666666666666, \"#ed7953\"], [0.7777777777777778, \"#fb9f3a\"], [0.8888888888888888, \"#fdca26\"], [1.0, \"#f0f921\"]], \"type\": \"histogram2dcontour\"}], \"mesh3d\": [{\"colorbar\": {\"outlinewidth\": 0, \"ticks\": \"\"}, \"type\": \"mesh3d\"}], \"parcoords\": [{\"line\": {\"colorbar\": {\"outlinewidth\": 0, \"ticks\": \"\"}}, \"type\": \"parcoords\"}], \"pie\": [{\"automargin\": true, \"type\": \"pie\"}], \"scatter\": [{\"marker\": {\"colorbar\": {\"outlinewidth\": 0, \"ticks\": \"\"}}, \"type\": \"scatter\"}], \"scatter3d\": [{\"line\": {\"colorbar\": {\"outlinewidth\": 0, \"ticks\": \"\"}}, \"marker\": {\"colorbar\": {\"outlinewidth\": 0, \"ticks\": \"\"}}, \"type\": \"scatter3d\"}], \"scattercarpet\": [{\"marker\": {\"colorbar\": {\"outlinewidth\": 0, \"ticks\": \"\"}}, \"type\": \"scattercarpet\"}], \"scattergeo\": [{\"marker\": {\"colorbar\": {\"outlinewidth\": 0, \"ticks\": \"\"}}, \"type\": \"scattergeo\"}], \"scattergl\": [{\"marker\": {\"colorbar\": {\"outlinewidth\": 0, \"ticks\": \"\"}}, \"type\": \"scattergl\"}], \"scattermapbox\": [{\"marker\": {\"colorbar\": {\"outlinewidth\": 0, \"ticks\": \"\"}}, \"type\": \"scattermapbox\"}], \"scatterpolar\": [{\"marker\": {\"colorbar\": {\"outlinewidth\": 0, \"ticks\": \"\"}}, \"type\": \"scatterpolar\"}], \"scatterpolargl\": [{\"marker\": {\"colorbar\": {\"outlinewidth\": 0, \"ticks\": \"\"}}, \"type\": \"scatterpolargl\"}], \"scatterternary\": [{\"marker\": {\"colorbar\": {\"outlinewidth\": 0, \"ticks\": \"\"}}, \"type\": \"scatterternary\"}], \"surface\": [{\"colorbar\": {\"outlinewidth\": 0, \"ticks\": \"\"}, \"colorscale\": [[0.0, \"#0d0887\"], [0.1111111111111111, \"#46039f\"], [0.2222222222222222, \"#7201a8\"], [0.3333333333333333, \"#9c179e\"], [0.4444444444444444, \"#bd3786\"], [0.5555555555555556, \"#d8576b\"], [0.6666666666666666, \"#ed7953\"], [0.7777777777777778, \"#fb9f3a\"], [0.8888888888888888, \"#fdca26\"], [1.0, \"#f0f921\"]], \"type\": \"surface\"}], \"table\": [{\"cells\": {\"fill\": {\"color\": \"#EBF0F8\"}, \"line\": {\"color\": \"white\"}}, \"header\": {\"fill\": {\"color\": \"#C8D4E3\"}, \"line\": {\"color\": \"white\"}}, \"type\": \"table\"}]}, \"layout\": {\"annotationdefaults\": {\"arrowcolor\": \"#2a3f5f\", \"arrowhead\": 0, \"arrowwidth\": 1}, \"autotypenumbers\": \"strict\", \"coloraxis\": {\"colorbar\": {\"outlinewidth\": 0, \"ticks\": \"\"}}, \"colorscale\": {\"diverging\": [[0, \"#8e0152\"], [0.1, \"#c51b7d\"], [0.2, \"#de77ae\"], [0.3, \"#f1b6da\"], [0.4, \"#fde0ef\"], [0.5, \"#f7f7f7\"], [0.6, \"#e6f5d0\"], [0.7, \"#b8e186\"], [0.8, \"#7fbc41\"], [0.9, \"#4d9221\"], [1, \"#276419\"]], \"sequential\": [[0.0, \"#0d0887\"], [0.1111111111111111, \"#46039f\"], [0.2222222222222222, \"#7201a8\"], [0.3333333333333333, \"#9c179e\"], [0.4444444444444444, \"#bd3786\"], [0.5555555555555556, \"#d8576b\"], [0.6666666666666666, \"#ed7953\"], [0.7777777777777778, \"#fb9f3a\"], [0.8888888888888888, \"#fdca26\"], [1.0, \"#f0f921\"]], \"sequentialminus\": [[0.0, \"#0d0887\"], [0.1111111111111111, \"#46039f\"], [0.2222222222222222, \"#7201a8\"], [0.3333333333333333, \"#9c179e\"], [0.4444444444444444, \"#bd3786\"], [0.5555555555555556, \"#d8576b\"], [0.6666666666666666, \"#ed7953\"], [0.7777777777777778, \"#fb9f3a\"], [0.8888888888888888, \"#fdca26\"], [1.0, \"#f0f921\"]]}, \"colorway\": [\"#636efa\", \"#EF553B\", \"#00cc96\", \"#ab63fa\", \"#FFA15A\", \"#19d3f3\", \"#FF6692\", \"#B6E880\", \"#FF97FF\", \"#FECB52\"], \"font\": {\"color\": \"#2a3f5f\"}, \"geo\": {\"bgcolor\": \"white\", \"lakecolor\": \"white\", \"landcolor\": \"#E5ECF6\", \"showlakes\": true, \"showland\": true, \"subunitcolor\": \"white\"}, \"hoverlabel\": {\"align\": \"left\"}, \"hovermode\": \"closest\", \"mapbox\": {\"style\": \"light\"}, \"paper_bgcolor\": \"white\", \"plot_bgcolor\": \"#E5ECF6\", \"polar\": {\"angularaxis\": {\"gridcolor\": \"white\", \"linecolor\": \"white\", \"ticks\": \"\"}, \"bgcolor\": \"#E5ECF6\", \"radialaxis\": {\"gridcolor\": \"white\", \"linecolor\": \"white\", \"ticks\": \"\"}}, \"scene\": {\"xaxis\": {\"backgroundcolor\": \"#E5ECF6\", \"gridcolor\": \"white\", \"gridwidth\": 2, \"linecolor\": \"white\", \"showbackground\": true, \"ticks\": \"\", \"zerolinecolor\": \"white\"}, \"yaxis\": {\"backgroundcolor\": \"#E5ECF6\", \"gridcolor\": \"white\", \"gridwidth\": 2, \"linecolor\": \"white\", \"showbackground\": true, \"ticks\": \"\", \"zerolinecolor\": \"white\"}, \"zaxis\": {\"backgroundcolor\": \"#E5ECF6\", \"gridcolor\": \"white\", \"gridwidth\": 2, \"linecolor\": \"white\", \"showbackground\": true, \"ticks\": \"\", \"zerolinecolor\": \"white\"}}, \"shapedefaults\": {\"line\": {\"color\": \"#2a3f5f\"}}, \"ternary\": {\"aaxis\": {\"gridcolor\": \"white\", \"linecolor\": \"white\", \"ticks\": \"\"}, \"baxis\": {\"gridcolor\": \"white\", \"linecolor\": \"white\", \"ticks\": \"\"}, \"bgcolor\": \"#E5ECF6\", \"caxis\": {\"gridcolor\": \"white\", \"linecolor\": \"white\", \"ticks\": \"\"}}, \"title\": {\"x\": 0.05}, \"xaxis\": {\"automargin\": true, \"gridcolor\": \"white\", \"linecolor\": \"white\", \"ticks\": \"\", \"title\": {\"standoff\": 15}, \"zerolinecolor\": \"white\", \"zerolinewidth\": 2}, \"yaxis\": {\"automargin\": true, \"gridcolor\": \"white\", \"linecolor\": \"white\", \"ticks\": \"\", \"title\": {\"standoff\": 15}, \"zerolinecolor\": \"white\", \"zerolinewidth\": 2}}}, \"title\": {\"text\": \"Term frequency\"}, \"xaxis\": {\"anchor\": \"y\", \"domain\": [0.0, 1.0], \"title\": {\"text\": \"prefLabel\"}}, \"yaxis\": {\"anchor\": \"x\", \"domain\": [0.0, 1.0], \"title\": {\"text\": \"value\"}}},                        {\"responsive\": true}                    ).then(function(){\n",
       "                            \n",
       "var gd = document.getElementById('7db8a6a4-5e2a-41bd-9653-6d6d165e41f5');\n",
       "var x = new MutationObserver(function (mutations, observer) {{\n",
       "        var display = window.getComputedStyle(gd).display;\n",
       "        if (!display || display === 'none') {{\n",
       "            console.log([gd, 'removed!']);\n",
       "            Plotly.purge(gd);\n",
       "            observer.disconnect();\n",
       "        }}\n",
       "}});\n",
       "\n",
       "// Listen for the removal of the full notebook cells\n",
       "var notebookContainer = gd.closest('#notebook-container');\n",
       "if (notebookContainer) {{\n",
       "    x.observe(notebookContainer, {childList: true});\n",
       "}}\n",
       "\n",
       "// Listen for the clearing of the current output cell\n",
       "var outputEl = gd.closest('.output');\n",
       "if (outputEl) {{\n",
       "    x.observe(outputEl, {childList: true});\n",
       "}}\n",
       "\n",
       "                        })                };                });            </script>        </div>"
      ]
     },
     "metadata": {},
     "output_type": "display_data"
    }
   ],
   "source": [
    "fig = px.line(result, x=\"prefLabel\", y=[\"count_x\", \"count_y\"], title='Term frequency')\n",
    "fig.show()"
   ]
  },
  {
   "cell_type": "markdown",
   "metadata": {},
   "source": [
    "## Score BM25"
   ]
  },
  {
   "cell_type": "markdown",
   "metadata": {},
   "source": [
    "### D2KAB"
   ]
  },
  {
   "cell_type": "code",
   "execution_count": null,
   "metadata": {},
   "outputs": [],
   "source": [
    "gc = os.listdir(\"../resources/Corpus-v-12-04-21/train/CorpusTestD2kabGC.html\")\n",
    "maraichage = os.listdir(\"../resources/Corpus-v-12-04-21/train/CorpusTestD2kabMaraichage.html\")\n",
    "viticulture = os.listdir(\"../resources/Corpus-v-12-04-21/train/CorpusTestD2kabViti.html\")\n",
    "corpus_len = len(viticulture) + len(maraichage) + len(gc)"
   ]
  },
  {
   "cell_type": "code",
   "execution_count": null,
   "metadata": {},
   "outputs": [],
   "source": [
    "bm25_d2kab = pd.read_csv(\"../output/d2kab/scores/bm25_d2kab.csv\", delimiter=\"\\t\", encoding='utf-8')\n",
    "bm25_d2kab.columns = ['bsv', 'prefLabel', 'score']\n",
    "bm25_bsv = bm25_d2kab['bsv'].tolist()\n",
    "bm25_theme = []\n",
    "\n",
    "for fic in bm25_bsv:\n",
    "    fic = fic + \".html\"\n",
    "    if fic in gc:\n",
    "        bm25_theme.append(\"GC\")\n",
    "    if fic in maraichage:\n",
    "        bm25_theme.append(\"Maraichage\")\n",
    "    if fic in viticulture:\n",
    "        bm25_theme.append(\"Viticulture\")\n",
    "        \n",
    "bm25_d2kab['theme'] = bm25_theme\n",
    "bm25_d2kab"
   ]
  },
  {
   "cell_type": "code",
   "execution_count": null,
   "metadata": {},
   "outputs": [],
   "source": [
    "bm25_d2kab['prefLabel'].describe()"
   ]
  },
  {
   "cell_type": "code",
   "execution_count": null,
   "metadata": {},
   "outputs": [],
   "source": [
    "bm25_d2kab.describe()"
   ]
  },
  {
   "cell_type": "code",
   "execution_count": null,
   "metadata": {},
   "outputs": [],
   "source": [
    "fig = px.treemap(bm25_d2kab, path=['theme','prefLabel', 'score'])\n",
    "fig.show()"
   ]
  },
  {
   "cell_type": "code",
   "execution_count": null,
   "metadata": {},
   "outputs": [],
   "source": [
    "fig = px.treemap(bm25_d2kab, path=['prefLabel', 'score'])\n",
    "fig.show()"
   ]
  },
  {
   "cell_type": "code",
   "execution_count": null,
   "metadata": {},
   "outputs": [],
   "source": [
    "grouped = bm25_d2kab.groupby(\"theme\")\n",
    "for name,group in grouped:\n",
    "    print(f\"First 10 entries for {name!r}\")\n",
    "    print(\"------------------------\")\n",
    "    print(group.head(10), end=\"\\n\\n\")"
   ]
  },
  {
   "cell_type": "markdown",
   "metadata": {},
   "source": [
    "### VESPA"
   ]
  },
  {
   "cell_type": "code",
   "execution_count": null,
   "metadata": {},
   "outputs": [],
   "source": [
    "bm25vespa = pd.read_csv(\"../output/vespa/scores/bm25_vespa.csv\", delimiter=\"\\t\", encoding='utf-8')\n",
    "bm25vespa.columns = ['bsv', 'prefLabel', 'score']\n",
    "bm25vespa"
   ]
  },
  {
   "cell_type": "code",
   "execution_count": null,
   "metadata": {},
   "outputs": [],
   "source": [
    "bm25vespa['prefLabel'].describe()"
   ]
  },
  {
   "cell_type": "code",
   "execution_count": null,
   "metadata": {},
   "outputs": [],
   "source": [
    "bm25vespa.describe()"
   ]
  },
  {
   "cell_type": "code",
   "execution_count": null,
   "metadata": {},
   "outputs": [],
   "source": [
    "fig = px.treemap(bm25vespa, path=['prefLabel', 'score'])\n",
    "fig.show()"
   ]
  },
  {
   "cell_type": "markdown",
   "metadata": {},
   "source": [
    "### Scores D2KAB vs VESPA"
   ]
  },
  {
   "cell_type": "code",
   "execution_count": null,
   "metadata": {},
   "outputs": [],
   "source": [
    "bm25_d2kab_mean = bm25_d2kab.groupby('prefLabel')['score'].agg([pd.np.mean])\n",
    "bm25_vespa_mean = bm25vespa.groupby('prefLabel')['score'].agg([pd.np.mean])"
   ]
  },
  {
   "cell_type": "code",
   "execution_count": null,
   "metadata": {},
   "outputs": [],
   "source": [
    "result_mean = pd.merge(bm25_vespa_mean, bm25_d2kab_mean, on=\"prefLabel\")\n",
    "result_mean.columns = [ 'd2kab', 'vespa']\n",
    "result_mean.sort_values(['d2kab', 'vespa'], ascending=[False, False], inplace=True)\n",
    "result_mean"
   ]
  },
  {
   "cell_type": "code",
   "execution_count": null,
   "metadata": {},
   "outputs": [],
   "source": [
    "fig = px.bar(result_mean, x=result_mean.index, y=result_mean.columns, title='BM25')\n",
    "\n",
    "fig.update_layout(\n",
    "    margin=dict(t=200, r=200, b=200, l=200),\n",
    "    showlegend=False,\n",
    "    width=1000, height=1000,\n",
    "    autosize=False, barmode='stack', xaxis={'categoryorder':'total descending'})\n",
    "fig.show()"
   ]
  },
  {
   "cell_type": "code",
   "execution_count": null,
   "metadata": {},
   "outputs": [],
   "source": [
    "fig = px.line(result_mean, x=result_mean.index, y=result_mean.columns, title='BM25')\n",
    "fig.show()"
   ]
  },
  {
   "cell_type": "code",
   "execution_count": null,
   "metadata": {},
   "outputs": [],
   "source": [
    "fig = go.Figure()\n",
    "fig.add_trace(go.Bar(\n",
    "    x=result_mean.index,\n",
    "    y=result_mean['d2kab'],\n",
    "    name='D2KAB',\n",
    "    marker_color='indianred'\n",
    "))\n",
    "fig.add_trace(go.Bar(\n",
    "    x=result_mean.index,\n",
    "    y=result_mean['vespa'],\n",
    "    name='Vespa',\n",
    "    marker_color='lightsalmon'\n",
    "))\n",
    "\n",
    "# Here we modify the tickangle of the xaxis, resulting in rotated labels.\n",
    "fig.update_layout(barmode='group', xaxis_tickangle=-45,\n",
    "    margin=dict(t=200, r=200, b=200, l=200),\n",
    "    showlegend=False,\n",
    "    width=1500, height=1000,\n",
    "    autosize=False)\n",
    "fig.show()"
   ]
  },
  {
   "cell_type": "code",
   "execution_count": null,
   "metadata": {},
   "outputs": [],
   "source": [
    "fig = px.funnel(result_mean, x=result_mean.columns, y=result_mean.index)\n",
    "fig.update_layout(\n",
    "    margin=dict(t=200, r=200, b=200, l=200),\n",
    "    showlegend=False,\n",
    "    width=1000, height=1500,\n",
    "    autosize=False)\n",
    "fig.show()"
   ]
  },
  {
   "cell_type": "code",
   "execution_count": null,
   "metadata": {},
   "outputs": [],
   "source": [
    "# similarité des corpus\n",
    "print(1 - cosine(result_mean[\"d2kab\"], result_mean[\"vespa\"]))"
   ]
  },
  {
   "cell_type": "code",
   "execution_count": null,
   "metadata": {},
   "outputs": [],
   "source": []
  },
  {
   "cell_type": "code",
   "execution_count": null,
   "metadata": {},
   "outputs": [],
   "source": []
  },
  {
   "cell_type": "code",
   "execution_count": null,
   "metadata": {},
   "outputs": [],
   "source": []
  },
  {
   "cell_type": "code",
   "execution_count": null,
   "metadata": {},
   "outputs": [],
   "source": []
  },
  {
   "cell_type": "code",
   "execution_count": null,
   "metadata": {},
   "outputs": [],
   "source": []
  },
  {
   "cell_type": "code",
   "execution_count": null,
   "metadata": {},
   "outputs": [],
   "source": []
  },
  {
   "cell_type": "code",
   "execution_count": null,
   "metadata": {},
   "outputs": [],
   "source": []
  },
  {
   "cell_type": "code",
   "execution_count": null,
   "metadata": {},
   "outputs": [],
   "source": []
  },
  {
   "cell_type": "code",
   "execution_count": null,
   "metadata": {},
   "outputs": [],
   "source": []
  },
  {
   "cell_type": "code",
   "execution_count": null,
   "metadata": {},
   "outputs": [],
   "source": []
  },
  {
   "cell_type": "code",
   "execution_count": null,
   "metadata": {},
   "outputs": [],
   "source": []
  },
  {
   "cell_type": "code",
   "execution_count": null,
   "metadata": {},
   "outputs": [],
   "source": []
  },
  {
   "cell_type": "code",
   "execution_count": null,
   "metadata": {},
   "outputs": [],
   "source": [
    "#zipf law :\n",
    "#the most frequent word occurs twice as often as the second most frequent work\n",
    "#three times as often as the subsequent word, and so on until the least frequent word\n",
    "\n",
    "import matplotlib.pyplot as plt\n",
    "from scipy.stats import zipf\n",
    "\n",
    "inv_map = {v: k for k, v in counts_d2kab.items()}\n",
    "lst = list(inv_map.items())\n",
    "\n",
    "plt.bar([key for val, key in lst], [val for val, key in lst], color='limegreen')\n",
    "alpha = 1.37065874\n",
    "total = sum([p for p, c in lst])\n",
    "plt.plot(range(len(lst)), [zipf.pmf(p, alpha) * total for p in range(1, len(lst) + 1)], color='crimson', lw=3)\n",
    "plt.ylabel(\"Frequency\")\n",
    "plt.xticks(rotation='vertical')\n",
    "plt.tight_layout()\n",
    "plt.rcParams[\"figure.figsize\"] = (100,50)\n",
    "plt.rcParams.update({'font.size': 72})\n",
    "# plot has more area below the expected zipf curve in higher rank words, and inverse for those that are more important\n",
    "plt.show()"
   ]
  },
  {
   "cell_type": "code",
   "execution_count": null,
   "metadata": {},
   "outputs": [],
   "source": [
    "# At the extreme right end of the plotted line, there are apparent steps, \n",
    "# which means that a lot of words have quite low occurences. \n",
    "# At the extreme left end, the line is quite flat, \n",
    "# which means the frequencies of the first few most frequent words are close that they do not drop as quickly as the ones ranking in the middle.\n",
    "    \n",
    "zipfFit(counts_d2kab, 'd2kab', toPlot=True, pr=True, ret=False)"
   ]
  },
  {
   "cell_type": "code",
   "execution_count": null,
   "metadata": {},
   "outputs": [],
   "source": [
    "def zipfFit(fdist, name, toPlot=False, pr=False, ret=True):\n",
    "    fsort_tuple = sorted(fdist.items(), key=operator.itemgetter(1),\n",
    "    reverse=True)\n",
    "    y_vals = np.array([t[1] for t in fsort_tuple])\n",
    "    x_vals = np.array(range(1, len(y_vals) + 1))\n",
    "    if toPlot:\n",
    "        plt.title(name)\n",
    "        plt.rcParams['figure.figsize'] = (50.0, 50.0)\n",
    "        plt.plot([np.log(x) for x in x_vals], \n",
    "            [np.log(y) for y in y_vals], 'ro')\n",
    "        plt.xlabel('log(rank)')\n",
    "        plt.ylabel('log(count)')\n",
    "        plt.show()\n",
    "    slope, intercept, r_value, p_value, std_err = stats.linregress(\n",
    "        np.log(x_vals.astype(float)),\n",
    "        np.log(y_vals.astype(float)))\n",
    "    if pr:\n",
    "        print(\"log-log r-squared for \" + name + \":\", r_value**2)\n",
    "    if ret:\n",
    "        return([slope, intercept, r_value**2])"
   ]
  },
  {
   "cell_type": "code",
   "execution_count": null,
   "metadata": {},
   "outputs": [],
   "source": [
    "inv_map = {v: k for k, v in counts_vespa.items()}\n",
    "lst = list(inv_map.items())\n",
    "\n",
    "plt.bar([key for val, key in lst], [val for val, key in lst], color='limegreen')\n",
    "alpha = 1.37065874\n",
    "total = sum([p for p, c in lst])\n",
    "plt.plot(range(len(lst)), [zipf.pmf(p, alpha) * total for p in range(1, len(lst) + 1)], color='crimson', lw=3)\n",
    "plt.ylabel(\"Frequency\")\n",
    "plt.xticks(rotation='vertical')\n",
    "plt.tight_layout()\n",
    "plt.rcParams[\"figure.figsize\"] = (100,50)\n",
    "plt.rcParams.update({'font.size': 72})\n",
    "plt.show()\n",
    "# At the extreme right end of the plotted line, there are apparent steps, \n",
    "# which means that a lot of words have quite low occurences. \n",
    "# At the extreme left end, the line is quite flat, \n",
    "# which means the frequencies of the first few most frequent words are close that they do not drop as quickly as the ones ranking in the middle.\n",
    "\n",
    "    \n",
    "zipfFit(counts_vespa, 'vespa', toPlot=True, pr=True, ret=False)"
   ]
  },
  {
   "cell_type": "code",
   "execution_count": null,
   "metadata": {},
   "outputs": [],
   "source": [
    "#inv_map1 = {v: k for k, v in counts_d2kab.items()}\n",
    "alpha = 1.37065874\n",
    "inv_map1 = dict(zip(result.d2kab, result.prefLabel))\n",
    "lst1 = list(inv_map1.items())\n",
    "plt.bar([key for val, key in lst1], [val for val, key in lst1], color='limegreen')\n",
    "total1 = sum([p for p, c in lst1])\n",
    "plt.plot(range(len(lst1)), [zipf.pmf(p, alpha) * total1 for p in range(1, len(lst1) + 1)], color='cyan', lw=3)\n",
    "\n",
    "\n",
    "\n",
    "#inv_map2 = {v: k for k, v in counts_vespa.items()}\n",
    "inv_map2 = dict(zip(result.vespa, result.prefLabel))\n",
    "lst2 = list(inv_map2.items())\n",
    "plt.bar([key for val, key in lst2], [val for val, key in lst2], color='red')\n",
    "total2 = sum([p for p, c in lst2])\n",
    "plt.plot(range(len(lst2)), [zipf.pmf(p, alpha) * total2 for p in range(1, len(lst2) + 1)], color='crimson', lw=3)\n",
    "\n",
    "plt.ylabel(\"Frequency\")\n",
    "plt.xticks(rotation='vertical')\n",
    "plt.tight_layout()\n",
    "plt.rcParams[\"figure.figsize\"] = (100,50)\n",
    "plt.rcParams.update({'font.size': 72})\n",
    "plt.show()"
   ]
  }
 ],
 "metadata": {
  "kernelspec": {
   "display_name": "Python 3",
   "language": "python",
   "name": "python3"
  },
  "language_info": {
   "codemirror_mode": {
    "name": "ipython",
    "version": 3
   },
   "file_extension": ".py",
   "mimetype": "text/x-python",
   "name": "python",
   "nbconvert_exporter": "python",
   "pygments_lexer": "ipython3",
   "version": "3.8.5"
  }
 },
 "nbformat": 4,
 "nbformat_minor": 4
}
