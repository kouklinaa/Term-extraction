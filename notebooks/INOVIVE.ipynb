{
 "cells": [
  {
   "cell_type": "markdown",
   "metadata": {},
   "source": [
    "# Annotation of Health Plant Bulletins"
   ]
  },
  {
   "cell_type": "code",
   "execution_count": 25,
   "metadata": {},
   "outputs": [],
   "source": [
    "# packages\n",
    "import pandas as pd\n",
    "import os\n",
    "import plotly.graph_objects as go\n",
    "import plotly.express as px"
   ]
  },
  {
   "cell_type": "markdown",
   "metadata": {},
   "source": [
    "## Corpus"
   ]
  },
  {
   "cell_type": "code",
   "execution_count": 52,
   "metadata": {},
   "outputs": [
    {
     "name": "stdout",
     "output_type": "stream",
     "text": [
      "\n",
      "Total : 230 bulletins found\n"
     ]
    }
   ],
   "source": [
    "total = 0\n",
    "for root, dirs, files in os.walk(\"../resources/corpus/Corpus-v-12-04-21/train/\"):\n",
    "    total += len(files)\n",
    "print(\"\\nTotal : {} bulletins found\".format(total))"
   ]
  },
  {
   "cell_type": "code",
   "execution_count": 53,
   "metadata": {},
   "outputs": [
    {
     "name": "stdout",
     "output_type": "stream",
     "text": [
      "Grandes cultures : 94\n",
      "Viticulture : 77\n",
      "Maraichage : 59\n"
     ]
    }
   ],
   "source": [
    "grandes_cultures = os.listdir(\"../resources/corpus/Corpus-v-12-04-21/train/CorpusTestD2kabGC.html\")\n",
    "viticulture = os.listdir(\"../resources/corpus/Corpus-v-12-04-21/train/CorpusTestD2kabViti.html\")\n",
    "maraichage = os.listdir(\"../resources/corpus/Corpus-v-12-04-21/train/CorpusTestD2kabMaraichage.html\")\n",
    "print(\"Grandes cultures : {}\".format(len(grandes_cultures)))\n",
    "print(\"Viticulture : {}\".format(len(viticulture)))\n",
    "print(\"Maraichage : {}\".format(len(maraichage)))\n"
   ]
  },
  {
   "cell_type": "markdown",
   "metadata": {},
   "source": [
    "## Workflow\n",
    "### French Crop Usage"
   ]
  },
  {
   "cell_type": "code",
   "execution_count": null,
   "metadata": {},
   "outputs": [],
   "source": []
  },
  {
   "cell_type": "code",
   "execution_count": null,
   "metadata": {},
   "outputs": [],
   "source": []
  },
  {
   "cell_type": "code",
   "execution_count": null,
   "metadata": {},
   "outputs": [],
   "source": []
  },
  {
   "cell_type": "code",
   "execution_count": null,
   "metadata": {},
   "outputs": [],
   "source": []
  },
  {
   "cell_type": "code",
   "execution_count": null,
   "metadata": {},
   "outputs": [],
   "source": []
  },
  {
   "cell_type": "markdown",
   "metadata": {},
   "source": [
    "## Workflow\n",
    "### Phenological stages"
   ]
  },
  {
   "cell_type": "code",
   "execution_count": 83,
   "metadata": {},
   "outputs": [
    {
     "data": {
      "text/html": [
       "<div>\n",
       "<style scoped>\n",
       "    .dataframe tbody tr th:only-of-type {\n",
       "        vertical-align: middle;\n",
       "    }\n",
       "\n",
       "    .dataframe tbody tr th {\n",
       "        vertical-align: top;\n",
       "    }\n",
       "\n",
       "    .dataframe thead th {\n",
       "        text-align: right;\n",
       "    }\n",
       "</style>\n",
       "<table border=\"1\" class=\"dataframe\">\n",
       "  <thead>\n",
       "    <tr style=\"text-align: right;\">\n",
       "      <th></th>\n",
       "      <th>bsv</th>\n",
       "      <th>number of words</th>\n",
       "      <th>html tag</th>\n",
       "      <th>context before</th>\n",
       "      <th>form</th>\n",
       "      <th>lemma</th>\n",
       "      <th>prefLabel</th>\n",
       "      <th>context after</th>\n",
       "      <th>location</th>\n",
       "      <th>features</th>\n",
       "      <th>corpus</th>\n",
       "    </tr>\n",
       "  </thead>\n",
       "  <tbody>\n",
       "    <tr>\n",
       "      <th>0</th>\n",
       "      <td>20180911_bsv_grandes_cultures-26_cle0f15a8</td>\n",
       "      <td>2433</td>\n",
       "      <td>html</td>\n",
       "      <td>uvette jaune dès la</td>\n",
       "      <td>levée</td>\n",
       "      <td>levée</td>\n",
       "      <td>stade secondaire BBCH 009</td>\n",
       "      <td>pour suivre les pet</td>\n",
       "      <td>97-102</td>\n",
       "      <td>type=RDFProjector, uri=http://ontology.inrae.f...</td>\n",
       "      <td>D2KAB (test)</td>\n",
       "    </tr>\n",
       "    <tr>\n",
       "      <th>1</th>\n",
       "      <td>20180911_bsv_grandes_cultures-26_cle0f15a8</td>\n",
       "      <td>2433</td>\n",
       "      <td>html</td>\n",
       "      <td>% 8% 8% 8% 0% Semis</td>\n",
       "      <td>Germination</td>\n",
       "      <td>germination</td>\n",
       "      <td>stade principal BBCH 0</td>\n",
       "      <td>levée cotylédons ét</td>\n",
       "      <td>942-953</td>\n",
       "      <td>type=RDFProjector, uri=http://ontology.inrae.f...</td>\n",
       "      <td>D2KAB (test)</td>\n",
       "    </tr>\n",
       "    <tr>\n",
       "      <th>2</th>\n",
       "      <td>20180911_bsv_grandes_cultures-26_cle0f15a8</td>\n",
       "      <td>2433</td>\n",
       "      <td>html</td>\n",
       "      <td>r le semis pour une</td>\n",
       "      <td>levée</td>\n",
       "      <td>levée</td>\n",
       "      <td>stade secondaire BBCH 009</td>\n",
       "      <td>rapide et un bon dé</td>\n",
       "      <td>3024-3029</td>\n",
       "      <td>type=RDFProjector, uri=http://ontology.inrae.f...</td>\n",
       "      <td>D2KAB (test)</td>\n",
       "    </tr>\n",
       "  </tbody>\n",
       "</table>\n",
       "</div>"
      ],
      "text/plain": [
       "                                          bsv  number of words html tag  \\\n",
       "0  20180911_bsv_grandes_cultures-26_cle0f15a8             2433     html   \n",
       "1  20180911_bsv_grandes_cultures-26_cle0f15a8             2433     html   \n",
       "2  20180911_bsv_grandes_cultures-26_cle0f15a8             2433     html   \n",
       "\n",
       "        context before         form        lemma                   prefLabel  \\\n",
       "0  uvette jaune dès la        levée        levée  stade secondaire BBCH 009    \n",
       "1  % 8% 8% 8% 0% Semis  Germination  germination      stade principal BBCH 0   \n",
       "2  r le semis pour une        levée        levée  stade secondaire BBCH 009    \n",
       "\n",
       "         context after   location  \\\n",
       "0  pour suivre les pet     97-102   \n",
       "1  levée cotylédons ét    942-953   \n",
       "2  rapide et un bon dé  3024-3029   \n",
       "\n",
       "                                            features        corpus  \n",
       "0  type=RDFProjector, uri=http://ontology.inrae.f...  D2KAB (test)  \n",
       "1  type=RDFProjector, uri=http://ontology.inrae.f...  D2KAB (test)  \n",
       "2  type=RDFProjector, uri=http://ontology.inrae.f...  D2KAB (test)  "
      ]
     },
     "execution_count": 83,
     "metadata": {},
     "output_type": "execute_result"
    }
   ],
   "source": [
    "stages = pd.read_csv(\"../output/frenchCropUsage_20210525/d2kab/stages.csv\", delimiter=\"\\t\", encoding='utf-8') # create df\n",
    "stages = stages.assign(corpus='D2KAB (test)') # add column with the name of the corpus\n",
    "stages[:3] # show first 3 elements"
   ]
  },
  {
   "cell_type": "code",
   "execution_count": 47,
   "metadata": {},
   "outputs": [
    {
     "data": {
      "text/plain": [
       "count                            491\n",
       "unique                            42\n",
       "top       stade secondaire BBCH 009 \n",
       "freq                             287\n",
       "Name: prefLabel, dtype: object"
      ]
     },
     "execution_count": 47,
     "metadata": {},
     "output_type": "execute_result"
    }
   ],
   "source": [
    "stages['prefLabel'].describe() # show stats on prefLabels"
   ]
  },
  {
   "cell_type": "code",
   "execution_count": 74,
   "metadata": {},
   "outputs": [
    {
     "data": {
      "text/plain": [
       "stade secondaire BBCH 009     287\n",
       "stade principal BBCH 0         72\n",
       "stade secondaire BBCH 89       16\n",
       "stade secondaire BBCH 30       10\n",
       "stade secondaire BBCH 14        8\n",
       "stade secondaire BBCH 57        6\n",
       "stade secondaire BBCH 00        6\n",
       "stade secondaire BBCH 75        5\n",
       "stade secondaire BBCH 61        5\n",
       "stade secondaire BBCH 16        5\n",
       "Name: prefLabel, dtype: int64"
      ]
     },
     "execution_count": 74,
     "metadata": {},
     "output_type": "execute_result"
    }
   ],
   "source": [
    "stages['prefLabel'].value_counts()[:10] # show top 10 prefLabels"
   ]
  },
  {
   "cell_type": "code",
   "execution_count": 49,
   "metadata": {},
   "outputs": [
    {
     "data": {
      "text/plain": [
       "count                                          491\n",
       "unique                                         119\n",
       "top       BSV_GC_NA_Limousin_13_20190521_cle0cb17e\n",
       "freq                                            23\n",
       "Name: bsv, dtype: object"
      ]
     },
     "execution_count": 49,
     "metadata": {},
     "output_type": "execute_result"
    }
   ],
   "source": [
    "stages['bsv'].describe() # show stats on names of bsv "
   ]
  },
  {
   "cell_type": "code",
   "execution_count": 84,
   "metadata": {},
   "outputs": [],
   "source": [
    "# add types of cultures to df\n",
    "\n",
    "for name in grandes_cultures: \n",
    "    name = name.replace(\".html\", \"\")\n",
    "    for i, n in enumerate(stages['bsv'].to_list()):\n",
    "        if name == n:\n",
    "            stages.loc[i, 'culture'] = \"GC\"\n",
    "                     \n",
    "            \n",
    "for name in viticulture:\n",
    "    name = name.replace(\".html\", \"\")\n",
    "    for i, n in enumerate(stages['bsv'].to_list()):\n",
    "        if name == n:\n",
    "            stages.loc[i, 'culture'] = \"Viti\"\n",
    "            \n",
    "            \n",
    "for name in maraichage:\n",
    "    name = name.replace(\".html\", \"\")\n",
    "    for i, n in enumerate(stages['bsv'].to_list()):\n",
    "        if name == n:\n",
    "            stages.loc[i, 'culture'] = \"Mar\""
   ]
  },
  {
   "cell_type": "code",
   "execution_count": 88,
   "metadata": {},
   "outputs": [
    {
     "data": {
      "text/html": [
       "<div>\n",
       "<style scoped>\n",
       "    .dataframe tbody tr th:only-of-type {\n",
       "        vertical-align: middle;\n",
       "    }\n",
       "\n",
       "    .dataframe tbody tr th {\n",
       "        vertical-align: top;\n",
       "    }\n",
       "\n",
       "    .dataframe thead th {\n",
       "        text-align: right;\n",
       "    }\n",
       "</style>\n",
       "<table border=\"1\" class=\"dataframe\">\n",
       "  <thead>\n",
       "    <tr style=\"text-align: right;\">\n",
       "      <th></th>\n",
       "      <th>corpus</th>\n",
       "      <th>culture</th>\n",
       "      <th>bsv</th>\n",
       "      <th>prefLabel</th>\n",
       "      <th>count</th>\n",
       "    </tr>\n",
       "  </thead>\n",
       "  <tbody>\n",
       "    <tr>\n",
       "      <th>0</th>\n",
       "      <td>D2KAB (test)</td>\n",
       "      <td>GC</td>\n",
       "      <td>20180911_bsv_grandes_cultures-26_cle0f15a8</td>\n",
       "      <td>stade principal BBCH 0</td>\n",
       "      <td>2</td>\n",
       "    </tr>\n",
       "    <tr>\n",
       "      <th>154</th>\n",
       "      <td>D2KAB (test)</td>\n",
       "      <td>Mar</td>\n",
       "      <td>BSV_Legumes_n_08_du_17_07_19_cle838d16</td>\n",
       "      <td>stade principal BBCH 0</td>\n",
       "      <td>1</td>\n",
       "    </tr>\n",
       "    <tr>\n",
       "      <th>149</th>\n",
       "      <td>D2KAB (test)</td>\n",
       "      <td>Mar</td>\n",
       "      <td>2019_BSV_Normandie_leg_22_sem35_cle43a9ca</td>\n",
       "      <td>stade principal BBCH 0</td>\n",
       "      <td>1</td>\n",
       "    </tr>\n",
       "  </tbody>\n",
       "</table>\n",
       "</div>"
      ],
      "text/plain": [
       "           corpus culture                                         bsv  \\\n",
       "0    D2KAB (test)      GC  20180911_bsv_grandes_cultures-26_cle0f15a8   \n",
       "154  D2KAB (test)     Mar      BSV_Legumes_n_08_du_17_07_19_cle838d16   \n",
       "149  D2KAB (test)     Mar   2019_BSV_Normandie_leg_22_sem35_cle43a9ca   \n",
       "\n",
       "                  prefLabel  count  \n",
       "0    stade principal BBCH 0      2  \n",
       "154  stade principal BBCH 0      1  \n",
       "149  stade principal BBCH 0      1  "
      ]
     },
     "execution_count": 88,
     "metadata": {},
     "output_type": "execute_result"
    }
   ],
   "source": [
    "grouped_stages = stages[[ 'corpus','culture','bsv','prefLabel']].groupby(['corpus', 'culture','bsv', 'prefLabel'])['prefLabel'] \\\n",
    "                             .count() \\\n",
    "                             .reset_index(name='count') \\\n",
    "                             .sort_values(['prefLabel'], ascending=True) # group by prefLabel\n",
    "\n",
    "\n",
    "grouped_stages[:3] # show new df"
   ]
  },
  {
   "cell_type": "code",
   "execution_count": 98,
   "metadata": {},
   "outputs": [
    {
     "data": {
      "text/html": [
       "<div>\n",
       "<style scoped>\n",
       "    .dataframe tbody tr th:only-of-type {\n",
       "        vertical-align: middle;\n",
       "    }\n",
       "\n",
       "    .dataframe tbody tr th {\n",
       "        vertical-align: top;\n",
       "    }\n",
       "\n",
       "    .dataframe thead tr th {\n",
       "        text-align: left;\n",
       "    }\n",
       "\n",
       "    .dataframe thead tr:last-of-type th {\n",
       "        text-align: right;\n",
       "    }\n",
       "</style>\n",
       "<table border=\"1\" class=\"dataframe\">\n",
       "  <thead>\n",
       "    <tr>\n",
       "      <th></th>\n",
       "      <th colspan=\"4\" halign=\"left\">bsv</th>\n",
       "      <th colspan=\"4\" halign=\"left\">prefLabel</th>\n",
       "    </tr>\n",
       "    <tr>\n",
       "      <th></th>\n",
       "      <th>count</th>\n",
       "      <th>unique</th>\n",
       "      <th>top</th>\n",
       "      <th>freq</th>\n",
       "      <th>count</th>\n",
       "      <th>unique</th>\n",
       "      <th>top</th>\n",
       "      <th>freq</th>\n",
       "    </tr>\n",
       "    <tr>\n",
       "      <th>culture</th>\n",
       "      <th></th>\n",
       "      <th></th>\n",
       "      <th></th>\n",
       "      <th></th>\n",
       "      <th></th>\n",
       "      <th></th>\n",
       "      <th></th>\n",
       "      <th></th>\n",
       "    </tr>\n",
       "  </thead>\n",
       "  <tbody>\n",
       "    <tr>\n",
       "      <th>GC</th>\n",
       "      <td>144</td>\n",
       "      <td>69</td>\n",
       "      <td>BSV_GC_NA_Limousin_13_20190521_cle0cb17e</td>\n",
       "      <td>15</td>\n",
       "      <td>144</td>\n",
       "      <td>34</td>\n",
       "      <td>stade secondaire BBCH 009</td>\n",
       "      <td>59</td>\n",
       "    </tr>\n",
       "    <tr>\n",
       "      <th>Mar</th>\n",
       "      <td>37</td>\n",
       "      <td>23</td>\n",
       "      <td>BSV_NA_LEGUMES_PC__INDUSTRIE_08_20190704_cle03...</td>\n",
       "      <td>7</td>\n",
       "      <td>37</td>\n",
       "      <td>11</td>\n",
       "      <td>stade principal BBCH 0</td>\n",
       "      <td>12</td>\n",
       "    </tr>\n",
       "    <tr>\n",
       "      <th>Viti</th>\n",
       "      <td>37</td>\n",
       "      <td>27</td>\n",
       "      <td>bsv_viti_lr_n03_16042019_cle82d51a</td>\n",
       "      <td>6</td>\n",
       "      <td>37</td>\n",
       "      <td>16</td>\n",
       "      <td>stade principal BBCH 0</td>\n",
       "      <td>10</td>\n",
       "    </tr>\n",
       "  </tbody>\n",
       "</table>\n",
       "</div>"
      ],
      "text/plain": [
       "          bsv                                                                 \\\n",
       "        count unique                                                top freq   \n",
       "culture                                                                        \n",
       "GC        144     69           BSV_GC_NA_Limousin_13_20190521_cle0cb17e   15   \n",
       "Mar        37     23  BSV_NA_LEGUMES_PC__INDUSTRIE_08_20190704_cle03...    7   \n",
       "Viti       37     27                 bsv_viti_lr_n03_16042019_cle82d51a    6   \n",
       "\n",
       "        prefLabel                                          \n",
       "            count unique                         top freq  \n",
       "culture                                                    \n",
       "GC            144     34  stade secondaire BBCH 009    59  \n",
       "Mar            37     11      stade principal BBCH 0   12  \n",
       "Viti           37     16      stade principal BBCH 0   10  "
      ]
     },
     "execution_count": 98,
     "metadata": {},
     "output_type": "execute_result"
    }
   ],
   "source": [
    "grouped_stages[[\"bsv\", \"prefLabel\", \"culture\"]].groupby(\"culture\").describe() # group by culture"
   ]
  },
  {
   "cell_type": "code",
   "execution_count": 96,
   "metadata": {},
   "outputs": [
    {
     "data": {
      "application/vnd.plotly.v1+json": {
       "config": {
        "plotlyServerURL": "https://plotly.com"
       },
       "data": [
        {
         "branchvalues": "total",
         "domain": {
          "x": [
           0,
           1
          ],
          "y": [
           0,
           1
          ]
         },
         "hovertemplate": "labels=%{label}<br>count=%{value}<br>parent=%{parent}<br>id=%{id}<extra></extra>",
         "ids": [
          "D2KAB (test)/GC/stade principal BBCH 0",
          "D2KAB (test)/Mar/stade principal BBCH 0",
          "D2KAB (test)/Viti/stade principal BBCH 0",
          "D2KAB (test)/GC/stade secondaire BBCH 00",
          "D2KAB (test)/Mar/stade secondaire BBCH 00",
          "D2KAB (test)/GC/stade secondaire BBCH 009 ",
          "D2KAB (test)/Mar/stade secondaire BBCH 009 ",
          "D2KAB (test)/Viti/stade secondaire BBCH 009 ",
          "D2KAB (test)/GC/stade secondaire BBCH 01",
          "D2KAB (test)/GC/stade secondaire BBCH 05",
          "D2KAB (test)/Viti/stade secondaire BBCH 05",
          "D2KAB (test)/GC/stade secondaire BBCH 09",
          "D2KAB (test)/Viti/stade secondaire BBCH 09",
          "D2KAB (test)/GC/stade secondaire BBCH 10",
          "D2KAB (test)/Viti/stade secondaire BBCH 10",
          "D2KAB (test)/GC/stade secondaire BBCH 11",
          "D2KAB (test)/Viti/stade secondaire BBCH 11",
          "D2KAB (test)/GC/stade secondaire BBCH 12",
          "D2KAB (test)/Mar/stade secondaire BBCH 12",
          "D2KAB (test)/GC/stade secondaire BBCH 13",
          "D2KAB (test)/GC/stade secondaire BBCH 14",
          "D2KAB (test)/Viti/stade secondaire BBCH 14",
          "D2KAB (test)/GC/stade secondaire BBCH 15",
          "D2KAB (test)/GC/stade secondaire BBCH 16",
          "D2KAB (test)/GC/stade secondaire BBCH 17",
          "D2KAB (test)/GC/stade secondaire BBCH 18",
          "D2KAB (test)/Mar/stade secondaire BBCH 18",
          "D2KAB (test)/GC/stade secondaire BBCH 19",
          "D2KAB (test)/GC/stade secondaire BBCH 21",
          "D2KAB (test)/GC/stade secondaire BBCH 29",
          "D2KAB (test)/GC/stade secondaire BBCH 30",
          "D2KAB (test)/GC/stade secondaire BBCH 31",
          "D2KAB (test)/GC/stade secondaire BBCH 32",
          "D2KAB (test)/GC/stade secondaire BBCH 39",
          "D2KAB (test)/GC/stade secondaire BBCH 45",
          "D2KAB (test)/GC/stade secondaire BBCH 51",
          "D2KAB (test)/GC/stade secondaire BBCH 53",
          "D2KAB (test)/Viti/stade secondaire BBCH 53",
          "D2KAB (test)/GC/stade secondaire BBCH 55",
          "D2KAB (test)/Viti/stade secondaire BBCH 55",
          "D2KAB (test)/GC/stade secondaire BBCH 57",
          "D2KAB (test)/Viti/stade secondaire BBCH 57",
          "D2KAB (test)/GC/stade secondaire BBCH 59",
          "D2KAB (test)/GC/stade secondaire BBCH 60",
          "D2KAB (test)/GC/stade secondaire BBCH 61",
          "D2KAB (test)/Mar/stade secondaire BBCH 61",
          "D2KAB (test)/Mar/stade secondaire BBCH 62",
          "D2KAB (test)/GC/stade secondaire BBCH 65",
          "D2KAB (test)/Mar/stade secondaire BBCH 68",
          "D2KAB (test)/GC/stade secondaire BBCH 69",
          "D2KAB (test)/Mar/stade secondaire BBCH 69",
          "D2KAB (test)/Viti/stade secondaire BBCH 69",
          "D2KAB (test)/GC/stade secondaire BBCH 70",
          "D2KAB (test)/Mar/stade secondaire BBCH 71",
          "D2KAB (test)/GC/stade secondaire BBCH 73",
          "D2KAB (test)/Viti/stade secondaire BBCH 75",
          "D2KAB (test)/Viti/stade secondaire BBCH 77",
          "D2KAB (test)/Viti/stade secondaire BBCH 79",
          "D2KAB (test)/Viti/stade secondaire BBCH 81",
          "D2KAB (test)/Mar/stade secondaire BBCH 89",
          "D2KAB (test)/Viti/stade secondaire BBCH 89",
          "D2KAB (test)/GC",
          "D2KAB (test)/Mar",
          "D2KAB (test)/Viti",
          "D2KAB (test)"
         ],
         "labels": [
          "stade principal BBCH 0",
          "stade principal BBCH 0",
          "stade principal BBCH 0",
          "stade secondaire BBCH 00",
          "stade secondaire BBCH 00",
          "stade secondaire BBCH 009 ",
          "stade secondaire BBCH 009 ",
          "stade secondaire BBCH 009 ",
          "stade secondaire BBCH 01",
          "stade secondaire BBCH 05",
          "stade secondaire BBCH 05",
          "stade secondaire BBCH 09",
          "stade secondaire BBCH 09",
          "stade secondaire BBCH 10",
          "stade secondaire BBCH 10",
          "stade secondaire BBCH 11",
          "stade secondaire BBCH 11",
          "stade secondaire BBCH 12",
          "stade secondaire BBCH 12",
          "stade secondaire BBCH 13",
          "stade secondaire BBCH 14",
          "stade secondaire BBCH 14",
          "stade secondaire BBCH 15",
          "stade secondaire BBCH 16",
          "stade secondaire BBCH 17",
          "stade secondaire BBCH 18",
          "stade secondaire BBCH 18",
          "stade secondaire BBCH 19",
          "stade secondaire BBCH 21",
          "stade secondaire BBCH 29",
          "stade secondaire BBCH 30",
          "stade secondaire BBCH 31",
          "stade secondaire BBCH 32",
          "stade secondaire BBCH 39",
          "stade secondaire BBCH 45",
          "stade secondaire BBCH 51",
          "stade secondaire BBCH 53",
          "stade secondaire BBCH 53",
          "stade secondaire BBCH 55",
          "stade secondaire BBCH 55",
          "stade secondaire BBCH 57",
          "stade secondaire BBCH 57",
          "stade secondaire BBCH 59",
          "stade secondaire BBCH 60",
          "stade secondaire BBCH 61",
          "stade secondaire BBCH 61",
          "stade secondaire BBCH 62",
          "stade secondaire BBCH 65",
          "stade secondaire BBCH 68",
          "stade secondaire BBCH 69",
          "stade secondaire BBCH 69",
          "stade secondaire BBCH 69",
          "stade secondaire BBCH 70",
          "stade secondaire BBCH 71",
          "stade secondaire BBCH 73",
          "stade secondaire BBCH 75",
          "stade secondaire BBCH 77",
          "stade secondaire BBCH 79",
          "stade secondaire BBCH 81",
          "stade secondaire BBCH 89",
          "stade secondaire BBCH 89",
          "GC",
          "Mar",
          "Viti",
          "D2KAB (test)"
         ],
         "name": "",
         "parents": [
          "D2KAB (test)/GC",
          "D2KAB (test)/Mar",
          "D2KAB (test)/Viti",
          "D2KAB (test)/GC",
          "D2KAB (test)/Mar",
          "D2KAB (test)/GC",
          "D2KAB (test)/Mar",
          "D2KAB (test)/Viti",
          "D2KAB (test)/GC",
          "D2KAB (test)/GC",
          "D2KAB (test)/Viti",
          "D2KAB (test)/GC",
          "D2KAB (test)/Viti",
          "D2KAB (test)/GC",
          "D2KAB (test)/Viti",
          "D2KAB (test)/GC",
          "D2KAB (test)/Viti",
          "D2KAB (test)/GC",
          "D2KAB (test)/Mar",
          "D2KAB (test)/GC",
          "D2KAB (test)/GC",
          "D2KAB (test)/Viti",
          "D2KAB (test)/GC",
          "D2KAB (test)/GC",
          "D2KAB (test)/GC",
          "D2KAB (test)/GC",
          "D2KAB (test)/Mar",
          "D2KAB (test)/GC",
          "D2KAB (test)/GC",
          "D2KAB (test)/GC",
          "D2KAB (test)/GC",
          "D2KAB (test)/GC",
          "D2KAB (test)/GC",
          "D2KAB (test)/GC",
          "D2KAB (test)/GC",
          "D2KAB (test)/GC",
          "D2KAB (test)/GC",
          "D2KAB (test)/Viti",
          "D2KAB (test)/GC",
          "D2KAB (test)/Viti",
          "D2KAB (test)/GC",
          "D2KAB (test)/Viti",
          "D2KAB (test)/GC",
          "D2KAB (test)/GC",
          "D2KAB (test)/GC",
          "D2KAB (test)/Mar",
          "D2KAB (test)/Mar",
          "D2KAB (test)/GC",
          "D2KAB (test)/Mar",
          "D2KAB (test)/GC",
          "D2KAB (test)/Mar",
          "D2KAB (test)/Viti",
          "D2KAB (test)/GC",
          "D2KAB (test)/Mar",
          "D2KAB (test)/GC",
          "D2KAB (test)/Viti",
          "D2KAB (test)/Viti",
          "D2KAB (test)/Viti",
          "D2KAB (test)/Viti",
          "D2KAB (test)/Mar",
          "D2KAB (test)/Viti",
          "D2KAB (test)",
          "D2KAB (test)",
          "D2KAB (test)",
          ""
         ],
         "type": "sunburst",
         "values": [
          33,
          14,
          25,
          3,
          3,
          259,
          24,
          4,
          1,
          1,
          1,
          2,
          1,
          3,
          1,
          2,
          1,
          2,
          1,
          3,
          7,
          1,
          1,
          5,
          3,
          3,
          1,
          4,
          1,
          2,
          10,
          1,
          1,
          1,
          1,
          4,
          3,
          1,
          1,
          2,
          4,
          2,
          1,
          2,
          1,
          4,
          1,
          1,
          1,
          1,
          1,
          2,
          1,
          1,
          2,
          5,
          2,
          4,
          2,
          15,
          1,
          370,
          66,
          55,
          491
         ]
        }
       ],
       "layout": {
        "autosize": false,
        "font": {
         "size": 25
        },
        "height": 1000,
        "legend": {
         "tracegroupgap": 0
        },
        "margin": {
         "t": 60
        },
        "showlegend": false,
        "template": {
         "data": {
          "bar": [
           {
            "error_x": {
             "color": "#2a3f5f"
            },
            "error_y": {
             "color": "#2a3f5f"
            },
            "marker": {
             "line": {
              "color": "#E5ECF6",
              "width": 0.5
             }
            },
            "type": "bar"
           }
          ],
          "barpolar": [
           {
            "marker": {
             "line": {
              "color": "#E5ECF6",
              "width": 0.5
             }
            },
            "type": "barpolar"
           }
          ],
          "carpet": [
           {
            "aaxis": {
             "endlinecolor": "#2a3f5f",
             "gridcolor": "white",
             "linecolor": "white",
             "minorgridcolor": "white",
             "startlinecolor": "#2a3f5f"
            },
            "baxis": {
             "endlinecolor": "#2a3f5f",
             "gridcolor": "white",
             "linecolor": "white",
             "minorgridcolor": "white",
             "startlinecolor": "#2a3f5f"
            },
            "type": "carpet"
           }
          ],
          "choropleth": [
           {
            "colorbar": {
             "outlinewidth": 0,
             "ticks": ""
            },
            "type": "choropleth"
           }
          ],
          "contour": [
           {
            "colorbar": {
             "outlinewidth": 0,
             "ticks": ""
            },
            "colorscale": [
             [
              0,
              "#0d0887"
             ],
             [
              0.1111111111111111,
              "#46039f"
             ],
             [
              0.2222222222222222,
              "#7201a8"
             ],
             [
              0.3333333333333333,
              "#9c179e"
             ],
             [
              0.4444444444444444,
              "#bd3786"
             ],
             [
              0.5555555555555556,
              "#d8576b"
             ],
             [
              0.6666666666666666,
              "#ed7953"
             ],
             [
              0.7777777777777778,
              "#fb9f3a"
             ],
             [
              0.8888888888888888,
              "#fdca26"
             ],
             [
              1,
              "#f0f921"
             ]
            ],
            "type": "contour"
           }
          ],
          "contourcarpet": [
           {
            "colorbar": {
             "outlinewidth": 0,
             "ticks": ""
            },
            "type": "contourcarpet"
           }
          ],
          "heatmap": [
           {
            "colorbar": {
             "outlinewidth": 0,
             "ticks": ""
            },
            "colorscale": [
             [
              0,
              "#0d0887"
             ],
             [
              0.1111111111111111,
              "#46039f"
             ],
             [
              0.2222222222222222,
              "#7201a8"
             ],
             [
              0.3333333333333333,
              "#9c179e"
             ],
             [
              0.4444444444444444,
              "#bd3786"
             ],
             [
              0.5555555555555556,
              "#d8576b"
             ],
             [
              0.6666666666666666,
              "#ed7953"
             ],
             [
              0.7777777777777778,
              "#fb9f3a"
             ],
             [
              0.8888888888888888,
              "#fdca26"
             ],
             [
              1,
              "#f0f921"
             ]
            ],
            "type": "heatmap"
           }
          ],
          "heatmapgl": [
           {
            "colorbar": {
             "outlinewidth": 0,
             "ticks": ""
            },
            "colorscale": [
             [
              0,
              "#0d0887"
             ],
             [
              0.1111111111111111,
              "#46039f"
             ],
             [
              0.2222222222222222,
              "#7201a8"
             ],
             [
              0.3333333333333333,
              "#9c179e"
             ],
             [
              0.4444444444444444,
              "#bd3786"
             ],
             [
              0.5555555555555556,
              "#d8576b"
             ],
             [
              0.6666666666666666,
              "#ed7953"
             ],
             [
              0.7777777777777778,
              "#fb9f3a"
             ],
             [
              0.8888888888888888,
              "#fdca26"
             ],
             [
              1,
              "#f0f921"
             ]
            ],
            "type": "heatmapgl"
           }
          ],
          "histogram": [
           {
            "marker": {
             "colorbar": {
              "outlinewidth": 0,
              "ticks": ""
             }
            },
            "type": "histogram"
           }
          ],
          "histogram2d": [
           {
            "colorbar": {
             "outlinewidth": 0,
             "ticks": ""
            },
            "colorscale": [
             [
              0,
              "#0d0887"
             ],
             [
              0.1111111111111111,
              "#46039f"
             ],
             [
              0.2222222222222222,
              "#7201a8"
             ],
             [
              0.3333333333333333,
              "#9c179e"
             ],
             [
              0.4444444444444444,
              "#bd3786"
             ],
             [
              0.5555555555555556,
              "#d8576b"
             ],
             [
              0.6666666666666666,
              "#ed7953"
             ],
             [
              0.7777777777777778,
              "#fb9f3a"
             ],
             [
              0.8888888888888888,
              "#fdca26"
             ],
             [
              1,
              "#f0f921"
             ]
            ],
            "type": "histogram2d"
           }
          ],
          "histogram2dcontour": [
           {
            "colorbar": {
             "outlinewidth": 0,
             "ticks": ""
            },
            "colorscale": [
             [
              0,
              "#0d0887"
             ],
             [
              0.1111111111111111,
              "#46039f"
             ],
             [
              0.2222222222222222,
              "#7201a8"
             ],
             [
              0.3333333333333333,
              "#9c179e"
             ],
             [
              0.4444444444444444,
              "#bd3786"
             ],
             [
              0.5555555555555556,
              "#d8576b"
             ],
             [
              0.6666666666666666,
              "#ed7953"
             ],
             [
              0.7777777777777778,
              "#fb9f3a"
             ],
             [
              0.8888888888888888,
              "#fdca26"
             ],
             [
              1,
              "#f0f921"
             ]
            ],
            "type": "histogram2dcontour"
           }
          ],
          "mesh3d": [
           {
            "colorbar": {
             "outlinewidth": 0,
             "ticks": ""
            },
            "type": "mesh3d"
           }
          ],
          "parcoords": [
           {
            "line": {
             "colorbar": {
              "outlinewidth": 0,
              "ticks": ""
             }
            },
            "type": "parcoords"
           }
          ],
          "pie": [
           {
            "automargin": true,
            "type": "pie"
           }
          ],
          "scatter": [
           {
            "marker": {
             "colorbar": {
              "outlinewidth": 0,
              "ticks": ""
             }
            },
            "type": "scatter"
           }
          ],
          "scatter3d": [
           {
            "line": {
             "colorbar": {
              "outlinewidth": 0,
              "ticks": ""
             }
            },
            "marker": {
             "colorbar": {
              "outlinewidth": 0,
              "ticks": ""
             }
            },
            "type": "scatter3d"
           }
          ],
          "scattercarpet": [
           {
            "marker": {
             "colorbar": {
              "outlinewidth": 0,
              "ticks": ""
             }
            },
            "type": "scattercarpet"
           }
          ],
          "scattergeo": [
           {
            "marker": {
             "colorbar": {
              "outlinewidth": 0,
              "ticks": ""
             }
            },
            "type": "scattergeo"
           }
          ],
          "scattergl": [
           {
            "marker": {
             "colorbar": {
              "outlinewidth": 0,
              "ticks": ""
             }
            },
            "type": "scattergl"
           }
          ],
          "scattermapbox": [
           {
            "marker": {
             "colorbar": {
              "outlinewidth": 0,
              "ticks": ""
             }
            },
            "type": "scattermapbox"
           }
          ],
          "scatterpolar": [
           {
            "marker": {
             "colorbar": {
              "outlinewidth": 0,
              "ticks": ""
             }
            },
            "type": "scatterpolar"
           }
          ],
          "scatterpolargl": [
           {
            "marker": {
             "colorbar": {
              "outlinewidth": 0,
              "ticks": ""
             }
            },
            "type": "scatterpolargl"
           }
          ],
          "scatterternary": [
           {
            "marker": {
             "colorbar": {
              "outlinewidth": 0,
              "ticks": ""
             }
            },
            "type": "scatterternary"
           }
          ],
          "surface": [
           {
            "colorbar": {
             "outlinewidth": 0,
             "ticks": ""
            },
            "colorscale": [
             [
              0,
              "#0d0887"
             ],
             [
              0.1111111111111111,
              "#46039f"
             ],
             [
              0.2222222222222222,
              "#7201a8"
             ],
             [
              0.3333333333333333,
              "#9c179e"
             ],
             [
              0.4444444444444444,
              "#bd3786"
             ],
             [
              0.5555555555555556,
              "#d8576b"
             ],
             [
              0.6666666666666666,
              "#ed7953"
             ],
             [
              0.7777777777777778,
              "#fb9f3a"
             ],
             [
              0.8888888888888888,
              "#fdca26"
             ],
             [
              1,
              "#f0f921"
             ]
            ],
            "type": "surface"
           }
          ],
          "table": [
           {
            "cells": {
             "fill": {
              "color": "#EBF0F8"
             },
             "line": {
              "color": "white"
             }
            },
            "header": {
             "fill": {
              "color": "#C8D4E3"
             },
             "line": {
              "color": "white"
             }
            },
            "type": "table"
           }
          ]
         },
         "layout": {
          "annotationdefaults": {
           "arrowcolor": "#2a3f5f",
           "arrowhead": 0,
           "arrowwidth": 1
          },
          "autotypenumbers": "strict",
          "coloraxis": {
           "colorbar": {
            "outlinewidth": 0,
            "ticks": ""
           }
          },
          "colorscale": {
           "diverging": [
            [
             0,
             "#8e0152"
            ],
            [
             0.1,
             "#c51b7d"
            ],
            [
             0.2,
             "#de77ae"
            ],
            [
             0.3,
             "#f1b6da"
            ],
            [
             0.4,
             "#fde0ef"
            ],
            [
             0.5,
             "#f7f7f7"
            ],
            [
             0.6,
             "#e6f5d0"
            ],
            [
             0.7,
             "#b8e186"
            ],
            [
             0.8,
             "#7fbc41"
            ],
            [
             0.9,
             "#4d9221"
            ],
            [
             1,
             "#276419"
            ]
           ],
           "sequential": [
            [
             0,
             "#0d0887"
            ],
            [
             0.1111111111111111,
             "#46039f"
            ],
            [
             0.2222222222222222,
             "#7201a8"
            ],
            [
             0.3333333333333333,
             "#9c179e"
            ],
            [
             0.4444444444444444,
             "#bd3786"
            ],
            [
             0.5555555555555556,
             "#d8576b"
            ],
            [
             0.6666666666666666,
             "#ed7953"
            ],
            [
             0.7777777777777778,
             "#fb9f3a"
            ],
            [
             0.8888888888888888,
             "#fdca26"
            ],
            [
             1,
             "#f0f921"
            ]
           ],
           "sequentialminus": [
            [
             0,
             "#0d0887"
            ],
            [
             0.1111111111111111,
             "#46039f"
            ],
            [
             0.2222222222222222,
             "#7201a8"
            ],
            [
             0.3333333333333333,
             "#9c179e"
            ],
            [
             0.4444444444444444,
             "#bd3786"
            ],
            [
             0.5555555555555556,
             "#d8576b"
            ],
            [
             0.6666666666666666,
             "#ed7953"
            ],
            [
             0.7777777777777778,
             "#fb9f3a"
            ],
            [
             0.8888888888888888,
             "#fdca26"
            ],
            [
             1,
             "#f0f921"
            ]
           ]
          },
          "colorway": [
           "#636efa",
           "#EF553B",
           "#00cc96",
           "#ab63fa",
           "#FFA15A",
           "#19d3f3",
           "#FF6692",
           "#B6E880",
           "#FF97FF",
           "#FECB52"
          ],
          "font": {
           "color": "#2a3f5f"
          },
          "geo": {
           "bgcolor": "white",
           "lakecolor": "white",
           "landcolor": "#E5ECF6",
           "showlakes": true,
           "showland": true,
           "subunitcolor": "white"
          },
          "hoverlabel": {
           "align": "left"
          },
          "hovermode": "closest",
          "mapbox": {
           "style": "light"
          },
          "paper_bgcolor": "white",
          "plot_bgcolor": "#E5ECF6",
          "polar": {
           "angularaxis": {
            "gridcolor": "white",
            "linecolor": "white",
            "ticks": ""
           },
           "bgcolor": "#E5ECF6",
           "radialaxis": {
            "gridcolor": "white",
            "linecolor": "white",
            "ticks": ""
           }
          },
          "scene": {
           "xaxis": {
            "backgroundcolor": "#E5ECF6",
            "gridcolor": "white",
            "gridwidth": 2,
            "linecolor": "white",
            "showbackground": true,
            "ticks": "",
            "zerolinecolor": "white"
           },
           "yaxis": {
            "backgroundcolor": "#E5ECF6",
            "gridcolor": "white",
            "gridwidth": 2,
            "linecolor": "white",
            "showbackground": true,
            "ticks": "",
            "zerolinecolor": "white"
           },
           "zaxis": {
            "backgroundcolor": "#E5ECF6",
            "gridcolor": "white",
            "gridwidth": 2,
            "linecolor": "white",
            "showbackground": true,
            "ticks": "",
            "zerolinecolor": "white"
           }
          },
          "shapedefaults": {
           "line": {
            "color": "#2a3f5f"
           }
          },
          "ternary": {
           "aaxis": {
            "gridcolor": "white",
            "linecolor": "white",
            "ticks": ""
           },
           "baxis": {
            "gridcolor": "white",
            "linecolor": "white",
            "ticks": ""
           },
           "bgcolor": "#E5ECF6",
           "caxis": {
            "gridcolor": "white",
            "linecolor": "white",
            "ticks": ""
           }
          },
          "title": {
           "x": 0.05
          },
          "xaxis": {
           "automargin": true,
           "gridcolor": "white",
           "linecolor": "white",
           "ticks": "",
           "title": {
            "standoff": 15
           },
           "zerolinecolor": "white",
           "zerolinewidth": 2
          },
          "yaxis": {
           "automargin": true,
           "gridcolor": "white",
           "linecolor": "white",
           "ticks": "",
           "title": {
            "standoff": 15
           },
           "zerolinecolor": "white",
           "zerolinewidth": 2
          }
         }
        },
        "width": 1000
       }
      },
      "text/html": [
       "<div>                            <div id=\"44308a98-5bd8-41ff-a387-40ca908b2de5\" class=\"plotly-graph-div\" style=\"height:1000px; width:1000px;\"></div>            <script type=\"text/javascript\">                require([\"plotly\"], function(Plotly) {                    window.PLOTLYENV=window.PLOTLYENV || {};                                    if (document.getElementById(\"44308a98-5bd8-41ff-a387-40ca908b2de5\")) {                    Plotly.newPlot(                        \"44308a98-5bd8-41ff-a387-40ca908b2de5\",                        [{\"branchvalues\": \"total\", \"domain\": {\"x\": [0.0, 1.0], \"y\": [0.0, 1.0]}, \"hovertemplate\": \"labels=%{label}<br>count=%{value}<br>parent=%{parent}<br>id=%{id}<extra></extra>\", \"ids\": [\"D2KAB (test)/GC/stade principal BBCH 0\", \"D2KAB (test)/Mar/stade principal BBCH 0\", \"D2KAB (test)/Viti/stade principal BBCH 0\", \"D2KAB (test)/GC/stade secondaire BBCH 00\", \"D2KAB (test)/Mar/stade secondaire BBCH 00\", \"D2KAB (test)/GC/stade secondaire BBCH 009 \", \"D2KAB (test)/Mar/stade secondaire BBCH 009 \", \"D2KAB (test)/Viti/stade secondaire BBCH 009 \", \"D2KAB (test)/GC/stade secondaire BBCH 01\", \"D2KAB (test)/GC/stade secondaire BBCH 05\", \"D2KAB (test)/Viti/stade secondaire BBCH 05\", \"D2KAB (test)/GC/stade secondaire BBCH 09\", \"D2KAB (test)/Viti/stade secondaire BBCH 09\", \"D2KAB (test)/GC/stade secondaire BBCH 10\", \"D2KAB (test)/Viti/stade secondaire BBCH 10\", \"D2KAB (test)/GC/stade secondaire BBCH 11\", \"D2KAB (test)/Viti/stade secondaire BBCH 11\", \"D2KAB (test)/GC/stade secondaire BBCH 12\", \"D2KAB (test)/Mar/stade secondaire BBCH 12\", \"D2KAB (test)/GC/stade secondaire BBCH 13\", \"D2KAB (test)/GC/stade secondaire BBCH 14\", \"D2KAB (test)/Viti/stade secondaire BBCH 14\", \"D2KAB (test)/GC/stade secondaire BBCH 15\", \"D2KAB (test)/GC/stade secondaire BBCH 16\", \"D2KAB (test)/GC/stade secondaire BBCH 17\", \"D2KAB (test)/GC/stade secondaire BBCH 18\", \"D2KAB (test)/Mar/stade secondaire BBCH 18\", \"D2KAB (test)/GC/stade secondaire BBCH 19\", \"D2KAB (test)/GC/stade secondaire BBCH 21\", \"D2KAB (test)/GC/stade secondaire BBCH 29\", \"D2KAB (test)/GC/stade secondaire BBCH 30\", \"D2KAB (test)/GC/stade secondaire BBCH 31\", \"D2KAB (test)/GC/stade secondaire BBCH 32\", \"D2KAB (test)/GC/stade secondaire BBCH 39\", \"D2KAB (test)/GC/stade secondaire BBCH 45\", \"D2KAB (test)/GC/stade secondaire BBCH 51\", \"D2KAB (test)/GC/stade secondaire BBCH 53\", \"D2KAB (test)/Viti/stade secondaire BBCH 53\", \"D2KAB (test)/GC/stade secondaire BBCH 55\", \"D2KAB (test)/Viti/stade secondaire BBCH 55\", \"D2KAB (test)/GC/stade secondaire BBCH 57\", \"D2KAB (test)/Viti/stade secondaire BBCH 57\", \"D2KAB (test)/GC/stade secondaire BBCH 59\", \"D2KAB (test)/GC/stade secondaire BBCH 60\", \"D2KAB (test)/GC/stade secondaire BBCH 61\", \"D2KAB (test)/Mar/stade secondaire BBCH 61\", \"D2KAB (test)/Mar/stade secondaire BBCH 62\", \"D2KAB (test)/GC/stade secondaire BBCH 65\", \"D2KAB (test)/Mar/stade secondaire BBCH 68\", \"D2KAB (test)/GC/stade secondaire BBCH 69\", \"D2KAB (test)/Mar/stade secondaire BBCH 69\", \"D2KAB (test)/Viti/stade secondaire BBCH 69\", \"D2KAB (test)/GC/stade secondaire BBCH 70\", \"D2KAB (test)/Mar/stade secondaire BBCH 71\", \"D2KAB (test)/GC/stade secondaire BBCH 73\", \"D2KAB (test)/Viti/stade secondaire BBCH 75\", \"D2KAB (test)/Viti/stade secondaire BBCH 77\", \"D2KAB (test)/Viti/stade secondaire BBCH 79\", \"D2KAB (test)/Viti/stade secondaire BBCH 81\", \"D2KAB (test)/Mar/stade secondaire BBCH 89\", \"D2KAB (test)/Viti/stade secondaire BBCH 89\", \"D2KAB (test)/GC\", \"D2KAB (test)/Mar\", \"D2KAB (test)/Viti\", \"D2KAB (test)\"], \"labels\": [\"stade principal BBCH 0\", \"stade principal BBCH 0\", \"stade principal BBCH 0\", \"stade secondaire BBCH 00\", \"stade secondaire BBCH 00\", \"stade secondaire BBCH 009 \", \"stade secondaire BBCH 009 \", \"stade secondaire BBCH 009 \", \"stade secondaire BBCH 01\", \"stade secondaire BBCH 05\", \"stade secondaire BBCH 05\", \"stade secondaire BBCH 09\", \"stade secondaire BBCH 09\", \"stade secondaire BBCH 10\", \"stade secondaire BBCH 10\", \"stade secondaire BBCH 11\", \"stade secondaire BBCH 11\", \"stade secondaire BBCH 12\", \"stade secondaire BBCH 12\", \"stade secondaire BBCH 13\", \"stade secondaire BBCH 14\", \"stade secondaire BBCH 14\", \"stade secondaire BBCH 15\", \"stade secondaire BBCH 16\", \"stade secondaire BBCH 17\", \"stade secondaire BBCH 18\", \"stade secondaire BBCH 18\", \"stade secondaire BBCH 19\", \"stade secondaire BBCH 21\", \"stade secondaire BBCH 29\", \"stade secondaire BBCH 30\", \"stade secondaire BBCH 31\", \"stade secondaire BBCH 32\", \"stade secondaire BBCH 39\", \"stade secondaire BBCH 45\", \"stade secondaire BBCH 51\", \"stade secondaire BBCH 53\", \"stade secondaire BBCH 53\", \"stade secondaire BBCH 55\", \"stade secondaire BBCH 55\", \"stade secondaire BBCH 57\", \"stade secondaire BBCH 57\", \"stade secondaire BBCH 59\", \"stade secondaire BBCH 60\", \"stade secondaire BBCH 61\", \"stade secondaire BBCH 61\", \"stade secondaire BBCH 62\", \"stade secondaire BBCH 65\", \"stade secondaire BBCH 68\", \"stade secondaire BBCH 69\", \"stade secondaire BBCH 69\", \"stade secondaire BBCH 69\", \"stade secondaire BBCH 70\", \"stade secondaire BBCH 71\", \"stade secondaire BBCH 73\", \"stade secondaire BBCH 75\", \"stade secondaire BBCH 77\", \"stade secondaire BBCH 79\", \"stade secondaire BBCH 81\", \"stade secondaire BBCH 89\", \"stade secondaire BBCH 89\", \"GC\", \"Mar\", \"Viti\", \"D2KAB (test)\"], \"name\": \"\", \"parents\": [\"D2KAB (test)/GC\", \"D2KAB (test)/Mar\", \"D2KAB (test)/Viti\", \"D2KAB (test)/GC\", \"D2KAB (test)/Mar\", \"D2KAB (test)/GC\", \"D2KAB (test)/Mar\", \"D2KAB (test)/Viti\", \"D2KAB (test)/GC\", \"D2KAB (test)/GC\", \"D2KAB (test)/Viti\", \"D2KAB (test)/GC\", \"D2KAB (test)/Viti\", \"D2KAB (test)/GC\", \"D2KAB (test)/Viti\", \"D2KAB (test)/GC\", \"D2KAB (test)/Viti\", \"D2KAB (test)/GC\", \"D2KAB (test)/Mar\", \"D2KAB (test)/GC\", \"D2KAB (test)/GC\", \"D2KAB (test)/Viti\", \"D2KAB (test)/GC\", \"D2KAB (test)/GC\", \"D2KAB (test)/GC\", \"D2KAB (test)/GC\", \"D2KAB (test)/Mar\", \"D2KAB (test)/GC\", \"D2KAB (test)/GC\", \"D2KAB (test)/GC\", \"D2KAB (test)/GC\", \"D2KAB (test)/GC\", \"D2KAB (test)/GC\", \"D2KAB (test)/GC\", \"D2KAB (test)/GC\", \"D2KAB (test)/GC\", \"D2KAB (test)/GC\", \"D2KAB (test)/Viti\", \"D2KAB (test)/GC\", \"D2KAB (test)/Viti\", \"D2KAB (test)/GC\", \"D2KAB (test)/Viti\", \"D2KAB (test)/GC\", \"D2KAB (test)/GC\", \"D2KAB (test)/GC\", \"D2KAB (test)/Mar\", \"D2KAB (test)/Mar\", \"D2KAB (test)/GC\", \"D2KAB (test)/Mar\", \"D2KAB (test)/GC\", \"D2KAB (test)/Mar\", \"D2KAB (test)/Viti\", \"D2KAB (test)/GC\", \"D2KAB (test)/Mar\", \"D2KAB (test)/GC\", \"D2KAB (test)/Viti\", \"D2KAB (test)/Viti\", \"D2KAB (test)/Viti\", \"D2KAB (test)/Viti\", \"D2KAB (test)/Mar\", \"D2KAB (test)/Viti\", \"D2KAB (test)\", \"D2KAB (test)\", \"D2KAB (test)\", \"\"], \"type\": \"sunburst\", \"values\": [33, 14, 25, 3, 3, 259, 24, 4, 1, 1, 1, 2, 1, 3, 1, 2, 1, 2, 1, 3, 7, 1, 1, 5, 3, 3, 1, 4, 1, 2, 10, 1, 1, 1, 1, 4, 3, 1, 1, 2, 4, 2, 1, 2, 1, 4, 1, 1, 1, 1, 1, 2, 1, 1, 2, 5, 2, 4, 2, 15, 1, 370, 66, 55, 491]}],                        {\"autosize\": false, \"font\": {\"size\": 25}, \"height\": 1000, \"legend\": {\"tracegroupgap\": 0}, \"margin\": {\"t\": 60}, \"showlegend\": false, \"template\": {\"data\": {\"bar\": [{\"error_x\": {\"color\": \"#2a3f5f\"}, \"error_y\": {\"color\": \"#2a3f5f\"}, \"marker\": {\"line\": {\"color\": \"#E5ECF6\", \"width\": 0.5}}, \"type\": \"bar\"}], \"barpolar\": [{\"marker\": {\"line\": {\"color\": \"#E5ECF6\", \"width\": 0.5}}, \"type\": \"barpolar\"}], \"carpet\": [{\"aaxis\": {\"endlinecolor\": \"#2a3f5f\", \"gridcolor\": \"white\", \"linecolor\": \"white\", \"minorgridcolor\": \"white\", \"startlinecolor\": \"#2a3f5f\"}, \"baxis\": {\"endlinecolor\": \"#2a3f5f\", \"gridcolor\": \"white\", \"linecolor\": \"white\", \"minorgridcolor\": \"white\", \"startlinecolor\": \"#2a3f5f\"}, \"type\": \"carpet\"}], \"choropleth\": [{\"colorbar\": {\"outlinewidth\": 0, \"ticks\": \"\"}, \"type\": \"choropleth\"}], \"contour\": [{\"colorbar\": {\"outlinewidth\": 0, \"ticks\": \"\"}, \"colorscale\": [[0.0, \"#0d0887\"], [0.1111111111111111, \"#46039f\"], [0.2222222222222222, \"#7201a8\"], [0.3333333333333333, \"#9c179e\"], [0.4444444444444444, \"#bd3786\"], [0.5555555555555556, \"#d8576b\"], [0.6666666666666666, \"#ed7953\"], [0.7777777777777778, \"#fb9f3a\"], [0.8888888888888888, \"#fdca26\"], [1.0, \"#f0f921\"]], \"type\": \"contour\"}], \"contourcarpet\": [{\"colorbar\": {\"outlinewidth\": 0, \"ticks\": \"\"}, \"type\": \"contourcarpet\"}], \"heatmap\": [{\"colorbar\": {\"outlinewidth\": 0, \"ticks\": \"\"}, \"colorscale\": [[0.0, \"#0d0887\"], [0.1111111111111111, \"#46039f\"], [0.2222222222222222, \"#7201a8\"], [0.3333333333333333, \"#9c179e\"], [0.4444444444444444, \"#bd3786\"], [0.5555555555555556, \"#d8576b\"], [0.6666666666666666, \"#ed7953\"], [0.7777777777777778, \"#fb9f3a\"], [0.8888888888888888, \"#fdca26\"], [1.0, \"#f0f921\"]], \"type\": \"heatmap\"}], \"heatmapgl\": [{\"colorbar\": {\"outlinewidth\": 0, \"ticks\": \"\"}, \"colorscale\": [[0.0, \"#0d0887\"], [0.1111111111111111, \"#46039f\"], [0.2222222222222222, \"#7201a8\"], [0.3333333333333333, \"#9c179e\"], [0.4444444444444444, \"#bd3786\"], [0.5555555555555556, \"#d8576b\"], [0.6666666666666666, \"#ed7953\"], [0.7777777777777778, \"#fb9f3a\"], [0.8888888888888888, \"#fdca26\"], [1.0, \"#f0f921\"]], \"type\": \"heatmapgl\"}], \"histogram\": [{\"marker\": {\"colorbar\": {\"outlinewidth\": 0, \"ticks\": \"\"}}, \"type\": \"histogram\"}], \"histogram2d\": [{\"colorbar\": {\"outlinewidth\": 0, \"ticks\": \"\"}, \"colorscale\": [[0.0, \"#0d0887\"], [0.1111111111111111, \"#46039f\"], [0.2222222222222222, \"#7201a8\"], [0.3333333333333333, \"#9c179e\"], [0.4444444444444444, \"#bd3786\"], [0.5555555555555556, \"#d8576b\"], [0.6666666666666666, \"#ed7953\"], [0.7777777777777778, \"#fb9f3a\"], [0.8888888888888888, \"#fdca26\"], [1.0, \"#f0f921\"]], \"type\": \"histogram2d\"}], \"histogram2dcontour\": [{\"colorbar\": {\"outlinewidth\": 0, \"ticks\": \"\"}, \"colorscale\": [[0.0, \"#0d0887\"], [0.1111111111111111, \"#46039f\"], [0.2222222222222222, \"#7201a8\"], [0.3333333333333333, \"#9c179e\"], [0.4444444444444444, \"#bd3786\"], [0.5555555555555556, \"#d8576b\"], [0.6666666666666666, \"#ed7953\"], [0.7777777777777778, \"#fb9f3a\"], [0.8888888888888888, \"#fdca26\"], [1.0, \"#f0f921\"]], \"type\": \"histogram2dcontour\"}], \"mesh3d\": [{\"colorbar\": {\"outlinewidth\": 0, \"ticks\": \"\"}, \"type\": \"mesh3d\"}], \"parcoords\": [{\"line\": {\"colorbar\": {\"outlinewidth\": 0, \"ticks\": \"\"}}, \"type\": \"parcoords\"}], \"pie\": [{\"automargin\": true, \"type\": \"pie\"}], \"scatter\": [{\"marker\": {\"colorbar\": {\"outlinewidth\": 0, \"ticks\": \"\"}}, \"type\": \"scatter\"}], \"scatter3d\": [{\"line\": {\"colorbar\": {\"outlinewidth\": 0, \"ticks\": \"\"}}, \"marker\": {\"colorbar\": {\"outlinewidth\": 0, \"ticks\": \"\"}}, \"type\": \"scatter3d\"}], \"scattercarpet\": [{\"marker\": {\"colorbar\": {\"outlinewidth\": 0, \"ticks\": \"\"}}, \"type\": \"scattercarpet\"}], \"scattergeo\": [{\"marker\": {\"colorbar\": {\"outlinewidth\": 0, \"ticks\": \"\"}}, \"type\": \"scattergeo\"}], \"scattergl\": [{\"marker\": {\"colorbar\": {\"outlinewidth\": 0, \"ticks\": \"\"}}, \"type\": \"scattergl\"}], \"scattermapbox\": [{\"marker\": {\"colorbar\": {\"outlinewidth\": 0, \"ticks\": \"\"}}, \"type\": \"scattermapbox\"}], \"scatterpolar\": [{\"marker\": {\"colorbar\": {\"outlinewidth\": 0, \"ticks\": \"\"}}, \"type\": \"scatterpolar\"}], \"scatterpolargl\": [{\"marker\": {\"colorbar\": {\"outlinewidth\": 0, \"ticks\": \"\"}}, \"type\": \"scatterpolargl\"}], \"scatterternary\": [{\"marker\": {\"colorbar\": {\"outlinewidth\": 0, \"ticks\": \"\"}}, \"type\": \"scatterternary\"}], \"surface\": [{\"colorbar\": {\"outlinewidth\": 0, \"ticks\": \"\"}, \"colorscale\": [[0.0, \"#0d0887\"], [0.1111111111111111, \"#46039f\"], [0.2222222222222222, \"#7201a8\"], [0.3333333333333333, \"#9c179e\"], [0.4444444444444444, \"#bd3786\"], [0.5555555555555556, \"#d8576b\"], [0.6666666666666666, \"#ed7953\"], [0.7777777777777778, \"#fb9f3a\"], [0.8888888888888888, \"#fdca26\"], [1.0, \"#f0f921\"]], \"type\": \"surface\"}], \"table\": [{\"cells\": {\"fill\": {\"color\": \"#EBF0F8\"}, \"line\": {\"color\": \"white\"}}, \"header\": {\"fill\": {\"color\": \"#C8D4E3\"}, \"line\": {\"color\": \"white\"}}, \"type\": \"table\"}]}, \"layout\": {\"annotationdefaults\": {\"arrowcolor\": \"#2a3f5f\", \"arrowhead\": 0, \"arrowwidth\": 1}, \"autotypenumbers\": \"strict\", \"coloraxis\": {\"colorbar\": {\"outlinewidth\": 0, \"ticks\": \"\"}}, \"colorscale\": {\"diverging\": [[0, \"#8e0152\"], [0.1, \"#c51b7d\"], [0.2, \"#de77ae\"], [0.3, \"#f1b6da\"], [0.4, \"#fde0ef\"], [0.5, \"#f7f7f7\"], [0.6, \"#e6f5d0\"], [0.7, \"#b8e186\"], [0.8, \"#7fbc41\"], [0.9, \"#4d9221\"], [1, \"#276419\"]], \"sequential\": [[0.0, \"#0d0887\"], [0.1111111111111111, \"#46039f\"], [0.2222222222222222, \"#7201a8\"], [0.3333333333333333, \"#9c179e\"], [0.4444444444444444, \"#bd3786\"], [0.5555555555555556, \"#d8576b\"], [0.6666666666666666, \"#ed7953\"], [0.7777777777777778, \"#fb9f3a\"], [0.8888888888888888, \"#fdca26\"], [1.0, \"#f0f921\"]], \"sequentialminus\": [[0.0, \"#0d0887\"], [0.1111111111111111, \"#46039f\"], [0.2222222222222222, \"#7201a8\"], [0.3333333333333333, \"#9c179e\"], [0.4444444444444444, \"#bd3786\"], [0.5555555555555556, \"#d8576b\"], [0.6666666666666666, \"#ed7953\"], [0.7777777777777778, \"#fb9f3a\"], [0.8888888888888888, \"#fdca26\"], [1.0, \"#f0f921\"]]}, \"colorway\": [\"#636efa\", \"#EF553B\", \"#00cc96\", \"#ab63fa\", \"#FFA15A\", \"#19d3f3\", \"#FF6692\", \"#B6E880\", \"#FF97FF\", \"#FECB52\"], \"font\": {\"color\": \"#2a3f5f\"}, \"geo\": {\"bgcolor\": \"white\", \"lakecolor\": \"white\", \"landcolor\": \"#E5ECF6\", \"showlakes\": true, \"showland\": true, \"subunitcolor\": \"white\"}, \"hoverlabel\": {\"align\": \"left\"}, \"hovermode\": \"closest\", \"mapbox\": {\"style\": \"light\"}, \"paper_bgcolor\": \"white\", \"plot_bgcolor\": \"#E5ECF6\", \"polar\": {\"angularaxis\": {\"gridcolor\": \"white\", \"linecolor\": \"white\", \"ticks\": \"\"}, \"bgcolor\": \"#E5ECF6\", \"radialaxis\": {\"gridcolor\": \"white\", \"linecolor\": \"white\", \"ticks\": \"\"}}, \"scene\": {\"xaxis\": {\"backgroundcolor\": \"#E5ECF6\", \"gridcolor\": \"white\", \"gridwidth\": 2, \"linecolor\": \"white\", \"showbackground\": true, \"ticks\": \"\", \"zerolinecolor\": \"white\"}, \"yaxis\": {\"backgroundcolor\": \"#E5ECF6\", \"gridcolor\": \"white\", \"gridwidth\": 2, \"linecolor\": \"white\", \"showbackground\": true, \"ticks\": \"\", \"zerolinecolor\": \"white\"}, \"zaxis\": {\"backgroundcolor\": \"#E5ECF6\", \"gridcolor\": \"white\", \"gridwidth\": 2, \"linecolor\": \"white\", \"showbackground\": true, \"ticks\": \"\", \"zerolinecolor\": \"white\"}}, \"shapedefaults\": {\"line\": {\"color\": \"#2a3f5f\"}}, \"ternary\": {\"aaxis\": {\"gridcolor\": \"white\", \"linecolor\": \"white\", \"ticks\": \"\"}, \"baxis\": {\"gridcolor\": \"white\", \"linecolor\": \"white\", \"ticks\": \"\"}, \"bgcolor\": \"#E5ECF6\", \"caxis\": {\"gridcolor\": \"white\", \"linecolor\": \"white\", \"ticks\": \"\"}}, \"title\": {\"x\": 0.05}, \"xaxis\": {\"automargin\": true, \"gridcolor\": \"white\", \"linecolor\": \"white\", \"ticks\": \"\", \"title\": {\"standoff\": 15}, \"zerolinecolor\": \"white\", \"zerolinewidth\": 2}, \"yaxis\": {\"automargin\": true, \"gridcolor\": \"white\", \"linecolor\": \"white\", \"ticks\": \"\", \"title\": {\"standoff\": 15}, \"zerolinecolor\": \"white\", \"zerolinewidth\": 2}}}, \"width\": 1000},                        {\"responsive\": true}                    ).then(function(){\n",
       "                            \n",
       "var gd = document.getElementById('44308a98-5bd8-41ff-a387-40ca908b2de5');\n",
       "var x = new MutationObserver(function (mutations, observer) {{\n",
       "        var display = window.getComputedStyle(gd).display;\n",
       "        if (!display || display === 'none') {{\n",
       "            console.log([gd, 'removed!']);\n",
       "            Plotly.purge(gd);\n",
       "            observer.disconnect();\n",
       "        }}\n",
       "}});\n",
       "\n",
       "// Listen for the removal of the full notebook cells\n",
       "var notebookContainer = gd.closest('#notebook-container');\n",
       "if (notebookContainer) {{\n",
       "    x.observe(notebookContainer, {childList: true});\n",
       "}}\n",
       "\n",
       "// Listen for the clearing of the current output cell\n",
       "var outputEl = gd.closest('.output');\n",
       "if (outputEl) {{\n",
       "    x.observe(outputEl, {childList: true});\n",
       "}}\n",
       "\n",
       "                        })                };                });            </script>        </div>"
      ]
     },
     "metadata": {},
     "output_type": "display_data"
    }
   ],
   "source": [
    "# visualize\n",
    "fig = px.sunburst(grouped_stages,\n",
    "                  path=[ 'corpus', 'culture','prefLabel'], \n",
    "                  values='count')\n",
    "\n",
    "fig.update_layout(\n",
    "    showlegend=False,\n",
    "    font_size=25,\n",
    "    width=1000, height=1000,\n",
    "    autosize=False)\n",
    "\n",
    "fig.show()"
   ]
  },
  {
   "cell_type": "code",
   "execution_count": null,
   "metadata": {},
   "outputs": [],
   "source": []
  }
 ],
 "metadata": {
  "kernelspec": {
   "display_name": "Python 3",
   "language": "python",
   "name": "python3"
  },
  "language_info": {
   "codemirror_mode": {
    "name": "ipython",
    "version": 3
   },
   "file_extension": ".py",
   "mimetype": "text/x-python",
   "name": "python",
   "nbconvert_exporter": "python",
   "pygments_lexer": "ipython3",
   "version": "3.8.5"
  }
 },
 "nbformat": 4,
 "nbformat_minor": 4
}
