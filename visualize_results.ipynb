{
 "cells": [
  {
   "cell_type": "markdown",
   "metadata": {},
   "source": [
    "### Open file"
   ]
  },
  {
   "cell_type": "code",
   "execution_count": 116,
   "metadata": {},
   "outputs": [
    {
     "data": {
      "text/html": [
       "<div>\n",
       "<style scoped>\n",
       "    .dataframe tbody tr th:only-of-type {\n",
       "        vertical-align: middle;\n",
       "    }\n",
       "\n",
       "    .dataframe tbody tr th {\n",
       "        vertical-align: top;\n",
       "    }\n",
       "\n",
       "    .dataframe thead th {\n",
       "        text-align: right;\n",
       "    }\n",
       "</style>\n",
       "<table border=\"1\" class=\"dataframe\">\n",
       "  <thead>\n",
       "    <tr style=\"text-align: right;\">\n",
       "      <th></th>\n",
       "      <th>bsv</th>\n",
       "      <th>type</th>\n",
       "      <th>context</th>\n",
       "      <th>word</th>\n",
       "      <th>context.1</th>\n",
       "      <th>location</th>\n",
       "      <th>features</th>\n",
       "    </tr>\n",
       "  </thead>\n",
       "  <tbody>\n",
       "    <tr>\n",
       "      <th>221</th>\n",
       "      <td>BSV-viti-RA-16_16-07-2019_cle0bfb92</td>\n",
       "      <td>html</td>\n",
       "      <td>baies à tailles de</td>\n",
       "      <td>pois</td>\n",
       "      <td>(31). Oïdium : Tou</td>\n",
       "      <td>15443-15447</td>\n",
       "      <td>type=LEMMATIZED, uri=http://ontology.inrae.fr/...</td>\n",
       "    </tr>\n",
       "    <tr>\n",
       "      <th>222</th>\n",
       "      <td>BSV-viti-RA-16_16-07-2019_cle0bfb92</td>\n",
       "      <td>html</td>\n",
       "      <td>ppe. BSV n°15, 2019</td>\n",
       "      <td>Viticulture</td>\n",
       "      <td>, région AURA, éditi</td>\n",
       "      <td>16159-16170</td>\n",
       "      <td>type=LEMMATIZED, uri=http://ontology.inrae.fr/...</td>\n",
       "    </tr>\n",
       "    <tr>\n",
       "      <th>223</th>\n",
       "      <td>BSV-viti-RA-16_16-07-2019_cle0bfb92</td>\n",
       "      <td>html</td>\n",
       "      <td>Le plus tardif</td>\n",
       "      <td>baies</td>\n",
       "      <td>de la taille d'un p</td>\n",
       "      <td>16466-16471</td>\n",
       "      <td>type=LEMMATIZED, uri=http://ontology.inrae.fr/...</td>\n",
       "    </tr>\n",
       "    <tr>\n",
       "      <th>224</th>\n",
       "      <td>BSV-viti-RA-16_16-07-2019_cle0bfb92</td>\n",
       "      <td>html</td>\n",
       "      <td>s de la taille d'un</td>\n",
       "      <td>pois</td>\n",
       "      <td>, les grappes pe</td>\n",
       "      <td>16490-16494</td>\n",
       "      <td>type=LEMMATIZED, uri=http://ontology.inrae.fr/...</td>\n",
       "    </tr>\n",
       "  </tbody>\n",
       "</table>\n",
       "</div>"
      ],
      "text/plain": [
       "                                     bsv  type              context  \\\n",
       "221  BSV-viti-RA-16_16-07-2019_cle0bfb92  html   baies à tailles de   \n",
       "222  BSV-viti-RA-16_16-07-2019_cle0bfb92  html  ppe. BSV n°15, 2019   \n",
       "223  BSV-viti-RA-16_16-07-2019_cle0bfb92  html       Le plus tardif   \n",
       "224  BSV-viti-RA-16_16-07-2019_cle0bfb92  html  s de la taille d'un   \n",
       "\n",
       "            word             context.1     location  \\\n",
       "221         pois    (31). Oïdium : Tou  15443-15447   \n",
       "222  Viticulture  , région AURA, éditi  16159-16170   \n",
       "223        baies   de la taille d'un p  16466-16471   \n",
       "224         pois      , les grappes pe  16490-16494   \n",
       "\n",
       "                                              features  \n",
       "221  type=LEMMATIZED, uri=http://ontology.inrae.fr/...  \n",
       "222  type=LEMMATIZED, uri=http://ontology.inrae.fr/...  \n",
       "223  type=LEMMATIZED, uri=http://ontology.inrae.fr/...  \n",
       "224  type=LEMMATIZED, uri=http://ontology.inrae.fr/...  "
      ]
     },
     "execution_count": 116,
     "metadata": {},
     "output_type": "execute_result"
    }
   ],
   "source": [
    "import pandas as pd\n",
    "df = pd.read_csv(\"output/export.csv\", sep=\"\\t\")\n",
    "df[221:225]"
   ]
  },
  {
   "cell_type": "markdown",
   "metadata": {},
   "source": [
    "### Term frequency"
   ]
  },
  {
   "cell_type": "code",
   "execution_count": 117,
   "metadata": {},
   "outputs": [
    {
     "data": {
      "text/plain": [
       "count      1396\n",
       "unique       79\n",
       "top       baies\n",
       "freq        238\n",
       "Name: word, dtype: object"
      ]
     },
     "execution_count": 117,
     "metadata": {},
     "output_type": "execute_result"
    }
   ],
   "source": [
    "df['word'].describe()"
   ]
  },
  {
   "cell_type": "code",
   "execution_count": 118,
   "metadata": {},
   "outputs": [
    {
     "data": {
      "text/plain": [
       "{'baies': 238,\n",
       " 'Viticulture': 183,\n",
       " 'vigne': 175,\n",
       " 'Vigne': 171,\n",
       " 'cultures': 93,\n",
       " 'vignes': 68,\n",
       " 'pois': 61,\n",
       " 'viticulture': 38,\n",
       " 'soleil': 29,\n",
       " 'semences': 27,\n",
       " 'gel': 27,\n",
       " 'FRUIT': 22,\n",
       " 'Raisin de table': 18,\n",
       " 'VITICULTURE': 17,\n",
       " 'culture': 16,\n",
       " 'fleurs': 13,\n",
       " 'baie': 12,\n",
       " 'Vin': 12,\n",
       " 'Gel': 11,\n",
       " 'fruits': 10,\n",
       " 'tournesol': 9,\n",
       " 'vins': 9,\n",
       " 'Melon': 8,\n",
       " 'Vins': 7,\n",
       " 'fruit': 7,\n",
       " 'verger': 5,\n",
       " 'raisin': 5,\n",
       " 'Baies': 5,\n",
       " 'agrumes': 4,\n",
       " 'Noix': 4,\n",
       " 'Noyers': 4,\n",
       " 'VIGNE': 4,\n",
       " 'raisin de table': 3,\n",
       " 'Olivier': 3,\n",
       " 'fleur': 3,\n",
       " 'vergers': 3,\n",
       " 'zones non agricoles': 3,\n",
       " 'paille': 3,\n",
       " 'pailles': 3,\n",
       " 'orangé': 2,\n",
       " 'melons': 2,\n",
       " 'cerise': 2,\n",
       " 'poire': 2,\n",
       " 'mangue': 2,\n",
       " 'amandiers': 2,\n",
       " 'laurier': 2,\n",
       " 'figue': 2,\n",
       " 'goyave': 2,\n",
       " 'oliviers': 2,\n",
       " 'banane': 2,\n",
       " 'fruitières': 2,\n",
       " 'ananas': 2,\n",
       " 'roses': 2,\n",
       " 'tomates': 2,\n",
       " 'citron': 2,\n",
       " 'arbres fruitiers': 2,\n",
       " 'fruits tropicale': 2,\n",
       " 'rose': 2,\n",
       " 'abricot': 2,\n",
       " 'courges': 2,\n",
       " 'poivrons': 2,\n",
       " 'tomate': 2,\n",
       " 'marron': 1,\n",
       " 'gels': 1,\n",
       " 'Vignes': 1,\n",
       " 'fruitiers': 1,\n",
       " 'Baie': 1,\n",
       " 'orange': 1,\n",
       " 'vin': 1,\n",
       " 'Noisette': 1,\n",
       " 'POIRIER': 1,\n",
       " 'Pois': 1,\n",
       " 'oranges': 1,\n",
       " 'noyer': 1,\n",
       " 'raisins': 1,\n",
       " 'Soleil': 1,\n",
       " 'noyers': 1,\n",
       " 'rosiers': 1,\n",
       " 'CULTURES': 1}"
      ]
     },
     "execution_count": 118,
     "metadata": {},
     "output_type": "execute_result"
    }
   ],
   "source": [
    "counts = df['word'].value_counts()\n",
    "counts.to_dict()"
   ]
  },
  {
   "cell_type": "markdown",
   "metadata": {},
   "source": [
    "```with lowercase```"
   ]
  },
  {
   "cell_type": "code",
   "execution_count": 119,
   "metadata": {},
   "outputs": [],
   "source": [
    "counts_l = df['word'].str.lower().value_counts()"
   ]
  },
  {
   "cell_type": "code",
   "execution_count": 155,
   "metadata": {},
   "outputs": [
    {
     "data": {
      "text/plain": [
       "{'vigne': 350,\n",
       " 'baies': 243,\n",
       " 'viticulture': 238,\n",
       " 'cultures': 94,\n",
       " 'vignes': 69,\n",
       " 'pois': 62,\n",
       " 'gel': 38,\n",
       " 'soleil': 30,\n",
       " 'fruit': 29,\n",
       " 'semences': 27,\n",
       " 'raisin de table': 21,\n",
       " 'vins': 16,\n",
       " 'culture': 16,\n",
       " 'baie': 13,\n",
       " 'vin': 13,\n",
       " 'fleurs': 13,\n",
       " 'fruits': 10,\n",
       " 'tournesol': 9,\n",
       " 'melon': 8,\n",
       " 'noyers': 5,\n",
       " 'raisin': 5,\n",
       " 'verger': 5,\n",
       " 'agrumes': 4,\n",
       " 'noix': 4,\n",
       " 'zones non agricoles': 3,\n",
       " 'fleur': 3,\n",
       " 'paille': 3,\n",
       " 'pailles': 3,\n",
       " 'vergers': 3,\n",
       " 'olivier': 3,\n",
       " 'ananas': 2,\n",
       " 'oliviers': 2,\n",
       " 'arbres fruitiers': 2,\n",
       " 'tomates': 2,\n",
       " 'melons': 2,\n",
       " 'poire': 2,\n",
       " 'mangue': 2,\n",
       " 'rose': 2,\n",
       " 'roses': 2,\n",
       " 'courges': 2,\n",
       " 'cerise': 2,\n",
       " 'amandiers': 2,\n",
       " 'tomate': 2,\n",
       " 'fruits tropicale': 2,\n",
       " 'orangé': 2,\n",
       " 'fruitières': 2,\n",
       " 'poivrons': 2,\n",
       " 'abricot': 2,\n",
       " 'figue': 2,\n",
       " 'citron': 2,\n",
       " 'banane': 2,\n",
       " 'goyave': 2,\n",
       " 'laurier': 2,\n",
       " 'gels': 1,\n",
       " 'noisette': 1,\n",
       " 'poirier': 1,\n",
       " 'orange': 1,\n",
       " 'fruitiers': 1,\n",
       " 'oranges': 1,\n",
       " 'noyer': 1,\n",
       " 'marron': 1,\n",
       " 'rosiers': 1,\n",
       " 'raisins': 1}"
      ]
     },
     "execution_count": 155,
     "metadata": {},
     "output_type": "execute_result"
    }
   ],
   "source": [
    "dico = counts_l.to_dict()\n",
    "dico"
   ]
  },
  {
   "cell_type": "code",
   "execution_count": 121,
   "metadata": {},
   "outputs": [
    {
     "data": {
      "image/png": "[encoded data removed]",
      "text/plain": [
       "<Figure size 1080x720 with 1 Axes>"
      ]
     },
     "metadata": {
      "needs_background": "light"
     },
     "output_type": "display_data"
    }
   ],
   "source": [
    "ax = counts_l.plot(kind='barh', title =\"Extracted terms\",figsize=(15,10),legend=True, fontsize=11, stacked=True)"
   ]
  },
  {
   "cell_type": "markdown",
   "metadata": {},
   "source": [
    "```lowercase + singular```"
   ]
  },
  {
   "cell_type": "code",
   "execution_count": null,
   "metadata": {},
   "outputs": [],
   "source": [
    "# sing column to do with alvisnlp"
   ]
  },
  {
   "cell_type": "markdown",
   "metadata": {},
   "source": [
    "### Per doc"
   ]
  },
  {
   "cell_type": "code",
   "execution_count": 122,
   "metadata": {},
   "outputs": [
    {
     "name": "stdout",
     "output_type": "stream",
     "text": [
      "                                                                       count  \\\n",
      "bsv                                                word                        \n",
      "20190619_LOR_BSV_Viticulture_cle8c2fdf             CULTURES                1   \n",
      "                                                   FRUIT                   5   \n",
      "                                                   VIGNE                   1   \n",
      "                                                   Vigne                   1   \n",
      "                                                   cultures                1   \n",
      "                                                   vigne                   2   \n",
      "20190710_LOR_BSV_Viticulture_cle8bd128             Baies                   4   \n",
      "                                                   FRUIT                   4   \n",
      "                                                   VIGNE                   1   \n",
      "                                                   Vigne                   1   \n",
      "                                                   baies                   3   \n",
      "                                                   pois                    2   \n",
      "20190731_LOR_Viticulture-1_cle45ef1d               FRUIT                   6   \n",
      "                                                   VIGNE                   1   \n",
      "                                                   Vigne                   1   \n",
      "                                                   baies                   2   \n",
      "                                                   fruits                  1   \n",
      "                                                   soleil                  2   \n",
      "                                                   vigne                   1   \n",
      "BSV-viti-RA-03_16-04-2019_cle0bbc57                Gel                     5   \n",
      "                                                   Olivier                 1   \n",
      "                                                   Vigne                   1   \n",
      "                                                   Vins                    1   \n",
      "                                                   Viticulture            12   \n",
      "                                                   cultures                1   \n",
      "                                                   gel                     4   \n",
      "                                                   vigne                   1   \n",
      "                                                   vignes                  5   \n",
      "                                                   viticulture             2   \n",
      "BSV-viti-RA-15_09-07-2019_cle01ba24                Olivier                 1   \n",
      "                                                   Vigne                   1   \n",
      "                                                   Vins                    1   \n",
      "                                                   Viticulture            20   \n",
      "                                                   baie                    2   \n",
      "                                                   baies                  52   \n",
      "                                                   cultures                1   \n",
      "                                                   pois                   18   \n",
      "                                                   soleil                  2   \n",
      "                                                   vigne                   1   \n",
      "                                                   vignes                  2   \n",
      "                                                   viticulture             2   \n",
      "BSV-viti-RA-16_16-07-2019_cle0bfb92                Baie                    1   \n",
      "                                                   Olivier                 1   \n",
      "                                                   Vigne                   1   \n",
      "                                                   Vins                    2   \n",
      "                                                   Viticulture            17   \n",
      "                                                   baies                  43   \n",
      "                                                   culture                 1   \n",
      "                                                   cultures                1   \n",
      "                                                   fleur                   1   \n",
      "                                                   pois                    8   \n",
      "                                                   vigne                   2   \n",
      "                                                   vignes                  2   \n",
      "                                                   viticulture             2   \n",
      "BSVViti_20190409_N3_cle88a431                      Gel                     1   \n",
      "                                                   Vigne                   2   \n",
      "                                                   Viticulture             2   \n",
      "                                                   gel                     1   \n",
      "                                                   vigne                   2   \n",
      "BSVViti_20190618_N16_cle091811                     Baies                   1   \n",
      "                                                   Vigne                   2   \n",
      "                                                   Viticulture             2   \n",
      "                                                   baies                   6   \n",
      "                                                   cultures                1   \n",
      "                                                   fleurs                  4   \n",
      "                                                   vigne                   2   \n",
      "BSVViti_20190730_N22_cle019b19                     Vigne                   2   \n",
      "                                                   Viticulture             2   \n",
      "                                                   baie                    1   \n",
      "                                                   baies                   2   \n",
      "                                                   fruits                  1   \n",
      "                                                   verger                  1   \n",
      "                                                   vigne                   3   \n",
      "BSVViti_20190820_N23_cle0c5111                     Vigne                   2   \n",
      "                                                   Viticulture             2   \n",
      "BSV_2019_n13_cle0f596d                             FRUIT                   3   \n",
      "                                                   Vigne                   2   \n",
      "                                                   fleur                   1   \n",
      "                                                   pois                    1   \n",
      "                                                   soleil                  2   \n",
      "                                                   vigne                   2   \n",
      "BSV_2019_n16_cle04a239                             FRUIT                   2   \n",
      "                                                   Vigne                   2   \n",
      "                                                   baies                   4   \n",
      "                                                   vigne                   3   \n",
      "BSV_2019_n18_cle02fbf1                             FRUIT                   2   \n",
      "                                                   Vigne                   3   \n",
      "                                                   baies                   4   \n",
      "                                                   vigne                   2   \n",
      "BSV_NA_VIGNE_CHARENTES_02_20190409_cle8ac81e       Gel                     1   \n",
      "                                                   Vigne                   4   \n",
      "                                                   Vin                     1   \n",
      "                                                   baies                   5   \n",
      "                                                   cultures                1   \n",
      "                                                   gel                     1   \n",
      "                                                   vigne                   6   \n",
      "BSV_NA_VIGNE_CHARENTES_07_20190514_cle841735       Vigne                  13   \n",
      "                                                   Vin                     1   \n",
      "                                                   cultures                1   \n",
      "                                                   orange                  1   \n",
      "                                                   rosiers                 1   \n",
      "                                                   vigne                   8   \n",
      "                                                   vignes                  1   \n",
      "BSV_NA_VIGNE_CHARENTES_18_20190730_cle8d5827       Vigne                   4   \n",
      "                                                   Vin                     1   \n",
      "                                                   baies                   1   \n",
      "                                                   cultures                2   \n",
      "                                                   vigne                   2   \n",
      "BSV_NA_VIGNE_CHARENTES_19_20190806_cle88b155       Vigne                   4   \n",
      "                                                   Vin                     1   \n",
      "                                                   baie                    1   \n",
      "                                                   baies                   4   \n",
      "                                                   cultures                1   \n",
      "BSV_NA_VIGNE_CHARENTES_22_20190903_cle8f1178       Vigne                   4   \n",
      "                                                   Vin                     1   \n",
      "                                                   cultures                1   \n",
      "                                                   vignes                  1   \n",
      "                                                   vin                     1   \n",
      "BSV_NA_VIGNE_Haut-Poitou_03_20190430_cle4165b7     Vigne                   3   \n",
      "                                                   Vin                     1   \n",
      "                                                   Viticulture             1   \n",
      "                                                   baies                   4   \n",
      "                                                   cultures                1   \n",
      "                                                   gel                     3   \n",
      "                                                   marron                  1   \n",
      "                                                   vigne                   4   \n",
      "BSV_NA_VIGNE_Haut-Poitou_13_20190709_cle44ed93     Vigne                   3   \n",
      "                                                   Vin                     1   \n",
      "                                                   Viticulture             1   \n",
      "                                                   baies                  12   \n",
      "                                                   cultures                1   \n",
      "                                                   pois                    7   \n",
      "                                                   vigne                   4   \n",
      "BSV_NA_VIGNE_Haut-Poitou_15_20190806_cle4c661d     Vigne                   3   \n",
      "                                                   Vin                     1   \n",
      "                                                   Viticulture             1   \n",
      "                                                   baies                   7   \n",
      "                                                   cultures                1   \n",
      "                                                   fleur                   1   \n",
      "                                                   fruits                  1   \n",
      "                                                   vigne                   4   \n",
      "BSV_NA_VIGNE_Limousin_02_20190409_cle81e534        Vigne                   3   \n",
      "                                                   Vin                     1   \n",
      "                                                   baies                   3   \n",
      "                                                   cultures                1   \n",
      "                                                   fleurs                  1   \n",
      "                                                   gel                     2   \n",
      "                                                   vigne                   4   \n",
      "                                                   vignes                  1   \n",
      "BSV_NA_VIGNE_Limousin_07_20190522_cle81f925        Gel                     1   \n",
      "                                                   Vigne                   8   \n",
      "                                                   Vin                     1   \n",
      "                                                   cultures                1   \n",
      "                                                   gel                     2   \n",
      "                                                   vigne                   4   \n",
      "                                                   vignes                  3   \n",
      "BSV_NA_VIGNE_Limousin_14_20190709_cle8d4f42        Vigne                   6   \n",
      "                                                   Vin                     1   \n",
      "                                                   baie                    1   \n",
      "                                                   baies                   5   \n",
      "                                                   cultures                1   \n",
      "                                                   pois                    3   \n",
      "                                                   soleil                  1   \n",
      "                                                   vigne                   1   \n",
      "                                                   vignes                  4   \n",
      "BSV_NA_VIGNE_Limousin_17_20190730_cle835848        Vigne                  12   \n",
      "                                                   Vignes                  1   \n",
      "                                                   Vin                     1   \n",
      "                                                   cultures                1   \n",
      "                                                   gel                     1   \n",
      "                                                   soleil                  1   \n",
      "                                                   vigne                   1   \n",
      "                                                   vignes                  3   \n",
      "BSV_NA_VIGNE_Nord_Aquitaine_04_20190416_cle876cf5  Gel                     1   \n",
      "                                                   Vigne                   7   \n",
      "                                                   baies                   3   \n",
      "                                                   cultures                1   \n",
      "                                                   gel                     1   \n",
      "                                                   vigne                   5   \n",
      "BSV_NA_VIGNE_Nord_Aquitaine_07_20190507_cle8b2385  Gel                     1   \n",
      "                                                   Vigne                   7   \n",
      "                                                   baies                   3   \n",
      "                                                   cultures                1   \n",
      "                                                   gel                     3   \n",
      "                                                   vigne                  11   \n",
      "                                                   vignes                  2   \n",
      "BSV_NA_VIGNE_Nord_Aquitaine_17_20190716_cle8d5da5  Pois                    1   \n",
      "                                                   Vigne                  10   \n",
      "                                                   baies                   4   \n",
      "                                                   cultures                1   \n",
      "                                                   soleil                  2   \n",
      "                                                   vigne                   2   \n",
      "                                                   vignes                  3   \n",
      "BSV_NA_VIGNE_Nord_Aquitaine_19_20190730_cle819684  Vigne                  10   \n",
      "                                                   baie                    1   \n",
      "                                                   baies                  11   \n",
      "                                                   cultures                1   \n",
      "                                                   raisin                  1   \n",
      "                                                   soleil                  3   \n",
      "                                                   vigne                   2   \n",
      "                                                   vignes                  4   \n",
      "BSV_NA_VIGNE_Nord_Aquitaine_20_20190806_cle891ea2  Vigne                  10   \n",
      "                                                   baie                    1   \n",
      "                                                   baies                   5   \n",
      "                                                   cultures                1   \n",
      "                                                   raisin                  1   \n",
      "                                                   soleil                  3   \n",
      "                                                   vigne                   3   \n",
      "                                                   vignes                  3   \n",
      "BSV_NA_VIGNE_Sud_Aquitaine_02_20190401_01_cle4b... Vigne                   5   \n",
      "                                                   baies                   3   \n",
      "                                                   cultures                1   \n",
      "                                                   vigne                   9   \n",
      "                                                   vins                    1   \n",
      "BSV_NA_VIGNE_Sud_Aquitaine_08_20190514_cle8e63bb   Vigne                   6   \n",
      "                                                   baies                   3   \n",
      "                                                   cultures                1   \n",
      "                                                   vigne                   8   \n",
      "                                                   vignes                  2   \n",
      "                                                   vins                    1   \n",
      "BSV_NA_VIGNE_Sud_Aquitaine_17_20190716_cle841a78   Vigne                   5   \n",
      "                                                   baies                   3   \n",
      "                                                   cultures                1   \n",
      "                                                   soleil                  1   \n",
      "                                                   vigne                   3   \n",
      "                                                   vignes                  3   \n",
      "                                                   vins                    1   \n",
      "BSV_NA_VIGNE_Sud_Aquitaine_18_20190723_cle84e39a   Vigne                   5   \n",
      "                                                   baie                    1   \n",
      "                                                   baies                   5   \n",
      "                                                   cultures                1   \n",
      "                                                   raisin                  1   \n",
      "                                                   soleil                  3   \n",
      "                                                   vigne                   5   \n",
      "                                                   vignes                  3   \n",
      "                                                   vins                    1   \n",
      "BSV_NA_VIGNE_Sud_Aquitaine_20_20190806_cle831e2b   Vigne                   5   \n",
      "                                                   baie                    1   \n",
      "                                                   baies                   5   \n",
      "                                                   cultures                1   \n",
      "                                                   raisin                  1   \n",
      "                                                   soleil                  3   \n",
      "                                                   vigne                   4   \n",
      "                                                   vignes                  2   \n",
      "                                                   vins                    2   \n",
      "BSV_Viticulture_2_17_mai_2019_cle8f88af            VITICULTURE             1   \n",
      "                                                   Viticulture             6   \n",
      "                                                   abricot                 1   \n",
      "                                                   agrumes                 1   \n",
      "                                                   amandiers               1   \n",
      "                                                   ananas                  1   \n",
      "                                                   banane                  1   \n",
      "                                                   cerise                  1   \n",
      "                                                   citron                  1   \n",
      "                                                   courges                 1   \n",
      "                                                   cultures                2   \n",
      "                                                   figue                   1   \n",
      "                                                   fleurs                  1   \n",
      "                                                   fruit                   3   \n",
      "                                                   fruitières              1   \n",
      "                                                   fruits                  2   \n",
      "                                                   fruits tropicale        1   \n",
      "                                                   goyave                  1   \n",
      "                                                   laurier                 1   \n",
      "                                                   mangue                  1   \n",
      "                                                   melons                  1   \n",
      "                                                   oliviers                1   \n",
      "                                                   poire                   1   \n",
      "                                                   poivrons                1   \n",
      "                                                   rose                    1   \n",
      "                                                   tomate                  1   \n",
      "                                                   tomates                 1   \n",
      "                                                   verger                  1   \n",
      "                                                   vigne                   3   \n",
      "BSV_Viticulture_5_18_juillet_2019_cle8b576d        Soleil                  1   \n",
      "                                                   VIGNE                   1   \n",
      "                                                   VITICULTURE             1   \n",
      "                                                   Viticulture             5   \n",
      "                                                   abricot                 1   \n",
      "                                                   agrumes                 3   \n",
      "                                                   amandiers               1   \n",
      "                                                   ananas                  1   \n",
      "                                                   baies                   3   \n",
      "                                                   banane                  1   \n",
      "                                                   cerise                  1   \n",
      "                                                   citron                  1   \n",
      "                                                   courges                 1   \n",
      "                                                   cultures                4   \n",
      "                                                   figue                   1   \n",
      "                                                   fruit                   3   \n",
      "                                                   fruitières              1   \n",
      "                                                   fruits                  2   \n",
      "                                                   fruits tropicale        1   \n",
      "                                                   goyave                  1   \n",
      "                                                   laurier                 1   \n",
      "                                                   mangue                  1   \n",
      "                                                   melons                  1   \n",
      "                                                   oliviers                1   \n",
      "                                                   poire                   1   \n",
      "                                                   poivrons                1   \n",
      "                                                   raisins                 1   \n",
      "                                                   rose                    1   \n",
      "                                                   tomate                  1   \n",
      "                                                   tomates                 1   \n",
      "                                                   verger                  1   \n",
      "                                                   vigne                   6   \n",
      "                                                   vignes                  1   \n",
      "BSV_viti_01_du_16-04-19_cle878624                  POIRIER                 1   \n",
      "                                                   VITICULTURE             1   \n",
      "                                                   Vigne                   1   \n",
      "                                                   Viticulture             7   \n",
      "                                                   cultures                1   \n",
      "                                                   gel                     2   \n",
      "                                                   vigne                   8   \n",
      "                                                   vignes                  2   \n",
      "                                                   viticulture             3   \n",
      "BSV_viti_12_du_02-07-19-1_cle05965f                Noyers                  1   \n",
      "                                                   VITICULTURE             2   \n",
      "                                                   Vigne                   1   \n",
      "                                                   Viticulture             8   \n",
      "                                                   baies                   3   \n",
      "                                                   cultures                2   \n",
      "                                                   gel                     1   \n",
      "                                                   pois                    7   \n",
      "                                                   roses                   1   \n",
      "                                                   soleil                  1   \n",
      "                                                   vigne                   5   \n",
      "                                                   vignes                  3   \n",
      "                                                   viticulture             6   \n",
      "BSV_viti_13_du_09-07-19_cle86811a                  Noyers                  3   \n",
      "                                                   VITICULTURE             2   \n",
      "                                                   Vigne                   1   \n",
      "                                                   Viticulture             8   \n",
      "                                                   baies                   3   \n",
      "                                                   cultures                1   \n",
      "                                                   pois                    3   \n",
      "                                                   roses                   1   \n",
      "                                                   soleil                  1   \n",
      "                                                   vigne                   4   \n",
      "                                                   vignes                  3   \n",
      "                                                   viticulture             6   \n",
      "BSV_viti_16_du_16-09-19_cle87b836                  VITICULTURE             2   \n",
      "                                                   Vigne                   1   \n",
      "                                                   Viticulture             5   \n",
      "                                                   cultures                1   \n",
      "                                                   raisin                  1   \n",
      "                                                   vigne                   2   \n",
      "                                                   viticulture             2   \n",
      "bsv_raisin_n07_14052019_cle85bd4c                  Raisin de table         5   \n",
      "                                                   cultures                1   \n",
      "                                                   raisin de table         1   \n",
      "                                                   vigne                   2   \n",
      "bsv_raisin_n12_18062019_cle8578dc                  Raisin de table         7   \n",
      "                                                   arbres fruitiers        1   \n",
      "                                                   baies                   1   \n",
      "                                                   cultures                5   \n",
      "                                                   fleurs                  2   \n",
      "                                                   orangé                  1   \n",
      "                                                   pois                    2   \n",
      "                                                   raisin de table         1   \n",
      "                                                   vergers                 1   \n",
      "                                                   vigne                   1   \n",
      "bsv_raisin_n15_16072019_cle8c8617                  Raisin de table         6   \n",
      "                                                   baie                    1   \n",
      "                                                   baies                   3   \n",
      "                                                   cultures                1   \n",
      "                                                   pois                    1   \n",
      "                                                   raisin de table         1   \n",
      "                                                   vigne                   2   \n",
      "bsv_vigne_n17_gascogne_24072018_cle4238ae          VITICULTURE             5   \n",
      "                                                   Vigne                   1   \n",
      "                                                   Viticulture             2   \n",
      "                                                   baie                    1   \n",
      "                                                   baies                   2   \n",
      "                                                   cultures                1   \n",
      "                                                   soleil                  1   \n",
      "                                                   vigne                   1   \n",
      "                                                   vignes                  3   \n",
      "                                                   viticulture             1   \n",
      "bsv_vigne_n21_gascogne_11092018_cle4c45ec          VITICULTURE             3   \n",
      "                                                   Viticulture             2   \n",
      "                                                   cultures                1   \n",
      "                                                   viticulture             1   \n",
      "bsv_viti_13_27_06_2019_cle07f426                   Melon                   2   \n",
      "                                                   baies                   2   \n",
      "                                                   cultures                1   \n",
      "                                                   fleurs                  1   \n",
      "                                                   fruits                  1   \n",
      "                                                   gels                    1   \n",
      "                                                   pois                    1   \n",
      "                                                   vigne                   2   \n",
      "                                                   vignes                  1   \n",
      "bsv_viti_14_04_07_2019-1_cle888dd3                 Melon                   2   \n",
      "                                                   baies                   2   \n",
      "                                                   cultures                2   \n",
      "                                                   pois                    2   \n",
      "                                                   soleil                  1   \n",
      "                                                   vigne                   1   \n",
      "                                                   vignes                  2   \n",
      "bsv_viti_17_25_07_2019_cle0a86e1                   Melon                   1   \n",
      "                                                   baies                   4   \n",
      "                                                   cultures                1   \n",
      "                                                   soleil                  2   \n",
      "                                                   vignes                  2   \n",
      "bsv_viti_3_18_04_2019_cle43e1c9                    Melon                   3   \n",
      "                                                   cultures                1   \n",
      "                                                   gel                     2   \n",
      "                                                   vigne                   1   \n",
      "                                                   vignes                  1   \n",
      "bsv_viti_lr_n03_16042019_cle82d51a                 Gel                     1   \n",
      "                                                   Viticulture             9   \n",
      "                                                   cultures                1   \n",
      "                                                   gel                     1   \n",
      "                                                   oranges                 1   \n",
      "                                                   vigne                   1   \n",
      "                                                   vignes                  1   \n",
      "                                                   viticulture             1   \n",
      "bsv_viti_lr_n06_06052019-1_cle4a8957-1             Noisette                1   \n",
      "                                                   Noix                    4   \n",
      "                                                   cultures                1   \n",
      "                                                   fleurs                  2   \n",
      "                                                   fruit                   1   \n",
      "                                                   fruitiers               1   \n",
      "                                                   fruits                  2   \n",
      "                                                   noyer                   1   \n",
      "                                                   noyers                  1   \n",
      "                                                   orangé                  1   \n",
      "                                                   verger                  2   \n",
      "                                                   vergers                 1   \n",
      "bsv_viti_lr_n17_30072019_cle8cc4c8                 Viticulture            14   \n",
      "                                                   arbres fruitiers        1   \n",
      "                                                   baie                    1   \n",
      "                                                   baies                   4   \n",
      "                                                   cultures                5   \n",
      "                                                   fleurs                  1   \n",
      "                                                   vergers                 1   \n",
      "                                                   vigne                   5   \n",
      "                                                   viticulture             1   \n",
      "bsv_viti_mp_cahors_n12_25062019_cle4cf277          Vigne                   1   \n",
      "                                                   Viticulture             6   \n",
      "                                                   cultures                1   \n",
      "                                                   gel                     1   \n",
      "                                                   pois                    1   \n",
      "                                                   vigne                   1   \n",
      "                                                   vins                    1   \n",
      "                                                   viticulture             1   \n",
      "bsv_viti_mp_cahors_n17_30072019_cle434e53          Vigne                   1   \n",
      "                                                   Viticulture             7   \n",
      "                                                   baies                   1   \n",
      "                                                   culture                 5   \n",
      "                                                   cultures                9   \n",
      "                                                   paille                  1   \n",
      "                                                   pailles                 1   \n",
      "                                                   pois                    1   \n",
      "                                                   semences                9   \n",
      "                                                   tournesol               3   \n",
      "                                                   vigne                   3   \n",
      "                                                   vins                    1   \n",
      "                                                   viticulture             1   \n",
      "                                                   zones non agricoles     1   \n",
      "bsv_viti_mp_cahors_n19_20082019_cle4e16b4          Viticulture             4   \n",
      "                                                   baies                   1   \n",
      "                                                   cultures                1   \n",
      "                                                   vigne                   3   \n",
      "                                                   vignes                  3   \n",
      "                                                   vins                    1   \n",
      "                                                   viticulture             1   \n",
      "bsv_viti_mp_fronton_tarnetgaronne_n04_24042019_... Vigne                   1   \n",
      "                                                   Viticulture             3   \n",
      "                                                   cultures                1   \n",
      "                                                   vigne                   1   \n",
      "                                                   viticulture             1   \n",
      "bsv_viti_mp_fronton_tarnetgaronne_n13_25062019_... Vigne                   1   \n",
      "                                                   Viticulture             8   \n",
      "                                                   cultures                1   \n",
      "                                                   pois                    3   \n",
      "                                                   vigne                   1   \n",
      "                                                   viticulture             1   \n",
      "bsv_viti_mp_fronton_tarnetgaronne_n18_30072019_... Vigne                   1   \n",
      "                                                   Viticulture             8   \n",
      "                                                   baies                   2   \n",
      "                                                   culture                 5   \n",
      "                                                   cultures                9   \n",
      "                                                   paille                  1   \n",
      "                                                   pailles                 1   \n",
      "                                                   semences                9   \n",
      "                                                   tournesol               3   \n",
      "                                                   vigne                   3   \n",
      "                                                   viticulture             1   \n",
      "                                                   zones non agricoles     1   \n",
      "bsv_viti_mp_gaillac_n02_09042019_cle0bbe75         Vigne                   1   \n",
      "                                                   Vins                    1   \n",
      "                                                   Viticulture             8   \n",
      "                                                   baies                   3   \n",
      "                                                   cultures                1   \n",
      "                                                   fleurs                  1   \n",
      "                                                   gel                     2   \n",
      "                                                   vigne                   4   \n",
      "                                                   vignes                  2   \n",
      "                                                   viticulture             3   \n",
      "bsv_viti_mp_gaillac_n13_25062019_cle0e5f7f         Vigne                   1   \n",
      "                                                   Vins                    1   \n",
      "                                                   Viticulture             6   \n",
      "                                                   cultures                1   \n",
      "                                                   pois                    1   \n",
      "                                                   vigne                   1   \n",
      "                                                   viticulture             1   \n",
      "bsv_viti_mp_gaillac_n18_30072019_cle0fe8aa         Vigne                   1   \n",
      "                                                   Vins                    1   \n",
      "                                                   Viticulture             7   \n",
      "                                                   baies                   2   \n",
      "                                                   culture                 5   \n",
      "                                                   cultures                9   \n",
      "                                                   paille                  1   \n",
      "                                                   pailles                 1   \n",
      "                                                   semences                9   \n",
      "                                                   tournesol               3   \n",
      "                                                   vigne                   3   \n",
      "                                                   viticulture             1   \n",
      "                                                   zones non agricoles     1   \n",
      "\n",
      "                                                                       unique  \\\n",
      "bsv                                                word                         \n",
      "20190619_LOR_BSV_Viticulture_cle8c2fdf             CULTURES                 1   \n",
      "                                                   FRUIT                    1   \n",
      "                                                   VIGNE                    1   \n",
      "                                                   Vigne                    1   \n",
      "                                                   cultures                 1   \n",
      "                                                   vigne                    1   \n",
      "20190710_LOR_BSV_Viticulture_cle8bd128             Baies                    1   \n",
      "                                                   FRUIT                    1   \n",
      "                                                   VIGNE                    1   \n",
      "                                                   Vigne                    1   \n",
      "                                                   baies                    1   \n",
      "                                                   pois                     1   \n",
      "20190731_LOR_Viticulture-1_cle45ef1d               FRUIT                    1   \n",
      "                                                   VIGNE                    1   \n",
      "                                                   Vigne                    1   \n",
      "                                                   baies                    1   \n",
      "                                                   fruits                   1   \n",
      "                                                   soleil                   1   \n",
      "                                                   vigne                    1   \n",
      "BSV-viti-RA-03_16-04-2019_cle0bbc57                Gel                      1   \n",
      "                                                   Olivier                  1   \n",
      "                                                   Vigne                    1   \n",
      "                                                   Vins                     1   \n",
      "                                                   Viticulture              1   \n",
      "                                                   cultures                 1   \n",
      "                                                   gel                      1   \n",
      "                                                   vigne                    1   \n",
      "                                                   vignes                   1   \n",
      "                                                   viticulture              1   \n",
      "BSV-viti-RA-15_09-07-2019_cle01ba24                Olivier                  1   \n",
      "                                                   Vigne                    1   \n",
      "                                                   Vins                     1   \n",
      "                                                   Viticulture              1   \n",
      "                                                   baie                     1   \n",
      "                                                   baies                    1   \n",
      "                                                   cultures                 1   \n",
      "                                                   pois                     1   \n",
      "                                                   soleil                   1   \n",
      "                                                   vigne                    1   \n",
      "                                                   vignes                   1   \n",
      "                                                   viticulture              1   \n",
      "BSV-viti-RA-16_16-07-2019_cle0bfb92                Baie                     1   \n",
      "                                                   Olivier                  1   \n",
      "                                                   Vigne                    1   \n",
      "                                                   Vins                     1   \n",
      "                                                   Viticulture              1   \n",
      "                                                   baies                    1   \n",
      "                                                   culture                  1   \n",
      "                                                   cultures                 1   \n",
      "                                                   fleur                    1   \n",
      "                                                   pois                     1   \n",
      "                                                   vigne                    1   \n",
      "                                                   vignes                   1   \n",
      "                                                   viticulture              1   \n",
      "BSVViti_20190409_N3_cle88a431                      Gel                      1   \n",
      "                                                   Vigne                    1   \n",
      "                                                   Viticulture              1   \n",
      "                                                   gel                      1   \n",
      "                                                   vigne                    1   \n",
      "BSVViti_20190618_N16_cle091811                     Baies                    1   \n",
      "                                                   Vigne                    1   \n",
      "                                                   Viticulture              1   \n",
      "                                                   baies                    1   \n",
      "                                                   cultures                 1   \n",
      "                                                   fleurs                   1   \n",
      "                                                   vigne                    1   \n",
      "BSVViti_20190730_N22_cle019b19                     Vigne                    1   \n",
      "                                                   Viticulture              1   \n",
      "                                                   baie                     1   \n",
      "                                                   baies                    1   \n",
      "                                                   fruits                   1   \n",
      "                                                   verger                   1   \n",
      "                                                   vigne                    1   \n",
      "BSVViti_20190820_N23_cle0c5111                     Vigne                    1   \n",
      "                                                   Viticulture              1   \n",
      "BSV_2019_n13_cle0f596d                             FRUIT                    1   \n",
      "                                                   Vigne                    1   \n",
      "                                                   fleur                    1   \n",
      "                                                   pois                     1   \n",
      "                                                   soleil                   1   \n",
      "                                                   vigne                    1   \n",
      "BSV_2019_n16_cle04a239                             FRUIT                    1   \n",
      "                                                   Vigne                    1   \n",
      "                                                   baies                    1   \n",
      "                                                   vigne                    1   \n",
      "BSV_2019_n18_cle02fbf1                             FRUIT                    1   \n",
      "                                                   Vigne                    1   \n",
      "                                                   baies                    1   \n",
      "                                                   vigne                    1   \n",
      "BSV_NA_VIGNE_CHARENTES_02_20190409_cle8ac81e       Gel                      1   \n",
      "                                                   Vigne                    1   \n",
      "                                                   Vin                      1   \n",
      "                                                   baies                    1   \n",
      "                                                   cultures                 1   \n",
      "                                                   gel                      1   \n",
      "                                                   vigne                    1   \n",
      "BSV_NA_VIGNE_CHARENTES_07_20190514_cle841735       Vigne                    1   \n",
      "                                                   Vin                      1   \n",
      "                                                   cultures                 1   \n",
      "                                                   orange                   1   \n",
      "                                                   rosiers                  1   \n",
      "                                                   vigne                    1   \n",
      "                                                   vignes                   1   \n",
      "BSV_NA_VIGNE_CHARENTES_18_20190730_cle8d5827       Vigne                    1   \n",
      "                                                   Vin                      1   \n",
      "                                                   baies                    1   \n",
      "                                                   cultures                 1   \n",
      "                                                   vigne                    1   \n",
      "BSV_NA_VIGNE_CHARENTES_19_20190806_cle88b155       Vigne                    1   \n",
      "                                                   Vin                      1   \n",
      "                                                   baie                     1   \n",
      "                                                   baies                    1   \n",
      "                                                   cultures                 1   \n",
      "BSV_NA_VIGNE_CHARENTES_22_20190903_cle8f1178       Vigne                    1   \n",
      "                                                   Vin                      1   \n",
      "                                                   cultures                 1   \n",
      "                                                   vignes                   1   \n",
      "                                                   vin                      1   \n",
      "BSV_NA_VIGNE_Haut-Poitou_03_20190430_cle4165b7     Vigne                    1   \n",
      "                                                   Vin                      1   \n",
      "                                                   Viticulture              1   \n",
      "                                                   baies                    1   \n",
      "                                                   cultures                 1   \n",
      "                                                   gel                      1   \n",
      "                                                   marron                   1   \n",
      "                                                   vigne                    1   \n",
      "BSV_NA_VIGNE_Haut-Poitou_13_20190709_cle44ed93     Vigne                    1   \n",
      "                                                   Vin                      1   \n",
      "                                                   Viticulture              1   \n",
      "                                                   baies                    1   \n",
      "                                                   cultures                 1   \n",
      "                                                   pois                     1   \n",
      "                                                   vigne                    1   \n",
      "BSV_NA_VIGNE_Haut-Poitou_15_20190806_cle4c661d     Vigne                    1   \n",
      "                                                   Vin                      1   \n",
      "                                                   Viticulture              1   \n",
      "                                                   baies                    1   \n",
      "                                                   cultures                 1   \n",
      "                                                   fleur                    1   \n",
      "                                                   fruits                   1   \n",
      "                                                   vigne                    1   \n",
      "BSV_NA_VIGNE_Limousin_02_20190409_cle81e534        Vigne                    1   \n",
      "                                                   Vin                      1   \n",
      "                                                   baies                    1   \n",
      "                                                   cultures                 1   \n",
      "                                                   fleurs                   1   \n",
      "                                                   gel                      1   \n",
      "                                                   vigne                    1   \n",
      "                                                   vignes                   1   \n",
      "BSV_NA_VIGNE_Limousin_07_20190522_cle81f925        Gel                      1   \n",
      "                                                   Vigne                    1   \n",
      "                                                   Vin                      1   \n",
      "                                                   cultures                 1   \n",
      "                                                   gel                      1   \n",
      "                                                   vigne                    1   \n",
      "                                                   vignes                   1   \n",
      "BSV_NA_VIGNE_Limousin_14_20190709_cle8d4f42        Vigne                    1   \n",
      "                                                   Vin                      1   \n",
      "                                                   baie                     1   \n",
      "                                                   baies                    1   \n",
      "                                                   cultures                 1   \n",
      "                                                   pois                     1   \n",
      "                                                   soleil                   1   \n",
      "                                                   vigne                    1   \n",
      "                                                   vignes                   1   \n",
      "BSV_NA_VIGNE_Limousin_17_20190730_cle835848        Vigne                    1   \n",
      "                                                   Vignes                   1   \n",
      "                                                   Vin                      1   \n",
      "                                                   cultures                 1   \n",
      "                                                   gel                      1   \n",
      "                                                   soleil                   1   \n",
      "                                                   vigne                    1   \n",
      "                                                   vignes                   1   \n",
      "BSV_NA_VIGNE_Nord_Aquitaine_04_20190416_cle876cf5  Gel                      1   \n",
      "                                                   Vigne                    1   \n",
      "                                                   baies                    1   \n",
      "                                                   cultures                 1   \n",
      "                                                   gel                      1   \n",
      "                                                   vigne                    1   \n",
      "BSV_NA_VIGNE_Nord_Aquitaine_07_20190507_cle8b2385  Gel                      1   \n",
      "                                                   Vigne                    1   \n",
      "                                                   baies                    1   \n",
      "                                                   cultures                 1   \n",
      "                                                   gel                      1   \n",
      "                                                   vigne                    1   \n",
      "                                                   vignes                   1   \n",
      "BSV_NA_VIGNE_Nord_Aquitaine_17_20190716_cle8d5da5  Pois                     1   \n",
      "                                                   Vigne                    1   \n",
      "                                                   baies                    1   \n",
      "                                                   cultures                 1   \n",
      "                                                   soleil                   1   \n",
      "                                                   vigne                    1   \n",
      "                                                   vignes                   1   \n",
      "BSV_NA_VIGNE_Nord_Aquitaine_19_20190730_cle819684  Vigne                    1   \n",
      "                                                   baie                     1   \n",
      "                                                   baies                    1   \n",
      "                                                   cultures                 1   \n",
      "                                                   raisin                   1   \n",
      "                                                   soleil                   1   \n",
      "                                                   vigne                    1   \n",
      "                                                   vignes                   1   \n",
      "BSV_NA_VIGNE_Nord_Aquitaine_20_20190806_cle891ea2  Vigne                    1   \n",
      "                                                   baie                     1   \n",
      "                                                   baies                    1   \n",
      "                                                   cultures                 1   \n",
      "                                                   raisin                   1   \n",
      "                                                   soleil                   1   \n",
      "                                                   vigne                    1   \n",
      "                                                   vignes                   1   \n",
      "BSV_NA_VIGNE_Sud_Aquitaine_02_20190401_01_cle4b... Vigne                    1   \n",
      "                                                   baies                    1   \n",
      "                                                   cultures                 1   \n",
      "                                                   vigne                    1   \n",
      "                                                   vins                     1   \n",
      "BSV_NA_VIGNE_Sud_Aquitaine_08_20190514_cle8e63bb   Vigne                    1   \n",
      "                                                   baies                    1   \n",
      "                                                   cultures                 1   \n",
      "                                                   vigne                    1   \n",
      "                                                   vignes                   1   \n",
      "                                                   vins                     1   \n",
      "BSV_NA_VIGNE_Sud_Aquitaine_17_20190716_cle841a78   Vigne                    1   \n",
      "                                                   baies                    1   \n",
      "                                                   cultures                 1   \n",
      "                                                   soleil                   1   \n",
      "                                                   vigne                    1   \n",
      "                                                   vignes                   1   \n",
      "                                                   vins                     1   \n",
      "BSV_NA_VIGNE_Sud_Aquitaine_18_20190723_cle84e39a   Vigne                    1   \n",
      "                                                   baie                     1   \n",
      "                                                   baies                    1   \n",
      "                                                   cultures                 1   \n",
      "                                                   raisin                   1   \n",
      "                                                   soleil                   1   \n",
      "                                                   vigne                    1   \n",
      "                                                   vignes                   1   \n",
      "                                                   vins                     1   \n",
      "BSV_NA_VIGNE_Sud_Aquitaine_20_20190806_cle831e2b   Vigne                    1   \n",
      "                                                   baie                     1   \n",
      "                                                   baies                    1   \n",
      "                                                   cultures                 1   \n",
      "                                                   raisin                   1   \n",
      "                                                   soleil                   1   \n",
      "                                                   vigne                    1   \n",
      "                                                   vignes                   1   \n",
      "                                                   vins                     1   \n",
      "BSV_Viticulture_2_17_mai_2019_cle8f88af            VITICULTURE              1   \n",
      "                                                   Viticulture              1   \n",
      "                                                   abricot                  1   \n",
      "                                                   agrumes                  1   \n",
      "                                                   amandiers                1   \n",
      "                                                   ananas                   1   \n",
      "                                                   banane                   1   \n",
      "                                                   cerise                   1   \n",
      "                                                   citron                   1   \n",
      "                                                   courges                  1   \n",
      "                                                   cultures                 1   \n",
      "                                                   figue                    1   \n",
      "                                                   fleurs                   1   \n",
      "                                                   fruit                    1   \n",
      "                                                   fruitières               1   \n",
      "                                                   fruits                   1   \n",
      "                                                   fruits tropicale         1   \n",
      "                                                   goyave                   1   \n",
      "                                                   laurier                  1   \n",
      "                                                   mangue                   1   \n",
      "                                                   melons                   1   \n",
      "                                                   oliviers                 1   \n",
      "                                                   poire                    1   \n",
      "                                                   poivrons                 1   \n",
      "                                                   rose                     1   \n",
      "                                                   tomate                   1   \n",
      "                                                   tomates                  1   \n",
      "                                                   verger                   1   \n",
      "                                                   vigne                    1   \n",
      "BSV_Viticulture_5_18_juillet_2019_cle8b576d        Soleil                   1   \n",
      "                                                   VIGNE                    1   \n",
      "                                                   VITICULTURE              1   \n",
      "                                                   Viticulture              1   \n",
      "                                                   abricot                  1   \n",
      "                                                   agrumes                  1   \n",
      "                                                   amandiers                1   \n",
      "                                                   ananas                   1   \n",
      "                                                   baies                    1   \n",
      "                                                   banane                   1   \n",
      "                                                   cerise                   1   \n",
      "                                                   citron                   1   \n",
      "                                                   courges                  1   \n",
      "                                                   cultures                 1   \n",
      "                                                   figue                    1   \n",
      "                                                   fruit                    1   \n",
      "                                                   fruitières               1   \n",
      "                                                   fruits                   1   \n",
      "                                                   fruits tropicale         1   \n",
      "                                                   goyave                   1   \n",
      "                                                   laurier                  1   \n",
      "                                                   mangue                   1   \n",
      "                                                   melons                   1   \n",
      "                                                   oliviers                 1   \n",
      "                                                   poire                    1   \n",
      "                                                   poivrons                 1   \n",
      "                                                   raisins                  1   \n",
      "                                                   rose                     1   \n",
      "                                                   tomate                   1   \n",
      "                                                   tomates                  1   \n",
      "                                                   verger                   1   \n",
      "                                                   vigne                    1   \n",
      "                                                   vignes                   1   \n",
      "BSV_viti_01_du_16-04-19_cle878624                  POIRIER                  1   \n",
      "                                                   VITICULTURE              1   \n",
      "                                                   Vigne                    1   \n",
      "                                                   Viticulture              1   \n",
      "                                                   cultures                 1   \n",
      "                                                   gel                      1   \n",
      "                                                   vigne                    1   \n",
      "                                                   vignes                   1   \n",
      "                                                   viticulture              1   \n",
      "BSV_viti_12_du_02-07-19-1_cle05965f                Noyers                   1   \n",
      "                                                   VITICULTURE              1   \n",
      "                                                   Vigne                    1   \n",
      "                                                   Viticulture              1   \n",
      "                                                   baies                    1   \n",
      "                                                   cultures                 1   \n",
      "                                                   gel                      1   \n",
      "                                                   pois                     1   \n",
      "                                                   roses                    1   \n",
      "                                                   soleil                   1   \n",
      "                                                   vigne                    1   \n",
      "                                                   vignes                   1   \n",
      "                                                   viticulture              1   \n",
      "BSV_viti_13_du_09-07-19_cle86811a                  Noyers                   1   \n",
      "                                                   VITICULTURE              1   \n",
      "                                                   Vigne                    1   \n",
      "                                                   Viticulture              1   \n",
      "                                                   baies                    1   \n",
      "                                                   cultures                 1   \n",
      "                                                   pois                     1   \n",
      "                                                   roses                    1   \n",
      "                                                   soleil                   1   \n",
      "                                                   vigne                    1   \n",
      "                                                   vignes                   1   \n",
      "                                                   viticulture              1   \n",
      "BSV_viti_16_du_16-09-19_cle87b836                  VITICULTURE              1   \n",
      "                                                   Vigne                    1   \n",
      "                                                   Viticulture              1   \n",
      "                                                   cultures                 1   \n",
      "                                                   raisin                   1   \n",
      "                                                   vigne                    1   \n",
      "                                                   viticulture              1   \n",
      "bsv_raisin_n07_14052019_cle85bd4c                  Raisin de table          1   \n",
      "                                                   cultures                 1   \n",
      "                                                   raisin de table          1   \n",
      "                                                   vigne                    1   \n",
      "bsv_raisin_n12_18062019_cle8578dc                  Raisin de table          1   \n",
      "                                                   arbres fruitiers         1   \n",
      "                                                   baies                    1   \n",
      "                                                   cultures                 1   \n",
      "                                                   fleurs                   1   \n",
      "                                                   orangé                   1   \n",
      "                                                   pois                     1   \n",
      "                                                   raisin de table          1   \n",
      "                                                   vergers                  1   \n",
      "                                                   vigne                    1   \n",
      "bsv_raisin_n15_16072019_cle8c8617                  Raisin de table          1   \n",
      "                                                   baie                     1   \n",
      "                                                   baies                    1   \n",
      "                                                   cultures                 1   \n",
      "                                                   pois                     1   \n",
      "                                                   raisin de table          1   \n",
      "                                                   vigne                    1   \n",
      "bsv_vigne_n17_gascogne_24072018_cle4238ae          VITICULTURE              1   \n",
      "                                                   Vigne                    1   \n",
      "                                                   Viticulture              1   \n",
      "                                                   baie                     1   \n",
      "                                                   baies                    1   \n",
      "                                                   cultures                 1   \n",
      "                                                   soleil                   1   \n",
      "                                                   vigne                    1   \n",
      "                                                   vignes                   1   \n",
      "                                                   viticulture              1   \n",
      "bsv_vigne_n21_gascogne_11092018_cle4c45ec          VITICULTURE              1   \n",
      "                                                   Viticulture              1   \n",
      "                                                   cultures                 1   \n",
      "                                                   viticulture              1   \n",
      "bsv_viti_13_27_06_2019_cle07f426                   Melon                    1   \n",
      "                                                   baies                    1   \n",
      "                                                   cultures                 1   \n",
      "                                                   fleurs                   1   \n",
      "                                                   fruits                   1   \n",
      "                                                   gels                     1   \n",
      "                                                   pois                     1   \n",
      "                                                   vigne                    1   \n",
      "                                                   vignes                   1   \n",
      "bsv_viti_14_04_07_2019-1_cle888dd3                 Melon                    1   \n",
      "                                                   baies                    1   \n",
      "                                                   cultures                 1   \n",
      "                                                   pois                     1   \n",
      "                                                   soleil                   1   \n",
      "                                                   vigne                    1   \n",
      "                                                   vignes                   1   \n",
      "bsv_viti_17_25_07_2019_cle0a86e1                   Melon                    1   \n",
      "                                                   baies                    1   \n",
      "                                                   cultures                 1   \n",
      "                                                   soleil                   1   \n",
      "                                                   vignes                   1   \n",
      "bsv_viti_3_18_04_2019_cle43e1c9                    Melon                    1   \n",
      "                                                   cultures                 1   \n",
      "                                                   gel                      1   \n",
      "                                                   vigne                    1   \n",
      "                                                   vignes                   1   \n",
      "bsv_viti_lr_n03_16042019_cle82d51a                 Gel                      1   \n",
      "                                                   Viticulture              1   \n",
      "                                                   cultures                 1   \n",
      "                                                   gel                      1   \n",
      "                                                   oranges                  1   \n",
      "                                                   vigne                    1   \n",
      "                                                   vignes                   1   \n",
      "                                                   viticulture              1   \n",
      "bsv_viti_lr_n06_06052019-1_cle4a8957-1             Noisette                 1   \n",
      "                                                   Noix                     1   \n",
      "                                                   cultures                 1   \n",
      "                                                   fleurs                   1   \n",
      "                                                   fruit                    1   \n",
      "                                                   fruitiers                1   \n",
      "                                                   fruits                   1   \n",
      "                                                   noyer                    1   \n",
      "                                                   noyers                   1   \n",
      "                                                   orangé                   1   \n",
      "                                                   verger                   1   \n",
      "                                                   vergers                  1   \n",
      "bsv_viti_lr_n17_30072019_cle8cc4c8                 Viticulture              1   \n",
      "                                                   arbres fruitiers         1   \n",
      "                                                   baie                     1   \n",
      "                                                   baies                    1   \n",
      "                                                   cultures                 1   \n",
      "                                                   fleurs                   1   \n",
      "                                                   vergers                  1   \n",
      "                                                   vigne                    1   \n",
      "                                                   viticulture              1   \n",
      "bsv_viti_mp_cahors_n12_25062019_cle4cf277          Vigne                    1   \n",
      "                                                   Viticulture              1   \n",
      "                                                   cultures                 1   \n",
      "                                                   gel                      1   \n",
      "                                                   pois                     1   \n",
      "                                                   vigne                    1   \n",
      "                                                   vins                     1   \n",
      "                                                   viticulture              1   \n",
      "bsv_viti_mp_cahors_n17_30072019_cle434e53          Vigne                    1   \n",
      "                                                   Viticulture              1   \n",
      "                                                   baies                    1   \n",
      "                                                   culture                  1   \n",
      "                                                   cultures                 1   \n",
      "                                                   paille                   1   \n",
      "                                                   pailles                  1   \n",
      "                                                   pois                     1   \n",
      "                                                   semences                 1   \n",
      "                                                   tournesol                1   \n",
      "                                                   vigne                    1   \n",
      "                                                   vins                     1   \n",
      "                                                   viticulture              1   \n",
      "                                                   zones non agricoles      1   \n",
      "bsv_viti_mp_cahors_n19_20082019_cle4e16b4          Viticulture              1   \n",
      "                                                   baies                    1   \n",
      "                                                   cultures                 1   \n",
      "                                                   vigne                    1   \n",
      "                                                   vignes                   1   \n",
      "                                                   vins                     1   \n",
      "                                                   viticulture              1   \n",
      "bsv_viti_mp_fronton_tarnetgaronne_n04_24042019_... Vigne                    1   \n",
      "                                                   Viticulture              1   \n",
      "                                                   cultures                 1   \n",
      "                                                   vigne                    1   \n",
      "                                                   viticulture              1   \n",
      "bsv_viti_mp_fronton_tarnetgaronne_n13_25062019_... Vigne                    1   \n",
      "                                                   Viticulture              1   \n",
      "                                                   cultures                 1   \n",
      "                                                   pois                     1   \n",
      "                                                   vigne                    1   \n",
      "                                                   viticulture              1   \n",
      "bsv_viti_mp_fronton_tarnetgaronne_n18_30072019_... Vigne                    1   \n",
      "                                                   Viticulture              1   \n",
      "                                                   baies                    1   \n",
      "                                                   culture                  1   \n",
      "                                                   cultures                 1   \n",
      "                                                   paille                   1   \n",
      "                                                   pailles                  1   \n",
      "                                                   semences                 1   \n",
      "                                                   tournesol                1   \n",
      "                                                   vigne                    1   \n",
      "                                                   viticulture              1   \n",
      "                                                   zones non agricoles      1   \n",
      "bsv_viti_mp_gaillac_n02_09042019_cle0bbe75         Vigne                    1   \n",
      "                                                   Vins                     1   \n",
      "                                                   Viticulture              1   \n",
      "                                                   baies                    1   \n",
      "                                                   cultures                 1   \n",
      "                                                   fleurs                   1   \n",
      "                                                   gel                      1   \n",
      "                                                   vigne                    1   \n",
      "                                                   vignes                   1   \n",
      "                                                   viticulture              1   \n",
      "bsv_viti_mp_gaillac_n13_25062019_cle0e5f7f         Vigne                    1   \n",
      "                                                   Vins                     1   \n",
      "                                                   Viticulture              1   \n",
      "                                                   cultures                 1   \n",
      "                                                   pois                     1   \n",
      "                                                   vigne                    1   \n",
      "                                                   viticulture              1   \n",
      "bsv_viti_mp_gaillac_n18_30072019_cle0fe8aa         Vigne                    1   \n",
      "                                                   Vins                     1   \n",
      "                                                   Viticulture              1   \n",
      "                                                   baies                    1   \n",
      "                                                   culture                  1   \n",
      "                                                   cultures                 1   \n",
      "                                                   paille                   1   \n",
      "                                                   pailles                  1   \n",
      "                                                   semences                 1   \n",
      "                                                   tournesol                1   \n",
      "                                                   vigne                    1   \n",
      "                                                   viticulture              1   \n",
      "                                                   zones non agricoles      1   \n",
      "\n",
      "                                                                                        top  \\\n",
      "bsv                                                word                                       \n",
      "20190619_LOR_BSV_Viticulture_cle8c2fdf             CULTURES                        CULTURES   \n",
      "                                                   FRUIT                              FRUIT   \n",
      "                                                   VIGNE                              VIGNE   \n",
      "                                                   Vigne                              Vigne   \n",
      "                                                   cultures                        cultures   \n",
      "                                                   vigne                              vigne   \n",
      "20190710_LOR_BSV_Viticulture_cle8bd128             Baies                              Baies   \n",
      "                                                   FRUIT                              FRUIT   \n",
      "                                                   VIGNE                              VIGNE   \n",
      "                                                   Vigne                              Vigne   \n",
      "                                                   baies                              baies   \n",
      "                                                   pois                                pois   \n",
      "20190731_LOR_Viticulture-1_cle45ef1d               FRUIT                              FRUIT   \n",
      "                                                   VIGNE                              VIGNE   \n",
      "                                                   Vigne                              Vigne   \n",
      "                                                   baies                              baies   \n",
      "                                                   fruits                            fruits   \n",
      "                                                   soleil                            soleil   \n",
      "                                                   vigne                              vigne   \n",
      "BSV-viti-RA-03_16-04-2019_cle0bbc57                Gel                                  Gel   \n",
      "                                                   Olivier                          Olivier   \n",
      "                                                   Vigne                              Vigne   \n",
      "                                                   Vins                                Vins   \n",
      "                                                   Viticulture                  Viticulture   \n",
      "                                                   cultures                        cultures   \n",
      "                                                   gel                                  gel   \n",
      "                                                   vigne                              vigne   \n",
      "                                                   vignes                            vignes   \n",
      "                                                   viticulture                  viticulture   \n",
      "BSV-viti-RA-15_09-07-2019_cle01ba24                Olivier                          Olivier   \n",
      "                                                   Vigne                              Vigne   \n",
      "                                                   Vins                                Vins   \n",
      "                                                   Viticulture                  Viticulture   \n",
      "                                                   baie                                baie   \n",
      "                                                   baies                              baies   \n",
      "                                                   cultures                        cultures   \n",
      "                                                   pois                                pois   \n",
      "                                                   soleil                            soleil   \n",
      "                                                   vigne                              vigne   \n",
      "                                                   vignes                            vignes   \n",
      "                                                   viticulture                  viticulture   \n",
      "BSV-viti-RA-16_16-07-2019_cle0bfb92                Baie                                Baie   \n",
      "                                                   Olivier                          Olivier   \n",
      "                                                   Vigne                              Vigne   \n",
      "                                                   Vins                                Vins   \n",
      "                                                   Viticulture                  Viticulture   \n",
      "                                                   baies                              baies   \n",
      "                                                   culture                          culture   \n",
      "                                                   cultures                        cultures   \n",
      "                                                   fleur                              fleur   \n",
      "                                                   pois                                pois   \n",
      "                                                   vigne                              vigne   \n",
      "                                                   vignes                            vignes   \n",
      "                                                   viticulture                  viticulture   \n",
      "BSVViti_20190409_N3_cle88a431                      Gel                                  Gel   \n",
      "                                                   Vigne                              Vigne   \n",
      "                                                   Viticulture                  Viticulture   \n",
      "                                                   gel                                  gel   \n",
      "                                                   vigne                              vigne   \n",
      "BSVViti_20190618_N16_cle091811                     Baies                              Baies   \n",
      "                                                   Vigne                              Vigne   \n",
      "                                                   Viticulture                  Viticulture   \n",
      "                                                   baies                              baies   \n",
      "                                                   cultures                        cultures   \n",
      "                                                   fleurs                            fleurs   \n",
      "                                                   vigne                              vigne   \n",
      "BSVViti_20190730_N22_cle019b19                     Vigne                              Vigne   \n",
      "                                                   Viticulture                  Viticulture   \n",
      "                                                   baie                                baie   \n",
      "                                                   baies                              baies   \n",
      "                                                   fruits                            fruits   \n",
      "                                                   verger                            verger   \n",
      "                                                   vigne                              vigne   \n",
      "BSVViti_20190820_N23_cle0c5111                     Vigne                              Vigne   \n",
      "                                                   Viticulture                  Viticulture   \n",
      "BSV_2019_n13_cle0f596d                             FRUIT                              FRUIT   \n",
      "                                                   Vigne                              Vigne   \n",
      "                                                   fleur                              fleur   \n",
      "                                                   pois                                pois   \n",
      "                                                   soleil                            soleil   \n",
      "                                                   vigne                              vigne   \n",
      "BSV_2019_n16_cle04a239                             FRUIT                              FRUIT   \n",
      "                                                   Vigne                              Vigne   \n",
      "                                                   baies                              baies   \n",
      "                                                   vigne                              vigne   \n",
      "BSV_2019_n18_cle02fbf1                             FRUIT                              FRUIT   \n",
      "                                                   Vigne                              Vigne   \n",
      "                                                   baies                              baies   \n",
      "                                                   vigne                              vigne   \n",
      "BSV_NA_VIGNE_CHARENTES_02_20190409_cle8ac81e       Gel                                  Gel   \n",
      "                                                   Vigne                              Vigne   \n",
      "                                                   Vin                                  Vin   \n",
      "                                                   baies                              baies   \n",
      "                                                   cultures                        cultures   \n",
      "                                                   gel                                  gel   \n",
      "                                                   vigne                              vigne   \n",
      "BSV_NA_VIGNE_CHARENTES_07_20190514_cle841735       Vigne                              Vigne   \n",
      "                                                   Vin                                  Vin   \n",
      "                                                   cultures                        cultures   \n",
      "                                                   orange                            orange   \n",
      "                                                   rosiers                          rosiers   \n",
      "                                                   vigne                              vigne   \n",
      "                                                   vignes                            vignes   \n",
      "BSV_NA_VIGNE_CHARENTES_18_20190730_cle8d5827       Vigne                              Vigne   \n",
      "                                                   Vin                                  Vin   \n",
      "                                                   baies                              baies   \n",
      "                                                   cultures                        cultures   \n",
      "                                                   vigne                              vigne   \n",
      "BSV_NA_VIGNE_CHARENTES_19_20190806_cle88b155       Vigne                              Vigne   \n",
      "                                                   Vin                                  Vin   \n",
      "                                                   baie                                baie   \n",
      "                                                   baies                              baies   \n",
      "                                                   cultures                        cultures   \n",
      "BSV_NA_VIGNE_CHARENTES_22_20190903_cle8f1178       Vigne                              Vigne   \n",
      "                                                   Vin                                  Vin   \n",
      "                                                   cultures                        cultures   \n",
      "                                                   vignes                            vignes   \n",
      "                                                   vin                                  vin   \n",
      "BSV_NA_VIGNE_Haut-Poitou_03_20190430_cle4165b7     Vigne                              Vigne   \n",
      "                                                   Vin                                  Vin   \n",
      "                                                   Viticulture                  Viticulture   \n",
      "                                                   baies                              baies   \n",
      "                                                   cultures                        cultures   \n",
      "                                                   gel                                  gel   \n",
      "                                                   marron                            marron   \n",
      "                                                   vigne                              vigne   \n",
      "BSV_NA_VIGNE_Haut-Poitou_13_20190709_cle44ed93     Vigne                              Vigne   \n",
      "                                                   Vin                                  Vin   \n",
      "                                                   Viticulture                  Viticulture   \n",
      "                                                   baies                              baies   \n",
      "                                                   cultures                        cultures   \n",
      "                                                   pois                                pois   \n",
      "                                                   vigne                              vigne   \n",
      "BSV_NA_VIGNE_Haut-Poitou_15_20190806_cle4c661d     Vigne                              Vigne   \n",
      "                                                   Vin                                  Vin   \n",
      "                                                   Viticulture                  Viticulture   \n",
      "                                                   baies                              baies   \n",
      "                                                   cultures                        cultures   \n",
      "                                                   fleur                              fleur   \n",
      "                                                   fruits                            fruits   \n",
      "                                                   vigne                              vigne   \n",
      "BSV_NA_VIGNE_Limousin_02_20190409_cle81e534        Vigne                              Vigne   \n",
      "                                                   Vin                                  Vin   \n",
      "                                                   baies                              baies   \n",
      "                                                   cultures                        cultures   \n",
      "                                                   fleurs                            fleurs   \n",
      "                                                   gel                                  gel   \n",
      "                                                   vigne                              vigne   \n",
      "                                                   vignes                            vignes   \n",
      "BSV_NA_VIGNE_Limousin_07_20190522_cle81f925        Gel                                  Gel   \n",
      "                                                   Vigne                              Vigne   \n",
      "                                                   Vin                                  Vin   \n",
      "                                                   cultures                        cultures   \n",
      "                                                   gel                                  gel   \n",
      "                                                   vigne                              vigne   \n",
      "                                                   vignes                            vignes   \n",
      "BSV_NA_VIGNE_Limousin_14_20190709_cle8d4f42        Vigne                              Vigne   \n",
      "                                                   Vin                                  Vin   \n",
      "                                                   baie                                baie   \n",
      "                                                   baies                              baies   \n",
      "                                                   cultures                        cultures   \n",
      "                                                   pois                                pois   \n",
      "                                                   soleil                            soleil   \n",
      "                                                   vigne                              vigne   \n",
      "                                                   vignes                            vignes   \n",
      "BSV_NA_VIGNE_Limousin_17_20190730_cle835848        Vigne                              Vigne   \n",
      "                                                   Vignes                            Vignes   \n",
      "                                                   Vin                                  Vin   \n",
      "                                                   cultures                        cultures   \n",
      "                                                   gel                                  gel   \n",
      "                                                   soleil                            soleil   \n",
      "                                                   vigne                              vigne   \n",
      "                                                   vignes                            vignes   \n",
      "BSV_NA_VIGNE_Nord_Aquitaine_04_20190416_cle876cf5  Gel                                  Gel   \n",
      "                                                   Vigne                              Vigne   \n",
      "                                                   baies                              baies   \n",
      "                                                   cultures                        cultures   \n",
      "                                                   gel                                  gel   \n",
      "                                                   vigne                              vigne   \n",
      "BSV_NA_VIGNE_Nord_Aquitaine_07_20190507_cle8b2385  Gel                                  Gel   \n",
      "                                                   Vigne                              Vigne   \n",
      "                                                   baies                              baies   \n",
      "                                                   cultures                        cultures   \n",
      "                                                   gel                                  gel   \n",
      "                                                   vigne                              vigne   \n",
      "                                                   vignes                            vignes   \n",
      "BSV_NA_VIGNE_Nord_Aquitaine_17_20190716_cle8d5da5  Pois                                Pois   \n",
      "                                                   Vigne                              Vigne   \n",
      "                                                   baies                              baies   \n",
      "                                                   cultures                        cultures   \n",
      "                                                   soleil                            soleil   \n",
      "                                                   vigne                              vigne   \n",
      "                                                   vignes                            vignes   \n",
      "BSV_NA_VIGNE_Nord_Aquitaine_19_20190730_cle819684  Vigne                              Vigne   \n",
      "                                                   baie                                baie   \n",
      "                                                   baies                              baies   \n",
      "                                                   cultures                        cultures   \n",
      "                                                   raisin                            raisin   \n",
      "                                                   soleil                            soleil   \n",
      "                                                   vigne                              vigne   \n",
      "                                                   vignes                            vignes   \n",
      "BSV_NA_VIGNE_Nord_Aquitaine_20_20190806_cle891ea2  Vigne                              Vigne   \n",
      "                                                   baie                                baie   \n",
      "                                                   baies                              baies   \n",
      "                                                   cultures                        cultures   \n",
      "                                                   raisin                            raisin   \n",
      "                                                   soleil                            soleil   \n",
      "                                                   vigne                              vigne   \n",
      "                                                   vignes                            vignes   \n",
      "BSV_NA_VIGNE_Sud_Aquitaine_02_20190401_01_cle4b... Vigne                              Vigne   \n",
      "                                                   baies                              baies   \n",
      "                                                   cultures                        cultures   \n",
      "                                                   vigne                              vigne   \n",
      "                                                   vins                                vins   \n",
      "BSV_NA_VIGNE_Sud_Aquitaine_08_20190514_cle8e63bb   Vigne                              Vigne   \n",
      "                                                   baies                              baies   \n",
      "                                                   cultures                        cultures   \n",
      "                                                   vigne                              vigne   \n",
      "                                                   vignes                            vignes   \n",
      "                                                   vins                                vins   \n",
      "BSV_NA_VIGNE_Sud_Aquitaine_17_20190716_cle841a78   Vigne                              Vigne   \n",
      "                                                   baies                              baies   \n",
      "                                                   cultures                        cultures   \n",
      "                                                   soleil                            soleil   \n",
      "                                                   vigne                              vigne   \n",
      "                                                   vignes                            vignes   \n",
      "                                                   vins                                vins   \n",
      "BSV_NA_VIGNE_Sud_Aquitaine_18_20190723_cle84e39a   Vigne                              Vigne   \n",
      "                                                   baie                                baie   \n",
      "                                                   baies                              baies   \n",
      "                                                   cultures                        cultures   \n",
      "                                                   raisin                            raisin   \n",
      "                                                   soleil                            soleil   \n",
      "                                                   vigne                              vigne   \n",
      "                                                   vignes                            vignes   \n",
      "                                                   vins                                vins   \n",
      "BSV_NA_VIGNE_Sud_Aquitaine_20_20190806_cle831e2b   Vigne                              Vigne   \n",
      "                                                   baie                                baie   \n",
      "                                                   baies                              baies   \n",
      "                                                   cultures                        cultures   \n",
      "                                                   raisin                            raisin   \n",
      "                                                   soleil                            soleil   \n",
      "                                                   vigne                              vigne   \n",
      "                                                   vignes                            vignes   \n",
      "                                                   vins                                vins   \n",
      "BSV_Viticulture_2_17_mai_2019_cle8f88af            VITICULTURE                  VITICULTURE   \n",
      "                                                   Viticulture                  Viticulture   \n",
      "                                                   abricot                          abricot   \n",
      "                                                   agrumes                          agrumes   \n",
      "                                                   amandiers                      amandiers   \n",
      "                                                   ananas                            ananas   \n",
      "                                                   banane                            banane   \n",
      "                                                   cerise                            cerise   \n",
      "                                                   citron                            citron   \n",
      "                                                   courges                          courges   \n",
      "                                                   cultures                        cultures   \n",
      "                                                   figue                              figue   \n",
      "                                                   fleurs                            fleurs   \n",
      "                                                   fruit                              fruit   \n",
      "                                                   fruitières                    fruitières   \n",
      "                                                   fruits                            fruits   \n",
      "                                                   fruits tropicale        fruits tropicale   \n",
      "                                                   goyave                            goyave   \n",
      "                                                   laurier                          laurier   \n",
      "                                                   mangue                            mangue   \n",
      "                                                   melons                            melons   \n",
      "                                                   oliviers                        oliviers   \n",
      "                                                   poire                              poire   \n",
      "                                                   poivrons                        poivrons   \n",
      "                                                   rose                                rose   \n",
      "                                                   tomate                            tomate   \n",
      "                                                   tomates                          tomates   \n",
      "                                                   verger                            verger   \n",
      "                                                   vigne                              vigne   \n",
      "BSV_Viticulture_5_18_juillet_2019_cle8b576d        Soleil                            Soleil   \n",
      "                                                   VIGNE                              VIGNE   \n",
      "                                                   VITICULTURE                  VITICULTURE   \n",
      "                                                   Viticulture                  Viticulture   \n",
      "                                                   abricot                          abricot   \n",
      "                                                   agrumes                          agrumes   \n",
      "                                                   amandiers                      amandiers   \n",
      "                                                   ananas                            ananas   \n",
      "                                                   baies                              baies   \n",
      "                                                   banane                            banane   \n",
      "                                                   cerise                            cerise   \n",
      "                                                   citron                            citron   \n",
      "                                                   courges                          courges   \n",
      "                                                   cultures                        cultures   \n",
      "                                                   figue                              figue   \n",
      "                                                   fruit                              fruit   \n",
      "                                                   fruitières                    fruitières   \n",
      "                                                   fruits                            fruits   \n",
      "                                                   fruits tropicale        fruits tropicale   \n",
      "                                                   goyave                            goyave   \n",
      "                                                   laurier                          laurier   \n",
      "                                                   mangue                            mangue   \n",
      "                                                   melons                            melons   \n",
      "                                                   oliviers                        oliviers   \n",
      "                                                   poire                              poire   \n",
      "                                                   poivrons                        poivrons   \n",
      "                                                   raisins                          raisins   \n",
      "                                                   rose                                rose   \n",
      "                                                   tomate                            tomate   \n",
      "                                                   tomates                          tomates   \n",
      "                                                   verger                            verger   \n",
      "                                                   vigne                              vigne   \n",
      "                                                   vignes                            vignes   \n",
      "BSV_viti_01_du_16-04-19_cle878624                  POIRIER                          POIRIER   \n",
      "                                                   VITICULTURE                  VITICULTURE   \n",
      "                                                   Vigne                              Vigne   \n",
      "                                                   Viticulture                  Viticulture   \n",
      "                                                   cultures                        cultures   \n",
      "                                                   gel                                  gel   \n",
      "                                                   vigne                              vigne   \n",
      "                                                   vignes                            vignes   \n",
      "                                                   viticulture                  viticulture   \n",
      "BSV_viti_12_du_02-07-19-1_cle05965f                Noyers                            Noyers   \n",
      "                                                   VITICULTURE                  VITICULTURE   \n",
      "                                                   Vigne                              Vigne   \n",
      "                                                   Viticulture                  Viticulture   \n",
      "                                                   baies                              baies   \n",
      "                                                   cultures                        cultures   \n",
      "                                                   gel                                  gel   \n",
      "                                                   pois                                pois   \n",
      "                                                   roses                              roses   \n",
      "                                                   soleil                            soleil   \n",
      "                                                   vigne                              vigne   \n",
      "                                                   vignes                            vignes   \n",
      "                                                   viticulture                  viticulture   \n",
      "BSV_viti_13_du_09-07-19_cle86811a                  Noyers                            Noyers   \n",
      "                                                   VITICULTURE                  VITICULTURE   \n",
      "                                                   Vigne                              Vigne   \n",
      "                                                   Viticulture                  Viticulture   \n",
      "                                                   baies                              baies   \n",
      "                                                   cultures                        cultures   \n",
      "                                                   pois                                pois   \n",
      "                                                   roses                              roses   \n",
      "                                                   soleil                            soleil   \n",
      "                                                   vigne                              vigne   \n",
      "                                                   vignes                            vignes   \n",
      "                                                   viticulture                  viticulture   \n",
      "BSV_viti_16_du_16-09-19_cle87b836                  VITICULTURE                  VITICULTURE   \n",
      "                                                   Vigne                              Vigne   \n",
      "                                                   Viticulture                  Viticulture   \n",
      "                                                   cultures                        cultures   \n",
      "                                                   raisin                            raisin   \n",
      "                                                   vigne                              vigne   \n",
      "                                                   viticulture                  viticulture   \n",
      "bsv_raisin_n07_14052019_cle85bd4c                  Raisin de table          Raisin de table   \n",
      "                                                   cultures                        cultures   \n",
      "                                                   raisin de table          raisin de table   \n",
      "                                                   vigne                              vigne   \n",
      "bsv_raisin_n12_18062019_cle8578dc                  Raisin de table          Raisin de table   \n",
      "                                                   arbres fruitiers        arbres fruitiers   \n",
      "                                                   baies                              baies   \n",
      "                                                   cultures                        cultures   \n",
      "                                                   fleurs                            fleurs   \n",
      "                                                   orangé                            orangé   \n",
      "                                                   pois                                pois   \n",
      "                                                   raisin de table          raisin de table   \n",
      "                                                   vergers                          vergers   \n",
      "                                                   vigne                              vigne   \n",
      "bsv_raisin_n15_16072019_cle8c8617                  Raisin de table          Raisin de table   \n",
      "                                                   baie                                baie   \n",
      "                                                   baies                              baies   \n",
      "                                                   cultures                        cultures   \n",
      "                                                   pois                                pois   \n",
      "                                                   raisin de table          raisin de table   \n",
      "                                                   vigne                              vigne   \n",
      "bsv_vigne_n17_gascogne_24072018_cle4238ae          VITICULTURE                  VITICULTURE   \n",
      "                                                   Vigne                              Vigne   \n",
      "                                                   Viticulture                  Viticulture   \n",
      "                                                   baie                                baie   \n",
      "                                                   baies                              baies   \n",
      "                                                   cultures                        cultures   \n",
      "                                                   soleil                            soleil   \n",
      "                                                   vigne                              vigne   \n",
      "                                                   vignes                            vignes   \n",
      "                                                   viticulture                  viticulture   \n",
      "bsv_vigne_n21_gascogne_11092018_cle4c45ec          VITICULTURE                  VITICULTURE   \n",
      "                                                   Viticulture                  Viticulture   \n",
      "                                                   cultures                        cultures   \n",
      "                                                   viticulture                  viticulture   \n",
      "bsv_viti_13_27_06_2019_cle07f426                   Melon                              Melon   \n",
      "                                                   baies                              baies   \n",
      "                                                   cultures                        cultures   \n",
      "                                                   fleurs                            fleurs   \n",
      "                                                   fruits                            fruits   \n",
      "                                                   gels                                gels   \n",
      "                                                   pois                                pois   \n",
      "                                                   vigne                              vigne   \n",
      "                                                   vignes                            vignes   \n",
      "bsv_viti_14_04_07_2019-1_cle888dd3                 Melon                              Melon   \n",
      "                                                   baies                              baies   \n",
      "                                                   cultures                        cultures   \n",
      "                                                   pois                                pois   \n",
      "                                                   soleil                            soleil   \n",
      "                                                   vigne                              vigne   \n",
      "                                                   vignes                            vignes   \n",
      "bsv_viti_17_25_07_2019_cle0a86e1                   Melon                              Melon   \n",
      "                                                   baies                              baies   \n",
      "                                                   cultures                        cultures   \n",
      "                                                   soleil                            soleil   \n",
      "                                                   vignes                            vignes   \n",
      "bsv_viti_3_18_04_2019_cle43e1c9                    Melon                              Melon   \n",
      "                                                   cultures                        cultures   \n",
      "                                                   gel                                  gel   \n",
      "                                                   vigne                              vigne   \n",
      "                                                   vignes                            vignes   \n",
      "bsv_viti_lr_n03_16042019_cle82d51a                 Gel                                  Gel   \n",
      "                                                   Viticulture                  Viticulture   \n",
      "                                                   cultures                        cultures   \n",
      "                                                   gel                                  gel   \n",
      "                                                   oranges                          oranges   \n",
      "                                                   vigne                              vigne   \n",
      "                                                   vignes                            vignes   \n",
      "                                                   viticulture                  viticulture   \n",
      "bsv_viti_lr_n06_06052019-1_cle4a8957-1             Noisette                        Noisette   \n",
      "                                                   Noix                                Noix   \n",
      "                                                   cultures                        cultures   \n",
      "                                                   fleurs                            fleurs   \n",
      "                                                   fruit                              fruit   \n",
      "                                                   fruitiers                      fruitiers   \n",
      "                                                   fruits                            fruits   \n",
      "                                                   noyer                              noyer   \n",
      "                                                   noyers                            noyers   \n",
      "                                                   orangé                            orangé   \n",
      "                                                   verger                            verger   \n",
      "                                                   vergers                          vergers   \n",
      "bsv_viti_lr_n17_30072019_cle8cc4c8                 Viticulture                  Viticulture   \n",
      "                                                   arbres fruitiers        arbres fruitiers   \n",
      "                                                   baie                                baie   \n",
      "                                                   baies                              baies   \n",
      "                                                   cultures                        cultures   \n",
      "                                                   fleurs                            fleurs   \n",
      "                                                   vergers                          vergers   \n",
      "                                                   vigne                              vigne   \n",
      "                                                   viticulture                  viticulture   \n",
      "bsv_viti_mp_cahors_n12_25062019_cle4cf277          Vigne                              Vigne   \n",
      "                                                   Viticulture                  Viticulture   \n",
      "                                                   cultures                        cultures   \n",
      "                                                   gel                                  gel   \n",
      "                                                   pois                                pois   \n",
      "                                                   vigne                              vigne   \n",
      "                                                   vins                                vins   \n",
      "                                                   viticulture                  viticulture   \n",
      "bsv_viti_mp_cahors_n17_30072019_cle434e53          Vigne                              Vigne   \n",
      "                                                   Viticulture                  Viticulture   \n",
      "                                                   baies                              baies   \n",
      "                                                   culture                          culture   \n",
      "                                                   cultures                        cultures   \n",
      "                                                   paille                            paille   \n",
      "                                                   pailles                          pailles   \n",
      "                                                   pois                                pois   \n",
      "                                                   semences                        semences   \n",
      "                                                   tournesol                      tournesol   \n",
      "                                                   vigne                              vigne   \n",
      "                                                   vins                                vins   \n",
      "                                                   viticulture                  viticulture   \n",
      "                                                   zones non agricoles  zones non agricoles   \n",
      "bsv_viti_mp_cahors_n19_20082019_cle4e16b4          Viticulture                  Viticulture   \n",
      "                                                   baies                              baies   \n",
      "                                                   cultures                        cultures   \n",
      "                                                   vigne                              vigne   \n",
      "                                                   vignes                            vignes   \n",
      "                                                   vins                                vins   \n",
      "                                                   viticulture                  viticulture   \n",
      "bsv_viti_mp_fronton_tarnetgaronne_n04_24042019_... Vigne                              Vigne   \n",
      "                                                   Viticulture                  Viticulture   \n",
      "                                                   cultures                        cultures   \n",
      "                                                   vigne                              vigne   \n",
      "                                                   viticulture                  viticulture   \n",
      "bsv_viti_mp_fronton_tarnetgaronne_n13_25062019_... Vigne                              Vigne   \n",
      "                                                   Viticulture                  Viticulture   \n",
      "                                                   cultures                        cultures   \n",
      "                                                   pois                                pois   \n",
      "                                                   vigne                              vigne   \n",
      "                                                   viticulture                  viticulture   \n",
      "bsv_viti_mp_fronton_tarnetgaronne_n18_30072019_... Vigne                              Vigne   \n",
      "                                                   Viticulture                  Viticulture   \n",
      "                                                   baies                              baies   \n",
      "                                                   culture                          culture   \n",
      "                                                   cultures                        cultures   \n",
      "                                                   paille                            paille   \n",
      "                                                   pailles                          pailles   \n",
      "                                                   semences                        semences   \n",
      "                                                   tournesol                      tournesol   \n",
      "                                                   vigne                              vigne   \n",
      "                                                   viticulture                  viticulture   \n",
      "                                                   zones non agricoles  zones non agricoles   \n",
      "bsv_viti_mp_gaillac_n02_09042019_cle0bbe75         Vigne                              Vigne   \n",
      "                                                   Vins                                Vins   \n",
      "                                                   Viticulture                  Viticulture   \n",
      "                                                   baies                              baies   \n",
      "                                                   cultures                        cultures   \n",
      "                                                   fleurs                            fleurs   \n",
      "                                                   gel                                  gel   \n",
      "                                                   vigne                              vigne   \n",
      "                                                   vignes                            vignes   \n",
      "                                                   viticulture                  viticulture   \n",
      "bsv_viti_mp_gaillac_n13_25062019_cle0e5f7f         Vigne                              Vigne   \n",
      "                                                   Vins                                Vins   \n",
      "                                                   Viticulture                  Viticulture   \n",
      "                                                   cultures                        cultures   \n",
      "                                                   pois                                pois   \n",
      "                                                   vigne                              vigne   \n",
      "                                                   viticulture                  viticulture   \n",
      "bsv_viti_mp_gaillac_n18_30072019_cle0fe8aa         Vigne                              Vigne   \n",
      "                                                   Vins                                Vins   \n",
      "                                                   Viticulture                  Viticulture   \n",
      "                                                   baies                              baies   \n",
      "                                                   culture                          culture   \n",
      "                                                   cultures                        cultures   \n",
      "                                                   paille                            paille   \n",
      "                                                   pailles                          pailles   \n",
      "                                                   semences                        semences   \n",
      "                                                   tournesol                      tournesol   \n",
      "                                                   vigne                              vigne   \n",
      "                                                   viticulture                  viticulture   \n",
      "                                                   zones non agricoles  zones non agricoles   \n",
      "\n",
      "                                                                       freq  \n",
      "bsv                                                word                      \n",
      "20190619_LOR_BSV_Viticulture_cle8c2fdf             CULTURES               1  \n",
      "                                                   FRUIT                  5  \n",
      "                                                   VIGNE                  1  \n",
      "                                                   Vigne                  1  \n",
      "                                                   cultures               1  \n",
      "                                                   vigne                  2  \n",
      "20190710_LOR_BSV_Viticulture_cle8bd128             Baies                  4  \n",
      "                                                   FRUIT                  4  \n",
      "                                                   VIGNE                  1  \n",
      "                                                   Vigne                  1  \n",
      "                                                   baies                  3  \n",
      "                                                   pois                   2  \n",
      "20190731_LOR_Viticulture-1_cle45ef1d               FRUIT                  6  \n",
      "                                                   VIGNE                  1  \n",
      "                                                   Vigne                  1  \n",
      "                                                   baies                  2  \n",
      "                                                   fruits                 1  \n",
      "                                                   soleil                 2  \n",
      "                                                   vigne                  1  \n",
      "BSV-viti-RA-03_16-04-2019_cle0bbc57                Gel                    5  \n",
      "                                                   Olivier                1  \n",
      "                                                   Vigne                  1  \n",
      "                                                   Vins                   1  \n",
      "                                                   Viticulture           12  \n",
      "                                                   cultures               1  \n",
      "                                                   gel                    4  \n",
      "                                                   vigne                  1  \n",
      "                                                   vignes                 5  \n",
      "                                                   viticulture            2  \n",
      "BSV-viti-RA-15_09-07-2019_cle01ba24                Olivier                1  \n",
      "                                                   Vigne                  1  \n",
      "                                                   Vins                   1  \n",
      "                                                   Viticulture           20  \n",
      "                                                   baie                   2  \n",
      "                                                   baies                 52  \n",
      "                                                   cultures               1  \n",
      "                                                   pois                  18  \n",
      "                                                   soleil                 2  \n",
      "                                                   vigne                  1  \n",
      "                                                   vignes                 2  \n",
      "                                                   viticulture            2  \n",
      "BSV-viti-RA-16_16-07-2019_cle0bfb92                Baie                   1  \n",
      "                                                   Olivier                1  \n",
      "                                                   Vigne                  1  \n",
      "                                                   Vins                   2  \n",
      "                                                   Viticulture           17  \n",
      "                                                   baies                 43  \n",
      "                                                   culture                1  \n",
      "                                                   cultures               1  \n",
      "                                                   fleur                  1  \n",
      "                                                   pois                   8  \n",
      "                                                   vigne                  2  \n",
      "                                                   vignes                 2  \n",
      "                                                   viticulture            2  \n",
      "BSVViti_20190409_N3_cle88a431                      Gel                    1  \n",
      "                                                   Vigne                  2  \n",
      "                                                   Viticulture            2  \n",
      "                                                   gel                    1  \n",
      "                                                   vigne                  2  \n",
      "BSVViti_20190618_N16_cle091811                     Baies                  1  \n",
      "                                                   Vigne                  2  \n",
      "                                                   Viticulture            2  \n",
      "                                                   baies                  6  \n",
      "                                                   cultures               1  \n",
      "                                                   fleurs                 4  \n",
      "                                                   vigne                  2  \n",
      "BSVViti_20190730_N22_cle019b19                     Vigne                  2  \n",
      "                                                   Viticulture            2  \n",
      "                                                   baie                   1  \n",
      "                                                   baies                  2  \n",
      "                                                   fruits                 1  \n",
      "                                                   verger                 1  \n",
      "                                                   vigne                  3  \n",
      "BSVViti_20190820_N23_cle0c5111                     Vigne                  2  \n",
      "                                                   Viticulture            2  \n",
      "BSV_2019_n13_cle0f596d                             FRUIT                  3  \n",
      "                                                   Vigne                  2  \n",
      "                                                   fleur                  1  \n",
      "                                                   pois                   1  \n",
      "                                                   soleil                 2  \n",
      "                                                   vigne                  2  \n",
      "BSV_2019_n16_cle04a239                             FRUIT                  2  \n",
      "                                                   Vigne                  2  \n",
      "                                                   baies                  4  \n",
      "                                                   vigne                  3  \n",
      "BSV_2019_n18_cle02fbf1                             FRUIT                  2  \n",
      "                                                   Vigne                  3  \n",
      "                                                   baies                  4  \n",
      "                                                   vigne                  2  \n",
      "BSV_NA_VIGNE_CHARENTES_02_20190409_cle8ac81e       Gel                    1  \n",
      "                                                   Vigne                  4  \n",
      "                                                   Vin                    1  \n",
      "                                                   baies                  5  \n",
      "                                                   cultures               1  \n",
      "                                                   gel                    1  \n",
      "                                                   vigne                  6  \n",
      "BSV_NA_VIGNE_CHARENTES_07_20190514_cle841735       Vigne                 13  \n",
      "                                                   Vin                    1  \n",
      "                                                   cultures               1  \n",
      "                                                   orange                 1  \n",
      "                                                   rosiers                1  \n",
      "                                                   vigne                  8  \n",
      "                                                   vignes                 1  \n",
      "BSV_NA_VIGNE_CHARENTES_18_20190730_cle8d5827       Vigne                  4  \n",
      "                                                   Vin                    1  \n",
      "                                                   baies                  1  \n",
      "                                                   cultures               2  \n",
      "                                                   vigne                  2  \n",
      "BSV_NA_VIGNE_CHARENTES_19_20190806_cle88b155       Vigne                  4  \n",
      "                                                   Vin                    1  \n",
      "                                                   baie                   1  \n",
      "                                                   baies                  4  \n",
      "                                                   cultures               1  \n",
      "BSV_NA_VIGNE_CHARENTES_22_20190903_cle8f1178       Vigne                  4  \n",
      "                                                   Vin                    1  \n",
      "                                                   cultures               1  \n",
      "                                                   vignes                 1  \n",
      "                                                   vin                    1  \n",
      "BSV_NA_VIGNE_Haut-Poitou_03_20190430_cle4165b7     Vigne                  3  \n",
      "                                                   Vin                    1  \n",
      "                                                   Viticulture            1  \n",
      "                                                   baies                  4  \n",
      "                                                   cultures               1  \n",
      "                                                   gel                    3  \n",
      "                                                   marron                 1  \n",
      "                                                   vigne                  4  \n",
      "BSV_NA_VIGNE_Haut-Poitou_13_20190709_cle44ed93     Vigne                  3  \n",
      "                                                   Vin                    1  \n",
      "                                                   Viticulture            1  \n",
      "                                                   baies                 12  \n",
      "                                                   cultures               1  \n",
      "                                                   pois                   7  \n",
      "                                                   vigne                  4  \n",
      "BSV_NA_VIGNE_Haut-Poitou_15_20190806_cle4c661d     Vigne                  3  \n",
      "                                                   Vin                    1  \n",
      "                                                   Viticulture            1  \n",
      "                                                   baies                  7  \n",
      "                                                   cultures               1  \n",
      "                                                   fleur                  1  \n",
      "                                                   fruits                 1  \n",
      "                                                   vigne                  4  \n",
      "BSV_NA_VIGNE_Limousin_02_20190409_cle81e534        Vigne                  3  \n",
      "                                                   Vin                    1  \n",
      "                                                   baies                  3  \n",
      "                                                   cultures               1  \n",
      "                                                   fleurs                 1  \n",
      "                                                   gel                    2  \n",
      "                                                   vigne                  4  \n",
      "                                                   vignes                 1  \n",
      "BSV_NA_VIGNE_Limousin_07_20190522_cle81f925        Gel                    1  \n",
      "                                                   Vigne                  8  \n",
      "                                                   Vin                    1  \n",
      "                                                   cultures               1  \n",
      "                                                   gel                    2  \n",
      "                                                   vigne                  4  \n",
      "                                                   vignes                 3  \n",
      "BSV_NA_VIGNE_Limousin_14_20190709_cle8d4f42        Vigne                  6  \n",
      "                                                   Vin                    1  \n",
      "                                                   baie                   1  \n",
      "                                                   baies                  5  \n",
      "                                                   cultures               1  \n",
      "                                                   pois                   3  \n",
      "                                                   soleil                 1  \n",
      "                                                   vigne                  1  \n",
      "                                                   vignes                 4  \n",
      "BSV_NA_VIGNE_Limousin_17_20190730_cle835848        Vigne                 12  \n",
      "                                                   Vignes                 1  \n",
      "                                                   Vin                    1  \n",
      "                                                   cultures               1  \n",
      "                                                   gel                    1  \n",
      "                                                   soleil                 1  \n",
      "                                                   vigne                  1  \n",
      "                                                   vignes                 3  \n",
      "BSV_NA_VIGNE_Nord_Aquitaine_04_20190416_cle876cf5  Gel                    1  \n",
      "                                                   Vigne                  7  \n",
      "                                                   baies                  3  \n",
      "                                                   cultures               1  \n",
      "                                                   gel                    1  \n",
      "                                                   vigne                  5  \n",
      "BSV_NA_VIGNE_Nord_Aquitaine_07_20190507_cle8b2385  Gel                    1  \n",
      "                                                   Vigne                  7  \n",
      "                                                   baies                  3  \n",
      "                                                   cultures               1  \n",
      "                                                   gel                    3  \n",
      "                                                   vigne                 11  \n",
      "                                                   vignes                 2  \n",
      "BSV_NA_VIGNE_Nord_Aquitaine_17_20190716_cle8d5da5  Pois                   1  \n",
      "                                                   Vigne                 10  \n",
      "                                                   baies                  4  \n",
      "                                                   cultures               1  \n",
      "                                                   soleil                 2  \n",
      "                                                   vigne                  2  \n",
      "                                                   vignes                 3  \n",
      "BSV_NA_VIGNE_Nord_Aquitaine_19_20190730_cle819684  Vigne                 10  \n",
      "                                                   baie                   1  \n",
      "                                                   baies                 11  \n",
      "                                                   cultures               1  \n",
      "                                                   raisin                 1  \n",
      "                                                   soleil                 3  \n",
      "                                                   vigne                  2  \n",
      "                                                   vignes                 4  \n",
      "BSV_NA_VIGNE_Nord_Aquitaine_20_20190806_cle891ea2  Vigne                 10  \n",
      "                                                   baie                   1  \n",
      "                                                   baies                  5  \n",
      "                                                   cultures               1  \n",
      "                                                   raisin                 1  \n",
      "                                                   soleil                 3  \n",
      "                                                   vigne                  3  \n",
      "                                                   vignes                 3  \n",
      "BSV_NA_VIGNE_Sud_Aquitaine_02_20190401_01_cle4b... Vigne                  5  \n",
      "                                                   baies                  3  \n",
      "                                                   cultures               1  \n",
      "                                                   vigne                  9  \n",
      "                                                   vins                   1  \n",
      "BSV_NA_VIGNE_Sud_Aquitaine_08_20190514_cle8e63bb   Vigne                  6  \n",
      "                                                   baies                  3  \n",
      "                                                   cultures               1  \n",
      "                                                   vigne                  8  \n",
      "                                                   vignes                 2  \n",
      "                                                   vins                   1  \n",
      "BSV_NA_VIGNE_Sud_Aquitaine_17_20190716_cle841a78   Vigne                  5  \n",
      "                                                   baies                  3  \n",
      "                                                   cultures               1  \n",
      "                                                   soleil                 1  \n",
      "                                                   vigne                  3  \n",
      "                                                   vignes                 3  \n",
      "                                                   vins                   1  \n",
      "BSV_NA_VIGNE_Sud_Aquitaine_18_20190723_cle84e39a   Vigne                  5  \n",
      "                                                   baie                   1  \n",
      "                                                   baies                  5  \n",
      "                                                   cultures               1  \n",
      "                                                   raisin                 1  \n",
      "                                                   soleil                 3  \n",
      "                                                   vigne                  5  \n",
      "                                                   vignes                 3  \n",
      "                                                   vins                   1  \n",
      "BSV_NA_VIGNE_Sud_Aquitaine_20_20190806_cle831e2b   Vigne                  5  \n",
      "                                                   baie                   1  \n",
      "                                                   baies                  5  \n",
      "                                                   cultures               1  \n",
      "                                                   raisin                 1  \n",
      "                                                   soleil                 3  \n",
      "                                                   vigne                  4  \n",
      "                                                   vignes                 2  \n",
      "                                                   vins                   2  \n",
      "BSV_Viticulture_2_17_mai_2019_cle8f88af            VITICULTURE            1  \n",
      "                                                   Viticulture            6  \n",
      "                                                   abricot                1  \n",
      "                                                   agrumes                1  \n",
      "                                                   amandiers              1  \n",
      "                                                   ananas                 1  \n",
      "                                                   banane                 1  \n",
      "                                                   cerise                 1  \n",
      "                                                   citron                 1  \n",
      "                                                   courges                1  \n",
      "                                                   cultures               2  \n",
      "                                                   figue                  1  \n",
      "                                                   fleurs                 1  \n",
      "                                                   fruit                  3  \n",
      "                                                   fruitières             1  \n",
      "                                                   fruits                 2  \n",
      "                                                   fruits tropicale       1  \n",
      "                                                   goyave                 1  \n",
      "                                                   laurier                1  \n",
      "                                                   mangue                 1  \n",
      "                                                   melons                 1  \n",
      "                                                   oliviers               1  \n",
      "                                                   poire                  1  \n",
      "                                                   poivrons               1  \n",
      "                                                   rose                   1  \n",
      "                                                   tomate                 1  \n",
      "                                                   tomates                1  \n",
      "                                                   verger                 1  \n",
      "                                                   vigne                  3  \n",
      "BSV_Viticulture_5_18_juillet_2019_cle8b576d        Soleil                 1  \n",
      "                                                   VIGNE                  1  \n",
      "                                                   VITICULTURE            1  \n",
      "                                                   Viticulture            5  \n",
      "                                                   abricot                1  \n",
      "                                                   agrumes                3  \n",
      "                                                   amandiers              1  \n",
      "                                                   ananas                 1  \n",
      "                                                   baies                  3  \n",
      "                                                   banane                 1  \n",
      "                                                   cerise                 1  \n",
      "                                                   citron                 1  \n",
      "                                                   courges                1  \n",
      "                                                   cultures               4  \n",
      "                                                   figue                  1  \n",
      "                                                   fruit                  3  \n",
      "                                                   fruitières             1  \n",
      "                                                   fruits                 2  \n",
      "                                                   fruits tropicale       1  \n",
      "                                                   goyave                 1  \n",
      "                                                   laurier                1  \n",
      "                                                   mangue                 1  \n",
      "                                                   melons                 1  \n",
      "                                                   oliviers               1  \n",
      "                                                   poire                  1  \n",
      "                                                   poivrons               1  \n",
      "                                                   raisins                1  \n",
      "                                                   rose                   1  \n",
      "                                                   tomate                 1  \n",
      "                                                   tomates                1  \n",
      "                                                   verger                 1  \n",
      "                                                   vigne                  6  \n",
      "                                                   vignes                 1  \n",
      "BSV_viti_01_du_16-04-19_cle878624                  POIRIER                1  \n",
      "                                                   VITICULTURE            1  \n",
      "                                                   Vigne                  1  \n",
      "                                                   Viticulture            7  \n",
      "                                                   cultures               1  \n",
      "                                                   gel                    2  \n",
      "                                                   vigne                  8  \n",
      "                                                   vignes                 2  \n",
      "                                                   viticulture            3  \n",
      "BSV_viti_12_du_02-07-19-1_cle05965f                Noyers                 1  \n",
      "                                                   VITICULTURE            2  \n",
      "                                                   Vigne                  1  \n",
      "                                                   Viticulture            8  \n",
      "                                                   baies                  3  \n",
      "                                                   cultures               2  \n",
      "                                                   gel                    1  \n",
      "                                                   pois                   7  \n",
      "                                                   roses                  1  \n",
      "                                                   soleil                 1  \n",
      "                                                   vigne                  5  \n",
      "                                                   vignes                 3  \n",
      "                                                   viticulture            6  \n",
      "BSV_viti_13_du_09-07-19_cle86811a                  Noyers                 3  \n",
      "                                                   VITICULTURE            2  \n",
      "                                                   Vigne                  1  \n",
      "                                                   Viticulture            8  \n",
      "                                                   baies                  3  \n",
      "                                                   cultures               1  \n",
      "                                                   pois                   3  \n",
      "                                                   roses                  1  \n",
      "                                                   soleil                 1  \n",
      "                                                   vigne                  4  \n",
      "                                                   vignes                 3  \n",
      "                                                   viticulture            6  \n",
      "BSV_viti_16_du_16-09-19_cle87b836                  VITICULTURE            2  \n",
      "                                                   Vigne                  1  \n",
      "                                                   Viticulture            5  \n",
      "                                                   cultures               1  \n",
      "                                                   raisin                 1  \n",
      "                                                   vigne                  2  \n",
      "                                                   viticulture            2  \n",
      "bsv_raisin_n07_14052019_cle85bd4c                  Raisin de table        5  \n",
      "                                                   cultures               1  \n",
      "                                                   raisin de table        1  \n",
      "                                                   vigne                  2  \n",
      "bsv_raisin_n12_18062019_cle8578dc                  Raisin de table        7  \n",
      "                                                   arbres fruitiers       1  \n",
      "                                                   baies                  1  \n",
      "                                                   cultures               5  \n",
      "                                                   fleurs                 2  \n",
      "                                                   orangé                 1  \n",
      "                                                   pois                   2  \n",
      "                                                   raisin de table        1  \n",
      "                                                   vergers                1  \n",
      "                                                   vigne                  1  \n",
      "bsv_raisin_n15_16072019_cle8c8617                  Raisin de table        6  \n",
      "                                                   baie                   1  \n",
      "                                                   baies                  3  \n",
      "                                                   cultures               1  \n",
      "                                                   pois                   1  \n",
      "                                                   raisin de table        1  \n",
      "                                                   vigne                  2  \n",
      "bsv_vigne_n17_gascogne_24072018_cle4238ae          VITICULTURE            5  \n",
      "                                                   Vigne                  1  \n",
      "                                                   Viticulture            2  \n",
      "                                                   baie                   1  \n",
      "                                                   baies                  2  \n",
      "                                                   cultures               1  \n",
      "                                                   soleil                 1  \n",
      "                                                   vigne                  1  \n",
      "                                                   vignes                 3  \n",
      "                                                   viticulture            1  \n",
      "bsv_vigne_n21_gascogne_11092018_cle4c45ec          VITICULTURE            3  \n",
      "                                                   Viticulture            2  \n",
      "                                                   cultures               1  \n",
      "                                                   viticulture            1  \n",
      "bsv_viti_13_27_06_2019_cle07f426                   Melon                  2  \n",
      "                                                   baies                  2  \n",
      "                                                   cultures               1  \n",
      "                                                   fleurs                 1  \n",
      "                                                   fruits                 1  \n",
      "                                                   gels                   1  \n",
      "                                                   pois                   1  \n",
      "                                                   vigne                  2  \n",
      "                                                   vignes                 1  \n",
      "bsv_viti_14_04_07_2019-1_cle888dd3                 Melon                  2  \n",
      "                                                   baies                  2  \n",
      "                                                   cultures               2  \n",
      "                                                   pois                   2  \n",
      "                                                   soleil                 1  \n",
      "                                                   vigne                  1  \n",
      "                                                   vignes                 2  \n",
      "bsv_viti_17_25_07_2019_cle0a86e1                   Melon                  1  \n",
      "                                                   baies                  4  \n",
      "                                                   cultures               1  \n",
      "                                                   soleil                 2  \n",
      "                                                   vignes                 2  \n",
      "bsv_viti_3_18_04_2019_cle43e1c9                    Melon                  3  \n",
      "                                                   cultures               1  \n",
      "                                                   gel                    2  \n",
      "                                                   vigne                  1  \n",
      "                                                   vignes                 1  \n",
      "bsv_viti_lr_n03_16042019_cle82d51a                 Gel                    1  \n",
      "                                                   Viticulture            9  \n",
      "                                                   cultures               1  \n",
      "                                                   gel                    1  \n",
      "                                                   oranges                1  \n",
      "                                                   vigne                  1  \n",
      "                                                   vignes                 1  \n",
      "                                                   viticulture            1  \n",
      "bsv_viti_lr_n06_06052019-1_cle4a8957-1             Noisette               1  \n",
      "                                                   Noix                   4  \n",
      "                                                   cultures               1  \n",
      "                                                   fleurs                 2  \n",
      "                                                   fruit                  1  \n",
      "                                                   fruitiers              1  \n",
      "                                                   fruits                 2  \n",
      "                                                   noyer                  1  \n",
      "                                                   noyers                 1  \n",
      "                                                   orangé                 1  \n",
      "                                                   verger                 2  \n",
      "                                                   vergers                1  \n",
      "bsv_viti_lr_n17_30072019_cle8cc4c8                 Viticulture           14  \n",
      "                                                   arbres fruitiers       1  \n",
      "                                                   baie                   1  \n",
      "                                                   baies                  4  \n",
      "                                                   cultures               5  \n",
      "                                                   fleurs                 1  \n",
      "                                                   vergers                1  \n",
      "                                                   vigne                  5  \n",
      "                                                   viticulture            1  \n",
      "bsv_viti_mp_cahors_n12_25062019_cle4cf277          Vigne                  1  \n",
      "                                                   Viticulture            6  \n",
      "                                                   cultures               1  \n",
      "                                                   gel                    1  \n",
      "                                                   pois                   1  \n",
      "                                                   vigne                  1  \n",
      "                                                   vins                   1  \n",
      "                                                   viticulture            1  \n",
      "bsv_viti_mp_cahors_n17_30072019_cle434e53          Vigne                  1  \n",
      "                                                   Viticulture            7  \n",
      "                                                   baies                  1  \n",
      "                                                   culture                5  \n",
      "                                                   cultures               9  \n",
      "                                                   paille                 1  \n",
      "                                                   pailles                1  \n",
      "                                                   pois                   1  \n",
      "                                                   semences               9  \n",
      "                                                   tournesol              3  \n",
      "                                                   vigne                  3  \n",
      "                                                   vins                   1  \n",
      "                                                   viticulture            1  \n",
      "                                                   zones non agricoles    1  \n",
      "bsv_viti_mp_cahors_n19_20082019_cle4e16b4          Viticulture            4  \n",
      "                                                   baies                  1  \n",
      "                                                   cultures               1  \n",
      "                                                   vigne                  3  \n",
      "                                                   vignes                 3  \n",
      "                                                   vins                   1  \n",
      "                                                   viticulture            1  \n",
      "bsv_viti_mp_fronton_tarnetgaronne_n04_24042019_... Vigne                  1  \n",
      "                                                   Viticulture            3  \n",
      "                                                   cultures               1  \n",
      "                                                   vigne                  1  \n",
      "                                                   viticulture            1  \n",
      "bsv_viti_mp_fronton_tarnetgaronne_n13_25062019_... Vigne                  1  \n",
      "                                                   Viticulture            8  \n",
      "                                                   cultures               1  \n",
      "                                                   pois                   3  \n",
      "                                                   vigne                  1  \n",
      "                                                   viticulture            1  \n",
      "bsv_viti_mp_fronton_tarnetgaronne_n18_30072019_... Vigne                  1  \n",
      "                                                   Viticulture            8  \n",
      "                                                   baies                  2  \n",
      "                                                   culture                5  \n",
      "                                                   cultures               9  \n",
      "                                                   paille                 1  \n",
      "                                                   pailles                1  \n",
      "                                                   semences               9  \n",
      "                                                   tournesol              3  \n",
      "                                                   vigne                  3  \n",
      "                                                   viticulture            1  \n",
      "                                                   zones non agricoles    1  \n",
      "bsv_viti_mp_gaillac_n02_09042019_cle0bbe75         Vigne                  1  \n",
      "                                                   Vins                   1  \n",
      "                                                   Viticulture            8  \n",
      "                                                   baies                  3  \n",
      "                                                   cultures               1  \n",
      "                                                   fleurs                 1  \n",
      "                                                   gel                    2  \n",
      "                                                   vigne                  4  \n",
      "                                                   vignes                 2  \n",
      "                                                   viticulture            3  \n",
      "bsv_viti_mp_gaillac_n13_25062019_cle0e5f7f         Vigne                  1  \n",
      "                                                   Vins                   1  \n",
      "                                                   Viticulture            6  \n",
      "                                                   cultures               1  \n",
      "                                                   pois                   1  \n",
      "                                                   vigne                  1  \n",
      "                                                   viticulture            1  \n",
      "bsv_viti_mp_gaillac_n18_30072019_cle0fe8aa         Vigne                  1  \n",
      "                                                   Vins                   1  \n",
      "                                                   Viticulture            7  \n",
      "                                                   baies                  2  \n",
      "                                                   culture                5  \n",
      "                                                   cultures               9  \n",
      "                                                   paille                 1  \n",
      "                                                   pailles                1  \n",
      "                                                   semences               9  \n",
      "                                                   tournesol              3  \n",
      "                                                   vigne                  3  \n",
      "                                                   viticulture            1  \n",
      "                                                   zones non agricoles    1  \n"
     ]
    }
   ],
   "source": [
    "with pd.option_context('display.max_rows', None, 'display.max_columns', None):  \n",
    "    print(df.groupby(['bsv', 'word'])['word'].describe())"
   ]
  },
  {
   "cell_type": "code",
   "execution_count": 123,
   "metadata": {},
   "outputs": [
    {
     "data": {
      "text/html": [
       "<div>\n",
       "<style scoped>\n",
       "    .dataframe tbody tr th:only-of-type {\n",
       "        vertical-align: middle;\n",
       "    }\n",
       "\n",
       "    .dataframe tbody tr th {\n",
       "        vertical-align: top;\n",
       "    }\n",
       "\n",
       "    .dataframe thead th {\n",
       "        text-align: right;\n",
       "    }\n",
       "</style>\n",
       "<table border=\"1\" class=\"dataframe\">\n",
       "  <thead>\n",
       "    <tr style=\"text-align: right;\">\n",
       "      <th></th>\n",
       "      <th>bsv</th>\n",
       "      <th>word</th>\n",
       "      <th>count</th>\n",
       "    </tr>\n",
       "  </thead>\n",
       "  <tbody>\n",
       "    <tr>\n",
       "      <th>34</th>\n",
       "      <td>BSV-viti-RA-15_09-07-2019_cle01ba24</td>\n",
       "      <td>baies</td>\n",
       "      <td>52</td>\n",
       "    </tr>\n",
       "    <tr>\n",
       "      <th>46</th>\n",
       "      <td>BSV-viti-RA-16_16-07-2019_cle0bfb92</td>\n",
       "      <td>baies</td>\n",
       "      <td>43</td>\n",
       "    </tr>\n",
       "    <tr>\n",
       "      <th>32</th>\n",
       "      <td>BSV-viti-RA-15_09-07-2019_cle01ba24</td>\n",
       "      <td>Viticulture</td>\n",
       "      <td>20</td>\n",
       "    </tr>\n",
       "    <tr>\n",
       "      <th>36</th>\n",
       "      <td>BSV-viti-RA-15_09-07-2019_cle01ba24</td>\n",
       "      <td>pois</td>\n",
       "      <td>18</td>\n",
       "    </tr>\n",
       "    <tr>\n",
       "      <th>45</th>\n",
       "      <td>BSV-viti-RA-16_16-07-2019_cle0bfb92</td>\n",
       "      <td>Viticulture</td>\n",
       "      <td>17</td>\n",
       "    </tr>\n",
       "    <tr>\n",
       "      <th>...</th>\n",
       "      <td>...</td>\n",
       "      <td>...</td>\n",
       "      <td>...</td>\n",
       "    </tr>\n",
       "    <tr>\n",
       "      <th>250</th>\n",
       "      <td>BSV_Viticulture_2_17_mai_2019_cle8f88af</td>\n",
       "      <td>ananas</td>\n",
       "      <td>1</td>\n",
       "    </tr>\n",
       "    <tr>\n",
       "      <th>249</th>\n",
       "      <td>BSV_Viticulture_2_17_mai_2019_cle8f88af</td>\n",
       "      <td>amandiers</td>\n",
       "      <td>1</td>\n",
       "    </tr>\n",
       "    <tr>\n",
       "      <th>248</th>\n",
       "      <td>BSV_Viticulture_2_17_mai_2019_cle8f88af</td>\n",
       "      <td>agrumes</td>\n",
       "      <td>1</td>\n",
       "    </tr>\n",
       "    <tr>\n",
       "      <th>247</th>\n",
       "      <td>BSV_Viticulture_2_17_mai_2019_cle8f88af</td>\n",
       "      <td>abricot</td>\n",
       "      <td>1</td>\n",
       "    </tr>\n",
       "    <tr>\n",
       "      <th>519</th>\n",
       "      <td>bsv_viti_mp_gaillac_n18_30072019_cle0fe8aa</td>\n",
       "      <td>zones non agricoles</td>\n",
       "      <td>1</td>\n",
       "    </tr>\n",
       "  </tbody>\n",
       "</table>\n",
       "<p>520 rows × 3 columns</p>\n",
       "</div>"
      ],
      "text/plain": [
       "                                            bsv                 word  count\n",
       "34          BSV-viti-RA-15_09-07-2019_cle01ba24                baies     52\n",
       "46          BSV-viti-RA-16_16-07-2019_cle0bfb92                baies     43\n",
       "32          BSV-viti-RA-15_09-07-2019_cle01ba24          Viticulture     20\n",
       "36          BSV-viti-RA-15_09-07-2019_cle01ba24                 pois     18\n",
       "45          BSV-viti-RA-16_16-07-2019_cle0bfb92          Viticulture     17\n",
       "..                                          ...                  ...    ...\n",
       "250     BSV_Viticulture_2_17_mai_2019_cle8f88af               ananas      1\n",
       "249     BSV_Viticulture_2_17_mai_2019_cle8f88af            amandiers      1\n",
       "248     BSV_Viticulture_2_17_mai_2019_cle8f88af              agrumes      1\n",
       "247     BSV_Viticulture_2_17_mai_2019_cle8f88af              abricot      1\n",
       "519  bsv_viti_mp_gaillac_n18_30072019_cle0fe8aa  zones non agricoles      1\n",
       "\n",
       "[520 rows x 3 columns]"
      ]
     },
     "execution_count": 123,
     "metadata": {},
     "output_type": "execute_result"
    }
   ],
   "source": [
    "df1 = df[['bsv','word']].groupby(['bsv', 'word'])['word'] \\\n",
    "                             .count() \\\n",
    "                             .reset_index(name='count') \\\n",
    "                             .sort_values(['count'], ascending=False) \\\n",
    "                             \n",
    "df1"
   ]
  },
  {
   "cell_type": "code",
   "execution_count": 124,
   "metadata": {},
   "outputs": [
    {
     "name": "stdout",
     "output_type": "stream",
     "text": [
      "                                                                       count  \\\n",
      "bsv                                                word                        \n",
      "BSV-viti-RA-15_09-07-2019_cle01ba24                baies                  52   \n",
      "BSV-viti-RA-16_16-07-2019_cle0bfb92                baies                  43   \n",
      "BSV-viti-RA-15_09-07-2019_cle01ba24                Viticulture            20   \n",
      "                                                   pois                   18   \n",
      "BSV-viti-RA-16_16-07-2019_cle0bfb92                Viticulture            17   \n",
      "bsv_viti_lr_n17_30072019_cle8cc4c8                 Viticulture            14   \n",
      "BSV_NA_VIGNE_CHARENTES_07_20190514_cle841735       Vigne                  13   \n",
      "BSV_NA_VIGNE_Limousin_17_20190730_cle835848        Vigne                  12   \n",
      "BSV_NA_VIGNE_Haut-Poitou_13_20190709_cle44ed93     baies                  12   \n",
      "BSV-viti-RA-03_16-04-2019_cle0bbc57                Viticulture            12   \n",
      "BSV_NA_VIGNE_Nord_Aquitaine_19_20190730_cle819684  baies                  11   \n",
      "BSV_NA_VIGNE_Nord_Aquitaine_07_20190507_cle8b2385  vigne                  11   \n",
      "BSV_NA_VIGNE_Nord_Aquitaine_19_20190730_cle819684  Vigne                  10   \n",
      "BSV_NA_VIGNE_Nord_Aquitaine_17_20190716_cle8d5da5  Vigne                  10   \n",
      "BSV_NA_VIGNE_Nord_Aquitaine_20_20190806_cle891ea2  Vigne                  10   \n",
      "bsv_viti_mp_cahors_n17_30072019_cle434e53          semences                9   \n",
      "bsv_viti_mp_gaillac_n18_30072019_cle0fe8aa         cultures                9   \n",
      "bsv_viti_mp_cahors_n17_30072019_cle434e53          cultures                9   \n",
      "bsv_viti_mp_gaillac_n18_30072019_cle0fe8aa         semences                9   \n",
      "BSV_NA_VIGNE_Sud_Aquitaine_02_20190401_01_cle4b... vigne                   9   \n",
      "bsv_viti_mp_fronton_tarnetgaronne_n18_30072019_... semences                9   \n",
      "                                                   cultures                9   \n",
      "bsv_viti_lr_n03_16042019_cle82d51a                 Viticulture             9   \n",
      "BSV_NA_VIGNE_Sud_Aquitaine_08_20190514_cle8e63bb   vigne                   8   \n",
      "BSV-viti-RA-16_16-07-2019_cle0bfb92                pois                    8   \n",
      "BSV_viti_01_du_16-04-19_cle878624                  vigne                   8   \n",
      "BSV_NA_VIGNE_CHARENTES_07_20190514_cle841735       vigne                   8   \n",
      "bsv_viti_mp_fronton_tarnetgaronne_n18_30072019_... Viticulture             8   \n",
      "BSV_viti_12_du_02-07-19-1_cle05965f                Viticulture             8   \n",
      "bsv_viti_mp_fronton_tarnetgaronne_n13_25062019_... Viticulture             8   \n",
      "BSV_viti_13_du_09-07-19_cle86811a                  Viticulture             8   \n",
      "bsv_viti_mp_gaillac_n02_09042019_cle0bbe75         Viticulture             8   \n",
      "BSV_NA_VIGNE_Limousin_07_20190522_cle81f925        Vigne                   8   \n",
      "bsv_viti_mp_cahors_n17_30072019_cle434e53          Viticulture             7   \n",
      "BSV_NA_VIGNE_Haut-Poitou_13_20190709_cle44ed93     pois                    7   \n",
      "BSV_NA_VIGNE_Nord_Aquitaine_07_20190507_cle8b2385  Vigne                   7   \n",
      "BSV_NA_VIGNE_Nord_Aquitaine_04_20190416_cle876cf5  Vigne                   7   \n",
      "BSV_NA_VIGNE_Haut-Poitou_15_20190806_cle4c661d     baies                   7   \n",
      "BSV_viti_01_du_16-04-19_cle878624                  Viticulture             7   \n",
      "bsv_viti_mp_gaillac_n18_30072019_cle0fe8aa         Viticulture             7   \n",
      "bsv_raisin_n12_18062019_cle8578dc                  Raisin de table         7   \n",
      "BSV_viti_12_du_02-07-19-1_cle05965f                pois                    7   \n",
      "BSV_Viticulture_2_17_mai_2019_cle8f88af            Viticulture             6   \n",
      "BSV_NA_VIGNE_Limousin_14_20190709_cle8d4f42        Vigne                   6   \n",
      "BSV_NA_VIGNE_CHARENTES_02_20190409_cle8ac81e       vigne                   6   \n",
      "bsv_viti_mp_gaillac_n13_25062019_cle0e5f7f         Viticulture             6   \n",
      "BSVViti_20190618_N16_cle091811                     baies                   6   \n",
      "20190731_LOR_Viticulture-1_cle45ef1d               FRUIT                   6   \n",
      "BSV_Viticulture_5_18_juillet_2019_cle8b576d        vigne                   6   \n",
      "BSV_viti_13_du_09-07-19_cle86811a                  viticulture             6   \n",
      "bsv_viti_mp_cahors_n12_25062019_cle4cf277          Viticulture             6   \n",
      "bsv_raisin_n15_16072019_cle8c8617                  Raisin de table         6   \n",
      "BSV_NA_VIGNE_Sud_Aquitaine_08_20190514_cle8e63bb   Vigne                   6   \n",
      "BSV_viti_12_du_02-07-19-1_cle05965f                viticulture             6   \n",
      "BSV_NA_VIGNE_CHARENTES_02_20190409_cle8ac81e       baies                   5   \n",
      "BSV_NA_VIGNE_Nord_Aquitaine_04_20190416_cle876cf5  vigne                   5   \n",
      "BSV_NA_VIGNE_Sud_Aquitaine_02_20190401_01_cle4b... Vigne                   5   \n",
      "BSV_NA_VIGNE_Sud_Aquitaine_18_20190723_cle84e39a   Vigne                   5   \n",
      "                                                   vigne                   5   \n",
      "BSV_NA_VIGNE_Sud_Aquitaine_17_20190716_cle841a78   Vigne                   5   \n",
      "BSV_NA_VIGNE_Sud_Aquitaine_20_20190806_cle831e2b   Vigne                   5   \n",
      "BSV_NA_VIGNE_Sud_Aquitaine_18_20190723_cle84e39a   baies                   5   \n",
      "bsv_viti_lr_n17_30072019_cle8cc4c8                 vigne                   5   \n",
      "BSV_viti_16_du_16-09-19_cle87b836                  Viticulture             5   \n",
      "BSV_NA_VIGNE_Sud_Aquitaine_20_20190806_cle831e2b   baies                   5   \n",
      "bsv_raisin_n12_18062019_cle8578dc                  cultures                5   \n",
      "bsv_raisin_n07_14052019_cle85bd4c                  Raisin de table         5   \n",
      "bsv_viti_mp_gaillac_n18_30072019_cle0fe8aa         culture                 5   \n",
      "BSV_viti_12_du_02-07-19-1_cle05965f                vigne                   5   \n",
      "BSV-viti-RA-03_16-04-2019_cle0bbc57                Gel                     5   \n",
      "bsv_viti_mp_cahors_n17_30072019_cle434e53          culture                 5   \n",
      "bsv_viti_mp_fronton_tarnetgaronne_n18_30072019_... culture                 5   \n",
      "BSV-viti-RA-03_16-04-2019_cle0bbc57                vignes                  5   \n",
      "bsv_vigne_n17_gascogne_24072018_cle4238ae          VITICULTURE             5   \n",
      "BSV_NA_VIGNE_Nord_Aquitaine_20_20190806_cle891ea2  baies                   5   \n",
      "BSV_Viticulture_5_18_juillet_2019_cle8b576d        Viticulture             5   \n",
      "20190619_LOR_BSV_Viticulture_cle8c2fdf             FRUIT                   5   \n",
      "BSV_NA_VIGNE_Limousin_14_20190709_cle8d4f42        baies                   5   \n",
      "bsv_viti_lr_n17_30072019_cle8cc4c8                 cultures                5   \n",
      "BSV_NA_VIGNE_CHARENTES_22_20190903_cle8f1178       Vigne                   4   \n",
      "BSV_NA_VIGNE_Nord_Aquitaine_19_20190730_cle819684  vignes                  4   \n",
      "BSV_NA_VIGNE_CHARENTES_18_20190730_cle8d5827       Vigne                   4   \n",
      "BSV_NA_VIGNE_CHARENTES_02_20190409_cle8ac81e       Vigne                   4   \n",
      "BSV_NA_VIGNE_Nord_Aquitaine_17_20190716_cle8d5da5  baies                   4   \n",
      "BSV_2019_n18_cle02fbf1                             baies                   4   \n",
      "BSV_NA_VIGNE_CHARENTES_19_20190806_cle88b155       Vigne                   4   \n",
      "BSV_NA_VIGNE_Haut-Poitou_03_20190430_cle4165b7     vigne                   4   \n",
      "BSV_2019_n16_cle04a239                             baies                   4   \n",
      "bsv_viti_mp_gaillac_n02_09042019_cle0bbe75         vigne                   4   \n",
      "BSV_NA_VIGNE_Haut-Poitou_15_20190806_cle4c661d     vigne                   4   \n",
      "BSV_viti_13_du_09-07-19_cle86811a                  vigne                   4   \n",
      "20190710_LOR_BSV_Viticulture_cle8bd128             Baies                   4   \n",
      "                                                   FRUIT                   4   \n",
      "BSV_NA_VIGNE_Limousin_02_20190409_cle81e534        vigne                   4   \n",
      "BSV-viti-RA-03_16-04-2019_cle0bbc57                gel                     4   \n",
      "BSV_NA_VIGNE_Limousin_07_20190522_cle81f925        vigne                   4   \n",
      "BSV_NA_VIGNE_Haut-Poitou_13_20190709_cle44ed93     vigne                   4   \n",
      "BSV_Viticulture_5_18_juillet_2019_cle8b576d        cultures                4   \n",
      "bsv_viti_mp_cahors_n19_20082019_cle4e16b4          Viticulture             4   \n",
      "bsv_viti_17_25_07_2019_cle0a86e1                   baies                   4   \n",
      "BSV_NA_VIGNE_CHARENTES_19_20190806_cle88b155       baies                   4   \n",
      "BSV_NA_VIGNE_Sud_Aquitaine_20_20190806_cle831e2b   vigne                   4   \n",
      "BSVViti_20190618_N16_cle091811                     fleurs                  4   \n",
      "BSV_NA_VIGNE_Limousin_14_20190709_cle8d4f42        vignes                  4   \n",
      "BSV_NA_VIGNE_Haut-Poitou_03_20190430_cle4165b7     baies                   4   \n",
      "bsv_viti_lr_n06_06052019-1_cle4a8957-1             Noix                    4   \n",
      "bsv_viti_lr_n17_30072019_cle8cc4c8                 baies                   4   \n",
      "BSV_NA_VIGNE_Nord_Aquitaine_04_20190416_cle876cf5  baies                   3   \n",
      "BSV_NA_VIGNE_Limousin_07_20190522_cle81f925        vignes                  3   \n",
      "BSV_NA_VIGNE_Limousin_14_20190709_cle8d4f42        pois                    3   \n",
      "BSV_NA_VIGNE_Nord_Aquitaine_07_20190507_cle8b2385  baies                   3   \n",
      "BSV_NA_VIGNE_Sud_Aquitaine_17_20190716_cle841a78   vigne                   3   \n",
      "BSV_NA_VIGNE_Nord_Aquitaine_07_20190507_cle8b2385  gel                     3   \n",
      "BSV_NA_VIGNE_Nord_Aquitaine_17_20190716_cle8d5da5  vignes                  3   \n",
      "BSV_viti_13_du_09-07-19_cle86811a                  vignes                  3   \n",
      "                                                   pois                    3   \n",
      "                                                   baies                   3   \n",
      "                                                   Noyers                  3   \n",
      "BSV_viti_12_du_02-07-19-1_cle05965f                vignes                  3   \n",
      "                                                   baies                   3   \n",
      "BSV_viti_01_du_16-04-19_cle878624                  viticulture             3   \n",
      "bsv_raisin_n15_16072019_cle8c8617                  baies                   3   \n",
      "BSV_Viticulture_5_18_juillet_2019_cle8b576d        fruit                   3   \n",
      "bsv_vigne_n17_gascogne_24072018_cle4238ae          vignes                  3   \n",
      "bsv_vigne_n21_gascogne_11092018_cle4c45ec          VITICULTURE             3   \n",
      "BSV_Viticulture_5_18_juillet_2019_cle8b576d        baies                   3   \n",
      "                                                   agrumes                 3   \n",
      "BSV_Viticulture_2_17_mai_2019_cle8f88af            vigne                   3   \n",
      "                                                   fruit                   3   \n",
      "bsv_viti_3_18_04_2019_cle43e1c9                    Melon                   3   \n",
      "BSV_NA_VIGNE_Sud_Aquitaine_20_20190806_cle831e2b   soleil                  3   \n",
      "BSV_NA_VIGNE_Sud_Aquitaine_18_20190723_cle84e39a   vignes                  3   \n",
      "                                                   soleil                  3   \n",
      "BSV_NA_VIGNE_Sud_Aquitaine_17_20190716_cle841a78   vignes                  3   \n",
      "                                                   baies                   3   \n",
      "BSV_NA_VIGNE_Sud_Aquitaine_08_20190514_cle8e63bb   baies                   3   \n",
      "BSV_NA_VIGNE_Sud_Aquitaine_02_20190401_01_cle4b... baies                   3   \n",
      "BSV_NA_VIGNE_Nord_Aquitaine_20_20190806_cle891ea2  vignes                  3   \n",
      "                                                   vigne                   3   \n",
      "                                                   soleil                  3   \n",
      "BSV_NA_VIGNE_Nord_Aquitaine_19_20190730_cle819684  soleil                  3   \n",
      "BSV_NA_VIGNE_Limousin_02_20190409_cle81e534        baies                   3   \n",
      "BSV_NA_VIGNE_Limousin_17_20190730_cle835848        vignes                  3   \n",
      "BSV_NA_VIGNE_Limousin_02_20190409_cle81e534        Vigne                   3   \n",
      "BSV_NA_VIGNE_Haut-Poitou_13_20190709_cle44ed93     Vigne                   3   \n",
      "bsv_viti_mp_fronton_tarnetgaronne_n18_30072019_... vigne                   3   \n",
      "BSV_2019_n13_cle0f596d                             FRUIT                   3   \n",
      "bsv_viti_mp_fronton_tarnetgaronne_n18_30072019_... tournesol               3   \n",
      "BSV_2019_n16_cle04a239                             vigne                   3   \n",
      "BSV_2019_n18_cle02fbf1                             Vigne                   3   \n",
      "bsv_viti_mp_gaillac_n02_09042019_cle0bbe75         baies                   3   \n",
      "bsv_viti_mp_fronton_tarnetgaronne_n13_25062019_... pois                    3   \n",
      "bsv_viti_mp_gaillac_n02_09042019_cle0bbe75         viticulture             3   \n",
      "bsv_viti_mp_fronton_tarnetgaronne_n04_24042019_... Viticulture             3   \n",
      "BSV_NA_VIGNE_Haut-Poitou_03_20190430_cle4165b7     Vigne                   3   \n",
      "bsv_viti_mp_cahors_n19_20082019_cle4e16b4          vignes                  3   \n",
      "BSV_NA_VIGNE_Haut-Poitou_03_20190430_cle4165b7     gel                     3   \n",
      "bsv_viti_mp_cahors_n19_20082019_cle4e16b4          vigne                   3   \n",
      "BSVViti_20190730_N22_cle019b19                     vigne                   3   \n",
      "bsv_viti_mp_cahors_n17_30072019_cle434e53          vigne                   3   \n",
      "bsv_viti_mp_gaillac_n18_30072019_cle0fe8aa         tournesol               3   \n",
      "20190710_LOR_BSV_Viticulture_cle8bd128             baies                   3   \n",
      "bsv_viti_mp_gaillac_n18_30072019_cle0fe8aa         vigne                   3   \n",
      "BSV_NA_VIGNE_Haut-Poitou_15_20190806_cle4c661d     Vigne                   3   \n",
      "bsv_viti_mp_cahors_n17_30072019_cle434e53          tournesol               3   \n",
      "bsv_viti_17_25_07_2019_cle0a86e1                   vignes                  2   \n",
      "                                                   soleil                  2   \n",
      "BSV_Viticulture_2_17_mai_2019_cle8f88af            cultures                2   \n",
      "20190731_LOR_Viticulture-1_cle45ef1d               soleil                  2   \n",
      "BSV-viti-RA-16_16-07-2019_cle0bfb92                viticulture             2   \n",
      "BSVViti_20190409_N3_cle88a431                      Vigne                   2   \n",
      "BSV-viti-RA-16_16-07-2019_cle0bfb92                vignes                  2   \n",
      "bsv_viti_14_04_07_2019-1_cle888dd3                 pois                    2   \n",
      "                                                   cultures                2   \n",
      "                                                   baies                   2   \n",
      "                                                   vignes                  2   \n",
      "BSVViti_20190409_N3_cle88a431                      Viticulture             2   \n",
      "bsv_viti_3_18_04_2019_cle43e1c9                    gel                     2   \n",
      "bsv_viti_13_27_06_2019_cle07f426                   vigne                   2   \n",
      "BSV_NA_VIGNE_Sud_Aquitaine_20_20190806_cle831e2b   vins                    2   \n",
      "BSVViti_20190409_N3_cle88a431                      vigne                   2   \n",
      "BSVViti_20190618_N16_cle091811                     Vigne                   2   \n",
      "                                                   Viticulture             2   \n",
      "                                                   vigne                   2   \n",
      "BSVViti_20190730_N22_cle019b19                     Vigne                   2   \n",
      "                                                   Viticulture             2   \n",
      "                                                   baies                   2   \n",
      "BSV_viti_16_du_16-09-19_cle87b836                  VITICULTURE             2   \n",
      "                                                   vigne                   2   \n",
      "bsv_viti_14_04_07_2019-1_cle888dd3                 Melon                   2   \n",
      "bsv_viti_13_27_06_2019_cle07f426                   baies                   2   \n",
      "BSV-viti-RA-16_16-07-2019_cle0bfb92                vigne                   2   \n",
      "20190710_LOR_BSV_Viticulture_cle8bd128             pois                    2   \n",
      "20190731_LOR_Viticulture-1_cle45ef1d               baies                   2   \n",
      "bsv_raisin_n07_14052019_cle85bd4c                  vigne                   2   \n",
      "BSV_viti_12_du_02-07-19-1_cle05965f                cultures                2   \n",
      "BSV_viti_13_du_09-07-19_cle86811a                  VITICULTURE             2   \n",
      "BSV_viti_12_du_02-07-19-1_cle05965f                VITICULTURE             2   \n",
      "BSV-viti-RA-03_16-04-2019_cle0bbc57                viticulture             2   \n",
      "BSV_viti_01_du_16-04-19_cle878624                  vignes                  2   \n",
      "                                                   gel                     2   \n",
      "bsv_raisin_n12_18062019_cle8578dc                  fleurs                  2   \n",
      "BSV-viti-RA-15_09-07-2019_cle01ba24                baie                    2   \n",
      "bsv_raisin_n12_18062019_cle8578dc                  pois                    2   \n",
      "BSV-viti-RA-15_09-07-2019_cle01ba24                soleil                  2   \n",
      "bsv_raisin_n15_16072019_cle8c8617                  vigne                   2   \n",
      "bsv_viti_mp_gaillac_n18_30072019_cle0fe8aa         baies                   2   \n",
      "BSV-viti-RA-15_09-07-2019_cle01ba24                vignes                  2   \n",
      "bsv_vigne_n17_gascogne_24072018_cle4238ae          Viticulture             2   \n",
      "                                                   baies                   2   \n",
      "BSV_Viticulture_5_18_juillet_2019_cle8b576d        fruits                  2   \n",
      "BSVViti_20190820_N23_cle0c5111                     Vigne                   2   \n",
      "20190619_LOR_BSV_Viticulture_cle8c2fdf             vigne                   2   \n",
      "bsv_viti_mp_gaillac_n02_09042019_cle0bbe75         vignes                  2   \n",
      "BSV-viti-RA-16_16-07-2019_cle0bfb92                Vins                    2   \n",
      "bsv_viti_mp_gaillac_n02_09042019_cle0bbe75         gel                     2   \n",
      "bsv_vigne_n21_gascogne_11092018_cle4c45ec          Viticulture             2   \n",
      "bsv_viti_13_27_06_2019_cle07f426                   Melon                   2   \n",
      "BSV_viti_16_du_16-09-19_cle87b836                  viticulture             2   \n",
      "BSV-viti-RA-15_09-07-2019_cle01ba24                viticulture             2   \n",
      "BSV_NA_VIGNE_Sud_Aquitaine_20_20190806_cle831e2b   vignes                  2   \n",
      "BSVViti_20190820_N23_cle0c5111                     Viticulture             2   \n",
      "bsv_viti_lr_n06_06052019-1_cle4a8957-1             fruits                  2   \n",
      "BSV_NA_VIGNE_Limousin_02_20190409_cle81e534        gel                     2   \n",
      "BSV_NA_VIGNE_Limousin_07_20190522_cle81f925        gel                     2   \n",
      "BSV_NA_VIGNE_CHARENTES_18_20190730_cle8d5827       vigne                   2   \n",
      "                                                   cultures                2   \n",
      "BSV_NA_VIGNE_Nord_Aquitaine_17_20190716_cle8d5da5  soleil                  2   \n",
      "                                                   vigne                   2   \n",
      "bsv_viti_mp_fronton_tarnetgaronne_n18_30072019_... baies                   2   \n",
      "bsv_viti_lr_n06_06052019-1_cle4a8957-1             verger                  2   \n",
      "BSV_NA_VIGNE_Nord_Aquitaine_19_20190730_cle819684  vigne                   2   \n",
      "BSV_2019_n18_cle02fbf1                             vigne                   2   \n",
      "                                                   FRUIT                   2   \n",
      "BSV_2019_n16_cle04a239                             Vigne                   2   \n",
      "                                                   FRUIT                   2   \n",
      "BSV_2019_n13_cle0f596d                             vigne                   2   \n",
      "BSV_NA_VIGNE_Nord_Aquitaine_07_20190507_cle8b2385  vignes                  2   \n",
      "BSV_Viticulture_2_17_mai_2019_cle8f88af            fruits                  2   \n",
      "bsv_viti_lr_n06_06052019-1_cle4a8957-1             fleurs                  2   \n",
      "BSV_2019_n13_cle0f596d                             soleil                  2   \n",
      "BSV_NA_VIGNE_Sud_Aquitaine_08_20190514_cle8e63bb   vignes                  2   \n",
      "BSV_2019_n13_cle0f596d                             Vigne                   2   \n",
      "bsv_viti_mp_gaillac_n13_25062019_cle0e5f7f         Vins                    1   \n",
      "                                                   pois                    1   \n",
      "bsv_viti_mp_cahors_n12_25062019_cle4cf277          cultures                1   \n",
      "bsv_viti_mp_gaillac_n13_25062019_cle0e5f7f         cultures                1   \n",
      "bsv_viti_mp_cahors_n19_20082019_cle4e16b4          vins                    1   \n",
      "bsv_viti_mp_cahors_n12_25062019_cle4cf277          Vigne                   1   \n",
      "bsv_viti_lr_n17_30072019_cle8cc4c8                 viticulture             1   \n",
      "bsv_raisin_n12_18062019_cle8578dc                  orangé                  1   \n",
      "BSV_viti_16_du_16-09-19_cle87b836                  raisin                  1   \n",
      "bsv_raisin_n12_18062019_cle8578dc                  raisin de table         1   \n",
      "                                                   vergers                 1   \n",
      "bsv_viti_mp_cahors_n19_20082019_cle4e16b4          viticulture             1   \n",
      "bsv_raisin_n12_18062019_cle8578dc                  vigne                   1   \n",
      "bsv_viti_mp_cahors_n12_25062019_cle4cf277          pois                    1   \n",
      "bsv_raisin_n15_16072019_cle8c8617                  baie                    1   \n",
      "bsv_viti_mp_gaillac_n13_25062019_cle0e5f7f         Vigne                   1   \n",
      "bsv_raisin_n15_16072019_cle8c8617                  cultures                1   \n",
      "                                                   pois                    1   \n",
      "                                                   raisin de table         1   \n",
      "bsv_viti_mp_fronton_tarnetgaronne_n04_24042019_... Vigne                   1   \n",
      "bsv_viti_lr_n17_30072019_cle8cc4c8                 vergers                 1   \n",
      "bsv_vigne_n17_gascogne_24072018_cle4238ae          Vigne                   1   \n",
      "bsv_viti_lr_n17_30072019_cle8cc4c8                 fleurs                  1   \n",
      "bsv_viti_mp_cahors_n12_25062019_cle4cf277          gel                     1   \n",
      "bsv_viti_mp_gaillac_n13_25062019_cle0e5f7f         vigne                   1   \n",
      "bsv_raisin_n12_18062019_cle8578dc                  baies                   1   \n",
      "bsv_viti_mp_fronton_tarnetgaronne_n04_24042019_... cultures                1   \n",
      "bsv_viti_mp_cahors_n17_30072019_cle434e53          pailles                 1   \n",
      "bsv_viti_mp_gaillac_n18_30072019_cle0fe8aa         viticulture             1   \n",
      "bsv_viti_mp_cahors_n17_30072019_cle434e53          paille                  1   \n",
      "                                                   vins                    1   \n",
      "                                                   viticulture             1   \n",
      "                                                   baies                   1   \n",
      "bsv_viti_mp_gaillac_n18_30072019_cle0fe8aa         pailles                 1   \n",
      "bsv_raisin_n07_14052019_cle85bd4c                  cultures                1   \n",
      "bsv_viti_mp_cahors_n17_30072019_cle434e53          zones non agricoles     1   \n",
      "bsv_raisin_n07_14052019_cle85bd4c                  raisin de table         1   \n",
      "bsv_viti_mp_cahors_n19_20082019_cle4e16b4          baies                   1   \n",
      "bsv_viti_mp_gaillac_n18_30072019_cle0fe8aa         paille                  1   \n",
      "bsv_viti_mp_cahors_n19_20082019_cle4e16b4          cultures                1   \n",
      "bsv_viti_mp_cahors_n17_30072019_cle434e53          Vigne                   1   \n",
      "bsv_viti_mp_cahors_n12_25062019_cle4cf277          viticulture             1   \n",
      "                                                   vins                    1   \n",
      "bsv_viti_mp_gaillac_n18_30072019_cle0fe8aa         Vins                    1   \n",
      "                                                   Vigne                   1   \n",
      "bsv_raisin_n12_18062019_cle8578dc                  arbres fruitiers        1   \n",
      "bsv_viti_mp_cahors_n12_25062019_cle4cf277          vigne                   1   \n",
      "bsv_viti_mp_gaillac_n13_25062019_cle0e5f7f         viticulture             1   \n",
      "bsv_vigne_n17_gascogne_24072018_cle4238ae          baie                    1   \n",
      "bsv_viti_lr_n03_16042019_cle82d51a                 gel                     1   \n",
      "                                                   cultures                1   \n",
      "bsv_viti_lr_n06_06052019-1_cle4a8957-1             orangé                  1   \n",
      "bsv_viti_mp_fronton_tarnetgaronne_n18_30072019_... zones non agricoles     1   \n",
      "bsv_viti_14_04_07_2019-1_cle888dd3                 soleil                  1   \n",
      "                                                   vigne                   1   \n",
      "bsv_viti_lr_n06_06052019-1_cle4a8957-1             vergers                 1   \n",
      "bsv_viti_lr_n03_16042019_cle82d51a                 vignes                  1   \n",
      "bsv_viti_mp_fronton_tarnetgaronne_n18_30072019_... paille                  1   \n",
      "bsv_viti_17_25_07_2019_cle0a86e1                   Melon                   1   \n",
      "bsv_viti_lr_n03_16042019_cle82d51a                 vigne                   1   \n",
      "bsv_viti_mp_fronton_tarnetgaronne_n18_30072019_... pailles                 1   \n",
      "bsv_viti_17_25_07_2019_cle0a86e1                   cultures                1   \n",
      "bsv_viti_lr_n06_06052019-1_cle4a8957-1             noyers                  1   \n",
      "bsv_viti_mp_fronton_tarnetgaronne_n13_25062019_... viticulture             1   \n",
      "bsv_viti_3_18_04_2019_cle43e1c9                    cultures                1   \n",
      "bsv_viti_lr_n06_06052019-1_cle4a8957-1             noyer                   1   \n",
      "bsv_viti_3_18_04_2019_cle43e1c9                    vigne                   1   \n",
      "                                                   vignes                  1   \n",
      "bsv_viti_lr_n06_06052019-1_cle4a8957-1             fruitiers               1   \n",
      "bsv_viti_lr_n03_16042019_cle82d51a                 Gel                     1   \n",
      "bsv_viti_mp_cahors_n17_30072019_cle434e53          pois                    1   \n",
      "bsv_viti_lr_n03_16042019_cle82d51a                 oranges                 1   \n",
      "bsv_viti_mp_gaillac_n02_09042019_cle0bbe75         Vins                    1   \n",
      "                                                   Vigne                   1   \n",
      "bsv_viti_mp_fronton_tarnetgaronne_n18_30072019_... Vigne                   1   \n",
      "bsv_viti_mp_fronton_tarnetgaronne_n13_25062019_... vigne                   1   \n",
      "bsv_vigne_n17_gascogne_24072018_cle4238ae          cultures                1   \n",
      "bsv_viti_mp_gaillac_n02_09042019_cle0bbe75         fleurs                  1   \n",
      "bsv_viti_mp_fronton_tarnetgaronne_n04_24042019_... viticulture             1   \n",
      "bsv_vigne_n17_gascogne_24072018_cle4238ae          soleil                  1   \n",
      "bsv_viti_mp_fronton_tarnetgaronne_n13_25062019_... Vigne                   1   \n",
      "bsv_vigne_n17_gascogne_24072018_cle4238ae          vigne                   1   \n",
      "bsv_viti_mp_fronton_tarnetgaronne_n18_30072019_... viticulture             1   \n",
      "bsv_vigne_n17_gascogne_24072018_cle4238ae          viticulture             1   \n",
      "bsv_viti_lr_n06_06052019-1_cle4a8957-1             Noisette                1   \n",
      "                                                   cultures                1   \n",
      "bsv_viti_lr_n17_30072019_cle8cc4c8                 baie                    1   \n",
      "bsv_vigne_n21_gascogne_11092018_cle4c45ec          cultures                1   \n",
      "                                                   viticulture             1   \n",
      "bsv_viti_13_27_06_2019_cle07f426                   vignes                  1   \n",
      "bsv_viti_mp_gaillac_n02_09042019_cle0bbe75         cultures                1   \n",
      "bsv_viti_mp_fronton_tarnetgaronne_n13_25062019_... cultures                1   \n",
      "bsv_viti_lr_n17_30072019_cle8cc4c8                 arbres fruitiers        1   \n",
      "bsv_viti_13_27_06_2019_cle07f426                   cultures                1   \n",
      "bsv_viti_lr_n06_06052019-1_cle4a8957-1             fruit                   1   \n",
      "bsv_viti_13_27_06_2019_cle07f426                   fleurs                  1   \n",
      "                                                   fruits                  1   \n",
      "                                                   gels                    1   \n",
      "                                                   pois                    1   \n",
      "bsv_viti_lr_n03_16042019_cle82d51a                 viticulture             1   \n",
      "bsv_viti_mp_fronton_tarnetgaronne_n04_24042019_... vigne                   1   \n",
      "20190619_LOR_BSV_Viticulture_cle8c2fdf             CULTURES                1   \n",
      "BSV_viti_16_du_16-09-19_cle87b836                  cultures                1   \n",
      "BSV_NA_VIGNE_Haut-Poitou_03_20190430_cle4165b7     Viticulture             1   \n",
      "BSV_NA_VIGNE_Haut-Poitou_15_20190806_cle4c661d     cultures                1   \n",
      "                                                   Viticulture             1   \n",
      "                                                   Vin                     1   \n",
      "BSV_NA_VIGNE_Haut-Poitou_13_20190709_cle44ed93     cultures                1   \n",
      "                                                   Viticulture             1   \n",
      "                                                   Vin                     1   \n",
      "BSV_NA_VIGNE_Haut-Poitou_03_20190430_cle4165b7     marron                  1   \n",
      "                                                   cultures                1   \n",
      "                                                   Vin                     1   \n",
      "BSV_NA_VIGNE_Haut-Poitou_15_20190806_cle4c661d     fruits                  1   \n",
      "BSV_NA_VIGNE_CHARENTES_22_20190903_cle8f1178       vin                     1   \n",
      "                                                   vignes                  1   \n",
      "                                                   cultures                1   \n",
      "                                                   Vin                     1   \n",
      "BSV_NA_VIGNE_CHARENTES_19_20190806_cle88b155       cultures                1   \n",
      "                                                   baie                    1   \n",
      "                                                   Vin                     1   \n",
      "BSV_NA_VIGNE_CHARENTES_18_20190730_cle8d5827       baies                   1   \n",
      "BSV_NA_VIGNE_Haut-Poitou_15_20190806_cle4c661d     fleur                   1   \n",
      "BSV_NA_VIGNE_Limousin_02_20190409_cle81e534        Vin                     1   \n",
      "BSV_NA_VIGNE_CHARENTES_07_20190514_cle841735       vignes                  1   \n",
      "BSV_NA_VIGNE_Limousin_14_20190709_cle8d4f42        vigne                   1   \n",
      "BSV_NA_VIGNE_Nord_Aquitaine_04_20190416_cle876cf5  cultures                1   \n",
      "                                                   Gel                     1   \n",
      "BSV_NA_VIGNE_Limousin_17_20190730_cle835848        vigne                   1   \n",
      "                                                   soleil                  1   \n",
      "                                                   gel                     1   \n",
      "                                                   cultures                1   \n",
      "                                                   Vin                     1   \n",
      "                                                   Vignes                  1   \n",
      "BSV_NA_VIGNE_Limousin_14_20190709_cle8d4f42        soleil                  1   \n",
      "BSV_NA_VIGNE_Limousin_02_20190409_cle81e534        cultures                1   \n",
      "BSV_NA_VIGNE_Limousin_14_20190709_cle8d4f42        cultures                1   \n",
      "                                                   baie                    1   \n",
      "                                                   Vin                     1   \n",
      "BSV_NA_VIGNE_Limousin_07_20190522_cle81f925        cultures                1   \n",
      "                                                   Vin                     1   \n",
      "                                                   Gel                     1   \n",
      "BSV_NA_VIGNE_Limousin_02_20190409_cle81e534        vignes                  1   \n",
      "                                                   fleurs                  1   \n",
      "BSV_NA_VIGNE_CHARENTES_18_20190730_cle8d5827       Vin                     1   \n",
      "BSV_NA_VIGNE_CHARENTES_07_20190514_cle841735       rosiers                 1   \n",
      "BSV_NA_VIGNE_Nord_Aquitaine_07_20190507_cle8b2385  Gel                     1   \n",
      "BSV-viti-RA-03_16-04-2019_cle0bbc57                Olivier                 1   \n",
      "BSV-viti-RA-15_09-07-2019_cle01ba24                cultures                1   \n",
      "                                                   Vins                    1   \n",
      "                                                   Vigne                   1   \n",
      "                                                   Olivier                 1   \n",
      "BSV-viti-RA-03_16-04-2019_cle0bbc57                vigne                   1   \n",
      "                                                   cultures                1   \n",
      "                                                   Vins                    1   \n",
      "                                                   Vigne                   1   \n",
      "20190731_LOR_Viticulture-1_cle45ef1d               vigne                   1   \n",
      "BSV-viti-RA-16_16-07-2019_cle0bfb92                Baie                    1   \n",
      "20190731_LOR_Viticulture-1_cle45ef1d               fruits                  1   \n",
      "                                                   Vigne                   1   \n",
      "                                                   VIGNE                   1   \n",
      "20190710_LOR_BSV_Viticulture_cle8bd128             Vigne                   1   \n",
      "                                                   VIGNE                   1   \n",
      "20190619_LOR_BSV_Viticulture_cle8c2fdf             cultures                1   \n",
      "                                                   Vigne                   1   \n",
      "                                                   VIGNE                   1   \n",
      "BSV-viti-RA-15_09-07-2019_cle01ba24                vigne                   1   \n",
      "BSV-viti-RA-16_16-07-2019_cle0bfb92                Olivier                 1   \n",
      "BSV_NA_VIGNE_CHARENTES_07_20190514_cle841735       orange                  1   \n",
      "BSVViti_20190730_N22_cle019b19                     verger                  1   \n",
      "BSV_NA_VIGNE_CHARENTES_07_20190514_cle841735       cultures                1   \n",
      "                                                   Vin                     1   \n",
      "BSV_NA_VIGNE_CHARENTES_02_20190409_cle8ac81e       gel                     1   \n",
      "                                                   cultures                1   \n",
      "                                                   Vin                     1   \n",
      "                                                   Gel                     1   \n",
      "BSV_2019_n13_cle0f596d                             pois                    1   \n",
      "                                                   fleur                   1   \n",
      "BSVViti_20190730_N22_cle019b19                     fruits                  1   \n",
      "BSV-viti-RA-16_16-07-2019_cle0bfb92                Vigne                   1   \n",
      "BSVViti_20190730_N22_cle019b19                     baie                    1   \n",
      "BSVViti_20190618_N16_cle091811                     cultures                1   \n",
      "                                                   Baies                   1   \n",
      "BSVViti_20190409_N3_cle88a431                      gel                     1   \n",
      "                                                   Gel                     1   \n",
      "BSV-viti-RA-16_16-07-2019_cle0bfb92                fleur                   1   \n",
      "                                                   cultures                1   \n",
      "                                                   culture                 1   \n",
      "BSV_NA_VIGNE_Nord_Aquitaine_04_20190416_cle876cf5  gel                     1   \n",
      "BSV_NA_VIGNE_Nord_Aquitaine_07_20190507_cle8b2385  cultures                1   \n",
      "BSV_viti_16_du_16-09-19_cle87b836                  Vigne                   1   \n",
      "BSV_Viticulture_5_18_juillet_2019_cle8b576d        citron                  1   \n",
      "                                                   melons                  1   \n",
      "                                                   mangue                  1   \n",
      "                                                   laurier                 1   \n",
      "                                                   goyave                  1   \n",
      "                                                   fruits tropicale        1   \n",
      "                                                   fruitières              1   \n",
      "                                                   figue                   1   \n",
      "                                                   courges                 1   \n",
      "                                                   cerise                  1   \n",
      "                                                   poire                   1   \n",
      "                                                   banane                  1   \n",
      "                                                   ananas                  1   \n",
      "                                                   amandiers               1   \n",
      "                                                   abricot                 1   \n",
      "                                                   VITICULTURE             1   \n",
      "                                                   VIGNE                   1   \n",
      "                                                   Soleil                  1   \n",
      "BSV_Viticulture_2_17_mai_2019_cle8f88af            verger                  1   \n",
      "BSV_Viticulture_5_18_juillet_2019_cle8b576d        oliviers                1   \n",
      "                                                   poivrons                1   \n",
      "BSV_Viticulture_2_17_mai_2019_cle8f88af            tomate                  1   \n",
      "BSV_viti_12_du_02-07-19-1_cle05965f                Noyers                  1   \n",
      "BSV_viti_13_du_09-07-19_cle86811a                  soleil                  1   \n",
      "                                                   roses                   1   \n",
      "                                                   cultures                1   \n",
      "                                                   Vigne                   1   \n",
      "BSV_viti_12_du_02-07-19-1_cle05965f                soleil                  1   \n",
      "                                                   roses                   1   \n",
      "                                                   gel                     1   \n",
      "                                                   Vigne                   1   \n",
      "BSV_viti_01_du_16-04-19_cle878624                  cultures                1   \n",
      "BSV_Viticulture_5_18_juillet_2019_cle8b576d        raisins                 1   \n",
      "BSV_viti_01_du_16-04-19_cle878624                  Vigne                   1   \n",
      "                                                   VITICULTURE             1   \n",
      "                                                   POIRIER                 1   \n",
      "BSV_Viticulture_5_18_juillet_2019_cle8b576d        vignes                  1   \n",
      "                                                   verger                  1   \n",
      "                                                   tomates                 1   \n",
      "                                                   tomate                  1   \n",
      "                                                   rose                    1   \n",
      "BSV_Viticulture_2_17_mai_2019_cle8f88af            tomates                 1   \n",
      "                                                   rose                    1   \n",
      "BSV_NA_VIGNE_Nord_Aquitaine_17_20190716_cle8d5da5  Pois                    1   \n",
      "BSV_NA_VIGNE_Sud_Aquitaine_08_20190514_cle8e63bb   cultures                1   \n",
      "BSV_NA_VIGNE_Sud_Aquitaine_18_20190723_cle84e39a   vins                    1   \n",
      "                                                   raisin                  1   \n",
      "                                                   cultures                1   \n",
      "                                                   baie                    1   \n",
      "BSV_NA_VIGNE_Sud_Aquitaine_17_20190716_cle841a78   vins                    1   \n",
      "                                                   soleil                  1   \n",
      "                                                   cultures                1   \n",
      "BSV_NA_VIGNE_Sud_Aquitaine_08_20190514_cle8e63bb   vins                    1   \n",
      "BSV_NA_VIGNE_Sud_Aquitaine_02_20190401_01_cle4b... vins                    1   \n",
      "BSV_NA_VIGNE_Sud_Aquitaine_20_20190806_cle831e2b   cultures                1   \n",
      "BSV_NA_VIGNE_Sud_Aquitaine_02_20190401_01_cle4b... cultures                1   \n",
      "BSV_NA_VIGNE_Nord_Aquitaine_20_20190806_cle891ea2  raisin                  1   \n",
      "                                                   cultures                1   \n",
      "                                                   baie                    1   \n",
      "BSV_NA_VIGNE_Nord_Aquitaine_19_20190730_cle819684  raisin                  1   \n",
      "                                                   cultures                1   \n",
      "                                                   baie                    1   \n",
      "BSV_NA_VIGNE_Nord_Aquitaine_17_20190716_cle8d5da5  cultures                1   \n",
      "BSV_NA_VIGNE_Sud_Aquitaine_20_20190806_cle831e2b   baie                    1   \n",
      "                                                   raisin                  1   \n",
      "BSV_Viticulture_2_17_mai_2019_cle8f88af            poivrons                1   \n",
      "                                                   fleurs                  1   \n",
      "                                                   poire                   1   \n",
      "                                                   oliviers                1   \n",
      "                                                   melons                  1   \n",
      "                                                   mangue                  1   \n",
      "                                                   laurier                 1   \n",
      "                                                   goyave                  1   \n",
      "                                                   fruits tropicale        1   \n",
      "                                                   fruitières              1   \n",
      "                                                   figue                   1   \n",
      "                                                   VITICULTURE             1   \n",
      "                                                   courges                 1   \n",
      "                                                   citron                  1   \n",
      "                                                   cerise                  1   \n",
      "                                                   banane                  1   \n",
      "                                                   ananas                  1   \n",
      "                                                   amandiers               1   \n",
      "                                                   agrumes                 1   \n",
      "                                                   abricot                 1   \n",
      "bsv_viti_mp_gaillac_n18_30072019_cle0fe8aa         zones non agricoles     1   \n",
      "\n",
      "                                                                       unique  \\\n",
      "bsv                                                word                         \n",
      "BSV-viti-RA-15_09-07-2019_cle01ba24                baies                    1   \n",
      "BSV-viti-RA-16_16-07-2019_cle0bfb92                baies                    1   \n",
      "BSV-viti-RA-15_09-07-2019_cle01ba24                Viticulture              1   \n",
      "                                                   pois                     1   \n",
      "BSV-viti-RA-16_16-07-2019_cle0bfb92                Viticulture              1   \n",
      "bsv_viti_lr_n17_30072019_cle8cc4c8                 Viticulture              1   \n",
      "BSV_NA_VIGNE_CHARENTES_07_20190514_cle841735       Vigne                    1   \n",
      "BSV_NA_VIGNE_Limousin_17_20190730_cle835848        Vigne                    1   \n",
      "BSV_NA_VIGNE_Haut-Poitou_13_20190709_cle44ed93     baies                    1   \n",
      "BSV-viti-RA-03_16-04-2019_cle0bbc57                Viticulture              1   \n",
      "BSV_NA_VIGNE_Nord_Aquitaine_19_20190730_cle819684  baies                    1   \n",
      "BSV_NA_VIGNE_Nord_Aquitaine_07_20190507_cle8b2385  vigne                    1   \n",
      "BSV_NA_VIGNE_Nord_Aquitaine_19_20190730_cle819684  Vigne                    1   \n",
      "BSV_NA_VIGNE_Nord_Aquitaine_17_20190716_cle8d5da5  Vigne                    1   \n",
      "BSV_NA_VIGNE_Nord_Aquitaine_20_20190806_cle891ea2  Vigne                    1   \n",
      "bsv_viti_mp_cahors_n17_30072019_cle434e53          semences                 1   \n",
      "bsv_viti_mp_gaillac_n18_30072019_cle0fe8aa         cultures                 1   \n",
      "bsv_viti_mp_cahors_n17_30072019_cle434e53          cultures                 1   \n",
      "bsv_viti_mp_gaillac_n18_30072019_cle0fe8aa         semences                 1   \n",
      "BSV_NA_VIGNE_Sud_Aquitaine_02_20190401_01_cle4b... vigne                    1   \n",
      "bsv_viti_mp_fronton_tarnetgaronne_n18_30072019_... semences                 1   \n",
      "                                                   cultures                 1   \n",
      "bsv_viti_lr_n03_16042019_cle82d51a                 Viticulture              1   \n",
      "BSV_NA_VIGNE_Sud_Aquitaine_08_20190514_cle8e63bb   vigne                    1   \n",
      "BSV-viti-RA-16_16-07-2019_cle0bfb92                pois                     1   \n",
      "BSV_viti_01_du_16-04-19_cle878624                  vigne                    1   \n",
      "BSV_NA_VIGNE_CHARENTES_07_20190514_cle841735       vigne                    1   \n",
      "bsv_viti_mp_fronton_tarnetgaronne_n18_30072019_... Viticulture              1   \n",
      "BSV_viti_12_du_02-07-19-1_cle05965f                Viticulture              1   \n",
      "bsv_viti_mp_fronton_tarnetgaronne_n13_25062019_... Viticulture              1   \n",
      "BSV_viti_13_du_09-07-19_cle86811a                  Viticulture              1   \n",
      "bsv_viti_mp_gaillac_n02_09042019_cle0bbe75         Viticulture              1   \n",
      "BSV_NA_VIGNE_Limousin_07_20190522_cle81f925        Vigne                    1   \n",
      "bsv_viti_mp_cahors_n17_30072019_cle434e53          Viticulture              1   \n",
      "BSV_NA_VIGNE_Haut-Poitou_13_20190709_cle44ed93     pois                     1   \n",
      "BSV_NA_VIGNE_Nord_Aquitaine_07_20190507_cle8b2385  Vigne                    1   \n",
      "BSV_NA_VIGNE_Nord_Aquitaine_04_20190416_cle876cf5  Vigne                    1   \n",
      "BSV_NA_VIGNE_Haut-Poitou_15_20190806_cle4c661d     baies                    1   \n",
      "BSV_viti_01_du_16-04-19_cle878624                  Viticulture              1   \n",
      "bsv_viti_mp_gaillac_n18_30072019_cle0fe8aa         Viticulture              1   \n",
      "bsv_raisin_n12_18062019_cle8578dc                  Raisin de table          1   \n",
      "BSV_viti_12_du_02-07-19-1_cle05965f                pois                     1   \n",
      "BSV_Viticulture_2_17_mai_2019_cle8f88af            Viticulture              1   \n",
      "BSV_NA_VIGNE_Limousin_14_20190709_cle8d4f42        Vigne                    1   \n",
      "BSV_NA_VIGNE_CHARENTES_02_20190409_cle8ac81e       vigne                    1   \n",
      "bsv_viti_mp_gaillac_n13_25062019_cle0e5f7f         Viticulture              1   \n",
      "BSVViti_20190618_N16_cle091811                     baies                    1   \n",
      "20190731_LOR_Viticulture-1_cle45ef1d               FRUIT                    1   \n",
      "BSV_Viticulture_5_18_juillet_2019_cle8b576d        vigne                    1   \n",
      "BSV_viti_13_du_09-07-19_cle86811a                  viticulture              1   \n",
      "bsv_viti_mp_cahors_n12_25062019_cle4cf277          Viticulture              1   \n",
      "bsv_raisin_n15_16072019_cle8c8617                  Raisin de table          1   \n",
      "BSV_NA_VIGNE_Sud_Aquitaine_08_20190514_cle8e63bb   Vigne                    1   \n",
      "BSV_viti_12_du_02-07-19-1_cle05965f                viticulture              1   \n",
      "BSV_NA_VIGNE_CHARENTES_02_20190409_cle8ac81e       baies                    1   \n",
      "BSV_NA_VIGNE_Nord_Aquitaine_04_20190416_cle876cf5  vigne                    1   \n",
      "BSV_NA_VIGNE_Sud_Aquitaine_02_20190401_01_cle4b... Vigne                    1   \n",
      "BSV_NA_VIGNE_Sud_Aquitaine_18_20190723_cle84e39a   Vigne                    1   \n",
      "                                                   vigne                    1   \n",
      "BSV_NA_VIGNE_Sud_Aquitaine_17_20190716_cle841a78   Vigne                    1   \n",
      "BSV_NA_VIGNE_Sud_Aquitaine_20_20190806_cle831e2b   Vigne                    1   \n",
      "BSV_NA_VIGNE_Sud_Aquitaine_18_20190723_cle84e39a   baies                    1   \n",
      "bsv_viti_lr_n17_30072019_cle8cc4c8                 vigne                    1   \n",
      "BSV_viti_16_du_16-09-19_cle87b836                  Viticulture              1   \n",
      "BSV_NA_VIGNE_Sud_Aquitaine_20_20190806_cle831e2b   baies                    1   \n",
      "bsv_raisin_n12_18062019_cle8578dc                  cultures                 1   \n",
      "bsv_raisin_n07_14052019_cle85bd4c                  Raisin de table          1   \n",
      "bsv_viti_mp_gaillac_n18_30072019_cle0fe8aa         culture                  1   \n",
      "BSV_viti_12_du_02-07-19-1_cle05965f                vigne                    1   \n",
      "BSV-viti-RA-03_16-04-2019_cle0bbc57                Gel                      1   \n",
      "bsv_viti_mp_cahors_n17_30072019_cle434e53          culture                  1   \n",
      "bsv_viti_mp_fronton_tarnetgaronne_n18_30072019_... culture                  1   \n",
      "BSV-viti-RA-03_16-04-2019_cle0bbc57                vignes                   1   \n",
      "bsv_vigne_n17_gascogne_24072018_cle4238ae          VITICULTURE              1   \n",
      "BSV_NA_VIGNE_Nord_Aquitaine_20_20190806_cle891ea2  baies                    1   \n",
      "BSV_Viticulture_5_18_juillet_2019_cle8b576d        Viticulture              1   \n",
      "20190619_LOR_BSV_Viticulture_cle8c2fdf             FRUIT                    1   \n",
      "BSV_NA_VIGNE_Limousin_14_20190709_cle8d4f42        baies                    1   \n",
      "bsv_viti_lr_n17_30072019_cle8cc4c8                 cultures                 1   \n",
      "BSV_NA_VIGNE_CHARENTES_22_20190903_cle8f1178       Vigne                    1   \n",
      "BSV_NA_VIGNE_Nord_Aquitaine_19_20190730_cle819684  vignes                   1   \n",
      "BSV_NA_VIGNE_CHARENTES_18_20190730_cle8d5827       Vigne                    1   \n",
      "BSV_NA_VIGNE_CHARENTES_02_20190409_cle8ac81e       Vigne                    1   \n",
      "BSV_NA_VIGNE_Nord_Aquitaine_17_20190716_cle8d5da5  baies                    1   \n",
      "BSV_2019_n18_cle02fbf1                             baies                    1   \n",
      "BSV_NA_VIGNE_CHARENTES_19_20190806_cle88b155       Vigne                    1   \n",
      "BSV_NA_VIGNE_Haut-Poitou_03_20190430_cle4165b7     vigne                    1   \n",
      "BSV_2019_n16_cle04a239                             baies                    1   \n",
      "bsv_viti_mp_gaillac_n02_09042019_cle0bbe75         vigne                    1   \n",
      "BSV_NA_VIGNE_Haut-Poitou_15_20190806_cle4c661d     vigne                    1   \n",
      "BSV_viti_13_du_09-07-19_cle86811a                  vigne                    1   \n",
      "20190710_LOR_BSV_Viticulture_cle8bd128             Baies                    1   \n",
      "                                                   FRUIT                    1   \n",
      "BSV_NA_VIGNE_Limousin_02_20190409_cle81e534        vigne                    1   \n",
      "BSV-viti-RA-03_16-04-2019_cle0bbc57                gel                      1   \n",
      "BSV_NA_VIGNE_Limousin_07_20190522_cle81f925        vigne                    1   \n",
      "BSV_NA_VIGNE_Haut-Poitou_13_20190709_cle44ed93     vigne                    1   \n",
      "BSV_Viticulture_5_18_juillet_2019_cle8b576d        cultures                 1   \n",
      "bsv_viti_mp_cahors_n19_20082019_cle4e16b4          Viticulture              1   \n",
      "bsv_viti_17_25_07_2019_cle0a86e1                   baies                    1   \n",
      "BSV_NA_VIGNE_CHARENTES_19_20190806_cle88b155       baies                    1   \n",
      "BSV_NA_VIGNE_Sud_Aquitaine_20_20190806_cle831e2b   vigne                    1   \n",
      "BSVViti_20190618_N16_cle091811                     fleurs                   1   \n",
      "BSV_NA_VIGNE_Limousin_14_20190709_cle8d4f42        vignes                   1   \n",
      "BSV_NA_VIGNE_Haut-Poitou_03_20190430_cle4165b7     baies                    1   \n",
      "bsv_viti_lr_n06_06052019-1_cle4a8957-1             Noix                     1   \n",
      "bsv_viti_lr_n17_30072019_cle8cc4c8                 baies                    1   \n",
      "BSV_NA_VIGNE_Nord_Aquitaine_04_20190416_cle876cf5  baies                    1   \n",
      "BSV_NA_VIGNE_Limousin_07_20190522_cle81f925        vignes                   1   \n",
      "BSV_NA_VIGNE_Limousin_14_20190709_cle8d4f42        pois                     1   \n",
      "BSV_NA_VIGNE_Nord_Aquitaine_07_20190507_cle8b2385  baies                    1   \n",
      "BSV_NA_VIGNE_Sud_Aquitaine_17_20190716_cle841a78   vigne                    1   \n",
      "BSV_NA_VIGNE_Nord_Aquitaine_07_20190507_cle8b2385  gel                      1   \n",
      "BSV_NA_VIGNE_Nord_Aquitaine_17_20190716_cle8d5da5  vignes                   1   \n",
      "BSV_viti_13_du_09-07-19_cle86811a                  vignes                   1   \n",
      "                                                   pois                     1   \n",
      "                                                   baies                    1   \n",
      "                                                   Noyers                   1   \n",
      "BSV_viti_12_du_02-07-19-1_cle05965f                vignes                   1   \n",
      "                                                   baies                    1   \n",
      "BSV_viti_01_du_16-04-19_cle878624                  viticulture              1   \n",
      "bsv_raisin_n15_16072019_cle8c8617                  baies                    1   \n",
      "BSV_Viticulture_5_18_juillet_2019_cle8b576d        fruit                    1   \n",
      "bsv_vigne_n17_gascogne_24072018_cle4238ae          vignes                   1   \n",
      "bsv_vigne_n21_gascogne_11092018_cle4c45ec          VITICULTURE              1   \n",
      "BSV_Viticulture_5_18_juillet_2019_cle8b576d        baies                    1   \n",
      "                                                   agrumes                  1   \n",
      "BSV_Viticulture_2_17_mai_2019_cle8f88af            vigne                    1   \n",
      "                                                   fruit                    1   \n",
      "bsv_viti_3_18_04_2019_cle43e1c9                    Melon                    1   \n",
      "BSV_NA_VIGNE_Sud_Aquitaine_20_20190806_cle831e2b   soleil                   1   \n",
      "BSV_NA_VIGNE_Sud_Aquitaine_18_20190723_cle84e39a   vignes                   1   \n",
      "                                                   soleil                   1   \n",
      "BSV_NA_VIGNE_Sud_Aquitaine_17_20190716_cle841a78   vignes                   1   \n",
      "                                                   baies                    1   \n",
      "BSV_NA_VIGNE_Sud_Aquitaine_08_20190514_cle8e63bb   baies                    1   \n",
      "BSV_NA_VIGNE_Sud_Aquitaine_02_20190401_01_cle4b... baies                    1   \n",
      "BSV_NA_VIGNE_Nord_Aquitaine_20_20190806_cle891ea2  vignes                   1   \n",
      "                                                   vigne                    1   \n",
      "                                                   soleil                   1   \n",
      "BSV_NA_VIGNE_Nord_Aquitaine_19_20190730_cle819684  soleil                   1   \n",
      "BSV_NA_VIGNE_Limousin_02_20190409_cle81e534        baies                    1   \n",
      "BSV_NA_VIGNE_Limousin_17_20190730_cle835848        vignes                   1   \n",
      "BSV_NA_VIGNE_Limousin_02_20190409_cle81e534        Vigne                    1   \n",
      "BSV_NA_VIGNE_Haut-Poitou_13_20190709_cle44ed93     Vigne                    1   \n",
      "bsv_viti_mp_fronton_tarnetgaronne_n18_30072019_... vigne                    1   \n",
      "BSV_2019_n13_cle0f596d                             FRUIT                    1   \n",
      "bsv_viti_mp_fronton_tarnetgaronne_n18_30072019_... tournesol                1   \n",
      "BSV_2019_n16_cle04a239                             vigne                    1   \n",
      "BSV_2019_n18_cle02fbf1                             Vigne                    1   \n",
      "bsv_viti_mp_gaillac_n02_09042019_cle0bbe75         baies                    1   \n",
      "bsv_viti_mp_fronton_tarnetgaronne_n13_25062019_... pois                     1   \n",
      "bsv_viti_mp_gaillac_n02_09042019_cle0bbe75         viticulture              1   \n",
      "bsv_viti_mp_fronton_tarnetgaronne_n04_24042019_... Viticulture              1   \n",
      "BSV_NA_VIGNE_Haut-Poitou_03_20190430_cle4165b7     Vigne                    1   \n",
      "bsv_viti_mp_cahors_n19_20082019_cle4e16b4          vignes                   1   \n",
      "BSV_NA_VIGNE_Haut-Poitou_03_20190430_cle4165b7     gel                      1   \n",
      "bsv_viti_mp_cahors_n19_20082019_cle4e16b4          vigne                    1   \n",
      "BSVViti_20190730_N22_cle019b19                     vigne                    1   \n",
      "bsv_viti_mp_cahors_n17_30072019_cle434e53          vigne                    1   \n",
      "bsv_viti_mp_gaillac_n18_30072019_cle0fe8aa         tournesol                1   \n",
      "20190710_LOR_BSV_Viticulture_cle8bd128             baies                    1   \n",
      "bsv_viti_mp_gaillac_n18_30072019_cle0fe8aa         vigne                    1   \n",
      "BSV_NA_VIGNE_Haut-Poitou_15_20190806_cle4c661d     Vigne                    1   \n",
      "bsv_viti_mp_cahors_n17_30072019_cle434e53          tournesol                1   \n",
      "bsv_viti_17_25_07_2019_cle0a86e1                   vignes                   1   \n",
      "                                                   soleil                   1   \n",
      "BSV_Viticulture_2_17_mai_2019_cle8f88af            cultures                 1   \n",
      "20190731_LOR_Viticulture-1_cle45ef1d               soleil                   1   \n",
      "BSV-viti-RA-16_16-07-2019_cle0bfb92                viticulture              1   \n",
      "BSVViti_20190409_N3_cle88a431                      Vigne                    1   \n",
      "BSV-viti-RA-16_16-07-2019_cle0bfb92                vignes                   1   \n",
      "bsv_viti_14_04_07_2019-1_cle888dd3                 pois                     1   \n",
      "                                                   cultures                 1   \n",
      "                                                   baies                    1   \n",
      "                                                   vignes                   1   \n",
      "BSVViti_20190409_N3_cle88a431                      Viticulture              1   \n",
      "bsv_viti_3_18_04_2019_cle43e1c9                    gel                      1   \n",
      "bsv_viti_13_27_06_2019_cle07f426                   vigne                    1   \n",
      "BSV_NA_VIGNE_Sud_Aquitaine_20_20190806_cle831e2b   vins                     1   \n",
      "BSVViti_20190409_N3_cle88a431                      vigne                    1   \n",
      "BSVViti_20190618_N16_cle091811                     Vigne                    1   \n",
      "                                                   Viticulture              1   \n",
      "                                                   vigne                    1   \n",
      "BSVViti_20190730_N22_cle019b19                     Vigne                    1   \n",
      "                                                   Viticulture              1   \n",
      "                                                   baies                    1   \n",
      "BSV_viti_16_du_16-09-19_cle87b836                  VITICULTURE              1   \n",
      "                                                   vigne                    1   \n",
      "bsv_viti_14_04_07_2019-1_cle888dd3                 Melon                    1   \n",
      "bsv_viti_13_27_06_2019_cle07f426                   baies                    1   \n",
      "BSV-viti-RA-16_16-07-2019_cle0bfb92                vigne                    1   \n",
      "20190710_LOR_BSV_Viticulture_cle8bd128             pois                     1   \n",
      "20190731_LOR_Viticulture-1_cle45ef1d               baies                    1   \n",
      "bsv_raisin_n07_14052019_cle85bd4c                  vigne                    1   \n",
      "BSV_viti_12_du_02-07-19-1_cle05965f                cultures                 1   \n",
      "BSV_viti_13_du_09-07-19_cle86811a                  VITICULTURE              1   \n",
      "BSV_viti_12_du_02-07-19-1_cle05965f                VITICULTURE              1   \n",
      "BSV-viti-RA-03_16-04-2019_cle0bbc57                viticulture              1   \n",
      "BSV_viti_01_du_16-04-19_cle878624                  vignes                   1   \n",
      "                                                   gel                      1   \n",
      "bsv_raisin_n12_18062019_cle8578dc                  fleurs                   1   \n",
      "BSV-viti-RA-15_09-07-2019_cle01ba24                baie                     1   \n",
      "bsv_raisin_n12_18062019_cle8578dc                  pois                     1   \n",
      "BSV-viti-RA-15_09-07-2019_cle01ba24                soleil                   1   \n",
      "bsv_raisin_n15_16072019_cle8c8617                  vigne                    1   \n",
      "bsv_viti_mp_gaillac_n18_30072019_cle0fe8aa         baies                    1   \n",
      "BSV-viti-RA-15_09-07-2019_cle01ba24                vignes                   1   \n",
      "bsv_vigne_n17_gascogne_24072018_cle4238ae          Viticulture              1   \n",
      "                                                   baies                    1   \n",
      "BSV_Viticulture_5_18_juillet_2019_cle8b576d        fruits                   1   \n",
      "BSVViti_20190820_N23_cle0c5111                     Vigne                    1   \n",
      "20190619_LOR_BSV_Viticulture_cle8c2fdf             vigne                    1   \n",
      "bsv_viti_mp_gaillac_n02_09042019_cle0bbe75         vignes                   1   \n",
      "BSV-viti-RA-16_16-07-2019_cle0bfb92                Vins                     1   \n",
      "bsv_viti_mp_gaillac_n02_09042019_cle0bbe75         gel                      1   \n",
      "bsv_vigne_n21_gascogne_11092018_cle4c45ec          Viticulture              1   \n",
      "bsv_viti_13_27_06_2019_cle07f426                   Melon                    1   \n",
      "BSV_viti_16_du_16-09-19_cle87b836                  viticulture              1   \n",
      "BSV-viti-RA-15_09-07-2019_cle01ba24                viticulture              1   \n",
      "BSV_NA_VIGNE_Sud_Aquitaine_20_20190806_cle831e2b   vignes                   1   \n",
      "BSVViti_20190820_N23_cle0c5111                     Viticulture              1   \n",
      "bsv_viti_lr_n06_06052019-1_cle4a8957-1             fruits                   1   \n",
      "BSV_NA_VIGNE_Limousin_02_20190409_cle81e534        gel                      1   \n",
      "BSV_NA_VIGNE_Limousin_07_20190522_cle81f925        gel                      1   \n",
      "BSV_NA_VIGNE_CHARENTES_18_20190730_cle8d5827       vigne                    1   \n",
      "                                                   cultures                 1   \n",
      "BSV_NA_VIGNE_Nord_Aquitaine_17_20190716_cle8d5da5  soleil                   1   \n",
      "                                                   vigne                    1   \n",
      "bsv_viti_mp_fronton_tarnetgaronne_n18_30072019_... baies                    1   \n",
      "bsv_viti_lr_n06_06052019-1_cle4a8957-1             verger                   1   \n",
      "BSV_NA_VIGNE_Nord_Aquitaine_19_20190730_cle819684  vigne                    1   \n",
      "BSV_2019_n18_cle02fbf1                             vigne                    1   \n",
      "                                                   FRUIT                    1   \n",
      "BSV_2019_n16_cle04a239                             Vigne                    1   \n",
      "                                                   FRUIT                    1   \n",
      "BSV_2019_n13_cle0f596d                             vigne                    1   \n",
      "BSV_NA_VIGNE_Nord_Aquitaine_07_20190507_cle8b2385  vignes                   1   \n",
      "BSV_Viticulture_2_17_mai_2019_cle8f88af            fruits                   1   \n",
      "bsv_viti_lr_n06_06052019-1_cle4a8957-1             fleurs                   1   \n",
      "BSV_2019_n13_cle0f596d                             soleil                   1   \n",
      "BSV_NA_VIGNE_Sud_Aquitaine_08_20190514_cle8e63bb   vignes                   1   \n",
      "BSV_2019_n13_cle0f596d                             Vigne                    1   \n",
      "bsv_viti_mp_gaillac_n13_25062019_cle0e5f7f         Vins                     1   \n",
      "                                                   pois                     1   \n",
      "bsv_viti_mp_cahors_n12_25062019_cle4cf277          cultures                 1   \n",
      "bsv_viti_mp_gaillac_n13_25062019_cle0e5f7f         cultures                 1   \n",
      "bsv_viti_mp_cahors_n19_20082019_cle4e16b4          vins                     1   \n",
      "bsv_viti_mp_cahors_n12_25062019_cle4cf277          Vigne                    1   \n",
      "bsv_viti_lr_n17_30072019_cle8cc4c8                 viticulture              1   \n",
      "bsv_raisin_n12_18062019_cle8578dc                  orangé                   1   \n",
      "BSV_viti_16_du_16-09-19_cle87b836                  raisin                   1   \n",
      "bsv_raisin_n12_18062019_cle8578dc                  raisin de table          1   \n",
      "                                                   vergers                  1   \n",
      "bsv_viti_mp_cahors_n19_20082019_cle4e16b4          viticulture              1   \n",
      "bsv_raisin_n12_18062019_cle8578dc                  vigne                    1   \n",
      "bsv_viti_mp_cahors_n12_25062019_cle4cf277          pois                     1   \n",
      "bsv_raisin_n15_16072019_cle8c8617                  baie                     1   \n",
      "bsv_viti_mp_gaillac_n13_25062019_cle0e5f7f         Vigne                    1   \n",
      "bsv_raisin_n15_16072019_cle8c8617                  cultures                 1   \n",
      "                                                   pois                     1   \n",
      "                                                   raisin de table          1   \n",
      "bsv_viti_mp_fronton_tarnetgaronne_n04_24042019_... Vigne                    1   \n",
      "bsv_viti_lr_n17_30072019_cle8cc4c8                 vergers                  1   \n",
      "bsv_vigne_n17_gascogne_24072018_cle4238ae          Vigne                    1   \n",
      "bsv_viti_lr_n17_30072019_cle8cc4c8                 fleurs                   1   \n",
      "bsv_viti_mp_cahors_n12_25062019_cle4cf277          gel                      1   \n",
      "bsv_viti_mp_gaillac_n13_25062019_cle0e5f7f         vigne                    1   \n",
      "bsv_raisin_n12_18062019_cle8578dc                  baies                    1   \n",
      "bsv_viti_mp_fronton_tarnetgaronne_n04_24042019_... cultures                 1   \n",
      "bsv_viti_mp_cahors_n17_30072019_cle434e53          pailles                  1   \n",
      "bsv_viti_mp_gaillac_n18_30072019_cle0fe8aa         viticulture              1   \n",
      "bsv_viti_mp_cahors_n17_30072019_cle434e53          paille                   1   \n",
      "                                                   vins                     1   \n",
      "                                                   viticulture              1   \n",
      "                                                   baies                    1   \n",
      "bsv_viti_mp_gaillac_n18_30072019_cle0fe8aa         pailles                  1   \n",
      "bsv_raisin_n07_14052019_cle85bd4c                  cultures                 1   \n",
      "bsv_viti_mp_cahors_n17_30072019_cle434e53          zones non agricoles      1   \n",
      "bsv_raisin_n07_14052019_cle85bd4c                  raisin de table          1   \n",
      "bsv_viti_mp_cahors_n19_20082019_cle4e16b4          baies                    1   \n",
      "bsv_viti_mp_gaillac_n18_30072019_cle0fe8aa         paille                   1   \n",
      "bsv_viti_mp_cahors_n19_20082019_cle4e16b4          cultures                 1   \n",
      "bsv_viti_mp_cahors_n17_30072019_cle434e53          Vigne                    1   \n",
      "bsv_viti_mp_cahors_n12_25062019_cle4cf277          viticulture              1   \n",
      "                                                   vins                     1   \n",
      "bsv_viti_mp_gaillac_n18_30072019_cle0fe8aa         Vins                     1   \n",
      "                                                   Vigne                    1   \n",
      "bsv_raisin_n12_18062019_cle8578dc                  arbres fruitiers         1   \n",
      "bsv_viti_mp_cahors_n12_25062019_cle4cf277          vigne                    1   \n",
      "bsv_viti_mp_gaillac_n13_25062019_cle0e5f7f         viticulture              1   \n",
      "bsv_vigne_n17_gascogne_24072018_cle4238ae          baie                     1   \n",
      "bsv_viti_lr_n03_16042019_cle82d51a                 gel                      1   \n",
      "                                                   cultures                 1   \n",
      "bsv_viti_lr_n06_06052019-1_cle4a8957-1             orangé                   1   \n",
      "bsv_viti_mp_fronton_tarnetgaronne_n18_30072019_... zones non agricoles      1   \n",
      "bsv_viti_14_04_07_2019-1_cle888dd3                 soleil                   1   \n",
      "                                                   vigne                    1   \n",
      "bsv_viti_lr_n06_06052019-1_cle4a8957-1             vergers                  1   \n",
      "bsv_viti_lr_n03_16042019_cle82d51a                 vignes                   1   \n",
      "bsv_viti_mp_fronton_tarnetgaronne_n18_30072019_... paille                   1   \n",
      "bsv_viti_17_25_07_2019_cle0a86e1                   Melon                    1   \n",
      "bsv_viti_lr_n03_16042019_cle82d51a                 vigne                    1   \n",
      "bsv_viti_mp_fronton_tarnetgaronne_n18_30072019_... pailles                  1   \n",
      "bsv_viti_17_25_07_2019_cle0a86e1                   cultures                 1   \n",
      "bsv_viti_lr_n06_06052019-1_cle4a8957-1             noyers                   1   \n",
      "bsv_viti_mp_fronton_tarnetgaronne_n13_25062019_... viticulture              1   \n",
      "bsv_viti_3_18_04_2019_cle43e1c9                    cultures                 1   \n",
      "bsv_viti_lr_n06_06052019-1_cle4a8957-1             noyer                    1   \n",
      "bsv_viti_3_18_04_2019_cle43e1c9                    vigne                    1   \n",
      "                                                   vignes                   1   \n",
      "bsv_viti_lr_n06_06052019-1_cle4a8957-1             fruitiers                1   \n",
      "bsv_viti_lr_n03_16042019_cle82d51a                 Gel                      1   \n",
      "bsv_viti_mp_cahors_n17_30072019_cle434e53          pois                     1   \n",
      "bsv_viti_lr_n03_16042019_cle82d51a                 oranges                  1   \n",
      "bsv_viti_mp_gaillac_n02_09042019_cle0bbe75         Vins                     1   \n",
      "                                                   Vigne                    1   \n",
      "bsv_viti_mp_fronton_tarnetgaronne_n18_30072019_... Vigne                    1   \n",
      "bsv_viti_mp_fronton_tarnetgaronne_n13_25062019_... vigne                    1   \n",
      "bsv_vigne_n17_gascogne_24072018_cle4238ae          cultures                 1   \n",
      "bsv_viti_mp_gaillac_n02_09042019_cle0bbe75         fleurs                   1   \n",
      "bsv_viti_mp_fronton_tarnetgaronne_n04_24042019_... viticulture              1   \n",
      "bsv_vigne_n17_gascogne_24072018_cle4238ae          soleil                   1   \n",
      "bsv_viti_mp_fronton_tarnetgaronne_n13_25062019_... Vigne                    1   \n",
      "bsv_vigne_n17_gascogne_24072018_cle4238ae          vigne                    1   \n",
      "bsv_viti_mp_fronton_tarnetgaronne_n18_30072019_... viticulture              1   \n",
      "bsv_vigne_n17_gascogne_24072018_cle4238ae          viticulture              1   \n",
      "bsv_viti_lr_n06_06052019-1_cle4a8957-1             Noisette                 1   \n",
      "                                                   cultures                 1   \n",
      "bsv_viti_lr_n17_30072019_cle8cc4c8                 baie                     1   \n",
      "bsv_vigne_n21_gascogne_11092018_cle4c45ec          cultures                 1   \n",
      "                                                   viticulture              1   \n",
      "bsv_viti_13_27_06_2019_cle07f426                   vignes                   1   \n",
      "bsv_viti_mp_gaillac_n02_09042019_cle0bbe75         cultures                 1   \n",
      "bsv_viti_mp_fronton_tarnetgaronne_n13_25062019_... cultures                 1   \n",
      "bsv_viti_lr_n17_30072019_cle8cc4c8                 arbres fruitiers         1   \n",
      "bsv_viti_13_27_06_2019_cle07f426                   cultures                 1   \n",
      "bsv_viti_lr_n06_06052019-1_cle4a8957-1             fruit                    1   \n",
      "bsv_viti_13_27_06_2019_cle07f426                   fleurs                   1   \n",
      "                                                   fruits                   1   \n",
      "                                                   gels                     1   \n",
      "                                                   pois                     1   \n",
      "bsv_viti_lr_n03_16042019_cle82d51a                 viticulture              1   \n",
      "bsv_viti_mp_fronton_tarnetgaronne_n04_24042019_... vigne                    1   \n",
      "20190619_LOR_BSV_Viticulture_cle8c2fdf             CULTURES                 1   \n",
      "BSV_viti_16_du_16-09-19_cle87b836                  cultures                 1   \n",
      "BSV_NA_VIGNE_Haut-Poitou_03_20190430_cle4165b7     Viticulture              1   \n",
      "BSV_NA_VIGNE_Haut-Poitou_15_20190806_cle4c661d     cultures                 1   \n",
      "                                                   Viticulture              1   \n",
      "                                                   Vin                      1   \n",
      "BSV_NA_VIGNE_Haut-Poitou_13_20190709_cle44ed93     cultures                 1   \n",
      "                                                   Viticulture              1   \n",
      "                                                   Vin                      1   \n",
      "BSV_NA_VIGNE_Haut-Poitou_03_20190430_cle4165b7     marron                   1   \n",
      "                                                   cultures                 1   \n",
      "                                                   Vin                      1   \n",
      "BSV_NA_VIGNE_Haut-Poitou_15_20190806_cle4c661d     fruits                   1   \n",
      "BSV_NA_VIGNE_CHARENTES_22_20190903_cle8f1178       vin                      1   \n",
      "                                                   vignes                   1   \n",
      "                                                   cultures                 1   \n",
      "                                                   Vin                      1   \n",
      "BSV_NA_VIGNE_CHARENTES_19_20190806_cle88b155       cultures                 1   \n",
      "                                                   baie                     1   \n",
      "                                                   Vin                      1   \n",
      "BSV_NA_VIGNE_CHARENTES_18_20190730_cle8d5827       baies                    1   \n",
      "BSV_NA_VIGNE_Haut-Poitou_15_20190806_cle4c661d     fleur                    1   \n",
      "BSV_NA_VIGNE_Limousin_02_20190409_cle81e534        Vin                      1   \n",
      "BSV_NA_VIGNE_CHARENTES_07_20190514_cle841735       vignes                   1   \n",
      "BSV_NA_VIGNE_Limousin_14_20190709_cle8d4f42        vigne                    1   \n",
      "BSV_NA_VIGNE_Nord_Aquitaine_04_20190416_cle876cf5  cultures                 1   \n",
      "                                                   Gel                      1   \n",
      "BSV_NA_VIGNE_Limousin_17_20190730_cle835848        vigne                    1   \n",
      "                                                   soleil                   1   \n",
      "                                                   gel                      1   \n",
      "                                                   cultures                 1   \n",
      "                                                   Vin                      1   \n",
      "                                                   Vignes                   1   \n",
      "BSV_NA_VIGNE_Limousin_14_20190709_cle8d4f42        soleil                   1   \n",
      "BSV_NA_VIGNE_Limousin_02_20190409_cle81e534        cultures                 1   \n",
      "BSV_NA_VIGNE_Limousin_14_20190709_cle8d4f42        cultures                 1   \n",
      "                                                   baie                     1   \n",
      "                                                   Vin                      1   \n",
      "BSV_NA_VIGNE_Limousin_07_20190522_cle81f925        cultures                 1   \n",
      "                                                   Vin                      1   \n",
      "                                                   Gel                      1   \n",
      "BSV_NA_VIGNE_Limousin_02_20190409_cle81e534        vignes                   1   \n",
      "                                                   fleurs                   1   \n",
      "BSV_NA_VIGNE_CHARENTES_18_20190730_cle8d5827       Vin                      1   \n",
      "BSV_NA_VIGNE_CHARENTES_07_20190514_cle841735       rosiers                  1   \n",
      "BSV_NA_VIGNE_Nord_Aquitaine_07_20190507_cle8b2385  Gel                      1   \n",
      "BSV-viti-RA-03_16-04-2019_cle0bbc57                Olivier                  1   \n",
      "BSV-viti-RA-15_09-07-2019_cle01ba24                cultures                 1   \n",
      "                                                   Vins                     1   \n",
      "                                                   Vigne                    1   \n",
      "                                                   Olivier                  1   \n",
      "BSV-viti-RA-03_16-04-2019_cle0bbc57                vigne                    1   \n",
      "                                                   cultures                 1   \n",
      "                                                   Vins                     1   \n",
      "                                                   Vigne                    1   \n",
      "20190731_LOR_Viticulture-1_cle45ef1d               vigne                    1   \n",
      "BSV-viti-RA-16_16-07-2019_cle0bfb92                Baie                     1   \n",
      "20190731_LOR_Viticulture-1_cle45ef1d               fruits                   1   \n",
      "                                                   Vigne                    1   \n",
      "                                                   VIGNE                    1   \n",
      "20190710_LOR_BSV_Viticulture_cle8bd128             Vigne                    1   \n",
      "                                                   VIGNE                    1   \n",
      "20190619_LOR_BSV_Viticulture_cle8c2fdf             cultures                 1   \n",
      "                                                   Vigne                    1   \n",
      "                                                   VIGNE                    1   \n",
      "BSV-viti-RA-15_09-07-2019_cle01ba24                vigne                    1   \n",
      "BSV-viti-RA-16_16-07-2019_cle0bfb92                Olivier                  1   \n",
      "BSV_NA_VIGNE_CHARENTES_07_20190514_cle841735       orange                   1   \n",
      "BSVViti_20190730_N22_cle019b19                     verger                   1   \n",
      "BSV_NA_VIGNE_CHARENTES_07_20190514_cle841735       cultures                 1   \n",
      "                                                   Vin                      1   \n",
      "BSV_NA_VIGNE_CHARENTES_02_20190409_cle8ac81e       gel                      1   \n",
      "                                                   cultures                 1   \n",
      "                                                   Vin                      1   \n",
      "                                                   Gel                      1   \n",
      "BSV_2019_n13_cle0f596d                             pois                     1   \n",
      "                                                   fleur                    1   \n",
      "BSVViti_20190730_N22_cle019b19                     fruits                   1   \n",
      "BSV-viti-RA-16_16-07-2019_cle0bfb92                Vigne                    1   \n",
      "BSVViti_20190730_N22_cle019b19                     baie                     1   \n",
      "BSVViti_20190618_N16_cle091811                     cultures                 1   \n",
      "                                                   Baies                    1   \n",
      "BSVViti_20190409_N3_cle88a431                      gel                      1   \n",
      "                                                   Gel                      1   \n",
      "BSV-viti-RA-16_16-07-2019_cle0bfb92                fleur                    1   \n",
      "                                                   cultures                 1   \n",
      "                                                   culture                  1   \n",
      "BSV_NA_VIGNE_Nord_Aquitaine_04_20190416_cle876cf5  gel                      1   \n",
      "BSV_NA_VIGNE_Nord_Aquitaine_07_20190507_cle8b2385  cultures                 1   \n",
      "BSV_viti_16_du_16-09-19_cle87b836                  Vigne                    1   \n",
      "BSV_Viticulture_5_18_juillet_2019_cle8b576d        citron                   1   \n",
      "                                                   melons                   1   \n",
      "                                                   mangue                   1   \n",
      "                                                   laurier                  1   \n",
      "                                                   goyave                   1   \n",
      "                                                   fruits tropicale         1   \n",
      "                                                   fruitières               1   \n",
      "                                                   figue                    1   \n",
      "                                                   courges                  1   \n",
      "                                                   cerise                   1   \n",
      "                                                   poire                    1   \n",
      "                                                   banane                   1   \n",
      "                                                   ananas                   1   \n",
      "                                                   amandiers                1   \n",
      "                                                   abricot                  1   \n",
      "                                                   VITICULTURE              1   \n",
      "                                                   VIGNE                    1   \n",
      "                                                   Soleil                   1   \n",
      "BSV_Viticulture_2_17_mai_2019_cle8f88af            verger                   1   \n",
      "BSV_Viticulture_5_18_juillet_2019_cle8b576d        oliviers                 1   \n",
      "                                                   poivrons                 1   \n",
      "BSV_Viticulture_2_17_mai_2019_cle8f88af            tomate                   1   \n",
      "BSV_viti_12_du_02-07-19-1_cle05965f                Noyers                   1   \n",
      "BSV_viti_13_du_09-07-19_cle86811a                  soleil                   1   \n",
      "                                                   roses                    1   \n",
      "                                                   cultures                 1   \n",
      "                                                   Vigne                    1   \n",
      "BSV_viti_12_du_02-07-19-1_cle05965f                soleil                   1   \n",
      "                                                   roses                    1   \n",
      "                                                   gel                      1   \n",
      "                                                   Vigne                    1   \n",
      "BSV_viti_01_du_16-04-19_cle878624                  cultures                 1   \n",
      "BSV_Viticulture_5_18_juillet_2019_cle8b576d        raisins                  1   \n",
      "BSV_viti_01_du_16-04-19_cle878624                  Vigne                    1   \n",
      "                                                   VITICULTURE              1   \n",
      "                                                   POIRIER                  1   \n",
      "BSV_Viticulture_5_18_juillet_2019_cle8b576d        vignes                   1   \n",
      "                                                   verger                   1   \n",
      "                                                   tomates                  1   \n",
      "                                                   tomate                   1   \n",
      "                                                   rose                     1   \n",
      "BSV_Viticulture_2_17_mai_2019_cle8f88af            tomates                  1   \n",
      "                                                   rose                     1   \n",
      "BSV_NA_VIGNE_Nord_Aquitaine_17_20190716_cle8d5da5  Pois                     1   \n",
      "BSV_NA_VIGNE_Sud_Aquitaine_08_20190514_cle8e63bb   cultures                 1   \n",
      "BSV_NA_VIGNE_Sud_Aquitaine_18_20190723_cle84e39a   vins                     1   \n",
      "                                                   raisin                   1   \n",
      "                                                   cultures                 1   \n",
      "                                                   baie                     1   \n",
      "BSV_NA_VIGNE_Sud_Aquitaine_17_20190716_cle841a78   vins                     1   \n",
      "                                                   soleil                   1   \n",
      "                                                   cultures                 1   \n",
      "BSV_NA_VIGNE_Sud_Aquitaine_08_20190514_cle8e63bb   vins                     1   \n",
      "BSV_NA_VIGNE_Sud_Aquitaine_02_20190401_01_cle4b... vins                     1   \n",
      "BSV_NA_VIGNE_Sud_Aquitaine_20_20190806_cle831e2b   cultures                 1   \n",
      "BSV_NA_VIGNE_Sud_Aquitaine_02_20190401_01_cle4b... cultures                 1   \n",
      "BSV_NA_VIGNE_Nord_Aquitaine_20_20190806_cle891ea2  raisin                   1   \n",
      "                                                   cultures                 1   \n",
      "                                                   baie                     1   \n",
      "BSV_NA_VIGNE_Nord_Aquitaine_19_20190730_cle819684  raisin                   1   \n",
      "                                                   cultures                 1   \n",
      "                                                   baie                     1   \n",
      "BSV_NA_VIGNE_Nord_Aquitaine_17_20190716_cle8d5da5  cultures                 1   \n",
      "BSV_NA_VIGNE_Sud_Aquitaine_20_20190806_cle831e2b   baie                     1   \n",
      "                                                   raisin                   1   \n",
      "BSV_Viticulture_2_17_mai_2019_cle8f88af            poivrons                 1   \n",
      "                                                   fleurs                   1   \n",
      "                                                   poire                    1   \n",
      "                                                   oliviers                 1   \n",
      "                                                   melons                   1   \n",
      "                                                   mangue                   1   \n",
      "                                                   laurier                  1   \n",
      "                                                   goyave                   1   \n",
      "                                                   fruits tropicale         1   \n",
      "                                                   fruitières               1   \n",
      "                                                   figue                    1   \n",
      "                                                   VITICULTURE              1   \n",
      "                                                   courges                  1   \n",
      "                                                   citron                   1   \n",
      "                                                   cerise                   1   \n",
      "                                                   banane                   1   \n",
      "                                                   ananas                   1   \n",
      "                                                   amandiers                1   \n",
      "                                                   agrumes                  1   \n",
      "                                                   abricot                  1   \n",
      "bsv_viti_mp_gaillac_n18_30072019_cle0fe8aa         zones non agricoles      1   \n",
      "\n",
      "                                                                                        top  \\\n",
      "bsv                                                word                                       \n",
      "BSV-viti-RA-15_09-07-2019_cle01ba24                baies                              baies   \n",
      "BSV-viti-RA-16_16-07-2019_cle0bfb92                baies                              baies   \n",
      "BSV-viti-RA-15_09-07-2019_cle01ba24                Viticulture                  Viticulture   \n",
      "                                                   pois                                pois   \n",
      "BSV-viti-RA-16_16-07-2019_cle0bfb92                Viticulture                  Viticulture   \n",
      "bsv_viti_lr_n17_30072019_cle8cc4c8                 Viticulture                  Viticulture   \n",
      "BSV_NA_VIGNE_CHARENTES_07_20190514_cle841735       Vigne                              Vigne   \n",
      "BSV_NA_VIGNE_Limousin_17_20190730_cle835848        Vigne                              Vigne   \n",
      "BSV_NA_VIGNE_Haut-Poitou_13_20190709_cle44ed93     baies                              baies   \n",
      "BSV-viti-RA-03_16-04-2019_cle0bbc57                Viticulture                  Viticulture   \n",
      "BSV_NA_VIGNE_Nord_Aquitaine_19_20190730_cle819684  baies                              baies   \n",
      "BSV_NA_VIGNE_Nord_Aquitaine_07_20190507_cle8b2385  vigne                              vigne   \n",
      "BSV_NA_VIGNE_Nord_Aquitaine_19_20190730_cle819684  Vigne                              Vigne   \n",
      "BSV_NA_VIGNE_Nord_Aquitaine_17_20190716_cle8d5da5  Vigne                              Vigne   \n",
      "BSV_NA_VIGNE_Nord_Aquitaine_20_20190806_cle891ea2  Vigne                              Vigne   \n",
      "bsv_viti_mp_cahors_n17_30072019_cle434e53          semences                        semences   \n",
      "bsv_viti_mp_gaillac_n18_30072019_cle0fe8aa         cultures                        cultures   \n",
      "bsv_viti_mp_cahors_n17_30072019_cle434e53          cultures                        cultures   \n",
      "bsv_viti_mp_gaillac_n18_30072019_cle0fe8aa         semences                        semences   \n",
      "BSV_NA_VIGNE_Sud_Aquitaine_02_20190401_01_cle4b... vigne                              vigne   \n",
      "bsv_viti_mp_fronton_tarnetgaronne_n18_30072019_... semences                        semences   \n",
      "                                                   cultures                        cultures   \n",
      "bsv_viti_lr_n03_16042019_cle82d51a                 Viticulture                  Viticulture   \n",
      "BSV_NA_VIGNE_Sud_Aquitaine_08_20190514_cle8e63bb   vigne                              vigne   \n",
      "BSV-viti-RA-16_16-07-2019_cle0bfb92                pois                                pois   \n",
      "BSV_viti_01_du_16-04-19_cle878624                  vigne                              vigne   \n",
      "BSV_NA_VIGNE_CHARENTES_07_20190514_cle841735       vigne                              vigne   \n",
      "bsv_viti_mp_fronton_tarnetgaronne_n18_30072019_... Viticulture                  Viticulture   \n",
      "BSV_viti_12_du_02-07-19-1_cle05965f                Viticulture                  Viticulture   \n",
      "bsv_viti_mp_fronton_tarnetgaronne_n13_25062019_... Viticulture                  Viticulture   \n",
      "BSV_viti_13_du_09-07-19_cle86811a                  Viticulture                  Viticulture   \n",
      "bsv_viti_mp_gaillac_n02_09042019_cle0bbe75         Viticulture                  Viticulture   \n",
      "BSV_NA_VIGNE_Limousin_07_20190522_cle81f925        Vigne                              Vigne   \n",
      "bsv_viti_mp_cahors_n17_30072019_cle434e53          Viticulture                  Viticulture   \n",
      "BSV_NA_VIGNE_Haut-Poitou_13_20190709_cle44ed93     pois                                pois   \n",
      "BSV_NA_VIGNE_Nord_Aquitaine_07_20190507_cle8b2385  Vigne                              Vigne   \n",
      "BSV_NA_VIGNE_Nord_Aquitaine_04_20190416_cle876cf5  Vigne                              Vigne   \n",
      "BSV_NA_VIGNE_Haut-Poitou_15_20190806_cle4c661d     baies                              baies   \n",
      "BSV_viti_01_du_16-04-19_cle878624                  Viticulture                  Viticulture   \n",
      "bsv_viti_mp_gaillac_n18_30072019_cle0fe8aa         Viticulture                  Viticulture   \n",
      "bsv_raisin_n12_18062019_cle8578dc                  Raisin de table          Raisin de table   \n",
      "BSV_viti_12_du_02-07-19-1_cle05965f                pois                                pois   \n",
      "BSV_Viticulture_2_17_mai_2019_cle8f88af            Viticulture                  Viticulture   \n",
      "BSV_NA_VIGNE_Limousin_14_20190709_cle8d4f42        Vigne                              Vigne   \n",
      "BSV_NA_VIGNE_CHARENTES_02_20190409_cle8ac81e       vigne                              vigne   \n",
      "bsv_viti_mp_gaillac_n13_25062019_cle0e5f7f         Viticulture                  Viticulture   \n",
      "BSVViti_20190618_N16_cle091811                     baies                              baies   \n",
      "20190731_LOR_Viticulture-1_cle45ef1d               FRUIT                              FRUIT   \n",
      "BSV_Viticulture_5_18_juillet_2019_cle8b576d        vigne                              vigne   \n",
      "BSV_viti_13_du_09-07-19_cle86811a                  viticulture                  viticulture   \n",
      "bsv_viti_mp_cahors_n12_25062019_cle4cf277          Viticulture                  Viticulture   \n",
      "bsv_raisin_n15_16072019_cle8c8617                  Raisin de table          Raisin de table   \n",
      "BSV_NA_VIGNE_Sud_Aquitaine_08_20190514_cle8e63bb   Vigne                              Vigne   \n",
      "BSV_viti_12_du_02-07-19-1_cle05965f                viticulture                  viticulture   \n",
      "BSV_NA_VIGNE_CHARENTES_02_20190409_cle8ac81e       baies                              baies   \n",
      "BSV_NA_VIGNE_Nord_Aquitaine_04_20190416_cle876cf5  vigne                              vigne   \n",
      "BSV_NA_VIGNE_Sud_Aquitaine_02_20190401_01_cle4b... Vigne                              Vigne   \n",
      "BSV_NA_VIGNE_Sud_Aquitaine_18_20190723_cle84e39a   Vigne                              Vigne   \n",
      "                                                   vigne                              vigne   \n",
      "BSV_NA_VIGNE_Sud_Aquitaine_17_20190716_cle841a78   Vigne                              Vigne   \n",
      "BSV_NA_VIGNE_Sud_Aquitaine_20_20190806_cle831e2b   Vigne                              Vigne   \n",
      "BSV_NA_VIGNE_Sud_Aquitaine_18_20190723_cle84e39a   baies                              baies   \n",
      "bsv_viti_lr_n17_30072019_cle8cc4c8                 vigne                              vigne   \n",
      "BSV_viti_16_du_16-09-19_cle87b836                  Viticulture                  Viticulture   \n",
      "BSV_NA_VIGNE_Sud_Aquitaine_20_20190806_cle831e2b   baies                              baies   \n",
      "bsv_raisin_n12_18062019_cle8578dc                  cultures                        cultures   \n",
      "bsv_raisin_n07_14052019_cle85bd4c                  Raisin de table          Raisin de table   \n",
      "bsv_viti_mp_gaillac_n18_30072019_cle0fe8aa         culture                          culture   \n",
      "BSV_viti_12_du_02-07-19-1_cle05965f                vigne                              vigne   \n",
      "BSV-viti-RA-03_16-04-2019_cle0bbc57                Gel                                  Gel   \n",
      "bsv_viti_mp_cahors_n17_30072019_cle434e53          culture                          culture   \n",
      "bsv_viti_mp_fronton_tarnetgaronne_n18_30072019_... culture                          culture   \n",
      "BSV-viti-RA-03_16-04-2019_cle0bbc57                vignes                            vignes   \n",
      "bsv_vigne_n17_gascogne_24072018_cle4238ae          VITICULTURE                  VITICULTURE   \n",
      "BSV_NA_VIGNE_Nord_Aquitaine_20_20190806_cle891ea2  baies                              baies   \n",
      "BSV_Viticulture_5_18_juillet_2019_cle8b576d        Viticulture                  Viticulture   \n",
      "20190619_LOR_BSV_Viticulture_cle8c2fdf             FRUIT                              FRUIT   \n",
      "BSV_NA_VIGNE_Limousin_14_20190709_cle8d4f42        baies                              baies   \n",
      "bsv_viti_lr_n17_30072019_cle8cc4c8                 cultures                        cultures   \n",
      "BSV_NA_VIGNE_CHARENTES_22_20190903_cle8f1178       Vigne                              Vigne   \n",
      "BSV_NA_VIGNE_Nord_Aquitaine_19_20190730_cle819684  vignes                            vignes   \n",
      "BSV_NA_VIGNE_CHARENTES_18_20190730_cle8d5827       Vigne                              Vigne   \n",
      "BSV_NA_VIGNE_CHARENTES_02_20190409_cle8ac81e       Vigne                              Vigne   \n",
      "BSV_NA_VIGNE_Nord_Aquitaine_17_20190716_cle8d5da5  baies                              baies   \n",
      "BSV_2019_n18_cle02fbf1                             baies                              baies   \n",
      "BSV_NA_VIGNE_CHARENTES_19_20190806_cle88b155       Vigne                              Vigne   \n",
      "BSV_NA_VIGNE_Haut-Poitou_03_20190430_cle4165b7     vigne                              vigne   \n",
      "BSV_2019_n16_cle04a239                             baies                              baies   \n",
      "bsv_viti_mp_gaillac_n02_09042019_cle0bbe75         vigne                              vigne   \n",
      "BSV_NA_VIGNE_Haut-Poitou_15_20190806_cle4c661d     vigne                              vigne   \n",
      "BSV_viti_13_du_09-07-19_cle86811a                  vigne                              vigne   \n",
      "20190710_LOR_BSV_Viticulture_cle8bd128             Baies                              Baies   \n",
      "                                                   FRUIT                              FRUIT   \n",
      "BSV_NA_VIGNE_Limousin_02_20190409_cle81e534        vigne                              vigne   \n",
      "BSV-viti-RA-03_16-04-2019_cle0bbc57                gel                                  gel   \n",
      "BSV_NA_VIGNE_Limousin_07_20190522_cle81f925        vigne                              vigne   \n",
      "BSV_NA_VIGNE_Haut-Poitou_13_20190709_cle44ed93     vigne                              vigne   \n",
      "BSV_Viticulture_5_18_juillet_2019_cle8b576d        cultures                        cultures   \n",
      "bsv_viti_mp_cahors_n19_20082019_cle4e16b4          Viticulture                  Viticulture   \n",
      "bsv_viti_17_25_07_2019_cle0a86e1                   baies                              baies   \n",
      "BSV_NA_VIGNE_CHARENTES_19_20190806_cle88b155       baies                              baies   \n",
      "BSV_NA_VIGNE_Sud_Aquitaine_20_20190806_cle831e2b   vigne                              vigne   \n",
      "BSVViti_20190618_N16_cle091811                     fleurs                            fleurs   \n",
      "BSV_NA_VIGNE_Limousin_14_20190709_cle8d4f42        vignes                            vignes   \n",
      "BSV_NA_VIGNE_Haut-Poitou_03_20190430_cle4165b7     baies                              baies   \n",
      "bsv_viti_lr_n06_06052019-1_cle4a8957-1             Noix                                Noix   \n",
      "bsv_viti_lr_n17_30072019_cle8cc4c8                 baies                              baies   \n",
      "BSV_NA_VIGNE_Nord_Aquitaine_04_20190416_cle876cf5  baies                              baies   \n",
      "BSV_NA_VIGNE_Limousin_07_20190522_cle81f925        vignes                            vignes   \n",
      "BSV_NA_VIGNE_Limousin_14_20190709_cle8d4f42        pois                                pois   \n",
      "BSV_NA_VIGNE_Nord_Aquitaine_07_20190507_cle8b2385  baies                              baies   \n",
      "BSV_NA_VIGNE_Sud_Aquitaine_17_20190716_cle841a78   vigne                              vigne   \n",
      "BSV_NA_VIGNE_Nord_Aquitaine_07_20190507_cle8b2385  gel                                  gel   \n",
      "BSV_NA_VIGNE_Nord_Aquitaine_17_20190716_cle8d5da5  vignes                            vignes   \n",
      "BSV_viti_13_du_09-07-19_cle86811a                  vignes                            vignes   \n",
      "                                                   pois                                pois   \n",
      "                                                   baies                              baies   \n",
      "                                                   Noyers                            Noyers   \n",
      "BSV_viti_12_du_02-07-19-1_cle05965f                vignes                            vignes   \n",
      "                                                   baies                              baies   \n",
      "BSV_viti_01_du_16-04-19_cle878624                  viticulture                  viticulture   \n",
      "bsv_raisin_n15_16072019_cle8c8617                  baies                              baies   \n",
      "BSV_Viticulture_5_18_juillet_2019_cle8b576d        fruit                              fruit   \n",
      "bsv_vigne_n17_gascogne_24072018_cle4238ae          vignes                            vignes   \n",
      "bsv_vigne_n21_gascogne_11092018_cle4c45ec          VITICULTURE                  VITICULTURE   \n",
      "BSV_Viticulture_5_18_juillet_2019_cle8b576d        baies                              baies   \n",
      "                                                   agrumes                          agrumes   \n",
      "BSV_Viticulture_2_17_mai_2019_cle8f88af            vigne                              vigne   \n",
      "                                                   fruit                              fruit   \n",
      "bsv_viti_3_18_04_2019_cle43e1c9                    Melon                              Melon   \n",
      "BSV_NA_VIGNE_Sud_Aquitaine_20_20190806_cle831e2b   soleil                            soleil   \n",
      "BSV_NA_VIGNE_Sud_Aquitaine_18_20190723_cle84e39a   vignes                            vignes   \n",
      "                                                   soleil                            soleil   \n",
      "BSV_NA_VIGNE_Sud_Aquitaine_17_20190716_cle841a78   vignes                            vignes   \n",
      "                                                   baies                              baies   \n",
      "BSV_NA_VIGNE_Sud_Aquitaine_08_20190514_cle8e63bb   baies                              baies   \n",
      "BSV_NA_VIGNE_Sud_Aquitaine_02_20190401_01_cle4b... baies                              baies   \n",
      "BSV_NA_VIGNE_Nord_Aquitaine_20_20190806_cle891ea2  vignes                            vignes   \n",
      "                                                   vigne                              vigne   \n",
      "                                                   soleil                            soleil   \n",
      "BSV_NA_VIGNE_Nord_Aquitaine_19_20190730_cle819684  soleil                            soleil   \n",
      "BSV_NA_VIGNE_Limousin_02_20190409_cle81e534        baies                              baies   \n",
      "BSV_NA_VIGNE_Limousin_17_20190730_cle835848        vignes                            vignes   \n",
      "BSV_NA_VIGNE_Limousin_02_20190409_cle81e534        Vigne                              Vigne   \n",
      "BSV_NA_VIGNE_Haut-Poitou_13_20190709_cle44ed93     Vigne                              Vigne   \n",
      "bsv_viti_mp_fronton_tarnetgaronne_n18_30072019_... vigne                              vigne   \n",
      "BSV_2019_n13_cle0f596d                             FRUIT                              FRUIT   \n",
      "bsv_viti_mp_fronton_tarnetgaronne_n18_30072019_... tournesol                      tournesol   \n",
      "BSV_2019_n16_cle04a239                             vigne                              vigne   \n",
      "BSV_2019_n18_cle02fbf1                             Vigne                              Vigne   \n",
      "bsv_viti_mp_gaillac_n02_09042019_cle0bbe75         baies                              baies   \n",
      "bsv_viti_mp_fronton_tarnetgaronne_n13_25062019_... pois                                pois   \n",
      "bsv_viti_mp_gaillac_n02_09042019_cle0bbe75         viticulture                  viticulture   \n",
      "bsv_viti_mp_fronton_tarnetgaronne_n04_24042019_... Viticulture                  Viticulture   \n",
      "BSV_NA_VIGNE_Haut-Poitou_03_20190430_cle4165b7     Vigne                              Vigne   \n",
      "bsv_viti_mp_cahors_n19_20082019_cle4e16b4          vignes                            vignes   \n",
      "BSV_NA_VIGNE_Haut-Poitou_03_20190430_cle4165b7     gel                                  gel   \n",
      "bsv_viti_mp_cahors_n19_20082019_cle4e16b4          vigne                              vigne   \n",
      "BSVViti_20190730_N22_cle019b19                     vigne                              vigne   \n",
      "bsv_viti_mp_cahors_n17_30072019_cle434e53          vigne                              vigne   \n",
      "bsv_viti_mp_gaillac_n18_30072019_cle0fe8aa         tournesol                      tournesol   \n",
      "20190710_LOR_BSV_Viticulture_cle8bd128             baies                              baies   \n",
      "bsv_viti_mp_gaillac_n18_30072019_cle0fe8aa         vigne                              vigne   \n",
      "BSV_NA_VIGNE_Haut-Poitou_15_20190806_cle4c661d     Vigne                              Vigne   \n",
      "bsv_viti_mp_cahors_n17_30072019_cle434e53          tournesol                      tournesol   \n",
      "bsv_viti_17_25_07_2019_cle0a86e1                   vignes                            vignes   \n",
      "                                                   soleil                            soleil   \n",
      "BSV_Viticulture_2_17_mai_2019_cle8f88af            cultures                        cultures   \n",
      "20190731_LOR_Viticulture-1_cle45ef1d               soleil                            soleil   \n",
      "BSV-viti-RA-16_16-07-2019_cle0bfb92                viticulture                  viticulture   \n",
      "BSVViti_20190409_N3_cle88a431                      Vigne                              Vigne   \n",
      "BSV-viti-RA-16_16-07-2019_cle0bfb92                vignes                            vignes   \n",
      "bsv_viti_14_04_07_2019-1_cle888dd3                 pois                                pois   \n",
      "                                                   cultures                        cultures   \n",
      "                                                   baies                              baies   \n",
      "                                                   vignes                            vignes   \n",
      "BSVViti_20190409_N3_cle88a431                      Viticulture                  Viticulture   \n",
      "bsv_viti_3_18_04_2019_cle43e1c9                    gel                                  gel   \n",
      "bsv_viti_13_27_06_2019_cle07f426                   vigne                              vigne   \n",
      "BSV_NA_VIGNE_Sud_Aquitaine_20_20190806_cle831e2b   vins                                vins   \n",
      "BSVViti_20190409_N3_cle88a431                      vigne                              vigne   \n",
      "BSVViti_20190618_N16_cle091811                     Vigne                              Vigne   \n",
      "                                                   Viticulture                  Viticulture   \n",
      "                                                   vigne                              vigne   \n",
      "BSVViti_20190730_N22_cle019b19                     Vigne                              Vigne   \n",
      "                                                   Viticulture                  Viticulture   \n",
      "                                                   baies                              baies   \n",
      "BSV_viti_16_du_16-09-19_cle87b836                  VITICULTURE                  VITICULTURE   \n",
      "                                                   vigne                              vigne   \n",
      "bsv_viti_14_04_07_2019-1_cle888dd3                 Melon                              Melon   \n",
      "bsv_viti_13_27_06_2019_cle07f426                   baies                              baies   \n",
      "BSV-viti-RA-16_16-07-2019_cle0bfb92                vigne                              vigne   \n",
      "20190710_LOR_BSV_Viticulture_cle8bd128             pois                                pois   \n",
      "20190731_LOR_Viticulture-1_cle45ef1d               baies                              baies   \n",
      "bsv_raisin_n07_14052019_cle85bd4c                  vigne                              vigne   \n",
      "BSV_viti_12_du_02-07-19-1_cle05965f                cultures                        cultures   \n",
      "BSV_viti_13_du_09-07-19_cle86811a                  VITICULTURE                  VITICULTURE   \n",
      "BSV_viti_12_du_02-07-19-1_cle05965f                VITICULTURE                  VITICULTURE   \n",
      "BSV-viti-RA-03_16-04-2019_cle0bbc57                viticulture                  viticulture   \n",
      "BSV_viti_01_du_16-04-19_cle878624                  vignes                            vignes   \n",
      "                                                   gel                                  gel   \n",
      "bsv_raisin_n12_18062019_cle8578dc                  fleurs                            fleurs   \n",
      "BSV-viti-RA-15_09-07-2019_cle01ba24                baie                                baie   \n",
      "bsv_raisin_n12_18062019_cle8578dc                  pois                                pois   \n",
      "BSV-viti-RA-15_09-07-2019_cle01ba24                soleil                            soleil   \n",
      "bsv_raisin_n15_16072019_cle8c8617                  vigne                              vigne   \n",
      "bsv_viti_mp_gaillac_n18_30072019_cle0fe8aa         baies                              baies   \n",
      "BSV-viti-RA-15_09-07-2019_cle01ba24                vignes                            vignes   \n",
      "bsv_vigne_n17_gascogne_24072018_cle4238ae          Viticulture                  Viticulture   \n",
      "                                                   baies                              baies   \n",
      "BSV_Viticulture_5_18_juillet_2019_cle8b576d        fruits                            fruits   \n",
      "BSVViti_20190820_N23_cle0c5111                     Vigne                              Vigne   \n",
      "20190619_LOR_BSV_Viticulture_cle8c2fdf             vigne                              vigne   \n",
      "bsv_viti_mp_gaillac_n02_09042019_cle0bbe75         vignes                            vignes   \n",
      "BSV-viti-RA-16_16-07-2019_cle0bfb92                Vins                                Vins   \n",
      "bsv_viti_mp_gaillac_n02_09042019_cle0bbe75         gel                                  gel   \n",
      "bsv_vigne_n21_gascogne_11092018_cle4c45ec          Viticulture                  Viticulture   \n",
      "bsv_viti_13_27_06_2019_cle07f426                   Melon                              Melon   \n",
      "BSV_viti_16_du_16-09-19_cle87b836                  viticulture                  viticulture   \n",
      "BSV-viti-RA-15_09-07-2019_cle01ba24                viticulture                  viticulture   \n",
      "BSV_NA_VIGNE_Sud_Aquitaine_20_20190806_cle831e2b   vignes                            vignes   \n",
      "BSVViti_20190820_N23_cle0c5111                     Viticulture                  Viticulture   \n",
      "bsv_viti_lr_n06_06052019-1_cle4a8957-1             fruits                            fruits   \n",
      "BSV_NA_VIGNE_Limousin_02_20190409_cle81e534        gel                                  gel   \n",
      "BSV_NA_VIGNE_Limousin_07_20190522_cle81f925        gel                                  gel   \n",
      "BSV_NA_VIGNE_CHARENTES_18_20190730_cle8d5827       vigne                              vigne   \n",
      "                                                   cultures                        cultures   \n",
      "BSV_NA_VIGNE_Nord_Aquitaine_17_20190716_cle8d5da5  soleil                            soleil   \n",
      "                                                   vigne                              vigne   \n",
      "bsv_viti_mp_fronton_tarnetgaronne_n18_30072019_... baies                              baies   \n",
      "bsv_viti_lr_n06_06052019-1_cle4a8957-1             verger                            verger   \n",
      "BSV_NA_VIGNE_Nord_Aquitaine_19_20190730_cle819684  vigne                              vigne   \n",
      "BSV_2019_n18_cle02fbf1                             vigne                              vigne   \n",
      "                                                   FRUIT                              FRUIT   \n",
      "BSV_2019_n16_cle04a239                             Vigne                              Vigne   \n",
      "                                                   FRUIT                              FRUIT   \n",
      "BSV_2019_n13_cle0f596d                             vigne                              vigne   \n",
      "BSV_NA_VIGNE_Nord_Aquitaine_07_20190507_cle8b2385  vignes                            vignes   \n",
      "BSV_Viticulture_2_17_mai_2019_cle8f88af            fruits                            fruits   \n",
      "bsv_viti_lr_n06_06052019-1_cle4a8957-1             fleurs                            fleurs   \n",
      "BSV_2019_n13_cle0f596d                             soleil                            soleil   \n",
      "BSV_NA_VIGNE_Sud_Aquitaine_08_20190514_cle8e63bb   vignes                            vignes   \n",
      "BSV_2019_n13_cle0f596d                             Vigne                              Vigne   \n",
      "bsv_viti_mp_gaillac_n13_25062019_cle0e5f7f         Vins                                Vins   \n",
      "                                                   pois                                pois   \n",
      "bsv_viti_mp_cahors_n12_25062019_cle4cf277          cultures                        cultures   \n",
      "bsv_viti_mp_gaillac_n13_25062019_cle0e5f7f         cultures                        cultures   \n",
      "bsv_viti_mp_cahors_n19_20082019_cle4e16b4          vins                                vins   \n",
      "bsv_viti_mp_cahors_n12_25062019_cle4cf277          Vigne                              Vigne   \n",
      "bsv_viti_lr_n17_30072019_cle8cc4c8                 viticulture                  viticulture   \n",
      "bsv_raisin_n12_18062019_cle8578dc                  orangé                            orangé   \n",
      "BSV_viti_16_du_16-09-19_cle87b836                  raisin                            raisin   \n",
      "bsv_raisin_n12_18062019_cle8578dc                  raisin de table          raisin de table   \n",
      "                                                   vergers                          vergers   \n",
      "bsv_viti_mp_cahors_n19_20082019_cle4e16b4          viticulture                  viticulture   \n",
      "bsv_raisin_n12_18062019_cle8578dc                  vigne                              vigne   \n",
      "bsv_viti_mp_cahors_n12_25062019_cle4cf277          pois                                pois   \n",
      "bsv_raisin_n15_16072019_cle8c8617                  baie                                baie   \n",
      "bsv_viti_mp_gaillac_n13_25062019_cle0e5f7f         Vigne                              Vigne   \n",
      "bsv_raisin_n15_16072019_cle8c8617                  cultures                        cultures   \n",
      "                                                   pois                                pois   \n",
      "                                                   raisin de table          raisin de table   \n",
      "bsv_viti_mp_fronton_tarnetgaronne_n04_24042019_... Vigne                              Vigne   \n",
      "bsv_viti_lr_n17_30072019_cle8cc4c8                 vergers                          vergers   \n",
      "bsv_vigne_n17_gascogne_24072018_cle4238ae          Vigne                              Vigne   \n",
      "bsv_viti_lr_n17_30072019_cle8cc4c8                 fleurs                            fleurs   \n",
      "bsv_viti_mp_cahors_n12_25062019_cle4cf277          gel                                  gel   \n",
      "bsv_viti_mp_gaillac_n13_25062019_cle0e5f7f         vigne                              vigne   \n",
      "bsv_raisin_n12_18062019_cle8578dc                  baies                              baies   \n",
      "bsv_viti_mp_fronton_tarnetgaronne_n04_24042019_... cultures                        cultures   \n",
      "bsv_viti_mp_cahors_n17_30072019_cle434e53          pailles                          pailles   \n",
      "bsv_viti_mp_gaillac_n18_30072019_cle0fe8aa         viticulture                  viticulture   \n",
      "bsv_viti_mp_cahors_n17_30072019_cle434e53          paille                            paille   \n",
      "                                                   vins                                vins   \n",
      "                                                   viticulture                  viticulture   \n",
      "                                                   baies                              baies   \n",
      "bsv_viti_mp_gaillac_n18_30072019_cle0fe8aa         pailles                          pailles   \n",
      "bsv_raisin_n07_14052019_cle85bd4c                  cultures                        cultures   \n",
      "bsv_viti_mp_cahors_n17_30072019_cle434e53          zones non agricoles  zones non agricoles   \n",
      "bsv_raisin_n07_14052019_cle85bd4c                  raisin de table          raisin de table   \n",
      "bsv_viti_mp_cahors_n19_20082019_cle4e16b4          baies                              baies   \n",
      "bsv_viti_mp_gaillac_n18_30072019_cle0fe8aa         paille                            paille   \n",
      "bsv_viti_mp_cahors_n19_20082019_cle4e16b4          cultures                        cultures   \n",
      "bsv_viti_mp_cahors_n17_30072019_cle434e53          Vigne                              Vigne   \n",
      "bsv_viti_mp_cahors_n12_25062019_cle4cf277          viticulture                  viticulture   \n",
      "                                                   vins                                vins   \n",
      "bsv_viti_mp_gaillac_n18_30072019_cle0fe8aa         Vins                                Vins   \n",
      "                                                   Vigne                              Vigne   \n",
      "bsv_raisin_n12_18062019_cle8578dc                  arbres fruitiers        arbres fruitiers   \n",
      "bsv_viti_mp_cahors_n12_25062019_cle4cf277          vigne                              vigne   \n",
      "bsv_viti_mp_gaillac_n13_25062019_cle0e5f7f         viticulture                  viticulture   \n",
      "bsv_vigne_n17_gascogne_24072018_cle4238ae          baie                                baie   \n",
      "bsv_viti_lr_n03_16042019_cle82d51a                 gel                                  gel   \n",
      "                                                   cultures                        cultures   \n",
      "bsv_viti_lr_n06_06052019-1_cle4a8957-1             orangé                            orangé   \n",
      "bsv_viti_mp_fronton_tarnetgaronne_n18_30072019_... zones non agricoles  zones non agricoles   \n",
      "bsv_viti_14_04_07_2019-1_cle888dd3                 soleil                            soleil   \n",
      "                                                   vigne                              vigne   \n",
      "bsv_viti_lr_n06_06052019-1_cle4a8957-1             vergers                          vergers   \n",
      "bsv_viti_lr_n03_16042019_cle82d51a                 vignes                            vignes   \n",
      "bsv_viti_mp_fronton_tarnetgaronne_n18_30072019_... paille                            paille   \n",
      "bsv_viti_17_25_07_2019_cle0a86e1                   Melon                              Melon   \n",
      "bsv_viti_lr_n03_16042019_cle82d51a                 vigne                              vigne   \n",
      "bsv_viti_mp_fronton_tarnetgaronne_n18_30072019_... pailles                          pailles   \n",
      "bsv_viti_17_25_07_2019_cle0a86e1                   cultures                        cultures   \n",
      "bsv_viti_lr_n06_06052019-1_cle4a8957-1             noyers                            noyers   \n",
      "bsv_viti_mp_fronton_tarnetgaronne_n13_25062019_... viticulture                  viticulture   \n",
      "bsv_viti_3_18_04_2019_cle43e1c9                    cultures                        cultures   \n",
      "bsv_viti_lr_n06_06052019-1_cle4a8957-1             noyer                              noyer   \n",
      "bsv_viti_3_18_04_2019_cle43e1c9                    vigne                              vigne   \n",
      "                                                   vignes                            vignes   \n",
      "bsv_viti_lr_n06_06052019-1_cle4a8957-1             fruitiers                      fruitiers   \n",
      "bsv_viti_lr_n03_16042019_cle82d51a                 Gel                                  Gel   \n",
      "bsv_viti_mp_cahors_n17_30072019_cle434e53          pois                                pois   \n",
      "bsv_viti_lr_n03_16042019_cle82d51a                 oranges                          oranges   \n",
      "bsv_viti_mp_gaillac_n02_09042019_cle0bbe75         Vins                                Vins   \n",
      "                                                   Vigne                              Vigne   \n",
      "bsv_viti_mp_fronton_tarnetgaronne_n18_30072019_... Vigne                              Vigne   \n",
      "bsv_viti_mp_fronton_tarnetgaronne_n13_25062019_... vigne                              vigne   \n",
      "bsv_vigne_n17_gascogne_24072018_cle4238ae          cultures                        cultures   \n",
      "bsv_viti_mp_gaillac_n02_09042019_cle0bbe75         fleurs                            fleurs   \n",
      "bsv_viti_mp_fronton_tarnetgaronne_n04_24042019_... viticulture                  viticulture   \n",
      "bsv_vigne_n17_gascogne_24072018_cle4238ae          soleil                            soleil   \n",
      "bsv_viti_mp_fronton_tarnetgaronne_n13_25062019_... Vigne                              Vigne   \n",
      "bsv_vigne_n17_gascogne_24072018_cle4238ae          vigne                              vigne   \n",
      "bsv_viti_mp_fronton_tarnetgaronne_n18_30072019_... viticulture                  viticulture   \n",
      "bsv_vigne_n17_gascogne_24072018_cle4238ae          viticulture                  viticulture   \n",
      "bsv_viti_lr_n06_06052019-1_cle4a8957-1             Noisette                        Noisette   \n",
      "                                                   cultures                        cultures   \n",
      "bsv_viti_lr_n17_30072019_cle8cc4c8                 baie                                baie   \n",
      "bsv_vigne_n21_gascogne_11092018_cle4c45ec          cultures                        cultures   \n",
      "                                                   viticulture                  viticulture   \n",
      "bsv_viti_13_27_06_2019_cle07f426                   vignes                            vignes   \n",
      "bsv_viti_mp_gaillac_n02_09042019_cle0bbe75         cultures                        cultures   \n",
      "bsv_viti_mp_fronton_tarnetgaronne_n13_25062019_... cultures                        cultures   \n",
      "bsv_viti_lr_n17_30072019_cle8cc4c8                 arbres fruitiers        arbres fruitiers   \n",
      "bsv_viti_13_27_06_2019_cle07f426                   cultures                        cultures   \n",
      "bsv_viti_lr_n06_06052019-1_cle4a8957-1             fruit                              fruit   \n",
      "bsv_viti_13_27_06_2019_cle07f426                   fleurs                            fleurs   \n",
      "                                                   fruits                            fruits   \n",
      "                                                   gels                                gels   \n",
      "                                                   pois                                pois   \n",
      "bsv_viti_lr_n03_16042019_cle82d51a                 viticulture                  viticulture   \n",
      "bsv_viti_mp_fronton_tarnetgaronne_n04_24042019_... vigne                              vigne   \n",
      "20190619_LOR_BSV_Viticulture_cle8c2fdf             CULTURES                        CULTURES   \n",
      "BSV_viti_16_du_16-09-19_cle87b836                  cultures                        cultures   \n",
      "BSV_NA_VIGNE_Haut-Poitou_03_20190430_cle4165b7     Viticulture                  Viticulture   \n",
      "BSV_NA_VIGNE_Haut-Poitou_15_20190806_cle4c661d     cultures                        cultures   \n",
      "                                                   Viticulture                  Viticulture   \n",
      "                                                   Vin                                  Vin   \n",
      "BSV_NA_VIGNE_Haut-Poitou_13_20190709_cle44ed93     cultures                        cultures   \n",
      "                                                   Viticulture                  Viticulture   \n",
      "                                                   Vin                                  Vin   \n",
      "BSV_NA_VIGNE_Haut-Poitou_03_20190430_cle4165b7     marron                            marron   \n",
      "                                                   cultures                        cultures   \n",
      "                                                   Vin                                  Vin   \n",
      "BSV_NA_VIGNE_Haut-Poitou_15_20190806_cle4c661d     fruits                            fruits   \n",
      "BSV_NA_VIGNE_CHARENTES_22_20190903_cle8f1178       vin                                  vin   \n",
      "                                                   vignes                            vignes   \n",
      "                                                   cultures                        cultures   \n",
      "                                                   Vin                                  Vin   \n",
      "BSV_NA_VIGNE_CHARENTES_19_20190806_cle88b155       cultures                        cultures   \n",
      "                                                   baie                                baie   \n",
      "                                                   Vin                                  Vin   \n",
      "BSV_NA_VIGNE_CHARENTES_18_20190730_cle8d5827       baies                              baies   \n",
      "BSV_NA_VIGNE_Haut-Poitou_15_20190806_cle4c661d     fleur                              fleur   \n",
      "BSV_NA_VIGNE_Limousin_02_20190409_cle81e534        Vin                                  Vin   \n",
      "BSV_NA_VIGNE_CHARENTES_07_20190514_cle841735       vignes                            vignes   \n",
      "BSV_NA_VIGNE_Limousin_14_20190709_cle8d4f42        vigne                              vigne   \n",
      "BSV_NA_VIGNE_Nord_Aquitaine_04_20190416_cle876cf5  cultures                        cultures   \n",
      "                                                   Gel                                  Gel   \n",
      "BSV_NA_VIGNE_Limousin_17_20190730_cle835848        vigne                              vigne   \n",
      "                                                   soleil                            soleil   \n",
      "                                                   gel                                  gel   \n",
      "                                                   cultures                        cultures   \n",
      "                                                   Vin                                  Vin   \n",
      "                                                   Vignes                            Vignes   \n",
      "BSV_NA_VIGNE_Limousin_14_20190709_cle8d4f42        soleil                            soleil   \n",
      "BSV_NA_VIGNE_Limousin_02_20190409_cle81e534        cultures                        cultures   \n",
      "BSV_NA_VIGNE_Limousin_14_20190709_cle8d4f42        cultures                        cultures   \n",
      "                                                   baie                                baie   \n",
      "                                                   Vin                                  Vin   \n",
      "BSV_NA_VIGNE_Limousin_07_20190522_cle81f925        cultures                        cultures   \n",
      "                                                   Vin                                  Vin   \n",
      "                                                   Gel                                  Gel   \n",
      "BSV_NA_VIGNE_Limousin_02_20190409_cle81e534        vignes                            vignes   \n",
      "                                                   fleurs                            fleurs   \n",
      "BSV_NA_VIGNE_CHARENTES_18_20190730_cle8d5827       Vin                                  Vin   \n",
      "BSV_NA_VIGNE_CHARENTES_07_20190514_cle841735       rosiers                          rosiers   \n",
      "BSV_NA_VIGNE_Nord_Aquitaine_07_20190507_cle8b2385  Gel                                  Gel   \n",
      "BSV-viti-RA-03_16-04-2019_cle0bbc57                Olivier                          Olivier   \n",
      "BSV-viti-RA-15_09-07-2019_cle01ba24                cultures                        cultures   \n",
      "                                                   Vins                                Vins   \n",
      "                                                   Vigne                              Vigne   \n",
      "                                                   Olivier                          Olivier   \n",
      "BSV-viti-RA-03_16-04-2019_cle0bbc57                vigne                              vigne   \n",
      "                                                   cultures                        cultures   \n",
      "                                                   Vins                                Vins   \n",
      "                                                   Vigne                              Vigne   \n",
      "20190731_LOR_Viticulture-1_cle45ef1d               vigne                              vigne   \n",
      "BSV-viti-RA-16_16-07-2019_cle0bfb92                Baie                                Baie   \n",
      "20190731_LOR_Viticulture-1_cle45ef1d               fruits                            fruits   \n",
      "                                                   Vigne                              Vigne   \n",
      "                                                   VIGNE                              VIGNE   \n",
      "20190710_LOR_BSV_Viticulture_cle8bd128             Vigne                              Vigne   \n",
      "                                                   VIGNE                              VIGNE   \n",
      "20190619_LOR_BSV_Viticulture_cle8c2fdf             cultures                        cultures   \n",
      "                                                   Vigne                              Vigne   \n",
      "                                                   VIGNE                              VIGNE   \n",
      "BSV-viti-RA-15_09-07-2019_cle01ba24                vigne                              vigne   \n",
      "BSV-viti-RA-16_16-07-2019_cle0bfb92                Olivier                          Olivier   \n",
      "BSV_NA_VIGNE_CHARENTES_07_20190514_cle841735       orange                            orange   \n",
      "BSVViti_20190730_N22_cle019b19                     verger                            verger   \n",
      "BSV_NA_VIGNE_CHARENTES_07_20190514_cle841735       cultures                        cultures   \n",
      "                                                   Vin                                  Vin   \n",
      "BSV_NA_VIGNE_CHARENTES_02_20190409_cle8ac81e       gel                                  gel   \n",
      "                                                   cultures                        cultures   \n",
      "                                                   Vin                                  Vin   \n",
      "                                                   Gel                                  Gel   \n",
      "BSV_2019_n13_cle0f596d                             pois                                pois   \n",
      "                                                   fleur                              fleur   \n",
      "BSVViti_20190730_N22_cle019b19                     fruits                            fruits   \n",
      "BSV-viti-RA-16_16-07-2019_cle0bfb92                Vigne                              Vigne   \n",
      "BSVViti_20190730_N22_cle019b19                     baie                                baie   \n",
      "BSVViti_20190618_N16_cle091811                     cultures                        cultures   \n",
      "                                                   Baies                              Baies   \n",
      "BSVViti_20190409_N3_cle88a431                      gel                                  gel   \n",
      "                                                   Gel                                  Gel   \n",
      "BSV-viti-RA-16_16-07-2019_cle0bfb92                fleur                              fleur   \n",
      "                                                   cultures                        cultures   \n",
      "                                                   culture                          culture   \n",
      "BSV_NA_VIGNE_Nord_Aquitaine_04_20190416_cle876cf5  gel                                  gel   \n",
      "BSV_NA_VIGNE_Nord_Aquitaine_07_20190507_cle8b2385  cultures                        cultures   \n",
      "BSV_viti_16_du_16-09-19_cle87b836                  Vigne                              Vigne   \n",
      "BSV_Viticulture_5_18_juillet_2019_cle8b576d        citron                            citron   \n",
      "                                                   melons                            melons   \n",
      "                                                   mangue                            mangue   \n",
      "                                                   laurier                          laurier   \n",
      "                                                   goyave                            goyave   \n",
      "                                                   fruits tropicale        fruits tropicale   \n",
      "                                                   fruitières                    fruitières   \n",
      "                                                   figue                              figue   \n",
      "                                                   courges                          courges   \n",
      "                                                   cerise                            cerise   \n",
      "                                                   poire                              poire   \n",
      "                                                   banane                            banane   \n",
      "                                                   ananas                            ananas   \n",
      "                                                   amandiers                      amandiers   \n",
      "                                                   abricot                          abricot   \n",
      "                                                   VITICULTURE                  VITICULTURE   \n",
      "                                                   VIGNE                              VIGNE   \n",
      "                                                   Soleil                            Soleil   \n",
      "BSV_Viticulture_2_17_mai_2019_cle8f88af            verger                            verger   \n",
      "BSV_Viticulture_5_18_juillet_2019_cle8b576d        oliviers                        oliviers   \n",
      "                                                   poivrons                        poivrons   \n",
      "BSV_Viticulture_2_17_mai_2019_cle8f88af            tomate                            tomate   \n",
      "BSV_viti_12_du_02-07-19-1_cle05965f                Noyers                            Noyers   \n",
      "BSV_viti_13_du_09-07-19_cle86811a                  soleil                            soleil   \n",
      "                                                   roses                              roses   \n",
      "                                                   cultures                        cultures   \n",
      "                                                   Vigne                              Vigne   \n",
      "BSV_viti_12_du_02-07-19-1_cle05965f                soleil                            soleil   \n",
      "                                                   roses                              roses   \n",
      "                                                   gel                                  gel   \n",
      "                                                   Vigne                              Vigne   \n",
      "BSV_viti_01_du_16-04-19_cle878624                  cultures                        cultures   \n",
      "BSV_Viticulture_5_18_juillet_2019_cle8b576d        raisins                          raisins   \n",
      "BSV_viti_01_du_16-04-19_cle878624                  Vigne                              Vigne   \n",
      "                                                   VITICULTURE                  VITICULTURE   \n",
      "                                                   POIRIER                          POIRIER   \n",
      "BSV_Viticulture_5_18_juillet_2019_cle8b576d        vignes                            vignes   \n",
      "                                                   verger                            verger   \n",
      "                                                   tomates                          tomates   \n",
      "                                                   tomate                            tomate   \n",
      "                                                   rose                                rose   \n",
      "BSV_Viticulture_2_17_mai_2019_cle8f88af            tomates                          tomates   \n",
      "                                                   rose                                rose   \n",
      "BSV_NA_VIGNE_Nord_Aquitaine_17_20190716_cle8d5da5  Pois                                Pois   \n",
      "BSV_NA_VIGNE_Sud_Aquitaine_08_20190514_cle8e63bb   cultures                        cultures   \n",
      "BSV_NA_VIGNE_Sud_Aquitaine_18_20190723_cle84e39a   vins                                vins   \n",
      "                                                   raisin                            raisin   \n",
      "                                                   cultures                        cultures   \n",
      "                                                   baie                                baie   \n",
      "BSV_NA_VIGNE_Sud_Aquitaine_17_20190716_cle841a78   vins                                vins   \n",
      "                                                   soleil                            soleil   \n",
      "                                                   cultures                        cultures   \n",
      "BSV_NA_VIGNE_Sud_Aquitaine_08_20190514_cle8e63bb   vins                                vins   \n",
      "BSV_NA_VIGNE_Sud_Aquitaine_02_20190401_01_cle4b... vins                                vins   \n",
      "BSV_NA_VIGNE_Sud_Aquitaine_20_20190806_cle831e2b   cultures                        cultures   \n",
      "BSV_NA_VIGNE_Sud_Aquitaine_02_20190401_01_cle4b... cultures                        cultures   \n",
      "BSV_NA_VIGNE_Nord_Aquitaine_20_20190806_cle891ea2  raisin                            raisin   \n",
      "                                                   cultures                        cultures   \n",
      "                                                   baie                                baie   \n",
      "BSV_NA_VIGNE_Nord_Aquitaine_19_20190730_cle819684  raisin                            raisin   \n",
      "                                                   cultures                        cultures   \n",
      "                                                   baie                                baie   \n",
      "BSV_NA_VIGNE_Nord_Aquitaine_17_20190716_cle8d5da5  cultures                        cultures   \n",
      "BSV_NA_VIGNE_Sud_Aquitaine_20_20190806_cle831e2b   baie                                baie   \n",
      "                                                   raisin                            raisin   \n",
      "BSV_Viticulture_2_17_mai_2019_cle8f88af            poivrons                        poivrons   \n",
      "                                                   fleurs                            fleurs   \n",
      "                                                   poire                              poire   \n",
      "                                                   oliviers                        oliviers   \n",
      "                                                   melons                            melons   \n",
      "                                                   mangue                            mangue   \n",
      "                                                   laurier                          laurier   \n",
      "                                                   goyave                            goyave   \n",
      "                                                   fruits tropicale        fruits tropicale   \n",
      "                                                   fruitières                    fruitières   \n",
      "                                                   figue                              figue   \n",
      "                                                   VITICULTURE                  VITICULTURE   \n",
      "                                                   courges                          courges   \n",
      "                                                   citron                            citron   \n",
      "                                                   cerise                            cerise   \n",
      "                                                   banane                            banane   \n",
      "                                                   ananas                            ananas   \n",
      "                                                   amandiers                      amandiers   \n",
      "                                                   agrumes                          agrumes   \n",
      "                                                   abricot                          abricot   \n",
      "bsv_viti_mp_gaillac_n18_30072019_cle0fe8aa         zones non agricoles  zones non agricoles   \n",
      "\n",
      "                                                                       freq  \n",
      "bsv                                                word                      \n",
      "BSV-viti-RA-15_09-07-2019_cle01ba24                baies                 52  \n",
      "BSV-viti-RA-16_16-07-2019_cle0bfb92                baies                 43  \n",
      "BSV-viti-RA-15_09-07-2019_cle01ba24                Viticulture           20  \n",
      "                                                   pois                  18  \n",
      "BSV-viti-RA-16_16-07-2019_cle0bfb92                Viticulture           17  \n",
      "bsv_viti_lr_n17_30072019_cle8cc4c8                 Viticulture           14  \n",
      "BSV_NA_VIGNE_CHARENTES_07_20190514_cle841735       Vigne                 13  \n",
      "BSV_NA_VIGNE_Limousin_17_20190730_cle835848        Vigne                 12  \n",
      "BSV_NA_VIGNE_Haut-Poitou_13_20190709_cle44ed93     baies                 12  \n",
      "BSV-viti-RA-03_16-04-2019_cle0bbc57                Viticulture           12  \n",
      "BSV_NA_VIGNE_Nord_Aquitaine_19_20190730_cle819684  baies                 11  \n",
      "BSV_NA_VIGNE_Nord_Aquitaine_07_20190507_cle8b2385  vigne                 11  \n",
      "BSV_NA_VIGNE_Nord_Aquitaine_19_20190730_cle819684  Vigne                 10  \n",
      "BSV_NA_VIGNE_Nord_Aquitaine_17_20190716_cle8d5da5  Vigne                 10  \n",
      "BSV_NA_VIGNE_Nord_Aquitaine_20_20190806_cle891ea2  Vigne                 10  \n",
      "bsv_viti_mp_cahors_n17_30072019_cle434e53          semences               9  \n",
      "bsv_viti_mp_gaillac_n18_30072019_cle0fe8aa         cultures               9  \n",
      "bsv_viti_mp_cahors_n17_30072019_cle434e53          cultures               9  \n",
      "bsv_viti_mp_gaillac_n18_30072019_cle0fe8aa         semences               9  \n",
      "BSV_NA_VIGNE_Sud_Aquitaine_02_20190401_01_cle4b... vigne                  9  \n",
      "bsv_viti_mp_fronton_tarnetgaronne_n18_30072019_... semences               9  \n",
      "                                                   cultures               9  \n",
      "bsv_viti_lr_n03_16042019_cle82d51a                 Viticulture            9  \n",
      "BSV_NA_VIGNE_Sud_Aquitaine_08_20190514_cle8e63bb   vigne                  8  \n",
      "BSV-viti-RA-16_16-07-2019_cle0bfb92                pois                   8  \n",
      "BSV_viti_01_du_16-04-19_cle878624                  vigne                  8  \n",
      "BSV_NA_VIGNE_CHARENTES_07_20190514_cle841735       vigne                  8  \n",
      "bsv_viti_mp_fronton_tarnetgaronne_n18_30072019_... Viticulture            8  \n",
      "BSV_viti_12_du_02-07-19-1_cle05965f                Viticulture            8  \n",
      "bsv_viti_mp_fronton_tarnetgaronne_n13_25062019_... Viticulture            8  \n",
      "BSV_viti_13_du_09-07-19_cle86811a                  Viticulture            8  \n",
      "bsv_viti_mp_gaillac_n02_09042019_cle0bbe75         Viticulture            8  \n",
      "BSV_NA_VIGNE_Limousin_07_20190522_cle81f925        Vigne                  8  \n",
      "bsv_viti_mp_cahors_n17_30072019_cle434e53          Viticulture            7  \n",
      "BSV_NA_VIGNE_Haut-Poitou_13_20190709_cle44ed93     pois                   7  \n",
      "BSV_NA_VIGNE_Nord_Aquitaine_07_20190507_cle8b2385  Vigne                  7  \n",
      "BSV_NA_VIGNE_Nord_Aquitaine_04_20190416_cle876cf5  Vigne                  7  \n",
      "BSV_NA_VIGNE_Haut-Poitou_15_20190806_cle4c661d     baies                  7  \n",
      "BSV_viti_01_du_16-04-19_cle878624                  Viticulture            7  \n",
      "bsv_viti_mp_gaillac_n18_30072019_cle0fe8aa         Viticulture            7  \n",
      "bsv_raisin_n12_18062019_cle8578dc                  Raisin de table        7  \n",
      "BSV_viti_12_du_02-07-19-1_cle05965f                pois                   7  \n",
      "BSV_Viticulture_2_17_mai_2019_cle8f88af            Viticulture            6  \n",
      "BSV_NA_VIGNE_Limousin_14_20190709_cle8d4f42        Vigne                  6  \n",
      "BSV_NA_VIGNE_CHARENTES_02_20190409_cle8ac81e       vigne                  6  \n",
      "bsv_viti_mp_gaillac_n13_25062019_cle0e5f7f         Viticulture            6  \n",
      "BSVViti_20190618_N16_cle091811                     baies                  6  \n",
      "20190731_LOR_Viticulture-1_cle45ef1d               FRUIT                  6  \n",
      "BSV_Viticulture_5_18_juillet_2019_cle8b576d        vigne                  6  \n",
      "BSV_viti_13_du_09-07-19_cle86811a                  viticulture            6  \n",
      "bsv_viti_mp_cahors_n12_25062019_cle4cf277          Viticulture            6  \n",
      "bsv_raisin_n15_16072019_cle8c8617                  Raisin de table        6  \n",
      "BSV_NA_VIGNE_Sud_Aquitaine_08_20190514_cle8e63bb   Vigne                  6  \n",
      "BSV_viti_12_du_02-07-19-1_cle05965f                viticulture            6  \n",
      "BSV_NA_VIGNE_CHARENTES_02_20190409_cle8ac81e       baies                  5  \n",
      "BSV_NA_VIGNE_Nord_Aquitaine_04_20190416_cle876cf5  vigne                  5  \n",
      "BSV_NA_VIGNE_Sud_Aquitaine_02_20190401_01_cle4b... Vigne                  5  \n",
      "BSV_NA_VIGNE_Sud_Aquitaine_18_20190723_cle84e39a   Vigne                  5  \n",
      "                                                   vigne                  5  \n",
      "BSV_NA_VIGNE_Sud_Aquitaine_17_20190716_cle841a78   Vigne                  5  \n",
      "BSV_NA_VIGNE_Sud_Aquitaine_20_20190806_cle831e2b   Vigne                  5  \n",
      "BSV_NA_VIGNE_Sud_Aquitaine_18_20190723_cle84e39a   baies                  5  \n",
      "bsv_viti_lr_n17_30072019_cle8cc4c8                 vigne                  5  \n",
      "BSV_viti_16_du_16-09-19_cle87b836                  Viticulture            5  \n",
      "BSV_NA_VIGNE_Sud_Aquitaine_20_20190806_cle831e2b   baies                  5  \n",
      "bsv_raisin_n12_18062019_cle8578dc                  cultures               5  \n",
      "bsv_raisin_n07_14052019_cle85bd4c                  Raisin de table        5  \n",
      "bsv_viti_mp_gaillac_n18_30072019_cle0fe8aa         culture                5  \n",
      "BSV_viti_12_du_02-07-19-1_cle05965f                vigne                  5  \n",
      "BSV-viti-RA-03_16-04-2019_cle0bbc57                Gel                    5  \n",
      "bsv_viti_mp_cahors_n17_30072019_cle434e53          culture                5  \n",
      "bsv_viti_mp_fronton_tarnetgaronne_n18_30072019_... culture                5  \n",
      "BSV-viti-RA-03_16-04-2019_cle0bbc57                vignes                 5  \n",
      "bsv_vigne_n17_gascogne_24072018_cle4238ae          VITICULTURE            5  \n",
      "BSV_NA_VIGNE_Nord_Aquitaine_20_20190806_cle891ea2  baies                  5  \n",
      "BSV_Viticulture_5_18_juillet_2019_cle8b576d        Viticulture            5  \n",
      "20190619_LOR_BSV_Viticulture_cle8c2fdf             FRUIT                  5  \n",
      "BSV_NA_VIGNE_Limousin_14_20190709_cle8d4f42        baies                  5  \n",
      "bsv_viti_lr_n17_30072019_cle8cc4c8                 cultures               5  \n",
      "BSV_NA_VIGNE_CHARENTES_22_20190903_cle8f1178       Vigne                  4  \n",
      "BSV_NA_VIGNE_Nord_Aquitaine_19_20190730_cle819684  vignes                 4  \n",
      "BSV_NA_VIGNE_CHARENTES_18_20190730_cle8d5827       Vigne                  4  \n",
      "BSV_NA_VIGNE_CHARENTES_02_20190409_cle8ac81e       Vigne                  4  \n",
      "BSV_NA_VIGNE_Nord_Aquitaine_17_20190716_cle8d5da5  baies                  4  \n",
      "BSV_2019_n18_cle02fbf1                             baies                  4  \n",
      "BSV_NA_VIGNE_CHARENTES_19_20190806_cle88b155       Vigne                  4  \n",
      "BSV_NA_VIGNE_Haut-Poitou_03_20190430_cle4165b7     vigne                  4  \n",
      "BSV_2019_n16_cle04a239                             baies                  4  \n",
      "bsv_viti_mp_gaillac_n02_09042019_cle0bbe75         vigne                  4  \n",
      "BSV_NA_VIGNE_Haut-Poitou_15_20190806_cle4c661d     vigne                  4  \n",
      "BSV_viti_13_du_09-07-19_cle86811a                  vigne                  4  \n",
      "20190710_LOR_BSV_Viticulture_cle8bd128             Baies                  4  \n",
      "                                                   FRUIT                  4  \n",
      "BSV_NA_VIGNE_Limousin_02_20190409_cle81e534        vigne                  4  \n",
      "BSV-viti-RA-03_16-04-2019_cle0bbc57                gel                    4  \n",
      "BSV_NA_VIGNE_Limousin_07_20190522_cle81f925        vigne                  4  \n",
      "BSV_NA_VIGNE_Haut-Poitou_13_20190709_cle44ed93     vigne                  4  \n",
      "BSV_Viticulture_5_18_juillet_2019_cle8b576d        cultures               4  \n",
      "bsv_viti_mp_cahors_n19_20082019_cle4e16b4          Viticulture            4  \n",
      "bsv_viti_17_25_07_2019_cle0a86e1                   baies                  4  \n",
      "BSV_NA_VIGNE_CHARENTES_19_20190806_cle88b155       baies                  4  \n",
      "BSV_NA_VIGNE_Sud_Aquitaine_20_20190806_cle831e2b   vigne                  4  \n",
      "BSVViti_20190618_N16_cle091811                     fleurs                 4  \n",
      "BSV_NA_VIGNE_Limousin_14_20190709_cle8d4f42        vignes                 4  \n",
      "BSV_NA_VIGNE_Haut-Poitou_03_20190430_cle4165b7     baies                  4  \n",
      "bsv_viti_lr_n06_06052019-1_cle4a8957-1             Noix                   4  \n",
      "bsv_viti_lr_n17_30072019_cle8cc4c8                 baies                  4  \n",
      "BSV_NA_VIGNE_Nord_Aquitaine_04_20190416_cle876cf5  baies                  3  \n",
      "BSV_NA_VIGNE_Limousin_07_20190522_cle81f925        vignes                 3  \n",
      "BSV_NA_VIGNE_Limousin_14_20190709_cle8d4f42        pois                   3  \n",
      "BSV_NA_VIGNE_Nord_Aquitaine_07_20190507_cle8b2385  baies                  3  \n",
      "BSV_NA_VIGNE_Sud_Aquitaine_17_20190716_cle841a78   vigne                  3  \n",
      "BSV_NA_VIGNE_Nord_Aquitaine_07_20190507_cle8b2385  gel                    3  \n",
      "BSV_NA_VIGNE_Nord_Aquitaine_17_20190716_cle8d5da5  vignes                 3  \n",
      "BSV_viti_13_du_09-07-19_cle86811a                  vignes                 3  \n",
      "                                                   pois                   3  \n",
      "                                                   baies                  3  \n",
      "                                                   Noyers                 3  \n",
      "BSV_viti_12_du_02-07-19-1_cle05965f                vignes                 3  \n",
      "                                                   baies                  3  \n",
      "BSV_viti_01_du_16-04-19_cle878624                  viticulture            3  \n",
      "bsv_raisin_n15_16072019_cle8c8617                  baies                  3  \n",
      "BSV_Viticulture_5_18_juillet_2019_cle8b576d        fruit                  3  \n",
      "bsv_vigne_n17_gascogne_24072018_cle4238ae          vignes                 3  \n",
      "bsv_vigne_n21_gascogne_11092018_cle4c45ec          VITICULTURE            3  \n",
      "BSV_Viticulture_5_18_juillet_2019_cle8b576d        baies                  3  \n",
      "                                                   agrumes                3  \n",
      "BSV_Viticulture_2_17_mai_2019_cle8f88af            vigne                  3  \n",
      "                                                   fruit                  3  \n",
      "bsv_viti_3_18_04_2019_cle43e1c9                    Melon                  3  \n",
      "BSV_NA_VIGNE_Sud_Aquitaine_20_20190806_cle831e2b   soleil                 3  \n",
      "BSV_NA_VIGNE_Sud_Aquitaine_18_20190723_cle84e39a   vignes                 3  \n",
      "                                                   soleil                 3  \n",
      "BSV_NA_VIGNE_Sud_Aquitaine_17_20190716_cle841a78   vignes                 3  \n",
      "                                                   baies                  3  \n",
      "BSV_NA_VIGNE_Sud_Aquitaine_08_20190514_cle8e63bb   baies                  3  \n",
      "BSV_NA_VIGNE_Sud_Aquitaine_02_20190401_01_cle4b... baies                  3  \n",
      "BSV_NA_VIGNE_Nord_Aquitaine_20_20190806_cle891ea2  vignes                 3  \n",
      "                                                   vigne                  3  \n",
      "                                                   soleil                 3  \n",
      "BSV_NA_VIGNE_Nord_Aquitaine_19_20190730_cle819684  soleil                 3  \n",
      "BSV_NA_VIGNE_Limousin_02_20190409_cle81e534        baies                  3  \n",
      "BSV_NA_VIGNE_Limousin_17_20190730_cle835848        vignes                 3  \n",
      "BSV_NA_VIGNE_Limousin_02_20190409_cle81e534        Vigne                  3  \n",
      "BSV_NA_VIGNE_Haut-Poitou_13_20190709_cle44ed93     Vigne                  3  \n",
      "bsv_viti_mp_fronton_tarnetgaronne_n18_30072019_... vigne                  3  \n",
      "BSV_2019_n13_cle0f596d                             FRUIT                  3  \n",
      "bsv_viti_mp_fronton_tarnetgaronne_n18_30072019_... tournesol              3  \n",
      "BSV_2019_n16_cle04a239                             vigne                  3  \n",
      "BSV_2019_n18_cle02fbf1                             Vigne                  3  \n",
      "bsv_viti_mp_gaillac_n02_09042019_cle0bbe75         baies                  3  \n",
      "bsv_viti_mp_fronton_tarnetgaronne_n13_25062019_... pois                   3  \n",
      "bsv_viti_mp_gaillac_n02_09042019_cle0bbe75         viticulture            3  \n",
      "bsv_viti_mp_fronton_tarnetgaronne_n04_24042019_... Viticulture            3  \n",
      "BSV_NA_VIGNE_Haut-Poitou_03_20190430_cle4165b7     Vigne                  3  \n",
      "bsv_viti_mp_cahors_n19_20082019_cle4e16b4          vignes                 3  \n",
      "BSV_NA_VIGNE_Haut-Poitou_03_20190430_cle4165b7     gel                    3  \n",
      "bsv_viti_mp_cahors_n19_20082019_cle4e16b4          vigne                  3  \n",
      "BSVViti_20190730_N22_cle019b19                     vigne                  3  \n",
      "bsv_viti_mp_cahors_n17_30072019_cle434e53          vigne                  3  \n",
      "bsv_viti_mp_gaillac_n18_30072019_cle0fe8aa         tournesol              3  \n",
      "20190710_LOR_BSV_Viticulture_cle8bd128             baies                  3  \n",
      "bsv_viti_mp_gaillac_n18_30072019_cle0fe8aa         vigne                  3  \n",
      "BSV_NA_VIGNE_Haut-Poitou_15_20190806_cle4c661d     Vigne                  3  \n",
      "bsv_viti_mp_cahors_n17_30072019_cle434e53          tournesol              3  \n",
      "bsv_viti_17_25_07_2019_cle0a86e1                   vignes                 2  \n",
      "                                                   soleil                 2  \n",
      "BSV_Viticulture_2_17_mai_2019_cle8f88af            cultures               2  \n",
      "20190731_LOR_Viticulture-1_cle45ef1d               soleil                 2  \n",
      "BSV-viti-RA-16_16-07-2019_cle0bfb92                viticulture            2  \n",
      "BSVViti_20190409_N3_cle88a431                      Vigne                  2  \n",
      "BSV-viti-RA-16_16-07-2019_cle0bfb92                vignes                 2  \n",
      "bsv_viti_14_04_07_2019-1_cle888dd3                 pois                   2  \n",
      "                                                   cultures               2  \n",
      "                                                   baies                  2  \n",
      "                                                   vignes                 2  \n",
      "BSVViti_20190409_N3_cle88a431                      Viticulture            2  \n",
      "bsv_viti_3_18_04_2019_cle43e1c9                    gel                    2  \n",
      "bsv_viti_13_27_06_2019_cle07f426                   vigne                  2  \n",
      "BSV_NA_VIGNE_Sud_Aquitaine_20_20190806_cle831e2b   vins                   2  \n",
      "BSVViti_20190409_N3_cle88a431                      vigne                  2  \n",
      "BSVViti_20190618_N16_cle091811                     Vigne                  2  \n",
      "                                                   Viticulture            2  \n",
      "                                                   vigne                  2  \n",
      "BSVViti_20190730_N22_cle019b19                     Vigne                  2  \n",
      "                                                   Viticulture            2  \n",
      "                                                   baies                  2  \n",
      "BSV_viti_16_du_16-09-19_cle87b836                  VITICULTURE            2  \n",
      "                                                   vigne                  2  \n",
      "bsv_viti_14_04_07_2019-1_cle888dd3                 Melon                  2  \n",
      "bsv_viti_13_27_06_2019_cle07f426                   baies                  2  \n",
      "BSV-viti-RA-16_16-07-2019_cle0bfb92                vigne                  2  \n",
      "20190710_LOR_BSV_Viticulture_cle8bd128             pois                   2  \n",
      "20190731_LOR_Viticulture-1_cle45ef1d               baies                  2  \n",
      "bsv_raisin_n07_14052019_cle85bd4c                  vigne                  2  \n",
      "BSV_viti_12_du_02-07-19-1_cle05965f                cultures               2  \n",
      "BSV_viti_13_du_09-07-19_cle86811a                  VITICULTURE            2  \n",
      "BSV_viti_12_du_02-07-19-1_cle05965f                VITICULTURE            2  \n",
      "BSV-viti-RA-03_16-04-2019_cle0bbc57                viticulture            2  \n",
      "BSV_viti_01_du_16-04-19_cle878624                  vignes                 2  \n",
      "                                                   gel                    2  \n",
      "bsv_raisin_n12_18062019_cle8578dc                  fleurs                 2  \n",
      "BSV-viti-RA-15_09-07-2019_cle01ba24                baie                   2  \n",
      "bsv_raisin_n12_18062019_cle8578dc                  pois                   2  \n",
      "BSV-viti-RA-15_09-07-2019_cle01ba24                soleil                 2  \n",
      "bsv_raisin_n15_16072019_cle8c8617                  vigne                  2  \n",
      "bsv_viti_mp_gaillac_n18_30072019_cle0fe8aa         baies                  2  \n",
      "BSV-viti-RA-15_09-07-2019_cle01ba24                vignes                 2  \n",
      "bsv_vigne_n17_gascogne_24072018_cle4238ae          Viticulture            2  \n",
      "                                                   baies                  2  \n",
      "BSV_Viticulture_5_18_juillet_2019_cle8b576d        fruits                 2  \n",
      "BSVViti_20190820_N23_cle0c5111                     Vigne                  2  \n",
      "20190619_LOR_BSV_Viticulture_cle8c2fdf             vigne                  2  \n",
      "bsv_viti_mp_gaillac_n02_09042019_cle0bbe75         vignes                 2  \n",
      "BSV-viti-RA-16_16-07-2019_cle0bfb92                Vins                   2  \n",
      "bsv_viti_mp_gaillac_n02_09042019_cle0bbe75         gel                    2  \n",
      "bsv_vigne_n21_gascogne_11092018_cle4c45ec          Viticulture            2  \n",
      "bsv_viti_13_27_06_2019_cle07f426                   Melon                  2  \n",
      "BSV_viti_16_du_16-09-19_cle87b836                  viticulture            2  \n",
      "BSV-viti-RA-15_09-07-2019_cle01ba24                viticulture            2  \n",
      "BSV_NA_VIGNE_Sud_Aquitaine_20_20190806_cle831e2b   vignes                 2  \n",
      "BSVViti_20190820_N23_cle0c5111                     Viticulture            2  \n",
      "bsv_viti_lr_n06_06052019-1_cle4a8957-1             fruits                 2  \n",
      "BSV_NA_VIGNE_Limousin_02_20190409_cle81e534        gel                    2  \n",
      "BSV_NA_VIGNE_Limousin_07_20190522_cle81f925        gel                    2  \n",
      "BSV_NA_VIGNE_CHARENTES_18_20190730_cle8d5827       vigne                  2  \n",
      "                                                   cultures               2  \n",
      "BSV_NA_VIGNE_Nord_Aquitaine_17_20190716_cle8d5da5  soleil                 2  \n",
      "                                                   vigne                  2  \n",
      "bsv_viti_mp_fronton_tarnetgaronne_n18_30072019_... baies                  2  \n",
      "bsv_viti_lr_n06_06052019-1_cle4a8957-1             verger                 2  \n",
      "BSV_NA_VIGNE_Nord_Aquitaine_19_20190730_cle819684  vigne                  2  \n",
      "BSV_2019_n18_cle02fbf1                             vigne                  2  \n",
      "                                                   FRUIT                  2  \n",
      "BSV_2019_n16_cle04a239                             Vigne                  2  \n",
      "                                                   FRUIT                  2  \n",
      "BSV_2019_n13_cle0f596d                             vigne                  2  \n",
      "BSV_NA_VIGNE_Nord_Aquitaine_07_20190507_cle8b2385  vignes                 2  \n",
      "BSV_Viticulture_2_17_mai_2019_cle8f88af            fruits                 2  \n",
      "bsv_viti_lr_n06_06052019-1_cle4a8957-1             fleurs                 2  \n",
      "BSV_2019_n13_cle0f596d                             soleil                 2  \n",
      "BSV_NA_VIGNE_Sud_Aquitaine_08_20190514_cle8e63bb   vignes                 2  \n",
      "BSV_2019_n13_cle0f596d                             Vigne                  2  \n",
      "bsv_viti_mp_gaillac_n13_25062019_cle0e5f7f         Vins                   1  \n",
      "                                                   pois                   1  \n",
      "bsv_viti_mp_cahors_n12_25062019_cle4cf277          cultures               1  \n",
      "bsv_viti_mp_gaillac_n13_25062019_cle0e5f7f         cultures               1  \n",
      "bsv_viti_mp_cahors_n19_20082019_cle4e16b4          vins                   1  \n",
      "bsv_viti_mp_cahors_n12_25062019_cle4cf277          Vigne                  1  \n",
      "bsv_viti_lr_n17_30072019_cle8cc4c8                 viticulture            1  \n",
      "bsv_raisin_n12_18062019_cle8578dc                  orangé                 1  \n",
      "BSV_viti_16_du_16-09-19_cle87b836                  raisin                 1  \n",
      "bsv_raisin_n12_18062019_cle8578dc                  raisin de table        1  \n",
      "                                                   vergers                1  \n",
      "bsv_viti_mp_cahors_n19_20082019_cle4e16b4          viticulture            1  \n",
      "bsv_raisin_n12_18062019_cle8578dc                  vigne                  1  \n",
      "bsv_viti_mp_cahors_n12_25062019_cle4cf277          pois                   1  \n",
      "bsv_raisin_n15_16072019_cle8c8617                  baie                   1  \n",
      "bsv_viti_mp_gaillac_n13_25062019_cle0e5f7f         Vigne                  1  \n",
      "bsv_raisin_n15_16072019_cle8c8617                  cultures               1  \n",
      "                                                   pois                   1  \n",
      "                                                   raisin de table        1  \n",
      "bsv_viti_mp_fronton_tarnetgaronne_n04_24042019_... Vigne                  1  \n",
      "bsv_viti_lr_n17_30072019_cle8cc4c8                 vergers                1  \n",
      "bsv_vigne_n17_gascogne_24072018_cle4238ae          Vigne                  1  \n",
      "bsv_viti_lr_n17_30072019_cle8cc4c8                 fleurs                 1  \n",
      "bsv_viti_mp_cahors_n12_25062019_cle4cf277          gel                    1  \n",
      "bsv_viti_mp_gaillac_n13_25062019_cle0e5f7f         vigne                  1  \n",
      "bsv_raisin_n12_18062019_cle8578dc                  baies                  1  \n",
      "bsv_viti_mp_fronton_tarnetgaronne_n04_24042019_... cultures               1  \n",
      "bsv_viti_mp_cahors_n17_30072019_cle434e53          pailles                1  \n",
      "bsv_viti_mp_gaillac_n18_30072019_cle0fe8aa         viticulture            1  \n",
      "bsv_viti_mp_cahors_n17_30072019_cle434e53          paille                 1  \n",
      "                                                   vins                   1  \n",
      "                                                   viticulture            1  \n",
      "                                                   baies                  1  \n",
      "bsv_viti_mp_gaillac_n18_30072019_cle0fe8aa         pailles                1  \n",
      "bsv_raisin_n07_14052019_cle85bd4c                  cultures               1  \n",
      "bsv_viti_mp_cahors_n17_30072019_cle434e53          zones non agricoles    1  \n",
      "bsv_raisin_n07_14052019_cle85bd4c                  raisin de table        1  \n",
      "bsv_viti_mp_cahors_n19_20082019_cle4e16b4          baies                  1  \n",
      "bsv_viti_mp_gaillac_n18_30072019_cle0fe8aa         paille                 1  \n",
      "bsv_viti_mp_cahors_n19_20082019_cle4e16b4          cultures               1  \n",
      "bsv_viti_mp_cahors_n17_30072019_cle434e53          Vigne                  1  \n",
      "bsv_viti_mp_cahors_n12_25062019_cle4cf277          viticulture            1  \n",
      "                                                   vins                   1  \n",
      "bsv_viti_mp_gaillac_n18_30072019_cle0fe8aa         Vins                   1  \n",
      "                                                   Vigne                  1  \n",
      "bsv_raisin_n12_18062019_cle8578dc                  arbres fruitiers       1  \n",
      "bsv_viti_mp_cahors_n12_25062019_cle4cf277          vigne                  1  \n",
      "bsv_viti_mp_gaillac_n13_25062019_cle0e5f7f         viticulture            1  \n",
      "bsv_vigne_n17_gascogne_24072018_cle4238ae          baie                   1  \n",
      "bsv_viti_lr_n03_16042019_cle82d51a                 gel                    1  \n",
      "                                                   cultures               1  \n",
      "bsv_viti_lr_n06_06052019-1_cle4a8957-1             orangé                 1  \n",
      "bsv_viti_mp_fronton_tarnetgaronne_n18_30072019_... zones non agricoles    1  \n",
      "bsv_viti_14_04_07_2019-1_cle888dd3                 soleil                 1  \n",
      "                                                   vigne                  1  \n",
      "bsv_viti_lr_n06_06052019-1_cle4a8957-1             vergers                1  \n",
      "bsv_viti_lr_n03_16042019_cle82d51a                 vignes                 1  \n",
      "bsv_viti_mp_fronton_tarnetgaronne_n18_30072019_... paille                 1  \n",
      "bsv_viti_17_25_07_2019_cle0a86e1                   Melon                  1  \n",
      "bsv_viti_lr_n03_16042019_cle82d51a                 vigne                  1  \n",
      "bsv_viti_mp_fronton_tarnetgaronne_n18_30072019_... pailles                1  \n",
      "bsv_viti_17_25_07_2019_cle0a86e1                   cultures               1  \n",
      "bsv_viti_lr_n06_06052019-1_cle4a8957-1             noyers                 1  \n",
      "bsv_viti_mp_fronton_tarnetgaronne_n13_25062019_... viticulture            1  \n",
      "bsv_viti_3_18_04_2019_cle43e1c9                    cultures               1  \n",
      "bsv_viti_lr_n06_06052019-1_cle4a8957-1             noyer                  1  \n",
      "bsv_viti_3_18_04_2019_cle43e1c9                    vigne                  1  \n",
      "                                                   vignes                 1  \n",
      "bsv_viti_lr_n06_06052019-1_cle4a8957-1             fruitiers              1  \n",
      "bsv_viti_lr_n03_16042019_cle82d51a                 Gel                    1  \n",
      "bsv_viti_mp_cahors_n17_30072019_cle434e53          pois                   1  \n",
      "bsv_viti_lr_n03_16042019_cle82d51a                 oranges                1  \n",
      "bsv_viti_mp_gaillac_n02_09042019_cle0bbe75         Vins                   1  \n",
      "                                                   Vigne                  1  \n",
      "bsv_viti_mp_fronton_tarnetgaronne_n18_30072019_... Vigne                  1  \n",
      "bsv_viti_mp_fronton_tarnetgaronne_n13_25062019_... vigne                  1  \n",
      "bsv_vigne_n17_gascogne_24072018_cle4238ae          cultures               1  \n",
      "bsv_viti_mp_gaillac_n02_09042019_cle0bbe75         fleurs                 1  \n",
      "bsv_viti_mp_fronton_tarnetgaronne_n04_24042019_... viticulture            1  \n",
      "bsv_vigne_n17_gascogne_24072018_cle4238ae          soleil                 1  \n",
      "bsv_viti_mp_fronton_tarnetgaronne_n13_25062019_... Vigne                  1  \n",
      "bsv_vigne_n17_gascogne_24072018_cle4238ae          vigne                  1  \n",
      "bsv_viti_mp_fronton_tarnetgaronne_n18_30072019_... viticulture            1  \n",
      "bsv_vigne_n17_gascogne_24072018_cle4238ae          viticulture            1  \n",
      "bsv_viti_lr_n06_06052019-1_cle4a8957-1             Noisette               1  \n",
      "                                                   cultures               1  \n",
      "bsv_viti_lr_n17_30072019_cle8cc4c8                 baie                   1  \n",
      "bsv_vigne_n21_gascogne_11092018_cle4c45ec          cultures               1  \n",
      "                                                   viticulture            1  \n",
      "bsv_viti_13_27_06_2019_cle07f426                   vignes                 1  \n",
      "bsv_viti_mp_gaillac_n02_09042019_cle0bbe75         cultures               1  \n",
      "bsv_viti_mp_fronton_tarnetgaronne_n13_25062019_... cultures               1  \n",
      "bsv_viti_lr_n17_30072019_cle8cc4c8                 arbres fruitiers       1  \n",
      "bsv_viti_13_27_06_2019_cle07f426                   cultures               1  \n",
      "bsv_viti_lr_n06_06052019-1_cle4a8957-1             fruit                  1  \n",
      "bsv_viti_13_27_06_2019_cle07f426                   fleurs                 1  \n",
      "                                                   fruits                 1  \n",
      "                                                   gels                   1  \n",
      "                                                   pois                   1  \n",
      "bsv_viti_lr_n03_16042019_cle82d51a                 viticulture            1  \n",
      "bsv_viti_mp_fronton_tarnetgaronne_n04_24042019_... vigne                  1  \n",
      "20190619_LOR_BSV_Viticulture_cle8c2fdf             CULTURES               1  \n",
      "BSV_viti_16_du_16-09-19_cle87b836                  cultures               1  \n",
      "BSV_NA_VIGNE_Haut-Poitou_03_20190430_cle4165b7     Viticulture            1  \n",
      "BSV_NA_VIGNE_Haut-Poitou_15_20190806_cle4c661d     cultures               1  \n",
      "                                                   Viticulture            1  \n",
      "                                                   Vin                    1  \n",
      "BSV_NA_VIGNE_Haut-Poitou_13_20190709_cle44ed93     cultures               1  \n",
      "                                                   Viticulture            1  \n",
      "                                                   Vin                    1  \n",
      "BSV_NA_VIGNE_Haut-Poitou_03_20190430_cle4165b7     marron                 1  \n",
      "                                                   cultures               1  \n",
      "                                                   Vin                    1  \n",
      "BSV_NA_VIGNE_Haut-Poitou_15_20190806_cle4c661d     fruits                 1  \n",
      "BSV_NA_VIGNE_CHARENTES_22_20190903_cle8f1178       vin                    1  \n",
      "                                                   vignes                 1  \n",
      "                                                   cultures               1  \n",
      "                                                   Vin                    1  \n",
      "BSV_NA_VIGNE_CHARENTES_19_20190806_cle88b155       cultures               1  \n",
      "                                                   baie                   1  \n",
      "                                                   Vin                    1  \n",
      "BSV_NA_VIGNE_CHARENTES_18_20190730_cle8d5827       baies                  1  \n",
      "BSV_NA_VIGNE_Haut-Poitou_15_20190806_cle4c661d     fleur                  1  \n",
      "BSV_NA_VIGNE_Limousin_02_20190409_cle81e534        Vin                    1  \n",
      "BSV_NA_VIGNE_CHARENTES_07_20190514_cle841735       vignes                 1  \n",
      "BSV_NA_VIGNE_Limousin_14_20190709_cle8d4f42        vigne                  1  \n",
      "BSV_NA_VIGNE_Nord_Aquitaine_04_20190416_cle876cf5  cultures               1  \n",
      "                                                   Gel                    1  \n",
      "BSV_NA_VIGNE_Limousin_17_20190730_cle835848        vigne                  1  \n",
      "                                                   soleil                 1  \n",
      "                                                   gel                    1  \n",
      "                                                   cultures               1  \n",
      "                                                   Vin                    1  \n",
      "                                                   Vignes                 1  \n",
      "BSV_NA_VIGNE_Limousin_14_20190709_cle8d4f42        soleil                 1  \n",
      "BSV_NA_VIGNE_Limousin_02_20190409_cle81e534        cultures               1  \n",
      "BSV_NA_VIGNE_Limousin_14_20190709_cle8d4f42        cultures               1  \n",
      "                                                   baie                   1  \n",
      "                                                   Vin                    1  \n",
      "BSV_NA_VIGNE_Limousin_07_20190522_cle81f925        cultures               1  \n",
      "                                                   Vin                    1  \n",
      "                                                   Gel                    1  \n",
      "BSV_NA_VIGNE_Limousin_02_20190409_cle81e534        vignes                 1  \n",
      "                                                   fleurs                 1  \n",
      "BSV_NA_VIGNE_CHARENTES_18_20190730_cle8d5827       Vin                    1  \n",
      "BSV_NA_VIGNE_CHARENTES_07_20190514_cle841735       rosiers                1  \n",
      "BSV_NA_VIGNE_Nord_Aquitaine_07_20190507_cle8b2385  Gel                    1  \n",
      "BSV-viti-RA-03_16-04-2019_cle0bbc57                Olivier                1  \n",
      "BSV-viti-RA-15_09-07-2019_cle01ba24                cultures               1  \n",
      "                                                   Vins                   1  \n",
      "                                                   Vigne                  1  \n",
      "                                                   Olivier                1  \n",
      "BSV-viti-RA-03_16-04-2019_cle0bbc57                vigne                  1  \n",
      "                                                   cultures               1  \n",
      "                                                   Vins                   1  \n",
      "                                                   Vigne                  1  \n",
      "20190731_LOR_Viticulture-1_cle45ef1d               vigne                  1  \n",
      "BSV-viti-RA-16_16-07-2019_cle0bfb92                Baie                   1  \n",
      "20190731_LOR_Viticulture-1_cle45ef1d               fruits                 1  \n",
      "                                                   Vigne                  1  \n",
      "                                                   VIGNE                  1  \n",
      "20190710_LOR_BSV_Viticulture_cle8bd128             Vigne                  1  \n",
      "                                                   VIGNE                  1  \n",
      "20190619_LOR_BSV_Viticulture_cle8c2fdf             cultures               1  \n",
      "                                                   Vigne                  1  \n",
      "                                                   VIGNE                  1  \n",
      "BSV-viti-RA-15_09-07-2019_cle01ba24                vigne                  1  \n",
      "BSV-viti-RA-16_16-07-2019_cle0bfb92                Olivier                1  \n",
      "BSV_NA_VIGNE_CHARENTES_07_20190514_cle841735       orange                 1  \n",
      "BSVViti_20190730_N22_cle019b19                     verger                 1  \n",
      "BSV_NA_VIGNE_CHARENTES_07_20190514_cle841735       cultures               1  \n",
      "                                                   Vin                    1  \n",
      "BSV_NA_VIGNE_CHARENTES_02_20190409_cle8ac81e       gel                    1  \n",
      "                                                   cultures               1  \n",
      "                                                   Vin                    1  \n",
      "                                                   Gel                    1  \n",
      "BSV_2019_n13_cle0f596d                             pois                   1  \n",
      "                                                   fleur                  1  \n",
      "BSVViti_20190730_N22_cle019b19                     fruits                 1  \n",
      "BSV-viti-RA-16_16-07-2019_cle0bfb92                Vigne                  1  \n",
      "BSVViti_20190730_N22_cle019b19                     baie                   1  \n",
      "BSVViti_20190618_N16_cle091811                     cultures               1  \n",
      "                                                   Baies                  1  \n",
      "BSVViti_20190409_N3_cle88a431                      gel                    1  \n",
      "                                                   Gel                    1  \n",
      "BSV-viti-RA-16_16-07-2019_cle0bfb92                fleur                  1  \n",
      "                                                   cultures               1  \n",
      "                                                   culture                1  \n",
      "BSV_NA_VIGNE_Nord_Aquitaine_04_20190416_cle876cf5  gel                    1  \n",
      "BSV_NA_VIGNE_Nord_Aquitaine_07_20190507_cle8b2385  cultures               1  \n",
      "BSV_viti_16_du_16-09-19_cle87b836                  Vigne                  1  \n",
      "BSV_Viticulture_5_18_juillet_2019_cle8b576d        citron                 1  \n",
      "                                                   melons                 1  \n",
      "                                                   mangue                 1  \n",
      "                                                   laurier                1  \n",
      "                                                   goyave                 1  \n",
      "                                                   fruits tropicale       1  \n",
      "                                                   fruitières             1  \n",
      "                                                   figue                  1  \n",
      "                                                   courges                1  \n",
      "                                                   cerise                 1  \n",
      "                                                   poire                  1  \n",
      "                                                   banane                 1  \n",
      "                                                   ananas                 1  \n",
      "                                                   amandiers              1  \n",
      "                                                   abricot                1  \n",
      "                                                   VITICULTURE            1  \n",
      "                                                   VIGNE                  1  \n",
      "                                                   Soleil                 1  \n",
      "BSV_Viticulture_2_17_mai_2019_cle8f88af            verger                 1  \n",
      "BSV_Viticulture_5_18_juillet_2019_cle8b576d        oliviers               1  \n",
      "                                                   poivrons               1  \n",
      "BSV_Viticulture_2_17_mai_2019_cle8f88af            tomate                 1  \n",
      "BSV_viti_12_du_02-07-19-1_cle05965f                Noyers                 1  \n",
      "BSV_viti_13_du_09-07-19_cle86811a                  soleil                 1  \n",
      "                                                   roses                  1  \n",
      "                                                   cultures               1  \n",
      "                                                   Vigne                  1  \n",
      "BSV_viti_12_du_02-07-19-1_cle05965f                soleil                 1  \n",
      "                                                   roses                  1  \n",
      "                                                   gel                    1  \n",
      "                                                   Vigne                  1  \n",
      "BSV_viti_01_du_16-04-19_cle878624                  cultures               1  \n",
      "BSV_Viticulture_5_18_juillet_2019_cle8b576d        raisins                1  \n",
      "BSV_viti_01_du_16-04-19_cle878624                  Vigne                  1  \n",
      "                                                   VITICULTURE            1  \n",
      "                                                   POIRIER                1  \n",
      "BSV_Viticulture_5_18_juillet_2019_cle8b576d        vignes                 1  \n",
      "                                                   verger                 1  \n",
      "                                                   tomates                1  \n",
      "                                                   tomate                 1  \n",
      "                                                   rose                   1  \n",
      "BSV_Viticulture_2_17_mai_2019_cle8f88af            tomates                1  \n",
      "                                                   rose                   1  \n",
      "BSV_NA_VIGNE_Nord_Aquitaine_17_20190716_cle8d5da5  Pois                   1  \n",
      "BSV_NA_VIGNE_Sud_Aquitaine_08_20190514_cle8e63bb   cultures               1  \n",
      "BSV_NA_VIGNE_Sud_Aquitaine_18_20190723_cle84e39a   vins                   1  \n",
      "                                                   raisin                 1  \n",
      "                                                   cultures               1  \n",
      "                                                   baie                   1  \n",
      "BSV_NA_VIGNE_Sud_Aquitaine_17_20190716_cle841a78   vins                   1  \n",
      "                                                   soleil                 1  \n",
      "                                                   cultures               1  \n",
      "BSV_NA_VIGNE_Sud_Aquitaine_08_20190514_cle8e63bb   vins                   1  \n",
      "BSV_NA_VIGNE_Sud_Aquitaine_02_20190401_01_cle4b... vins                   1  \n",
      "BSV_NA_VIGNE_Sud_Aquitaine_20_20190806_cle831e2b   cultures               1  \n",
      "BSV_NA_VIGNE_Sud_Aquitaine_02_20190401_01_cle4b... cultures               1  \n",
      "BSV_NA_VIGNE_Nord_Aquitaine_20_20190806_cle891ea2  raisin                 1  \n",
      "                                                   cultures               1  \n",
      "                                                   baie                   1  \n",
      "BSV_NA_VIGNE_Nord_Aquitaine_19_20190730_cle819684  raisin                 1  \n",
      "                                                   cultures               1  \n",
      "                                                   baie                   1  \n",
      "BSV_NA_VIGNE_Nord_Aquitaine_17_20190716_cle8d5da5  cultures               1  \n",
      "BSV_NA_VIGNE_Sud_Aquitaine_20_20190806_cle831e2b   baie                   1  \n",
      "                                                   raisin                 1  \n",
      "BSV_Viticulture_2_17_mai_2019_cle8f88af            poivrons               1  \n",
      "                                                   fleurs                 1  \n",
      "                                                   poire                  1  \n",
      "                                                   oliviers               1  \n",
      "                                                   melons                 1  \n",
      "                                                   mangue                 1  \n",
      "                                                   laurier                1  \n",
      "                                                   goyave                 1  \n",
      "                                                   fruits tropicale       1  \n",
      "                                                   fruitières             1  \n",
      "                                                   figue                  1  \n",
      "                                                   VITICULTURE            1  \n",
      "                                                   courges                1  \n",
      "                                                   citron                 1  \n",
      "                                                   cerise                 1  \n",
      "                                                   banane                 1  \n",
      "                                                   ananas                 1  \n",
      "                                                   amandiers              1  \n",
      "                                                   agrumes                1  \n",
      "                                                   abricot                1  \n",
      "bsv_viti_mp_gaillac_n18_30072019_cle0fe8aa         zones non agricoles    1  \n"
     ]
    }
   ],
   "source": [
    "with pd.option_context('display.max_rows', None, 'display.max_columns', None):  \n",
    "    print(df.groupby(['bsv', 'word'])['word'].describe().sort_values('count', ascending=False))"
   ]
  },
  {
   "cell_type": "code",
   "execution_count": 226,
   "metadata": {},
   "outputs": [
    {
     "data": {
      "application/vnd.plotly.v1+json": {
       "config": {
        "plotlyServerURL": "https://plot.ly"
       },
       "data": [
        {
         "hovertemplate": "x=%{x}<br>y=%{y}<extra></extra>",
         "legendgroup": "",
         "marker": {
          "color": "#636efa",
          "symbol": "circle"
         },
         "mode": "markers",
         "name": "",
         "orientation": "v",
         "showlegend": false,
         "type": "scatter",
         "x": [
          "vigne",
          "baies",
          "viticulture",
          "cultures",
          "vignes",
          "pois",
          "gel",
          "soleil",
          "fruit",
          "semences",
          "raisin de table",
          "vins",
          "culture",
          "baie",
          "vin",
          "fleurs",
          "fruits",
          "tournesol",
          "melon",
          "noyers",
          "raisin",
          "verger",
          "agrumes",
          "noix",
          "zones non agricoles",
          "fleur",
          "paille",
          "pailles",
          "vergers",
          "olivier",
          "ananas",
          "oliviers",
          "arbres fruitiers",
          "tomates",
          "melons",
          "poire",
          "mangue",
          "rose",
          "roses",
          "courges",
          "cerise",
          "amandiers",
          "tomate",
          "fruits tropicale",
          "orangé",
          "fruitières",
          "poivrons",
          "abricot",
          "figue",
          "citron",
          "banane",
          "goyave",
          "laurier",
          "gels",
          "noisette",
          "poirier",
          "orange",
          "fruitiers",
          "oranges",
          "noyer",
          "marron",
          "rosiers",
          "raisins"
         ],
         "xaxis": "x",
         "y": [
          350,
          243,
          238,
          94,
          69,
          62,
          38,
          30,
          29,
          27,
          21,
          16,
          16,
          13,
          13,
          13,
          10,
          9,
          8,
          5,
          5,
          5,
          4,
          4,
          3,
          3,
          3,
          3,
          3,
          3,
          2,
          2,
          2,
          2,
          2,
          2,
          2,
          2,
          2,
          2,
          2,
          2,
          2,
          2,
          2,
          2,
          2,
          2,
          2,
          2,
          2,
          2,
          2,
          1,
          1,
          1,
          1,
          1,
          1,
          1,
          1,
          1,
          1
         ],
         "yaxis": "y"
        }
       ],
       "layout": {
        "legend": {
         "tracegroupgap": 0
        },
        "margin": {
         "t": 60
        },
        "template": {
         "data": {
          "bar": [
           {
            "error_x": {
             "color": "#2a3f5f"
            },
            "error_y": {
             "color": "#2a3f5f"
            },
            "marker": {
             "line": {
              "color": "#E5ECF6",
              "width": 0.5
             }
            },
            "type": "bar"
           }
          ],
          "barpolar": [
           {
            "marker": {
             "line": {
              "color": "#E5ECF6",
              "width": 0.5
             }
            },
            "type": "barpolar"
           }
          ],
          "carpet": [
           {
            "aaxis": {
             "endlinecolor": "#2a3f5f",
             "gridcolor": "white",
             "linecolor": "white",
             "minorgridcolor": "white",
             "startlinecolor": "#2a3f5f"
            },
            "baxis": {
             "endlinecolor": "#2a3f5f",
             "gridcolor": "white",
             "linecolor": "white",
             "minorgridcolor": "white",
             "startlinecolor": "#2a3f5f"
            },
            "type": "carpet"
           }
          ],
          "choropleth": [
           {
            "colorbar": {
             "outlinewidth": 0,
             "ticks": ""
            },
            "type": "choropleth"
           }
          ],
          "contour": [
           {
            "colorbar": {
             "outlinewidth": 0,
             "ticks": ""
            },
            "colorscale": [
             [
              0,
              "#0d0887"
             ],
             [
              0.1111111111111111,
              "#46039f"
             ],
             [
              0.2222222222222222,
              "#7201a8"
             ],
             [
              0.3333333333333333,
              "#9c179e"
             ],
             [
              0.4444444444444444,
              "#bd3786"
             ],
             [
              0.5555555555555556,
              "#d8576b"
             ],
             [
              0.6666666666666666,
              "#ed7953"
             ],
             [
              0.7777777777777778,
              "#fb9f3a"
             ],
             [
              0.8888888888888888,
              "#fdca26"
             ],
             [
              1,
              "#f0f921"
             ]
            ],
            "type": "contour"
           }
          ],
          "contourcarpet": [
           {
            "colorbar": {
             "outlinewidth": 0,
             "ticks": ""
            },
            "type": "contourcarpet"
           }
          ],
          "heatmap": [
           {
            "colorbar": {
             "outlinewidth": 0,
             "ticks": ""
            },
            "colorscale": [
             [
              0,
              "#0d0887"
             ],
             [
              0.1111111111111111,
              "#46039f"
             ],
             [
              0.2222222222222222,
              "#7201a8"
             ],
             [
              0.3333333333333333,
              "#9c179e"
             ],
             [
              0.4444444444444444,
              "#bd3786"
             ],
             [
              0.5555555555555556,
              "#d8576b"
             ],
             [
              0.6666666666666666,
              "#ed7953"
             ],
             [
              0.7777777777777778,
              "#fb9f3a"
             ],
             [
              0.8888888888888888,
              "#fdca26"
             ],
             [
              1,
              "#f0f921"
             ]
            ],
            "type": "heatmap"
           }
          ],
          "heatmapgl": [
           {
            "colorbar": {
             "outlinewidth": 0,
             "ticks": ""
            },
            "colorscale": [
             [
              0,
              "#0d0887"
             ],
             [
              0.1111111111111111,
              "#46039f"
             ],
             [
              0.2222222222222222,
              "#7201a8"
             ],
             [
              0.3333333333333333,
              "#9c179e"
             ],
             [
              0.4444444444444444,
              "#bd3786"
             ],
             [
              0.5555555555555556,
              "#d8576b"
             ],
             [
              0.6666666666666666,
              "#ed7953"
             ],
             [
              0.7777777777777778,
              "#fb9f3a"
             ],
             [
              0.8888888888888888,
              "#fdca26"
             ],
             [
              1,
              "#f0f921"
             ]
            ],
            "type": "heatmapgl"
           }
          ],
          "histogram": [
           {
            "marker": {
             "colorbar": {
              "outlinewidth": 0,
              "ticks": ""
             }
            },
            "type": "histogram"
           }
          ],
          "histogram2d": [
           {
            "colorbar": {
             "outlinewidth": 0,
             "ticks": ""
            },
            "colorscale": [
             [
              0,
              "#0d0887"
             ],
             [
              0.1111111111111111,
              "#46039f"
             ],
             [
              0.2222222222222222,
              "#7201a8"
             ],
             [
              0.3333333333333333,
              "#9c179e"
             ],
             [
              0.4444444444444444,
              "#bd3786"
             ],
             [
              0.5555555555555556,
              "#d8576b"
             ],
             [
              0.6666666666666666,
              "#ed7953"
             ],
             [
              0.7777777777777778,
              "#fb9f3a"
             ],
             [
              0.8888888888888888,
              "#fdca26"
             ],
             [
              1,
              "#f0f921"
             ]
            ],
            "type": "histogram2d"
           }
          ],
          "histogram2dcontour": [
           {
            "colorbar": {
             "outlinewidth": 0,
             "ticks": ""
            },
            "colorscale": [
             [
              0,
              "#0d0887"
             ],
             [
              0.1111111111111111,
              "#46039f"
             ],
             [
              0.2222222222222222,
              "#7201a8"
             ],
             [
              0.3333333333333333,
              "#9c179e"
             ],
             [
              0.4444444444444444,
              "#bd3786"
             ],
             [
              0.5555555555555556,
              "#d8576b"
             ],
             [
              0.6666666666666666,
              "#ed7953"
             ],
             [
              0.7777777777777778,
              "#fb9f3a"
             ],
             [
              0.8888888888888888,
              "#fdca26"
             ],
             [
              1,
              "#f0f921"
             ]
            ],
            "type": "histogram2dcontour"
           }
          ],
          "mesh3d": [
           {
            "colorbar": {
             "outlinewidth": 0,
             "ticks": ""
            },
            "type": "mesh3d"
           }
          ],
          "parcoords": [
           {
            "line": {
             "colorbar": {
              "outlinewidth": 0,
              "ticks": ""
             }
            },
            "type": "parcoords"
           }
          ],
          "pie": [
           {
            "automargin": true,
            "type": "pie"
           }
          ],
          "scatter": [
           {
            "marker": {
             "colorbar": {
              "outlinewidth": 0,
              "ticks": ""
             }
            },
            "type": "scatter"
           }
          ],
          "scatter3d": [
           {
            "line": {
             "colorbar": {
              "outlinewidth": 0,
              "ticks": ""
             }
            },
            "marker": {
             "colorbar": {
              "outlinewidth": 0,
              "ticks": ""
             }
            },
            "type": "scatter3d"
           }
          ],
          "scattercarpet": [
           {
            "marker": {
             "colorbar": {
              "outlinewidth": 0,
              "ticks": ""
             }
            },
            "type": "scattercarpet"
           }
          ],
          "scattergeo": [
           {
            "marker": {
             "colorbar": {
              "outlinewidth": 0,
              "ticks": ""
             }
            },
            "type": "scattergeo"
           }
          ],
          "scattergl": [
           {
            "marker": {
             "colorbar": {
              "outlinewidth": 0,
              "ticks": ""
             }
            },
            "type": "scattergl"
           }
          ],
          "scattermapbox": [
           {
            "marker": {
             "colorbar": {
              "outlinewidth": 0,
              "ticks": ""
             }
            },
            "type": "scattermapbox"
           }
          ],
          "scatterpolar": [
           {
            "marker": {
             "colorbar": {
              "outlinewidth": 0,
              "ticks": ""
             }
            },
            "type": "scatterpolar"
           }
          ],
          "scatterpolargl": [
           {
            "marker": {
             "colorbar": {
              "outlinewidth": 0,
              "ticks": ""
             }
            },
            "type": "scatterpolargl"
           }
          ],
          "scatterternary": [
           {
            "marker": {
             "colorbar": {
              "outlinewidth": 0,
              "ticks": ""
             }
            },
            "type": "scatterternary"
           }
          ],
          "surface": [
           {
            "colorbar": {
             "outlinewidth": 0,
             "ticks": ""
            },
            "colorscale": [
             [
              0,
              "#0d0887"
             ],
             [
              0.1111111111111111,
              "#46039f"
             ],
             [
              0.2222222222222222,
              "#7201a8"
             ],
             [
              0.3333333333333333,
              "#9c179e"
             ],
             [
              0.4444444444444444,
              "#bd3786"
             ],
             [
              0.5555555555555556,
              "#d8576b"
             ],
             [
              0.6666666666666666,
              "#ed7953"
             ],
             [
              0.7777777777777778,
              "#fb9f3a"
             ],
             [
              0.8888888888888888,
              "#fdca26"
             ],
             [
              1,
              "#f0f921"
             ]
            ],
            "type": "surface"
           }
          ],
          "table": [
           {
            "cells": {
             "fill": {
              "color": "#EBF0F8"
             },
             "line": {
              "color": "white"
             }
            },
            "header": {
             "fill": {
              "color": "#C8D4E3"
             },
             "line": {
              "color": "white"
             }
            },
            "type": "table"
           }
          ]
         },
         "layout": {
          "annotationdefaults": {
           "arrowcolor": "#2a3f5f",
           "arrowhead": 0,
           "arrowwidth": 1
          },
          "autotypenumbers": "strict",
          "coloraxis": {
           "colorbar": {
            "outlinewidth": 0,
            "ticks": ""
           }
          },
          "colorscale": {
           "diverging": [
            [
             0,
             "#8e0152"
            ],
            [
             0.1,
             "#c51b7d"
            ],
            [
             0.2,
             "#de77ae"
            ],
            [
             0.3,
             "#f1b6da"
            ],
            [
             0.4,
             "#fde0ef"
            ],
            [
             0.5,
             "#f7f7f7"
            ],
            [
             0.6,
             "#e6f5d0"
            ],
            [
             0.7,
             "#b8e186"
            ],
            [
             0.8,
             "#7fbc41"
            ],
            [
             0.9,
             "#4d9221"
            ],
            [
             1,
             "#276419"
            ]
           ],
           "sequential": [
            [
             0,
             "#0d0887"
            ],
            [
             0.1111111111111111,
             "#46039f"
            ],
            [
             0.2222222222222222,
             "#7201a8"
            ],
            [
             0.3333333333333333,
             "#9c179e"
            ],
            [
             0.4444444444444444,
             "#bd3786"
            ],
            [
             0.5555555555555556,
             "#d8576b"
            ],
            [
             0.6666666666666666,
             "#ed7953"
            ],
            [
             0.7777777777777778,
             "#fb9f3a"
            ],
            [
             0.8888888888888888,
             "#fdca26"
            ],
            [
             1,
             "#f0f921"
            ]
           ],
           "sequentialminus": [
            [
             0,
             "#0d0887"
            ],
            [
             0.1111111111111111,
             "#46039f"
            ],
            [
             0.2222222222222222,
             "#7201a8"
            ],
            [
             0.3333333333333333,
             "#9c179e"
            ],
            [
             0.4444444444444444,
             "#bd3786"
            ],
            [
             0.5555555555555556,
             "#d8576b"
            ],
            [
             0.6666666666666666,
             "#ed7953"
            ],
            [
             0.7777777777777778,
             "#fb9f3a"
            ],
            [
             0.8888888888888888,
             "#fdca26"
            ],
            [
             1,
             "#f0f921"
            ]
           ]
          },
          "colorway": [
           "#636efa",
           "#EF553B",
           "#00cc96",
           "#ab63fa",
           "#FFA15A",
           "#19d3f3",
           "#FF6692",
           "#B6E880",
           "#FF97FF",
           "#FECB52"
          ],
          "font": {
           "color": "#2a3f5f"
          },
          "geo": {
           "bgcolor": "white",
           "lakecolor": "white",
           "landcolor": "#E5ECF6",
           "showlakes": true,
           "showland": true,
           "subunitcolor": "white"
          },
          "hoverlabel": {
           "align": "left"
          },
          "hovermode": "closest",
          "mapbox": {
           "style": "light"
          },
          "paper_bgcolor": "white",
          "plot_bgcolor": "#E5ECF6",
          "polar": {
           "angularaxis": {
            "gridcolor": "white",
            "linecolor": "white",
            "ticks": ""
           },
           "bgcolor": "#E5ECF6",
           "radialaxis": {
            "gridcolor": "white",
            "linecolor": "white",
            "ticks": ""
           }
          },
          "scene": {
           "xaxis": {
            "backgroundcolor": "#E5ECF6",
            "gridcolor": "white",
            "gridwidth": 2,
            "linecolor": "white",
            "showbackground": true,
            "ticks": "",
            "zerolinecolor": "white"
           },
           "yaxis": {
            "backgroundcolor": "#E5ECF6",
            "gridcolor": "white",
            "gridwidth": 2,
            "linecolor": "white",
            "showbackground": true,
            "ticks": "",
            "zerolinecolor": "white"
           },
           "zaxis": {
            "backgroundcolor": "#E5ECF6",
            "gridcolor": "white",
            "gridwidth": 2,
            "linecolor": "white",
            "showbackground": true,
            "ticks": "",
            "zerolinecolor": "white"
           }
          },
          "shapedefaults": {
           "line": {
            "color": "#2a3f5f"
           }
          },
          "ternary": {
           "aaxis": {
            "gridcolor": "white",
            "linecolor": "white",
            "ticks": ""
           },
           "baxis": {
            "gridcolor": "white",
            "linecolor": "white",
            "ticks": ""
           },
           "bgcolor": "#E5ECF6",
           "caxis": {
            "gridcolor": "white",
            "linecolor": "white",
            "ticks": ""
           }
          },
          "title": {
           "x": 0.05
          },
          "xaxis": {
           "automargin": true,
           "gridcolor": "white",
           "linecolor": "white",
           "ticks": "",
           "title": {
            "standoff": 15
           },
           "zerolinecolor": "white",
           "zerolinewidth": 2
          },
          "yaxis": {
           "automargin": true,
           "gridcolor": "white",
           "linecolor": "white",
           "ticks": "",
           "title": {
            "standoff": 15
           },
           "zerolinecolor": "white",
           "zerolinewidth": 2
          }
         }
        },
        "xaxis": {
         "anchor": "y",
         "domain": [
          0,
          1
         ],
         "title": {
          "text": "x"
         }
        },
        "yaxis": {
         "anchor": "x",
         "domain": [
          0,
          1
         ],
         "title": {
          "text": "y"
         }
        }
       }
      },
      "text/html": [
       "<div>                            <div id=\"ffd6c23d-1938-494b-891e-b414e90fafcf\" class=\"plotly-graph-div\" style=\"height:525px; width:100%;\"></div>            <script type=\"text/javascript\">                require([\"plotly\"], function(Plotly) {                    window.PLOTLYENV=window.PLOTLYENV || {};                                    if (document.getElementById(\"ffd6c23d-1938-494b-891e-b414e90fafcf\")) {                    Plotly.newPlot(                        \"ffd6c23d-1938-494b-891e-b414e90fafcf\",                        [{\"hovertemplate\": \"x=%{x}<br>y=%{y}<extra></extra>\", \"legendgroup\": \"\", \"marker\": {\"color\": \"#636efa\", \"symbol\": \"circle\"}, \"mode\": \"markers\", \"name\": \"\", \"orientation\": \"v\", \"showlegend\": false, \"type\": \"scatter\", \"x\": [\"vigne\", \"baies\", \"viticulture\", \"cultures\", \"vignes\", \"pois\", \"gel\", \"soleil\", \"fruit\", \"semences\", \"raisin de table\", \"vins\", \"culture\", \"baie\", \"vin\", \"fleurs\", \"fruits\", \"tournesol\", \"melon\", \"noyers\", \"raisin\", \"verger\", \"agrumes\", \"noix\", \"zones non agricoles\", \"fleur\", \"paille\", \"pailles\", \"vergers\", \"olivier\", \"ananas\", \"oliviers\", \"arbres fruitiers\", \"tomates\", \"melons\", \"poire\", \"mangue\", \"rose\", \"roses\", \"courges\", \"cerise\", \"amandiers\", \"tomate\", \"fruits tropicale\", \"orang\\u00e9\", \"fruiti\\u00e8res\", \"poivrons\", \"abricot\", \"figue\", \"citron\", \"banane\", \"goyave\", \"laurier\", \"gels\", \"noisette\", \"poirier\", \"orange\", \"fruitiers\", \"oranges\", \"noyer\", \"marron\", \"rosiers\", \"raisins\"], \"xaxis\": \"x\", \"y\": [350, 243, 238, 94, 69, 62, 38, 30, 29, 27, 21, 16, 16, 13, 13, 13, 10, 9, 8, 5, 5, 5, 4, 4, 3, 3, 3, 3, 3, 3, 2, 2, 2, 2, 2, 2, 2, 2, 2, 2, 2, 2, 2, 2, 2, 2, 2, 2, 2, 2, 2, 2, 2, 1, 1, 1, 1, 1, 1, 1, 1, 1, 1], \"yaxis\": \"y\"}],                        {\"legend\": {\"tracegroupgap\": 0}, \"margin\": {\"t\": 60}, \"template\": {\"data\": {\"bar\": [{\"error_x\": {\"color\": \"#2a3f5f\"}, \"error_y\": {\"color\": \"#2a3f5f\"}, \"marker\": {\"line\": {\"color\": \"#E5ECF6\", \"width\": 0.5}}, \"type\": \"bar\"}], \"barpolar\": [{\"marker\": {\"line\": {\"color\": \"#E5ECF6\", \"width\": 0.5}}, \"type\": \"barpolar\"}], \"carpet\": [{\"aaxis\": {\"endlinecolor\": \"#2a3f5f\", \"gridcolor\": \"white\", \"linecolor\": \"white\", \"minorgridcolor\": \"white\", \"startlinecolor\": \"#2a3f5f\"}, \"baxis\": {\"endlinecolor\": \"#2a3f5f\", \"gridcolor\": \"white\", \"linecolor\": \"white\", \"minorgridcolor\": \"white\", \"startlinecolor\": \"#2a3f5f\"}, \"type\": \"carpet\"}], \"choropleth\": [{\"colorbar\": {\"outlinewidth\": 0, \"ticks\": \"\"}, \"type\": \"choropleth\"}], \"contour\": [{\"colorbar\": {\"outlinewidth\": 0, \"ticks\": \"\"}, \"colorscale\": [[0.0, \"#0d0887\"], [0.1111111111111111, \"#46039f\"], [0.2222222222222222, \"#7201a8\"], [0.3333333333333333, \"#9c179e\"], [0.4444444444444444, \"#bd3786\"], [0.5555555555555556, \"#d8576b\"], [0.6666666666666666, \"#ed7953\"], [0.7777777777777778, \"#fb9f3a\"], [0.8888888888888888, \"#fdca26\"], [1.0, \"#f0f921\"]], \"type\": \"contour\"}], \"contourcarpet\": [{\"colorbar\": {\"outlinewidth\": 0, \"ticks\": \"\"}, \"type\": \"contourcarpet\"}], \"heatmap\": [{\"colorbar\": {\"outlinewidth\": 0, \"ticks\": \"\"}, \"colorscale\": [[0.0, \"#0d0887\"], [0.1111111111111111, \"#46039f\"], [0.2222222222222222, \"#7201a8\"], [0.3333333333333333, \"#9c179e\"], [0.4444444444444444, \"#bd3786\"], [0.5555555555555556, \"#d8576b\"], [0.6666666666666666, \"#ed7953\"], [0.7777777777777778, \"#fb9f3a\"], [0.8888888888888888, \"#fdca26\"], [1.0, \"#f0f921\"]], \"type\": \"heatmap\"}], \"heatmapgl\": [{\"colorbar\": {\"outlinewidth\": 0, \"ticks\": \"\"}, \"colorscale\": [[0.0, \"#0d0887\"], [0.1111111111111111, \"#46039f\"], [0.2222222222222222, \"#7201a8\"], [0.3333333333333333, \"#9c179e\"], [0.4444444444444444, \"#bd3786\"], [0.5555555555555556, \"#d8576b\"], [0.6666666666666666, \"#ed7953\"], [0.7777777777777778, \"#fb9f3a\"], [0.8888888888888888, \"#fdca26\"], [1.0, \"#f0f921\"]], \"type\": \"heatmapgl\"}], \"histogram\": [{\"marker\": {\"colorbar\": {\"outlinewidth\": 0, \"ticks\": \"\"}}, \"type\": \"histogram\"}], \"histogram2d\": [{\"colorbar\": {\"outlinewidth\": 0, \"ticks\": \"\"}, \"colorscale\": [[0.0, \"#0d0887\"], [0.1111111111111111, \"#46039f\"], [0.2222222222222222, \"#7201a8\"], [0.3333333333333333, \"#9c179e\"], [0.4444444444444444, \"#bd3786\"], [0.5555555555555556, \"#d8576b\"], [0.6666666666666666, \"#ed7953\"], [0.7777777777777778, \"#fb9f3a\"], [0.8888888888888888, \"#fdca26\"], [1.0, \"#f0f921\"]], \"type\": \"histogram2d\"}], \"histogram2dcontour\": [{\"colorbar\": {\"outlinewidth\": 0, \"ticks\": \"\"}, \"colorscale\": [[0.0, \"#0d0887\"], [0.1111111111111111, \"#46039f\"], [0.2222222222222222, \"#7201a8\"], [0.3333333333333333, \"#9c179e\"], [0.4444444444444444, \"#bd3786\"], [0.5555555555555556, \"#d8576b\"], [0.6666666666666666, \"#ed7953\"], [0.7777777777777778, \"#fb9f3a\"], [0.8888888888888888, \"#fdca26\"], [1.0, \"#f0f921\"]], \"type\": \"histogram2dcontour\"}], \"mesh3d\": [{\"colorbar\": {\"outlinewidth\": 0, \"ticks\": \"\"}, \"type\": \"mesh3d\"}], \"parcoords\": [{\"line\": {\"colorbar\": {\"outlinewidth\": 0, \"ticks\": \"\"}}, \"type\": \"parcoords\"}], \"pie\": [{\"automargin\": true, \"type\": \"pie\"}], \"scatter\": [{\"marker\": {\"colorbar\": {\"outlinewidth\": 0, \"ticks\": \"\"}}, \"type\": \"scatter\"}], \"scatter3d\": [{\"line\": {\"colorbar\": {\"outlinewidth\": 0, \"ticks\": \"\"}}, \"marker\": {\"colorbar\": {\"outlinewidth\": 0, \"ticks\": \"\"}}, \"type\": \"scatter3d\"}], \"scattercarpet\": [{\"marker\": {\"colorbar\": {\"outlinewidth\": 0, \"ticks\": \"\"}}, \"type\": \"scattercarpet\"}], \"scattergeo\": [{\"marker\": {\"colorbar\": {\"outlinewidth\": 0, \"ticks\": \"\"}}, \"type\": \"scattergeo\"}], \"scattergl\": [{\"marker\": {\"colorbar\": {\"outlinewidth\": 0, \"ticks\": \"\"}}, \"type\": \"scattergl\"}], \"scattermapbox\": [{\"marker\": {\"colorbar\": {\"outlinewidth\": 0, \"ticks\": \"\"}}, \"type\": \"scattermapbox\"}], \"scatterpolar\": [{\"marker\": {\"colorbar\": {\"outlinewidth\": 0, \"ticks\": \"\"}}, \"type\": \"scatterpolar\"}], \"scatterpolargl\": [{\"marker\": {\"colorbar\": {\"outlinewidth\": 0, \"ticks\": \"\"}}, \"type\": \"scatterpolargl\"}], \"scatterternary\": [{\"marker\": {\"colorbar\": {\"outlinewidth\": 0, \"ticks\": \"\"}}, \"type\": \"scatterternary\"}], \"surface\": [{\"colorbar\": {\"outlinewidth\": 0, \"ticks\": \"\"}, \"colorscale\": [[0.0, \"#0d0887\"], [0.1111111111111111, \"#46039f\"], [0.2222222222222222, \"#7201a8\"], [0.3333333333333333, \"#9c179e\"], [0.4444444444444444, \"#bd3786\"], [0.5555555555555556, \"#d8576b\"], [0.6666666666666666, \"#ed7953\"], [0.7777777777777778, \"#fb9f3a\"], [0.8888888888888888, \"#fdca26\"], [1.0, \"#f0f921\"]], \"type\": \"surface\"}], \"table\": [{\"cells\": {\"fill\": {\"color\": \"#EBF0F8\"}, \"line\": {\"color\": \"white\"}}, \"header\": {\"fill\": {\"color\": \"#C8D4E3\"}, \"line\": {\"color\": \"white\"}}, \"type\": \"table\"}]}, \"layout\": {\"annotationdefaults\": {\"arrowcolor\": \"#2a3f5f\", \"arrowhead\": 0, \"arrowwidth\": 1}, \"autotypenumbers\": \"strict\", \"coloraxis\": {\"colorbar\": {\"outlinewidth\": 0, \"ticks\": \"\"}}, \"colorscale\": {\"diverging\": [[0, \"#8e0152\"], [0.1, \"#c51b7d\"], [0.2, \"#de77ae\"], [0.3, \"#f1b6da\"], [0.4, \"#fde0ef\"], [0.5, \"#f7f7f7\"], [0.6, \"#e6f5d0\"], [0.7, \"#b8e186\"], [0.8, \"#7fbc41\"], [0.9, \"#4d9221\"], [1, \"#276419\"]], \"sequential\": [[0.0, \"#0d0887\"], [0.1111111111111111, \"#46039f\"], [0.2222222222222222, \"#7201a8\"], [0.3333333333333333, \"#9c179e\"], [0.4444444444444444, \"#bd3786\"], [0.5555555555555556, \"#d8576b\"], [0.6666666666666666, \"#ed7953\"], [0.7777777777777778, \"#fb9f3a\"], [0.8888888888888888, \"#fdca26\"], [1.0, \"#f0f921\"]], \"sequentialminus\": [[0.0, \"#0d0887\"], [0.1111111111111111, \"#46039f\"], [0.2222222222222222, \"#7201a8\"], [0.3333333333333333, \"#9c179e\"], [0.4444444444444444, \"#bd3786\"], [0.5555555555555556, \"#d8576b\"], [0.6666666666666666, \"#ed7953\"], [0.7777777777777778, \"#fb9f3a\"], [0.8888888888888888, \"#fdca26\"], [1.0, \"#f0f921\"]]}, \"colorway\": [\"#636efa\", \"#EF553B\", \"#00cc96\", \"#ab63fa\", \"#FFA15A\", \"#19d3f3\", \"#FF6692\", \"#B6E880\", \"#FF97FF\", \"#FECB52\"], \"font\": {\"color\": \"#2a3f5f\"}, \"geo\": {\"bgcolor\": \"white\", \"lakecolor\": \"white\", \"landcolor\": \"#E5ECF6\", \"showlakes\": true, \"showland\": true, \"subunitcolor\": \"white\"}, \"hoverlabel\": {\"align\": \"left\"}, \"hovermode\": \"closest\", \"mapbox\": {\"style\": \"light\"}, \"paper_bgcolor\": \"white\", \"plot_bgcolor\": \"#E5ECF6\", \"polar\": {\"angularaxis\": {\"gridcolor\": \"white\", \"linecolor\": \"white\", \"ticks\": \"\"}, \"bgcolor\": \"#E5ECF6\", \"radialaxis\": {\"gridcolor\": \"white\", \"linecolor\": \"white\", \"ticks\": \"\"}}, \"scene\": {\"xaxis\": {\"backgroundcolor\": \"#E5ECF6\", \"gridcolor\": \"white\", \"gridwidth\": 2, \"linecolor\": \"white\", \"showbackground\": true, \"ticks\": \"\", \"zerolinecolor\": \"white\"}, \"yaxis\": {\"backgroundcolor\": \"#E5ECF6\", \"gridcolor\": \"white\", \"gridwidth\": 2, \"linecolor\": \"white\", \"showbackground\": true, \"ticks\": \"\", \"zerolinecolor\": \"white\"}, \"zaxis\": {\"backgroundcolor\": \"#E5ECF6\", \"gridcolor\": \"white\", \"gridwidth\": 2, \"linecolor\": \"white\", \"showbackground\": true, \"ticks\": \"\", \"zerolinecolor\": \"white\"}}, \"shapedefaults\": {\"line\": {\"color\": \"#2a3f5f\"}}, \"ternary\": {\"aaxis\": {\"gridcolor\": \"white\", \"linecolor\": \"white\", \"ticks\": \"\"}, \"baxis\": {\"gridcolor\": \"white\", \"linecolor\": \"white\", \"ticks\": \"\"}, \"bgcolor\": \"#E5ECF6\", \"caxis\": {\"gridcolor\": \"white\", \"linecolor\": \"white\", \"ticks\": \"\"}}, \"title\": {\"x\": 0.05}, \"xaxis\": {\"automargin\": true, \"gridcolor\": \"white\", \"linecolor\": \"white\", \"ticks\": \"\", \"title\": {\"standoff\": 15}, \"zerolinecolor\": \"white\", \"zerolinewidth\": 2}, \"yaxis\": {\"automargin\": true, \"gridcolor\": \"white\", \"linecolor\": \"white\", \"ticks\": \"\", \"title\": {\"standoff\": 15}, \"zerolinecolor\": \"white\", \"zerolinewidth\": 2}}}, \"xaxis\": {\"anchor\": \"y\", \"domain\": [0.0, 1.0], \"title\": {\"text\": \"x\"}}, \"yaxis\": {\"anchor\": \"x\", \"domain\": [0.0, 1.0], \"title\": {\"text\": \"y\"}}},                        {\"responsive\": true}                    ).then(function(){\n",
       "                            \n",
       "var gd = document.getElementById('ffd6c23d-1938-494b-891e-b414e90fafcf');\n",
       "var x = new MutationObserver(function (mutations, observer) {{\n",
       "        var display = window.getComputedStyle(gd).display;\n",
       "        if (!display || display === 'none') {{\n",
       "            console.log([gd, 'removed!']);\n",
       "            Plotly.purge(gd);\n",
       "            observer.disconnect();\n",
       "        }}\n",
       "}});\n",
       "\n",
       "// Listen for the removal of the full notebook cells\n",
       "var notebookContainer = gd.closest('#notebook-container');\n",
       "if (notebookContainer) {{\n",
       "    x.observe(notebookContainer, {childList: true});\n",
       "}}\n",
       "\n",
       "// Listen for the clearing of the current output cell\n",
       "var outputEl = gd.closest('.output');\n",
       "if (outputEl) {{\n",
       "    x.observe(outputEl, {childList: true});\n",
       "}}\n",
       "\n",
       "                        })                };                });            </script>        </div>"
      ]
     },
     "metadata": {},
     "output_type": "display_data"
    }
   ],
   "source": [
    "import plotly.express as px\n",
    "df = px.data.iris() # iris is a pandas DataFrame\n",
    "fig = px.scatter(df, x=true_labels, y=features)\n",
    "fig.show()"
   ]
  },
  {
   "cell_type": "code",
   "execution_count": 238,
   "metadata": {},
   "outputs": [
    {
     "data": {
      "application/vnd.plotly.v1+json": {
       "config": {
        "plotlyServerURL": "https://plot.ly"
       },
       "data": [
        {
         "marker": {
          "color": [
           "rgb(93, 164, 214)",
           "rgb(255, 144, 14)",
           "rgb(44, 160, 101)",
           "rgb(255, 65, 54)"
          ],
          "opacity": [
           1,
           0.8,
           0.6,
           0.4
          ],
          "size": [
           350,
           243,
           238,
           94,
           69,
           62,
           38,
           30,
           29,
           27,
           21,
           16,
           16,
           13,
           13,
           13,
           10,
           9,
           8,
           5,
           5,
           5,
           4,
           4,
           3,
           3,
           3,
           3,
           3,
           3,
           2,
           2,
           2,
           2,
           2,
           2,
           2,
           2,
           2,
           2,
           2,
           2,
           2,
           2,
           2,
           2,
           2,
           2,
           2,
           2,
           2,
           2,
           2,
           1,
           1,
           1,
           1,
           1,
           1,
           1,
           1,
           1,
           1
          ],
          "sizemin": 4,
          "sizemode": "area",
          "sizeref": 0.125
         },
         "mode": "markers",
         "type": "scatter",
         "x": [
          "vigne",
          "baies",
          "viticulture",
          "cultures",
          "vignes",
          "pois",
          "gel",
          "soleil",
          "fruit",
          "semences",
          "raisin de table",
          "vins",
          "culture",
          "baie",
          "vin",
          "fleurs",
          "fruits",
          "tournesol",
          "melon",
          "noyers",
          "raisin",
          "verger",
          "agrumes",
          "noix",
          "zones non agricoles",
          "fleur",
          "paille",
          "pailles",
          "vergers",
          "olivier",
          "ananas",
          "oliviers",
          "arbres fruitiers",
          "tomates",
          "melons",
          "poire",
          "mangue",
          "rose",
          "roses",
          "courges",
          "cerise",
          "amandiers",
          "tomate",
          "fruits tropicale",
          "orangé",
          "fruitières",
          "poivrons",
          "abricot",
          "figue",
          "citron",
          "banane",
          "goyave",
          "laurier",
          "gels",
          "noisette",
          "poirier",
          "orange",
          "fruitiers",
          "oranges",
          "noyer",
          "marron",
          "rosiers",
          "raisins"
         ],
         "y": [
          350,
          243,
          238,
          94,
          69,
          62,
          38,
          30,
          29,
          27,
          21,
          16,
          16,
          13,
          13,
          13,
          10,
          9,
          8,
          5,
          5,
          5,
          4,
          4,
          3,
          3,
          3,
          3,
          3,
          3,
          2,
          2,
          2,
          2,
          2,
          2,
          2,
          2,
          2,
          2,
          2,
          2,
          2,
          2,
          2,
          2,
          2,
          2,
          2,
          2,
          2,
          2,
          2,
          1,
          1,
          1,
          1,
          1,
          1,
          1,
          1,
          1,
          1
         ]
        }
       ],
       "layout": {
        "template": {
         "data": {
          "bar": [
           {
            "error_x": {
             "color": "#2a3f5f"
            },
            "error_y": {
             "color": "#2a3f5f"
            },
            "marker": {
             "line": {
              "color": "#E5ECF6",
              "width": 0.5
             }
            },
            "type": "bar"
           }
          ],
          "barpolar": [
           {
            "marker": {
             "line": {
              "color": "#E5ECF6",
              "width": 0.5
             }
            },
            "type": "barpolar"
           }
          ],
          "carpet": [
           {
            "aaxis": {
             "endlinecolor": "#2a3f5f",
             "gridcolor": "white",
             "linecolor": "white",
             "minorgridcolor": "white",
             "startlinecolor": "#2a3f5f"
            },
            "baxis": {
             "endlinecolor": "#2a3f5f",
             "gridcolor": "white",
             "linecolor": "white",
             "minorgridcolor": "white",
             "startlinecolor": "#2a3f5f"
            },
            "type": "carpet"
           }
          ],
          "choropleth": [
           {
            "colorbar": {
             "outlinewidth": 0,
             "ticks": ""
            },
            "type": "choropleth"
           }
          ],
          "contour": [
           {
            "colorbar": {
             "outlinewidth": 0,
             "ticks": ""
            },
            "colorscale": [
             [
              0,
              "#0d0887"
             ],
             [
              0.1111111111111111,
              "#46039f"
             ],
             [
              0.2222222222222222,
              "#7201a8"
             ],
             [
              0.3333333333333333,
              "#9c179e"
             ],
             [
              0.4444444444444444,
              "#bd3786"
             ],
             [
              0.5555555555555556,
              "#d8576b"
             ],
             [
              0.6666666666666666,
              "#ed7953"
             ],
             [
              0.7777777777777778,
              "#fb9f3a"
             ],
             [
              0.8888888888888888,
              "#fdca26"
             ],
             [
              1,
              "#f0f921"
             ]
            ],
            "type": "contour"
           }
          ],
          "contourcarpet": [
           {
            "colorbar": {
             "outlinewidth": 0,
             "ticks": ""
            },
            "type": "contourcarpet"
           }
          ],
          "heatmap": [
           {
            "colorbar": {
             "outlinewidth": 0,
             "ticks": ""
            },
            "colorscale": [
             [
              0,
              "#0d0887"
             ],
             [
              0.1111111111111111,
              "#46039f"
             ],
             [
              0.2222222222222222,
              "#7201a8"
             ],
             [
              0.3333333333333333,
              "#9c179e"
             ],
             [
              0.4444444444444444,
              "#bd3786"
             ],
             [
              0.5555555555555556,
              "#d8576b"
             ],
             [
              0.6666666666666666,
              "#ed7953"
             ],
             [
              0.7777777777777778,
              "#fb9f3a"
             ],
             [
              0.8888888888888888,
              "#fdca26"
             ],
             [
              1,
              "#f0f921"
             ]
            ],
            "type": "heatmap"
           }
          ],
          "heatmapgl": [
           {
            "colorbar": {
             "outlinewidth": 0,
             "ticks": ""
            },
            "colorscale": [
             [
              0,
              "#0d0887"
             ],
             [
              0.1111111111111111,
              "#46039f"
             ],
             [
              0.2222222222222222,
              "#7201a8"
             ],
             [
              0.3333333333333333,
              "#9c179e"
             ],
             [
              0.4444444444444444,
              "#bd3786"
             ],
             [
              0.5555555555555556,
              "#d8576b"
             ],
             [
              0.6666666666666666,
              "#ed7953"
             ],
             [
              0.7777777777777778,
              "#fb9f3a"
             ],
             [
              0.8888888888888888,
              "#fdca26"
             ],
             [
              1,
              "#f0f921"
             ]
            ],
            "type": "heatmapgl"
           }
          ],
          "histogram": [
           {
            "marker": {
             "colorbar": {
              "outlinewidth": 0,
              "ticks": ""
             }
            },
            "type": "histogram"
           }
          ],
          "histogram2d": [
           {
            "colorbar": {
             "outlinewidth": 0,
             "ticks": ""
            },
            "colorscale": [
             [
              0,
              "#0d0887"
             ],
             [
              0.1111111111111111,
              "#46039f"
             ],
             [
              0.2222222222222222,
              "#7201a8"
             ],
             [
              0.3333333333333333,
              "#9c179e"
             ],
             [
              0.4444444444444444,
              "#bd3786"
             ],
             [
              0.5555555555555556,
              "#d8576b"
             ],
             [
              0.6666666666666666,
              "#ed7953"
             ],
             [
              0.7777777777777778,
              "#fb9f3a"
             ],
             [
              0.8888888888888888,
              "#fdca26"
             ],
             [
              1,
              "#f0f921"
             ]
            ],
            "type": "histogram2d"
           }
          ],
          "histogram2dcontour": [
           {
            "colorbar": {
             "outlinewidth": 0,
             "ticks": ""
            },
            "colorscale": [
             [
              0,
              "#0d0887"
             ],
             [
              0.1111111111111111,
              "#46039f"
             ],
             [
              0.2222222222222222,
              "#7201a8"
             ],
             [
              0.3333333333333333,
              "#9c179e"
             ],
             [
              0.4444444444444444,
              "#bd3786"
             ],
             [
              0.5555555555555556,
              "#d8576b"
             ],
             [
              0.6666666666666666,
              "#ed7953"
             ],
             [
              0.7777777777777778,
              "#fb9f3a"
             ],
             [
              0.8888888888888888,
              "#fdca26"
             ],
             [
              1,
              "#f0f921"
             ]
            ],
            "type": "histogram2dcontour"
           }
          ],
          "mesh3d": [
           {
            "colorbar": {
             "outlinewidth": 0,
             "ticks": ""
            },
            "type": "mesh3d"
           }
          ],
          "parcoords": [
           {
            "line": {
             "colorbar": {
              "outlinewidth": 0,
              "ticks": ""
             }
            },
            "type": "parcoords"
           }
          ],
          "pie": [
           {
            "automargin": true,
            "type": "pie"
           }
          ],
          "scatter": [
           {
            "marker": {
             "colorbar": {
              "outlinewidth": 0,
              "ticks": ""
             }
            },
            "type": "scatter"
           }
          ],
          "scatter3d": [
           {
            "line": {
             "colorbar": {
              "outlinewidth": 0,
              "ticks": ""
             }
            },
            "marker": {
             "colorbar": {
              "outlinewidth": 0,
              "ticks": ""
             }
            },
            "type": "scatter3d"
           }
          ],
          "scattercarpet": [
           {
            "marker": {
             "colorbar": {
              "outlinewidth": 0,
              "ticks": ""
             }
            },
            "type": "scattercarpet"
           }
          ],
          "scattergeo": [
           {
            "marker": {
             "colorbar": {
              "outlinewidth": 0,
              "ticks": ""
             }
            },
            "type": "scattergeo"
           }
          ],
          "scattergl": [
           {
            "marker": {
             "colorbar": {
              "outlinewidth": 0,
              "ticks": ""
             }
            },
            "type": "scattergl"
           }
          ],
          "scattermapbox": [
           {
            "marker": {
             "colorbar": {
              "outlinewidth": 0,
              "ticks": ""
             }
            },
            "type": "scattermapbox"
           }
          ],
          "scatterpolar": [
           {
            "marker": {
             "colorbar": {
              "outlinewidth": 0,
              "ticks": ""
             }
            },
            "type": "scatterpolar"
           }
          ],
          "scatterpolargl": [
           {
            "marker": {
             "colorbar": {
              "outlinewidth": 0,
              "ticks": ""
             }
            },
            "type": "scatterpolargl"
           }
          ],
          "scatterternary": [
           {
            "marker": {
             "colorbar": {
              "outlinewidth": 0,
              "ticks": ""
             }
            },
            "type": "scatterternary"
           }
          ],
          "surface": [
           {
            "colorbar": {
             "outlinewidth": 0,
             "ticks": ""
            },
            "colorscale": [
             [
              0,
              "#0d0887"
             ],
             [
              0.1111111111111111,
              "#46039f"
             ],
             [
              0.2222222222222222,
              "#7201a8"
             ],
             [
              0.3333333333333333,
              "#9c179e"
             ],
             [
              0.4444444444444444,
              "#bd3786"
             ],
             [
              0.5555555555555556,
              "#d8576b"
             ],
             [
              0.6666666666666666,
              "#ed7953"
             ],
             [
              0.7777777777777778,
              "#fb9f3a"
             ],
             [
              0.8888888888888888,
              "#fdca26"
             ],
             [
              1,
              "#f0f921"
             ]
            ],
            "type": "surface"
           }
          ],
          "table": [
           {
            "cells": {
             "fill": {
              "color": "#EBF0F8"
             },
             "line": {
              "color": "white"
             }
            },
            "header": {
             "fill": {
              "color": "#C8D4E3"
             },
             "line": {
              "color": "white"
             }
            },
            "type": "table"
           }
          ]
         },
         "layout": {
          "annotationdefaults": {
           "arrowcolor": "#2a3f5f",
           "arrowhead": 0,
           "arrowwidth": 1
          },
          "autotypenumbers": "strict",
          "coloraxis": {
           "colorbar": {
            "outlinewidth": 0,
            "ticks": ""
           }
          },
          "colorscale": {
           "diverging": [
            [
             0,
             "#8e0152"
            ],
            [
             0.1,
             "#c51b7d"
            ],
            [
             0.2,
             "#de77ae"
            ],
            [
             0.3,
             "#f1b6da"
            ],
            [
             0.4,
             "#fde0ef"
            ],
            [
             0.5,
             "#f7f7f7"
            ],
            [
             0.6,
             "#e6f5d0"
            ],
            [
             0.7,
             "#b8e186"
            ],
            [
             0.8,
             "#7fbc41"
            ],
            [
             0.9,
             "#4d9221"
            ],
            [
             1,
             "#276419"
            ]
           ],
           "sequential": [
            [
             0,
             "#0d0887"
            ],
            [
             0.1111111111111111,
             "#46039f"
            ],
            [
             0.2222222222222222,
             "#7201a8"
            ],
            [
             0.3333333333333333,
             "#9c179e"
            ],
            [
             0.4444444444444444,
             "#bd3786"
            ],
            [
             0.5555555555555556,
             "#d8576b"
            ],
            [
             0.6666666666666666,
             "#ed7953"
            ],
            [
             0.7777777777777778,
             "#fb9f3a"
            ],
            [
             0.8888888888888888,
             "#fdca26"
            ],
            [
             1,
             "#f0f921"
            ]
           ],
           "sequentialminus": [
            [
             0,
             "#0d0887"
            ],
            [
             0.1111111111111111,
             "#46039f"
            ],
            [
             0.2222222222222222,
             "#7201a8"
            ],
            [
             0.3333333333333333,
             "#9c179e"
            ],
            [
             0.4444444444444444,
             "#bd3786"
            ],
            [
             0.5555555555555556,
             "#d8576b"
            ],
            [
             0.6666666666666666,
             "#ed7953"
            ],
            [
             0.7777777777777778,
             "#fb9f3a"
            ],
            [
             0.8888888888888888,
             "#fdca26"
            ],
            [
             1,
             "#f0f921"
            ]
           ]
          },
          "colorway": [
           "#636efa",
           "#EF553B",
           "#00cc96",
           "#ab63fa",
           "#FFA15A",
           "#19d3f3",
           "#FF6692",
           "#B6E880",
           "#FF97FF",
           "#FECB52"
          ],
          "font": {
           "color": "#2a3f5f"
          },
          "geo": {
           "bgcolor": "white",
           "lakecolor": "white",
           "landcolor": "#E5ECF6",
           "showlakes": true,
           "showland": true,
           "subunitcolor": "white"
          },
          "hoverlabel": {
           "align": "left"
          },
          "hovermode": "closest",
          "mapbox": {
           "style": "light"
          },
          "paper_bgcolor": "white",
          "plot_bgcolor": "#E5ECF6",
          "polar": {
           "angularaxis": {
            "gridcolor": "white",
            "linecolor": "white",
            "ticks": ""
           },
           "bgcolor": "#E5ECF6",
           "radialaxis": {
            "gridcolor": "white",
            "linecolor": "white",
            "ticks": ""
           }
          },
          "scene": {
           "xaxis": {
            "backgroundcolor": "#E5ECF6",
            "gridcolor": "white",
            "gridwidth": 2,
            "linecolor": "white",
            "showbackground": true,
            "ticks": "",
            "zerolinecolor": "white"
           },
           "yaxis": {
            "backgroundcolor": "#E5ECF6",
            "gridcolor": "white",
            "gridwidth": 2,
            "linecolor": "white",
            "showbackground": true,
            "ticks": "",
            "zerolinecolor": "white"
           },
           "zaxis": {
            "backgroundcolor": "#E5ECF6",
            "gridcolor": "white",
            "gridwidth": 2,
            "linecolor": "white",
            "showbackground": true,
            "ticks": "",
            "zerolinecolor": "white"
           }
          },
          "shapedefaults": {
           "line": {
            "color": "#2a3f5f"
           }
          },
          "ternary": {
           "aaxis": {
            "gridcolor": "white",
            "linecolor": "white",
            "ticks": ""
           },
           "baxis": {
            "gridcolor": "white",
            "linecolor": "white",
            "ticks": ""
           },
           "bgcolor": "#E5ECF6",
           "caxis": {
            "gridcolor": "white",
            "linecolor": "white",
            "ticks": ""
           }
          },
          "title": {
           "x": 0.05
          },
          "xaxis": {
           "automargin": true,
           "gridcolor": "white",
           "linecolor": "white",
           "ticks": "",
           "title": {
            "standoff": 15
           },
           "zerolinecolor": "white",
           "zerolinewidth": 2
          },
          "yaxis": {
           "automargin": true,
           "gridcolor": "white",
           "linecolor": "white",
           "ticks": "",
           "title": {
            "standoff": 15
           },
           "zerolinecolor": "white",
           "zerolinewidth": 2
          }
         }
        }
       }
      },
      "text/html": [
       "<div>                            <div id=\"05aecd58-b07e-400d-b7a4-e02d54dfc8e9\" class=\"plotly-graph-div\" style=\"height:525px; width:100%;\"></div>            <script type=\"text/javascript\">                require([\"plotly\"], function(Plotly) {                    window.PLOTLYENV=window.PLOTLYENV || {};                                    if (document.getElementById(\"05aecd58-b07e-400d-b7a4-e02d54dfc8e9\")) {                    Plotly.newPlot(                        \"05aecd58-b07e-400d-b7a4-e02d54dfc8e9\",                        [{\"marker\": {\"color\": [\"rgb(93, 164, 214)\", \"rgb(255, 144, 14)\", \"rgb(44, 160, 101)\", \"rgb(255, 65, 54)\"], \"opacity\": [1, 0.8, 0.6, 0.4], \"size\": [350, 243, 238, 94, 69, 62, 38, 30, 29, 27, 21, 16, 16, 13, 13, 13, 10, 9, 8, 5, 5, 5, 4, 4, 3, 3, 3, 3, 3, 3, 2, 2, 2, 2, 2, 2, 2, 2, 2, 2, 2, 2, 2, 2, 2, 2, 2, 2, 2, 2, 2, 2, 2, 1, 1, 1, 1, 1, 1, 1, 1, 1, 1], \"sizemin\": 4, \"sizemode\": \"area\", \"sizeref\": 0.125}, \"mode\": \"markers\", \"type\": \"scatter\", \"x\": [\"vigne\", \"baies\", \"viticulture\", \"cultures\", \"vignes\", \"pois\", \"gel\", \"soleil\", \"fruit\", \"semences\", \"raisin de table\", \"vins\", \"culture\", \"baie\", \"vin\", \"fleurs\", \"fruits\", \"tournesol\", \"melon\", \"noyers\", \"raisin\", \"verger\", \"agrumes\", \"noix\", \"zones non agricoles\", \"fleur\", \"paille\", \"pailles\", \"vergers\", \"olivier\", \"ananas\", \"oliviers\", \"arbres fruitiers\", \"tomates\", \"melons\", \"poire\", \"mangue\", \"rose\", \"roses\", \"courges\", \"cerise\", \"amandiers\", \"tomate\", \"fruits tropicale\", \"orang\\u00e9\", \"fruiti\\u00e8res\", \"poivrons\", \"abricot\", \"figue\", \"citron\", \"banane\", \"goyave\", \"laurier\", \"gels\", \"noisette\", \"poirier\", \"orange\", \"fruitiers\", \"oranges\", \"noyer\", \"marron\", \"rosiers\", \"raisins\"], \"y\": [350, 243, 238, 94, 69, 62, 38, 30, 29, 27, 21, 16, 16, 13, 13, 13, 10, 9, 8, 5, 5, 5, 4, 4, 3, 3, 3, 3, 3, 3, 2, 2, 2, 2, 2, 2, 2, 2, 2, 2, 2, 2, 2, 2, 2, 2, 2, 2, 2, 2, 2, 2, 2, 1, 1, 1, 1, 1, 1, 1, 1, 1, 1]}],                        {\"template\": {\"data\": {\"bar\": [{\"error_x\": {\"color\": \"#2a3f5f\"}, \"error_y\": {\"color\": \"#2a3f5f\"}, \"marker\": {\"line\": {\"color\": \"#E5ECF6\", \"width\": 0.5}}, \"type\": \"bar\"}], \"barpolar\": [{\"marker\": {\"line\": {\"color\": \"#E5ECF6\", \"width\": 0.5}}, \"type\": \"barpolar\"}], \"carpet\": [{\"aaxis\": {\"endlinecolor\": \"#2a3f5f\", \"gridcolor\": \"white\", \"linecolor\": \"white\", \"minorgridcolor\": \"white\", \"startlinecolor\": \"#2a3f5f\"}, \"baxis\": {\"endlinecolor\": \"#2a3f5f\", \"gridcolor\": \"white\", \"linecolor\": \"white\", \"minorgridcolor\": \"white\", \"startlinecolor\": \"#2a3f5f\"}, \"type\": \"carpet\"}], \"choropleth\": [{\"colorbar\": {\"outlinewidth\": 0, \"ticks\": \"\"}, \"type\": \"choropleth\"}], \"contour\": [{\"colorbar\": {\"outlinewidth\": 0, \"ticks\": \"\"}, \"colorscale\": [[0.0, \"#0d0887\"], [0.1111111111111111, \"#46039f\"], [0.2222222222222222, \"#7201a8\"], [0.3333333333333333, \"#9c179e\"], [0.4444444444444444, \"#bd3786\"], [0.5555555555555556, \"#d8576b\"], [0.6666666666666666, \"#ed7953\"], [0.7777777777777778, \"#fb9f3a\"], [0.8888888888888888, \"#fdca26\"], [1.0, \"#f0f921\"]], \"type\": \"contour\"}], \"contourcarpet\": [{\"colorbar\": {\"outlinewidth\": 0, \"ticks\": \"\"}, \"type\": \"contourcarpet\"}], \"heatmap\": [{\"colorbar\": {\"outlinewidth\": 0, \"ticks\": \"\"}, \"colorscale\": [[0.0, \"#0d0887\"], [0.1111111111111111, \"#46039f\"], [0.2222222222222222, \"#7201a8\"], [0.3333333333333333, \"#9c179e\"], [0.4444444444444444, \"#bd3786\"], [0.5555555555555556, \"#d8576b\"], [0.6666666666666666, \"#ed7953\"], [0.7777777777777778, \"#fb9f3a\"], [0.8888888888888888, \"#fdca26\"], [1.0, \"#f0f921\"]], \"type\": \"heatmap\"}], \"heatmapgl\": [{\"colorbar\": {\"outlinewidth\": 0, \"ticks\": \"\"}, \"colorscale\": [[0.0, \"#0d0887\"], [0.1111111111111111, \"#46039f\"], [0.2222222222222222, \"#7201a8\"], [0.3333333333333333, \"#9c179e\"], [0.4444444444444444, \"#bd3786\"], [0.5555555555555556, \"#d8576b\"], [0.6666666666666666, \"#ed7953\"], [0.7777777777777778, \"#fb9f3a\"], [0.8888888888888888, \"#fdca26\"], [1.0, \"#f0f921\"]], \"type\": \"heatmapgl\"}], \"histogram\": [{\"marker\": {\"colorbar\": {\"outlinewidth\": 0, \"ticks\": \"\"}}, \"type\": \"histogram\"}], \"histogram2d\": [{\"colorbar\": {\"outlinewidth\": 0, \"ticks\": \"\"}, \"colorscale\": [[0.0, \"#0d0887\"], [0.1111111111111111, \"#46039f\"], [0.2222222222222222, \"#7201a8\"], [0.3333333333333333, \"#9c179e\"], [0.4444444444444444, \"#bd3786\"], [0.5555555555555556, \"#d8576b\"], [0.6666666666666666, \"#ed7953\"], [0.7777777777777778, \"#fb9f3a\"], [0.8888888888888888, \"#fdca26\"], [1.0, \"#f0f921\"]], \"type\": \"histogram2d\"}], \"histogram2dcontour\": [{\"colorbar\": {\"outlinewidth\": 0, \"ticks\": \"\"}, \"colorscale\": [[0.0, \"#0d0887\"], [0.1111111111111111, \"#46039f\"], [0.2222222222222222, \"#7201a8\"], [0.3333333333333333, \"#9c179e\"], [0.4444444444444444, \"#bd3786\"], [0.5555555555555556, \"#d8576b\"], [0.6666666666666666, \"#ed7953\"], [0.7777777777777778, \"#fb9f3a\"], [0.8888888888888888, \"#fdca26\"], [1.0, \"#f0f921\"]], \"type\": \"histogram2dcontour\"}], \"mesh3d\": [{\"colorbar\": {\"outlinewidth\": 0, \"ticks\": \"\"}, \"type\": \"mesh3d\"}], \"parcoords\": [{\"line\": {\"colorbar\": {\"outlinewidth\": 0, \"ticks\": \"\"}}, \"type\": \"parcoords\"}], \"pie\": [{\"automargin\": true, \"type\": \"pie\"}], \"scatter\": [{\"marker\": {\"colorbar\": {\"outlinewidth\": 0, \"ticks\": \"\"}}, \"type\": \"scatter\"}], \"scatter3d\": [{\"line\": {\"colorbar\": {\"outlinewidth\": 0, \"ticks\": \"\"}}, \"marker\": {\"colorbar\": {\"outlinewidth\": 0, \"ticks\": \"\"}}, \"type\": \"scatter3d\"}], \"scattercarpet\": [{\"marker\": {\"colorbar\": {\"outlinewidth\": 0, \"ticks\": \"\"}}, \"type\": \"scattercarpet\"}], \"scattergeo\": [{\"marker\": {\"colorbar\": {\"outlinewidth\": 0, \"ticks\": \"\"}}, \"type\": \"scattergeo\"}], \"scattergl\": [{\"marker\": {\"colorbar\": {\"outlinewidth\": 0, \"ticks\": \"\"}}, \"type\": \"scattergl\"}], \"scattermapbox\": [{\"marker\": {\"colorbar\": {\"outlinewidth\": 0, \"ticks\": \"\"}}, \"type\": \"scattermapbox\"}], \"scatterpolar\": [{\"marker\": {\"colorbar\": {\"outlinewidth\": 0, \"ticks\": \"\"}}, \"type\": \"scatterpolar\"}], \"scatterpolargl\": [{\"marker\": {\"colorbar\": {\"outlinewidth\": 0, \"ticks\": \"\"}}, \"type\": \"scatterpolargl\"}], \"scatterternary\": [{\"marker\": {\"colorbar\": {\"outlinewidth\": 0, \"ticks\": \"\"}}, \"type\": \"scatterternary\"}], \"surface\": [{\"colorbar\": {\"outlinewidth\": 0, \"ticks\": \"\"}, \"colorscale\": [[0.0, \"#0d0887\"], [0.1111111111111111, \"#46039f\"], [0.2222222222222222, \"#7201a8\"], [0.3333333333333333, \"#9c179e\"], [0.4444444444444444, \"#bd3786\"], [0.5555555555555556, \"#d8576b\"], [0.6666666666666666, \"#ed7953\"], [0.7777777777777778, \"#fb9f3a\"], [0.8888888888888888, \"#fdca26\"], [1.0, \"#f0f921\"]], \"type\": \"surface\"}], \"table\": [{\"cells\": {\"fill\": {\"color\": \"#EBF0F8\"}, \"line\": {\"color\": \"white\"}}, \"header\": {\"fill\": {\"color\": \"#C8D4E3\"}, \"line\": {\"color\": \"white\"}}, \"type\": \"table\"}]}, \"layout\": {\"annotationdefaults\": {\"arrowcolor\": \"#2a3f5f\", \"arrowhead\": 0, \"arrowwidth\": 1}, \"autotypenumbers\": \"strict\", \"coloraxis\": {\"colorbar\": {\"outlinewidth\": 0, \"ticks\": \"\"}}, \"colorscale\": {\"diverging\": [[0, \"#8e0152\"], [0.1, \"#c51b7d\"], [0.2, \"#de77ae\"], [0.3, \"#f1b6da\"], [0.4, \"#fde0ef\"], [0.5, \"#f7f7f7\"], [0.6, \"#e6f5d0\"], [0.7, \"#b8e186\"], [0.8, \"#7fbc41\"], [0.9, \"#4d9221\"], [1, \"#276419\"]], \"sequential\": [[0.0, \"#0d0887\"], [0.1111111111111111, \"#46039f\"], [0.2222222222222222, \"#7201a8\"], [0.3333333333333333, \"#9c179e\"], [0.4444444444444444, \"#bd3786\"], [0.5555555555555556, \"#d8576b\"], [0.6666666666666666, \"#ed7953\"], [0.7777777777777778, \"#fb9f3a\"], [0.8888888888888888, \"#fdca26\"], [1.0, \"#f0f921\"]], \"sequentialminus\": [[0.0, \"#0d0887\"], [0.1111111111111111, \"#46039f\"], [0.2222222222222222, \"#7201a8\"], [0.3333333333333333, \"#9c179e\"], [0.4444444444444444, \"#bd3786\"], [0.5555555555555556, \"#d8576b\"], [0.6666666666666666, \"#ed7953\"], [0.7777777777777778, \"#fb9f3a\"], [0.8888888888888888, \"#fdca26\"], [1.0, \"#f0f921\"]]}, \"colorway\": [\"#636efa\", \"#EF553B\", \"#00cc96\", \"#ab63fa\", \"#FFA15A\", \"#19d3f3\", \"#FF6692\", \"#B6E880\", \"#FF97FF\", \"#FECB52\"], \"font\": {\"color\": \"#2a3f5f\"}, \"geo\": {\"bgcolor\": \"white\", \"lakecolor\": \"white\", \"landcolor\": \"#E5ECF6\", \"showlakes\": true, \"showland\": true, \"subunitcolor\": \"white\"}, \"hoverlabel\": {\"align\": \"left\"}, \"hovermode\": \"closest\", \"mapbox\": {\"style\": \"light\"}, \"paper_bgcolor\": \"white\", \"plot_bgcolor\": \"#E5ECF6\", \"polar\": {\"angularaxis\": {\"gridcolor\": \"white\", \"linecolor\": \"white\", \"ticks\": \"\"}, \"bgcolor\": \"#E5ECF6\", \"radialaxis\": {\"gridcolor\": \"white\", \"linecolor\": \"white\", \"ticks\": \"\"}}, \"scene\": {\"xaxis\": {\"backgroundcolor\": \"#E5ECF6\", \"gridcolor\": \"white\", \"gridwidth\": 2, \"linecolor\": \"white\", \"showbackground\": true, \"ticks\": \"\", \"zerolinecolor\": \"white\"}, \"yaxis\": {\"backgroundcolor\": \"#E5ECF6\", \"gridcolor\": \"white\", \"gridwidth\": 2, \"linecolor\": \"white\", \"showbackground\": true, \"ticks\": \"\", \"zerolinecolor\": \"white\"}, \"zaxis\": {\"backgroundcolor\": \"#E5ECF6\", \"gridcolor\": \"white\", \"gridwidth\": 2, \"linecolor\": \"white\", \"showbackground\": true, \"ticks\": \"\", \"zerolinecolor\": \"white\"}}, \"shapedefaults\": {\"line\": {\"color\": \"#2a3f5f\"}}, \"ternary\": {\"aaxis\": {\"gridcolor\": \"white\", \"linecolor\": \"white\", \"ticks\": \"\"}, \"baxis\": {\"gridcolor\": \"white\", \"linecolor\": \"white\", \"ticks\": \"\"}, \"bgcolor\": \"#E5ECF6\", \"caxis\": {\"gridcolor\": \"white\", \"linecolor\": \"white\", \"ticks\": \"\"}}, \"title\": {\"x\": 0.05}, \"xaxis\": {\"automargin\": true, \"gridcolor\": \"white\", \"linecolor\": \"white\", \"ticks\": \"\", \"title\": {\"standoff\": 15}, \"zerolinecolor\": \"white\", \"zerolinewidth\": 2}, \"yaxis\": {\"automargin\": true, \"gridcolor\": \"white\", \"linecolor\": \"white\", \"ticks\": \"\", \"title\": {\"standoff\": 15}, \"zerolinecolor\": \"white\", \"zerolinewidth\": 2}}}},                        {\"responsive\": true}                    ).then(function(){\n",
       "                            \n",
       "var gd = document.getElementById('05aecd58-b07e-400d-b7a4-e02d54dfc8e9');\n",
       "var x = new MutationObserver(function (mutations, observer) {{\n",
       "        var display = window.getComputedStyle(gd).display;\n",
       "        if (!display || display === 'none') {{\n",
       "            console.log([gd, 'removed!']);\n",
       "            Plotly.purge(gd);\n",
       "            observer.disconnect();\n",
       "        }}\n",
       "}});\n",
       "\n",
       "// Listen for the removal of the full notebook cells\n",
       "var notebookContainer = gd.closest('#notebook-container');\n",
       "if (notebookContainer) {{\n",
       "    x.observe(notebookContainer, {childList: true});\n",
       "}}\n",
       "\n",
       "// Listen for the clearing of the current output cell\n",
       "var outputEl = gd.closest('.output');\n",
       "if (outputEl) {{\n",
       "    x.observe(outputEl, {childList: true});\n",
       "}}\n",
       "\n",
       "                        })                };                });            </script>        </div>"
      ]
     },
     "metadata": {},
     "output_type": "display_data"
    }
   ],
   "source": [
    "import plotly.graph_objects as go\n",
    "\n",
    "features = list(dico.values()) \n",
    "true_labels = list(dico.keys())\n",
    "\n",
    "fig = go.Figure(data=[go.Scatter(\n",
    "    x=true_labels, y=features,\n",
    "    mode='markers',\n",
    "    marker=dict(\n",
    "        color=['rgb(93, 164, 214)', 'rgb(255, 144, 14)',\n",
    "               'rgb(44, 160, 101)', 'rgb(255, 65, 54)'],\n",
    "        opacity=[1, 0.8, 0.6, 0.4],\n",
    "        size=features,\n",
    "        sizemode='area',\n",
    "        sizeref=2.*max(size)/(40.**2),\n",
    "        sizemin=4\n",
    "    )\n",
    ")])\n",
    "\n",
    "fig.show()"
   ]
  },
  {
   "cell_type": "code",
   "execution_count": 232,
   "metadata": {},
   "outputs": [
    {
     "data": {
      "application/vnd.plotly.v1+json": {
       "config": {
        "plotlyServerURL": "https://plot.ly"
       },
       "data": [
        {
         "marker": {
          "size": [
           350,
           243,
           238,
           94,
           69,
           62,
           38,
           30,
           29,
           27,
           21,
           16,
           16,
           13,
           13,
           13,
           10,
           9,
           8,
           5,
           5,
           5,
           4,
           4,
           3,
           3,
           3,
           3,
           3,
           3,
           2,
           2,
           2,
           2,
           2,
           2,
           2,
           2,
           2,
           2,
           2,
           2,
           2,
           2,
           2,
           2,
           2,
           2,
           2,
           2,
           2,
           2,
           2,
           1,
           1,
           1,
           1,
           1,
           1,
           1,
           1,
           1,
           1
          ],
          "sizemin": 4,
          "sizemode": "area",
          "sizeref": 0.125
         },
         "mode": "markers",
         "type": "scatter",
         "x": [
          350,
          243,
          238,
          94,
          69,
          62,
          38,
          30,
          29,
          27,
          21,
          16,
          16,
          13,
          13,
          13,
          10,
          9,
          8,
          5,
          5,
          5,
          4,
          4,
          3,
          3,
          3,
          3,
          3,
          3,
          2,
          2,
          2,
          2,
          2,
          2,
          2,
          2,
          2,
          2,
          2,
          2,
          2,
          2,
          2,
          2,
          2,
          2,
          2,
          2,
          2,
          2,
          2,
          1,
          1,
          1,
          1,
          1,
          1,
          1,
          1,
          1,
          1
         ],
         "y": [
          "vigne",
          "baies",
          "viticulture",
          "cultures",
          "vignes",
          "pois",
          "gel",
          "soleil",
          "fruit",
          "semences",
          "raisin de table",
          "vins",
          "culture",
          "baie",
          "vin",
          "fleurs",
          "fruits",
          "tournesol",
          "melon",
          "noyers",
          "raisin",
          "verger",
          "agrumes",
          "noix",
          "zones non agricoles",
          "fleur",
          "paille",
          "pailles",
          "vergers",
          "olivier",
          "ananas",
          "oliviers",
          "arbres fruitiers",
          "tomates",
          "melons",
          "poire",
          "mangue",
          "rose",
          "roses",
          "courges",
          "cerise",
          "amandiers",
          "tomate",
          "fruits tropicale",
          "orangé",
          "fruitières",
          "poivrons",
          "abricot",
          "figue",
          "citron",
          "banane",
          "goyave",
          "laurier",
          "gels",
          "noisette",
          "poirier",
          "orange",
          "fruitiers",
          "oranges",
          "noyer",
          "marron",
          "rosiers",
          "raisins"
         ]
        }
       ],
       "layout": {
        "template": {
         "data": {
          "bar": [
           {
            "error_x": {
             "color": "#2a3f5f"
            },
            "error_y": {
             "color": "#2a3f5f"
            },
            "marker": {
             "line": {
              "color": "#E5ECF6",
              "width": 0.5
             }
            },
            "type": "bar"
           }
          ],
          "barpolar": [
           {
            "marker": {
             "line": {
              "color": "#E5ECF6",
              "width": 0.5
             }
            },
            "type": "barpolar"
           }
          ],
          "carpet": [
           {
            "aaxis": {
             "endlinecolor": "#2a3f5f",
             "gridcolor": "white",
             "linecolor": "white",
             "minorgridcolor": "white",
             "startlinecolor": "#2a3f5f"
            },
            "baxis": {
             "endlinecolor": "#2a3f5f",
             "gridcolor": "white",
             "linecolor": "white",
             "minorgridcolor": "white",
             "startlinecolor": "#2a3f5f"
            },
            "type": "carpet"
           }
          ],
          "choropleth": [
           {
            "colorbar": {
             "outlinewidth": 0,
             "ticks": ""
            },
            "type": "choropleth"
           }
          ],
          "contour": [
           {
            "colorbar": {
             "outlinewidth": 0,
             "ticks": ""
            },
            "colorscale": [
             [
              0,
              "#0d0887"
             ],
             [
              0.1111111111111111,
              "#46039f"
             ],
             [
              0.2222222222222222,
              "#7201a8"
             ],
             [
              0.3333333333333333,
              "#9c179e"
             ],
             [
              0.4444444444444444,
              "#bd3786"
             ],
             [
              0.5555555555555556,
              "#d8576b"
             ],
             [
              0.6666666666666666,
              "#ed7953"
             ],
             [
              0.7777777777777778,
              "#fb9f3a"
             ],
             [
              0.8888888888888888,
              "#fdca26"
             ],
             [
              1,
              "#f0f921"
             ]
            ],
            "type": "contour"
           }
          ],
          "contourcarpet": [
           {
            "colorbar": {
             "outlinewidth": 0,
             "ticks": ""
            },
            "type": "contourcarpet"
           }
          ],
          "heatmap": [
           {
            "colorbar": {
             "outlinewidth": 0,
             "ticks": ""
            },
            "colorscale": [
             [
              0,
              "#0d0887"
             ],
             [
              0.1111111111111111,
              "#46039f"
             ],
             [
              0.2222222222222222,
              "#7201a8"
             ],
             [
              0.3333333333333333,
              "#9c179e"
             ],
             [
              0.4444444444444444,
              "#bd3786"
             ],
             [
              0.5555555555555556,
              "#d8576b"
             ],
             [
              0.6666666666666666,
              "#ed7953"
             ],
             [
              0.7777777777777778,
              "#fb9f3a"
             ],
             [
              0.8888888888888888,
              "#fdca26"
             ],
             [
              1,
              "#f0f921"
             ]
            ],
            "type": "heatmap"
           }
          ],
          "heatmapgl": [
           {
            "colorbar": {
             "outlinewidth": 0,
             "ticks": ""
            },
            "colorscale": [
             [
              0,
              "#0d0887"
             ],
             [
              0.1111111111111111,
              "#46039f"
             ],
             [
              0.2222222222222222,
              "#7201a8"
             ],
             [
              0.3333333333333333,
              "#9c179e"
             ],
             [
              0.4444444444444444,
              "#bd3786"
             ],
             [
              0.5555555555555556,
              "#d8576b"
             ],
             [
              0.6666666666666666,
              "#ed7953"
             ],
             [
              0.7777777777777778,
              "#fb9f3a"
             ],
             [
              0.8888888888888888,
              "#fdca26"
             ],
             [
              1,
              "#f0f921"
             ]
            ],
            "type": "heatmapgl"
           }
          ],
          "histogram": [
           {
            "marker": {
             "colorbar": {
              "outlinewidth": 0,
              "ticks": ""
             }
            },
            "type": "histogram"
           }
          ],
          "histogram2d": [
           {
            "colorbar": {
             "outlinewidth": 0,
             "ticks": ""
            },
            "colorscale": [
             [
              0,
              "#0d0887"
             ],
             [
              0.1111111111111111,
              "#46039f"
             ],
             [
              0.2222222222222222,
              "#7201a8"
             ],
             [
              0.3333333333333333,
              "#9c179e"
             ],
             [
              0.4444444444444444,
              "#bd3786"
             ],
             [
              0.5555555555555556,
              "#d8576b"
             ],
             [
              0.6666666666666666,
              "#ed7953"
             ],
             [
              0.7777777777777778,
              "#fb9f3a"
             ],
             [
              0.8888888888888888,
              "#fdca26"
             ],
             [
              1,
              "#f0f921"
             ]
            ],
            "type": "histogram2d"
           }
          ],
          "histogram2dcontour": [
           {
            "colorbar": {
             "outlinewidth": 0,
             "ticks": ""
            },
            "colorscale": [
             [
              0,
              "#0d0887"
             ],
             [
              0.1111111111111111,
              "#46039f"
             ],
             [
              0.2222222222222222,
              "#7201a8"
             ],
             [
              0.3333333333333333,
              "#9c179e"
             ],
             [
              0.4444444444444444,
              "#bd3786"
             ],
             [
              0.5555555555555556,
              "#d8576b"
             ],
             [
              0.6666666666666666,
              "#ed7953"
             ],
             [
              0.7777777777777778,
              "#fb9f3a"
             ],
             [
              0.8888888888888888,
              "#fdca26"
             ],
             [
              1,
              "#f0f921"
             ]
            ],
            "type": "histogram2dcontour"
           }
          ],
          "mesh3d": [
           {
            "colorbar": {
             "outlinewidth": 0,
             "ticks": ""
            },
            "type": "mesh3d"
           }
          ],
          "parcoords": [
           {
            "line": {
             "colorbar": {
              "outlinewidth": 0,
              "ticks": ""
             }
            },
            "type": "parcoords"
           }
          ],
          "pie": [
           {
            "automargin": true,
            "type": "pie"
           }
          ],
          "scatter": [
           {
            "marker": {
             "colorbar": {
              "outlinewidth": 0,
              "ticks": ""
             }
            },
            "type": "scatter"
           }
          ],
          "scatter3d": [
           {
            "line": {
             "colorbar": {
              "outlinewidth": 0,
              "ticks": ""
             }
            },
            "marker": {
             "colorbar": {
              "outlinewidth": 0,
              "ticks": ""
             }
            },
            "type": "scatter3d"
           }
          ],
          "scattercarpet": [
           {
            "marker": {
             "colorbar": {
              "outlinewidth": 0,
              "ticks": ""
             }
            },
            "type": "scattercarpet"
           }
          ],
          "scattergeo": [
           {
            "marker": {
             "colorbar": {
              "outlinewidth": 0,
              "ticks": ""
             }
            },
            "type": "scattergeo"
           }
          ],
          "scattergl": [
           {
            "marker": {
             "colorbar": {
              "outlinewidth": 0,
              "ticks": ""
             }
            },
            "type": "scattergl"
           }
          ],
          "scattermapbox": [
           {
            "marker": {
             "colorbar": {
              "outlinewidth": 0,
              "ticks": ""
             }
            },
            "type": "scattermapbox"
           }
          ],
          "scatterpolar": [
           {
            "marker": {
             "colorbar": {
              "outlinewidth": 0,
              "ticks": ""
             }
            },
            "type": "scatterpolar"
           }
          ],
          "scatterpolargl": [
           {
            "marker": {
             "colorbar": {
              "outlinewidth": 0,
              "ticks": ""
             }
            },
            "type": "scatterpolargl"
           }
          ],
          "scatterternary": [
           {
            "marker": {
             "colorbar": {
              "outlinewidth": 0,
              "ticks": ""
             }
            },
            "type": "scatterternary"
           }
          ],
          "surface": [
           {
            "colorbar": {
             "outlinewidth": 0,
             "ticks": ""
            },
            "colorscale": [
             [
              0,
              "#0d0887"
             ],
             [
              0.1111111111111111,
              "#46039f"
             ],
             [
              0.2222222222222222,
              "#7201a8"
             ],
             [
              0.3333333333333333,
              "#9c179e"
             ],
             [
              0.4444444444444444,
              "#bd3786"
             ],
             [
              0.5555555555555556,
              "#d8576b"
             ],
             [
              0.6666666666666666,
              "#ed7953"
             ],
             [
              0.7777777777777778,
              "#fb9f3a"
             ],
             [
              0.8888888888888888,
              "#fdca26"
             ],
             [
              1,
              "#f0f921"
             ]
            ],
            "type": "surface"
           }
          ],
          "table": [
           {
            "cells": {
             "fill": {
              "color": "#EBF0F8"
             },
             "line": {
              "color": "white"
             }
            },
            "header": {
             "fill": {
              "color": "#C8D4E3"
             },
             "line": {
              "color": "white"
             }
            },
            "type": "table"
           }
          ]
         },
         "layout": {
          "annotationdefaults": {
           "arrowcolor": "#2a3f5f",
           "arrowhead": 0,
           "arrowwidth": 1
          },
          "autotypenumbers": "strict",
          "coloraxis": {
           "colorbar": {
            "outlinewidth": 0,
            "ticks": ""
           }
          },
          "colorscale": {
           "diverging": [
            [
             0,
             "#8e0152"
            ],
            [
             0.1,
             "#c51b7d"
            ],
            [
             0.2,
             "#de77ae"
            ],
            [
             0.3,
             "#f1b6da"
            ],
            [
             0.4,
             "#fde0ef"
            ],
            [
             0.5,
             "#f7f7f7"
            ],
            [
             0.6,
             "#e6f5d0"
            ],
            [
             0.7,
             "#b8e186"
            ],
            [
             0.8,
             "#7fbc41"
            ],
            [
             0.9,
             "#4d9221"
            ],
            [
             1,
             "#276419"
            ]
           ],
           "sequential": [
            [
             0,
             "#0d0887"
            ],
            [
             0.1111111111111111,
             "#46039f"
            ],
            [
             0.2222222222222222,
             "#7201a8"
            ],
            [
             0.3333333333333333,
             "#9c179e"
            ],
            [
             0.4444444444444444,
             "#bd3786"
            ],
            [
             0.5555555555555556,
             "#d8576b"
            ],
            [
             0.6666666666666666,
             "#ed7953"
            ],
            [
             0.7777777777777778,
             "#fb9f3a"
            ],
            [
             0.8888888888888888,
             "#fdca26"
            ],
            [
             1,
             "#f0f921"
            ]
           ],
           "sequentialminus": [
            [
             0,
             "#0d0887"
            ],
            [
             0.1111111111111111,
             "#46039f"
            ],
            [
             0.2222222222222222,
             "#7201a8"
            ],
            [
             0.3333333333333333,
             "#9c179e"
            ],
            [
             0.4444444444444444,
             "#bd3786"
            ],
            [
             0.5555555555555556,
             "#d8576b"
            ],
            [
             0.6666666666666666,
             "#ed7953"
            ],
            [
             0.7777777777777778,
             "#fb9f3a"
            ],
            [
             0.8888888888888888,
             "#fdca26"
            ],
            [
             1,
             "#f0f921"
            ]
           ]
          },
          "colorway": [
           "#636efa",
           "#EF553B",
           "#00cc96",
           "#ab63fa",
           "#FFA15A",
           "#19d3f3",
           "#FF6692",
           "#B6E880",
           "#FF97FF",
           "#FECB52"
          ],
          "font": {
           "color": "#2a3f5f"
          },
          "geo": {
           "bgcolor": "white",
           "lakecolor": "white",
           "landcolor": "#E5ECF6",
           "showlakes": true,
           "showland": true,
           "subunitcolor": "white"
          },
          "hoverlabel": {
           "align": "left"
          },
          "hovermode": "closest",
          "mapbox": {
           "style": "light"
          },
          "paper_bgcolor": "white",
          "plot_bgcolor": "#E5ECF6",
          "polar": {
           "angularaxis": {
            "gridcolor": "white",
            "linecolor": "white",
            "ticks": ""
           },
           "bgcolor": "#E5ECF6",
           "radialaxis": {
            "gridcolor": "white",
            "linecolor": "white",
            "ticks": ""
           }
          },
          "scene": {
           "xaxis": {
            "backgroundcolor": "#E5ECF6",
            "gridcolor": "white",
            "gridwidth": 2,
            "linecolor": "white",
            "showbackground": true,
            "ticks": "",
            "zerolinecolor": "white"
           },
           "yaxis": {
            "backgroundcolor": "#E5ECF6",
            "gridcolor": "white",
            "gridwidth": 2,
            "linecolor": "white",
            "showbackground": true,
            "ticks": "",
            "zerolinecolor": "white"
           },
           "zaxis": {
            "backgroundcolor": "#E5ECF6",
            "gridcolor": "white",
            "gridwidth": 2,
            "linecolor": "white",
            "showbackground": true,
            "ticks": "",
            "zerolinecolor": "white"
           }
          },
          "shapedefaults": {
           "line": {
            "color": "#2a3f5f"
           }
          },
          "ternary": {
           "aaxis": {
            "gridcolor": "white",
            "linecolor": "white",
            "ticks": ""
           },
           "baxis": {
            "gridcolor": "white",
            "linecolor": "white",
            "ticks": ""
           },
           "bgcolor": "#E5ECF6",
           "caxis": {
            "gridcolor": "white",
            "linecolor": "white",
            "ticks": ""
           }
          },
          "title": {
           "x": 0.05
          },
          "xaxis": {
           "automargin": true,
           "gridcolor": "white",
           "linecolor": "white",
           "ticks": "",
           "title": {
            "standoff": 15
           },
           "zerolinecolor": "white",
           "zerolinewidth": 2
          },
          "yaxis": {
           "automargin": true,
           "gridcolor": "white",
           "linecolor": "white",
           "ticks": "",
           "title": {
            "standoff": 15
           },
           "zerolinecolor": "white",
           "zerolinewidth": 2
          }
         }
        }
       }
      },
      "text/html": [
       "<div>                            <div id=\"9d3d81d5-0e8b-4551-8cb3-cd0e7f747b8b\" class=\"plotly-graph-div\" style=\"height:525px; width:100%;\"></div>            <script type=\"text/javascript\">                require([\"plotly\"], function(Plotly) {                    window.PLOTLYENV=window.PLOTLYENV || {};                                    if (document.getElementById(\"9d3d81d5-0e8b-4551-8cb3-cd0e7f747b8b\")) {                    Plotly.newPlot(                        \"9d3d81d5-0e8b-4551-8cb3-cd0e7f747b8b\",                        [{\"marker\": {\"size\": [350, 243, 238, 94, 69, 62, 38, 30, 29, 27, 21, 16, 16, 13, 13, 13, 10, 9, 8, 5, 5, 5, 4, 4, 3, 3, 3, 3, 3, 3, 2, 2, 2, 2, 2, 2, 2, 2, 2, 2, 2, 2, 2, 2, 2, 2, 2, 2, 2, 2, 2, 2, 2, 1, 1, 1, 1, 1, 1, 1, 1, 1, 1], \"sizemin\": 4, \"sizemode\": \"area\", \"sizeref\": 0.125}, \"mode\": \"markers\", \"type\": \"scatter\", \"x\": [350, 243, 238, 94, 69, 62, 38, 30, 29, 27, 21, 16, 16, 13, 13, 13, 10, 9, 8, 5, 5, 5, 4, 4, 3, 3, 3, 3, 3, 3, 2, 2, 2, 2, 2, 2, 2, 2, 2, 2, 2, 2, 2, 2, 2, 2, 2, 2, 2, 2, 2, 2, 2, 1, 1, 1, 1, 1, 1, 1, 1, 1, 1], \"y\": [\"vigne\", \"baies\", \"viticulture\", \"cultures\", \"vignes\", \"pois\", \"gel\", \"soleil\", \"fruit\", \"semences\", \"raisin de table\", \"vins\", \"culture\", \"baie\", \"vin\", \"fleurs\", \"fruits\", \"tournesol\", \"melon\", \"noyers\", \"raisin\", \"verger\", \"agrumes\", \"noix\", \"zones non agricoles\", \"fleur\", \"paille\", \"pailles\", \"vergers\", \"olivier\", \"ananas\", \"oliviers\", \"arbres fruitiers\", \"tomates\", \"melons\", \"poire\", \"mangue\", \"rose\", \"roses\", \"courges\", \"cerise\", \"amandiers\", \"tomate\", \"fruits tropicale\", \"orang\\u00e9\", \"fruiti\\u00e8res\", \"poivrons\", \"abricot\", \"figue\", \"citron\", \"banane\", \"goyave\", \"laurier\", \"gels\", \"noisette\", \"poirier\", \"orange\", \"fruitiers\", \"oranges\", \"noyer\", \"marron\", \"rosiers\", \"raisins\"]}],                        {\"template\": {\"data\": {\"bar\": [{\"error_x\": {\"color\": \"#2a3f5f\"}, \"error_y\": {\"color\": \"#2a3f5f\"}, \"marker\": {\"line\": {\"color\": \"#E5ECF6\", \"width\": 0.5}}, \"type\": \"bar\"}], \"barpolar\": [{\"marker\": {\"line\": {\"color\": \"#E5ECF6\", \"width\": 0.5}}, \"type\": \"barpolar\"}], \"carpet\": [{\"aaxis\": {\"endlinecolor\": \"#2a3f5f\", \"gridcolor\": \"white\", \"linecolor\": \"white\", \"minorgridcolor\": \"white\", \"startlinecolor\": \"#2a3f5f\"}, \"baxis\": {\"endlinecolor\": \"#2a3f5f\", \"gridcolor\": \"white\", \"linecolor\": \"white\", \"minorgridcolor\": \"white\", \"startlinecolor\": \"#2a3f5f\"}, \"type\": \"carpet\"}], \"choropleth\": [{\"colorbar\": {\"outlinewidth\": 0, \"ticks\": \"\"}, \"type\": \"choropleth\"}], \"contour\": [{\"colorbar\": {\"outlinewidth\": 0, \"ticks\": \"\"}, \"colorscale\": [[0.0, \"#0d0887\"], [0.1111111111111111, \"#46039f\"], [0.2222222222222222, \"#7201a8\"], [0.3333333333333333, \"#9c179e\"], [0.4444444444444444, \"#bd3786\"], [0.5555555555555556, \"#d8576b\"], [0.6666666666666666, \"#ed7953\"], [0.7777777777777778, \"#fb9f3a\"], [0.8888888888888888, \"#fdca26\"], [1.0, \"#f0f921\"]], \"type\": \"contour\"}], \"contourcarpet\": [{\"colorbar\": {\"outlinewidth\": 0, \"ticks\": \"\"}, \"type\": \"contourcarpet\"}], \"heatmap\": [{\"colorbar\": {\"outlinewidth\": 0, \"ticks\": \"\"}, \"colorscale\": [[0.0, \"#0d0887\"], [0.1111111111111111, \"#46039f\"], [0.2222222222222222, \"#7201a8\"], [0.3333333333333333, \"#9c179e\"], [0.4444444444444444, \"#bd3786\"], [0.5555555555555556, \"#d8576b\"], [0.6666666666666666, \"#ed7953\"], [0.7777777777777778, \"#fb9f3a\"], [0.8888888888888888, \"#fdca26\"], [1.0, \"#f0f921\"]], \"type\": \"heatmap\"}], \"heatmapgl\": [{\"colorbar\": {\"outlinewidth\": 0, \"ticks\": \"\"}, \"colorscale\": [[0.0, \"#0d0887\"], [0.1111111111111111, \"#46039f\"], [0.2222222222222222, \"#7201a8\"], [0.3333333333333333, \"#9c179e\"], [0.4444444444444444, \"#bd3786\"], [0.5555555555555556, \"#d8576b\"], [0.6666666666666666, \"#ed7953\"], [0.7777777777777778, \"#fb9f3a\"], [0.8888888888888888, \"#fdca26\"], [1.0, \"#f0f921\"]], \"type\": \"heatmapgl\"}], \"histogram\": [{\"marker\": {\"colorbar\": {\"outlinewidth\": 0, \"ticks\": \"\"}}, \"type\": \"histogram\"}], \"histogram2d\": [{\"colorbar\": {\"outlinewidth\": 0, \"ticks\": \"\"}, \"colorscale\": [[0.0, \"#0d0887\"], [0.1111111111111111, \"#46039f\"], [0.2222222222222222, \"#7201a8\"], [0.3333333333333333, \"#9c179e\"], [0.4444444444444444, \"#bd3786\"], [0.5555555555555556, \"#d8576b\"], [0.6666666666666666, \"#ed7953\"], [0.7777777777777778, \"#fb9f3a\"], [0.8888888888888888, \"#fdca26\"], [1.0, \"#f0f921\"]], \"type\": \"histogram2d\"}], \"histogram2dcontour\": [{\"colorbar\": {\"outlinewidth\": 0, \"ticks\": \"\"}, \"colorscale\": [[0.0, \"#0d0887\"], [0.1111111111111111, \"#46039f\"], [0.2222222222222222, \"#7201a8\"], [0.3333333333333333, \"#9c179e\"], [0.4444444444444444, \"#bd3786\"], [0.5555555555555556, \"#d8576b\"], [0.6666666666666666, \"#ed7953\"], [0.7777777777777778, \"#fb9f3a\"], [0.8888888888888888, \"#fdca26\"], [1.0, \"#f0f921\"]], \"type\": \"histogram2dcontour\"}], \"mesh3d\": [{\"colorbar\": {\"outlinewidth\": 0, \"ticks\": \"\"}, \"type\": \"mesh3d\"}], \"parcoords\": [{\"line\": {\"colorbar\": {\"outlinewidth\": 0, \"ticks\": \"\"}}, \"type\": \"parcoords\"}], \"pie\": [{\"automargin\": true, \"type\": \"pie\"}], \"scatter\": [{\"marker\": {\"colorbar\": {\"outlinewidth\": 0, \"ticks\": \"\"}}, \"type\": \"scatter\"}], \"scatter3d\": [{\"line\": {\"colorbar\": {\"outlinewidth\": 0, \"ticks\": \"\"}}, \"marker\": {\"colorbar\": {\"outlinewidth\": 0, \"ticks\": \"\"}}, \"type\": \"scatter3d\"}], \"scattercarpet\": [{\"marker\": {\"colorbar\": {\"outlinewidth\": 0, \"ticks\": \"\"}}, \"type\": \"scattercarpet\"}], \"scattergeo\": [{\"marker\": {\"colorbar\": {\"outlinewidth\": 0, \"ticks\": \"\"}}, \"type\": \"scattergeo\"}], \"scattergl\": [{\"marker\": {\"colorbar\": {\"outlinewidth\": 0, \"ticks\": \"\"}}, \"type\": \"scattergl\"}], \"scattermapbox\": [{\"marker\": {\"colorbar\": {\"outlinewidth\": 0, \"ticks\": \"\"}}, \"type\": \"scattermapbox\"}], \"scatterpolar\": [{\"marker\": {\"colorbar\": {\"outlinewidth\": 0, \"ticks\": \"\"}}, \"type\": \"scatterpolar\"}], \"scatterpolargl\": [{\"marker\": {\"colorbar\": {\"outlinewidth\": 0, \"ticks\": \"\"}}, \"type\": \"scatterpolargl\"}], \"scatterternary\": [{\"marker\": {\"colorbar\": {\"outlinewidth\": 0, \"ticks\": \"\"}}, \"type\": \"scatterternary\"}], \"surface\": [{\"colorbar\": {\"outlinewidth\": 0, \"ticks\": \"\"}, \"colorscale\": [[0.0, \"#0d0887\"], [0.1111111111111111, \"#46039f\"], [0.2222222222222222, \"#7201a8\"], [0.3333333333333333, \"#9c179e\"], [0.4444444444444444, \"#bd3786\"], [0.5555555555555556, \"#d8576b\"], [0.6666666666666666, \"#ed7953\"], [0.7777777777777778, \"#fb9f3a\"], [0.8888888888888888, \"#fdca26\"], [1.0, \"#f0f921\"]], \"type\": \"surface\"}], \"table\": [{\"cells\": {\"fill\": {\"color\": \"#EBF0F8\"}, \"line\": {\"color\": \"white\"}}, \"header\": {\"fill\": {\"color\": \"#C8D4E3\"}, \"line\": {\"color\": \"white\"}}, \"type\": \"table\"}]}, \"layout\": {\"annotationdefaults\": {\"arrowcolor\": \"#2a3f5f\", \"arrowhead\": 0, \"arrowwidth\": 1}, \"autotypenumbers\": \"strict\", \"coloraxis\": {\"colorbar\": {\"outlinewidth\": 0, \"ticks\": \"\"}}, \"colorscale\": {\"diverging\": [[0, \"#8e0152\"], [0.1, \"#c51b7d\"], [0.2, \"#de77ae\"], [0.3, \"#f1b6da\"], [0.4, \"#fde0ef\"], [0.5, \"#f7f7f7\"], [0.6, \"#e6f5d0\"], [0.7, \"#b8e186\"], [0.8, \"#7fbc41\"], [0.9, \"#4d9221\"], [1, \"#276419\"]], \"sequential\": [[0.0, \"#0d0887\"], [0.1111111111111111, \"#46039f\"], [0.2222222222222222, \"#7201a8\"], [0.3333333333333333, \"#9c179e\"], [0.4444444444444444, \"#bd3786\"], [0.5555555555555556, \"#d8576b\"], [0.6666666666666666, \"#ed7953\"], [0.7777777777777778, \"#fb9f3a\"], [0.8888888888888888, \"#fdca26\"], [1.0, \"#f0f921\"]], \"sequentialminus\": [[0.0, \"#0d0887\"], [0.1111111111111111, \"#46039f\"], [0.2222222222222222, \"#7201a8\"], [0.3333333333333333, \"#9c179e\"], [0.4444444444444444, \"#bd3786\"], [0.5555555555555556, \"#d8576b\"], [0.6666666666666666, \"#ed7953\"], [0.7777777777777778, \"#fb9f3a\"], [0.8888888888888888, \"#fdca26\"], [1.0, \"#f0f921\"]]}, \"colorway\": [\"#636efa\", \"#EF553B\", \"#00cc96\", \"#ab63fa\", \"#FFA15A\", \"#19d3f3\", \"#FF6692\", \"#B6E880\", \"#FF97FF\", \"#FECB52\"], \"font\": {\"color\": \"#2a3f5f\"}, \"geo\": {\"bgcolor\": \"white\", \"lakecolor\": \"white\", \"landcolor\": \"#E5ECF6\", \"showlakes\": true, \"showland\": true, \"subunitcolor\": \"white\"}, \"hoverlabel\": {\"align\": \"left\"}, \"hovermode\": \"closest\", \"mapbox\": {\"style\": \"light\"}, \"paper_bgcolor\": \"white\", \"plot_bgcolor\": \"#E5ECF6\", \"polar\": {\"angularaxis\": {\"gridcolor\": \"white\", \"linecolor\": \"white\", \"ticks\": \"\"}, \"bgcolor\": \"#E5ECF6\", \"radialaxis\": {\"gridcolor\": \"white\", \"linecolor\": \"white\", \"ticks\": \"\"}}, \"scene\": {\"xaxis\": {\"backgroundcolor\": \"#E5ECF6\", \"gridcolor\": \"white\", \"gridwidth\": 2, \"linecolor\": \"white\", \"showbackground\": true, \"ticks\": \"\", \"zerolinecolor\": \"white\"}, \"yaxis\": {\"backgroundcolor\": \"#E5ECF6\", \"gridcolor\": \"white\", \"gridwidth\": 2, \"linecolor\": \"white\", \"showbackground\": true, \"ticks\": \"\", \"zerolinecolor\": \"white\"}, \"zaxis\": {\"backgroundcolor\": \"#E5ECF6\", \"gridcolor\": \"white\", \"gridwidth\": 2, \"linecolor\": \"white\", \"showbackground\": true, \"ticks\": \"\", \"zerolinecolor\": \"white\"}}, \"shapedefaults\": {\"line\": {\"color\": \"#2a3f5f\"}}, \"ternary\": {\"aaxis\": {\"gridcolor\": \"white\", \"linecolor\": \"white\", \"ticks\": \"\"}, \"baxis\": {\"gridcolor\": \"white\", \"linecolor\": \"white\", \"ticks\": \"\"}, \"bgcolor\": \"#E5ECF6\", \"caxis\": {\"gridcolor\": \"white\", \"linecolor\": \"white\", \"ticks\": \"\"}}, \"title\": {\"x\": 0.05}, \"xaxis\": {\"automargin\": true, \"gridcolor\": \"white\", \"linecolor\": \"white\", \"ticks\": \"\", \"title\": {\"standoff\": 15}, \"zerolinecolor\": \"white\", \"zerolinewidth\": 2}, \"yaxis\": {\"automargin\": true, \"gridcolor\": \"white\", \"linecolor\": \"white\", \"ticks\": \"\", \"title\": {\"standoff\": 15}, \"zerolinecolor\": \"white\", \"zerolinewidth\": 2}}}},                        {\"responsive\": true}                    ).then(function(){\n",
       "                            \n",
       "var gd = document.getElementById('9d3d81d5-0e8b-4551-8cb3-cd0e7f747b8b');\n",
       "var x = new MutationObserver(function (mutations, observer) {{\n",
       "        var display = window.getComputedStyle(gd).display;\n",
       "        if (!display || display === 'none') {{\n",
       "            console.log([gd, 'removed!']);\n",
       "            Plotly.purge(gd);\n",
       "            observer.disconnect();\n",
       "        }}\n",
       "}});\n",
       "\n",
       "// Listen for the removal of the full notebook cells\n",
       "var notebookContainer = gd.closest('#notebook-container');\n",
       "if (notebookContainer) {{\n",
       "    x.observe(notebookContainer, {childList: true});\n",
       "}}\n",
       "\n",
       "// Listen for the clearing of the current output cell\n",
       "var outputEl = gd.closest('.output');\n",
       "if (outputEl) {{\n",
       "    x.observe(outputEl, {childList: true});\n",
       "}}\n",
       "\n",
       "                        })                };                });            </script>        </div>"
      ]
     },
     "metadata": {},
     "output_type": "display_data"
    }
   ],
   "source": [
    "size = [20, 40, 60, 80, 100, 80, 60, 40, 20, 40]\n",
    "fig = go.Figure(data=[go.Scatter(\n",
    "    x=features,\n",
    "    y=true_labels,\n",
    "    mode='markers',\n",
    "    marker=dict(\n",
    "        size=features,\n",
    "        sizemode='area',\n",
    "        sizeref=2.*max(size)/(40.**2),\n",
    "        sizemin=4\n",
    "    )\n",
    ")])\n",
    "\n",
    "fig.show()"
   ]
  },
  {
   "cell_type": "code",
   "execution_count": 202,
   "metadata": {},
   "outputs": [
    {
     "data": {
      "image/png": "[encoded data removed]",
      "text/plain": [
       "<Figure size 1152x864 with 1 Axes>"
      ]
     },
     "metadata": {
      "needs_background": "light"
     },
     "output_type": "display_data"
    }
   ],
   "source": [
    "from collections import Counter\n",
    "import matplotlib.pyplot as plt\n",
    "from wordcloud import WordCloud\n",
    "\n",
    "cloud = WordCloud(max_font_size=80,colormap=\"hsv\").generate_from_frequencies(dico)\n",
    "plt.figure(figsize=(16,12))\n",
    "plt.imshow(cloud, interpolation='bilinear')\n",
    "plt.axis('off')\n",
    "plt.show()"
   ]
  },
  {
   "cell_type": "code",
   "execution_count": null,
   "metadata": {},
   "outputs": [],
   "source": []
  }
 ],
 "metadata": {
  "kernelspec": {
   "display_name": "Python 3",
   "language": "python",
   "name": "python3"
  },
  "language_info": {
   "codemirror_mode": {
    "name": "ipython",
    "version": 3
   },
   "file_extension": ".py",
   "mimetype": "text/x-python",
   "name": "python",
   "nbconvert_exporter": "python",
   "pygments_lexer": "ipython3",
   "version": "3.8.5"
  }
 },
 "nbformat": 4,
 "nbformat_minor": 4
}
